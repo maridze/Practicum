{
 "cells": [
  {
   "cell_type": "markdown",
   "metadata": {
    "toc": true
   },
   "source": [
    "<h1>Содержание<span class=\"tocSkip\"></span></h1>\n",
    "<div class=\"toc\"><ul class=\"toc-item\"><li><span><a href=\"#Подготовка-данных\" data-toc-modified-id=\"Подготовка-данных-1\"><span class=\"toc-item-num\">1&nbsp;&nbsp;</span>Подготовка данных</a></span><ul class=\"toc-item\"><li><span><a href=\"#Откройте-файлы-и-изучите-их\" data-toc-modified-id=\"Откройте-файлы-и-изучите-их-1.1\"><span class=\"toc-item-num\">1.1&nbsp;&nbsp;</span>Откройте файлы и изучите их</a></span></li><li><span><a href=\"#Проверьте,-что-эффективность-обогащения-рассчитана-правильно\" data-toc-modified-id=\"Проверьте,-что-эффективность-обогащения-рассчитана-правильно-1.2\"><span class=\"toc-item-num\">1.2&nbsp;&nbsp;</span>Проверьте, что эффективность обогащения рассчитана правильно</a></span></li><li><span><a href=\"#Проанализируйте-признаки,-недоступные-в-тестовой-выборке.\" data-toc-modified-id=\"Проанализируйте-признаки,-недоступные-в-тестовой-выборке.-1.3\"><span class=\"toc-item-num\">1.3&nbsp;&nbsp;</span>Проанализируйте признаки, недоступные в тестовой выборке.</a></span></li><li><span><a href=\"#Предобработка-данных.\" data-toc-modified-id=\"Предобработка-данных.-1.4\"><span class=\"toc-item-num\">1.4&nbsp;&nbsp;</span>Предобработка данных.</a></span></li></ul></li><li><span><a href=\"#Анализ-данных\" data-toc-modified-id=\"Анализ-данных-2\"><span class=\"toc-item-num\">2&nbsp;&nbsp;</span>Анализ данных</a></span><ul class=\"toc-item\"><li><span><a href=\"#Посмотрите,-как-меняется-концентрация-металлов-(Au,-Ag,-Pb)-на-различных-этапах-очистки.\" data-toc-modified-id=\"Посмотрите,-как-меняется-концентрация-металлов-(Au,-Ag,-Pb)-на-различных-этапах-очистки.-2.1\"><span class=\"toc-item-num\">2.1&nbsp;&nbsp;</span>Посмотрите, как меняется концентрация металлов (Au, Ag, Pb) на различных этапах очистки.</a></span></li><li><span><a href=\"#Сравните-распределения-размеров-гранул-сырья-на-обучающей-и-тестовой-выборках.\" data-toc-modified-id=\"Сравните-распределения-размеров-гранул-сырья-на-обучающей-и-тестовой-выборках.-2.2\"><span class=\"toc-item-num\">2.2&nbsp;&nbsp;</span>Сравните распределения размеров гранул сырья на обучающей и тестовой выборках.</a></span></li><li><span><a href=\"#Исследуйте-суммарную-концентрацию-всех-веществ-на-разных-стадиях:-в-сырье,-в-черновом-и-финальном-концентратах.\" data-toc-modified-id=\"Исследуйте-суммарную-концентрацию-всех-веществ-на-разных-стадиях:-в-сырье,-в-черновом-и-финальном-концентратах.-2.3\"><span class=\"toc-item-num\">2.3&nbsp;&nbsp;</span>Исследуйте суммарную концентрацию всех веществ на разных стадиях: в сырье, в черновом и финальном концентратах.</a></span></li></ul></li><li><span><a href=\"#Модель\" data-toc-modified-id=\"Модель-3\"><span class=\"toc-item-num\">3&nbsp;&nbsp;</span>Модель</a></span><ul class=\"toc-item\"><li><span><a href=\"#Напишите-функцию-для-вычисления-итоговой-sMAPE.\" data-toc-modified-id=\"Напишите-функцию-для-вычисления-итоговой-sMAPE.-3.1\"><span class=\"toc-item-num\">3.1&nbsp;&nbsp;</span>Напишите функцию для вычисления итоговой sMAPE.</a></span></li><li><span><a href=\"#Обучите-разные-модели-и-оцените-их-качество-кросс-валидацией\" data-toc-modified-id=\"Обучите-разные-модели-и-оцените-их-качество-кросс-валидацией-3.2\"><span class=\"toc-item-num\">3.2&nbsp;&nbsp;</span>Обучите разные модели и оцените их качество кросс-валидацией</a></span></li><li><span><a href=\"#Dummy-model\" data-toc-modified-id=\"Dummy-model-3.3\"><span class=\"toc-item-num\">3.3&nbsp;&nbsp;</span>Dummy model</a></span></li></ul></li><li><span><a href=\"#Итоговый-вывод\" data-toc-modified-id=\"Итоговый-вывод-4\"><span class=\"toc-item-num\">4&nbsp;&nbsp;</span>Итоговый вывод</a></span></li><li><span><a href=\"#Чек-лист-готовности-проекта\" data-toc-modified-id=\"Чек-лист-готовности-проекта-5\"><span class=\"toc-item-num\">5&nbsp;&nbsp;</span>Чек-лист готовности проекта</a></span></li></ul></div>"
   ]
  },
  {
   "cell_type": "markdown",
   "metadata": {},
   "source": [
    "# Восстановление золота из руды"
   ]
  },
  {
   "cell_type": "markdown",
   "metadata": {},
   "source": [
    "Подготовьте прототип модели машинного обучения для «Цифры». Компания разрабатывает решения для эффективной работы промышленных предприятий.\n",
    "\n",
    "Модель должна предсказать коэффициент восстановления золота из золотосодержащей руды. Используйте данные с параметрами добычи и очистки. \n",
    "\n",
    "Модель поможет оптимизировать производство, чтобы не запускать предприятие с убыточными характеристиками.\n",
    "\n",
    "Вам нужно:\n",
    "\n",
    "1. Подготовить данные;\n",
    "2. Провести исследовательский анализ данных;\n",
    "3. Построить и обучить модель.\n",
    "\n",
    "Чтобы выполнить проект, обращайтесь к библиотекам *pandas*, *matplotlib* и *sklearn.* Вам поможет их документация."
   ]
  },
  {
   "cell_type": "markdown",
   "metadata": {},
   "source": [
    "## Подготовка данных"
   ]
  },
  {
   "cell_type": "code",
   "execution_count": 1,
   "metadata": {},
   "outputs": [],
   "source": [
    "import pandas as pd\n",
    "import numpy as np\n",
    "import seaborn as sns\n",
    "from matplotlib import pyplot as plt\n",
    "from sklearn.metrics import mean_absolute_error\n",
    "from scipy import stats as st\n",
    "from sklearn.metrics import make_scorer\n",
    "from sklearn.linear_model import LinearRegression\n",
    "from sklearn.ensemble import RandomForestRegressor\n",
    "from sklearn.tree import DecisionTreeRegressor\n",
    "from sklearn.pipeline import make_pipeline\n",
    "from sklearn.preprocessing import MinMaxScaler\n",
    "from sklearn.preprocessing import StandardScaler\n",
    "from sklearn.metrics import mean_squared_error\n",
    "from sklearn.model_selection import GridSearchCV\n",
    "from sklearn.model_selection import cross_val_score\n",
    "from sklearn.dummy import DummyRegressor"
   ]
  },
  {
   "cell_type": "code",
   "execution_count": 2,
   "metadata": {},
   "outputs": [],
   "source": [
    "df_train = pd.read_csv('/datasets/gold_recovery_train_new.csv')\n",
    "df_test = pd.read_csv('/datasets/gold_recovery_test_new.csv')\n",
    "df_full = pd.read_csv('/datasets/gold_recovery_full_new.csv')\n",
    "\n",
    "data_list=[df_train, df_test, df_full]"
   ]
  },
  {
   "cell_type": "markdown",
   "metadata": {},
   "source": [
    "### Откройте файлы и изучите их"
   ]
  },
  {
   "cell_type": "code",
   "execution_count": 3,
   "metadata": {
    "collapsed": true
   },
   "outputs": [
    {
     "name": "stdout",
     "output_type": "stream",
     "text": [
      "<class 'pandas.core.frame.DataFrame'>\n",
      "RangeIndex: 14149 entries, 0 to 14148\n",
      "Data columns (total 87 columns):\n",
      " #   Column                                              Non-Null Count  Dtype  \n",
      "---  ------                                              --------------  -----  \n",
      " 0   date                                                14149 non-null  object \n",
      " 1   final.output.concentrate_ag                         14148 non-null  float64\n",
      " 2   final.output.concentrate_pb                         14148 non-null  float64\n",
      " 3   final.output.concentrate_sol                        13938 non-null  float64\n",
      " 4   final.output.concentrate_au                         14149 non-null  float64\n",
      " 5   final.output.recovery                               14149 non-null  float64\n",
      " 6   final.output.tail_ag                                14149 non-null  float64\n",
      " 7   final.output.tail_pb                                14049 non-null  float64\n",
      " 8   final.output.tail_sol                               14144 non-null  float64\n",
      " 9   final.output.tail_au                                14149 non-null  float64\n",
      " 10  primary_cleaner.input.sulfate                       14129 non-null  float64\n",
      " 11  primary_cleaner.input.depressant                    14117 non-null  float64\n",
      " 12  primary_cleaner.input.feed_size                     14149 non-null  float64\n",
      " 13  primary_cleaner.input.xanthate                      14049 non-null  float64\n",
      " 14  primary_cleaner.output.concentrate_ag               14149 non-null  float64\n",
      " 15  primary_cleaner.output.concentrate_pb               14063 non-null  float64\n",
      " 16  primary_cleaner.output.concentrate_sol              13863 non-null  float64\n",
      " 17  primary_cleaner.output.concentrate_au               14149 non-null  float64\n",
      " 18  primary_cleaner.output.tail_ag                      14148 non-null  float64\n",
      " 19  primary_cleaner.output.tail_pb                      14134 non-null  float64\n",
      " 20  primary_cleaner.output.tail_sol                     14103 non-null  float64\n",
      " 21  primary_cleaner.output.tail_au                      14149 non-null  float64\n",
      " 22  primary_cleaner.state.floatbank8_a_air              14145 non-null  float64\n",
      " 23  primary_cleaner.state.floatbank8_a_level            14148 non-null  float64\n",
      " 24  primary_cleaner.state.floatbank8_b_air              14145 non-null  float64\n",
      " 25  primary_cleaner.state.floatbank8_b_level            14148 non-null  float64\n",
      " 26  primary_cleaner.state.floatbank8_c_air              14147 non-null  float64\n",
      " 27  primary_cleaner.state.floatbank8_c_level            14148 non-null  float64\n",
      " 28  primary_cleaner.state.floatbank8_d_air              14146 non-null  float64\n",
      " 29  primary_cleaner.state.floatbank8_d_level            14148 non-null  float64\n",
      " 30  rougher.calculation.sulfate_to_au_concentrate       14148 non-null  float64\n",
      " 31  rougher.calculation.floatbank10_sulfate_to_au_feed  14148 non-null  float64\n",
      " 32  rougher.calculation.floatbank11_sulfate_to_au_feed  14148 non-null  float64\n",
      " 33  rougher.calculation.au_pb_ratio                     14149 non-null  float64\n",
      " 34  rougher.input.feed_ag                               14149 non-null  float64\n",
      " 35  rougher.input.feed_pb                               14049 non-null  float64\n",
      " 36  rougher.input.feed_rate                             14141 non-null  float64\n",
      " 37  rougher.input.feed_size                             14005 non-null  float64\n",
      " 38  rougher.input.feed_sol                              14071 non-null  float64\n",
      " 39  rougher.input.feed_au                               14149 non-null  float64\n",
      " 40  rougher.input.floatbank10_sulfate                   14120 non-null  float64\n",
      " 41  rougher.input.floatbank10_xanthate                  14141 non-null  float64\n",
      " 42  rougher.input.floatbank11_sulfate                   14113 non-null  float64\n",
      " 43  rougher.input.floatbank11_xanthate                  13721 non-null  float64\n",
      " 44  rougher.output.concentrate_ag                       14149 non-null  float64\n",
      " 45  rougher.output.concentrate_pb                       14149 non-null  float64\n",
      " 46  rougher.output.concentrate_sol                      14127 non-null  float64\n",
      " 47  rougher.output.concentrate_au                       14149 non-null  float64\n",
      " 48  rougher.output.recovery                             14149 non-null  float64\n",
      " 49  rougher.output.tail_ag                              14148 non-null  float64\n",
      " 50  rougher.output.tail_pb                              14149 non-null  float64\n",
      " 51  rougher.output.tail_sol                             14149 non-null  float64\n",
      " 52  rougher.output.tail_au                              14149 non-null  float64\n",
      " 53  rougher.state.floatbank10_a_air                     14148 non-null  float64\n",
      " 54  rougher.state.floatbank10_a_level                   14148 non-null  float64\n",
      " 55  rougher.state.floatbank10_b_air                     14148 non-null  float64\n",
      " 56  rougher.state.floatbank10_b_level                   14148 non-null  float64\n",
      " 57  rougher.state.floatbank10_c_air                     14148 non-null  float64\n",
      " 58  rougher.state.floatbank10_c_level                   14148 non-null  float64\n",
      " 59  rougher.state.floatbank10_d_air                     14149 non-null  float64\n",
      " 60  rougher.state.floatbank10_d_level                   14149 non-null  float64\n",
      " 61  rougher.state.floatbank10_e_air                     13713 non-null  float64\n",
      " 62  rougher.state.floatbank10_e_level                   14149 non-null  float64\n",
      " 63  rougher.state.floatbank10_f_air                     14149 non-null  float64\n",
      " 64  rougher.state.floatbank10_f_level                   14149 non-null  float64\n",
      " 65  secondary_cleaner.output.tail_ag                    14147 non-null  float64\n",
      " 66  secondary_cleaner.output.tail_pb                    14139 non-null  float64\n",
      " 67  secondary_cleaner.output.tail_sol                   12544 non-null  float64\n",
      " 68  secondary_cleaner.output.tail_au                    14149 non-null  float64\n",
      " 69  secondary_cleaner.state.floatbank2_a_air            13932 non-null  float64\n",
      " 70  secondary_cleaner.state.floatbank2_a_level          14148 non-null  float64\n",
      " 71  secondary_cleaner.state.floatbank2_b_air            14128 non-null  float64\n",
      " 72  secondary_cleaner.state.floatbank2_b_level          14148 non-null  float64\n",
      " 73  secondary_cleaner.state.floatbank3_a_air            14145 non-null  float64\n",
      " 74  secondary_cleaner.state.floatbank3_a_level          14148 non-null  float64\n",
      " 75  secondary_cleaner.state.floatbank3_b_air            14148 non-null  float64\n",
      " 76  secondary_cleaner.state.floatbank3_b_level          14148 non-null  float64\n",
      " 77  secondary_cleaner.state.floatbank4_a_air            14143 non-null  float64\n",
      " 78  secondary_cleaner.state.floatbank4_a_level          14148 non-null  float64\n",
      " 79  secondary_cleaner.state.floatbank4_b_air            14148 non-null  float64\n",
      " 80  secondary_cleaner.state.floatbank4_b_level          14148 non-null  float64\n",
      " 81  secondary_cleaner.state.floatbank5_a_air            14148 non-null  float64\n",
      " 82  secondary_cleaner.state.floatbank5_a_level          14148 non-null  float64\n",
      " 83  secondary_cleaner.state.floatbank5_b_air            14148 non-null  float64\n",
      " 84  secondary_cleaner.state.floatbank5_b_level          14148 non-null  float64\n",
      " 85  secondary_cleaner.state.floatbank6_a_air            14147 non-null  float64\n",
      " 86  secondary_cleaner.state.floatbank6_a_level          14148 non-null  float64\n",
      "dtypes: float64(86), object(1)\n",
      "memory usage: 9.4+ MB\n"
     ]
    },
    {
     "data": {
      "text/plain": [
       "None"
      ]
     },
     "metadata": {},
     "output_type": "display_data"
    },
    {
     "data": {
      "text/html": [
       "<div>\n",
       "<style scoped>\n",
       "    .dataframe tbody tr th:only-of-type {\n",
       "        vertical-align: middle;\n",
       "    }\n",
       "\n",
       "    .dataframe tbody tr th {\n",
       "        vertical-align: top;\n",
       "    }\n",
       "\n",
       "    .dataframe thead th {\n",
       "        text-align: right;\n",
       "    }\n",
       "</style>\n",
       "<table border=\"1\" class=\"dataframe\">\n",
       "  <thead>\n",
       "    <tr style=\"text-align: right;\">\n",
       "      <th></th>\n",
       "      <th>final.output.concentrate_ag</th>\n",
       "      <th>final.output.concentrate_pb</th>\n",
       "      <th>final.output.concentrate_sol</th>\n",
       "      <th>final.output.concentrate_au</th>\n",
       "      <th>final.output.recovery</th>\n",
       "      <th>final.output.tail_ag</th>\n",
       "      <th>final.output.tail_pb</th>\n",
       "      <th>final.output.tail_sol</th>\n",
       "      <th>final.output.tail_au</th>\n",
       "      <th>primary_cleaner.input.sulfate</th>\n",
       "      <th>...</th>\n",
       "      <th>secondary_cleaner.state.floatbank4_a_air</th>\n",
       "      <th>secondary_cleaner.state.floatbank4_a_level</th>\n",
       "      <th>secondary_cleaner.state.floatbank4_b_air</th>\n",
       "      <th>secondary_cleaner.state.floatbank4_b_level</th>\n",
       "      <th>secondary_cleaner.state.floatbank5_a_air</th>\n",
       "      <th>secondary_cleaner.state.floatbank5_a_level</th>\n",
       "      <th>secondary_cleaner.state.floatbank5_b_air</th>\n",
       "      <th>secondary_cleaner.state.floatbank5_b_level</th>\n",
       "      <th>secondary_cleaner.state.floatbank6_a_air</th>\n",
       "      <th>secondary_cleaner.state.floatbank6_a_level</th>\n",
       "    </tr>\n",
       "  </thead>\n",
       "  <tbody>\n",
       "    <tr>\n",
       "      <th>count</th>\n",
       "      <td>14148.000000</td>\n",
       "      <td>14148.000000</td>\n",
       "      <td>13938.000000</td>\n",
       "      <td>14149.000000</td>\n",
       "      <td>14149.000000</td>\n",
       "      <td>14149.000000</td>\n",
       "      <td>14049.000000</td>\n",
       "      <td>14144.000000</td>\n",
       "      <td>14149.000000</td>\n",
       "      <td>14129.000000</td>\n",
       "      <td>...</td>\n",
       "      <td>14143.000000</td>\n",
       "      <td>14148.000000</td>\n",
       "      <td>14148.000000</td>\n",
       "      <td>14148.000000</td>\n",
       "      <td>14148.000000</td>\n",
       "      <td>14148.000000</td>\n",
       "      <td>14148.000000</td>\n",
       "      <td>14148.000000</td>\n",
       "      <td>14147.000000</td>\n",
       "      <td>14148.000000</td>\n",
       "    </tr>\n",
       "    <tr>\n",
       "      <th>mean</th>\n",
       "      <td>5.142034</td>\n",
       "      <td>10.132960</td>\n",
       "      <td>9.202849</td>\n",
       "      <td>44.003792</td>\n",
       "      <td>66.518832</td>\n",
       "      <td>9.607035</td>\n",
       "      <td>2.597298</td>\n",
       "      <td>10.512122</td>\n",
       "      <td>2.918421</td>\n",
       "      <td>133.320659</td>\n",
       "      <td>...</td>\n",
       "      <td>19.985454</td>\n",
       "      <td>-478.696836</td>\n",
       "      <td>15.487065</td>\n",
       "      <td>-460.229416</td>\n",
       "      <td>16.775136</td>\n",
       "      <td>-483.956022</td>\n",
       "      <td>13.064590</td>\n",
       "      <td>-483.966564</td>\n",
       "      <td>19.577539</td>\n",
       "      <td>-506.798480</td>\n",
       "    </tr>\n",
       "    <tr>\n",
       "      <th>std</th>\n",
       "      <td>1.369586</td>\n",
       "      <td>1.654930</td>\n",
       "      <td>2.790516</td>\n",
       "      <td>4.905261</td>\n",
       "      <td>10.295402</td>\n",
       "      <td>2.319069</td>\n",
       "      <td>0.971843</td>\n",
       "      <td>3.003617</td>\n",
       "      <td>0.903712</td>\n",
       "      <td>39.431659</td>\n",
       "      <td>...</td>\n",
       "      <td>5.657723</td>\n",
       "      <td>50.736021</td>\n",
       "      <td>5.255655</td>\n",
       "      <td>58.843586</td>\n",
       "      <td>5.831906</td>\n",
       "      <td>37.892788</td>\n",
       "      <td>5.765617</td>\n",
       "      <td>39.207913</td>\n",
       "      <td>5.764417</td>\n",
       "      <td>37.079249</td>\n",
       "    </tr>\n",
       "    <tr>\n",
       "      <th>min</th>\n",
       "      <td>0.000000</td>\n",
       "      <td>0.000000</td>\n",
       "      <td>0.000000</td>\n",
       "      <td>0.000000</td>\n",
       "      <td>0.000000</td>\n",
       "      <td>0.000000</td>\n",
       "      <td>0.000000</td>\n",
       "      <td>0.000000</td>\n",
       "      <td>0.000000</td>\n",
       "      <td>0.003112</td>\n",
       "      <td>...</td>\n",
       "      <td>0.000000</td>\n",
       "      <td>-799.709069</td>\n",
       "      <td>0.000000</td>\n",
       "      <td>-799.889113</td>\n",
       "      <td>-0.372054</td>\n",
       "      <td>-797.142475</td>\n",
       "      <td>0.646208</td>\n",
       "      <td>-800.006180</td>\n",
       "      <td>0.195324</td>\n",
       "      <td>-809.398668</td>\n",
       "    </tr>\n",
       "    <tr>\n",
       "      <th>25%</th>\n",
       "      <td>4.211620</td>\n",
       "      <td>9.297355</td>\n",
       "      <td>7.484645</td>\n",
       "      <td>43.276111</td>\n",
       "      <td>62.545817</td>\n",
       "      <td>7.997429</td>\n",
       "      <td>1.905973</td>\n",
       "      <td>8.811324</td>\n",
       "      <td>2.368607</td>\n",
       "      <td>107.006651</td>\n",
       "      <td>...</td>\n",
       "      <td>14.990775</td>\n",
       "      <td>-500.628656</td>\n",
       "      <td>11.894558</td>\n",
       "      <td>-500.149000</td>\n",
       "      <td>11.083980</td>\n",
       "      <td>-500.363177</td>\n",
       "      <td>8.994405</td>\n",
       "      <td>-500.105994</td>\n",
       "      <td>14.989304</td>\n",
       "      <td>-500.745104</td>\n",
       "    </tr>\n",
       "    <tr>\n",
       "      <th>50%</th>\n",
       "      <td>4.994652</td>\n",
       "      <td>10.297144</td>\n",
       "      <td>8.845462</td>\n",
       "      <td>44.872436</td>\n",
       "      <td>67.432775</td>\n",
       "      <td>9.480270</td>\n",
       "      <td>2.592022</td>\n",
       "      <td>10.514621</td>\n",
       "      <td>2.851025</td>\n",
       "      <td>133.018328</td>\n",
       "      <td>...</td>\n",
       "      <td>20.001789</td>\n",
       "      <td>-499.681450</td>\n",
       "      <td>14.975536</td>\n",
       "      <td>-499.388738</td>\n",
       "      <td>17.932223</td>\n",
       "      <td>-499.702452</td>\n",
       "      <td>11.997547</td>\n",
       "      <td>-499.914556</td>\n",
       "      <td>19.984175</td>\n",
       "      <td>-500.061431</td>\n",
       "    </tr>\n",
       "    <tr>\n",
       "      <th>75%</th>\n",
       "      <td>5.859540</td>\n",
       "      <td>11.170603</td>\n",
       "      <td>10.487508</td>\n",
       "      <td>46.166425</td>\n",
       "      <td>72.346428</td>\n",
       "      <td>11.003707</td>\n",
       "      <td>3.241723</td>\n",
       "      <td>11.933009</td>\n",
       "      <td>3.434764</td>\n",
       "      <td>159.825396</td>\n",
       "      <td>...</td>\n",
       "      <td>24.990826</td>\n",
       "      <td>-477.472413</td>\n",
       "      <td>20.059375</td>\n",
       "      <td>-400.039008</td>\n",
       "      <td>21.346550</td>\n",
       "      <td>-487.712108</td>\n",
       "      <td>17.982903</td>\n",
       "      <td>-453.186936</td>\n",
       "      <td>24.991623</td>\n",
       "      <td>-499.536466</td>\n",
       "    </tr>\n",
       "    <tr>\n",
       "      <th>max</th>\n",
       "      <td>16.001945</td>\n",
       "      <td>17.031899</td>\n",
       "      <td>18.124851</td>\n",
       "      <td>52.756638</td>\n",
       "      <td>100.000000</td>\n",
       "      <td>19.552149</td>\n",
       "      <td>5.639565</td>\n",
       "      <td>22.317730</td>\n",
       "      <td>8.197408</td>\n",
       "      <td>250.127834</td>\n",
       "      <td>...</td>\n",
       "      <td>30.115735</td>\n",
       "      <td>-245.239184</td>\n",
       "      <td>24.007913</td>\n",
       "      <td>-145.071088</td>\n",
       "      <td>43.709931</td>\n",
       "      <td>-275.073125</td>\n",
       "      <td>27.926001</td>\n",
       "      <td>-157.396071</td>\n",
       "      <td>32.188906</td>\n",
       "      <td>-104.427459</td>\n",
       "    </tr>\n",
       "  </tbody>\n",
       "</table>\n",
       "<p>8 rows × 86 columns</p>\n",
       "</div>"
      ],
      "text/plain": [
       "       final.output.concentrate_ag  final.output.concentrate_pb  \\\n",
       "count                 14148.000000                 14148.000000   \n",
       "mean                      5.142034                    10.132960   \n",
       "std                       1.369586                     1.654930   \n",
       "min                       0.000000                     0.000000   \n",
       "25%                       4.211620                     9.297355   \n",
       "50%                       4.994652                    10.297144   \n",
       "75%                       5.859540                    11.170603   \n",
       "max                      16.001945                    17.031899   \n",
       "\n",
       "       final.output.concentrate_sol  final.output.concentrate_au  \\\n",
       "count                  13938.000000                 14149.000000   \n",
       "mean                       9.202849                    44.003792   \n",
       "std                        2.790516                     4.905261   \n",
       "min                        0.000000                     0.000000   \n",
       "25%                        7.484645                    43.276111   \n",
       "50%                        8.845462                    44.872436   \n",
       "75%                       10.487508                    46.166425   \n",
       "max                       18.124851                    52.756638   \n",
       "\n",
       "       final.output.recovery  final.output.tail_ag  final.output.tail_pb  \\\n",
       "count           14149.000000          14149.000000          14049.000000   \n",
       "mean               66.518832              9.607035              2.597298   \n",
       "std                10.295402              2.319069              0.971843   \n",
       "min                 0.000000              0.000000              0.000000   \n",
       "25%                62.545817              7.997429              1.905973   \n",
       "50%                67.432775              9.480270              2.592022   \n",
       "75%                72.346428             11.003707              3.241723   \n",
       "max               100.000000             19.552149              5.639565   \n",
       "\n",
       "       final.output.tail_sol  final.output.tail_au  \\\n",
       "count           14144.000000          14149.000000   \n",
       "mean               10.512122              2.918421   \n",
       "std                 3.003617              0.903712   \n",
       "min                 0.000000              0.000000   \n",
       "25%                 8.811324              2.368607   \n",
       "50%                10.514621              2.851025   \n",
       "75%                11.933009              3.434764   \n",
       "max                22.317730              8.197408   \n",
       "\n",
       "       primary_cleaner.input.sulfate  ...  \\\n",
       "count                   14129.000000  ...   \n",
       "mean                      133.320659  ...   \n",
       "std                        39.431659  ...   \n",
       "min                         0.003112  ...   \n",
       "25%                       107.006651  ...   \n",
       "50%                       133.018328  ...   \n",
       "75%                       159.825396  ...   \n",
       "max                       250.127834  ...   \n",
       "\n",
       "       secondary_cleaner.state.floatbank4_a_air  \\\n",
       "count                              14143.000000   \n",
       "mean                                  19.985454   \n",
       "std                                    5.657723   \n",
       "min                                    0.000000   \n",
       "25%                                   14.990775   \n",
       "50%                                   20.001789   \n",
       "75%                                   24.990826   \n",
       "max                                   30.115735   \n",
       "\n",
       "       secondary_cleaner.state.floatbank4_a_level  \\\n",
       "count                                14148.000000   \n",
       "mean                                  -478.696836   \n",
       "std                                     50.736021   \n",
       "min                                   -799.709069   \n",
       "25%                                   -500.628656   \n",
       "50%                                   -499.681450   \n",
       "75%                                   -477.472413   \n",
       "max                                   -245.239184   \n",
       "\n",
       "       secondary_cleaner.state.floatbank4_b_air  \\\n",
       "count                              14148.000000   \n",
       "mean                                  15.487065   \n",
       "std                                    5.255655   \n",
       "min                                    0.000000   \n",
       "25%                                   11.894558   \n",
       "50%                                   14.975536   \n",
       "75%                                   20.059375   \n",
       "max                                   24.007913   \n",
       "\n",
       "       secondary_cleaner.state.floatbank4_b_level  \\\n",
       "count                                14148.000000   \n",
       "mean                                  -460.229416   \n",
       "std                                     58.843586   \n",
       "min                                   -799.889113   \n",
       "25%                                   -500.149000   \n",
       "50%                                   -499.388738   \n",
       "75%                                   -400.039008   \n",
       "max                                   -145.071088   \n",
       "\n",
       "       secondary_cleaner.state.floatbank5_a_air  \\\n",
       "count                              14148.000000   \n",
       "mean                                  16.775136   \n",
       "std                                    5.831906   \n",
       "min                                   -0.372054   \n",
       "25%                                   11.083980   \n",
       "50%                                   17.932223   \n",
       "75%                                   21.346550   \n",
       "max                                   43.709931   \n",
       "\n",
       "       secondary_cleaner.state.floatbank5_a_level  \\\n",
       "count                                14148.000000   \n",
       "mean                                  -483.956022   \n",
       "std                                     37.892788   \n",
       "min                                   -797.142475   \n",
       "25%                                   -500.363177   \n",
       "50%                                   -499.702452   \n",
       "75%                                   -487.712108   \n",
       "max                                   -275.073125   \n",
       "\n",
       "       secondary_cleaner.state.floatbank5_b_air  \\\n",
       "count                              14148.000000   \n",
       "mean                                  13.064590   \n",
       "std                                    5.765617   \n",
       "min                                    0.646208   \n",
       "25%                                    8.994405   \n",
       "50%                                   11.997547   \n",
       "75%                                   17.982903   \n",
       "max                                   27.926001   \n",
       "\n",
       "       secondary_cleaner.state.floatbank5_b_level  \\\n",
       "count                                14148.000000   \n",
       "mean                                  -483.966564   \n",
       "std                                     39.207913   \n",
       "min                                   -800.006180   \n",
       "25%                                   -500.105994   \n",
       "50%                                   -499.914556   \n",
       "75%                                   -453.186936   \n",
       "max                                   -157.396071   \n",
       "\n",
       "       secondary_cleaner.state.floatbank6_a_air  \\\n",
       "count                              14147.000000   \n",
       "mean                                  19.577539   \n",
       "std                                    5.764417   \n",
       "min                                    0.195324   \n",
       "25%                                   14.989304   \n",
       "50%                                   19.984175   \n",
       "75%                                   24.991623   \n",
       "max                                   32.188906   \n",
       "\n",
       "       secondary_cleaner.state.floatbank6_a_level  \n",
       "count                                14148.000000  \n",
       "mean                                  -506.798480  \n",
       "std                                     37.079249  \n",
       "min                                   -809.398668  \n",
       "25%                                   -500.745104  \n",
       "50%                                   -500.061431  \n",
       "75%                                   -499.536466  \n",
       "max                                   -104.427459  \n",
       "\n",
       "[8 rows x 86 columns]"
      ]
     },
     "metadata": {},
     "output_type": "display_data"
    },
    {
     "name": "stdout",
     "output_type": "stream",
     "text": [
      "<class 'pandas.core.frame.DataFrame'>\n",
      "RangeIndex: 5290 entries, 0 to 5289\n",
      "Data columns (total 53 columns):\n",
      " #   Column                                      Non-Null Count  Dtype  \n",
      "---  ------                                      --------------  -----  \n",
      " 0   date                                        5290 non-null   object \n",
      " 1   primary_cleaner.input.sulfate               5286 non-null   float64\n",
      " 2   primary_cleaner.input.depressant            5285 non-null   float64\n",
      " 3   primary_cleaner.input.feed_size             5290 non-null   float64\n",
      " 4   primary_cleaner.input.xanthate              5286 non-null   float64\n",
      " 5   primary_cleaner.state.floatbank8_a_air      5290 non-null   float64\n",
      " 6   primary_cleaner.state.floatbank8_a_level    5290 non-null   float64\n",
      " 7   primary_cleaner.state.floatbank8_b_air      5290 non-null   float64\n",
      " 8   primary_cleaner.state.floatbank8_b_level    5290 non-null   float64\n",
      " 9   primary_cleaner.state.floatbank8_c_air      5290 non-null   float64\n",
      " 10  primary_cleaner.state.floatbank8_c_level    5290 non-null   float64\n",
      " 11  primary_cleaner.state.floatbank8_d_air      5290 non-null   float64\n",
      " 12  primary_cleaner.state.floatbank8_d_level    5290 non-null   float64\n",
      " 13  rougher.input.feed_ag                       5290 non-null   float64\n",
      " 14  rougher.input.feed_pb                       5290 non-null   float64\n",
      " 15  rougher.input.feed_rate                     5287 non-null   float64\n",
      " 16  rougher.input.feed_size                     5289 non-null   float64\n",
      " 17  rougher.input.feed_sol                      5269 non-null   float64\n",
      " 18  rougher.input.feed_au                       5290 non-null   float64\n",
      " 19  rougher.input.floatbank10_sulfate           5285 non-null   float64\n",
      " 20  rougher.input.floatbank10_xanthate          5290 non-null   float64\n",
      " 21  rougher.input.floatbank11_sulfate           5282 non-null   float64\n",
      " 22  rougher.input.floatbank11_xanthate          5265 non-null   float64\n",
      " 23  rougher.state.floatbank10_a_air             5290 non-null   float64\n",
      " 24  rougher.state.floatbank10_a_level           5290 non-null   float64\n",
      " 25  rougher.state.floatbank10_b_air             5290 non-null   float64\n",
      " 26  rougher.state.floatbank10_b_level           5290 non-null   float64\n",
      " 27  rougher.state.floatbank10_c_air             5290 non-null   float64\n",
      " 28  rougher.state.floatbank10_c_level           5290 non-null   float64\n",
      " 29  rougher.state.floatbank10_d_air             5290 non-null   float64\n",
      " 30  rougher.state.floatbank10_d_level           5290 non-null   float64\n",
      " 31  rougher.state.floatbank10_e_air             5290 non-null   float64\n",
      " 32  rougher.state.floatbank10_e_level           5290 non-null   float64\n",
      " 33  rougher.state.floatbank10_f_air             5290 non-null   float64\n",
      " 34  rougher.state.floatbank10_f_level           5290 non-null   float64\n",
      " 35  secondary_cleaner.state.floatbank2_a_air    5287 non-null   float64\n",
      " 36  secondary_cleaner.state.floatbank2_a_level  5290 non-null   float64\n",
      " 37  secondary_cleaner.state.floatbank2_b_air    5288 non-null   float64\n",
      " 38  secondary_cleaner.state.floatbank2_b_level  5290 non-null   float64\n",
      " 39  secondary_cleaner.state.floatbank3_a_air    5281 non-null   float64\n",
      " 40  secondary_cleaner.state.floatbank3_a_level  5290 non-null   float64\n",
      " 41  secondary_cleaner.state.floatbank3_b_air    5290 non-null   float64\n",
      " 42  secondary_cleaner.state.floatbank3_b_level  5290 non-null   float64\n",
      " 43  secondary_cleaner.state.floatbank4_a_air    5290 non-null   float64\n",
      " 44  secondary_cleaner.state.floatbank4_a_level  5290 non-null   float64\n",
      " 45  secondary_cleaner.state.floatbank4_b_air    5290 non-null   float64\n",
      " 46  secondary_cleaner.state.floatbank4_b_level  5290 non-null   float64\n",
      " 47  secondary_cleaner.state.floatbank5_a_air    5290 non-null   float64\n",
      " 48  secondary_cleaner.state.floatbank5_a_level  5290 non-null   float64\n",
      " 49  secondary_cleaner.state.floatbank5_b_air    5290 non-null   float64\n",
      " 50  secondary_cleaner.state.floatbank5_b_level  5290 non-null   float64\n",
      " 51  secondary_cleaner.state.floatbank6_a_air    5290 non-null   float64\n",
      " 52  secondary_cleaner.state.floatbank6_a_level  5290 non-null   float64\n",
      "dtypes: float64(52), object(1)\n",
      "memory usage: 2.1+ MB\n"
     ]
    },
    {
     "data": {
      "text/plain": [
       "None"
      ]
     },
     "metadata": {},
     "output_type": "display_data"
    },
    {
     "data": {
      "text/html": [
       "<div>\n",
       "<style scoped>\n",
       "    .dataframe tbody tr th:only-of-type {\n",
       "        vertical-align: middle;\n",
       "    }\n",
       "\n",
       "    .dataframe tbody tr th {\n",
       "        vertical-align: top;\n",
       "    }\n",
       "\n",
       "    .dataframe thead th {\n",
       "        text-align: right;\n",
       "    }\n",
       "</style>\n",
       "<table border=\"1\" class=\"dataframe\">\n",
       "  <thead>\n",
       "    <tr style=\"text-align: right;\">\n",
       "      <th></th>\n",
       "      <th>primary_cleaner.input.sulfate</th>\n",
       "      <th>primary_cleaner.input.depressant</th>\n",
       "      <th>primary_cleaner.input.feed_size</th>\n",
       "      <th>primary_cleaner.input.xanthate</th>\n",
       "      <th>primary_cleaner.state.floatbank8_a_air</th>\n",
       "      <th>primary_cleaner.state.floatbank8_a_level</th>\n",
       "      <th>primary_cleaner.state.floatbank8_b_air</th>\n",
       "      <th>primary_cleaner.state.floatbank8_b_level</th>\n",
       "      <th>primary_cleaner.state.floatbank8_c_air</th>\n",
       "      <th>primary_cleaner.state.floatbank8_c_level</th>\n",
       "      <th>...</th>\n",
       "      <th>secondary_cleaner.state.floatbank4_a_air</th>\n",
       "      <th>secondary_cleaner.state.floatbank4_a_level</th>\n",
       "      <th>secondary_cleaner.state.floatbank4_b_air</th>\n",
       "      <th>secondary_cleaner.state.floatbank4_b_level</th>\n",
       "      <th>secondary_cleaner.state.floatbank5_a_air</th>\n",
       "      <th>secondary_cleaner.state.floatbank5_a_level</th>\n",
       "      <th>secondary_cleaner.state.floatbank5_b_air</th>\n",
       "      <th>secondary_cleaner.state.floatbank5_b_level</th>\n",
       "      <th>secondary_cleaner.state.floatbank6_a_air</th>\n",
       "      <th>secondary_cleaner.state.floatbank6_a_level</th>\n",
       "    </tr>\n",
       "  </thead>\n",
       "  <tbody>\n",
       "    <tr>\n",
       "      <th>count</th>\n",
       "      <td>5286.000000</td>\n",
       "      <td>5285.000000</td>\n",
       "      <td>5290.000000</td>\n",
       "      <td>5286.000000</td>\n",
       "      <td>5.290000e+03</td>\n",
       "      <td>5290.000000</td>\n",
       "      <td>5.290000e+03</td>\n",
       "      <td>5290.000000</td>\n",
       "      <td>5.290000e+03</td>\n",
       "      <td>5290.000000</td>\n",
       "      <td>...</td>\n",
       "      <td>5.290000e+03</td>\n",
       "      <td>5290.000000</td>\n",
       "      <td>5.290000e+03</td>\n",
       "      <td>5290.000000</td>\n",
       "      <td>5290.000000</td>\n",
       "      <td>5290.000000</td>\n",
       "      <td>5290.000000</td>\n",
       "      <td>5290.000000</td>\n",
       "      <td>5290.000000</td>\n",
       "      <td>5290.000000</td>\n",
       "    </tr>\n",
       "    <tr>\n",
       "      <th>mean</th>\n",
       "      <td>174.839652</td>\n",
       "      <td>8.683596</td>\n",
       "      <td>7.266339</td>\n",
       "      <td>1.383803</td>\n",
       "      <td>1.539494e+03</td>\n",
       "      <td>-497.665883</td>\n",
       "      <td>1.545174e+03</td>\n",
       "      <td>-500.273098</td>\n",
       "      <td>1.527272e+03</td>\n",
       "      <td>-498.330680</td>\n",
       "      <td>...</td>\n",
       "      <td>1.632007e+01</td>\n",
       "      <td>-505.144570</td>\n",
       "      <td>1.373544e+01</td>\n",
       "      <td>-463.349858</td>\n",
       "      <td>12.804186</td>\n",
       "      <td>-501.329122</td>\n",
       "      <td>9.881145</td>\n",
       "      <td>-495.663398</td>\n",
       "      <td>17.304935</td>\n",
       "      <td>-501.793193</td>\n",
       "    </tr>\n",
       "    <tr>\n",
       "      <th>std</th>\n",
       "      <td>43.027080</td>\n",
       "      <td>3.072050</td>\n",
       "      <td>0.610219</td>\n",
       "      <td>0.643474</td>\n",
       "      <td>1.167979e+02</td>\n",
       "      <td>19.952431</td>\n",
       "      <td>1.222246e+02</td>\n",
       "      <td>32.968307</td>\n",
       "      <td>1.225380e+02</td>\n",
       "      <td>21.964876</td>\n",
       "      <td>...</td>\n",
       "      <td>3.493583e+00</td>\n",
       "      <td>31.427337</td>\n",
       "      <td>3.430484e+00</td>\n",
       "      <td>86.189107</td>\n",
       "      <td>3.026591</td>\n",
       "      <td>17.951495</td>\n",
       "      <td>2.868205</td>\n",
       "      <td>34.535007</td>\n",
       "      <td>4.536544</td>\n",
       "      <td>39.044215</td>\n",
       "    </tr>\n",
       "    <tr>\n",
       "      <th>min</th>\n",
       "      <td>2.566156</td>\n",
       "      <td>0.003839</td>\n",
       "      <td>5.650000</td>\n",
       "      <td>0.004984</td>\n",
       "      <td>5.445860e-32</td>\n",
       "      <td>-795.316337</td>\n",
       "      <td>6.647490e-32</td>\n",
       "      <td>-799.997015</td>\n",
       "      <td>4.033736e-32</td>\n",
       "      <td>-799.960571</td>\n",
       "      <td>...</td>\n",
       "      <td>1.079872e-16</td>\n",
       "      <td>-799.798523</td>\n",
       "      <td>2.489718e-17</td>\n",
       "      <td>-800.836914</td>\n",
       "      <td>0.069227</td>\n",
       "      <td>-797.323986</td>\n",
       "      <td>0.528083</td>\n",
       "      <td>-800.220337</td>\n",
       "      <td>-0.079426</td>\n",
       "      <td>-809.741464</td>\n",
       "    </tr>\n",
       "    <tr>\n",
       "      <th>25%</th>\n",
       "      <td>147.121401</td>\n",
       "      <td>6.489555</td>\n",
       "      <td>6.890000</td>\n",
       "      <td>0.907623</td>\n",
       "      <td>1.498936e+03</td>\n",
       "      <td>-500.357298</td>\n",
       "      <td>1.498971e+03</td>\n",
       "      <td>-500.703002</td>\n",
       "      <td>1.473230e+03</td>\n",
       "      <td>-501.018117</td>\n",
       "      <td>...</td>\n",
       "      <td>1.403618e+01</td>\n",
       "      <td>-500.868258</td>\n",
       "      <td>1.202862e+01</td>\n",
       "      <td>-500.323028</td>\n",
       "      <td>10.914838</td>\n",
       "      <td>-500.726841</td>\n",
       "      <td>8.036719</td>\n",
       "      <td>-500.194668</td>\n",
       "      <td>13.997317</td>\n",
       "      <td>-500.690984</td>\n",
       "    </tr>\n",
       "    <tr>\n",
       "      <th>50%</th>\n",
       "      <td>177.828489</td>\n",
       "      <td>8.052207</td>\n",
       "      <td>7.250000</td>\n",
       "      <td>1.197610</td>\n",
       "      <td>1.585129e+03</td>\n",
       "      <td>-499.969164</td>\n",
       "      <td>1.595622e+03</td>\n",
       "      <td>-500.028514</td>\n",
       "      <td>1.549595e+03</td>\n",
       "      <td>-500.017711</td>\n",
       "      <td>...</td>\n",
       "      <td>1.700847e+01</td>\n",
       "      <td>-500.115727</td>\n",
       "      <td>1.496486e+01</td>\n",
       "      <td>-499.576513</td>\n",
       "      <td>12.954182</td>\n",
       "      <td>-499.990332</td>\n",
       "      <td>10.004301</td>\n",
       "      <td>-499.990535</td>\n",
       "      <td>16.014935</td>\n",
       "      <td>-500.007126</td>\n",
       "    </tr>\n",
       "    <tr>\n",
       "      <th>75%</th>\n",
       "      <td>208.125438</td>\n",
       "      <td>10.027764</td>\n",
       "      <td>7.600000</td>\n",
       "      <td>1.797819</td>\n",
       "      <td>1.602077e+03</td>\n",
       "      <td>-499.568951</td>\n",
       "      <td>1.602324e+03</td>\n",
       "      <td>-499.293257</td>\n",
       "      <td>1.601144e+03</td>\n",
       "      <td>-498.994130</td>\n",
       "      <td>...</td>\n",
       "      <td>1.803862e+01</td>\n",
       "      <td>-499.404224</td>\n",
       "      <td>1.596213e+01</td>\n",
       "      <td>-400.933805</td>\n",
       "      <td>15.097528</td>\n",
       "      <td>-499.283191</td>\n",
       "      <td>11.997467</td>\n",
       "      <td>-499.719913</td>\n",
       "      <td>21.020013</td>\n",
       "      <td>-499.373018</td>\n",
       "    </tr>\n",
       "    <tr>\n",
       "      <th>max</th>\n",
       "      <td>265.983123</td>\n",
       "      <td>40.000000</td>\n",
       "      <td>15.500000</td>\n",
       "      <td>4.102454</td>\n",
       "      <td>2.103104e+03</td>\n",
       "      <td>-57.195404</td>\n",
       "      <td>1.813084e+03</td>\n",
       "      <td>-142.527229</td>\n",
       "      <td>1.715054e+03</td>\n",
       "      <td>-150.937035</td>\n",
       "      <td>...</td>\n",
       "      <td>3.005180e+01</td>\n",
       "      <td>-401.565212</td>\n",
       "      <td>3.126971e+01</td>\n",
       "      <td>-6.506986</td>\n",
       "      <td>25.258848</td>\n",
       "      <td>-244.483566</td>\n",
       "      <td>14.086866</td>\n",
       "      <td>-137.740004</td>\n",
       "      <td>26.705889</td>\n",
       "      <td>-123.307487</td>\n",
       "    </tr>\n",
       "  </tbody>\n",
       "</table>\n",
       "<p>8 rows × 52 columns</p>\n",
       "</div>"
      ],
      "text/plain": [
       "       primary_cleaner.input.sulfate  primary_cleaner.input.depressant  \\\n",
       "count                    5286.000000                       5285.000000   \n",
       "mean                      174.839652                          8.683596   \n",
       "std                        43.027080                          3.072050   \n",
       "min                         2.566156                          0.003839   \n",
       "25%                       147.121401                          6.489555   \n",
       "50%                       177.828489                          8.052207   \n",
       "75%                       208.125438                         10.027764   \n",
       "max                       265.983123                         40.000000   \n",
       "\n",
       "       primary_cleaner.input.feed_size  primary_cleaner.input.xanthate  \\\n",
       "count                      5290.000000                     5286.000000   \n",
       "mean                          7.266339                        1.383803   \n",
       "std                           0.610219                        0.643474   \n",
       "min                           5.650000                        0.004984   \n",
       "25%                           6.890000                        0.907623   \n",
       "50%                           7.250000                        1.197610   \n",
       "75%                           7.600000                        1.797819   \n",
       "max                          15.500000                        4.102454   \n",
       "\n",
       "       primary_cleaner.state.floatbank8_a_air  \\\n",
       "count                            5.290000e+03   \n",
       "mean                             1.539494e+03   \n",
       "std                              1.167979e+02   \n",
       "min                              5.445860e-32   \n",
       "25%                              1.498936e+03   \n",
       "50%                              1.585129e+03   \n",
       "75%                              1.602077e+03   \n",
       "max                              2.103104e+03   \n",
       "\n",
       "       primary_cleaner.state.floatbank8_a_level  \\\n",
       "count                               5290.000000   \n",
       "mean                                -497.665883   \n",
       "std                                   19.952431   \n",
       "min                                 -795.316337   \n",
       "25%                                 -500.357298   \n",
       "50%                                 -499.969164   \n",
       "75%                                 -499.568951   \n",
       "max                                  -57.195404   \n",
       "\n",
       "       primary_cleaner.state.floatbank8_b_air  \\\n",
       "count                            5.290000e+03   \n",
       "mean                             1.545174e+03   \n",
       "std                              1.222246e+02   \n",
       "min                              6.647490e-32   \n",
       "25%                              1.498971e+03   \n",
       "50%                              1.595622e+03   \n",
       "75%                              1.602324e+03   \n",
       "max                              1.813084e+03   \n",
       "\n",
       "       primary_cleaner.state.floatbank8_b_level  \\\n",
       "count                               5290.000000   \n",
       "mean                                -500.273098   \n",
       "std                                   32.968307   \n",
       "min                                 -799.997015   \n",
       "25%                                 -500.703002   \n",
       "50%                                 -500.028514   \n",
       "75%                                 -499.293257   \n",
       "max                                 -142.527229   \n",
       "\n",
       "       primary_cleaner.state.floatbank8_c_air  \\\n",
       "count                            5.290000e+03   \n",
       "mean                             1.527272e+03   \n",
       "std                              1.225380e+02   \n",
       "min                              4.033736e-32   \n",
       "25%                              1.473230e+03   \n",
       "50%                              1.549595e+03   \n",
       "75%                              1.601144e+03   \n",
       "max                              1.715054e+03   \n",
       "\n",
       "       primary_cleaner.state.floatbank8_c_level  ...  \\\n",
       "count                               5290.000000  ...   \n",
       "mean                                -498.330680  ...   \n",
       "std                                   21.964876  ...   \n",
       "min                                 -799.960571  ...   \n",
       "25%                                 -501.018117  ...   \n",
       "50%                                 -500.017711  ...   \n",
       "75%                                 -498.994130  ...   \n",
       "max                                 -150.937035  ...   \n",
       "\n",
       "       secondary_cleaner.state.floatbank4_a_air  \\\n",
       "count                              5.290000e+03   \n",
       "mean                               1.632007e+01   \n",
       "std                                3.493583e+00   \n",
       "min                                1.079872e-16   \n",
       "25%                                1.403618e+01   \n",
       "50%                                1.700847e+01   \n",
       "75%                                1.803862e+01   \n",
       "max                                3.005180e+01   \n",
       "\n",
       "       secondary_cleaner.state.floatbank4_a_level  \\\n",
       "count                                 5290.000000   \n",
       "mean                                  -505.144570   \n",
       "std                                     31.427337   \n",
       "min                                   -799.798523   \n",
       "25%                                   -500.868258   \n",
       "50%                                   -500.115727   \n",
       "75%                                   -499.404224   \n",
       "max                                   -401.565212   \n",
       "\n",
       "       secondary_cleaner.state.floatbank4_b_air  \\\n",
       "count                              5.290000e+03   \n",
       "mean                               1.373544e+01   \n",
       "std                                3.430484e+00   \n",
       "min                                2.489718e-17   \n",
       "25%                                1.202862e+01   \n",
       "50%                                1.496486e+01   \n",
       "75%                                1.596213e+01   \n",
       "max                                3.126971e+01   \n",
       "\n",
       "       secondary_cleaner.state.floatbank4_b_level  \\\n",
       "count                                 5290.000000   \n",
       "mean                                  -463.349858   \n",
       "std                                     86.189107   \n",
       "min                                   -800.836914   \n",
       "25%                                   -500.323028   \n",
       "50%                                   -499.576513   \n",
       "75%                                   -400.933805   \n",
       "max                                     -6.506986   \n",
       "\n",
       "       secondary_cleaner.state.floatbank5_a_air  \\\n",
       "count                               5290.000000   \n",
       "mean                                  12.804186   \n",
       "std                                    3.026591   \n",
       "min                                    0.069227   \n",
       "25%                                   10.914838   \n",
       "50%                                   12.954182   \n",
       "75%                                   15.097528   \n",
       "max                                   25.258848   \n",
       "\n",
       "       secondary_cleaner.state.floatbank5_a_level  \\\n",
       "count                                 5290.000000   \n",
       "mean                                  -501.329122   \n",
       "std                                     17.951495   \n",
       "min                                   -797.323986   \n",
       "25%                                   -500.726841   \n",
       "50%                                   -499.990332   \n",
       "75%                                   -499.283191   \n",
       "max                                   -244.483566   \n",
       "\n",
       "       secondary_cleaner.state.floatbank5_b_air  \\\n",
       "count                               5290.000000   \n",
       "mean                                   9.881145   \n",
       "std                                    2.868205   \n",
       "min                                    0.528083   \n",
       "25%                                    8.036719   \n",
       "50%                                   10.004301   \n",
       "75%                                   11.997467   \n",
       "max                                   14.086866   \n",
       "\n",
       "       secondary_cleaner.state.floatbank5_b_level  \\\n",
       "count                                 5290.000000   \n",
       "mean                                  -495.663398   \n",
       "std                                     34.535007   \n",
       "min                                   -800.220337   \n",
       "25%                                   -500.194668   \n",
       "50%                                   -499.990535   \n",
       "75%                                   -499.719913   \n",
       "max                                   -137.740004   \n",
       "\n",
       "       secondary_cleaner.state.floatbank6_a_air  \\\n",
       "count                               5290.000000   \n",
       "mean                                  17.304935   \n",
       "std                                    4.536544   \n",
       "min                                   -0.079426   \n",
       "25%                                   13.997317   \n",
       "50%                                   16.014935   \n",
       "75%                                   21.020013   \n",
       "max                                   26.705889   \n",
       "\n",
       "       secondary_cleaner.state.floatbank6_a_level  \n",
       "count                                 5290.000000  \n",
       "mean                                  -501.793193  \n",
       "std                                     39.044215  \n",
       "min                                   -809.741464  \n",
       "25%                                   -500.690984  \n",
       "50%                                   -500.007126  \n",
       "75%                                   -499.373018  \n",
       "max                                   -123.307487  \n",
       "\n",
       "[8 rows x 52 columns]"
      ]
     },
     "metadata": {},
     "output_type": "display_data"
    },
    {
     "name": "stdout",
     "output_type": "stream",
     "text": [
      "<class 'pandas.core.frame.DataFrame'>\n",
      "RangeIndex: 19439 entries, 0 to 19438\n",
      "Data columns (total 87 columns):\n",
      " #   Column                                              Non-Null Count  Dtype  \n",
      "---  ------                                              --------------  -----  \n",
      " 0   date                                                19439 non-null  object \n",
      " 1   final.output.concentrate_ag                         19438 non-null  float64\n",
      " 2   final.output.concentrate_pb                         19438 non-null  float64\n",
      " 3   final.output.concentrate_sol                        19228 non-null  float64\n",
      " 4   final.output.concentrate_au                         19439 non-null  float64\n",
      " 5   final.output.recovery                               19439 non-null  float64\n",
      " 6   final.output.tail_ag                                19438 non-null  float64\n",
      " 7   final.output.tail_pb                                19338 non-null  float64\n",
      " 8   final.output.tail_sol                               19433 non-null  float64\n",
      " 9   final.output.tail_au                                19439 non-null  float64\n",
      " 10  primary_cleaner.input.sulfate                       19415 non-null  float64\n",
      " 11  primary_cleaner.input.depressant                    19402 non-null  float64\n",
      " 12  primary_cleaner.input.feed_size                     19439 non-null  float64\n",
      " 13  primary_cleaner.input.xanthate                      19335 non-null  float64\n",
      " 14  primary_cleaner.output.concentrate_ag               19439 non-null  float64\n",
      " 15  primary_cleaner.output.concentrate_pb               19323 non-null  float64\n",
      " 16  primary_cleaner.output.concentrate_sol              19069 non-null  float64\n",
      " 17  primary_cleaner.output.concentrate_au               19439 non-null  float64\n",
      " 18  primary_cleaner.output.tail_ag                      19435 non-null  float64\n",
      " 19  primary_cleaner.output.tail_pb                      19418 non-null  float64\n",
      " 20  primary_cleaner.output.tail_sol                     19377 non-null  float64\n",
      " 21  primary_cleaner.output.tail_au                      19439 non-null  float64\n",
      " 22  primary_cleaner.state.floatbank8_a_air              19435 non-null  float64\n",
      " 23  primary_cleaner.state.floatbank8_a_level            19438 non-null  float64\n",
      " 24  primary_cleaner.state.floatbank8_b_air              19435 non-null  float64\n",
      " 25  primary_cleaner.state.floatbank8_b_level            19438 non-null  float64\n",
      " 26  primary_cleaner.state.floatbank8_c_air              19437 non-null  float64\n",
      " 27  primary_cleaner.state.floatbank8_c_level            19438 non-null  float64\n",
      " 28  primary_cleaner.state.floatbank8_d_air              19436 non-null  float64\n",
      " 29  primary_cleaner.state.floatbank8_d_level            19438 non-null  float64\n",
      " 30  rougher.calculation.sulfate_to_au_concentrate       19437 non-null  float64\n",
      " 31  rougher.calculation.floatbank10_sulfate_to_au_feed  19437 non-null  float64\n",
      " 32  rougher.calculation.floatbank11_sulfate_to_au_feed  19437 non-null  float64\n",
      " 33  rougher.calculation.au_pb_ratio                     19439 non-null  float64\n",
      " 34  rougher.input.feed_ag                               19439 non-null  float64\n",
      " 35  rougher.input.feed_pb                               19339 non-null  float64\n",
      " 36  rougher.input.feed_rate                             19428 non-null  float64\n",
      " 37  rougher.input.feed_size                             19294 non-null  float64\n",
      " 38  rougher.input.feed_sol                              19340 non-null  float64\n",
      " 39  rougher.input.feed_au                               19439 non-null  float64\n",
      " 40  rougher.input.floatbank10_sulfate                   19405 non-null  float64\n",
      " 41  rougher.input.floatbank10_xanthate                  19431 non-null  float64\n",
      " 42  rougher.input.floatbank11_sulfate                   19395 non-null  float64\n",
      " 43  rougher.input.floatbank11_xanthate                  18986 non-null  float64\n",
      " 44  rougher.output.concentrate_ag                       19439 non-null  float64\n",
      " 45  rougher.output.concentrate_pb                       19439 non-null  float64\n",
      " 46  rougher.output.concentrate_sol                      19416 non-null  float64\n",
      " 47  rougher.output.concentrate_au                       19439 non-null  float64\n",
      " 48  rougher.output.recovery                             19439 non-null  float64\n",
      " 49  rougher.output.tail_ag                              19438 non-null  float64\n",
      " 50  rougher.output.tail_pb                              19439 non-null  float64\n",
      " 51  rougher.output.tail_sol                             19439 non-null  float64\n",
      " 52  rougher.output.tail_au                              19439 non-null  float64\n",
      " 53  rougher.state.floatbank10_a_air                     19438 non-null  float64\n",
      " 54  rougher.state.floatbank10_a_level                   19438 non-null  float64\n",
      " 55  rougher.state.floatbank10_b_air                     19438 non-null  float64\n",
      " 56  rougher.state.floatbank10_b_level                   19438 non-null  float64\n",
      " 57  rougher.state.floatbank10_c_air                     19438 non-null  float64\n",
      " 58  rougher.state.floatbank10_c_level                   19438 non-null  float64\n",
      " 59  rougher.state.floatbank10_d_air                     19439 non-null  float64\n",
      " 60  rougher.state.floatbank10_d_level                   19439 non-null  float64\n",
      " 61  rougher.state.floatbank10_e_air                     19003 non-null  float64\n",
      " 62  rougher.state.floatbank10_e_level                   19439 non-null  float64\n",
      " 63  rougher.state.floatbank10_f_air                     19439 non-null  float64\n",
      " 64  rougher.state.floatbank10_f_level                   19439 non-null  float64\n",
      " 65  secondary_cleaner.output.tail_ag                    19437 non-null  float64\n",
      " 66  secondary_cleaner.output.tail_pb                    19427 non-null  float64\n",
      " 67  secondary_cleaner.output.tail_sol                   17691 non-null  float64\n",
      " 68  secondary_cleaner.output.tail_au                    19439 non-null  float64\n",
      " 69  secondary_cleaner.state.floatbank2_a_air            19219 non-null  float64\n",
      " 70  secondary_cleaner.state.floatbank2_a_level          19438 non-null  float64\n",
      " 71  secondary_cleaner.state.floatbank2_b_air            19416 non-null  float64\n",
      " 72  secondary_cleaner.state.floatbank2_b_level          19438 non-null  float64\n",
      " 73  secondary_cleaner.state.floatbank3_a_air            19426 non-null  float64\n",
      " 74  secondary_cleaner.state.floatbank3_a_level          19438 non-null  float64\n",
      " 75  secondary_cleaner.state.floatbank3_b_air            19438 non-null  float64\n",
      " 76  secondary_cleaner.state.floatbank3_b_level          19438 non-null  float64\n",
      " 77  secondary_cleaner.state.floatbank4_a_air            19433 non-null  float64\n",
      " 78  secondary_cleaner.state.floatbank4_a_level          19438 non-null  float64\n",
      " 79  secondary_cleaner.state.floatbank4_b_air            19438 non-null  float64\n",
      " 80  secondary_cleaner.state.floatbank4_b_level          19438 non-null  float64\n",
      " 81  secondary_cleaner.state.floatbank5_a_air            19438 non-null  float64\n",
      " 82  secondary_cleaner.state.floatbank5_a_level          19438 non-null  float64\n",
      " 83  secondary_cleaner.state.floatbank5_b_air            19438 non-null  float64\n",
      " 84  secondary_cleaner.state.floatbank5_b_level          19438 non-null  float64\n",
      " 85  secondary_cleaner.state.floatbank6_a_air            19437 non-null  float64\n",
      " 86  secondary_cleaner.state.floatbank6_a_level          19438 non-null  float64\n",
      "dtypes: float64(86), object(1)\n",
      "memory usage: 12.9+ MB\n"
     ]
    },
    {
     "data": {
      "text/plain": [
       "None"
      ]
     },
     "metadata": {},
     "output_type": "display_data"
    },
    {
     "data": {
      "text/html": [
       "<div>\n",
       "<style scoped>\n",
       "    .dataframe tbody tr th:only-of-type {\n",
       "        vertical-align: middle;\n",
       "    }\n",
       "\n",
       "    .dataframe tbody tr th {\n",
       "        vertical-align: top;\n",
       "    }\n",
       "\n",
       "    .dataframe thead th {\n",
       "        text-align: right;\n",
       "    }\n",
       "</style>\n",
       "<table border=\"1\" class=\"dataframe\">\n",
       "  <thead>\n",
       "    <tr style=\"text-align: right;\">\n",
       "      <th></th>\n",
       "      <th>final.output.concentrate_ag</th>\n",
       "      <th>final.output.concentrate_pb</th>\n",
       "      <th>final.output.concentrate_sol</th>\n",
       "      <th>final.output.concentrate_au</th>\n",
       "      <th>final.output.recovery</th>\n",
       "      <th>final.output.tail_ag</th>\n",
       "      <th>final.output.tail_pb</th>\n",
       "      <th>final.output.tail_sol</th>\n",
       "      <th>final.output.tail_au</th>\n",
       "      <th>primary_cleaner.input.sulfate</th>\n",
       "      <th>...</th>\n",
       "      <th>secondary_cleaner.state.floatbank4_a_air</th>\n",
       "      <th>secondary_cleaner.state.floatbank4_a_level</th>\n",
       "      <th>secondary_cleaner.state.floatbank4_b_air</th>\n",
       "      <th>secondary_cleaner.state.floatbank4_b_level</th>\n",
       "      <th>secondary_cleaner.state.floatbank5_a_air</th>\n",
       "      <th>secondary_cleaner.state.floatbank5_a_level</th>\n",
       "      <th>secondary_cleaner.state.floatbank5_b_air</th>\n",
       "      <th>secondary_cleaner.state.floatbank5_b_level</th>\n",
       "      <th>secondary_cleaner.state.floatbank6_a_air</th>\n",
       "      <th>secondary_cleaner.state.floatbank6_a_level</th>\n",
       "    </tr>\n",
       "  </thead>\n",
       "  <tbody>\n",
       "    <tr>\n",
       "      <th>count</th>\n",
       "      <td>19438.000000</td>\n",
       "      <td>19438.000000</td>\n",
       "      <td>19228.000000</td>\n",
       "      <td>19439.000000</td>\n",
       "      <td>19439.000000</td>\n",
       "      <td>19438.000000</td>\n",
       "      <td>19338.000000</td>\n",
       "      <td>19433.000000</td>\n",
       "      <td>19439.000000</td>\n",
       "      <td>19415.000000</td>\n",
       "      <td>...</td>\n",
       "      <td>19433.000000</td>\n",
       "      <td>19438.000000</td>\n",
       "      <td>19438.000000</td>\n",
       "      <td>19438.000000</td>\n",
       "      <td>19438.000000</td>\n",
       "      <td>19438.000000</td>\n",
       "      <td>19438.000000</td>\n",
       "      <td>19438.000000</td>\n",
       "      <td>19437.000000</td>\n",
       "      <td>19438.000000</td>\n",
       "    </tr>\n",
       "    <tr>\n",
       "      <th>mean</th>\n",
       "      <td>5.168470</td>\n",
       "      <td>9.978895</td>\n",
       "      <td>9.501224</td>\n",
       "      <td>44.076513</td>\n",
       "      <td>67.050208</td>\n",
       "      <td>9.688589</td>\n",
       "      <td>2.705795</td>\n",
       "      <td>10.583728</td>\n",
       "      <td>3.042467</td>\n",
       "      <td>144.624774</td>\n",
       "      <td>...</td>\n",
       "      <td>18.987674</td>\n",
       "      <td>-485.894516</td>\n",
       "      <td>15.010366</td>\n",
       "      <td>-461.078636</td>\n",
       "      <td>15.694452</td>\n",
       "      <td>-488.684065</td>\n",
       "      <td>12.198224</td>\n",
       "      <td>-487.149827</td>\n",
       "      <td>18.959024</td>\n",
       "      <td>-505.436305</td>\n",
       "    </tr>\n",
       "    <tr>\n",
       "      <th>std</th>\n",
       "      <td>1.372348</td>\n",
       "      <td>1.669240</td>\n",
       "      <td>2.787537</td>\n",
       "      <td>5.129784</td>\n",
       "      <td>10.125840</td>\n",
       "      <td>2.328642</td>\n",
       "      <td>0.949077</td>\n",
       "      <td>2.868782</td>\n",
       "      <td>0.922808</td>\n",
       "      <td>44.464071</td>\n",
       "      <td>...</td>\n",
       "      <td>5.411058</td>\n",
       "      <td>47.758570</td>\n",
       "      <td>4.890228</td>\n",
       "      <td>67.405524</td>\n",
       "      <td>5.510974</td>\n",
       "      <td>34.533396</td>\n",
       "      <td>5.333024</td>\n",
       "      <td>38.347312</td>\n",
       "      <td>5.550498</td>\n",
       "      <td>37.689057</td>\n",
       "    </tr>\n",
       "    <tr>\n",
       "      <th>min</th>\n",
       "      <td>0.000000</td>\n",
       "      <td>0.000000</td>\n",
       "      <td>0.000000</td>\n",
       "      <td>0.000000</td>\n",
       "      <td>0.000000</td>\n",
       "      <td>0.000000</td>\n",
       "      <td>0.000000</td>\n",
       "      <td>0.000000</td>\n",
       "      <td>0.000000</td>\n",
       "      <td>0.003112</td>\n",
       "      <td>...</td>\n",
       "      <td>0.000000</td>\n",
       "      <td>-799.798523</td>\n",
       "      <td>0.000000</td>\n",
       "      <td>-800.836914</td>\n",
       "      <td>-0.372054</td>\n",
       "      <td>-797.323986</td>\n",
       "      <td>0.528083</td>\n",
       "      <td>-800.220337</td>\n",
       "      <td>-0.079426</td>\n",
       "      <td>-809.741464</td>\n",
       "    </tr>\n",
       "    <tr>\n",
       "      <th>25%</th>\n",
       "      <td>4.251240</td>\n",
       "      <td>9.137262</td>\n",
       "      <td>7.722820</td>\n",
       "      <td>43.402215</td>\n",
       "      <td>63.299712</td>\n",
       "      <td>8.062878</td>\n",
       "      <td>2.040119</td>\n",
       "      <td>8.938947</td>\n",
       "      <td>2.461138</td>\n",
       "      <td>114.107029</td>\n",
       "      <td>...</td>\n",
       "      <td>14.975734</td>\n",
       "      <td>-500.704892</td>\n",
       "      <td>11.940294</td>\n",
       "      <td>-500.187742</td>\n",
       "      <td>10.988606</td>\n",
       "      <td>-500.458467</td>\n",
       "      <td>8.971105</td>\n",
       "      <td>-500.129462</td>\n",
       "      <td>14.983037</td>\n",
       "      <td>-500.728067</td>\n",
       "    </tr>\n",
       "    <tr>\n",
       "      <th>50%</th>\n",
       "      <td>5.066094</td>\n",
       "      <td>10.102433</td>\n",
       "      <td>9.218961</td>\n",
       "      <td>45.011244</td>\n",
       "      <td>68.172738</td>\n",
       "      <td>9.743623</td>\n",
       "      <td>2.748730</td>\n",
       "      <td>10.622456</td>\n",
       "      <td>2.984909</td>\n",
       "      <td>143.232103</td>\n",
       "      <td>...</td>\n",
       "      <td>18.017481</td>\n",
       "      <td>-499.837793</td>\n",
       "      <td>14.971014</td>\n",
       "      <td>-499.459786</td>\n",
       "      <td>15.000036</td>\n",
       "      <td>-499.802605</td>\n",
       "      <td>11.019433</td>\n",
       "      <td>-499.935317</td>\n",
       "      <td>19.960541</td>\n",
       "      <td>-500.048400</td>\n",
       "    </tr>\n",
       "    <tr>\n",
       "      <th>75%</th>\n",
       "      <td>5.895527</td>\n",
       "      <td>11.035769</td>\n",
       "      <td>10.947813</td>\n",
       "      <td>46.275313</td>\n",
       "      <td>72.686642</td>\n",
       "      <td>11.134294</td>\n",
       "      <td>3.333216</td>\n",
       "      <td>12.104271</td>\n",
       "      <td>3.571351</td>\n",
       "      <td>175.075656</td>\n",
       "      <td>...</td>\n",
       "      <td>23.012470</td>\n",
       "      <td>-498.249730</td>\n",
       "      <td>19.034162</td>\n",
       "      <td>-400.118106</td>\n",
       "      <td>18.026190</td>\n",
       "      <td>-498.384187</td>\n",
       "      <td>14.019088</td>\n",
       "      <td>-499.436708</td>\n",
       "      <td>24.003170</td>\n",
       "      <td>-499.495378</td>\n",
       "    </tr>\n",
       "    <tr>\n",
       "      <th>max</th>\n",
       "      <td>16.001945</td>\n",
       "      <td>17.031899</td>\n",
       "      <td>19.615720</td>\n",
       "      <td>52.756638</td>\n",
       "      <td>100.000000</td>\n",
       "      <td>19.552149</td>\n",
       "      <td>5.804178</td>\n",
       "      <td>22.317730</td>\n",
       "      <td>8.245022</td>\n",
       "      <td>265.983123</td>\n",
       "      <td>...</td>\n",
       "      <td>30.115735</td>\n",
       "      <td>-245.239184</td>\n",
       "      <td>31.269706</td>\n",
       "      <td>-6.506986</td>\n",
       "      <td>43.709931</td>\n",
       "      <td>-244.483566</td>\n",
       "      <td>27.926001</td>\n",
       "      <td>-137.740004</td>\n",
       "      <td>32.188906</td>\n",
       "      <td>-104.427459</td>\n",
       "    </tr>\n",
       "  </tbody>\n",
       "</table>\n",
       "<p>8 rows × 86 columns</p>\n",
       "</div>"
      ],
      "text/plain": [
       "       final.output.concentrate_ag  final.output.concentrate_pb  \\\n",
       "count                 19438.000000                 19438.000000   \n",
       "mean                      5.168470                     9.978895   \n",
       "std                       1.372348                     1.669240   \n",
       "min                       0.000000                     0.000000   \n",
       "25%                       4.251240                     9.137262   \n",
       "50%                       5.066094                    10.102433   \n",
       "75%                       5.895527                    11.035769   \n",
       "max                      16.001945                    17.031899   \n",
       "\n",
       "       final.output.concentrate_sol  final.output.concentrate_au  \\\n",
       "count                  19228.000000                 19439.000000   \n",
       "mean                       9.501224                    44.076513   \n",
       "std                        2.787537                     5.129784   \n",
       "min                        0.000000                     0.000000   \n",
       "25%                        7.722820                    43.402215   \n",
       "50%                        9.218961                    45.011244   \n",
       "75%                       10.947813                    46.275313   \n",
       "max                       19.615720                    52.756638   \n",
       "\n",
       "       final.output.recovery  final.output.tail_ag  final.output.tail_pb  \\\n",
       "count           19439.000000          19438.000000          19338.000000   \n",
       "mean               67.050208              9.688589              2.705795   \n",
       "std                10.125840              2.328642              0.949077   \n",
       "min                 0.000000              0.000000              0.000000   \n",
       "25%                63.299712              8.062878              2.040119   \n",
       "50%                68.172738              9.743623              2.748730   \n",
       "75%                72.686642             11.134294              3.333216   \n",
       "max               100.000000             19.552149              5.804178   \n",
       "\n",
       "       final.output.tail_sol  final.output.tail_au  \\\n",
       "count           19433.000000          19439.000000   \n",
       "mean               10.583728              3.042467   \n",
       "std                 2.868782              0.922808   \n",
       "min                 0.000000              0.000000   \n",
       "25%                 8.938947              2.461138   \n",
       "50%                10.622456              2.984909   \n",
       "75%                12.104271              3.571351   \n",
       "max                22.317730              8.245022   \n",
       "\n",
       "       primary_cleaner.input.sulfate  ...  \\\n",
       "count                   19415.000000  ...   \n",
       "mean                      144.624774  ...   \n",
       "std                        44.464071  ...   \n",
       "min                         0.003112  ...   \n",
       "25%                       114.107029  ...   \n",
       "50%                       143.232103  ...   \n",
       "75%                       175.075656  ...   \n",
       "max                       265.983123  ...   \n",
       "\n",
       "       secondary_cleaner.state.floatbank4_a_air  \\\n",
       "count                              19433.000000   \n",
       "mean                                  18.987674   \n",
       "std                                    5.411058   \n",
       "min                                    0.000000   \n",
       "25%                                   14.975734   \n",
       "50%                                   18.017481   \n",
       "75%                                   23.012470   \n",
       "max                                   30.115735   \n",
       "\n",
       "       secondary_cleaner.state.floatbank4_a_level  \\\n",
       "count                                19438.000000   \n",
       "mean                                  -485.894516   \n",
       "std                                     47.758570   \n",
       "min                                   -799.798523   \n",
       "25%                                   -500.704892   \n",
       "50%                                   -499.837793   \n",
       "75%                                   -498.249730   \n",
       "max                                   -245.239184   \n",
       "\n",
       "       secondary_cleaner.state.floatbank4_b_air  \\\n",
       "count                              19438.000000   \n",
       "mean                                  15.010366   \n",
       "std                                    4.890228   \n",
       "min                                    0.000000   \n",
       "25%                                   11.940294   \n",
       "50%                                   14.971014   \n",
       "75%                                   19.034162   \n",
       "max                                   31.269706   \n",
       "\n",
       "       secondary_cleaner.state.floatbank4_b_level  \\\n",
       "count                                19438.000000   \n",
       "mean                                  -461.078636   \n",
       "std                                     67.405524   \n",
       "min                                   -800.836914   \n",
       "25%                                   -500.187742   \n",
       "50%                                   -499.459786   \n",
       "75%                                   -400.118106   \n",
       "max                                     -6.506986   \n",
       "\n",
       "       secondary_cleaner.state.floatbank5_a_air  \\\n",
       "count                              19438.000000   \n",
       "mean                                  15.694452   \n",
       "std                                    5.510974   \n",
       "min                                   -0.372054   \n",
       "25%                                   10.988606   \n",
       "50%                                   15.000036   \n",
       "75%                                   18.026190   \n",
       "max                                   43.709931   \n",
       "\n",
       "       secondary_cleaner.state.floatbank5_a_level  \\\n",
       "count                                19438.000000   \n",
       "mean                                  -488.684065   \n",
       "std                                     34.533396   \n",
       "min                                   -797.323986   \n",
       "25%                                   -500.458467   \n",
       "50%                                   -499.802605   \n",
       "75%                                   -498.384187   \n",
       "max                                   -244.483566   \n",
       "\n",
       "       secondary_cleaner.state.floatbank5_b_air  \\\n",
       "count                              19438.000000   \n",
       "mean                                  12.198224   \n",
       "std                                    5.333024   \n",
       "min                                    0.528083   \n",
       "25%                                    8.971105   \n",
       "50%                                   11.019433   \n",
       "75%                                   14.019088   \n",
       "max                                   27.926001   \n",
       "\n",
       "       secondary_cleaner.state.floatbank5_b_level  \\\n",
       "count                                19438.000000   \n",
       "mean                                  -487.149827   \n",
       "std                                     38.347312   \n",
       "min                                   -800.220337   \n",
       "25%                                   -500.129462   \n",
       "50%                                   -499.935317   \n",
       "75%                                   -499.436708   \n",
       "max                                   -137.740004   \n",
       "\n",
       "       secondary_cleaner.state.floatbank6_a_air  \\\n",
       "count                              19437.000000   \n",
       "mean                                  18.959024   \n",
       "std                                    5.550498   \n",
       "min                                   -0.079426   \n",
       "25%                                   14.983037   \n",
       "50%                                   19.960541   \n",
       "75%                                   24.003170   \n",
       "max                                   32.188906   \n",
       "\n",
       "       secondary_cleaner.state.floatbank6_a_level  \n",
       "count                                19438.000000  \n",
       "mean                                  -505.436305  \n",
       "std                                     37.689057  \n",
       "min                                   -809.741464  \n",
       "25%                                   -500.728067  \n",
       "50%                                   -500.048400  \n",
       "75%                                   -499.495378  \n",
       "max                                   -104.427459  \n",
       "\n",
       "[8 rows x 86 columns]"
      ]
     },
     "metadata": {},
     "output_type": "display_data"
    }
   ],
   "source": [
    "for df in data_list:\n",
    "    display(df.info())\n",
    "    display(df.describe())"
   ]
  },
  {
   "cell_type": "markdown",
   "metadata": {},
   "source": [
    "###  Проверьте, что эффективность обогащения рассчитана правильно"
   ]
  },
  {
   "cell_type": "code",
   "execution_count": 4,
   "metadata": {},
   "outputs": [
    {
     "data": {
      "text/plain": [
       "82.70450164550293"
      ]
     },
     "execution_count": 4,
     "metadata": {},
     "output_type": "execute_result"
    }
   ],
   "source": [
    "C, F, T = df_train['rougher.output.concentrate_au'], df_train['rougher.input.feed_au'], df_train['rougher.output.tail_au']\n",
    "calculated_recovery = pd.Series(((C*(F-T))/(F*(C-T)))*100)\n",
    "calculated_recovery.mean()"
   ]
  },
  {
   "cell_type": "code",
   "execution_count": 5,
   "metadata": {},
   "outputs": [
    {
     "data": {
      "text/plain": [
       "82.70450164550293"
      ]
     },
     "execution_count": 5,
     "metadata": {},
     "output_type": "execute_result"
    }
   ],
   "source": [
    "df_train['rougher.output.recovery'].mean()"
   ]
  },
  {
   "cell_type": "code",
   "execution_count": 6,
   "metadata": {},
   "outputs": [
    {
     "data": {
      "text/plain": [
       "9.73512347450521e-15"
      ]
     },
     "execution_count": 6,
     "metadata": {},
     "output_type": "execute_result"
    }
   ],
   "source": [
    "mean_absolute_error(calculated_recovery, df_train['rougher.output.recovery'])"
   ]
  },
  {
   "cell_type": "markdown",
   "metadata": {},
   "source": [
    "**Вывод:** эффективность обогащения рассчитана правильно, маленькое значенеи MAE это подтверждает."
   ]
  },
  {
   "cell_type": "markdown",
   "metadata": {},
   "source": [
    "### Проанализируйте признаки, недоступные в тестовой выборке."
   ]
  },
  {
   "cell_type": "code",
   "execution_count": 7,
   "metadata": {
    "collapsed": true
   },
   "outputs": [
    {
     "data": {
      "text/plain": [
       "{'final.output.concentrate_ag',\n",
       " 'final.output.concentrate_au',\n",
       " 'final.output.concentrate_pb',\n",
       " 'final.output.concentrate_sol',\n",
       " 'final.output.recovery',\n",
       " 'final.output.tail_ag',\n",
       " 'final.output.tail_au',\n",
       " 'final.output.tail_pb',\n",
       " 'final.output.tail_sol',\n",
       " 'primary_cleaner.output.concentrate_ag',\n",
       " 'primary_cleaner.output.concentrate_au',\n",
       " 'primary_cleaner.output.concentrate_pb',\n",
       " 'primary_cleaner.output.concentrate_sol',\n",
       " 'primary_cleaner.output.tail_ag',\n",
       " 'primary_cleaner.output.tail_au',\n",
       " 'primary_cleaner.output.tail_pb',\n",
       " 'primary_cleaner.output.tail_sol',\n",
       " 'rougher.calculation.au_pb_ratio',\n",
       " 'rougher.calculation.floatbank10_sulfate_to_au_feed',\n",
       " 'rougher.calculation.floatbank11_sulfate_to_au_feed',\n",
       " 'rougher.calculation.sulfate_to_au_concentrate',\n",
       " 'rougher.output.concentrate_ag',\n",
       " 'rougher.output.concentrate_au',\n",
       " 'rougher.output.concentrate_pb',\n",
       " 'rougher.output.concentrate_sol',\n",
       " 'rougher.output.recovery',\n",
       " 'rougher.output.tail_ag',\n",
       " 'rougher.output.tail_au',\n",
       " 'rougher.output.tail_pb',\n",
       " 'rougher.output.tail_sol',\n",
       " 'secondary_cleaner.output.tail_ag',\n",
       " 'secondary_cleaner.output.tail_au',\n",
       " 'secondary_cleaner.output.tail_pb',\n",
       " 'secondary_cleaner.output.tail_sol'}"
      ]
     },
     "execution_count": 7,
     "metadata": {},
     "output_type": "execute_result"
    }
   ],
   "source": [
    "set(df_train.columns)-set(df_test.columns) "
   ]
  },
  {
   "cell_type": "markdown",
   "metadata": {},
   "source": [
    "**Вывод:**\n",
    "* На каждом этапе отстутвует информация о хвостах.\n",
    "* На каждом этапе кроме повторной очистки отсутствует информация о доле металлов.\n",
    "* Отсутствуют расчётные признаки на этапе флотации rougher.calculation."
   ]
  },
  {
   "cell_type": "markdown",
   "metadata": {},
   "source": [
    "### Предобработка данных."
   ]
  },
  {
   "cell_type": "code",
   "execution_count": 8,
   "metadata": {
    "scrolled": true
   },
   "outputs": [
    {
     "data": {
      "text/plain": [
       "date                                            0\n",
       "final.output.concentrate_ag                     1\n",
       "final.output.concentrate_pb                     1\n",
       "final.output.concentrate_sol                  211\n",
       "final.output.concentrate_au                     0\n",
       "                                             ... \n",
       "secondary_cleaner.state.floatbank5_a_level      1\n",
       "secondary_cleaner.state.floatbank5_b_air        1\n",
       "secondary_cleaner.state.floatbank5_b_level      1\n",
       "secondary_cleaner.state.floatbank6_a_air        2\n",
       "secondary_cleaner.state.floatbank6_a_level      1\n",
       "Length: 87, dtype: int64"
      ]
     },
     "metadata": {},
     "output_type": "display_data"
    },
    {
     "data": {
      "text/plain": [
       "date                                           0\n",
       "primary_cleaner.input.sulfate                  4\n",
       "primary_cleaner.input.depressant               5\n",
       "primary_cleaner.input.feed_size                0\n",
       "primary_cleaner.input.xanthate                 4\n",
       "primary_cleaner.state.floatbank8_a_air         0\n",
       "primary_cleaner.state.floatbank8_a_level       0\n",
       "primary_cleaner.state.floatbank8_b_air         0\n",
       "primary_cleaner.state.floatbank8_b_level       0\n",
       "primary_cleaner.state.floatbank8_c_air         0\n",
       "primary_cleaner.state.floatbank8_c_level       0\n",
       "primary_cleaner.state.floatbank8_d_air         0\n",
       "primary_cleaner.state.floatbank8_d_level       0\n",
       "rougher.input.feed_ag                          0\n",
       "rougher.input.feed_pb                          0\n",
       "rougher.input.feed_rate                        3\n",
       "rougher.input.feed_size                        1\n",
       "rougher.input.feed_sol                        21\n",
       "rougher.input.feed_au                          0\n",
       "rougher.input.floatbank10_sulfate              5\n",
       "rougher.input.floatbank10_xanthate             0\n",
       "rougher.input.floatbank11_sulfate              8\n",
       "rougher.input.floatbank11_xanthate            25\n",
       "rougher.state.floatbank10_a_air                0\n",
       "rougher.state.floatbank10_a_level              0\n",
       "rougher.state.floatbank10_b_air                0\n",
       "rougher.state.floatbank10_b_level              0\n",
       "rougher.state.floatbank10_c_air                0\n",
       "rougher.state.floatbank10_c_level              0\n",
       "rougher.state.floatbank10_d_air                0\n",
       "rougher.state.floatbank10_d_level              0\n",
       "rougher.state.floatbank10_e_air                0\n",
       "rougher.state.floatbank10_e_level              0\n",
       "rougher.state.floatbank10_f_air                0\n",
       "rougher.state.floatbank10_f_level              0\n",
       "secondary_cleaner.state.floatbank2_a_air       3\n",
       "secondary_cleaner.state.floatbank2_a_level     0\n",
       "secondary_cleaner.state.floatbank2_b_air       2\n",
       "secondary_cleaner.state.floatbank2_b_level     0\n",
       "secondary_cleaner.state.floatbank3_a_air       9\n",
       "secondary_cleaner.state.floatbank3_a_level     0\n",
       "secondary_cleaner.state.floatbank3_b_air       0\n",
       "secondary_cleaner.state.floatbank3_b_level     0\n",
       "secondary_cleaner.state.floatbank4_a_air       0\n",
       "secondary_cleaner.state.floatbank4_a_level     0\n",
       "secondary_cleaner.state.floatbank4_b_air       0\n",
       "secondary_cleaner.state.floatbank4_b_level     0\n",
       "secondary_cleaner.state.floatbank5_a_air       0\n",
       "secondary_cleaner.state.floatbank5_a_level     0\n",
       "secondary_cleaner.state.floatbank5_b_air       0\n",
       "secondary_cleaner.state.floatbank5_b_level     0\n",
       "secondary_cleaner.state.floatbank6_a_air       0\n",
       "secondary_cleaner.state.floatbank6_a_level     0\n",
       "dtype: int64"
      ]
     },
     "metadata": {},
     "output_type": "display_data"
    },
    {
     "data": {
      "text/plain": [
       "date                                            0\n",
       "final.output.concentrate_ag                     1\n",
       "final.output.concentrate_pb                     1\n",
       "final.output.concentrate_sol                  211\n",
       "final.output.concentrate_au                     0\n",
       "                                             ... \n",
       "secondary_cleaner.state.floatbank5_a_level      1\n",
       "secondary_cleaner.state.floatbank5_b_air        1\n",
       "secondary_cleaner.state.floatbank5_b_level      1\n",
       "secondary_cleaner.state.floatbank6_a_air        2\n",
       "secondary_cleaner.state.floatbank6_a_level      1\n",
       "Length: 87, dtype: int64"
      ]
     },
     "metadata": {},
     "output_type": "display_data"
    }
   ],
   "source": [
    "for df in data_list:\n",
    "    display(df.isna().sum())"
   ]
  },
  {
   "cell_type": "code",
   "execution_count": 9,
   "metadata": {},
   "outputs": [],
   "source": [
    "for df in data_list:\n",
    "    df['date'] =  pd.to_datetime(df['date'], format='%Y-%m-%d %H:%M:%S')"
   ]
  },
  {
   "cell_type": "code",
   "execution_count": 10,
   "metadata": {},
   "outputs": [
    {
     "data": {
      "text/plain": [
       "0       2016-01-15 00:00:00\n",
       "1       2016-01-15 01:00:00\n",
       "2       2016-01-15 02:00:00\n",
       "3       2016-01-15 03:00:00\n",
       "4       2016-01-15 04:00:00\n",
       "                ...        \n",
       "14144   2018-08-18 06:59:59\n",
       "14145   2018-08-18 07:59:59\n",
       "14146   2018-08-18 08:59:59\n",
       "14147   2018-08-18 09:59:59\n",
       "14148   2018-08-18 10:59:59\n",
       "Name: date, Length: 14149, dtype: datetime64[ns]"
      ]
     },
     "execution_count": 10,
     "metadata": {},
     "output_type": "execute_result"
    }
   ],
   "source": [
    "df_train['date']"
   ]
  },
  {
   "cell_type": "markdown",
   "metadata": {},
   "source": [
    "Данные индексируются датой и временем получения информации (признак date). Соседние по времени параметры часто похожи. Поэтому заполним пропуски при помощи метода ffil."
   ]
  },
  {
   "cell_type": "code",
   "execution_count": 11,
   "metadata": {},
   "outputs": [],
   "source": [
    "for df in data_list:\n",
    "    df.fillna(axis='rows', inplace=True,  method='ffill')"
   ]
  },
  {
   "cell_type": "code",
   "execution_count": 12,
   "metadata": {
    "collapsed": true
   },
   "outputs": [
    {
     "data": {
      "text/plain": [
       "date                                          0\n",
       "final.output.concentrate_ag                   0\n",
       "final.output.concentrate_pb                   0\n",
       "final.output.concentrate_sol                  0\n",
       "final.output.concentrate_au                   0\n",
       "                                             ..\n",
       "secondary_cleaner.state.floatbank5_a_level    0\n",
       "secondary_cleaner.state.floatbank5_b_air      0\n",
       "secondary_cleaner.state.floatbank5_b_level    0\n",
       "secondary_cleaner.state.floatbank6_a_air      0\n",
       "secondary_cleaner.state.floatbank6_a_level    0\n",
       "Length: 87, dtype: int64"
      ]
     },
     "metadata": {},
     "output_type": "display_data"
    },
    {
     "data": {
      "text/plain": [
       "date                                          0\n",
       "primary_cleaner.input.sulfate                 0\n",
       "primary_cleaner.input.depressant              0\n",
       "primary_cleaner.input.feed_size               0\n",
       "primary_cleaner.input.xanthate                0\n",
       "primary_cleaner.state.floatbank8_a_air        0\n",
       "primary_cleaner.state.floatbank8_a_level      0\n",
       "primary_cleaner.state.floatbank8_b_air        0\n",
       "primary_cleaner.state.floatbank8_b_level      0\n",
       "primary_cleaner.state.floatbank8_c_air        0\n",
       "primary_cleaner.state.floatbank8_c_level      0\n",
       "primary_cleaner.state.floatbank8_d_air        0\n",
       "primary_cleaner.state.floatbank8_d_level      0\n",
       "rougher.input.feed_ag                         0\n",
       "rougher.input.feed_pb                         0\n",
       "rougher.input.feed_rate                       0\n",
       "rougher.input.feed_size                       0\n",
       "rougher.input.feed_sol                        0\n",
       "rougher.input.feed_au                         0\n",
       "rougher.input.floatbank10_sulfate             0\n",
       "rougher.input.floatbank10_xanthate            0\n",
       "rougher.input.floatbank11_sulfate             0\n",
       "rougher.input.floatbank11_xanthate            0\n",
       "rougher.state.floatbank10_a_air               0\n",
       "rougher.state.floatbank10_a_level             0\n",
       "rougher.state.floatbank10_b_air               0\n",
       "rougher.state.floatbank10_b_level             0\n",
       "rougher.state.floatbank10_c_air               0\n",
       "rougher.state.floatbank10_c_level             0\n",
       "rougher.state.floatbank10_d_air               0\n",
       "rougher.state.floatbank10_d_level             0\n",
       "rougher.state.floatbank10_e_air               0\n",
       "rougher.state.floatbank10_e_level             0\n",
       "rougher.state.floatbank10_f_air               0\n",
       "rougher.state.floatbank10_f_level             0\n",
       "secondary_cleaner.state.floatbank2_a_air      0\n",
       "secondary_cleaner.state.floatbank2_a_level    0\n",
       "secondary_cleaner.state.floatbank2_b_air      0\n",
       "secondary_cleaner.state.floatbank2_b_level    0\n",
       "secondary_cleaner.state.floatbank3_a_air      0\n",
       "secondary_cleaner.state.floatbank3_a_level    0\n",
       "secondary_cleaner.state.floatbank3_b_air      0\n",
       "secondary_cleaner.state.floatbank3_b_level    0\n",
       "secondary_cleaner.state.floatbank4_a_air      0\n",
       "secondary_cleaner.state.floatbank4_a_level    0\n",
       "secondary_cleaner.state.floatbank4_b_air      0\n",
       "secondary_cleaner.state.floatbank4_b_level    0\n",
       "secondary_cleaner.state.floatbank5_a_air      0\n",
       "secondary_cleaner.state.floatbank5_a_level    0\n",
       "secondary_cleaner.state.floatbank5_b_air      0\n",
       "secondary_cleaner.state.floatbank5_b_level    0\n",
       "secondary_cleaner.state.floatbank6_a_air      0\n",
       "secondary_cleaner.state.floatbank6_a_level    0\n",
       "dtype: int64"
      ]
     },
     "metadata": {},
     "output_type": "display_data"
    },
    {
     "data": {
      "text/plain": [
       "date                                          0\n",
       "final.output.concentrate_ag                   0\n",
       "final.output.concentrate_pb                   0\n",
       "final.output.concentrate_sol                  0\n",
       "final.output.concentrate_au                   0\n",
       "                                             ..\n",
       "secondary_cleaner.state.floatbank5_a_level    0\n",
       "secondary_cleaner.state.floatbank5_b_air      0\n",
       "secondary_cleaner.state.floatbank5_b_level    0\n",
       "secondary_cleaner.state.floatbank6_a_air      0\n",
       "secondary_cleaner.state.floatbank6_a_level    0\n",
       "Length: 87, dtype: int64"
      ]
     },
     "metadata": {},
     "output_type": "display_data"
    }
   ],
   "source": [
    "for df in data_list:\n",
    "    display(df.isna().sum())"
   ]
  },
  {
   "cell_type": "markdown",
   "metadata": {},
   "source": [
    "## Анализ данных"
   ]
  },
  {
   "cell_type": "markdown",
   "metadata": {},
   "source": [
    "### Посмотрите, как меняется концентрация металлов (Au, Ag, Pb) на различных этапах очистки. "
   ]
  },
  {
   "cell_type": "code",
   "execution_count": 13,
   "metadata": {},
   "outputs": [],
   "source": [
    "STAGES = ['rougher.input.feed', 'rougher.output.concentrate', 'primary_cleaner.output.concentrate','final.output.concentrate']\n",
    "METALS = ['au', 'pb', 'ag']"
   ]
  },
  {
   "cell_type": "code",
   "execution_count": 14,
   "metadata": {},
   "outputs": [],
   "source": [
    "def display_hist(df, metal):\n",
    "    df.plot.hist(bins=100, alpha=0.5, figsize=(15,12), grid = True)\n",
    "    plt.title(f'Концентрация {metal} на разных стадиях')\n",
    "    plt.legend(['Сырье', 'Черновой концентрат', 'Первичная очистка', 'Финальный концентрат'])\n",
    "    plt.show()"
   ]
  },
  {
   "cell_type": "code",
   "execution_count": 15,
   "metadata": {},
   "outputs": [],
   "source": [
    "def display_plot(df, metal):\n",
    "    plot = df.mean().plot(figsize=(15,12))\n",
    "    plot.set_title(f'Концентрация {metal} на разных стадиях', fontsize=16)\n",
    "    position = np.arange(4)\n",
    "    plot.set_xticks(position)\n",
    "    plot.set_xticklabels(['Сырье', 'Черновой концентрат', 'Первичная очистка', 'Финальный концентрат'], fontsize=14)"
   ]
  },
  {
   "cell_type": "code",
   "execution_count": 16,
   "metadata": {
    "scrolled": false
   },
   "outputs": [
    {
     "data": {
      "image/png": "[encoded data removed]",
      "text/plain": [
       "<Figure size 1080x864 with 1 Axes>"
      ]
     },
     "metadata": {
      "needs_background": "light"
     },
     "output_type": "display_data"
    },
    {
     "data": {
      "image/png": "[encoded data removed]",
      "text/plain": [
       "<Figure size 1080x864 with 1 Axes>"
      ]
     },
     "metadata": {
      "needs_background": "light"
     },
     "output_type": "display_data"
    },
    {
     "data": {
      "image/png": "[encoded data removed]",
      "text/plain": [
       "<Figure size 1080x864 with 1 Axes>"
      ]
     },
     "metadata": {
      "needs_background": "light"
     },
     "output_type": "display_data"
    },
    {
     "data": {
      "image/png": "[encoded data removed]",
      "text/plain": [
       "<Figure size 1080x864 with 1 Axes>"
      ]
     },
     "metadata": {
      "needs_background": "light"
     },
     "output_type": "display_data"
    },
    {
     "data": {
      "image/png": "[encoded data removed]",
      "text/plain": [
       "<Figure size 1080x864 with 1 Axes>"
      ]
     },
     "metadata": {
      "needs_background": "light"
     },
     "output_type": "display_data"
    },
    {
     "data": {
      "image/png": "[encoded data removed]",
      "text/plain": [
       "<Figure size 1080x864 with 1 Axes>"
      ]
     },
     "metadata": {
      "needs_background": "light"
     },
     "output_type": "display_data"
    }
   ],
   "source": [
    "for metal in METALS:\n",
    "    columns = []\n",
    "    for stage in STAGES:\n",
    "        columns.append(stage+'_'+metal)\n",
    "        \n",
    "    display_hist(df_full[columns], metal.upper())\n",
    "    display_plot(df_full[columns], metal.upper())"
   ]
  },
  {
   "cell_type": "markdown",
   "metadata": {},
   "source": [
    "**Вывод:** По графикам видно, у золота и свинца концентрация все время повышается, однако у свинца с каждым этапом рост замедляется, а у серебра концентрация уменьшается."
   ]
  },
  {
   "cell_type": "markdown",
   "metadata": {},
   "source": [
    "### Сравните распределения размеров гранул сырья на обучающей и тестовой выборках."
   ]
  },
  {
   "cell_type": "code",
   "execution_count": 17,
   "metadata": {},
   "outputs": [],
   "source": [
    "feed_sizes = pd.concat([df_train['rougher.input.feed_size'], df_test['rougher.input.feed_size'].dropna()], axis = 1)\n",
    "feed_sizes.columns = ['train', 'test']"
   ]
  },
  {
   "cell_type": "code",
   "execution_count": 18,
   "metadata": {},
   "outputs": [
    {
     "data": {
      "image/png": "[encoded data removed]",
      "text/plain": [
       "<Figure size 1080x864 with 1 Axes>"
      ]
     },
     "metadata": {
      "needs_background": "light"
     },
     "output_type": "display_data"
    }
   ],
   "source": [
    "feed_sizes['train'].hist(bins=200, alpha=0.5, label='train',figsize=(15, 12));\n",
    "feed_sizes['test'].hist(bins=200, alpha=0.5, label='test');\n",
    "plt.xlabel('размер частиц, мк')\n",
    "plt.ylabel('количество наблюдений')\n",
    "plt.legend(['Обучающая выборка', 'Тестовая выборка']);"
   ]
  },
  {
   "cell_type": "code",
   "execution_count": 19,
   "metadata": {},
   "outputs": [
    {
     "data": {
      "image/png": "[encoded data removed]",
      "text/plain": [
       "<Figure size 1080x864 with 1 Axes>"
      ]
     },
     "metadata": {
      "needs_background": "light"
     },
     "output_type": "display_data"
    }
   ],
   "source": [
    "feed_sizes.plot.kde(figsize=(15, 12))\n",
    "plt.title('Распределение размеров гранул сырья')\n",
    "plt.legend(['Обучающая выборка', 'Тестовая выборка'])\n",
    "plt.show()"
   ]
  },
  {
   "cell_type": "markdown",
   "metadata": {},
   "source": [
    "**Вывод:** По графикам видно, что распределения отличаются несущественно."
   ]
  },
  {
   "cell_type": "markdown",
   "metadata": {},
   "source": [
    "###  Исследуйте суммарную концентрацию всех веществ на разных стадиях: в сырье, в черновом и финальном концентратах.\n"
   ]
  },
  {
   "cell_type": "code",
   "execution_count": 20,
   "metadata": {},
   "outputs": [],
   "source": [
    "subs_sum = pd.DataFrame()\n",
    "STAGES = ['rougher.input.feed', 'rougher.output.concentrate', 'final.output.concentrate']\n",
    "SUBS = ['au', 'pb', 'sol', 'ag']\n",
    "\n",
    "for stage in STAGES:\n",
    "    temp=[]\n",
    "    for sub in SUBS:\n",
    "        temp.append(stage + '_' + sub)\n",
    "    subs_sum[stage] = df_train[temp].sum(axis=1)"
   ]
  },
  {
   "cell_type": "code",
   "execution_count": 21,
   "metadata": {},
   "outputs": [
    {
     "data": {
      "text/plain": [
       "['final.output.concentrate_au',\n",
       " 'final.output.concentrate_pb',\n",
       " 'final.output.concentrate_sol',\n",
       " 'final.output.concentrate_ag']"
      ]
     },
     "execution_count": 21,
     "metadata": {},
     "output_type": "execute_result"
    }
   ],
   "source": [
    "temp"
   ]
  },
  {
   "cell_type": "code",
   "execution_count": 22,
   "metadata": {},
   "outputs": [
    {
     "data": {
      "text/html": [
       "<div>\n",
       "<style scoped>\n",
       "    .dataframe tbody tr th:only-of-type {\n",
       "        vertical-align: middle;\n",
       "    }\n",
       "\n",
       "    .dataframe tbody tr th {\n",
       "        vertical-align: top;\n",
       "    }\n",
       "\n",
       "    .dataframe thead th {\n",
       "        text-align: right;\n",
       "    }\n",
       "</style>\n",
       "<table border=\"1\" class=\"dataframe\">\n",
       "  <thead>\n",
       "    <tr style=\"text-align: right;\">\n",
       "      <th></th>\n",
       "      <th>rougher.input.feed</th>\n",
       "      <th>rougher.output.concentrate</th>\n",
       "      <th>final.output.concentrate</th>\n",
       "    </tr>\n",
       "  </thead>\n",
       "  <tbody>\n",
       "    <tr>\n",
       "      <th>0</th>\n",
       "      <td>51.680034</td>\n",
       "      <td>66.424950</td>\n",
       "      <td>63.644396</td>\n",
       "    </tr>\n",
       "    <tr>\n",
       "      <th>1</th>\n",
       "      <td>50.659114</td>\n",
       "      <td>67.012710</td>\n",
       "      <td>63.957723</td>\n",
       "    </tr>\n",
       "    <tr>\n",
       "      <th>2</th>\n",
       "      <td>50.609929</td>\n",
       "      <td>66.103793</td>\n",
       "      <td>64.311180</td>\n",
       "    </tr>\n",
       "    <tr>\n",
       "      <th>3</th>\n",
       "      <td>51.061546</td>\n",
       "      <td>65.752751</td>\n",
       "      <td>63.573449</td>\n",
       "    </tr>\n",
       "    <tr>\n",
       "      <th>4</th>\n",
       "      <td>47.859163</td>\n",
       "      <td>65.908382</td>\n",
       "      <td>64.004667</td>\n",
       "    </tr>\n",
       "  </tbody>\n",
       "</table>\n",
       "</div>"
      ],
      "text/plain": [
       "   rougher.input.feed  rougher.output.concentrate  final.output.concentrate\n",
       "0           51.680034                   66.424950                 63.644396\n",
       "1           50.659114                   67.012710                 63.957723\n",
       "2           50.609929                   66.103793                 64.311180\n",
       "3           51.061546                   65.752751                 63.573449\n",
       "4           47.859163                   65.908382                 64.004667"
      ]
     },
     "execution_count": 22,
     "metadata": {},
     "output_type": "execute_result"
    }
   ],
   "source": [
    "subs_sum.head()"
   ]
  },
  {
   "cell_type": "code",
   "execution_count": 23,
   "metadata": {},
   "outputs": [
    {
     "data": {
      "text/html": [
       "<div>\n",
       "<style scoped>\n",
       "    .dataframe tbody tr th:only-of-type {\n",
       "        vertical-align: middle;\n",
       "    }\n",
       "\n",
       "    .dataframe tbody tr th {\n",
       "        vertical-align: top;\n",
       "    }\n",
       "\n",
       "    .dataframe thead th {\n",
       "        text-align: right;\n",
       "    }\n",
       "</style>\n",
       "<table border=\"1\" class=\"dataframe\">\n",
       "  <thead>\n",
       "    <tr style=\"text-align: right;\">\n",
       "      <th></th>\n",
       "      <th>rougher.input.feed</th>\n",
       "      <th>rougher.output.concentrate</th>\n",
       "      <th>final.output.concentrate</th>\n",
       "    </tr>\n",
       "  </thead>\n",
       "  <tbody>\n",
       "    <tr>\n",
       "      <th>count</th>\n",
       "      <td>14149.000000</td>\n",
       "      <td>14149.000000</td>\n",
       "      <td>14149.000000</td>\n",
       "    </tr>\n",
       "    <tr>\n",
       "      <th>mean</th>\n",
       "      <td>56.242170</td>\n",
       "      <td>67.173145</td>\n",
       "      <td>68.387872</td>\n",
       "    </tr>\n",
       "    <tr>\n",
       "      <th>std</th>\n",
       "      <td>7.029808</td>\n",
       "      <td>12.713129</td>\n",
       "      <td>7.023723</td>\n",
       "    </tr>\n",
       "    <tr>\n",
       "      <th>min</th>\n",
       "      <td>0.040000</td>\n",
       "      <td>0.000000</td>\n",
       "      <td>0.000000</td>\n",
       "    </tr>\n",
       "    <tr>\n",
       "      <th>25%</th>\n",
       "      <td>52.573579</td>\n",
       "      <td>64.914390</td>\n",
       "      <td>67.559819</td>\n",
       "    </tr>\n",
       "    <tr>\n",
       "      <th>50%</th>\n",
       "      <td>56.627635</td>\n",
       "      <td>69.175663</td>\n",
       "      <td>69.141502</td>\n",
       "    </tr>\n",
       "    <tr>\n",
       "      <th>75%</th>\n",
       "      <td>60.763234</td>\n",
       "      <td>73.429261</td>\n",
       "      <td>70.974661</td>\n",
       "    </tr>\n",
       "    <tr>\n",
       "      <th>max</th>\n",
       "      <td>74.458253</td>\n",
       "      <td>88.140119</td>\n",
       "      <td>80.210644</td>\n",
       "    </tr>\n",
       "  </tbody>\n",
       "</table>\n",
       "</div>"
      ],
      "text/plain": [
       "       rougher.input.feed  rougher.output.concentrate  \\\n",
       "count        14149.000000                14149.000000   \n",
       "mean            56.242170                   67.173145   \n",
       "std              7.029808                   12.713129   \n",
       "min              0.040000                    0.000000   \n",
       "25%             52.573579                   64.914390   \n",
       "50%             56.627635                   69.175663   \n",
       "75%             60.763234                   73.429261   \n",
       "max             74.458253                   88.140119   \n",
       "\n",
       "       final.output.concentrate  \n",
       "count              14149.000000  \n",
       "mean                  68.387872  \n",
       "std                    7.023723  \n",
       "min                    0.000000  \n",
       "25%                   67.559819  \n",
       "50%                   69.141502  \n",
       "75%                   70.974661  \n",
       "max                   80.210644  "
      ]
     },
     "execution_count": 23,
     "metadata": {},
     "output_type": "execute_result"
    }
   ],
   "source": [
    "subs_sum.describe()"
   ]
  },
  {
   "cell_type": "code",
   "execution_count": 24,
   "metadata": {},
   "outputs": [],
   "source": [
    "def display_hist(df):\n",
    "    df.plot.hist(bins=100, alpha=0.6, figsize=(15,12), grid = True)\n",
    "    plt.title('Суммарная концентрация всех веществ на разных стадиях')\n",
    "    plt.legend(['Сырье', 'Черновой концентрат', 'Финальный концентрат'])\n",
    "    plt.show() "
   ]
  },
  {
   "cell_type": "code",
   "execution_count": 25,
   "metadata": {},
   "outputs": [
    {
     "data": {
      "image/png": "[encoded data removed]",
      "text/plain": [
       "<Figure size 1080x864 with 1 Axes>"
      ]
     },
     "metadata": {
      "needs_background": "light"
     },
     "output_type": "display_data"
    }
   ],
   "source": [
    "display_hist(subs_sum)"
   ]
  },
  {
   "cell_type": "markdown",
   "metadata": {},
   "source": [
    "**Выводы:** Суммарный концентрат в финальной стадии ожидаемо чаще всего всего встречается с большой суммарной концентрацией. Также на графике можно заметить аномалии в районе нуля."
   ]
  },
  {
   "cell_type": "code",
   "execution_count": 26,
   "metadata": {},
   "outputs": [
    {
     "data": {
      "text/plain": [
       "['rougher.input.feed_au',\n",
       " 'rougher.input.feed_pb',\n",
       " 'rougher.input.feed_sol',\n",
       " 'rougher.input.feed_ag',\n",
       " 'rougher.output.concentrate_au',\n",
       " 'rougher.output.concentrate_pb',\n",
       " 'rougher.output.concentrate_sol',\n",
       " 'rougher.output.concentrate_ag',\n",
       " 'final.output.concentrate_au',\n",
       " 'final.output.concentrate_pb',\n",
       " 'final.output.concentrate_sol',\n",
       " 'final.output.concentrate_ag']"
      ]
     },
     "execution_count": 26,
     "metadata": {},
     "output_type": "execute_result"
    }
   ],
   "source": [
    "temp=[]\n",
    "for stage in STAGES:\n",
    "    for sub in SUBS:\n",
    "        temp.append(stage + '_' + sub)\n",
    "temp"
   ]
  },
  {
   "cell_type": "code",
   "execution_count": 27,
   "metadata": {},
   "outputs": [],
   "source": [
    "for col in temp:\n",
    "    df_train.loc[df_train[col] < 1, col] = np.nan"
   ]
  },
  {
   "cell_type": "code",
   "execution_count": 28,
   "metadata": {},
   "outputs": [
    {
     "data": {
      "text/plain": [
       "rougher.output.concentrate_sol                306\n",
       "rougher.output.concentrate_pb                 306\n",
       "rougher.output.concentrate_ag                 304\n",
       "rougher.output.concentrate_au                 303\n",
       "final.output.concentrate_sol                  153\n",
       "                                             ... \n",
       "primary_cleaner.state.floatbank8_c_level        0\n",
       "primary_cleaner.state.floatbank8_c_air          0\n",
       "primary_cleaner.state.floatbank8_b_level        0\n",
       "primary_cleaner.state.floatbank8_b_air          0\n",
       "secondary_cleaner.state.floatbank6_a_level      0\n",
       "Length: 87, dtype: int64"
      ]
     },
     "execution_count": 28,
     "metadata": {},
     "output_type": "execute_result"
    }
   ],
   "source": [
    "df_train.isna().sum().sort_values(ascending=False)"
   ]
  },
  {
   "cell_type": "code",
   "execution_count": 29,
   "metadata": {},
   "outputs": [],
   "source": [
    "df_train.dropna(inplace = True)"
   ]
  },
  {
   "cell_type": "code",
   "execution_count": 30,
   "metadata": {},
   "outputs": [
    {
     "data": {
      "image/png": "[encoded data removed]",
      "text/plain": [
       "<Figure size 1080x864 with 1 Axes>"
      ]
     },
     "metadata": {
      "needs_background": "light"
     },
     "output_type": "display_data"
    }
   ],
   "source": [
    "for stage in STAGES:\n",
    "    temp=[]\n",
    "    for sub in SUBS:\n",
    "        temp.append(stage + '_' + sub)\n",
    "    subs_sum[stage] = df_train[temp].sum(axis=1)\n",
    "display_hist(subs_sum)"
   ]
  },
  {
   "cell_type": "markdown",
   "metadata": {},
   "source": [
    "Удалил все околонулевые значения из необходимых колонок."
   ]
  },
  {
   "cell_type": "markdown",
   "metadata": {},
   "source": [
    "## Модель"
   ]
  },
  {
   "cell_type": "code",
   "execution_count": 31,
   "metadata": {},
   "outputs": [],
   "source": [
    "df_target = df_full[['date', 'rougher.output.recovery', 'final.output.recovery']]\n",
    "df_test = df_test.merge(df_target, how = 'left', on = 'date')\n",
    "df_test.drop(['date'], axis=1, inplace=True)"
   ]
  },
  {
   "cell_type": "code",
   "execution_count": 32,
   "metadata": {},
   "outputs": [],
   "source": [
    "df_train = df_train.drop(set(df_train.columns)-set(df_test.columns), axis=1)"
   ]
  },
  {
   "cell_type": "markdown",
   "metadata": {},
   "source": [
    "### Напишите функцию для вычисления итоговой sMAPE."
   ]
  },
  {
   "cell_type": "code",
   "execution_count": 33,
   "metadata": {},
   "outputs": [],
   "source": [
    "def sMAPE(target, prediction):\n",
    "    return 1 / len(target) * sum( abs(target - prediction) / ( (abs(target) + abs(prediction)) * 0.5) ) * 100"
   ]
  },
  {
   "cell_type": "code",
   "execution_count": 34,
   "metadata": {},
   "outputs": [],
   "source": [
    "def sMAPE_final(rough, final):\n",
    "    return 0.25 * rough + 0.75 * final"
   ]
  },
  {
   "cell_type": "code",
   "execution_count": 35,
   "metadata": {},
   "outputs": [],
   "source": [
    "custom_score = make_scorer(sMAPE)"
   ]
  },
  {
   "cell_type": "markdown",
   "metadata": {},
   "source": [
    "### Обучите разные модели и оцените их качество кросс-валидацией"
   ]
  },
  {
   "cell_type": "code",
   "execution_count": 36,
   "metadata": {},
   "outputs": [],
   "source": [
    "train_features_rougher = df_train.filter(regex='^rougher',axis=1)\n",
    "train_features_rougher = train_features_rougher.drop(['rougher.output.recovery'], axis=1)\n",
    "target_train_rougher = df_train['rougher.output.recovery']\n",
    "\n",
    "final_columns = list(set(df_test.columns) - set(train_features_rougher))\n",
    "train_features_final = df_train[final_columns].drop(['rougher.output.recovery', 'final.output.recovery'], axis=1)\n",
    "train_target_final = df_train['final.output.recovery']\n",
    "\n",
    "test_features_rougher = df_test.filter(regex='^rougher',axis=1)\n",
    "test_features_rougher = test_features_rougher.drop(['rougher.output.recovery'], axis=1)\n",
    "test_target_rougher = df_test['rougher.output.recovery']\n",
    "\n",
    "test_features_final = df_test[final_columns].drop([ 'rougher.output.recovery', 'final.output.recovery'], axis=1)\n",
    "test_target_final = df_test['final.output.recovery']"
   ]
  },
  {
   "cell_type": "code",
   "execution_count": 37,
   "metadata": {},
   "outputs": [],
   "source": [
    "final_columns = list(set(df_test.columns) - set(train_features_rougher))"
   ]
  },
  {
   "cell_type": "code",
   "execution_count": 38,
   "metadata": {},
   "outputs": [
    {
     "name": "stdout",
     "output_type": "stream",
     "text": [
      "(13542, 22)\n",
      "(13542,)\n",
      "(5290, 22)\n",
      "(5290,)\n"
     ]
    }
   ],
   "source": [
    "# проверим размер признаков\n",
    "print(train_features_rougher.shape)\n",
    "print(target_train_rougher.shape)\n",
    "\n",
    "print(test_features_rougher.shape)\n",
    "print(test_target_rougher.shape)"
   ]
  },
  {
   "cell_type": "code",
   "execution_count": 39,
   "metadata": {},
   "outputs": [
    {
     "name": "stdout",
     "output_type": "stream",
     "text": [
      "Итоговое sMape для DecisionTreeRegressor: 9.382104317636554\n"
     ]
    }
   ],
   "source": [
    "model =DecisionTreeRegressor(random_state=12345, max_depth = 1)\n",
    "rougher_lin = cross_val_score(model, train_features_rougher, target_train_rougher, scoring=custom_score, cv=5)\n",
    "final_lin =  cross_val_score(model, train_features_final, train_target_final, scoring=custom_score, cv=5)\n",
    "print('Итоговое sMape для DecisionTreeRegressor:', sMAPE_final(rougher_lin, final_lin).mean())"
   ]
  },
  {
   "cell_type": "code",
   "execution_count": 40,
   "metadata": {},
   "outputs": [
    {
     "name": "stdout",
     "output_type": "stream",
     "text": [
      "Итоговое sMape для LinearRegression: 8.935589684131513\n"
     ]
    }
   ],
   "source": [
    "model = make_pipeline(MinMaxScaler(),LinearRegression())\n",
    "rougher_lin = cross_val_score(model, train_features_rougher, target_train_rougher, scoring=custom_score, cv=5)\n",
    "final_lin =  cross_val_score(model, train_features_final, train_target_final, scoring=custom_score, cv=5)\n",
    "print('Итоговое sMape для LinearRegression:', sMAPE_final(rougher_lin, final_lin).mean())"
   ]
  },
  {
   "cell_type": "code",
   "execution_count": 41,
   "metadata": {
    "scrolled": true
   },
   "outputs": [
    {
     "name": "stdout",
     "output_type": "stream",
     "text": [
      "Итоговое sMape для RandomForestRegressor: 9.292464115899383\n"
     ]
    }
   ],
   "source": [
    "model = RandomForestRegressor(random_state=12345, max_depth = 1, n_estimators=5)\n",
    "rougher_lin = cross_val_score(model, train_features_rougher, target_train_rougher, scoring=custom_score, cv=5)\n",
    "final_lin =  cross_val_score(model, train_features_final, train_target_final, scoring=custom_score, cv=5)\n",
    "print('Итоговое sMape для RandomForestRegressor:', sMAPE_final(rougher_lin, final_lin).mean())"
   ]
  },
  {
   "cell_type": "markdown",
   "metadata": {},
   "source": [
    "**Выводы:** Все модели показали примерно одинаковый результат, однако я выбираю RandomForestRegressor, т.к. в данных много корреляций, которые могут плохо повлиять на линейные модели."
   ]
  },
  {
   "cell_type": "markdown",
   "metadata": {},
   "source": [
    "После очистки данных от аномалий результаты улучшились показатели метрики. Попробуем найти лучшие параметры для RandomForestRegressor."
   ]
  },
  {
   "cell_type": "code",
   "execution_count": 42,
   "metadata": {},
   "outputs": [],
   "source": [
    "custom_score = make_scorer(sMAPE, greater_is_better=False)\n",
    "rfc=RandomForestRegressor(random_state=12345)\n",
    "param_grid = { \n",
    "    'n_estimators': [1, 2, 3, 4, 5, 10],\n",
    "    'max_depth' : [1, 2, 3, 10]\n",
    "}\n",
    "CV_rfc = GridSearchCV(estimator=rfc, param_grid=param_grid, cv= 5, scoring=custom_score)"
   ]
  },
  {
   "cell_type": "code",
   "execution_count": 43,
   "metadata": {},
   "outputs": [],
   "source": [
    "grid_rougher = CV_rfc.fit(train_features_rougher, target_train_rougher)\n",
    "score_r = grid_rougher.best_score_"
   ]
  },
  {
   "cell_type": "code",
   "execution_count": 44,
   "metadata": {},
   "outputs": [
    {
     "data": {
      "text/plain": [
       "RandomForestRegressor(max_depth=10, n_estimators=10, random_state=12345)"
      ]
     },
     "execution_count": 44,
     "metadata": {},
     "output_type": "execute_result"
    }
   ],
   "source": [
    "grid_rougher.best_estimator_"
   ]
  },
  {
   "cell_type": "code",
   "execution_count": 45,
   "metadata": {},
   "outputs": [],
   "source": [
    "grid_final = CV_rfc.fit(train_features_final, train_target_final)\n",
    "score_f = grid_final.best_score_"
   ]
  },
  {
   "cell_type": "code",
   "execution_count": 46,
   "metadata": {},
   "outputs": [
    {
     "data": {
      "text/plain": [
       "RandomForestRegressor(max_depth=1, n_estimators=5, random_state=12345)"
      ]
     },
     "execution_count": 46,
     "metadata": {},
     "output_type": "execute_result"
    }
   ],
   "source": [
    "grid_final.best_estimator_"
   ]
  },
  {
   "cell_type": "code",
   "execution_count": 47,
   "metadata": {},
   "outputs": [
    {
     "name": "stdout",
     "output_type": "stream",
     "text": [
      "Итоговое sMape для RandomForestRegressor после перебора: -9.009132661387522\n"
     ]
    }
   ],
   "source": [
    "print('Итоговое sMape для RandomForestRegressor после перебора:', sMAPE_final(score_r, score_f))"
   ]
  },
  {
   "cell_type": "code",
   "execution_count": 51,
   "metadata": {},
   "outputs": [
    {
     "data": {
      "text/plain": [
       "8.87545565119713"
      ]
     },
     "execution_count": 51,
     "metadata": {},
     "output_type": "execute_result"
    }
   ],
   "source": [
    "model = RandomForestRegressor(max_depth=10, n_estimators=10, random_state=12345)\n",
    "model.fit(train_features_rougher, target_train_rougher)\n",
    "rougher_test_predictions = model.predict(test_features_rougher)\n",
    "\n",
    "model = RandomForestRegressor(max_depth=1, n_estimators=5, random_state=12345)\n",
    "model.fit(train_features_final, train_target_final)\n",
    "final_test_predictions = model.predict(test_features_final)\n",
    "\n",
    "sMAPE_final(sMAPE(test_target_rougher, rougher_test_predictions),sMAPE(test_target_final, final_test_predictions))"
   ]
  },
  {
   "attachments": {},
   "cell_type": "markdown",
   "metadata": {},
   "source": [
    "**Вывод:** После перебора параметров значениме метрики на тренировочной выборке достигло 9.01. На тестовой выборке после очистки и перебора гиперпараметров значение нашей метрики 8.88. Проверим ее аедкватность при помощи Dummy model."
   ]
  },
  {
   "cell_type": "markdown",
   "metadata": {},
   "source": [
    "### Dummy model"
   ]
  },
  {
   "cell_type": "code",
   "execution_count": 49,
   "metadata": {},
   "outputs": [
    {
     "name": "stdout",
     "output_type": "stream",
     "text": [
      "Итоговое sMAPE для DummyRegressor: 9.741369836701603\n"
     ]
    }
   ],
   "source": [
    "dummy_model_rougher = DummyRegressor(strategy=\"mean\")\n",
    "dummy_model_final = DummyRegressor(strategy=\"mean\")\n",
    "dummy_model_rougher.fit(train_features_rougher, target_train_rougher)\n",
    "dummy_model_final.fit( train_features_final, train_target_final)\n",
    "test_predictions_rougher = dummy_model_rougher.predict(test_features_rougher)\n",
    "test_predictions_final = dummy_model_final.predict(test_features_final)\n",
    "\n",
    "print('Итоговое sMAPE для DummyRegressor:',sMAPE_final(sMAPE(test_target_rougher, \n",
    "                                                             test_predictions_rougher),\n",
    "                                                       sMAPE(test_target_final, \n",
    "                                                             test_predictions_final)))"
   ]
  },
  {
   "cell_type": "markdown",
   "metadata": {},
   "source": [
    "**Выводы:** Наша модель показала результат лучше DummyRegressor, поэтому ее можно назвать адекватной."
   ]
  },
  {
   "cell_type": "markdown",
   "metadata": {},
   "source": [
    "## Итоговый вывод\n",
    "1. На первом этапе были изучены данные и проверена эффективность обогащения. Также была проведена предобработка, в ходе которой пропуски были заполнены предыдущими значениями, а также изменен тип столбца date.\n",
    "\n",
    "\n",
    "2. На втором этапе было изучено как меняется концентрация металлов, проведено сравнение как меняется концентрация металлов(анализ проводился по графикам), а также исследована суммарная концентрацию всех веществ на разных стадиях. В ходе последнего этапа были выявлены аномалии, которые я удалил.\n",
    "\n",
    "\n",
    "3. Были протестированы следующие модели:\n",
    "* RandomForestRegressor\n",
    "* DecisionTreeRegressor\n",
    "* LinearRegression\n",
    "\n",
    "Наилучший результат дал RandomForestRegressor после подбора параметров через GridSearchCV. Значение метрики на тренировочной выборке 9.01, **а на тестовой 8.88**. При этом **DummyRegressor на тесте дал 9.74**, следовательно наша модель является адекватной.\n",
    "\n",
    "Лучшие параметры RandomForestRegressor:\n",
    "* для rougher: **max_depth=10, n_estimators=10**\n",
    "* для final: **max_depth=1, n_estimators=5**"
   ]
  }
 ],
 "metadata": {
  "ExecuteTimeLog": [
   {
    "duration": 821,
    "start_time": "2022-12-26T15:51:13.840Z"
   },
   {
    "duration": 3049,
    "start_time": "2022-12-26T15:51:58.924Z"
   },
   {
    "duration": 702,
    "start_time": "2022-12-26T15:56:10.544Z"
   },
   {
    "duration": 42,
    "start_time": "2022-12-26T15:56:27.593Z"
   },
   {
    "duration": 43,
    "start_time": "2022-12-26T15:56:37.081Z"
   },
   {
    "duration": 42,
    "start_time": "2022-12-26T15:56:44.770Z"
   },
   {
    "duration": 57,
    "start_time": "2022-12-26T15:57:07.070Z"
   },
   {
    "duration": 609,
    "start_time": "2022-12-26T16:03:23.851Z"
   },
   {
    "duration": 731,
    "start_time": "2022-12-26T16:05:01.300Z"
   },
   {
    "duration": 73,
    "start_time": "2022-12-26T16:23:08.749Z"
   },
   {
    "duration": 26,
    "start_time": "2022-12-26T16:23:26.835Z"
   },
   {
    "duration": 6,
    "start_time": "2022-12-26T16:23:51.529Z"
   },
   {
    "duration": 7,
    "start_time": "2022-12-26T16:26:26.291Z"
   },
   {
    "duration": 7,
    "start_time": "2022-12-26T16:27:04.102Z"
   },
   {
    "duration": 683,
    "start_time": "2022-12-26T16:27:23.287Z"
   },
   {
    "duration": 5,
    "start_time": "2022-12-26T16:27:27.455Z"
   },
   {
    "duration": 6,
    "start_time": "2022-12-26T16:27:38.035Z"
   },
   {
    "duration": 38,
    "start_time": "2022-12-26T16:40:46.137Z"
   },
   {
    "duration": 5,
    "start_time": "2022-12-26T16:40:52.145Z"
   },
   {
    "duration": 6,
    "start_time": "2022-12-26T16:59:09.018Z"
   },
   {
    "duration": 20,
    "start_time": "2022-12-26T17:08:01.658Z"
   },
   {
    "duration": 12,
    "start_time": "2022-12-26T17:10:57.040Z"
   },
   {
    "duration": 5,
    "start_time": "2022-12-26T17:11:17.296Z"
   },
   {
    "duration": 10,
    "start_time": "2022-12-26T17:27:14.393Z"
   },
   {
    "duration": 17,
    "start_time": "2022-12-26T17:28:49.936Z"
   },
   {
    "duration": 13,
    "start_time": "2022-12-26T17:29:05.100Z"
   },
   {
    "duration": 22,
    "start_time": "2022-12-26T17:29:12.866Z"
   },
   {
    "duration": 26,
    "start_time": "2022-12-26T17:39:11.769Z"
   },
   {
    "duration": 3,
    "start_time": "2022-12-26T17:40:22.985Z"
   },
   {
    "duration": 4,
    "start_time": "2022-12-26T17:41:13.822Z"
   },
   {
    "duration": 2364,
    "start_time": "2022-12-26T17:41:22.324Z"
   },
   {
    "duration": 51,
    "start_time": "2022-12-26T17:41:55.448Z"
   },
   {
    "duration": 2450,
    "start_time": "2022-12-26T17:42:00.646Z"
   },
   {
    "duration": 3,
    "start_time": "2022-12-26T17:43:14.521Z"
   },
   {
    "duration": 5,
    "start_time": "2022-12-26T17:43:14.866Z"
   },
   {
    "duration": 18,
    "start_time": "2022-12-26T17:43:15.356Z"
   },
   {
    "duration": 3,
    "start_time": "2022-12-26T17:43:22.826Z"
   },
   {
    "duration": 4,
    "start_time": "2022-12-26T17:43:23.389Z"
   },
   {
    "duration": 13,
    "start_time": "2022-12-26T17:43:23.902Z"
   },
   {
    "duration": 3,
    "start_time": "2022-12-26T17:43:40.739Z"
   },
   {
    "duration": 3,
    "start_time": "2022-12-26T17:44:29.047Z"
   },
   {
    "duration": 3,
    "start_time": "2022-12-26T17:44:29.244Z"
   },
   {
    "duration": 2338,
    "start_time": "2022-12-26T17:44:29.648Z"
   },
   {
    "duration": 3,
    "start_time": "2022-12-26T17:44:52.436Z"
   },
   {
    "duration": 2727,
    "start_time": "2022-12-26T17:44:53.006Z"
   },
   {
    "duration": 4,
    "start_time": "2022-12-26T17:48:45.077Z"
   },
   {
    "duration": 2666,
    "start_time": "2022-12-26T17:48:46.144Z"
   },
   {
    "duration": 4,
    "start_time": "2022-12-26T17:49:51.738Z"
   },
   {
    "duration": 2774,
    "start_time": "2022-12-26T17:49:52.453Z"
   },
   {
    "duration": 3,
    "start_time": "2022-12-26T17:50:56.196Z"
   },
   {
    "duration": 2594,
    "start_time": "2022-12-26T17:50:56.618Z"
   },
   {
    "duration": 3,
    "start_time": "2022-12-26T17:51:05.040Z"
   },
   {
    "duration": 2702,
    "start_time": "2022-12-26T17:51:05.277Z"
   },
   {
    "duration": 4,
    "start_time": "2022-12-26T17:54:52.611Z"
   },
   {
    "duration": 1884,
    "start_time": "2022-12-26T17:55:05.842Z"
   },
   {
    "duration": 4,
    "start_time": "2022-12-26T17:56:50.621Z"
   },
   {
    "duration": 3143,
    "start_time": "2022-12-26T17:56:53.204Z"
   },
   {
    "duration": 4,
    "start_time": "2022-12-26T17:59:30.701Z"
   },
   {
    "duration": 1077,
    "start_time": "2022-12-26T17:59:33.994Z"
   },
   {
    "duration": 2,
    "start_time": "2022-12-26T17:59:41.837Z"
   },
   {
    "duration": 1048,
    "start_time": "2022-12-26T17:59:43.397Z"
   },
   {
    "duration": 4,
    "start_time": "2022-12-26T18:00:54.288Z"
   },
   {
    "duration": 2943,
    "start_time": "2022-12-26T18:00:57.635Z"
   },
   {
    "duration": 38,
    "start_time": "2022-12-26T18:01:11.393Z"
   },
   {
    "duration": 4,
    "start_time": "2022-12-26T18:01:29.734Z"
   },
   {
    "duration": 2792,
    "start_time": "2022-12-26T18:01:32.111Z"
   },
   {
    "duration": 3,
    "start_time": "2022-12-26T18:01:53.590Z"
   },
   {
    "duration": 2788,
    "start_time": "2022-12-26T18:01:55.921Z"
   },
   {
    "duration": 3,
    "start_time": "2022-12-26T18:02:31.061Z"
   },
   {
    "duration": 3146,
    "start_time": "2022-12-26T18:02:32.827Z"
   },
   {
    "duration": 3,
    "start_time": "2022-12-26T18:05:23.180Z"
   },
   {
    "duration": 3267,
    "start_time": "2022-12-26T18:05:25.082Z"
   },
   {
    "duration": 4,
    "start_time": "2022-12-26T18:07:13.222Z"
   },
   {
    "duration": 1026,
    "start_time": "2022-12-26T18:07:14.564Z"
   },
   {
    "duration": 4,
    "start_time": "2022-12-26T18:07:27.795Z"
   },
   {
    "duration": 1099,
    "start_time": "2022-12-26T18:07:28.947Z"
   },
   {
    "duration": 4,
    "start_time": "2022-12-26T18:20:51.139Z"
   },
   {
    "duration": 926,
    "start_time": "2022-12-26T18:20:51.638Z"
   },
   {
    "duration": 4,
    "start_time": "2022-12-26T18:21:01.763Z"
   },
   {
    "duration": 3214,
    "start_time": "2022-12-26T18:21:02.132Z"
   },
   {
    "duration": 4,
    "start_time": "2022-12-26T18:22:38.572Z"
   },
   {
    "duration": 1207,
    "start_time": "2022-12-26T18:22:38.794Z"
   },
   {
    "duration": 4,
    "start_time": "2022-12-26T18:23:07.722Z"
   },
   {
    "duration": 2996,
    "start_time": "2022-12-26T18:23:08.009Z"
   },
   {
    "duration": 4,
    "start_time": "2022-12-26T18:23:40.513Z"
   },
   {
    "duration": 943,
    "start_time": "2022-12-26T18:23:40.772Z"
   },
   {
    "duration": 4,
    "start_time": "2022-12-26T18:24:09.821Z"
   },
   {
    "duration": 3064,
    "start_time": "2022-12-26T18:24:10.002Z"
   },
   {
    "duration": 4,
    "start_time": "2022-12-26T18:24:31.067Z"
   },
   {
    "duration": 1075,
    "start_time": "2022-12-26T18:24:31.508Z"
   },
   {
    "duration": 4,
    "start_time": "2022-12-26T18:25:24.151Z"
   },
   {
    "duration": 3154,
    "start_time": "2022-12-26T18:25:24.365Z"
   },
   {
    "duration": 4,
    "start_time": "2022-12-26T18:25:40.047Z"
   },
   {
    "duration": 3098,
    "start_time": "2022-12-26T18:25:40.217Z"
   },
   {
    "duration": 5,
    "start_time": "2022-12-26T18:37:30.085Z"
   },
   {
    "duration": 12,
    "start_time": "2022-12-26T18:37:33.992Z"
   },
   {
    "duration": 8,
    "start_time": "2022-12-26T18:38:03.383Z"
   },
   {
    "duration": 7,
    "start_time": "2022-12-26T18:39:16.308Z"
   },
   {
    "duration": 17,
    "start_time": "2022-12-26T18:39:25.044Z"
   },
   {
    "duration": 3,
    "start_time": "2022-12-26T18:42:06.985Z"
   },
   {
    "duration": 667,
    "start_time": "2022-12-26T18:42:07.372Z"
   },
   {
    "duration": 632,
    "start_time": "2022-12-26T18:42:08.620Z"
   },
   {
    "duration": 7,
    "start_time": "2022-12-26T18:42:10.683Z"
   },
   {
    "duration": 5,
    "start_time": "2022-12-26T18:42:10.889Z"
   },
   {
    "duration": 13,
    "start_time": "2022-12-26T18:42:22.435Z"
   },
   {
    "duration": 9,
    "start_time": "2022-12-26T18:42:35.295Z"
   },
   {
    "duration": 1277,
    "start_time": "2022-12-26T18:43:16.386Z"
   },
   {
    "duration": 704,
    "start_time": "2022-12-26T18:43:17.665Z"
   },
   {
    "duration": 603,
    "start_time": "2022-12-26T18:43:18.371Z"
   },
   {
    "duration": 6,
    "start_time": "2022-12-26T18:43:18.976Z"
   },
   {
    "duration": 4,
    "start_time": "2022-12-26T18:43:18.984Z"
   },
   {
    "duration": 7,
    "start_time": "2022-12-26T18:43:18.989Z"
   },
   {
    "duration": 6,
    "start_time": "2022-12-26T18:43:18.997Z"
   },
   {
    "duration": 20,
    "start_time": "2022-12-26T18:43:19.004Z"
   },
   {
    "duration": 14,
    "start_time": "2022-12-26T18:43:19.025Z"
   },
   {
    "duration": 38,
    "start_time": "2022-12-26T18:43:19.041Z"
   },
   {
    "duration": 13,
    "start_time": "2022-12-26T18:43:19.081Z"
   },
   {
    "duration": 17,
    "start_time": "2022-12-26T18:43:19.096Z"
   },
   {
    "duration": 3,
    "start_time": "2022-12-26T18:43:19.114Z"
   },
   {
    "duration": 6,
    "start_time": "2022-12-26T18:43:19.118Z"
   },
   {
    "duration": 9,
    "start_time": "2022-12-26T18:43:19.126Z"
   },
   {
    "duration": 2960,
    "start_time": "2022-12-26T18:43:19.136Z"
   },
   {
    "duration": 5,
    "start_time": "2022-12-26T18:43:22.098Z"
   },
   {
    "duration": 10,
    "start_time": "2022-12-26T18:43:22.105Z"
   },
   {
    "duration": 693,
    "start_time": "2022-12-26T18:44:18.236Z"
   },
   {
    "duration": 1344,
    "start_time": "2022-12-26T18:44:51.686Z"
   },
   {
    "duration": 771,
    "start_time": "2022-12-26T18:44:59.522Z"
   },
   {
    "duration": 818,
    "start_time": "2022-12-26T18:45:19.919Z"
   },
   {
    "duration": 699,
    "start_time": "2022-12-26T18:45:23.631Z"
   },
   {
    "duration": 839,
    "start_time": "2022-12-26T18:45:34.101Z"
   },
   {
    "duration": 764,
    "start_time": "2022-12-26T18:45:44.963Z"
   },
   {
    "duration": 108,
    "start_time": "2022-12-26T18:46:49.146Z"
   },
   {
    "duration": 599,
    "start_time": "2022-12-26T18:46:57.159Z"
   },
   {
    "duration": 626,
    "start_time": "2022-12-26T18:47:12.056Z"
   },
   {
    "duration": 927,
    "start_time": "2022-12-26T18:47:31.035Z"
   },
   {
    "duration": 646,
    "start_time": "2022-12-26T18:47:31.964Z"
   },
   {
    "duration": 12,
    "start_time": "2022-12-26T18:48:13.578Z"
   },
   {
    "duration": 3,
    "start_time": "2022-12-26T18:48:59.465Z"
   },
   {
    "duration": 9,
    "start_time": "2022-12-26T18:49:03.366Z"
   },
   {
    "duration": 6,
    "start_time": "2022-12-26T18:49:25.887Z"
   },
   {
    "duration": 12,
    "start_time": "2022-12-26T18:49:50.658Z"
   },
   {
    "duration": 5,
    "start_time": "2022-12-26T18:58:47.774Z"
   },
   {
    "duration": 5,
    "start_time": "2022-12-26T18:58:52.523Z"
   },
   {
    "duration": 4,
    "start_time": "2022-12-26T18:59:03.224Z"
   },
   {
    "duration": 5,
    "start_time": "2022-12-26T18:59:06.044Z"
   },
   {
    "duration": 53,
    "start_time": "2022-12-26T19:00:33.662Z"
   },
   {
    "duration": 45,
    "start_time": "2022-12-26T19:00:40.947Z"
   },
   {
    "duration": 50,
    "start_time": "2022-12-26T19:01:59.712Z"
   },
   {
    "duration": 42,
    "start_time": "2022-12-26T19:05:37.643Z"
   },
   {
    "duration": 44,
    "start_time": "2022-12-26T19:05:47.826Z"
   },
   {
    "duration": 44,
    "start_time": "2022-12-26T19:06:38.055Z"
   },
   {
    "duration": 3,
    "start_time": "2022-12-26T19:06:42.620Z"
   },
   {
    "duration": 15,
    "start_time": "2022-12-26T19:07:01.930Z"
   },
   {
    "duration": 3,
    "start_time": "2022-12-26T19:07:15.713Z"
   },
   {
    "duration": 1542,
    "start_time": "2022-12-26T19:07:15.884Z"
   },
   {
    "duration": 6,
    "start_time": "2022-12-26T19:07:24.986Z"
   },
   {
    "duration": 972,
    "start_time": "2022-12-26T19:07:25.262Z"
   },
   {
    "duration": 694,
    "start_time": "2022-12-26T19:07:26.236Z"
   },
   {
    "duration": 1500,
    "start_time": "2022-12-26T19:09:28.630Z"
   },
   {
    "duration": 4,
    "start_time": "2022-12-26T19:09:32.183Z"
   },
   {
    "duration": 19,
    "start_time": "2022-12-26T19:09:32.358Z"
   },
   {
    "duration": 3,
    "start_time": "2022-12-26T19:09:50.591Z"
   },
   {
    "duration": 7,
    "start_time": "2022-12-26T19:09:50.750Z"
   },
   {
    "duration": 8,
    "start_time": "2022-12-26T19:10:10.506Z"
   },
   {
    "duration": 10,
    "start_time": "2022-12-26T19:10:34.567Z"
   },
   {
    "duration": 5,
    "start_time": "2022-12-26T19:10:38.244Z"
   },
   {
    "duration": 3,
    "start_time": "2022-12-26T19:12:40.241Z"
   },
   {
    "duration": 9,
    "start_time": "2022-12-26T19:12:40.593Z"
   },
   {
    "duration": 4,
    "start_time": "2022-12-26T19:36:46.369Z"
   },
   {
    "duration": 3,
    "start_time": "2022-12-26T19:36:56.884Z"
   },
   {
    "duration": 9,
    "start_time": "2022-12-26T19:37:55.009Z"
   },
   {
    "duration": 3,
    "start_time": "2022-12-26T19:38:15.500Z"
   },
   {
    "duration": 2,
    "start_time": "2022-12-26T19:38:21.259Z"
   },
   {
    "duration": 12,
    "start_time": "2022-12-26T19:44:28.189Z"
   },
   {
    "duration": 14,
    "start_time": "2022-12-26T19:44:43.934Z"
   },
   {
    "duration": 8,
    "start_time": "2022-12-26T19:44:59.269Z"
   },
   {
    "duration": 10,
    "start_time": "2022-12-26T19:45:02.843Z"
   },
   {
    "duration": 26,
    "start_time": "2022-12-26T19:49:42.111Z"
   },
   {
    "duration": 26,
    "start_time": "2022-12-26T19:51:28.877Z"
   },
   {
    "duration": 4,
    "start_time": "2022-12-26T19:51:42.314Z"
   },
   {
    "duration": 15,
    "start_time": "2022-12-26T19:55:06.429Z"
   },
   {
    "duration": 9,
    "start_time": "2022-12-26T19:55:33.637Z"
   },
   {
    "duration": 9,
    "start_time": "2022-12-26T19:55:42.976Z"
   },
   {
    "duration": 14,
    "start_time": "2022-12-26T19:56:03.152Z"
   },
   {
    "duration": 15,
    "start_time": "2022-12-26T19:56:07.206Z"
   },
   {
    "duration": 27,
    "start_time": "2022-12-26T19:56:14.224Z"
   },
   {
    "duration": 9,
    "start_time": "2022-12-26T19:56:30.464Z"
   },
   {
    "duration": 8,
    "start_time": "2022-12-26T19:56:41.463Z"
   },
   {
    "duration": 6,
    "start_time": "2022-12-26T19:56:52.589Z"
   },
   {
    "duration": 1356,
    "start_time": "2022-12-26T19:57:01.151Z"
   },
   {
    "duration": 728,
    "start_time": "2022-12-26T19:57:02.509Z"
   },
   {
    "duration": 672,
    "start_time": "2022-12-26T19:57:03.239Z"
   },
   {
    "duration": 8,
    "start_time": "2022-12-26T19:57:03.913Z"
   },
   {
    "duration": 9,
    "start_time": "2022-12-26T19:57:03.922Z"
   },
   {
    "duration": 24,
    "start_time": "2022-12-26T19:57:03.933Z"
   },
   {
    "duration": 8,
    "start_time": "2022-12-26T19:57:03.958Z"
   },
   {
    "duration": 37,
    "start_time": "2022-12-26T19:57:03.968Z"
   },
   {
    "duration": 12,
    "start_time": "2022-12-26T19:57:04.006Z"
   },
   {
    "duration": 11,
    "start_time": "2022-12-26T19:57:04.021Z"
   },
   {
    "duration": 13,
    "start_time": "2022-12-26T19:57:04.034Z"
   },
   {
    "duration": 28,
    "start_time": "2022-12-26T19:57:04.049Z"
   },
   {
    "duration": 2,
    "start_time": "2022-12-26T19:57:04.079Z"
   },
   {
    "duration": 7,
    "start_time": "2022-12-26T19:57:04.083Z"
   },
   {
    "duration": 6,
    "start_time": "2022-12-26T19:57:04.091Z"
   },
   {
    "duration": 3311,
    "start_time": "2022-12-26T19:57:04.099Z"
   },
   {
    "duration": 6,
    "start_time": "2022-12-26T19:57:07.412Z"
   },
   {
    "duration": 754,
    "start_time": "2022-12-26T19:57:07.419Z"
   },
   {
    "duration": 734,
    "start_time": "2022-12-26T19:57:08.176Z"
   },
   {
    "duration": 13,
    "start_time": "2022-12-26T19:57:08.911Z"
   },
   {
    "duration": 8,
    "start_time": "2022-12-26T19:57:08.926Z"
   },
   {
    "duration": 35,
    "start_time": "2022-12-26T19:57:08.935Z"
   },
   {
    "duration": 38,
    "start_time": "2022-12-26T19:57:08.972Z"
   },
   {
    "duration": 10,
    "start_time": "2022-12-26T19:57:09.012Z"
   },
   {
    "duration": 18,
    "start_time": "2022-12-26T19:57:09.023Z"
   },
   {
    "duration": 18,
    "start_time": "2022-12-26T19:57:09.043Z"
   },
   {
    "duration": 11,
    "start_time": "2022-12-26T19:57:46.387Z"
   },
   {
    "duration": 10,
    "start_time": "2022-12-26T19:58:01.491Z"
   },
   {
    "duration": 25,
    "start_time": "2022-12-26T20:01:46.761Z"
   },
   {
    "duration": 25,
    "start_time": "2022-12-26T20:02:38.574Z"
   },
   {
    "duration": 108,
    "start_time": "2022-12-26T20:08:22.069Z"
   },
   {
    "duration": 4,
    "start_time": "2022-12-26T20:08:57.910Z"
   },
   {
    "duration": 10,
    "start_time": "2022-12-26T20:09:02.674Z"
   },
   {
    "duration": 4,
    "start_time": "2022-12-26T20:09:09.990Z"
   },
   {
    "duration": 27,
    "start_time": "2022-12-26T20:11:59.095Z"
   },
   {
    "duration": 9,
    "start_time": "2022-12-26T20:11:59.493Z"
   },
   {
    "duration": 22,
    "start_time": "2022-12-26T20:12:21.535Z"
   },
   {
    "duration": 20,
    "start_time": "2022-12-26T20:12:28.016Z"
   },
   {
    "duration": 10,
    "start_time": "2022-12-26T20:13:20.380Z"
   },
   {
    "duration": 22,
    "start_time": "2022-12-26T20:13:20.951Z"
   },
   {
    "duration": 12,
    "start_time": "2022-12-26T20:13:36.413Z"
   },
   {
    "duration": 3,
    "start_time": "2022-12-26T20:13:43.378Z"
   },
   {
    "duration": 167725,
    "start_time": "2022-12-26T20:13:45.262Z"
   },
   {
    "duration": 0,
    "start_time": "2022-12-26T20:16:32.988Z"
   },
   {
    "duration": 0,
    "start_time": "2022-12-26T20:16:32.990Z"
   },
   {
    "duration": 0,
    "start_time": "2022-12-26T20:16:32.991Z"
   },
   {
    "duration": 4,
    "start_time": "2022-12-26T20:17:29.512Z"
   },
   {
    "duration": 23,
    "start_time": "2022-12-26T20:17:30.140Z"
   },
   {
    "duration": 3,
    "start_time": "2022-12-26T20:17:51.017Z"
   },
   {
    "duration": 26,
    "start_time": "2022-12-26T20:17:51.521Z"
   },
   {
    "duration": 9,
    "start_time": "2022-12-26T20:21:17.644Z"
   },
   {
    "duration": 3,
    "start_time": "2022-12-26T20:21:44.862Z"
   },
   {
    "duration": 900,
    "start_time": "2022-12-26T20:21:53.679Z"
   },
   {
    "duration": 2314,
    "start_time": "2022-12-26T20:22:05.173Z"
   },
   {
    "duration": 2691,
    "start_time": "2022-12-26T20:22:22.291Z"
   },
   {
    "duration": 4,
    "start_time": "2022-12-26T20:23:31.500Z"
   },
   {
    "duration": 3,
    "start_time": "2022-12-26T20:26:11.454Z"
   },
   {
    "duration": 22,
    "start_time": "2022-12-26T20:26:11.920Z"
   },
   {
    "duration": 89231,
    "start_time": "2022-12-26T20:27:31.581Z"
   },
   {
    "duration": 15,
    "start_time": "2022-12-26T20:30:50.504Z"
   },
   {
    "duration": 4,
    "start_time": "2022-12-26T20:31:32.676Z"
   },
   {
    "duration": 22,
    "start_time": "2022-12-26T20:31:37.354Z"
   },
   {
    "duration": 4,
    "start_time": "2022-12-26T20:32:01.806Z"
   },
   {
    "duration": 23,
    "start_time": "2022-12-26T20:32:02.314Z"
   },
   {
    "duration": 46627,
    "start_time": "2022-12-26T20:33:34.274Z"
   },
   {
    "duration": 1757,
    "start_time": "2022-12-26T20:34:23.289Z"
   },
   {
    "duration": 13,
    "start_time": "2022-12-26T20:35:24.594Z"
   },
   {
    "duration": 6587,
    "start_time": "2022-12-26T20:35:41.156Z"
   },
   {
    "duration": 2055,
    "start_time": "2022-12-26T20:38:24.912Z"
   },
   {
    "duration": 1856,
    "start_time": "2022-12-26T20:38:52.433Z"
   },
   {
    "duration": 3,
    "start_time": "2022-12-26T20:44:24.671Z"
   },
   {
    "duration": 6,
    "start_time": "2022-12-26T20:46:26.450Z"
   },
   {
    "duration": 24,
    "start_time": "2022-12-26T20:46:33.242Z"
   },
   {
    "duration": 3,
    "start_time": "2022-12-26T20:47:01.617Z"
   },
   {
    "duration": 3,
    "start_time": "2022-12-26T20:47:10.411Z"
   },
   {
    "duration": 4,
    "start_time": "2022-12-26T20:47:13.148Z"
   },
   {
    "duration": 3,
    "start_time": "2022-12-26T20:47:39.009Z"
   },
   {
    "duration": 3,
    "start_time": "2022-12-26T20:48:02.873Z"
   },
   {
    "duration": 56,
    "start_time": "2022-12-27T07:07:53.123Z"
   },
   {
    "duration": 1497,
    "start_time": "2022-12-27T07:16:43.251Z"
   },
   {
    "duration": 4,
    "start_time": "2022-12-27T07:20:11.382Z"
   },
   {
    "duration": 2868,
    "start_time": "2022-12-27T07:20:12.318Z"
   },
   {
    "duration": 1336,
    "start_time": "2022-12-27T07:20:31.631Z"
   },
   {
    "duration": 624,
    "start_time": "2022-12-27T07:20:32.969Z"
   },
   {
    "duration": 693,
    "start_time": "2022-12-27T07:20:33.595Z"
   },
   {
    "duration": 23,
    "start_time": "2022-12-27T07:20:34.290Z"
   },
   {
    "duration": 6,
    "start_time": "2022-12-27T07:20:34.316Z"
   },
   {
    "duration": 7,
    "start_time": "2022-12-27T07:20:34.324Z"
   },
   {
    "duration": 8,
    "start_time": "2022-12-27T07:20:34.333Z"
   },
   {
    "duration": 28,
    "start_time": "2022-12-27T07:20:34.343Z"
   },
   {
    "duration": 51,
    "start_time": "2022-12-27T07:20:34.373Z"
   },
   {
    "duration": 12,
    "start_time": "2022-12-27T07:20:34.426Z"
   },
   {
    "duration": 18,
    "start_time": "2022-12-27T07:20:34.440Z"
   },
   {
    "duration": 17,
    "start_time": "2022-12-27T07:20:34.459Z"
   },
   {
    "duration": 3,
    "start_time": "2022-12-27T07:20:34.477Z"
   },
   {
    "duration": 6,
    "start_time": "2022-12-27T07:20:34.512Z"
   },
   {
    "duration": 8,
    "start_time": "2022-12-27T07:20:34.519Z"
   },
   {
    "duration": 3327,
    "start_time": "2022-12-27T07:20:34.528Z"
   },
   {
    "duration": 7,
    "start_time": "2022-12-27T07:20:37.856Z"
   },
   {
    "duration": 900,
    "start_time": "2022-12-27T07:20:37.864Z"
   },
   {
    "duration": 651,
    "start_time": "2022-12-27T07:20:38.766Z"
   },
   {
    "duration": 12,
    "start_time": "2022-12-27T07:20:39.418Z"
   },
   {
    "duration": 7,
    "start_time": "2022-12-27T07:20:39.432Z"
   },
   {
    "duration": 16,
    "start_time": "2022-12-27T07:20:39.440Z"
   },
   {
    "duration": 12,
    "start_time": "2022-12-27T07:20:39.458Z"
   },
   {
    "duration": 6,
    "start_time": "2022-12-27T07:20:39.471Z"
   },
   {
    "duration": 16,
    "start_time": "2022-12-27T07:20:39.479Z"
   },
   {
    "duration": 6,
    "start_time": "2022-12-27T07:20:39.496Z"
   },
   {
    "duration": 4,
    "start_time": "2022-12-27T07:20:39.511Z"
   },
   {
    "duration": 35,
    "start_time": "2022-12-27T07:20:39.517Z"
   },
   {
    "duration": 6,
    "start_time": "2022-12-27T07:20:48.749Z"
   },
   {
    "duration": 108,
    "start_time": "2022-12-27T07:21:02.293Z"
   },
   {
    "duration": 10,
    "start_time": "2022-12-27T07:21:12.678Z"
   },
   {
    "duration": 5,
    "start_time": "2022-12-27T07:21:18.313Z"
   },
   {
    "duration": 4,
    "start_time": "2022-12-27T07:22:45.369Z"
   },
   {
    "duration": 442,
    "start_time": "2022-12-27T07:23:43.855Z"
   },
   {
    "duration": 406,
    "start_time": "2022-12-27T07:24:11.741Z"
   },
   {
    "duration": 19,
    "start_time": "2022-12-27T07:26:06.483Z"
   },
   {
    "duration": 4,
    "start_time": "2022-12-27T07:26:11.939Z"
   },
   {
    "duration": 3,
    "start_time": "2022-12-27T07:26:39.652Z"
   },
   {
    "duration": 4,
    "start_time": "2022-12-27T07:27:21.562Z"
   },
   {
    "duration": 3,
    "start_time": "2022-12-27T07:28:24.981Z"
   },
   {
    "duration": 190324,
    "start_time": "2022-12-27T07:30:27.709Z"
   },
   {
    "duration": 4369,
    "start_time": "2022-12-27T07:33:42.453Z"
   },
   {
    "duration": 2196,
    "start_time": "2022-12-27T07:33:46.824Z"
   },
   {
    "duration": 26,
    "start_time": "2022-12-27T07:34:16.626Z"
   },
   {
    "duration": 25,
    "start_time": "2022-12-27T07:34:40.062Z"
   },
   {
    "duration": 4286,
    "start_time": "2022-12-27T07:36:00.838Z"
   },
   {
    "duration": 5,
    "start_time": "2022-12-27T07:36:31.256Z"
   },
   {
    "duration": 5,
    "start_time": "2022-12-27T07:36:37.503Z"
   },
   {
    "duration": 4,
    "start_time": "2022-12-27T07:53:19.717Z"
   },
   {
    "duration": 6,
    "start_time": "2022-12-27T07:53:35.251Z"
   },
   {
    "duration": 12,
    "start_time": "2022-12-27T07:54:03.627Z"
   },
   {
    "duration": 20,
    "start_time": "2022-12-27T07:54:10.005Z"
   },
   {
    "duration": 16,
    "start_time": "2022-12-27T07:54:19.724Z"
   },
   {
    "duration": 25,
    "start_time": "2022-12-27T07:54:32.665Z"
   },
   {
    "duration": 15,
    "start_time": "2022-12-27T07:55:29.729Z"
   },
   {
    "duration": 34,
    "start_time": "2022-12-27T07:55:43.659Z"
   },
   {
    "duration": 1459,
    "start_time": "2022-12-27T07:57:34.513Z"
   },
   {
    "duration": 833,
    "start_time": "2022-12-27T07:57:35.974Z"
   },
   {
    "duration": 689,
    "start_time": "2022-12-27T07:57:36.812Z"
   },
   {
    "duration": 15,
    "start_time": "2022-12-27T07:57:37.504Z"
   },
   {
    "duration": 7,
    "start_time": "2022-12-27T07:57:37.521Z"
   },
   {
    "duration": 9,
    "start_time": "2022-12-27T07:57:37.529Z"
   },
   {
    "duration": 16,
    "start_time": "2022-12-27T07:57:37.540Z"
   },
   {
    "duration": 55,
    "start_time": "2022-12-27T07:57:37.558Z"
   },
   {
    "duration": 14,
    "start_time": "2022-12-27T07:57:37.615Z"
   },
   {
    "duration": 14,
    "start_time": "2022-12-27T07:57:37.631Z"
   },
   {
    "duration": 16,
    "start_time": "2022-12-27T07:57:37.647Z"
   },
   {
    "duration": 50,
    "start_time": "2022-12-27T07:57:37.665Z"
   },
   {
    "duration": 3,
    "start_time": "2022-12-27T07:57:37.718Z"
   },
   {
    "duration": 8,
    "start_time": "2022-12-27T07:57:37.723Z"
   },
   {
    "duration": 6,
    "start_time": "2022-12-27T07:57:37.733Z"
   },
   {
    "duration": 3497,
    "start_time": "2022-12-27T07:57:37.741Z"
   },
   {
    "duration": 8,
    "start_time": "2022-12-27T07:57:41.240Z"
   },
   {
    "duration": 1016,
    "start_time": "2022-12-27T07:57:41.250Z"
   },
   {
    "duration": 720,
    "start_time": "2022-12-27T07:57:42.268Z"
   },
   {
    "duration": 129,
    "start_time": "2022-12-27T07:57:42.990Z"
   },
   {
    "duration": 0,
    "start_time": "2022-12-27T07:57:43.121Z"
   },
   {
    "duration": 0,
    "start_time": "2022-12-27T07:57:43.123Z"
   },
   {
    "duration": 0,
    "start_time": "2022-12-27T07:57:43.125Z"
   },
   {
    "duration": 0,
    "start_time": "2022-12-27T07:57:43.127Z"
   },
   {
    "duration": 0,
    "start_time": "2022-12-27T07:57:43.128Z"
   },
   {
    "duration": 0,
    "start_time": "2022-12-27T07:57:43.130Z"
   },
   {
    "duration": 0,
    "start_time": "2022-12-27T07:57:43.132Z"
   },
   {
    "duration": 0,
    "start_time": "2022-12-27T07:57:43.133Z"
   },
   {
    "duration": 0,
    "start_time": "2022-12-27T07:57:43.135Z"
   },
   {
    "duration": 0,
    "start_time": "2022-12-27T07:57:43.136Z"
   },
   {
    "duration": 0,
    "start_time": "2022-12-27T07:57:43.137Z"
   },
   {
    "duration": 0,
    "start_time": "2022-12-27T07:57:43.139Z"
   },
   {
    "duration": 0,
    "start_time": "2022-12-27T07:57:43.140Z"
   },
   {
    "duration": 5,
    "start_time": "2022-12-27T07:58:25.955Z"
   },
   {
    "duration": 7,
    "start_time": "2022-12-27T07:58:45.232Z"
   },
   {
    "duration": 7,
    "start_time": "2022-12-27T07:58:58.823Z"
   },
   {
    "duration": 8,
    "start_time": "2022-12-27T07:59:05.822Z"
   },
   {
    "duration": 6,
    "start_time": "2022-12-27T07:59:13.695Z"
   },
   {
    "duration": 17,
    "start_time": "2022-12-27T07:59:34.833Z"
   },
   {
    "duration": 13,
    "start_time": "2022-12-27T07:59:40.819Z"
   },
   {
    "duration": 15,
    "start_time": "2022-12-27T07:59:47.225Z"
   },
   {
    "duration": 12,
    "start_time": "2022-12-27T07:59:54.331Z"
   },
   {
    "duration": 34,
    "start_time": "2022-12-27T08:00:14.136Z"
   },
   {
    "duration": 16,
    "start_time": "2022-12-27T08:00:41.156Z"
   },
   {
    "duration": 13,
    "start_time": "2022-12-27T08:00:41.613Z"
   },
   {
    "duration": 22,
    "start_time": "2022-12-27T08:00:42.415Z"
   },
   {
    "duration": 5,
    "start_time": "2022-12-27T08:01:31.214Z"
   },
   {
    "duration": 681,
    "start_time": "2022-12-27T08:01:38.892Z"
   },
   {
    "duration": 6,
    "start_time": "2022-12-27T08:01:55.463Z"
   },
   {
    "duration": 827,
    "start_time": "2022-12-27T08:01:57.204Z"
   },
   {
    "duration": 5,
    "start_time": "2022-12-27T08:02:03.534Z"
   },
   {
    "duration": 1242,
    "start_time": "2022-12-27T08:02:05.139Z"
   },
   {
    "duration": 4,
    "start_time": "2022-12-27T08:02:21.162Z"
   },
   {
    "duration": 843,
    "start_time": "2022-12-27T08:02:22.989Z"
   },
   {
    "duration": 4,
    "start_time": "2022-12-27T08:02:37.198Z"
   },
   {
    "duration": 681,
    "start_time": "2022-12-27T08:02:37.353Z"
   },
   {
    "duration": 34,
    "start_time": "2022-12-27T08:19:16.110Z"
   },
   {
    "duration": 13,
    "start_time": "2022-12-27T08:19:23.293Z"
   },
   {
    "duration": 10,
    "start_time": "2022-12-27T08:19:23.639Z"
   },
   {
    "duration": 3,
    "start_time": "2022-12-27T08:19:24.474Z"
   },
   {
    "duration": 3,
    "start_time": "2022-12-27T08:19:24.850Z"
   },
   {
    "duration": 3,
    "start_time": "2022-12-27T08:19:25.285Z"
   },
   {
    "duration": 19,
    "start_time": "2022-12-27T08:19:26.268Z"
   },
   {
    "duration": 9,
    "start_time": "2022-12-27T08:19:26.908Z"
   },
   {
    "duration": 6,
    "start_time": "2022-12-27T08:19:30.153Z"
   },
   {
    "duration": 5960,
    "start_time": "2022-12-27T08:19:31.943Z"
   },
   {
    "duration": 0,
    "start_time": "2022-12-27T08:19:37.905Z"
   },
   {
    "duration": 5004,
    "start_time": "2022-12-27T08:19:40.086Z"
   },
   {
    "duration": 5,
    "start_time": "2022-12-27T08:19:54.499Z"
   },
   {
    "duration": 5,
    "start_time": "2022-12-27T08:19:59.950Z"
   },
   {
    "duration": 5134,
    "start_time": "2022-12-27T08:22:22.308Z"
   },
   {
    "duration": 4,
    "start_time": "2022-12-27T08:22:31.878Z"
   },
   {
    "duration": 4775,
    "start_time": "2022-12-27T08:23:24.537Z"
   },
   {
    "duration": 5,
    "start_time": "2022-12-27T08:23:32.386Z"
   },
   {
    "duration": 15,
    "start_time": "2022-12-27T08:24:10.036Z"
   },
   {
    "duration": 5,
    "start_time": "2022-12-27T08:24:29.551Z"
   },
   {
    "duration": 5004,
    "start_time": "2022-12-27T08:24:34.145Z"
   },
   {
    "duration": 6,
    "start_time": "2022-12-27T08:24:39.152Z"
   },
   {
    "duration": 2951,
    "start_time": "2022-12-27T08:24:44.675Z"
   },
   {
    "duration": 2704,
    "start_time": "2022-12-27T08:24:54.009Z"
   },
   {
    "duration": 2490,
    "start_time": "2022-12-27T08:25:04.934Z"
   },
   {
    "duration": 1008,
    "start_time": "2022-12-27T08:29:40.094Z"
   },
   {
    "duration": 5,
    "start_time": "2022-12-27T08:29:53.832Z"
   },
   {
    "duration": 1021,
    "start_time": "2022-12-27T08:29:57.562Z"
   },
   {
    "duration": 993,
    "start_time": "2022-12-27T08:30:00.076Z"
   },
   {
    "duration": 1225,
    "start_time": "2022-12-27T08:30:24.090Z"
   },
   {
    "duration": 1503,
    "start_time": "2022-12-27T08:30:29.972Z"
   },
   {
    "duration": 664,
    "start_time": "2022-12-27T08:30:33.645Z"
   },
   {
    "duration": 405,
    "start_time": "2022-12-27T08:30:39.058Z"
   },
   {
    "duration": 19846,
    "start_time": "2022-12-27T08:30:56.962Z"
   },
   {
    "duration": 37669,
    "start_time": "2022-12-27T08:31:21.541Z"
   },
   {
    "duration": 52473,
    "start_time": "2022-12-27T08:32:07.240Z"
   },
   {
    "duration": 2695,
    "start_time": "2022-12-27T08:33:06.683Z"
   },
   {
    "duration": 1935,
    "start_time": "2022-12-27T08:33:14.419Z"
   },
   {
    "duration": 1091,
    "start_time": "2022-12-27T08:33:19.472Z"
   },
   {
    "duration": 16,
    "start_time": "2022-12-27T08:34:32.342Z"
   },
   {
    "duration": 3,
    "start_time": "2022-12-27T08:35:39.733Z"
   },
   {
    "duration": 1085,
    "start_time": "2022-12-27T08:39:07.416Z"
   },
   {
    "duration": 12,
    "start_time": "2022-12-27T08:39:51.928Z"
   },
   {
    "duration": 254,
    "start_time": "2022-12-27T08:40:02.227Z"
   },
   {
    "duration": 278,
    "start_time": "2022-12-27T08:40:12.522Z"
   },
   {
    "duration": 257,
    "start_time": "2022-12-27T08:40:25.292Z"
   },
   {
    "duration": 245,
    "start_time": "2022-12-27T08:41:52.454Z"
   },
   {
    "duration": 2020,
    "start_time": "2022-12-27T08:43:32.261Z"
   },
   {
    "duration": 19218,
    "start_time": "2022-12-27T08:43:38.488Z"
   },
   {
    "duration": 5006,
    "start_time": "2022-12-27T08:44:03.584Z"
   },
   {
    "duration": 2045,
    "start_time": "2022-12-27T08:44:17.124Z"
   },
   {
    "duration": 3887,
    "start_time": "2022-12-27T08:44:22.488Z"
   },
   {
    "duration": 5262,
    "start_time": "2022-12-27T08:44:33.811Z"
   },
   {
    "duration": 1977,
    "start_time": "2022-12-27T08:44:42.983Z"
   },
   {
    "duration": 479,
    "start_time": "2022-12-27T08:44:48.259Z"
   },
   {
    "duration": 1068,
    "start_time": "2022-12-27T08:44:54.497Z"
   },
   {
    "duration": 251,
    "start_time": "2022-12-27T08:44:56.829Z"
   },
   {
    "duration": 2322,
    "start_time": "2022-12-27T08:45:01.298Z"
   },
   {
    "duration": 485,
    "start_time": "2022-12-27T08:45:04.431Z"
   },
   {
    "duration": 1135,
    "start_time": "2022-12-27T08:45:07.338Z"
   },
   {
    "duration": 291,
    "start_time": "2022-12-27T08:45:09.871Z"
   },
   {
    "duration": 393,
    "start_time": "2022-12-27T08:45:12.857Z"
   },
   {
    "duration": 100,
    "start_time": "2022-12-27T08:45:15.027Z"
   },
   {
    "duration": 1044,
    "start_time": "2022-12-27T08:45:17.400Z"
   },
   {
    "duration": 264,
    "start_time": "2022-12-27T08:45:19.764Z"
   },
   {
    "duration": 5,
    "start_time": "2022-12-27T08:51:10.357Z"
   },
   {
    "duration": 51,
    "start_time": "2022-12-27T08:52:28.462Z"
   },
   {
    "duration": 13,
    "start_time": "2022-12-27T08:52:35.024Z"
   },
   {
    "duration": 9,
    "start_time": "2022-12-27T08:52:47.045Z"
   },
   {
    "duration": 9,
    "start_time": "2022-12-27T08:52:51.814Z"
   },
   {
    "duration": 1346,
    "start_time": "2022-12-27T09:00:14.095Z"
   },
   {
    "duration": 682,
    "start_time": "2022-12-27T09:00:15.443Z"
   },
   {
    "duration": 719,
    "start_time": "2022-12-27T09:00:16.127Z"
   },
   {
    "duration": 7,
    "start_time": "2022-12-27T09:00:16.848Z"
   },
   {
    "duration": 6,
    "start_time": "2022-12-27T09:00:16.857Z"
   },
   {
    "duration": 8,
    "start_time": "2022-12-27T09:00:16.864Z"
   },
   {
    "duration": 8,
    "start_time": "2022-12-27T09:00:16.874Z"
   },
   {
    "duration": 43,
    "start_time": "2022-12-27T09:00:16.883Z"
   },
   {
    "duration": 15,
    "start_time": "2022-12-27T09:00:16.928Z"
   },
   {
    "duration": 12,
    "start_time": "2022-12-27T09:00:16.945Z"
   },
   {
    "duration": 17,
    "start_time": "2022-12-27T09:00:16.959Z"
   },
   {
    "duration": 42,
    "start_time": "2022-12-27T09:00:16.978Z"
   },
   {
    "duration": 3,
    "start_time": "2022-12-27T09:00:17.022Z"
   },
   {
    "duration": 7,
    "start_time": "2022-12-27T09:00:17.028Z"
   },
   {
    "duration": 17,
    "start_time": "2022-12-27T09:00:17.037Z"
   },
   {
    "duration": 3267,
    "start_time": "2022-12-27T09:00:17.056Z"
   },
   {
    "duration": 8,
    "start_time": "2022-12-27T09:00:20.325Z"
   },
   {
    "duration": 953,
    "start_time": "2022-12-27T09:00:20.334Z"
   },
   {
    "duration": 655,
    "start_time": "2022-12-27T09:00:21.288Z"
   },
   {
    "duration": 11,
    "start_time": "2022-12-27T09:00:21.945Z"
   },
   {
    "duration": 20,
    "start_time": "2022-12-27T09:00:21.957Z"
   },
   {
    "duration": 31,
    "start_time": "2022-12-27T09:00:21.979Z"
   },
   {
    "duration": 6,
    "start_time": "2022-12-27T09:00:22.012Z"
   },
   {
    "duration": 658,
    "start_time": "2022-12-27T09:00:22.020Z"
   },
   {
    "duration": 12,
    "start_time": "2022-12-27T09:00:22.679Z"
   },
   {
    "duration": 20,
    "start_time": "2022-12-27T09:00:22.693Z"
   },
   {
    "duration": 7,
    "start_time": "2022-12-27T09:00:22.714Z"
   },
   {
    "duration": 6,
    "start_time": "2022-12-27T09:00:22.723Z"
   },
   {
    "duration": 5,
    "start_time": "2022-12-27T09:00:22.731Z"
   },
   {
    "duration": 23,
    "start_time": "2022-12-27T09:00:22.738Z"
   },
   {
    "duration": 8,
    "start_time": "2022-12-27T09:00:22.764Z"
   },
   {
    "duration": 10,
    "start_time": "2022-12-27T09:00:22.774Z"
   },
   {
    "duration": 402,
    "start_time": "2022-12-27T09:00:22.786Z"
   },
   {
    "duration": 1063,
    "start_time": "2022-12-27T09:00:23.190Z"
   },
   {
    "duration": 2257,
    "start_time": "2022-12-27T09:00:24.255Z"
   },
   {
    "duration": 399,
    "start_time": "2022-12-27T09:00:26.515Z"
   },
   {
    "duration": 9,
    "start_time": "2022-12-27T09:00:26.915Z"
   },
   {
    "duration": 1462,
    "start_time": "2022-12-27T09:01:30.155Z"
   },
   {
    "duration": 693,
    "start_time": "2022-12-27T09:01:31.620Z"
   },
   {
    "duration": 682,
    "start_time": "2022-12-27T09:01:32.314Z"
   },
   {
    "duration": 18,
    "start_time": "2022-12-27T09:01:32.998Z"
   },
   {
    "duration": 4,
    "start_time": "2022-12-27T09:01:33.019Z"
   },
   {
    "duration": 10,
    "start_time": "2022-12-27T09:01:33.025Z"
   },
   {
    "duration": 9,
    "start_time": "2022-12-27T09:01:33.037Z"
   },
   {
    "duration": 27,
    "start_time": "2022-12-27T09:01:33.047Z"
   },
   {
    "duration": 14,
    "start_time": "2022-12-27T09:01:33.075Z"
   },
   {
    "duration": 7,
    "start_time": "2022-12-27T09:01:33.113Z"
   },
   {
    "duration": 14,
    "start_time": "2022-12-27T09:01:33.121Z"
   },
   {
    "duration": 19,
    "start_time": "2022-12-27T09:01:33.136Z"
   },
   {
    "duration": 3,
    "start_time": "2022-12-27T09:01:33.156Z"
   },
   {
    "duration": 5,
    "start_time": "2022-12-27T09:01:33.162Z"
   },
   {
    "duration": 6,
    "start_time": "2022-12-27T09:01:33.169Z"
   },
   {
    "duration": 3441,
    "start_time": "2022-12-27T09:01:33.176Z"
   },
   {
    "duration": 7,
    "start_time": "2022-12-27T09:01:36.618Z"
   },
   {
    "duration": 920,
    "start_time": "2022-12-27T09:01:36.626Z"
   },
   {
    "duration": 606,
    "start_time": "2022-12-27T09:01:37.548Z"
   },
   {
    "duration": 12,
    "start_time": "2022-12-27T09:01:38.156Z"
   },
   {
    "duration": 10,
    "start_time": "2022-12-27T09:01:38.170Z"
   },
   {
    "duration": 39,
    "start_time": "2022-12-27T09:01:38.181Z"
   },
   {
    "duration": 3,
    "start_time": "2022-12-27T09:01:38.222Z"
   },
   {
    "duration": 673,
    "start_time": "2022-12-27T09:01:38.227Z"
   },
   {
    "duration": 18,
    "start_time": "2022-12-27T09:01:38.902Z"
   },
   {
    "duration": 6,
    "start_time": "2022-12-27T09:01:38.922Z"
   },
   {
    "duration": 6,
    "start_time": "2022-12-27T09:01:38.929Z"
   },
   {
    "duration": 12,
    "start_time": "2022-12-27T09:01:38.936Z"
   },
   {
    "duration": 5,
    "start_time": "2022-12-27T09:01:38.949Z"
   },
   {
    "duration": 23,
    "start_time": "2022-12-27T09:01:38.956Z"
   },
   {
    "duration": 15,
    "start_time": "2022-12-27T09:01:38.981Z"
   },
   {
    "duration": 16,
    "start_time": "2022-12-27T09:01:38.997Z"
   },
   {
    "duration": 414,
    "start_time": "2022-12-27T09:01:39.015Z"
   },
   {
    "duration": 2282,
    "start_time": "2022-12-27T09:01:39.431Z"
   },
   {
    "duration": 1131,
    "start_time": "2022-12-27T09:01:41.715Z"
   },
   {
    "duration": 269,
    "start_time": "2022-12-27T09:01:42.849Z"
   },
   {
    "duration": 9,
    "start_time": "2022-12-27T09:01:43.120Z"
   },
   {
    "duration": 2093,
    "start_time": "2022-12-27T18:36:33.824Z"
   },
   {
    "duration": 3400,
    "start_time": "2022-12-27T18:36:35.920Z"
   },
   {
    "duration": 714,
    "start_time": "2022-12-27T18:36:39.322Z"
   },
   {
    "duration": 7,
    "start_time": "2022-12-27T18:36:40.038Z"
   },
   {
    "duration": 25,
    "start_time": "2022-12-27T18:36:40.047Z"
   },
   {
    "duration": 33,
    "start_time": "2022-12-27T18:36:40.074Z"
   },
   {
    "duration": 28,
    "start_time": "2022-12-27T18:36:40.109Z"
   },
   {
    "duration": 34,
    "start_time": "2022-12-27T18:36:40.139Z"
   },
   {
    "duration": 61,
    "start_time": "2022-12-27T18:36:40.174Z"
   },
   {
    "duration": 39,
    "start_time": "2022-12-27T18:36:40.237Z"
   },
   {
    "duration": 42,
    "start_time": "2022-12-27T18:36:40.283Z"
   },
   {
    "duration": 37,
    "start_time": "2022-12-27T18:36:40.327Z"
   },
   {
    "duration": 142,
    "start_time": "2022-12-27T18:36:40.365Z"
   },
   {
    "duration": 46,
    "start_time": "2022-12-27T18:36:40.510Z"
   },
   {
    "duration": 47,
    "start_time": "2022-12-27T18:36:40.558Z"
   },
   {
    "duration": 3598,
    "start_time": "2022-12-27T18:36:40.607Z"
   },
   {
    "duration": 6,
    "start_time": "2022-12-27T18:36:44.206Z"
   },
   {
    "duration": 1014,
    "start_time": "2022-12-27T18:36:44.214Z"
   },
   {
    "duration": 675,
    "start_time": "2022-12-27T18:36:45.231Z"
   },
   {
    "duration": 13,
    "start_time": "2022-12-27T18:36:45.908Z"
   },
   {
    "duration": 41,
    "start_time": "2022-12-27T18:36:45.923Z"
   },
   {
    "duration": 49,
    "start_time": "2022-12-27T18:36:45.966Z"
   },
   {
    "duration": 4,
    "start_time": "2022-12-27T18:36:46.017Z"
   },
   {
    "duration": 683,
    "start_time": "2022-12-27T18:36:46.022Z"
   },
   {
    "duration": 14,
    "start_time": "2022-12-27T18:36:46.707Z"
   },
   {
    "duration": 10,
    "start_time": "2022-12-27T18:36:46.722Z"
   },
   {
    "duration": 14,
    "start_time": "2022-12-27T18:36:46.733Z"
   },
   {
    "duration": 29,
    "start_time": "2022-12-27T18:36:46.748Z"
   },
   {
    "duration": 22,
    "start_time": "2022-12-27T18:36:46.779Z"
   },
   {
    "duration": 33,
    "start_time": "2022-12-27T18:36:46.803Z"
   },
   {
    "duration": 29,
    "start_time": "2022-12-27T18:36:46.838Z"
   },
   {
    "duration": 18,
    "start_time": "2022-12-27T18:36:46.869Z"
   },
   {
    "duration": 30,
    "start_time": "2022-12-27T18:36:46.890Z"
   },
   {
    "duration": 133,
    "start_time": "2022-12-27T18:37:06.680Z"
   },
   {
    "duration": 14,
    "start_time": "2022-12-27T18:37:15.698Z"
   },
   {
    "duration": 15,
    "start_time": "2022-12-27T18:37:39.906Z"
   },
   {
    "duration": 11,
    "start_time": "2022-12-27T18:41:04.416Z"
   },
   {
    "duration": 7,
    "start_time": "2022-12-27T18:42:43.898Z"
   },
   {
    "duration": 49,
    "start_time": "2022-12-27T19:01:29.405Z"
   },
   {
    "duration": 1731,
    "start_time": "2022-12-27T19:01:35.372Z"
   },
   {
    "duration": 2374,
    "start_time": "2022-12-27T19:01:37.105Z"
   },
   {
    "duration": 801,
    "start_time": "2022-12-27T19:01:39.483Z"
   },
   {
    "duration": 8,
    "start_time": "2022-12-27T19:01:40.286Z"
   },
   {
    "duration": 5,
    "start_time": "2022-12-27T19:01:40.296Z"
   },
   {
    "duration": 7,
    "start_time": "2022-12-27T19:01:40.302Z"
   },
   {
    "duration": 6,
    "start_time": "2022-12-27T19:01:40.311Z"
   },
   {
    "duration": 49,
    "start_time": "2022-12-27T19:01:40.319Z"
   },
   {
    "duration": 14,
    "start_time": "2022-12-27T19:01:40.369Z"
   },
   {
    "duration": 9,
    "start_time": "2022-12-27T19:01:40.386Z"
   },
   {
    "duration": 19,
    "start_time": "2022-12-27T19:01:40.396Z"
   },
   {
    "duration": 37,
    "start_time": "2022-12-27T19:01:40.417Z"
   },
   {
    "duration": 3,
    "start_time": "2022-12-27T19:01:40.456Z"
   },
   {
    "duration": 16,
    "start_time": "2022-12-27T19:01:40.460Z"
   },
   {
    "duration": 9,
    "start_time": "2022-12-27T19:01:40.477Z"
   },
   {
    "duration": 3456,
    "start_time": "2022-12-27T19:01:40.488Z"
   },
   {
    "duration": 10,
    "start_time": "2022-12-27T19:01:43.945Z"
   },
   {
    "duration": 990,
    "start_time": "2022-12-27T19:01:43.956Z"
   },
   {
    "duration": 688,
    "start_time": "2022-12-27T19:01:44.952Z"
   },
   {
    "duration": 16,
    "start_time": "2022-12-27T19:01:45.641Z"
   },
   {
    "duration": 13,
    "start_time": "2022-12-27T19:01:45.659Z"
   },
   {
    "duration": 20,
    "start_time": "2022-12-27T19:01:45.674Z"
   },
   {
    "duration": 4,
    "start_time": "2022-12-27T19:01:45.696Z"
   },
   {
    "duration": 705,
    "start_time": "2022-12-27T19:01:45.702Z"
   },
   {
    "duration": 15,
    "start_time": "2022-12-27T19:01:46.409Z"
   },
   {
    "duration": 27,
    "start_time": "2022-12-27T19:01:46.426Z"
   },
   {
    "duration": 11,
    "start_time": "2022-12-27T19:01:46.454Z"
   },
   {
    "duration": 8,
    "start_time": "2022-12-27T19:01:46.469Z"
   },
   {
    "duration": 11,
    "start_time": "2022-12-27T19:01:46.478Z"
   },
   {
    "duration": 24,
    "start_time": "2022-12-27T19:01:46.491Z"
   },
   {
    "duration": 20,
    "start_time": "2022-12-27T19:01:46.517Z"
   },
   {
    "duration": 17,
    "start_time": "2022-12-27T19:01:46.538Z"
   },
   {
    "duration": 411,
    "start_time": "2022-12-27T19:01:46.557Z"
   },
   {
    "duration": 2385,
    "start_time": "2022-12-27T19:01:46.970Z"
   },
   {
    "duration": 1237,
    "start_time": "2022-12-27T19:01:49.357Z"
   },
   {
    "duration": 292,
    "start_time": "2022-12-27T19:01:50.597Z"
   },
   {
    "duration": 10,
    "start_time": "2022-12-27T19:01:50.890Z"
   },
   {
    "duration": 4,
    "start_time": "2022-12-27T19:01:52.220Z"
   },
   {
    "duration": 4,
    "start_time": "2022-12-27T19:03:08.593Z"
   },
   {
    "duration": 3,
    "start_time": "2022-12-27T19:03:13.601Z"
   },
   {
    "duration": 6,
    "start_time": "2022-12-27T19:03:16.826Z"
   },
   {
    "duration": 118,
    "start_time": "2022-12-27T19:19:57.216Z"
   },
   {
    "duration": 1858,
    "start_time": "2022-12-27T19:20:25.205Z"
   },
   {
    "duration": 29,
    "start_time": "2022-12-27T19:20:39.435Z"
   },
   {
    "duration": 24,
    "start_time": "2022-12-27T19:20:49.970Z"
   },
   {
    "duration": 10,
    "start_time": "2022-12-27T19:20:59.799Z"
   },
   {
    "duration": 14,
    "start_time": "2022-12-27T19:21:22.909Z"
   },
   {
    "duration": 1286,
    "start_time": "2022-12-27T19:22:22.647Z"
   },
   {
    "duration": 17,
    "start_time": "2022-12-27T19:22:29.216Z"
   },
   {
    "duration": 13,
    "start_time": "2022-12-27T19:22:37.230Z"
   },
   {
    "duration": 14,
    "start_time": "2022-12-27T19:22:59.485Z"
   },
   {
    "duration": 12,
    "start_time": "2022-12-27T19:23:41.300Z"
   },
   {
    "duration": 1170,
    "start_time": "2022-12-27T19:24:44.257Z"
   },
   {
    "duration": 1140,
    "start_time": "2022-12-27T19:25:32.242Z"
   },
   {
    "duration": 31,
    "start_time": "2022-12-27T19:25:43.166Z"
   },
   {
    "duration": 4,
    "start_time": "2022-12-27T19:26:41.913Z"
   },
   {
    "duration": 773,
    "start_time": "2022-12-27T19:26:42.767Z"
   },
   {
    "duration": 673,
    "start_time": "2022-12-27T19:26:43.682Z"
   },
   {
    "duration": 8,
    "start_time": "2022-12-27T19:26:45.673Z"
   },
   {
    "duration": 5,
    "start_time": "2022-12-27T19:26:46.675Z"
   },
   {
    "duration": 6,
    "start_time": "2022-12-27T19:26:47.114Z"
   },
   {
    "duration": 5,
    "start_time": "2022-12-27T19:26:47.887Z"
   },
   {
    "duration": 24,
    "start_time": "2022-12-27T19:26:49.252Z"
   },
   {
    "duration": 20,
    "start_time": "2022-12-27T19:26:49.625Z"
   },
   {
    "duration": 7,
    "start_time": "2022-12-27T19:26:50.004Z"
   },
   {
    "duration": 11,
    "start_time": "2022-12-27T19:26:51.304Z"
   },
   {
    "duration": 19,
    "start_time": "2022-12-27T19:26:51.715Z"
   },
   {
    "duration": 4,
    "start_time": "2022-12-27T19:26:52.282Z"
   },
   {
    "duration": 4,
    "start_time": "2022-12-27T19:26:52.606Z"
   },
   {
    "duration": 4,
    "start_time": "2022-12-27T19:26:52.862Z"
   },
   {
    "duration": 3464,
    "start_time": "2022-12-27T19:26:53.140Z"
   },
   {
    "duration": 6,
    "start_time": "2022-12-27T19:26:56.607Z"
   },
   {
    "duration": 974,
    "start_time": "2022-12-27T19:26:56.615Z"
   },
   {
    "duration": 645,
    "start_time": "2022-12-27T19:26:57.591Z"
   },
   {
    "duration": 20,
    "start_time": "2022-12-27T19:26:58.239Z"
   },
   {
    "duration": 8,
    "start_time": "2022-12-27T19:26:58.262Z"
   },
   {
    "duration": 11,
    "start_time": "2022-12-27T19:26:59.015Z"
   },
   {
    "duration": 19,
    "start_time": "2022-12-27T19:26:59.887Z"
   },
   {
    "duration": 4,
    "start_time": "2022-12-27T19:27:01.685Z"
   },
   {
    "duration": 743,
    "start_time": "2022-12-27T19:27:01.862Z"
   },
   {
    "duration": 5,
    "start_time": "2022-12-27T19:27:05.751Z"
   },
   {
    "duration": 30,
    "start_time": "2022-12-27T19:27:07.345Z"
   },
   {
    "duration": 11,
    "start_time": "2022-12-27T19:28:26.120Z"
   },
   {
    "duration": 11,
    "start_time": "2022-12-27T19:28:29.464Z"
   },
   {
    "duration": 13,
    "start_time": "2022-12-27T19:28:42.136Z"
   },
   {
    "duration": 11,
    "start_time": "2022-12-27T19:29:30.137Z"
   },
   {
    "duration": 854,
    "start_time": "2022-12-27T19:30:11.506Z"
   },
   {
    "duration": 14,
    "start_time": "2022-12-27T19:30:53.864Z"
   },
   {
    "duration": 7,
    "start_time": "2022-12-27T19:30:55.130Z"
   },
   {
    "duration": 4,
    "start_time": "2022-12-27T19:30:56.049Z"
   },
   {
    "duration": 3,
    "start_time": "2022-12-27T19:30:56.477Z"
   },
   {
    "duration": 3,
    "start_time": "2022-12-27T19:30:57.280Z"
   },
   {
    "duration": 15,
    "start_time": "2022-12-27T19:30:59.911Z"
   },
   {
    "duration": 3,
    "start_time": "2022-12-27T19:31:00.520Z"
   },
   {
    "duration": 4,
    "start_time": "2022-12-27T19:31:01.268Z"
   },
   {
    "duration": 408,
    "start_time": "2022-12-27T19:31:07.659Z"
   },
   {
    "duration": 2194,
    "start_time": "2022-12-27T19:31:09.466Z"
   },
   {
    "duration": 1087,
    "start_time": "2022-12-27T19:31:13.194Z"
   },
   {
    "duration": 3,
    "start_time": "2022-12-27T19:34:26.629Z"
   },
   {
    "duration": 407,
    "start_time": "2022-12-27T19:34:30.420Z"
   },
   {
    "duration": 2268,
    "start_time": "2022-12-27T19:34:33.385Z"
   },
   {
    "duration": 1105,
    "start_time": "2022-12-27T19:34:40.238Z"
   },
   {
    "duration": 1912,
    "start_time": "2022-12-27T19:34:50.140Z"
   },
   {
    "duration": 2051,
    "start_time": "2022-12-27T19:35:08.508Z"
   },
   {
    "duration": 397,
    "start_time": "2022-12-27T19:35:18.661Z"
   },
   {
    "duration": 12,
    "start_time": "2022-12-27T19:43:45.749Z"
   },
   {
    "duration": 28935,
    "start_time": "2022-12-27T19:43:57.126Z"
   },
   {
    "duration": 4,
    "start_time": "2022-12-27T19:45:01.295Z"
   },
   {
    "duration": 4,
    "start_time": "2022-12-27T19:45:02.893Z"
   },
   {
    "duration": 4,
    "start_time": "2022-12-27T19:45:19.383Z"
   },
   {
    "duration": 5,
    "start_time": "2022-12-27T19:45:19.649Z"
   },
   {
    "duration": 29072,
    "start_time": "2022-12-27T19:45:50.320Z"
   },
   {
    "duration": 4,
    "start_time": "2022-12-27T19:46:21.578Z"
   },
   {
    "duration": 4,
    "start_time": "2022-12-27T19:46:22.410Z"
   },
   {
    "duration": 4,
    "start_time": "2022-12-27T19:47:28.893Z"
   },
   {
    "duration": 5,
    "start_time": "2022-12-27T19:47:29.088Z"
   },
   {
    "duration": 6,
    "start_time": "2022-12-27T19:47:54.108Z"
   },
   {
    "duration": 5,
    "start_time": "2022-12-27T19:47:54.745Z"
   },
   {
    "duration": 29444,
    "start_time": "2022-12-27T19:48:26.951Z"
   },
   {
    "duration": 5,
    "start_time": "2022-12-27T19:48:56.397Z"
   },
   {
    "duration": 7,
    "start_time": "2022-12-27T19:48:56.403Z"
   },
   {
    "duration": 5,
    "start_time": "2022-12-27T19:49:02.325Z"
   },
   {
    "duration": 2438,
    "start_time": "2022-12-27T19:49:18.518Z"
   },
   {
    "duration": 396,
    "start_time": "2022-12-27T19:49:24.160Z"
   },
   {
    "duration": 1221,
    "start_time": "2022-12-27T19:49:29.208Z"
   },
   {
    "duration": 272,
    "start_time": "2022-12-27T19:49:33.285Z"
   },
   {
    "duration": 15324,
    "start_time": "2022-12-27T19:50:32.320Z"
   },
   {
    "duration": 5,
    "start_time": "2022-12-27T19:50:50.445Z"
   },
   {
    "duration": 28,
    "start_time": "2022-12-27T19:51:00.041Z"
   },
   {
    "duration": 33,
    "start_time": "2022-12-27T19:51:07.723Z"
   },
   {
    "duration": 369,
    "start_time": "2022-12-27T19:53:38.177Z"
   },
   {
    "duration": 2182,
    "start_time": "2022-12-27T19:53:39.371Z"
   },
   {
    "duration": 1125,
    "start_time": "2022-12-27T19:53:41.555Z"
   },
   {
    "duration": 3,
    "start_time": "2022-12-27T19:53:49.974Z"
   },
   {
    "duration": 385,
    "start_time": "2022-12-27T19:53:53.194Z"
   },
   {
    "duration": 1894,
    "start_time": "2022-12-27T19:53:54.361Z"
   },
   {
    "duration": 1244,
    "start_time": "2022-12-27T19:53:56.258Z"
   },
   {
    "duration": 13686,
    "start_time": "2022-12-27T19:54:21.368Z"
   },
   {
    "duration": 4,
    "start_time": "2022-12-27T19:54:35.056Z"
   },
   {
    "duration": 5,
    "start_time": "2022-12-27T19:54:35.529Z"
   },
   {
    "duration": 28854,
    "start_time": "2022-12-27T19:54:42.206Z"
   },
   {
    "duration": 4,
    "start_time": "2022-12-27T19:55:11.063Z"
   },
   {
    "duration": 8,
    "start_time": "2022-12-27T19:55:11.068Z"
   },
   {
    "duration": 13681,
    "start_time": "2022-12-27T19:55:32.627Z"
   },
   {
    "duration": 4,
    "start_time": "2022-12-27T19:55:46.310Z"
   },
   {
    "duration": 8,
    "start_time": "2022-12-27T19:55:46.316Z"
   },
   {
    "duration": 4,
    "start_time": "2022-12-27T19:55:56.847Z"
   },
   {
    "duration": 4,
    "start_time": "2022-12-27T19:55:57.506Z"
   },
   {
    "duration": 3,
    "start_time": "2022-12-27T19:56:28.730Z"
   },
   {
    "duration": 4,
    "start_time": "2022-12-27T19:57:30.780Z"
   },
   {
    "duration": 14089,
    "start_time": "2022-12-27T19:59:01.821Z"
   },
   {
    "duration": 15313,
    "start_time": "2022-12-27T19:59:15.912Z"
   },
   {
    "duration": 14139,
    "start_time": "2022-12-27T19:59:42.913Z"
   },
   {
    "duration": 15604,
    "start_time": "2022-12-27T19:59:57.054Z"
   },
   {
    "duration": 4,
    "start_time": "2022-12-27T20:00:12.659Z"
   },
   {
    "duration": 4,
    "start_time": "2022-12-27T20:00:20.308Z"
   },
   {
    "duration": 4,
    "start_time": "2022-12-27T20:00:38.610Z"
   },
   {
    "duration": 13871,
    "start_time": "2022-12-27T20:00:40.984Z"
   },
   {
    "duration": 5,
    "start_time": "2022-12-27T20:00:54.857Z"
   },
   {
    "duration": 15531,
    "start_time": "2022-12-27T20:01:00.738Z"
   },
   {
    "duration": 5,
    "start_time": "2022-12-27T20:01:16.271Z"
   },
   {
    "duration": 4,
    "start_time": "2022-12-27T20:01:21.367Z"
   },
   {
    "duration": 12,
    "start_time": "2022-12-27T20:02:06.688Z"
   },
   {
    "duration": 4,
    "start_time": "2022-12-27T20:02:12.766Z"
   },
   {
    "duration": 13805,
    "start_time": "2022-12-27T20:02:37.897Z"
   },
   {
    "duration": 13678,
    "start_time": "2022-12-27T20:02:56.715Z"
   },
   {
    "duration": 115,
    "start_time": "2022-12-27T20:04:38.303Z"
   },
   {
    "duration": 116,
    "start_time": "2022-12-27T20:04:41.674Z"
   },
   {
    "duration": 144,
    "start_time": "2022-12-27T20:04:51.197Z"
   },
   {
    "duration": 123,
    "start_time": "2022-12-27T20:04:54.448Z"
   },
   {
    "duration": 89,
    "start_time": "2022-12-27T20:04:58.041Z"
   },
   {
    "duration": 64,
    "start_time": "2022-12-27T20:05:01.052Z"
   },
   {
    "duration": 124,
    "start_time": "2022-12-27T20:05:04.961Z"
   },
   {
    "duration": 146,
    "start_time": "2022-12-27T20:05:08.078Z"
   },
   {
    "duration": 169,
    "start_time": "2022-12-27T20:05:11.440Z"
   },
   {
    "duration": 269,
    "start_time": "2022-12-27T20:05:16.432Z"
   },
   {
    "duration": 97,
    "start_time": "2022-12-27T20:05:21.366Z"
   },
   {
    "duration": 115,
    "start_time": "2022-12-27T20:05:24.579Z"
   },
   {
    "duration": 5,
    "start_time": "2022-12-27T20:07:24.561Z"
   },
   {
    "duration": 4,
    "start_time": "2022-12-27T20:07:34.428Z"
   },
   {
    "duration": 13855,
    "start_time": "2022-12-27T20:07:34.741Z"
   },
   {
    "duration": 5,
    "start_time": "2022-12-27T20:07:48.599Z"
   },
   {
    "duration": 13728,
    "start_time": "2022-12-27T20:07:54.935Z"
   },
   {
    "duration": 4,
    "start_time": "2022-12-27T20:08:08.665Z"
   },
   {
    "duration": 14124,
    "start_time": "2022-12-27T20:08:40.328Z"
   },
   {
    "duration": 4,
    "start_time": "2022-12-27T20:08:54.454Z"
   },
   {
    "duration": 13,
    "start_time": "2022-12-27T20:08:54.460Z"
   },
   {
    "duration": 0,
    "start_time": "2022-12-27T20:08:54.475Z"
   },
   {
    "duration": 15604,
    "start_time": "2022-12-27T20:09:11.058Z"
   },
   {
    "duration": 5,
    "start_time": "2022-12-27T20:09:26.664Z"
   },
   {
    "duration": 4,
    "start_time": "2022-12-27T20:09:29.242Z"
   },
   {
    "duration": 13706,
    "start_time": "2022-12-27T20:10:02.667Z"
   },
   {
    "duration": 6,
    "start_time": "2022-12-27T20:10:16.375Z"
   },
   {
    "duration": 15920,
    "start_time": "2022-12-27T20:10:16.383Z"
   },
   {
    "duration": 4,
    "start_time": "2022-12-27T20:10:32.305Z"
   },
   {
    "duration": 10,
    "start_time": "2022-12-27T20:10:32.311Z"
   },
   {
    "duration": 134,
    "start_time": "2022-12-27T20:12:05.548Z"
   },
   {
    "duration": 117,
    "start_time": "2022-12-27T20:12:13.260Z"
   },
   {
    "duration": 132,
    "start_time": "2022-12-27T20:12:47.918Z"
   },
   {
    "duration": 4,
    "start_time": "2022-12-27T20:13:38.967Z"
   },
   {
    "duration": 6960,
    "start_time": "2022-12-27T20:13:39.154Z"
   },
   {
    "duration": 5,
    "start_time": "2022-12-27T20:13:46.116Z"
   },
   {
    "duration": 2032,
    "start_time": "2022-12-27T20:13:46.124Z"
   },
   {
    "duration": 0,
    "start_time": "2022-12-27T20:13:48.158Z"
   },
   {
    "duration": 0,
    "start_time": "2022-12-27T20:13:48.159Z"
   },
   {
    "duration": 0,
    "start_time": "2022-12-27T20:13:48.160Z"
   },
   {
    "duration": 4,
    "start_time": "2022-12-27T20:13:52.369Z"
   },
   {
    "duration": 6841,
    "start_time": "2022-12-27T20:13:52.663Z"
   },
   {
    "duration": 4,
    "start_time": "2022-12-27T20:13:59.506Z"
   },
   {
    "duration": 7125,
    "start_time": "2022-12-27T20:13:59.512Z"
   },
   {
    "duration": 5,
    "start_time": "2022-12-27T20:14:06.639Z"
   },
   {
    "duration": 4,
    "start_time": "2022-12-27T20:14:06.650Z"
   },
   {
    "duration": 130,
    "start_time": "2022-12-27T20:14:06.655Z"
   },
   {
    "duration": 8,
    "start_time": "2022-12-27T20:14:06.787Z"
   },
   {
    "duration": 107,
    "start_time": "2022-12-27T20:14:30.834Z"
   },
   {
    "duration": 4,
    "start_time": "2022-12-27T20:14:48.461Z"
   },
   {
    "duration": 5828,
    "start_time": "2022-12-27T20:14:48.879Z"
   },
   {
    "duration": 5,
    "start_time": "2022-12-27T20:14:54.709Z"
   },
   {
    "duration": 5914,
    "start_time": "2022-12-27T20:14:54.715Z"
   },
   {
    "duration": 4,
    "start_time": "2022-12-27T20:15:00.632Z"
   },
   {
    "duration": 20,
    "start_time": "2022-12-27T20:15:00.638Z"
   },
   {
    "duration": 144,
    "start_time": "2022-12-27T20:15:00.661Z"
   },
   {
    "duration": 92,
    "start_time": "2022-12-27T20:15:23.033Z"
   },
   {
    "duration": 4,
    "start_time": "2022-12-27T20:16:31.408Z"
   },
   {
    "duration": 13555,
    "start_time": "2022-12-27T20:16:31.706Z"
   },
   {
    "duration": 4,
    "start_time": "2022-12-27T20:16:45.264Z"
   },
   {
    "duration": 15503,
    "start_time": "2022-12-27T20:16:45.270Z"
   },
   {
    "duration": 4,
    "start_time": "2022-12-27T20:17:00.775Z"
   },
   {
    "duration": 36,
    "start_time": "2022-12-27T20:17:00.781Z"
   },
   {
    "duration": 106,
    "start_time": "2022-12-27T20:17:00.819Z"
   },
   {
    "duration": 105,
    "start_time": "2022-12-27T20:17:19.409Z"
   },
   {
    "duration": 123,
    "start_time": "2022-12-27T20:17:27.920Z"
   },
   {
    "duration": 79,
    "start_time": "2022-12-27T20:17:58.708Z"
   },
   {
    "duration": 4,
    "start_time": "2022-12-27T20:18:24.377Z"
   },
   {
    "duration": 14557,
    "start_time": "2022-12-27T20:18:29.240Z"
   },
   {
    "duration": 5,
    "start_time": "2022-12-27T20:18:43.800Z"
   },
   {
    "duration": 15909,
    "start_time": "2022-12-27T20:18:43.808Z"
   },
   {
    "duration": 6,
    "start_time": "2022-12-27T20:18:59.720Z"
   },
   {
    "duration": 21,
    "start_time": "2022-12-27T20:18:59.728Z"
   },
   {
    "duration": 84,
    "start_time": "2022-12-27T20:18:59.751Z"
   },
   {
    "duration": 69,
    "start_time": "2022-12-27T20:19:06.384Z"
   },
   {
    "duration": 65,
    "start_time": "2022-12-27T20:19:35.787Z"
   },
   {
    "duration": 126,
    "start_time": "2022-12-27T20:19:51.599Z"
   },
   {
    "duration": 578,
    "start_time": "2022-12-27T20:20:05.781Z"
   },
   {
    "duration": 4,
    "start_time": "2022-12-27T20:20:14.449Z"
   },
   {
    "duration": 31365,
    "start_time": "2022-12-27T20:20:14.684Z"
   },
   {
    "duration": 5,
    "start_time": "2022-12-27T20:20:46.052Z"
   },
   {
    "duration": 40486,
    "start_time": "2022-12-27T20:20:46.059Z"
   },
   {
    "duration": 4,
    "start_time": "2022-12-27T20:21:26.547Z"
   },
   {
    "duration": 7,
    "start_time": "2022-12-27T20:21:26.553Z"
   },
   {
    "duration": 86,
    "start_time": "2022-12-27T20:21:43.666Z"
   },
   {
    "duration": 1861,
    "start_time": "2022-12-27T20:21:49.681Z"
   },
   {
    "duration": 10,
    "start_time": "2022-12-27T20:22:21.818Z"
   },
   {
    "duration": 1440,
    "start_time": "2022-12-27T20:22:32.161Z"
   },
   {
    "duration": 760,
    "start_time": "2022-12-27T20:22:33.604Z"
   },
   {
    "duration": 704,
    "start_time": "2022-12-27T20:22:34.366Z"
   },
   {
    "duration": 8,
    "start_time": "2022-12-27T20:22:35.072Z"
   },
   {
    "duration": 4,
    "start_time": "2022-12-27T20:22:35.083Z"
   },
   {
    "duration": 22,
    "start_time": "2022-12-27T20:22:35.089Z"
   },
   {
    "duration": 22,
    "start_time": "2022-12-27T20:22:35.113Z"
   },
   {
    "duration": 24,
    "start_time": "2022-12-27T20:22:35.137Z"
   },
   {
    "duration": 13,
    "start_time": "2022-12-27T20:22:35.163Z"
   },
   {
    "duration": 39,
    "start_time": "2022-12-27T20:22:35.178Z"
   },
   {
    "duration": 34,
    "start_time": "2022-12-27T20:22:35.218Z"
   },
   {
    "duration": 21,
    "start_time": "2022-12-27T20:22:35.254Z"
   },
   {
    "duration": 15,
    "start_time": "2022-12-27T20:22:35.277Z"
   },
   {
    "duration": 10,
    "start_time": "2022-12-27T20:22:35.296Z"
   },
   {
    "duration": 16,
    "start_time": "2022-12-27T20:22:35.308Z"
   },
   {
    "duration": 3440,
    "start_time": "2022-12-27T20:22:35.326Z"
   },
   {
    "duration": 6,
    "start_time": "2022-12-27T20:22:38.768Z"
   },
   {
    "duration": 1009,
    "start_time": "2022-12-27T20:22:38.776Z"
   },
   {
    "duration": 648,
    "start_time": "2022-12-27T20:22:39.787Z"
   },
   {
    "duration": 19,
    "start_time": "2022-12-27T20:22:40.437Z"
   },
   {
    "duration": 4,
    "start_time": "2022-12-27T20:22:40.458Z"
   },
   {
    "duration": 14,
    "start_time": "2022-12-27T20:22:40.463Z"
   },
   {
    "duration": 24,
    "start_time": "2022-12-27T20:22:40.479Z"
   },
   {
    "duration": 3,
    "start_time": "2022-12-27T20:22:40.505Z"
   },
   {
    "duration": 718,
    "start_time": "2022-12-27T20:22:40.510Z"
   },
   {
    "duration": 5,
    "start_time": "2022-12-27T20:22:41.230Z"
   },
   {
    "duration": 18,
    "start_time": "2022-12-27T20:22:41.236Z"
   },
   {
    "duration": 10,
    "start_time": "2022-12-27T20:22:41.256Z"
   },
   {
    "duration": 12,
    "start_time": "2022-12-27T20:22:41.268Z"
   },
   {
    "duration": 848,
    "start_time": "2022-12-27T20:22:41.282Z"
   },
   {
    "duration": 21,
    "start_time": "2022-12-27T20:22:42.131Z"
   },
   {
    "duration": 7,
    "start_time": "2022-12-27T20:22:42.154Z"
   },
   {
    "duration": 6,
    "start_time": "2022-12-27T20:22:42.163Z"
   },
   {
    "duration": 13,
    "start_time": "2022-12-27T20:22:42.171Z"
   },
   {
    "duration": 8,
    "start_time": "2022-12-27T20:22:42.185Z"
   },
   {
    "duration": 25,
    "start_time": "2022-12-27T20:22:42.195Z"
   },
   {
    "duration": 5,
    "start_time": "2022-12-27T20:22:42.222Z"
   },
   {
    "duration": 7,
    "start_time": "2022-12-27T20:22:42.229Z"
   },
   {
    "duration": 404,
    "start_time": "2022-12-27T20:22:42.251Z"
   },
   {
    "duration": 2501,
    "start_time": "2022-12-27T20:22:42.657Z"
   },
   {
    "duration": 1187,
    "start_time": "2022-12-27T20:22:45.164Z"
   },
   {
    "duration": 4,
    "start_time": "2022-12-27T20:22:46.352Z"
   },
   {
    "duration": 30356,
    "start_time": "2022-12-27T20:22:46.358Z"
   },
   {
    "duration": 5,
    "start_time": "2022-12-27T20:23:16.716Z"
   },
   {
    "duration": 38576,
    "start_time": "2022-12-27T20:23:16.723Z"
   },
   {
    "duration": 4,
    "start_time": "2022-12-27T20:23:55.301Z"
   },
   {
    "duration": 12,
    "start_time": "2022-12-27T20:23:55.307Z"
   },
   {
    "duration": 1694,
    "start_time": "2022-12-27T20:23:55.321Z"
   },
   {
    "duration": 10,
    "start_time": "2022-12-27T20:23:57.017Z"
   },
   {
    "duration": 1438,
    "start_time": "2022-12-27T20:34:41.382Z"
   },
   {
    "duration": 750,
    "start_time": "2022-12-27T20:34:42.823Z"
   },
   {
    "duration": 716,
    "start_time": "2022-12-27T20:34:43.574Z"
   },
   {
    "duration": 8,
    "start_time": "2022-12-27T20:34:44.292Z"
   },
   {
    "duration": 5,
    "start_time": "2022-12-27T20:34:44.302Z"
   },
   {
    "duration": 10,
    "start_time": "2022-12-27T20:34:44.309Z"
   },
   {
    "duration": 31,
    "start_time": "2022-12-27T20:34:44.321Z"
   },
   {
    "duration": 21,
    "start_time": "2022-12-27T20:34:44.354Z"
   },
   {
    "duration": 14,
    "start_time": "2022-12-27T20:34:44.377Z"
   },
   {
    "duration": 12,
    "start_time": "2022-12-27T20:34:44.394Z"
   },
   {
    "duration": 19,
    "start_time": "2022-12-27T20:34:44.408Z"
   },
   {
    "duration": 40,
    "start_time": "2022-12-27T20:34:44.428Z"
   },
   {
    "duration": 3,
    "start_time": "2022-12-27T20:34:44.470Z"
   },
   {
    "duration": 19,
    "start_time": "2022-12-27T20:34:44.475Z"
   },
   {
    "duration": 30,
    "start_time": "2022-12-27T20:34:44.496Z"
   },
   {
    "duration": 3577,
    "start_time": "2022-12-27T20:34:44.528Z"
   },
   {
    "duration": 8,
    "start_time": "2022-12-27T20:34:48.106Z"
   },
   {
    "duration": 983,
    "start_time": "2022-12-27T20:34:48.115Z"
   },
   {
    "duration": 817,
    "start_time": "2022-12-27T20:34:49.100Z"
   },
   {
    "duration": 11,
    "start_time": "2022-12-27T20:34:49.919Z"
   },
   {
    "duration": 20,
    "start_time": "2022-12-27T20:34:49.932Z"
   },
   {
    "duration": 13,
    "start_time": "2022-12-27T20:34:49.954Z"
   },
   {
    "duration": 22,
    "start_time": "2022-12-27T20:34:49.968Z"
   },
   {
    "duration": 3,
    "start_time": "2022-12-27T20:34:49.993Z"
   },
   {
    "duration": 719,
    "start_time": "2022-12-27T20:34:49.998Z"
   },
   {
    "duration": 5,
    "start_time": "2022-12-27T20:34:50.718Z"
   },
   {
    "duration": 26,
    "start_time": "2022-12-27T20:34:50.725Z"
   },
   {
    "duration": 10,
    "start_time": "2022-12-27T20:34:50.754Z"
   },
   {
    "duration": 19,
    "start_time": "2022-12-27T20:34:50.765Z"
   },
   {
    "duration": 835,
    "start_time": "2022-12-27T20:34:50.785Z"
   },
   {
    "duration": 14,
    "start_time": "2022-12-27T20:34:51.622Z"
   },
   {
    "duration": 18,
    "start_time": "2022-12-27T20:34:51.637Z"
   },
   {
    "duration": 12,
    "start_time": "2022-12-27T20:34:51.657Z"
   },
   {
    "duration": 8,
    "start_time": "2022-12-27T20:34:51.671Z"
   },
   {
    "duration": 7,
    "start_time": "2022-12-27T20:34:51.681Z"
   },
   {
    "duration": 20,
    "start_time": "2022-12-27T20:34:51.689Z"
   },
   {
    "duration": 7,
    "start_time": "2022-12-27T20:34:51.711Z"
   },
   {
    "duration": 7,
    "start_time": "2022-12-27T20:34:51.719Z"
   },
   {
    "duration": 386,
    "start_time": "2022-12-27T20:34:51.728Z"
   },
   {
    "duration": 2336,
    "start_time": "2022-12-27T20:34:52.116Z"
   },
   {
    "duration": 1176,
    "start_time": "2022-12-27T20:34:54.453Z"
   },
   {
    "duration": 4,
    "start_time": "2022-12-27T20:34:55.631Z"
   },
   {
    "duration": 30365,
    "start_time": "2022-12-27T20:34:55.636Z"
   },
   {
    "duration": 5,
    "start_time": "2022-12-27T20:35:26.002Z"
   },
   {
    "duration": 39242,
    "start_time": "2022-12-27T20:35:26.009Z"
   },
   {
    "duration": 6,
    "start_time": "2022-12-27T20:36:05.253Z"
   },
   {
    "duration": 11,
    "start_time": "2022-12-27T20:36:05.261Z"
   },
   {
    "duration": 1891,
    "start_time": "2022-12-27T20:36:05.274Z"
   },
   {
    "duration": 11,
    "start_time": "2022-12-27T20:36:07.167Z"
   },
   {
    "duration": 1230,
    "start_time": "2022-12-27T20:37:30.465Z"
   },
   {
    "duration": 412,
    "start_time": "2022-12-27T20:37:40.170Z"
   },
   {
    "duration": 1649,
    "start_time": "2022-12-27T20:37:49.267Z"
   },
   {
    "duration": 784,
    "start_time": "2022-12-27T20:37:50.918Z"
   },
   {
    "duration": 766,
    "start_time": "2022-12-27T20:37:51.704Z"
   },
   {
    "duration": 11,
    "start_time": "2022-12-27T20:37:52.472Z"
   },
   {
    "duration": 6,
    "start_time": "2022-12-27T20:37:52.485Z"
   },
   {
    "duration": 8,
    "start_time": "2022-12-27T20:37:52.493Z"
   },
   {
    "duration": 7,
    "start_time": "2022-12-27T20:37:52.503Z"
   },
   {
    "duration": 57,
    "start_time": "2022-12-27T20:37:52.511Z"
   },
   {
    "duration": 15,
    "start_time": "2022-12-27T20:37:52.570Z"
   },
   {
    "duration": 11,
    "start_time": "2022-12-27T20:37:52.588Z"
   },
   {
    "duration": 23,
    "start_time": "2022-12-27T20:37:52.601Z"
   },
   {
    "duration": 43,
    "start_time": "2022-12-27T20:37:52.626Z"
   },
   {
    "duration": 4,
    "start_time": "2022-12-27T20:37:52.672Z"
   },
   {
    "duration": 6,
    "start_time": "2022-12-27T20:37:52.678Z"
   },
   {
    "duration": 7,
    "start_time": "2022-12-27T20:37:52.686Z"
   },
   {
    "duration": 3696,
    "start_time": "2022-12-27T20:37:52.695Z"
   },
   {
    "duration": 7,
    "start_time": "2022-12-27T20:37:56.392Z"
   },
   {
    "duration": 1005,
    "start_time": "2022-12-27T20:37:56.401Z"
   },
   {
    "duration": 722,
    "start_time": "2022-12-27T20:37:57.408Z"
   },
   {
    "duration": 24,
    "start_time": "2022-12-27T20:37:58.132Z"
   },
   {
    "duration": 7,
    "start_time": "2022-12-27T20:37:58.158Z"
   },
   {
    "duration": 14,
    "start_time": "2022-12-27T20:37:58.167Z"
   },
   {
    "duration": 23,
    "start_time": "2022-12-27T20:37:58.184Z"
   },
   {
    "duration": 4,
    "start_time": "2022-12-27T20:37:58.209Z"
   },
   {
    "duration": 719,
    "start_time": "2022-12-27T20:37:58.214Z"
   },
   {
    "duration": 6,
    "start_time": "2022-12-27T20:37:58.935Z"
   },
   {
    "duration": 11,
    "start_time": "2022-12-27T20:37:58.951Z"
   },
   {
    "duration": 9,
    "start_time": "2022-12-27T20:37:58.966Z"
   },
   {
    "duration": 12,
    "start_time": "2022-12-27T20:37:58.977Z"
   },
   {
    "duration": 1059,
    "start_time": "2022-12-27T20:37:58.991Z"
   },
   {
    "duration": 13,
    "start_time": "2022-12-27T20:38:00.053Z"
   },
   {
    "duration": 58,
    "start_time": "2022-12-27T20:38:00.068Z"
   },
   {
    "duration": 18,
    "start_time": "2022-12-27T20:38:00.127Z"
   },
   {
    "duration": 19,
    "start_time": "2022-12-27T20:38:00.147Z"
   },
   {
    "duration": 21,
    "start_time": "2022-12-27T20:38:00.168Z"
   },
   {
    "duration": 69,
    "start_time": "2022-12-27T20:38:00.193Z"
   },
   {
    "duration": 22,
    "start_time": "2022-12-27T20:38:00.264Z"
   },
   {
    "duration": 9,
    "start_time": "2022-12-27T20:38:00.288Z"
   },
   {
    "duration": 445,
    "start_time": "2022-12-27T20:38:00.299Z"
   },
   {
    "duration": 2504,
    "start_time": "2022-12-27T20:38:00.750Z"
   },
   {
    "duration": 1214,
    "start_time": "2022-12-27T20:38:03.259Z"
   },
   {
    "duration": 4,
    "start_time": "2022-12-27T20:38:04.475Z"
   },
   {
    "duration": 32375,
    "start_time": "2022-12-27T20:38:04.481Z"
   },
   {
    "duration": 6,
    "start_time": "2022-12-27T20:38:36.858Z"
   },
   {
    "duration": 39877,
    "start_time": "2022-12-27T20:38:36.866Z"
   },
   {
    "duration": 7,
    "start_time": "2022-12-27T20:39:16.745Z"
   },
   {
    "duration": 16,
    "start_time": "2022-12-27T20:39:16.754Z"
   },
   {
    "duration": 1753,
    "start_time": "2022-12-27T20:39:16.772Z"
   },
   {
    "duration": 10,
    "start_time": "2022-12-27T20:39:18.526Z"
   },
   {
    "duration": 502,
    "start_time": "2022-12-27T20:43:07.655Z"
   },
   {
    "duration": 1772,
    "start_time": "2022-12-27T20:43:15.861Z"
   }
  ],
  "kernelspec": {
   "display_name": "Python 3 (ipykernel)",
   "language": "python",
   "name": "python3"
  },
  "language_info": {
   "codemirror_mode": {
    "name": "ipython",
    "version": 3
   },
   "file_extension": ".py",
   "mimetype": "text/x-python",
   "name": "python",
   "nbconvert_exporter": "python",
   "pygments_lexer": "ipython3",
   "version": "3.9.5"
  },
  "toc": {
   "base_numbering": 1,
   "nav_menu": {},
   "number_sections": true,
   "sideBar": true,
   "skip_h1_title": true,
   "title_cell": "Содержание",
   "title_sidebar": "Contents",
   "toc_cell": true,
   "toc_position": {
    "height": "calc(100% - 180px)",
    "left": "10px",
    "top": "150px",
    "width": "408.889px"
   },
   "toc_section_display": true,
   "toc_window_display": true
  }
 },
 "nbformat": 4,
 "nbformat_minor": 2
}
