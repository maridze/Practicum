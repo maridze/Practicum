{
 "cells": [
  {
   "attachments": {},
   "cell_type": "markdown",
   "metadata": {},
   "source": [
    "# Телеком"
   ]
  },
  {
   "attachments": {},
   "cell_type": "markdown",
   "metadata": {},
   "source": [
    "Если выяснится, что пользователь планирует уйти, ему будут предложены промокоды и специальные условия. Команда оператора собрала персональные данные о некоторых клиентах, информацию об их тарифах и договорах.\n",
    "\n",
    "**Описание услуг**\n",
    "\n",
    "Оператор предоставляет два основных типа услуг: \n",
    "\n",
    "1. Стационарную телефонную связь. Возможно подключение телефонного аппарата к нескольким линиям одновременно.\n",
    "2. Интернет. Подключение может быть двух типов: через телефонную линию (DSL*,* от англ. *digital subscriber line*, «цифровая абонентская линия») или оптоволоконный кабель (*Fiber optic*).\n",
    "\n",
    "Также доступны такие услуги:\n",
    "\n",
    "- Интернет-безопасность: антивирус (*DeviceProtection*) и блокировка небезопасных сайтов (*OnlineSecurity*);\n",
    "- Выделенная линия технической поддержки (*TechSupport*);\n",
    "- Облачное хранилище файлов для резервного копирования данных (*OnlineBackup*);\n",
    "- Стриминговое телевидение (*StreamingTV*) и каталог фильмов (*StreamingMovies*).\n",
    "\n",
    "За услуги клиенты могут платить каждый месяц или заключить договор на 1–2 года. Доступны различные способы расчёта и возможность получения электронного чека."
   ]
  },
  {
   "attachments": {},
   "cell_type": "markdown",
   "metadata": {},
   "source": [
    "## Изучение данных"
   ]
  },
  {
   "cell_type": "code",
   "execution_count": 1,
   "metadata": {},
   "outputs": [
    {
     "name": "stdout",
     "output_type": "stream",
     "text": [
      "Collecting phik\n",
      "  Downloading phik-0.12.3-cp39-cp39-manylinux_2_17_x86_64.manylinux2014_x86_64.whl (679 kB)\n",
      "\u001b[K     |████████████████████████████████| 679 kB 1.1 MB/s eta 0:00:01\n",
      "\u001b[?25hRequirement already satisfied: scipy>=1.5.2 in /opt/conda/lib/python3.9/site-packages (from phik) (1.9.1)\n",
      "Requirement already satisfied: numpy>=1.18.0 in /opt/conda/lib/python3.9/site-packages (from phik) (1.21.1)\n",
      "Requirement already satisfied: pandas>=0.25.1 in /opt/conda/lib/python3.9/site-packages (from phik) (1.2.4)\n",
      "Requirement already satisfied: joblib>=0.14.1 in /opt/conda/lib/python3.9/site-packages (from phik) (1.1.0)\n",
      "Requirement already satisfied: matplotlib>=2.2.3 in /opt/conda/lib/python3.9/site-packages (from phik) (3.3.4)\n",
      "Requirement already satisfied: pillow>=6.2.0 in /opt/conda/lib/python3.9/site-packages (from matplotlib>=2.2.3->phik) (8.4.0)\n",
      "Requirement already satisfied: python-dateutil>=2.1 in /opt/conda/lib/python3.9/site-packages (from matplotlib>=2.2.3->phik) (2.8.1)\n",
      "Requirement already satisfied: cycler>=0.10 in /opt/conda/lib/python3.9/site-packages (from matplotlib>=2.2.3->phik) (0.11.0)\n",
      "Requirement already satisfied: kiwisolver>=1.0.1 in /opt/conda/lib/python3.9/site-packages (from matplotlib>=2.2.3->phik) (1.4.4)\n",
      "Requirement already satisfied: pyparsing!=2.0.4,!=2.1.2,!=2.1.6,>=2.0.3 in /opt/conda/lib/python3.9/site-packages (from matplotlib>=2.2.3->phik) (2.4.7)\n",
      "Requirement already satisfied: pytz>=2017.3 in /opt/conda/lib/python3.9/site-packages (from pandas>=0.25.1->phik) (2021.1)\n",
      "Requirement already satisfied: six>=1.5 in /opt/conda/lib/python3.9/site-packages (from python-dateutil>=2.1->matplotlib>=2.2.3->phik) (1.16.0)\n",
      "Installing collected packages: phik\n",
      "Successfully installed phik-0.12.3\n",
      "Note: you may need to restart the kernel to use updated packages.\n"
     ]
    }
   ],
   "source": [
    "pip install phik\n"
   ]
  },
  {
   "cell_type": "code",
   "execution_count": 2,
   "metadata": {},
   "outputs": [
    {
     "name": "stdout",
     "output_type": "stream",
     "text": [
      "Collecting scikit-learn==1.1.3\n",
      "  Downloading scikit_learn-1.1.3-cp39-cp39-manylinux_2_17_x86_64.manylinux2014_x86_64.whl (30.8 MB)\n",
      "\u001b[K     |████████████████████████████████| 30.8 MB 45 kB/s s eta 0:00:01     |█████████████████               | 16.4 MB 44.6 MB/s eta 0:00:01     |██████████████████████████████▍ | 29.2 MB 12.9 MB/s eta 0:00:01\n",
      "\u001b[?25hRequirement already satisfied: threadpoolctl>=2.0.0 in /opt/conda/lib/python3.9/site-packages (from scikit-learn==1.1.3) (3.1.0)\n",
      "Requirement already satisfied: joblib>=1.0.0 in /opt/conda/lib/python3.9/site-packages (from scikit-learn==1.1.3) (1.1.0)\n",
      "Requirement already satisfied: scipy>=1.3.2 in /opt/conda/lib/python3.9/site-packages (from scikit-learn==1.1.3) (1.9.1)\n",
      "Requirement already satisfied: numpy>=1.17.3 in /opt/conda/lib/python3.9/site-packages (from scikit-learn==1.1.3) (1.21.1)\n",
      "Installing collected packages: scikit-learn\n",
      "  Attempting uninstall: scikit-learn\n",
      "    Found existing installation: scikit-learn 0.24.1\n",
      "    Uninstalling scikit-learn-0.24.1:\n",
      "      Successfully uninstalled scikit-learn-0.24.1\n",
      "Successfully installed scikit-learn-1.1.3\n",
      "Note: you may need to restart the kernel to use updated packages.\n"
     ]
    }
   ],
   "source": [
    "pip install scikit-learn==1.1.3"
   ]
  },
  {
   "cell_type": "code",
   "execution_count": 3,
   "metadata": {},
   "outputs": [],
   "source": [
    "import pandas as pd\n",
    "import numpy as np\n",
    "import matplotlib.pyplot as plt\n",
    "\n",
    "import phik\n",
    "from phik.report import plot_correlation_matrix\n",
    "from phik import report\n",
    "\n",
    "from sklearn.model_selection import train_test_split\n",
    "from sklearn.compose import make_column_transformer\n",
    "from sklearn.preprocessing import (\n",
    "    OneHotEncoder,\n",
    "    OrdinalEncoder,\n",
    "    StandardScaler\n",
    ")\n",
    "from sklearn.linear_model import LogisticRegression\n",
    "from sklearn.ensemble import RandomForestClassifier\n",
    "from sklearn.metrics import (\n",
    "    roc_auc_score, \n",
    "    roc_curve, \n",
    "    confusion_matrix, \n",
    "    ConfusionMatrixDisplay\n",
    ")\n",
    "from sklearn.model_selection import GridSearchCV\n",
    "from sklearn.dummy import DummyClassifier\n",
    "\n",
    "from catboost import CatBoostClassifier\n",
    "\n",
    "import warnings \n",
    "warnings.filterwarnings('ignore')"
   ]
  },
  {
   "cell_type": "code",
   "execution_count": 4,
   "metadata": {},
   "outputs": [],
   "source": [
    "df_contract = pd.read_csv('/datasets/contract_new.csv')\n",
    "df_personal = pd.read_csv('/datasets/personal_new.csv')\n",
    "df_internet = pd.read_csv('/datasets/internet_new.csv')\n",
    "df_phone = pd.read_csv('/datasets/phone_new.csv')"
   ]
  },
  {
   "cell_type": "code",
   "execution_count": 5,
   "metadata": {},
   "outputs": [],
   "source": [
    "RANDOM_STATE = 250423"
   ]
  },
  {
   "attachments": {},
   "cell_type": "markdown",
   "metadata": {},
   "source": [
    "### Договор "
   ]
  },
  {
   "cell_type": "code",
   "execution_count": 6,
   "metadata": {},
   "outputs": [
    {
     "data": {
      "text/html": [
       "<div>\n",
       "<style scoped>\n",
       "    .dataframe tbody tr th:only-of-type {\n",
       "        vertical-align: middle;\n",
       "    }\n",
       "\n",
       "    .dataframe tbody tr th {\n",
       "        vertical-align: top;\n",
       "    }\n",
       "\n",
       "    .dataframe thead th {\n",
       "        text-align: right;\n",
       "    }\n",
       "</style>\n",
       "<table border=\"1\" class=\"dataframe\">\n",
       "  <thead>\n",
       "    <tr style=\"text-align: right;\">\n",
       "      <th></th>\n",
       "      <th>customerID</th>\n",
       "      <th>BeginDate</th>\n",
       "      <th>EndDate</th>\n",
       "      <th>Type</th>\n",
       "      <th>PaperlessBilling</th>\n",
       "      <th>PaymentMethod</th>\n",
       "      <th>MonthlyCharges</th>\n",
       "      <th>TotalCharges</th>\n",
       "    </tr>\n",
       "  </thead>\n",
       "  <tbody>\n",
       "    <tr>\n",
       "      <th>0</th>\n",
       "      <td>7590-VHVEG</td>\n",
       "      <td>2020-01-01</td>\n",
       "      <td>No</td>\n",
       "      <td>Month-to-month</td>\n",
       "      <td>Yes</td>\n",
       "      <td>Electronic check</td>\n",
       "      <td>29.85</td>\n",
       "      <td>31.04</td>\n",
       "    </tr>\n",
       "    <tr>\n",
       "      <th>1</th>\n",
       "      <td>5575-GNVDE</td>\n",
       "      <td>2017-04-01</td>\n",
       "      <td>No</td>\n",
       "      <td>One year</td>\n",
       "      <td>No</td>\n",
       "      <td>Mailed check</td>\n",
       "      <td>56.95</td>\n",
       "      <td>2071.84</td>\n",
       "    </tr>\n",
       "    <tr>\n",
       "      <th>2</th>\n",
       "      <td>3668-QPYBK</td>\n",
       "      <td>2019-10-01</td>\n",
       "      <td>No</td>\n",
       "      <td>Month-to-month</td>\n",
       "      <td>Yes</td>\n",
       "      <td>Mailed check</td>\n",
       "      <td>53.85</td>\n",
       "      <td>226.17</td>\n",
       "    </tr>\n",
       "    <tr>\n",
       "      <th>3</th>\n",
       "      <td>7795-CFOCW</td>\n",
       "      <td>2016-05-01</td>\n",
       "      <td>No</td>\n",
       "      <td>One year</td>\n",
       "      <td>No</td>\n",
       "      <td>Bank transfer (automatic)</td>\n",
       "      <td>42.30</td>\n",
       "      <td>1960.6</td>\n",
       "    </tr>\n",
       "    <tr>\n",
       "      <th>4</th>\n",
       "      <td>9237-HQITU</td>\n",
       "      <td>2019-09-01</td>\n",
       "      <td>No</td>\n",
       "      <td>Month-to-month</td>\n",
       "      <td>Yes</td>\n",
       "      <td>Electronic check</td>\n",
       "      <td>70.70</td>\n",
       "      <td>353.5</td>\n",
       "    </tr>\n",
       "  </tbody>\n",
       "</table>\n",
       "</div>"
      ],
      "text/plain": [
       "   customerID   BeginDate EndDate            Type PaperlessBilling  \\\n",
       "0  7590-VHVEG  2020-01-01      No  Month-to-month              Yes   \n",
       "1  5575-GNVDE  2017-04-01      No        One year               No   \n",
       "2  3668-QPYBK  2019-10-01      No  Month-to-month              Yes   \n",
       "3  7795-CFOCW  2016-05-01      No        One year               No   \n",
       "4  9237-HQITU  2019-09-01      No  Month-to-month              Yes   \n",
       "\n",
       "               PaymentMethod  MonthlyCharges TotalCharges  \n",
       "0           Electronic check           29.85        31.04  \n",
       "1               Mailed check           56.95      2071.84  \n",
       "2               Mailed check           53.85       226.17  \n",
       "3  Bank transfer (automatic)           42.30       1960.6  \n",
       "4           Electronic check           70.70        353.5  "
      ]
     },
     "execution_count": 6,
     "metadata": {},
     "output_type": "execute_result"
    }
   ],
   "source": [
    "df_contract.head()"
   ]
  },
  {
   "cell_type": "code",
   "execution_count": 7,
   "metadata": {},
   "outputs": [
    {
     "name": "stdout",
     "output_type": "stream",
     "text": [
      "<class 'pandas.core.frame.DataFrame'>\n",
      "RangeIndex: 7043 entries, 0 to 7042\n",
      "Data columns (total 8 columns):\n",
      " #   Column            Non-Null Count  Dtype  \n",
      "---  ------            --------------  -----  \n",
      " 0   customerID        7043 non-null   object \n",
      " 1   BeginDate         7043 non-null   object \n",
      " 2   EndDate           7043 non-null   object \n",
      " 3   Type              7043 non-null   object \n",
      " 4   PaperlessBilling  7043 non-null   object \n",
      " 5   PaymentMethod     7043 non-null   object \n",
      " 6   MonthlyCharges    7043 non-null   float64\n",
      " 7   TotalCharges      7043 non-null   object \n",
      "dtypes: float64(1), object(7)\n",
      "memory usage: 440.3+ KB\n"
     ]
    }
   ],
   "source": [
    "df_contract.info()"
   ]
  },
  {
   "cell_type": "code",
   "execution_count": 8,
   "metadata": {},
   "outputs": [
    {
     "data": {
      "text/html": [
       "<div>\n",
       "<style scoped>\n",
       "    .dataframe tbody tr th:only-of-type {\n",
       "        vertical-align: middle;\n",
       "    }\n",
       "\n",
       "    .dataframe tbody tr th {\n",
       "        vertical-align: top;\n",
       "    }\n",
       "\n",
       "    .dataframe thead th {\n",
       "        text-align: right;\n",
       "    }\n",
       "</style>\n",
       "<table border=\"1\" class=\"dataframe\">\n",
       "  <thead>\n",
       "    <tr style=\"text-align: right;\">\n",
       "      <th></th>\n",
       "      <th>MonthlyCharges</th>\n",
       "    </tr>\n",
       "  </thead>\n",
       "  <tbody>\n",
       "    <tr>\n",
       "      <th>count</th>\n",
       "      <td>7043.000000</td>\n",
       "    </tr>\n",
       "    <tr>\n",
       "      <th>mean</th>\n",
       "      <td>64.761692</td>\n",
       "    </tr>\n",
       "    <tr>\n",
       "      <th>std</th>\n",
       "      <td>30.090047</td>\n",
       "    </tr>\n",
       "    <tr>\n",
       "      <th>min</th>\n",
       "      <td>18.250000</td>\n",
       "    </tr>\n",
       "    <tr>\n",
       "      <th>25%</th>\n",
       "      <td>35.500000</td>\n",
       "    </tr>\n",
       "    <tr>\n",
       "      <th>50%</th>\n",
       "      <td>70.350000</td>\n",
       "    </tr>\n",
       "    <tr>\n",
       "      <th>75%</th>\n",
       "      <td>89.850000</td>\n",
       "    </tr>\n",
       "    <tr>\n",
       "      <th>max</th>\n",
       "      <td>118.750000</td>\n",
       "    </tr>\n",
       "  </tbody>\n",
       "</table>\n",
       "</div>"
      ],
      "text/plain": [
       "       MonthlyCharges\n",
       "count     7043.000000\n",
       "mean        64.761692\n",
       "std         30.090047\n",
       "min         18.250000\n",
       "25%         35.500000\n",
       "50%         70.350000\n",
       "75%         89.850000\n",
       "max        118.750000"
      ]
     },
     "execution_count": 8,
     "metadata": {},
     "output_type": "execute_result"
    }
   ],
   "source": [
    "df_contract.describe()"
   ]
  },
  {
   "cell_type": "code",
   "execution_count": 9,
   "metadata": {},
   "outputs": [
    {
     "data": {
      "image/png": "[encoded data removed]",
      "text/plain": [
       "<Figure size 432x288 with 1 Axes>"
      ]
     },
     "metadata": {
      "needs_background": "light"
     },
     "output_type": "display_data"
    }
   ],
   "source": [
    "df_contract['Type'].hist()\n",
    "plt.title(\"Распределние типов контракта\")\n",
    "plt.xlabel(\"Тип контракта\")\n",
    "plt.ylabel(\"Количество\");"
   ]
  },
  {
   "attachments": {},
   "cell_type": "markdown",
   "metadata": {},
   "source": [
    "\n",
    "<div class=\"alert alert-block alert-info\">\n",
    "<b>Комментарий студента:</b> подправил.</div>"
   ]
  },
  {
   "cell_type": "code",
   "execution_count": 10,
   "metadata": {},
   "outputs": [],
   "source": [
    "df_contract['TotalCharges'] = pd.to_numeric(df_contract['TotalCharges'], errors ='coerce')"
   ]
  },
  {
   "cell_type": "code",
   "execution_count": 11,
   "metadata": {},
   "outputs": [
    {
     "data": {
      "image/png": "[encoded data removed]",
      "text/plain": [
       "<Figure size 720x432 with 2 Axes>"
      ]
     },
     "metadata": {
      "needs_background": "light"
     },
     "output_type": "display_data"
    }
   ],
   "source": [
    "df_contract.hist(figsize =(10, 6));\n",
    "plt.subplot(121)\n",
    "plt.title(\"Распределение месячных выплат\")\n",
    "plt.xlabel(\"MonthlyCharges\")\n",
    "plt.ylabel(\"Количество\")\n",
    "\n",
    "plt.subplot(122)\n",
    "plt.title(\"Распределение общих выплат\")\n",
    "plt.xlabel(\"TotalCharges\")\n",
    "plt.ylabel(\"Количество\");"
   ]
  },
  {
   "attachments": {},
   "cell_type": "markdown",
   "metadata": {},
   "source": [
    "**Признаки**\n",
    "\n",
    "\n",
    "- customerID — код клиента\n",
    "- BeginDate — дата начала пользования услугами\n",
    "- EndDate — дата окончания пользования услугами\n",
    "- Type — тип договора(месячный/годовой)\n",
    "- PaperlessBilling — факт выставления счета на эл. почту\n",
    "- PaymentMethod — способ оплаты\n",
    "- MonthlyCharges — ежемесячные траты на услуги\n",
    "- TotalCharges — всего потрачено денег на услуги\n",
    "\n",
    "**Выводы**\n",
    "- пропусков нет\n",
    "- необходимо изменить типы данных для большинста столбцов(даты/числа/категории)\n",
    "- Для визуализации TotalCharges я изменил тип данных, однако я заметил что там есть ошибки, далее надо будет изучить природу этих ошибок"
   ]
  },
  {
   "attachments": {},
   "cell_type": "markdown",
   "metadata": {},
   "source": [
    "### Персональные данные "
   ]
  },
  {
   "cell_type": "code",
   "execution_count": 12,
   "metadata": {},
   "outputs": [
    {
     "data": {
      "text/html": [
       "<div>\n",
       "<style scoped>\n",
       "    .dataframe tbody tr th:only-of-type {\n",
       "        vertical-align: middle;\n",
       "    }\n",
       "\n",
       "    .dataframe tbody tr th {\n",
       "        vertical-align: top;\n",
       "    }\n",
       "\n",
       "    .dataframe thead th {\n",
       "        text-align: right;\n",
       "    }\n",
       "</style>\n",
       "<table border=\"1\" class=\"dataframe\">\n",
       "  <thead>\n",
       "    <tr style=\"text-align: right;\">\n",
       "      <th></th>\n",
       "      <th>customerID</th>\n",
       "      <th>gender</th>\n",
       "      <th>SeniorCitizen</th>\n",
       "      <th>Partner</th>\n",
       "      <th>Dependents</th>\n",
       "    </tr>\n",
       "  </thead>\n",
       "  <tbody>\n",
       "    <tr>\n",
       "      <th>0</th>\n",
       "      <td>7590-VHVEG</td>\n",
       "      <td>Female</td>\n",
       "      <td>0</td>\n",
       "      <td>Yes</td>\n",
       "      <td>No</td>\n",
       "    </tr>\n",
       "    <tr>\n",
       "      <th>1</th>\n",
       "      <td>5575-GNVDE</td>\n",
       "      <td>Male</td>\n",
       "      <td>0</td>\n",
       "      <td>No</td>\n",
       "      <td>No</td>\n",
       "    </tr>\n",
       "    <tr>\n",
       "      <th>2</th>\n",
       "      <td>3668-QPYBK</td>\n",
       "      <td>Male</td>\n",
       "      <td>0</td>\n",
       "      <td>No</td>\n",
       "      <td>No</td>\n",
       "    </tr>\n",
       "    <tr>\n",
       "      <th>3</th>\n",
       "      <td>7795-CFOCW</td>\n",
       "      <td>Male</td>\n",
       "      <td>0</td>\n",
       "      <td>No</td>\n",
       "      <td>No</td>\n",
       "    </tr>\n",
       "    <tr>\n",
       "      <th>4</th>\n",
       "      <td>9237-HQITU</td>\n",
       "      <td>Female</td>\n",
       "      <td>0</td>\n",
       "      <td>No</td>\n",
       "      <td>No</td>\n",
       "    </tr>\n",
       "  </tbody>\n",
       "</table>\n",
       "</div>"
      ],
      "text/plain": [
       "   customerID  gender  SeniorCitizen Partner Dependents\n",
       "0  7590-VHVEG  Female              0     Yes         No\n",
       "1  5575-GNVDE    Male              0      No         No\n",
       "2  3668-QPYBK    Male              0      No         No\n",
       "3  7795-CFOCW    Male              0      No         No\n",
       "4  9237-HQITU  Female              0      No         No"
      ]
     },
     "execution_count": 12,
     "metadata": {},
     "output_type": "execute_result"
    }
   ],
   "source": [
    "df_personal.head()"
   ]
  },
  {
   "cell_type": "code",
   "execution_count": 13,
   "metadata": {},
   "outputs": [
    {
     "name": "stdout",
     "output_type": "stream",
     "text": [
      "<class 'pandas.core.frame.DataFrame'>\n",
      "RangeIndex: 7043 entries, 0 to 7042\n",
      "Data columns (total 5 columns):\n",
      " #   Column         Non-Null Count  Dtype \n",
      "---  ------         --------------  ----- \n",
      " 0   customerID     7043 non-null   object\n",
      " 1   gender         7043 non-null   object\n",
      " 2   SeniorCitizen  7043 non-null   int64 \n",
      " 3   Partner        7043 non-null   object\n",
      " 4   Dependents     7043 non-null   object\n",
      "dtypes: int64(1), object(4)\n",
      "memory usage: 275.2+ KB\n"
     ]
    }
   ],
   "source": [
    "df_personal.info()"
   ]
  },
  {
   "cell_type": "code",
   "execution_count": 14,
   "metadata": {},
   "outputs": [
    {
     "data": {
      "text/plain": [
       "array([0, 1])"
      ]
     },
     "execution_count": 14,
     "metadata": {},
     "output_type": "execute_result"
    }
   ],
   "source": [
    "df_personal['SeniorCitizen'].unique()"
   ]
  },
  {
   "cell_type": "code",
   "execution_count": 15,
   "metadata": {},
   "outputs": [],
   "source": [
    "df_personal['SeniorCitizen'] = df_personal['SeniorCitizen'].astype('object')"
   ]
  },
  {
   "attachments": {},
   "cell_type": "markdown",
   "metadata": {},
   "source": [
    "**Признаки**\n",
    "\n",
    "\n",
    "- customerID — код клиента\n",
    "- gender — пол\n",
    "- SeniorCitizen — является ли клиент пенсионером\n",
    "- Partner — наличие партнера\n",
    "- Dependents — наличие иждевенца \n",
    "\n",
    "**Выводы**\n",
    "- пропусков нет\n",
    "- необходимо изменить типы данных для большинста столбцов(числа/категории)"
   ]
  },
  {
   "attachments": {},
   "cell_type": "markdown",
   "metadata": {},
   "source": [
    "### Интернет "
   ]
  },
  {
   "cell_type": "code",
   "execution_count": 16,
   "metadata": {
    "scrolled": true
   },
   "outputs": [
    {
     "data": {
      "text/html": [
       "<div>\n",
       "<style scoped>\n",
       "    .dataframe tbody tr th:only-of-type {\n",
       "        vertical-align: middle;\n",
       "    }\n",
       "\n",
       "    .dataframe tbody tr th {\n",
       "        vertical-align: top;\n",
       "    }\n",
       "\n",
       "    .dataframe thead th {\n",
       "        text-align: right;\n",
       "    }\n",
       "</style>\n",
       "<table border=\"1\" class=\"dataframe\">\n",
       "  <thead>\n",
       "    <tr style=\"text-align: right;\">\n",
       "      <th></th>\n",
       "      <th>customerID</th>\n",
       "      <th>InternetService</th>\n",
       "      <th>OnlineSecurity</th>\n",
       "      <th>OnlineBackup</th>\n",
       "      <th>DeviceProtection</th>\n",
       "      <th>TechSupport</th>\n",
       "      <th>StreamingTV</th>\n",
       "      <th>StreamingMovies</th>\n",
       "    </tr>\n",
       "  </thead>\n",
       "  <tbody>\n",
       "    <tr>\n",
       "      <th>0</th>\n",
       "      <td>7590-VHVEG</td>\n",
       "      <td>DSL</td>\n",
       "      <td>No</td>\n",
       "      <td>Yes</td>\n",
       "      <td>No</td>\n",
       "      <td>No</td>\n",
       "      <td>No</td>\n",
       "      <td>No</td>\n",
       "    </tr>\n",
       "    <tr>\n",
       "      <th>1</th>\n",
       "      <td>5575-GNVDE</td>\n",
       "      <td>DSL</td>\n",
       "      <td>Yes</td>\n",
       "      <td>No</td>\n",
       "      <td>Yes</td>\n",
       "      <td>No</td>\n",
       "      <td>No</td>\n",
       "      <td>No</td>\n",
       "    </tr>\n",
       "    <tr>\n",
       "      <th>2</th>\n",
       "      <td>3668-QPYBK</td>\n",
       "      <td>DSL</td>\n",
       "      <td>Yes</td>\n",
       "      <td>Yes</td>\n",
       "      <td>No</td>\n",
       "      <td>No</td>\n",
       "      <td>No</td>\n",
       "      <td>No</td>\n",
       "    </tr>\n",
       "    <tr>\n",
       "      <th>3</th>\n",
       "      <td>7795-CFOCW</td>\n",
       "      <td>DSL</td>\n",
       "      <td>Yes</td>\n",
       "      <td>No</td>\n",
       "      <td>Yes</td>\n",
       "      <td>Yes</td>\n",
       "      <td>No</td>\n",
       "      <td>No</td>\n",
       "    </tr>\n",
       "    <tr>\n",
       "      <th>4</th>\n",
       "      <td>9237-HQITU</td>\n",
       "      <td>Fiber optic</td>\n",
       "      <td>No</td>\n",
       "      <td>No</td>\n",
       "      <td>No</td>\n",
       "      <td>No</td>\n",
       "      <td>No</td>\n",
       "      <td>No</td>\n",
       "    </tr>\n",
       "  </tbody>\n",
       "</table>\n",
       "</div>"
      ],
      "text/plain": [
       "   customerID InternetService OnlineSecurity OnlineBackup DeviceProtection  \\\n",
       "0  7590-VHVEG             DSL             No          Yes               No   \n",
       "1  5575-GNVDE             DSL            Yes           No              Yes   \n",
       "2  3668-QPYBK             DSL            Yes          Yes               No   \n",
       "3  7795-CFOCW             DSL            Yes           No              Yes   \n",
       "4  9237-HQITU     Fiber optic             No           No               No   \n",
       "\n",
       "  TechSupport StreamingTV StreamingMovies  \n",
       "0          No          No              No  \n",
       "1          No          No              No  \n",
       "2          No          No              No  \n",
       "3         Yes          No              No  \n",
       "4          No          No              No  "
      ]
     },
     "execution_count": 16,
     "metadata": {},
     "output_type": "execute_result"
    }
   ],
   "source": [
    "df_internet.head()"
   ]
  },
  {
   "cell_type": "code",
   "execution_count": 17,
   "metadata": {},
   "outputs": [
    {
     "name": "stdout",
     "output_type": "stream",
     "text": [
      "<class 'pandas.core.frame.DataFrame'>\n",
      "RangeIndex: 5517 entries, 0 to 5516\n",
      "Data columns (total 8 columns):\n",
      " #   Column            Non-Null Count  Dtype \n",
      "---  ------            --------------  ----- \n",
      " 0   customerID        5517 non-null   object\n",
      " 1   InternetService   5517 non-null   object\n",
      " 2   OnlineSecurity    5517 non-null   object\n",
      " 3   OnlineBackup      5517 non-null   object\n",
      " 4   DeviceProtection  5517 non-null   object\n",
      " 5   TechSupport       5517 non-null   object\n",
      " 6   StreamingTV       5517 non-null   object\n",
      " 7   StreamingMovies   5517 non-null   object\n",
      "dtypes: object(8)\n",
      "memory usage: 344.9+ KB\n"
     ]
    }
   ],
   "source": [
    "df_internet.info()"
   ]
  },
  {
   "attachments": {},
   "cell_type": "markdown",
   "metadata": {},
   "source": [
    "**Признаки**\n",
    "\n",
    "В данном датасете написана информация о том какие услуги по интурнету подключены пользователям:\n",
    "- Интернет-безопасность: антивирус (DeviceProtection) и блокировка небезопасных сайтов (OnlineSecurity);\n",
    "- Выделенная линия технической поддержки (TechSupport);\n",
    "- Облачное хранилище файлов для резервного копирования данных (OnlineBackup);\n",
    "- Стриминговое телевидение (StreamingTV) и каталог фильмов (StreamingMovies)\n",
    "\n",
    "а также:\n",
    "- InternetService - тип подключения\n",
    "\n",
    "**Выводы**\n",
    "- пропусков нет, однако строк меньше чем в df_personal и df_contract. Следовательно не у всех подключен интернет.\n",
    "- необходимо изменить типы данных для большинста столбцов(категории)"
   ]
  },
  {
   "attachments": {},
   "cell_type": "markdown",
   "metadata": {},
   "source": [
    "### Телефон "
   ]
  },
  {
   "cell_type": "code",
   "execution_count": 18,
   "metadata": {
    "scrolled": true
   },
   "outputs": [
    {
     "data": {
      "text/html": [
       "<div>\n",
       "<style scoped>\n",
       "    .dataframe tbody tr th:only-of-type {\n",
       "        vertical-align: middle;\n",
       "    }\n",
       "\n",
       "    .dataframe tbody tr th {\n",
       "        vertical-align: top;\n",
       "    }\n",
       "\n",
       "    .dataframe thead th {\n",
       "        text-align: right;\n",
       "    }\n",
       "</style>\n",
       "<table border=\"1\" class=\"dataframe\">\n",
       "  <thead>\n",
       "    <tr style=\"text-align: right;\">\n",
       "      <th></th>\n",
       "      <th>customerID</th>\n",
       "      <th>MultipleLines</th>\n",
       "    </tr>\n",
       "  </thead>\n",
       "  <tbody>\n",
       "    <tr>\n",
       "      <th>0</th>\n",
       "      <td>5575-GNVDE</td>\n",
       "      <td>No</td>\n",
       "    </tr>\n",
       "    <tr>\n",
       "      <th>1</th>\n",
       "      <td>3668-QPYBK</td>\n",
       "      <td>No</td>\n",
       "    </tr>\n",
       "    <tr>\n",
       "      <th>2</th>\n",
       "      <td>9237-HQITU</td>\n",
       "      <td>No</td>\n",
       "    </tr>\n",
       "    <tr>\n",
       "      <th>3</th>\n",
       "      <td>9305-CDSKC</td>\n",
       "      <td>Yes</td>\n",
       "    </tr>\n",
       "    <tr>\n",
       "      <th>4</th>\n",
       "      <td>1452-KIOVK</td>\n",
       "      <td>Yes</td>\n",
       "    </tr>\n",
       "  </tbody>\n",
       "</table>\n",
       "</div>"
      ],
      "text/plain": [
       "   customerID MultipleLines\n",
       "0  5575-GNVDE            No\n",
       "1  3668-QPYBK            No\n",
       "2  9237-HQITU            No\n",
       "3  9305-CDSKC           Yes\n",
       "4  1452-KIOVK           Yes"
      ]
     },
     "execution_count": 18,
     "metadata": {},
     "output_type": "execute_result"
    }
   ],
   "source": [
    "df_phone.head()"
   ]
  },
  {
   "cell_type": "code",
   "execution_count": 19,
   "metadata": {},
   "outputs": [
    {
     "name": "stdout",
     "output_type": "stream",
     "text": [
      "<class 'pandas.core.frame.DataFrame'>\n",
      "RangeIndex: 6361 entries, 0 to 6360\n",
      "Data columns (total 2 columns):\n",
      " #   Column         Non-Null Count  Dtype \n",
      "---  ------         --------------  ----- \n",
      " 0   customerID     6361 non-null   object\n",
      " 1   MultipleLines  6361 non-null   object\n",
      "dtypes: object(2)\n",
      "memory usage: 99.5+ KB\n"
     ]
    }
   ],
   "source": [
    "df_phone.info()"
   ]
  },
  {
   "cell_type": "code",
   "execution_count": 20,
   "metadata": {},
   "outputs": [
    {
     "data": {
      "text/html": [
       "<div>\n",
       "<style scoped>\n",
       "    .dataframe tbody tr th:only-of-type {\n",
       "        vertical-align: middle;\n",
       "    }\n",
       "\n",
       "    .dataframe tbody tr th {\n",
       "        vertical-align: top;\n",
       "    }\n",
       "\n",
       "    .dataframe thead th {\n",
       "        text-align: right;\n",
       "    }\n",
       "</style>\n",
       "<table border=\"1\" class=\"dataframe\">\n",
       "  <thead>\n",
       "    <tr style=\"text-align: right;\">\n",
       "      <th></th>\n",
       "      <th>customerID</th>\n",
       "      <th>MultipleLines</th>\n",
       "    </tr>\n",
       "  </thead>\n",
       "  <tbody>\n",
       "    <tr>\n",
       "      <th>count</th>\n",
       "      <td>6361</td>\n",
       "      <td>6361</td>\n",
       "    </tr>\n",
       "    <tr>\n",
       "      <th>unique</th>\n",
       "      <td>6361</td>\n",
       "      <td>2</td>\n",
       "    </tr>\n",
       "    <tr>\n",
       "      <th>top</th>\n",
       "      <td>5842-POCOP</td>\n",
       "      <td>No</td>\n",
       "    </tr>\n",
       "    <tr>\n",
       "      <th>freq</th>\n",
       "      <td>1</td>\n",
       "      <td>3390</td>\n",
       "    </tr>\n",
       "  </tbody>\n",
       "</table>\n",
       "</div>"
      ],
      "text/plain": [
       "        customerID MultipleLines\n",
       "count         6361          6361\n",
       "unique        6361             2\n",
       "top     5842-POCOP            No\n",
       "freq             1          3390"
      ]
     },
     "execution_count": 20,
     "metadata": {},
     "output_type": "execute_result"
    }
   ],
   "source": [
    "df_phone.describe()"
   ]
  },
  {
   "attachments": {},
   "cell_type": "markdown",
   "metadata": {},
   "source": [
    "**Признаки**\n",
    "\n",
    "Ситуация подобная датасету по интернет-услугам, не у всех пользователей подключены услуги телефонной связи(MultipleLines - возможность параллельных линий во время звонка)\n",
    "\n",
    "**Выводы**\n",
    "- пропусков нет, однако строк меньше чем в df_personal и df_contract. Следовательно не у всех подключены услуги телефонной связи.\n",
    "- необходимо изменить типы данных для столбца(категории)"
   ]
  },
  {
   "attachments": {},
   "cell_type": "markdown",
   "metadata": {},
   "source": [
    "### План\n",
    "1. Предобработать данные, т. е. более детально изучить признаки, изучить природу замеченных ошибок и испарвить их. Изучить наличие аномалий, заполнить пропуски, которые появятся после объединений таблиц. Также необходимо будет отбросить некоторые столбцы и добавить целевой признак.\n",
    "\n",
    "2. Создать трейн и тест выборки, для леса и для линейных моделей необходимо использовать разное кодирование(OHE для линейных и OE для леса).\n",
    "\n",
    "3. Попробовать линейные модели(регрессию и лассо), случайный лес и бустинги. Перебрать параметры на кросс валидации.\n",
    "\n",
    "4. Протестировать модель которая лучше всего показала себя на 3 шаге. \n",
    "\n",
    "5. Анализ финальной модели(важность признаков, матрица ошибок)\n",
    "\n",
    "6. проверка адекватности модели при помощи Dummy models."
   ]
  },
  {
   "attachments": {},
   "cell_type": "markdown",
   "metadata": {},
   "source": [
    "## Предобработка данных"
   ]
  },
  {
   "attachments": {},
   "cell_type": "markdown",
   "metadata": {},
   "source": [
    "### Объединение таблиц"
   ]
  },
  {
   "cell_type": "code",
   "execution_count": 21,
   "metadata": {},
   "outputs": [],
   "source": [
    "df = (df_contract.merge(df_personal, how='left',on='customerID')\n",
    "      .merge(df_internet, how='left',on='customerID') \n",
    "      .merge(df_phone, how='left',on='customerID'))"
   ]
  },
  {
   "cell_type": "code",
   "execution_count": 22,
   "metadata": {},
   "outputs": [
    {
     "data": {
      "text/html": [
       "<div>\n",
       "<style scoped>\n",
       "    .dataframe tbody tr th:only-of-type {\n",
       "        vertical-align: middle;\n",
       "    }\n",
       "\n",
       "    .dataframe tbody tr th {\n",
       "        vertical-align: top;\n",
       "    }\n",
       "\n",
       "    .dataframe thead th {\n",
       "        text-align: right;\n",
       "    }\n",
       "</style>\n",
       "<table border=\"1\" class=\"dataframe\">\n",
       "  <thead>\n",
       "    <tr style=\"text-align: right;\">\n",
       "      <th></th>\n",
       "      <th>customerID</th>\n",
       "      <th>BeginDate</th>\n",
       "      <th>EndDate</th>\n",
       "      <th>Type</th>\n",
       "      <th>PaperlessBilling</th>\n",
       "      <th>PaymentMethod</th>\n",
       "      <th>MonthlyCharges</th>\n",
       "      <th>TotalCharges</th>\n",
       "      <th>gender</th>\n",
       "      <th>SeniorCitizen</th>\n",
       "      <th>Partner</th>\n",
       "      <th>Dependents</th>\n",
       "      <th>InternetService</th>\n",
       "      <th>OnlineSecurity</th>\n",
       "      <th>OnlineBackup</th>\n",
       "      <th>DeviceProtection</th>\n",
       "      <th>TechSupport</th>\n",
       "      <th>StreamingTV</th>\n",
       "      <th>StreamingMovies</th>\n",
       "      <th>MultipleLines</th>\n",
       "    </tr>\n",
       "  </thead>\n",
       "  <tbody>\n",
       "    <tr>\n",
       "      <th>0</th>\n",
       "      <td>7590-VHVEG</td>\n",
       "      <td>2020-01-01</td>\n",
       "      <td>No</td>\n",
       "      <td>Month-to-month</td>\n",
       "      <td>Yes</td>\n",
       "      <td>Electronic check</td>\n",
       "      <td>29.85</td>\n",
       "      <td>31.04</td>\n",
       "      <td>Female</td>\n",
       "      <td>0</td>\n",
       "      <td>Yes</td>\n",
       "      <td>No</td>\n",
       "      <td>DSL</td>\n",
       "      <td>No</td>\n",
       "      <td>Yes</td>\n",
       "      <td>No</td>\n",
       "      <td>No</td>\n",
       "      <td>No</td>\n",
       "      <td>No</td>\n",
       "      <td>NaN</td>\n",
       "    </tr>\n",
       "    <tr>\n",
       "      <th>1</th>\n",
       "      <td>5575-GNVDE</td>\n",
       "      <td>2017-04-01</td>\n",
       "      <td>No</td>\n",
       "      <td>One year</td>\n",
       "      <td>No</td>\n",
       "      <td>Mailed check</td>\n",
       "      <td>56.95</td>\n",
       "      <td>2071.84</td>\n",
       "      <td>Male</td>\n",
       "      <td>0</td>\n",
       "      <td>No</td>\n",
       "      <td>No</td>\n",
       "      <td>DSL</td>\n",
       "      <td>Yes</td>\n",
       "      <td>No</td>\n",
       "      <td>Yes</td>\n",
       "      <td>No</td>\n",
       "      <td>No</td>\n",
       "      <td>No</td>\n",
       "      <td>No</td>\n",
       "    </tr>\n",
       "    <tr>\n",
       "      <th>2</th>\n",
       "      <td>3668-QPYBK</td>\n",
       "      <td>2019-10-01</td>\n",
       "      <td>No</td>\n",
       "      <td>Month-to-month</td>\n",
       "      <td>Yes</td>\n",
       "      <td>Mailed check</td>\n",
       "      <td>53.85</td>\n",
       "      <td>226.17</td>\n",
       "      <td>Male</td>\n",
       "      <td>0</td>\n",
       "      <td>No</td>\n",
       "      <td>No</td>\n",
       "      <td>DSL</td>\n",
       "      <td>Yes</td>\n",
       "      <td>Yes</td>\n",
       "      <td>No</td>\n",
       "      <td>No</td>\n",
       "      <td>No</td>\n",
       "      <td>No</td>\n",
       "      <td>No</td>\n",
       "    </tr>\n",
       "    <tr>\n",
       "      <th>3</th>\n",
       "      <td>7795-CFOCW</td>\n",
       "      <td>2016-05-01</td>\n",
       "      <td>No</td>\n",
       "      <td>One year</td>\n",
       "      <td>No</td>\n",
       "      <td>Bank transfer (automatic)</td>\n",
       "      <td>42.30</td>\n",
       "      <td>1960.60</td>\n",
       "      <td>Male</td>\n",
       "      <td>0</td>\n",
       "      <td>No</td>\n",
       "      <td>No</td>\n",
       "      <td>DSL</td>\n",
       "      <td>Yes</td>\n",
       "      <td>No</td>\n",
       "      <td>Yes</td>\n",
       "      <td>Yes</td>\n",
       "      <td>No</td>\n",
       "      <td>No</td>\n",
       "      <td>NaN</td>\n",
       "    </tr>\n",
       "    <tr>\n",
       "      <th>4</th>\n",
       "      <td>9237-HQITU</td>\n",
       "      <td>2019-09-01</td>\n",
       "      <td>No</td>\n",
       "      <td>Month-to-month</td>\n",
       "      <td>Yes</td>\n",
       "      <td>Electronic check</td>\n",
       "      <td>70.70</td>\n",
       "      <td>353.50</td>\n",
       "      <td>Female</td>\n",
       "      <td>0</td>\n",
       "      <td>No</td>\n",
       "      <td>No</td>\n",
       "      <td>Fiber optic</td>\n",
       "      <td>No</td>\n",
       "      <td>No</td>\n",
       "      <td>No</td>\n",
       "      <td>No</td>\n",
       "      <td>No</td>\n",
       "      <td>No</td>\n",
       "      <td>No</td>\n",
       "    </tr>\n",
       "  </tbody>\n",
       "</table>\n",
       "</div>"
      ],
      "text/plain": [
       "   customerID   BeginDate EndDate            Type PaperlessBilling  \\\n",
       "0  7590-VHVEG  2020-01-01      No  Month-to-month              Yes   \n",
       "1  5575-GNVDE  2017-04-01      No        One year               No   \n",
       "2  3668-QPYBK  2019-10-01      No  Month-to-month              Yes   \n",
       "3  7795-CFOCW  2016-05-01      No        One year               No   \n",
       "4  9237-HQITU  2019-09-01      No  Month-to-month              Yes   \n",
       "\n",
       "               PaymentMethod  MonthlyCharges  TotalCharges  gender  \\\n",
       "0           Electronic check           29.85         31.04  Female   \n",
       "1               Mailed check           56.95       2071.84    Male   \n",
       "2               Mailed check           53.85        226.17    Male   \n",
       "3  Bank transfer (automatic)           42.30       1960.60    Male   \n",
       "4           Electronic check           70.70        353.50  Female   \n",
       "\n",
       "  SeniorCitizen Partner Dependents InternetService OnlineSecurity  \\\n",
       "0             0     Yes         No             DSL             No   \n",
       "1             0      No         No             DSL            Yes   \n",
       "2             0      No         No             DSL            Yes   \n",
       "3             0      No         No             DSL            Yes   \n",
       "4             0      No         No     Fiber optic             No   \n",
       "\n",
       "  OnlineBackup DeviceProtection TechSupport StreamingTV StreamingMovies  \\\n",
       "0          Yes               No          No          No              No   \n",
       "1           No              Yes          No          No              No   \n",
       "2          Yes               No          No          No              No   \n",
       "3           No              Yes         Yes          No              No   \n",
       "4           No               No          No          No              No   \n",
       "\n",
       "  MultipleLines  \n",
       "0           NaN  \n",
       "1            No  \n",
       "2            No  \n",
       "3           NaN  \n",
       "4            No  "
      ]
     },
     "execution_count": 22,
     "metadata": {},
     "output_type": "execute_result"
    }
   ],
   "source": [
    "df.head()"
   ]
  },
  {
   "cell_type": "code",
   "execution_count": 23,
   "metadata": {},
   "outputs": [
    {
     "data": {
      "text/plain": [
       "customerID          False\n",
       "BeginDate           False\n",
       "EndDate             False\n",
       "Type                False\n",
       "PaperlessBilling    False\n",
       "PaymentMethod       False\n",
       "MonthlyCharges      False\n",
       "TotalCharges         True\n",
       "gender              False\n",
       "SeniorCitizen       False\n",
       "Partner             False\n",
       "Dependents          False\n",
       "InternetService      True\n",
       "OnlineSecurity       True\n",
       "OnlineBackup         True\n",
       "DeviceProtection     True\n",
       "TechSupport          True\n",
       "StreamingTV          True\n",
       "StreamingMovies      True\n",
       "MultipleLines        True\n",
       "dtype: bool"
      ]
     },
     "execution_count": 23,
     "metadata": {},
     "output_type": "execute_result"
    }
   ],
   "source": [
    "df.isnull().any()"
   ]
  },
  {
   "attachments": {},
   "cell_type": "markdown",
   "metadata": {},
   "source": [
    "Видно, что после соединения появились пропуски в столбцах связанных с услугами. Это значит что эти услуги не предоставляются, так что их мы просто заполним 'No'. У TotalCharges другая природа, ее изучим позже"
   ]
  },
  {
   "cell_type": "code",
   "execution_count": 24,
   "metadata": {},
   "outputs": [],
   "source": [
    "services =['InternetService', 'OnlineSecurity', \n",
    "           'OnlineBackup', 'DeviceProtection', \n",
    "           'TechSupport', 'StreamingTV', \n",
    "           'StreamingMovies', 'MultipleLines']"
   ]
  },
  {
   "cell_type": "code",
   "execution_count": 25,
   "metadata": {},
   "outputs": [],
   "source": [
    "df[services] = df[services].fillna('No')"
   ]
  },
  {
   "cell_type": "code",
   "execution_count": 26,
   "metadata": {},
   "outputs": [
    {
     "data": {
      "text/plain": [
       "customerID          False\n",
       "BeginDate           False\n",
       "EndDate             False\n",
       "Type                False\n",
       "PaperlessBilling    False\n",
       "PaymentMethod       False\n",
       "MonthlyCharges      False\n",
       "TotalCharges         True\n",
       "gender              False\n",
       "SeniorCitizen       False\n",
       "Partner             False\n",
       "Dependents          False\n",
       "InternetService     False\n",
       "OnlineSecurity      False\n",
       "OnlineBackup        False\n",
       "DeviceProtection    False\n",
       "TechSupport         False\n",
       "StreamingTV         False\n",
       "StreamingMovies     False\n",
       "MultipleLines       False\n",
       "dtype: bool"
      ]
     },
     "execution_count": 26,
     "metadata": {},
     "output_type": "execute_result"
    }
   ],
   "source": [
    "df.isnull().any()"
   ]
  },
  {
   "attachments": {},
   "cell_type": "markdown",
   "metadata": {},
   "source": [
    "### Работа с датой"
   ]
  },
  {
   "attachments": {},
   "cell_type": "markdown",
   "metadata": {},
   "source": [
    "Заменим No на актуальную для данных дату, чтобы выделить новый признак, говорящий о том сколько времени клиент пользуется услугами компании, а даты впоследствии удалим перед обучением модели."
   ]
  },
  {
   "cell_type": "code",
   "execution_count": 27,
   "metadata": {},
   "outputs": [],
   "source": [
    "df['EndDate'] = df['EndDate'].replace(['No'], '2020-02-01')"
   ]
  },
  {
   "cell_type": "code",
   "execution_count": 28,
   "metadata": {},
   "outputs": [],
   "source": [
    "df[['BeginDate', 'EndDate']] = df[['BeginDate', 'EndDate']].apply(pd.to_datetime)"
   ]
  },
  {
   "cell_type": "code",
   "execution_count": 29,
   "metadata": {},
   "outputs": [],
   "source": [
    "df['CLC'] = df['EndDate'] - df['BeginDate'] \n",
    "df['CLC'] = df['CLC'].dt.days"
   ]
  },
  {
   "cell_type": "code",
   "execution_count": 30,
   "metadata": {},
   "outputs": [
    {
     "data": {
      "text/html": [
       "<div>\n",
       "<style scoped>\n",
       "    .dataframe tbody tr th:only-of-type {\n",
       "        vertical-align: middle;\n",
       "    }\n",
       "\n",
       "    .dataframe tbody tr th {\n",
       "        vertical-align: top;\n",
       "    }\n",
       "\n",
       "    .dataframe thead th {\n",
       "        text-align: right;\n",
       "    }\n",
       "</style>\n",
       "<table border=\"1\" class=\"dataframe\">\n",
       "  <thead>\n",
       "    <tr style=\"text-align: right;\">\n",
       "      <th></th>\n",
       "      <th>customerID</th>\n",
       "      <th>BeginDate</th>\n",
       "      <th>EndDate</th>\n",
       "      <th>Type</th>\n",
       "      <th>PaperlessBilling</th>\n",
       "      <th>PaymentMethod</th>\n",
       "      <th>MonthlyCharges</th>\n",
       "      <th>TotalCharges</th>\n",
       "      <th>gender</th>\n",
       "      <th>SeniorCitizen</th>\n",
       "      <th>...</th>\n",
       "      <th>Dependents</th>\n",
       "      <th>InternetService</th>\n",
       "      <th>OnlineSecurity</th>\n",
       "      <th>OnlineBackup</th>\n",
       "      <th>DeviceProtection</th>\n",
       "      <th>TechSupport</th>\n",
       "      <th>StreamingTV</th>\n",
       "      <th>StreamingMovies</th>\n",
       "      <th>MultipleLines</th>\n",
       "      <th>CLC</th>\n",
       "    </tr>\n",
       "  </thead>\n",
       "  <tbody>\n",
       "    <tr>\n",
       "      <th>0</th>\n",
       "      <td>7590-VHVEG</td>\n",
       "      <td>2020-01-01</td>\n",
       "      <td>2020-02-01</td>\n",
       "      <td>Month-to-month</td>\n",
       "      <td>Yes</td>\n",
       "      <td>Electronic check</td>\n",
       "      <td>29.85</td>\n",
       "      <td>31.04</td>\n",
       "      <td>Female</td>\n",
       "      <td>0</td>\n",
       "      <td>...</td>\n",
       "      <td>No</td>\n",
       "      <td>DSL</td>\n",
       "      <td>No</td>\n",
       "      <td>Yes</td>\n",
       "      <td>No</td>\n",
       "      <td>No</td>\n",
       "      <td>No</td>\n",
       "      <td>No</td>\n",
       "      <td>No</td>\n",
       "      <td>31</td>\n",
       "    </tr>\n",
       "    <tr>\n",
       "      <th>1</th>\n",
       "      <td>5575-GNVDE</td>\n",
       "      <td>2017-04-01</td>\n",
       "      <td>2020-02-01</td>\n",
       "      <td>One year</td>\n",
       "      <td>No</td>\n",
       "      <td>Mailed check</td>\n",
       "      <td>56.95</td>\n",
       "      <td>2071.84</td>\n",
       "      <td>Male</td>\n",
       "      <td>0</td>\n",
       "      <td>...</td>\n",
       "      <td>No</td>\n",
       "      <td>DSL</td>\n",
       "      <td>Yes</td>\n",
       "      <td>No</td>\n",
       "      <td>Yes</td>\n",
       "      <td>No</td>\n",
       "      <td>No</td>\n",
       "      <td>No</td>\n",
       "      <td>No</td>\n",
       "      <td>1036</td>\n",
       "    </tr>\n",
       "    <tr>\n",
       "      <th>2</th>\n",
       "      <td>3668-QPYBK</td>\n",
       "      <td>2019-10-01</td>\n",
       "      <td>2020-02-01</td>\n",
       "      <td>Month-to-month</td>\n",
       "      <td>Yes</td>\n",
       "      <td>Mailed check</td>\n",
       "      <td>53.85</td>\n",
       "      <td>226.17</td>\n",
       "      <td>Male</td>\n",
       "      <td>0</td>\n",
       "      <td>...</td>\n",
       "      <td>No</td>\n",
       "      <td>DSL</td>\n",
       "      <td>Yes</td>\n",
       "      <td>Yes</td>\n",
       "      <td>No</td>\n",
       "      <td>No</td>\n",
       "      <td>No</td>\n",
       "      <td>No</td>\n",
       "      <td>No</td>\n",
       "      <td>123</td>\n",
       "    </tr>\n",
       "    <tr>\n",
       "      <th>3</th>\n",
       "      <td>7795-CFOCW</td>\n",
       "      <td>2016-05-01</td>\n",
       "      <td>2020-02-01</td>\n",
       "      <td>One year</td>\n",
       "      <td>No</td>\n",
       "      <td>Bank transfer (automatic)</td>\n",
       "      <td>42.30</td>\n",
       "      <td>1960.60</td>\n",
       "      <td>Male</td>\n",
       "      <td>0</td>\n",
       "      <td>...</td>\n",
       "      <td>No</td>\n",
       "      <td>DSL</td>\n",
       "      <td>Yes</td>\n",
       "      <td>No</td>\n",
       "      <td>Yes</td>\n",
       "      <td>Yes</td>\n",
       "      <td>No</td>\n",
       "      <td>No</td>\n",
       "      <td>No</td>\n",
       "      <td>1371</td>\n",
       "    </tr>\n",
       "    <tr>\n",
       "      <th>4</th>\n",
       "      <td>9237-HQITU</td>\n",
       "      <td>2019-09-01</td>\n",
       "      <td>2020-02-01</td>\n",
       "      <td>Month-to-month</td>\n",
       "      <td>Yes</td>\n",
       "      <td>Electronic check</td>\n",
       "      <td>70.70</td>\n",
       "      <td>353.50</td>\n",
       "      <td>Female</td>\n",
       "      <td>0</td>\n",
       "      <td>...</td>\n",
       "      <td>No</td>\n",
       "      <td>Fiber optic</td>\n",
       "      <td>No</td>\n",
       "      <td>No</td>\n",
       "      <td>No</td>\n",
       "      <td>No</td>\n",
       "      <td>No</td>\n",
       "      <td>No</td>\n",
       "      <td>No</td>\n",
       "      <td>153</td>\n",
       "    </tr>\n",
       "  </tbody>\n",
       "</table>\n",
       "<p>5 rows × 21 columns</p>\n",
       "</div>"
      ],
      "text/plain": [
       "   customerID  BeginDate    EndDate            Type PaperlessBilling  \\\n",
       "0  7590-VHVEG 2020-01-01 2020-02-01  Month-to-month              Yes   \n",
       "1  5575-GNVDE 2017-04-01 2020-02-01        One year               No   \n",
       "2  3668-QPYBK 2019-10-01 2020-02-01  Month-to-month              Yes   \n",
       "3  7795-CFOCW 2016-05-01 2020-02-01        One year               No   \n",
       "4  9237-HQITU 2019-09-01 2020-02-01  Month-to-month              Yes   \n",
       "\n",
       "               PaymentMethod  MonthlyCharges  TotalCharges  gender  \\\n",
       "0           Electronic check           29.85         31.04  Female   \n",
       "1               Mailed check           56.95       2071.84    Male   \n",
       "2               Mailed check           53.85        226.17    Male   \n",
       "3  Bank transfer (automatic)           42.30       1960.60    Male   \n",
       "4           Electronic check           70.70        353.50  Female   \n",
       "\n",
       "  SeniorCitizen  ... Dependents InternetService OnlineSecurity OnlineBackup  \\\n",
       "0             0  ...         No             DSL             No          Yes   \n",
       "1             0  ...         No             DSL            Yes           No   \n",
       "2             0  ...         No             DSL            Yes          Yes   \n",
       "3             0  ...         No             DSL            Yes           No   \n",
       "4             0  ...         No     Fiber optic             No           No   \n",
       "\n",
       "  DeviceProtection TechSupport StreamingTV StreamingMovies MultipleLines   CLC  \n",
       "0               No          No          No              No            No    31  \n",
       "1              Yes          No          No              No            No  1036  \n",
       "2               No          No          No              No            No   123  \n",
       "3              Yes         Yes          No              No            No  1371  \n",
       "4               No          No          No              No            No   153  \n",
       "\n",
       "[5 rows x 21 columns]"
      ]
     },
     "execution_count": 30,
     "metadata": {},
     "output_type": "execute_result"
    }
   ],
   "source": [
    "df.head()"
   ]
  },
  {
   "attachments": {},
   "cell_type": "markdown",
   "metadata": {},
   "source": [
    "### пропуски в TotalCharges"
   ]
  },
  {
   "cell_type": "code",
   "execution_count": 31,
   "metadata": {},
   "outputs": [
    {
     "data": {
      "text/html": [
       "<div>\n",
       "<style scoped>\n",
       "    .dataframe tbody tr th:only-of-type {\n",
       "        vertical-align: middle;\n",
       "    }\n",
       "\n",
       "    .dataframe tbody tr th {\n",
       "        vertical-align: top;\n",
       "    }\n",
       "\n",
       "    .dataframe thead th {\n",
       "        text-align: right;\n",
       "    }\n",
       "</style>\n",
       "<table border=\"1\" class=\"dataframe\">\n",
       "  <thead>\n",
       "    <tr style=\"text-align: right;\">\n",
       "      <th></th>\n",
       "      <th>customerID</th>\n",
       "      <th>BeginDate</th>\n",
       "      <th>EndDate</th>\n",
       "      <th>Type</th>\n",
       "      <th>PaperlessBilling</th>\n",
       "      <th>PaymentMethod</th>\n",
       "      <th>MonthlyCharges</th>\n",
       "      <th>TotalCharges</th>\n",
       "      <th>gender</th>\n",
       "      <th>SeniorCitizen</th>\n",
       "      <th>...</th>\n",
       "      <th>Dependents</th>\n",
       "      <th>InternetService</th>\n",
       "      <th>OnlineSecurity</th>\n",
       "      <th>OnlineBackup</th>\n",
       "      <th>DeviceProtection</th>\n",
       "      <th>TechSupport</th>\n",
       "      <th>StreamingTV</th>\n",
       "      <th>StreamingMovies</th>\n",
       "      <th>MultipleLines</th>\n",
       "      <th>CLC</th>\n",
       "    </tr>\n",
       "  </thead>\n",
       "  <tbody>\n",
       "    <tr>\n",
       "      <th>488</th>\n",
       "      <td>4472-LVYGI</td>\n",
       "      <td>2020-02-01</td>\n",
       "      <td>2020-02-01</td>\n",
       "      <td>Two year</td>\n",
       "      <td>Yes</td>\n",
       "      <td>Bank transfer (automatic)</td>\n",
       "      <td>52.55</td>\n",
       "      <td>NaN</td>\n",
       "      <td>Female</td>\n",
       "      <td>0</td>\n",
       "      <td>...</td>\n",
       "      <td>Yes</td>\n",
       "      <td>DSL</td>\n",
       "      <td>Yes</td>\n",
       "      <td>No</td>\n",
       "      <td>Yes</td>\n",
       "      <td>Yes</td>\n",
       "      <td>Yes</td>\n",
       "      <td>No</td>\n",
       "      <td>No</td>\n",
       "      <td>0</td>\n",
       "    </tr>\n",
       "    <tr>\n",
       "      <th>753</th>\n",
       "      <td>3115-CZMZD</td>\n",
       "      <td>2020-02-01</td>\n",
       "      <td>2020-02-01</td>\n",
       "      <td>Two year</td>\n",
       "      <td>No</td>\n",
       "      <td>Mailed check</td>\n",
       "      <td>20.25</td>\n",
       "      <td>NaN</td>\n",
       "      <td>Male</td>\n",
       "      <td>0</td>\n",
       "      <td>...</td>\n",
       "      <td>Yes</td>\n",
       "      <td>No</td>\n",
       "      <td>No</td>\n",
       "      <td>No</td>\n",
       "      <td>No</td>\n",
       "      <td>No</td>\n",
       "      <td>No</td>\n",
       "      <td>No</td>\n",
       "      <td>No</td>\n",
       "      <td>0</td>\n",
       "    </tr>\n",
       "    <tr>\n",
       "      <th>936</th>\n",
       "      <td>5709-LVOEQ</td>\n",
       "      <td>2020-02-01</td>\n",
       "      <td>2020-02-01</td>\n",
       "      <td>Two year</td>\n",
       "      <td>No</td>\n",
       "      <td>Mailed check</td>\n",
       "      <td>80.85</td>\n",
       "      <td>NaN</td>\n",
       "      <td>Female</td>\n",
       "      <td>0</td>\n",
       "      <td>...</td>\n",
       "      <td>Yes</td>\n",
       "      <td>DSL</td>\n",
       "      <td>Yes</td>\n",
       "      <td>Yes</td>\n",
       "      <td>Yes</td>\n",
       "      <td>No</td>\n",
       "      <td>Yes</td>\n",
       "      <td>Yes</td>\n",
       "      <td>No</td>\n",
       "      <td>0</td>\n",
       "    </tr>\n",
       "    <tr>\n",
       "      <th>1082</th>\n",
       "      <td>4367-NUYAO</td>\n",
       "      <td>2020-02-01</td>\n",
       "      <td>2020-02-01</td>\n",
       "      <td>Two year</td>\n",
       "      <td>No</td>\n",
       "      <td>Mailed check</td>\n",
       "      <td>25.75</td>\n",
       "      <td>NaN</td>\n",
       "      <td>Male</td>\n",
       "      <td>0</td>\n",
       "      <td>...</td>\n",
       "      <td>Yes</td>\n",
       "      <td>No</td>\n",
       "      <td>No</td>\n",
       "      <td>No</td>\n",
       "      <td>No</td>\n",
       "      <td>No</td>\n",
       "      <td>No</td>\n",
       "      <td>No</td>\n",
       "      <td>Yes</td>\n",
       "      <td>0</td>\n",
       "    </tr>\n",
       "    <tr>\n",
       "      <th>1340</th>\n",
       "      <td>1371-DWPAZ</td>\n",
       "      <td>2020-02-01</td>\n",
       "      <td>2020-02-01</td>\n",
       "      <td>Two year</td>\n",
       "      <td>No</td>\n",
       "      <td>Credit card (automatic)</td>\n",
       "      <td>56.05</td>\n",
       "      <td>NaN</td>\n",
       "      <td>Female</td>\n",
       "      <td>0</td>\n",
       "      <td>...</td>\n",
       "      <td>Yes</td>\n",
       "      <td>DSL</td>\n",
       "      <td>Yes</td>\n",
       "      <td>Yes</td>\n",
       "      <td>Yes</td>\n",
       "      <td>Yes</td>\n",
       "      <td>Yes</td>\n",
       "      <td>No</td>\n",
       "      <td>No</td>\n",
       "      <td>0</td>\n",
       "    </tr>\n",
       "    <tr>\n",
       "      <th>3331</th>\n",
       "      <td>7644-OMVMY</td>\n",
       "      <td>2020-02-01</td>\n",
       "      <td>2020-02-01</td>\n",
       "      <td>Two year</td>\n",
       "      <td>No</td>\n",
       "      <td>Mailed check</td>\n",
       "      <td>19.85</td>\n",
       "      <td>NaN</td>\n",
       "      <td>Male</td>\n",
       "      <td>0</td>\n",
       "      <td>...</td>\n",
       "      <td>Yes</td>\n",
       "      <td>No</td>\n",
       "      <td>No</td>\n",
       "      <td>No</td>\n",
       "      <td>No</td>\n",
       "      <td>No</td>\n",
       "      <td>No</td>\n",
       "      <td>No</td>\n",
       "      <td>No</td>\n",
       "      <td>0</td>\n",
       "    </tr>\n",
       "    <tr>\n",
       "      <th>3826</th>\n",
       "      <td>3213-VVOLG</td>\n",
       "      <td>2020-02-01</td>\n",
       "      <td>2020-02-01</td>\n",
       "      <td>Two year</td>\n",
       "      <td>No</td>\n",
       "      <td>Mailed check</td>\n",
       "      <td>25.35</td>\n",
       "      <td>NaN</td>\n",
       "      <td>Male</td>\n",
       "      <td>0</td>\n",
       "      <td>...</td>\n",
       "      <td>Yes</td>\n",
       "      <td>No</td>\n",
       "      <td>No</td>\n",
       "      <td>No</td>\n",
       "      <td>No</td>\n",
       "      <td>No</td>\n",
       "      <td>No</td>\n",
       "      <td>No</td>\n",
       "      <td>Yes</td>\n",
       "      <td>0</td>\n",
       "    </tr>\n",
       "    <tr>\n",
       "      <th>4380</th>\n",
       "      <td>2520-SGTTA</td>\n",
       "      <td>2020-02-01</td>\n",
       "      <td>2020-02-01</td>\n",
       "      <td>Two year</td>\n",
       "      <td>No</td>\n",
       "      <td>Mailed check</td>\n",
       "      <td>20.00</td>\n",
       "      <td>NaN</td>\n",
       "      <td>Female</td>\n",
       "      <td>0</td>\n",
       "      <td>...</td>\n",
       "      <td>Yes</td>\n",
       "      <td>No</td>\n",
       "      <td>No</td>\n",
       "      <td>No</td>\n",
       "      <td>No</td>\n",
       "      <td>No</td>\n",
       "      <td>No</td>\n",
       "      <td>No</td>\n",
       "      <td>No</td>\n",
       "      <td>0</td>\n",
       "    </tr>\n",
       "    <tr>\n",
       "      <th>5218</th>\n",
       "      <td>2923-ARZLG</td>\n",
       "      <td>2020-02-01</td>\n",
       "      <td>2020-02-01</td>\n",
       "      <td>One year</td>\n",
       "      <td>Yes</td>\n",
       "      <td>Mailed check</td>\n",
       "      <td>19.70</td>\n",
       "      <td>NaN</td>\n",
       "      <td>Male</td>\n",
       "      <td>0</td>\n",
       "      <td>...</td>\n",
       "      <td>Yes</td>\n",
       "      <td>No</td>\n",
       "      <td>No</td>\n",
       "      <td>No</td>\n",
       "      <td>No</td>\n",
       "      <td>No</td>\n",
       "      <td>No</td>\n",
       "      <td>No</td>\n",
       "      <td>No</td>\n",
       "      <td>0</td>\n",
       "    </tr>\n",
       "    <tr>\n",
       "      <th>6670</th>\n",
       "      <td>4075-WKNIU</td>\n",
       "      <td>2020-02-01</td>\n",
       "      <td>2020-02-01</td>\n",
       "      <td>Two year</td>\n",
       "      <td>No</td>\n",
       "      <td>Mailed check</td>\n",
       "      <td>73.35</td>\n",
       "      <td>NaN</td>\n",
       "      <td>Female</td>\n",
       "      <td>0</td>\n",
       "      <td>...</td>\n",
       "      <td>Yes</td>\n",
       "      <td>DSL</td>\n",
       "      <td>No</td>\n",
       "      <td>Yes</td>\n",
       "      <td>Yes</td>\n",
       "      <td>Yes</td>\n",
       "      <td>Yes</td>\n",
       "      <td>No</td>\n",
       "      <td>Yes</td>\n",
       "      <td>0</td>\n",
       "    </tr>\n",
       "    <tr>\n",
       "      <th>6754</th>\n",
       "      <td>2775-SEFEE</td>\n",
       "      <td>2020-02-01</td>\n",
       "      <td>2020-02-01</td>\n",
       "      <td>Two year</td>\n",
       "      <td>Yes</td>\n",
       "      <td>Bank transfer (automatic)</td>\n",
       "      <td>61.90</td>\n",
       "      <td>NaN</td>\n",
       "      <td>Male</td>\n",
       "      <td>0</td>\n",
       "      <td>...</td>\n",
       "      <td>Yes</td>\n",
       "      <td>DSL</td>\n",
       "      <td>Yes</td>\n",
       "      <td>Yes</td>\n",
       "      <td>No</td>\n",
       "      <td>Yes</td>\n",
       "      <td>No</td>\n",
       "      <td>No</td>\n",
       "      <td>Yes</td>\n",
       "      <td>0</td>\n",
       "    </tr>\n",
       "  </tbody>\n",
       "</table>\n",
       "<p>11 rows × 21 columns</p>\n",
       "</div>"
      ],
      "text/plain": [
       "      customerID  BeginDate    EndDate      Type PaperlessBilling  \\\n",
       "488   4472-LVYGI 2020-02-01 2020-02-01  Two year              Yes   \n",
       "753   3115-CZMZD 2020-02-01 2020-02-01  Two year               No   \n",
       "936   5709-LVOEQ 2020-02-01 2020-02-01  Two year               No   \n",
       "1082  4367-NUYAO 2020-02-01 2020-02-01  Two year               No   \n",
       "1340  1371-DWPAZ 2020-02-01 2020-02-01  Two year               No   \n",
       "3331  7644-OMVMY 2020-02-01 2020-02-01  Two year               No   \n",
       "3826  3213-VVOLG 2020-02-01 2020-02-01  Two year               No   \n",
       "4380  2520-SGTTA 2020-02-01 2020-02-01  Two year               No   \n",
       "5218  2923-ARZLG 2020-02-01 2020-02-01  One year              Yes   \n",
       "6670  4075-WKNIU 2020-02-01 2020-02-01  Two year               No   \n",
       "6754  2775-SEFEE 2020-02-01 2020-02-01  Two year              Yes   \n",
       "\n",
       "                  PaymentMethod  MonthlyCharges  TotalCharges  gender  \\\n",
       "488   Bank transfer (automatic)           52.55           NaN  Female   \n",
       "753                Mailed check           20.25           NaN    Male   \n",
       "936                Mailed check           80.85           NaN  Female   \n",
       "1082               Mailed check           25.75           NaN    Male   \n",
       "1340    Credit card (automatic)           56.05           NaN  Female   \n",
       "3331               Mailed check           19.85           NaN    Male   \n",
       "3826               Mailed check           25.35           NaN    Male   \n",
       "4380               Mailed check           20.00           NaN  Female   \n",
       "5218               Mailed check           19.70           NaN    Male   \n",
       "6670               Mailed check           73.35           NaN  Female   \n",
       "6754  Bank transfer (automatic)           61.90           NaN    Male   \n",
       "\n",
       "     SeniorCitizen  ... Dependents InternetService OnlineSecurity  \\\n",
       "488              0  ...        Yes             DSL            Yes   \n",
       "753              0  ...        Yes              No             No   \n",
       "936              0  ...        Yes             DSL            Yes   \n",
       "1082             0  ...        Yes              No             No   \n",
       "1340             0  ...        Yes             DSL            Yes   \n",
       "3331             0  ...        Yes              No             No   \n",
       "3826             0  ...        Yes              No             No   \n",
       "4380             0  ...        Yes              No             No   \n",
       "5218             0  ...        Yes              No             No   \n",
       "6670             0  ...        Yes             DSL             No   \n",
       "6754             0  ...        Yes             DSL            Yes   \n",
       "\n",
       "     OnlineBackup DeviceProtection TechSupport StreamingTV StreamingMovies  \\\n",
       "488            No              Yes         Yes         Yes              No   \n",
       "753            No               No          No          No              No   \n",
       "936           Yes              Yes          No         Yes             Yes   \n",
       "1082           No               No          No          No              No   \n",
       "1340          Yes              Yes         Yes         Yes              No   \n",
       "3331           No               No          No          No              No   \n",
       "3826           No               No          No          No              No   \n",
       "4380           No               No          No          No              No   \n",
       "5218           No               No          No          No              No   \n",
       "6670          Yes              Yes         Yes         Yes              No   \n",
       "6754          Yes               No         Yes          No              No   \n",
       "\n",
       "     MultipleLines CLC  \n",
       "488             No   0  \n",
       "753             No   0  \n",
       "936             No   0  \n",
       "1082           Yes   0  \n",
       "1340            No   0  \n",
       "3331            No   0  \n",
       "3826           Yes   0  \n",
       "4380            No   0  \n",
       "5218            No   0  \n",
       "6670           Yes   0  \n",
       "6754           Yes   0  \n",
       "\n",
       "[11 rows x 21 columns]"
      ]
     },
     "execution_count": 31,
     "metadata": {},
     "output_type": "execute_result"
    }
   ],
   "source": [
    "df[df['TotalCharges'].isnull()]"
   ]
  },
  {
   "attachments": {},
   "cell_type": "markdown",
   "metadata": {},
   "source": [
    "Как видно по дате, это новички. Размер данных небольшой, так что удалим их."
   ]
  },
  {
   "cell_type": "code",
   "execution_count": 32,
   "metadata": {},
   "outputs": [],
   "source": [
    "df.dropna(inplace=True)"
   ]
  },
  {
   "attachments": {},
   "cell_type": "markdown",
   "metadata": {},
   "source": [
    "### Выделение целевого признака"
   ]
  },
  {
   "cell_type": "code",
   "execution_count": 33,
   "metadata": {},
   "outputs": [],
   "source": [
    "df.set_index('customerID', inplace = True)"
   ]
  },
  {
   "cell_type": "code",
   "execution_count": 34,
   "metadata": {},
   "outputs": [],
   "source": [
    "df['Churn'] = (df['EndDate'] != '2020-02-01').astype(int)"
   ]
  },
  {
   "cell_type": "code",
   "execution_count": 35,
   "metadata": {},
   "outputs": [
    {
     "data": {
      "image/png": "[encoded data removed]",
      "text/plain": [
       "<Figure size 432x288 with 1 Axes>"
      ]
     },
     "metadata": {
      "needs_background": "light"
     },
     "output_type": "display_data"
    }
   ],
   "source": [
    "df['Churn'].hist()\n",
    "plt.title(\"Распределение ушедших клиентов\")\n",
    "plt.xlabel(\"Ушел ли клиент\")\n",
    "plt.ylabel(\"Количество\");"
   ]
  },
  {
   "cell_type": "code",
   "execution_count": 36,
   "metadata": {},
   "outputs": [],
   "source": [
    "df.drop(['BeginDate', 'EndDate'], axis=1, inplace = True)"
   ]
  },
  {
   "attachments": {},
   "cell_type": "markdown",
   "metadata": {},
   "source": [
    "### Проверка корреляции"
   ]
  },
  {
   "cell_type": "code",
   "execution_count": 37,
   "metadata": {},
   "outputs": [],
   "source": [
    "interval_cols =['MonthlyCharges', 'TotalCharges', 'CLC']"
   ]
  },
  {
   "cell_type": "code",
   "execution_count": 38,
   "metadata": {},
   "outputs": [],
   "source": [
    "phik_overview = df.phik_matrix(interval_cols=interval_cols)"
   ]
  },
  {
   "cell_type": "code",
   "execution_count": 39,
   "metadata": {
    "scrolled": false
   },
   "outputs": [
    {
     "data": {
      "image/png": "[encoded data removed]",
      "text/plain": [
       "<Figure size 1080x864 with 2 Axes>"
      ]
     },
     "metadata": {
      "needs_background": "light"
     },
     "output_type": "display_data"
    }
   ],
   "source": [
    "plot_correlation_matrix(phik_overview.values, x_labels=phik_overview.columns, y_labels=phik_overview.index, \n",
    "                        vmin=0, vmax=1, color_map='Blues', title=r'correlation $\\phi_K$', fontsize_factor=1.5,\n",
    "                        figsize=(15,12))\n",
    "plt.tight_layout()"
   ]
  },
  {
   "attachments": {},
   "cell_type": "markdown",
   "metadata": {},
   "source": [
    "Удалим столбцы с высокой корреляцией для логистической регрессии в работе с выборками"
   ]
  },
  {
   "attachments": {},
   "cell_type": "markdown",
   "metadata": {},
   "source": [
    "## Работа с выборками"
   ]
  },
  {
   "attachments": {},
   "cell_type": "markdown",
   "metadata": {},
   "source": [
    "### Создание тренировочной и тестовой выборки"
   ]
  },
  {
   "cell_type": "code",
   "execution_count": 40,
   "metadata": {},
   "outputs": [],
   "source": [
    "features = df.drop(['Churn'], axis=1)\n",
    "target = df['Churn']\n",
    "\n",
    "X_train, X_test, y_train, y_test = train_test_split(\n",
    "    features, target, test_size=0.25, random_state=RANDOM_STATE\n",
    ")"
   ]
  },
  {
   "cell_type": "code",
   "execution_count": 41,
   "metadata": {},
   "outputs": [],
   "source": [
    "X_train_lr = X_train.copy()\n",
    "X_test_lr = X_test.copy()"
   ]
  },
  {
   "cell_type": "code",
   "execution_count": 42,
   "metadata": {},
   "outputs": [],
   "source": [
    "X_train_rf = X_train.copy()\n",
    "X_test_rf = X_test.copy()"
   ]
  },
  {
   "cell_type": "code",
   "execution_count": 43,
   "metadata": {},
   "outputs": [],
   "source": [
    "X_train_lr.drop(['TotalCharges', 'StreamingMovies', 'StreamingTV','InternetService'], axis=1, inplace = True)\n",
    "X_test_lr.drop(['TotalCharges', 'StreamingMovies', 'StreamingTV','InternetService'], axis=1, inplace = True)"
   ]
  },
  {
   "attachments": {},
   "cell_type": "markdown",
   "metadata": {},
   "source": [
    "### Кодирование для линейных моделей"
   ]
  },
  {
   "cell_type": "code",
   "execution_count": 44,
   "metadata": {},
   "outputs": [
    {
     "data": {
      "text/plain": [
       "['Type',\n",
       " 'PaperlessBilling',\n",
       " 'PaymentMethod',\n",
       " 'gender',\n",
       " 'Partner',\n",
       " 'Dependents',\n",
       " 'OnlineSecurity',\n",
       " 'OnlineBackup',\n",
       " 'DeviceProtection',\n",
       " 'TechSupport',\n",
       " 'MultipleLines']"
      ]
     },
     "execution_count": 44,
     "metadata": {},
     "output_type": "execute_result"
    }
   ],
   "source": [
    "ohe_features = X_train_lr.select_dtypes(include='object').columns.to_list()\n",
    "ohe_features.remove('SeniorCitizen')\n",
    "ohe_features"
   ]
  },
  {
   "cell_type": "code",
   "execution_count": 45,
   "metadata": {},
   "outputs": [
    {
     "data": {
      "text/plain": [
       "['MonthlyCharges', 'CLC']"
      ]
     },
     "execution_count": 45,
     "metadata": {},
     "output_type": "execute_result"
    }
   ],
   "source": [
    "num_features = X_train_lr.select_dtypes(exclude='object').columns.to_list()\n",
    "num_features"
   ]
  },
  {
   "cell_type": "code",
   "execution_count": 46,
   "metadata": {},
   "outputs": [
    {
     "data": {
      "text/html": [
       "<div>\n",
       "<style scoped>\n",
       "    .dataframe tbody tr th:only-of-type {\n",
       "        vertical-align: middle;\n",
       "    }\n",
       "\n",
       "    .dataframe tbody tr th {\n",
       "        vertical-align: top;\n",
       "    }\n",
       "\n",
       "    .dataframe thead th {\n",
       "        text-align: right;\n",
       "    }\n",
       "</style>\n",
       "<table border=\"1\" class=\"dataframe\">\n",
       "  <thead>\n",
       "    <tr style=\"text-align: right;\">\n",
       "      <th></th>\n",
       "      <th>MonthlyCharges</th>\n",
       "      <th>SeniorCitizen</th>\n",
       "      <th>CLC</th>\n",
       "      <th>Type_One year</th>\n",
       "      <th>Type_Two year</th>\n",
       "      <th>PaperlessBilling_Yes</th>\n",
       "      <th>PaymentMethod_Credit card (automatic)</th>\n",
       "      <th>PaymentMethod_Electronic check</th>\n",
       "      <th>PaymentMethod_Mailed check</th>\n",
       "      <th>gender_Male</th>\n",
       "      <th>Partner_Yes</th>\n",
       "      <th>Dependents_Yes</th>\n",
       "      <th>OnlineSecurity_Yes</th>\n",
       "      <th>OnlineBackup_Yes</th>\n",
       "      <th>DeviceProtection_Yes</th>\n",
       "      <th>TechSupport_Yes</th>\n",
       "      <th>MultipleLines_Yes</th>\n",
       "    </tr>\n",
       "    <tr>\n",
       "      <th>customerID</th>\n",
       "      <th></th>\n",
       "      <th></th>\n",
       "      <th></th>\n",
       "      <th></th>\n",
       "      <th></th>\n",
       "      <th></th>\n",
       "      <th></th>\n",
       "      <th></th>\n",
       "      <th></th>\n",
       "      <th></th>\n",
       "      <th></th>\n",
       "      <th></th>\n",
       "      <th></th>\n",
       "      <th></th>\n",
       "      <th></th>\n",
       "      <th></th>\n",
       "      <th></th>\n",
       "    </tr>\n",
       "  </thead>\n",
       "  <tbody>\n",
       "    <tr>\n",
       "      <th>4189-NAKJS</th>\n",
       "      <td>-0.434285</td>\n",
       "      <td>0</td>\n",
       "      <td>-0.156048</td>\n",
       "      <td>1.0</td>\n",
       "      <td>0.0</td>\n",
       "      <td>1.0</td>\n",
       "      <td>1.0</td>\n",
       "      <td>0.0</td>\n",
       "      <td>0.0</td>\n",
       "      <td>1.0</td>\n",
       "      <td>0.0</td>\n",
       "      <td>0.0</td>\n",
       "      <td>0.0</td>\n",
       "      <td>0.0</td>\n",
       "      <td>0.0</td>\n",
       "      <td>0.0</td>\n",
       "      <td>1.0</td>\n",
       "    </tr>\n",
       "    <tr>\n",
       "      <th>6504-VBLFL</th>\n",
       "      <td>-0.201467</td>\n",
       "      <td>0</td>\n",
       "      <td>1.133510</td>\n",
       "      <td>0.0</td>\n",
       "      <td>1.0</td>\n",
       "      <td>0.0</td>\n",
       "      <td>0.0</td>\n",
       "      <td>1.0</td>\n",
       "      <td>0.0</td>\n",
       "      <td>1.0</td>\n",
       "      <td>1.0</td>\n",
       "      <td>0.0</td>\n",
       "      <td>1.0</td>\n",
       "      <td>1.0</td>\n",
       "      <td>1.0</td>\n",
       "      <td>0.0</td>\n",
       "      <td>0.0</td>\n",
       "    </tr>\n",
       "    <tr>\n",
       "      <th>9040-KZVWO</th>\n",
       "      <td>0.356636</td>\n",
       "      <td>0</td>\n",
       "      <td>-0.156048</td>\n",
       "      <td>1.0</td>\n",
       "      <td>0.0</td>\n",
       "      <td>0.0</td>\n",
       "      <td>0.0</td>\n",
       "      <td>0.0</td>\n",
       "      <td>0.0</td>\n",
       "      <td>1.0</td>\n",
       "      <td>0.0</td>\n",
       "      <td>0.0</td>\n",
       "      <td>0.0</td>\n",
       "      <td>1.0</td>\n",
       "      <td>0.0</td>\n",
       "      <td>0.0</td>\n",
       "      <td>0.0</td>\n",
       "    </tr>\n",
       "    <tr>\n",
       "      <th>0771-CHWSK</th>\n",
       "      <td>0.326914</td>\n",
       "      <td>0</td>\n",
       "      <td>1.620741</td>\n",
       "      <td>0.0</td>\n",
       "      <td>1.0</td>\n",
       "      <td>1.0</td>\n",
       "      <td>1.0</td>\n",
       "      <td>0.0</td>\n",
       "      <td>0.0</td>\n",
       "      <td>1.0</td>\n",
       "      <td>0.0</td>\n",
       "      <td>0.0</td>\n",
       "      <td>1.0</td>\n",
       "      <td>1.0</td>\n",
       "      <td>1.0</td>\n",
       "      <td>0.0</td>\n",
       "      <td>1.0</td>\n",
       "    </tr>\n",
       "    <tr>\n",
       "      <th>3981-QSVQI</th>\n",
       "      <td>-1.486094</td>\n",
       "      <td>0</td>\n",
       "      <td>-0.953998</td>\n",
       "      <td>0.0</td>\n",
       "      <td>0.0</td>\n",
       "      <td>1.0</td>\n",
       "      <td>0.0</td>\n",
       "      <td>0.0</td>\n",
       "      <td>0.0</td>\n",
       "      <td>1.0</td>\n",
       "      <td>0.0</td>\n",
       "      <td>0.0</td>\n",
       "      <td>0.0</td>\n",
       "      <td>0.0</td>\n",
       "      <td>0.0</td>\n",
       "      <td>0.0</td>\n",
       "      <td>0.0</td>\n",
       "    </tr>\n",
       "  </tbody>\n",
       "</table>\n",
       "</div>"
      ],
      "text/plain": [
       "            MonthlyCharges SeniorCitizen       CLC  Type_One year  \\\n",
       "customerID                                                          \n",
       "4189-NAKJS       -0.434285             0 -0.156048            1.0   \n",
       "6504-VBLFL       -0.201467             0  1.133510            0.0   \n",
       "9040-KZVWO        0.356636             0 -0.156048            1.0   \n",
       "0771-CHWSK        0.326914             0  1.620741            0.0   \n",
       "3981-QSVQI       -1.486094             0 -0.953998            0.0   \n",
       "\n",
       "            Type_Two year  PaperlessBilling_Yes  \\\n",
       "customerID                                        \n",
       "4189-NAKJS            0.0                   1.0   \n",
       "6504-VBLFL            1.0                   0.0   \n",
       "9040-KZVWO            0.0                   0.0   \n",
       "0771-CHWSK            1.0                   1.0   \n",
       "3981-QSVQI            0.0                   1.0   \n",
       "\n",
       "            PaymentMethod_Credit card (automatic)  \\\n",
       "customerID                                          \n",
       "4189-NAKJS                                    1.0   \n",
       "6504-VBLFL                                    0.0   \n",
       "9040-KZVWO                                    0.0   \n",
       "0771-CHWSK                                    1.0   \n",
       "3981-QSVQI                                    0.0   \n",
       "\n",
       "            PaymentMethod_Electronic check  PaymentMethod_Mailed check  \\\n",
       "customerID                                                               \n",
       "4189-NAKJS                             0.0                         0.0   \n",
       "6504-VBLFL                             1.0                         0.0   \n",
       "9040-KZVWO                             0.0                         0.0   \n",
       "0771-CHWSK                             0.0                         0.0   \n",
       "3981-QSVQI                             0.0                         0.0   \n",
       "\n",
       "            gender_Male  Partner_Yes  Dependents_Yes  OnlineSecurity_Yes  \\\n",
       "customerID                                                                 \n",
       "4189-NAKJS          1.0          0.0             0.0                 0.0   \n",
       "6504-VBLFL          1.0          1.0             0.0                 1.0   \n",
       "9040-KZVWO          1.0          0.0             0.0                 0.0   \n",
       "0771-CHWSK          1.0          0.0             0.0                 1.0   \n",
       "3981-QSVQI          1.0          0.0             0.0                 0.0   \n",
       "\n",
       "            OnlineBackup_Yes  DeviceProtection_Yes  TechSupport_Yes  \\\n",
       "customerID                                                            \n",
       "4189-NAKJS               0.0                   0.0              0.0   \n",
       "6504-VBLFL               1.0                   1.0              0.0   \n",
       "9040-KZVWO               1.0                   0.0              0.0   \n",
       "0771-CHWSK               1.0                   1.0              0.0   \n",
       "3981-QSVQI               0.0                   0.0              0.0   \n",
       "\n",
       "            MultipleLines_Yes  \n",
       "customerID                     \n",
       "4189-NAKJS                1.0  \n",
       "6504-VBLFL                0.0  \n",
       "9040-KZVWO                0.0  \n",
       "0771-CHWSK                1.0  \n",
       "3981-QSVQI                0.0  "
      ]
     },
     "execution_count": 46,
     "metadata": {},
     "output_type": "execute_result"
    }
   ],
   "source": [
    "scaler = StandardScaler()\n",
    "encoder_ohe = OneHotEncoder(drop='first', handle_unknown='ignore', sparse=False)\n",
    "encoder_ohe.fit(X_train_lr[ohe_features])\n",
    "\n",
    "\n",
    "X_train_lr[\n",
    "    encoder_ohe.get_feature_names_out()\n",
    "] = encoder_ohe.transform(X_train_lr[ohe_features])\n",
    "\n",
    "X_train_lr = X_train_lr.drop(ohe_features, axis=1)\n",
    "\n",
    "X_train_lr[num_features] = scaler.fit_transform(X_train_lr[num_features])\n",
    "X_train_lr.head()"
   ]
  },
  {
   "cell_type": "code",
   "execution_count": 47,
   "metadata": {},
   "outputs": [
    {
     "data": {
      "text/html": [
       "<div>\n",
       "<style scoped>\n",
       "    .dataframe tbody tr th:only-of-type {\n",
       "        vertical-align: middle;\n",
       "    }\n",
       "\n",
       "    .dataframe tbody tr th {\n",
       "        vertical-align: top;\n",
       "    }\n",
       "\n",
       "    .dataframe thead th {\n",
       "        text-align: right;\n",
       "    }\n",
       "</style>\n",
       "<table border=\"1\" class=\"dataframe\">\n",
       "  <thead>\n",
       "    <tr style=\"text-align: right;\">\n",
       "      <th></th>\n",
       "      <th>MonthlyCharges</th>\n",
       "      <th>SeniorCitizen</th>\n",
       "      <th>CLC</th>\n",
       "      <th>Type_One year</th>\n",
       "      <th>Type_Two year</th>\n",
       "      <th>PaperlessBilling_Yes</th>\n",
       "      <th>PaymentMethod_Credit card (automatic)</th>\n",
       "      <th>PaymentMethod_Electronic check</th>\n",
       "      <th>PaymentMethod_Mailed check</th>\n",
       "      <th>gender_Male</th>\n",
       "      <th>Partner_Yes</th>\n",
       "      <th>Dependents_Yes</th>\n",
       "      <th>OnlineSecurity_Yes</th>\n",
       "      <th>OnlineBackup_Yes</th>\n",
       "      <th>DeviceProtection_Yes</th>\n",
       "      <th>TechSupport_Yes</th>\n",
       "      <th>MultipleLines_Yes</th>\n",
       "    </tr>\n",
       "    <tr>\n",
       "      <th>customerID</th>\n",
       "      <th></th>\n",
       "      <th></th>\n",
       "      <th></th>\n",
       "      <th></th>\n",
       "      <th></th>\n",
       "      <th></th>\n",
       "      <th></th>\n",
       "      <th></th>\n",
       "      <th></th>\n",
       "      <th></th>\n",
       "      <th></th>\n",
       "      <th></th>\n",
       "      <th></th>\n",
       "      <th></th>\n",
       "      <th></th>\n",
       "      <th></th>\n",
       "      <th></th>\n",
       "    </tr>\n",
       "  </thead>\n",
       "  <tbody>\n",
       "    <tr>\n",
       "      <th>2049-BAFNW</th>\n",
       "      <td>-0.951108</td>\n",
       "      <td>0</td>\n",
       "      <td>-1.266176</td>\n",
       "      <td>0.0</td>\n",
       "      <td>0.0</td>\n",
       "      <td>0.0</td>\n",
       "      <td>0.0</td>\n",
       "      <td>0.0</td>\n",
       "      <td>1.0</td>\n",
       "      <td>0.0</td>\n",
       "      <td>0.0</td>\n",
       "      <td>0.0</td>\n",
       "      <td>0.0</td>\n",
       "      <td>0.0</td>\n",
       "      <td>1.0</td>\n",
       "      <td>1.0</td>\n",
       "      <td>0.0</td>\n",
       "    </tr>\n",
       "    <tr>\n",
       "      <th>9369-XFEHK</th>\n",
       "      <td>0.525057</td>\n",
       "      <td>1</td>\n",
       "      <td>0.245115</td>\n",
       "      <td>0.0</td>\n",
       "      <td>0.0</td>\n",
       "      <td>1.0</td>\n",
       "      <td>0.0</td>\n",
       "      <td>0.0</td>\n",
       "      <td>0.0</td>\n",
       "      <td>0.0</td>\n",
       "      <td>1.0</td>\n",
       "      <td>0.0</td>\n",
       "      <td>0.0</td>\n",
       "      <td>1.0</td>\n",
       "      <td>0.0</td>\n",
       "      <td>0.0</td>\n",
       "      <td>1.0</td>\n",
       "    </tr>\n",
       "    <tr>\n",
       "      <th>2790-XUYMV</th>\n",
       "      <td>0.685223</td>\n",
       "      <td>0</td>\n",
       "      <td>1.843934</td>\n",
       "      <td>1.0</td>\n",
       "      <td>0.0</td>\n",
       "      <td>1.0</td>\n",
       "      <td>1.0</td>\n",
       "      <td>0.0</td>\n",
       "      <td>0.0</td>\n",
       "      <td>1.0</td>\n",
       "      <td>0.0</td>\n",
       "      <td>1.0</td>\n",
       "      <td>1.0</td>\n",
       "      <td>1.0</td>\n",
       "      <td>0.0</td>\n",
       "      <td>0.0</td>\n",
       "      <td>1.0</td>\n",
       "    </tr>\n",
       "    <tr>\n",
       "      <th>2664-XJZNO</th>\n",
       "      <td>1.327536</td>\n",
       "      <td>0</td>\n",
       "      <td>1.884779</td>\n",
       "      <td>0.0</td>\n",
       "      <td>1.0</td>\n",
       "      <td>1.0</td>\n",
       "      <td>1.0</td>\n",
       "      <td>0.0</td>\n",
       "      <td>0.0</td>\n",
       "      <td>1.0</td>\n",
       "      <td>1.0</td>\n",
       "      <td>1.0</td>\n",
       "      <td>1.0</td>\n",
       "      <td>0.0</td>\n",
       "      <td>1.0</td>\n",
       "      <td>1.0</td>\n",
       "      <td>0.0</td>\n",
       "    </tr>\n",
       "    <tr>\n",
       "      <th>1684-FLBGS</th>\n",
       "      <td>0.158493</td>\n",
       "      <td>0</td>\n",
       "      <td>-0.287338</td>\n",
       "      <td>0.0</td>\n",
       "      <td>0.0</td>\n",
       "      <td>1.0</td>\n",
       "      <td>1.0</td>\n",
       "      <td>0.0</td>\n",
       "      <td>0.0</td>\n",
       "      <td>0.0</td>\n",
       "      <td>1.0</td>\n",
       "      <td>1.0</td>\n",
       "      <td>0.0</td>\n",
       "      <td>1.0</td>\n",
       "      <td>0.0</td>\n",
       "      <td>1.0</td>\n",
       "      <td>1.0</td>\n",
       "    </tr>\n",
       "  </tbody>\n",
       "</table>\n",
       "</div>"
      ],
      "text/plain": [
       "            MonthlyCharges SeniorCitizen       CLC  Type_One year  \\\n",
       "customerID                                                          \n",
       "2049-BAFNW       -0.951108             0 -1.266176            0.0   \n",
       "9369-XFEHK        0.525057             1  0.245115            0.0   \n",
       "2790-XUYMV        0.685223             0  1.843934            1.0   \n",
       "2664-XJZNO        1.327536             0  1.884779            0.0   \n",
       "1684-FLBGS        0.158493             0 -0.287338            0.0   \n",
       "\n",
       "            Type_Two year  PaperlessBilling_Yes  \\\n",
       "customerID                                        \n",
       "2049-BAFNW            0.0                   0.0   \n",
       "9369-XFEHK            0.0                   1.0   \n",
       "2790-XUYMV            0.0                   1.0   \n",
       "2664-XJZNO            1.0                   1.0   \n",
       "1684-FLBGS            0.0                   1.0   \n",
       "\n",
       "            PaymentMethod_Credit card (automatic)  \\\n",
       "customerID                                          \n",
       "2049-BAFNW                                    0.0   \n",
       "9369-XFEHK                                    0.0   \n",
       "2790-XUYMV                                    1.0   \n",
       "2664-XJZNO                                    1.0   \n",
       "1684-FLBGS                                    1.0   \n",
       "\n",
       "            PaymentMethod_Electronic check  PaymentMethod_Mailed check  \\\n",
       "customerID                                                               \n",
       "2049-BAFNW                             0.0                         1.0   \n",
       "9369-XFEHK                             0.0                         0.0   \n",
       "2790-XUYMV                             0.0                         0.0   \n",
       "2664-XJZNO                             0.0                         0.0   \n",
       "1684-FLBGS                             0.0                         0.0   \n",
       "\n",
       "            gender_Male  Partner_Yes  Dependents_Yes  OnlineSecurity_Yes  \\\n",
       "customerID                                                                 \n",
       "2049-BAFNW          0.0          0.0             0.0                 0.0   \n",
       "9369-XFEHK          0.0          1.0             0.0                 0.0   \n",
       "2790-XUYMV          1.0          0.0             1.0                 1.0   \n",
       "2664-XJZNO          1.0          1.0             1.0                 1.0   \n",
       "1684-FLBGS          0.0          1.0             1.0                 0.0   \n",
       "\n",
       "            OnlineBackup_Yes  DeviceProtection_Yes  TechSupport_Yes  \\\n",
       "customerID                                                            \n",
       "2049-BAFNW               0.0                   1.0              1.0   \n",
       "9369-XFEHK               1.0                   0.0              0.0   \n",
       "2790-XUYMV               1.0                   0.0              0.0   \n",
       "2664-XJZNO               0.0                   1.0              1.0   \n",
       "1684-FLBGS               1.0                   0.0              1.0   \n",
       "\n",
       "            MultipleLines_Yes  \n",
       "customerID                     \n",
       "2049-BAFNW                0.0  \n",
       "9369-XFEHK                1.0  \n",
       "2790-XUYMV                1.0  \n",
       "2664-XJZNO                0.0  \n",
       "1684-FLBGS                1.0  "
      ]
     },
     "execution_count": 47,
     "metadata": {},
     "output_type": "execute_result"
    }
   ],
   "source": [
    "\n",
    "X_test_lr[\n",
    "    encoder_ohe.get_feature_names_out()\n",
    "] = encoder_ohe.transform(X_test_lr[ohe_features])\n",
    "\n",
    "X_test_lr = X_test_lr.drop(ohe_features, axis=1)\n",
    "\n",
    "\n",
    "X_test_lr[num_features] = scaler.transform(\n",
    "    X_test_lr[num_features]\n",
    ")\n",
    "\n",
    "X_test_lr.head()"
   ]
  },
  {
   "cell_type": "code",
   "execution_count": 48,
   "metadata": {},
   "outputs": [
    {
     "data": {
      "text/plain": [
       "Index(['MonthlyCharges', 'SeniorCitizen', 'CLC', 'Type_One year',\n",
       "       'Type_Two year', 'PaperlessBilling_Yes',\n",
       "       'PaymentMethod_Credit card (automatic)',\n",
       "       'PaymentMethod_Electronic check', 'PaymentMethod_Mailed check',\n",
       "       'gender_Male', 'Partner_Yes', 'Dependents_Yes', 'OnlineSecurity_Yes',\n",
       "       'OnlineBackup_Yes', 'DeviceProtection_Yes', 'TechSupport_Yes',\n",
       "       'MultipleLines_Yes'],\n",
       "      dtype='object')"
      ]
     },
     "execution_count": 48,
     "metadata": {},
     "output_type": "execute_result"
    }
   ],
   "source": [
    "X_train_lr.columns"
   ]
  },
  {
   "attachments": {},
   "cell_type": "markdown",
   "metadata": {},
   "source": [
    "### Кодирование для деревьев"
   ]
  },
  {
   "cell_type": "code",
   "execution_count": 49,
   "metadata": {},
   "outputs": [
    {
     "data": {
      "text/plain": [
       "['Type',\n",
       " 'PaperlessBilling',\n",
       " 'PaymentMethod',\n",
       " 'gender',\n",
       " 'Partner',\n",
       " 'Dependents',\n",
       " 'InternetService',\n",
       " 'OnlineSecurity',\n",
       " 'OnlineBackup',\n",
       " 'DeviceProtection',\n",
       " 'TechSupport',\n",
       " 'StreamingTV',\n",
       " 'StreamingMovies',\n",
       " 'MultipleLines']"
      ]
     },
     "execution_count": 49,
     "metadata": {},
     "output_type": "execute_result"
    }
   ],
   "source": [
    "oe_features = X_train_rf.select_dtypes(include='object').columns.to_list()\n",
    "oe_features.remove('SeniorCitizen')\n",
    "oe_features"
   ]
  },
  {
   "cell_type": "code",
   "execution_count": 50,
   "metadata": {},
   "outputs": [],
   "source": [
    "encoder_oe = OrdinalEncoder()\n",
    "X_train_rf[oe_features] = encoder_oe.fit_transform(X_train_rf[oe_features])\n",
    "X_test_rf[oe_features]= encoder_oe.transform(X_test_rf[oe_features])"
   ]
  },
  {
   "attachments": {},
   "cell_type": "markdown",
   "metadata": {},
   "source": [
    "## Работа с моделями"
   ]
  },
  {
   "attachments": {},
   "cell_type": "markdown",
   "metadata": {},
   "source": [
    "### Логистическая регрессия"
   ]
  },
  {
   "cell_type": "code",
   "execution_count": 51,
   "metadata": {},
   "outputs": [
    {
     "name": "stdout",
     "output_type": "stream",
     "text": [
      "tuned hpyerparameters :(best parameters)  {'C': 20, 'penalty': 'l2'}\n",
      "roc_auc : 0.7501767795804568\n"
     ]
    }
   ],
   "source": [
    "grid={'C': [0.001, 0.01, 0.1, 1, 10, 15, 20], \n",
    "      \"penalty\":[\"l1\",\"l2\"]}\n",
    "logreg=LogisticRegression(solver=\"liblinear\", random_state=RANDOM_STATE)\n",
    "logreg_cv=GridSearchCV(logreg,\n",
    "                       grid,\n",
    "                       cv=5, \n",
    "                       scoring='roc_auc',\n",
    "                       n_jobs=-1)\n",
    "logreg_cv.fit(X_train_lr, y_train)\n",
    "\n",
    "print(\"tuned hpyerparameters :(best parameters) \",logreg_cv.best_params_)\n",
    "print(\"roc_auc :\",logreg_cv.best_score_)"
   ]
  },
  {
   "attachments": {},
   "cell_type": "markdown",
   "metadata": {},
   "source": [
    "### Катбуст"
   ]
  },
  {
   "cell_type": "code",
   "execution_count": 52,
   "metadata": {},
   "outputs": [
    {
     "data": {
      "text/html": [
       "<div>\n",
       "<style scoped>\n",
       "    .dataframe tbody tr th:only-of-type {\n",
       "        vertical-align: middle;\n",
       "    }\n",
       "\n",
       "    .dataframe tbody tr th {\n",
       "        vertical-align: top;\n",
       "    }\n",
       "\n",
       "    .dataframe thead th {\n",
       "        text-align: right;\n",
       "    }\n",
       "</style>\n",
       "<table border=\"1\" class=\"dataframe\">\n",
       "  <thead>\n",
       "    <tr style=\"text-align: right;\">\n",
       "      <th></th>\n",
       "      <th>Type</th>\n",
       "      <th>PaperlessBilling</th>\n",
       "      <th>PaymentMethod</th>\n",
       "      <th>MonthlyCharges</th>\n",
       "      <th>TotalCharges</th>\n",
       "      <th>gender</th>\n",
       "      <th>SeniorCitizen</th>\n",
       "      <th>Partner</th>\n",
       "      <th>Dependents</th>\n",
       "      <th>InternetService</th>\n",
       "      <th>OnlineSecurity</th>\n",
       "      <th>OnlineBackup</th>\n",
       "      <th>DeviceProtection</th>\n",
       "      <th>TechSupport</th>\n",
       "      <th>StreamingTV</th>\n",
       "      <th>StreamingMovies</th>\n",
       "      <th>MultipleLines</th>\n",
       "      <th>CLC</th>\n",
       "    </tr>\n",
       "    <tr>\n",
       "      <th>customerID</th>\n",
       "      <th></th>\n",
       "      <th></th>\n",
       "      <th></th>\n",
       "      <th></th>\n",
       "      <th></th>\n",
       "      <th></th>\n",
       "      <th></th>\n",
       "      <th></th>\n",
       "      <th></th>\n",
       "      <th></th>\n",
       "      <th></th>\n",
       "      <th></th>\n",
       "      <th></th>\n",
       "      <th></th>\n",
       "      <th></th>\n",
       "      <th></th>\n",
       "      <th></th>\n",
       "      <th></th>\n",
       "    </tr>\n",
       "  </thead>\n",
       "  <tbody>\n",
       "    <tr>\n",
       "      <th>4189-NAKJS</th>\n",
       "      <td>One year</td>\n",
       "      <td>Yes</td>\n",
       "      <td>Credit card (automatic)</td>\n",
       "      <td>51.55</td>\n",
       "      <td>1434.12</td>\n",
       "      <td>Male</td>\n",
       "      <td>0</td>\n",
       "      <td>No</td>\n",
       "      <td>No</td>\n",
       "      <td>DSL</td>\n",
       "      <td>No</td>\n",
       "      <td>No</td>\n",
       "      <td>No</td>\n",
       "      <td>No</td>\n",
       "      <td>No</td>\n",
       "      <td>No</td>\n",
       "      <td>Yes</td>\n",
       "      <td>792</td>\n",
       "    </tr>\n",
       "    <tr>\n",
       "      <th>6504-VBLFL</th>\n",
       "      <td>Two year</td>\n",
       "      <td>No</td>\n",
       "      <td>Electronic check</td>\n",
       "      <td>58.60</td>\n",
       "      <td>3351.92</td>\n",
       "      <td>Male</td>\n",
       "      <td>0</td>\n",
       "      <td>Yes</td>\n",
       "      <td>No</td>\n",
       "      <td>DSL</td>\n",
       "      <td>Yes</td>\n",
       "      <td>Yes</td>\n",
       "      <td>Yes</td>\n",
       "      <td>No</td>\n",
       "      <td>No</td>\n",
       "      <td>No</td>\n",
       "      <td>No</td>\n",
       "      <td>1676</td>\n",
       "    </tr>\n",
       "    <tr>\n",
       "      <th>9040-KZVWO</th>\n",
       "      <td>One year</td>\n",
       "      <td>No</td>\n",
       "      <td>Bank transfer (automatic)</td>\n",
       "      <td>75.50</td>\n",
       "      <td>2041.52</td>\n",
       "      <td>Male</td>\n",
       "      <td>0</td>\n",
       "      <td>No</td>\n",
       "      <td>No</td>\n",
       "      <td>Fiber optic</td>\n",
       "      <td>No</td>\n",
       "      <td>Yes</td>\n",
       "      <td>No</td>\n",
       "      <td>No</td>\n",
       "      <td>No</td>\n",
       "      <td>No</td>\n",
       "      <td>No</td>\n",
       "      <td>792</td>\n",
       "    </tr>\n",
       "    <tr>\n",
       "      <th>0771-CHWSK</th>\n",
       "      <td>Two year</td>\n",
       "      <td>Yes</td>\n",
       "      <td>Credit card (automatic)</td>\n",
       "      <td>74.60</td>\n",
       "      <td>5071.31</td>\n",
       "      <td>Male</td>\n",
       "      <td>0</td>\n",
       "      <td>No</td>\n",
       "      <td>No</td>\n",
       "      <td>DSL</td>\n",
       "      <td>Yes</td>\n",
       "      <td>Yes</td>\n",
       "      <td>Yes</td>\n",
       "      <td>No</td>\n",
       "      <td>No</td>\n",
       "      <td>Yes</td>\n",
       "      <td>Yes</td>\n",
       "      <td>2010</td>\n",
       "    </tr>\n",
       "    <tr>\n",
       "      <th>3981-QSVQI</th>\n",
       "      <td>Month-to-month</td>\n",
       "      <td>Yes</td>\n",
       "      <td>Bank transfer (automatic)</td>\n",
       "      <td>19.70</td>\n",
       "      <td>159.18</td>\n",
       "      <td>Male</td>\n",
       "      <td>0</td>\n",
       "      <td>No</td>\n",
       "      <td>No</td>\n",
       "      <td>No</td>\n",
       "      <td>No</td>\n",
       "      <td>No</td>\n",
       "      <td>No</td>\n",
       "      <td>No</td>\n",
       "      <td>No</td>\n",
       "      <td>No</td>\n",
       "      <td>No</td>\n",
       "      <td>245</td>\n",
       "    </tr>\n",
       "    <tr>\n",
       "      <th>...</th>\n",
       "      <td>...</td>\n",
       "      <td>...</td>\n",
       "      <td>...</td>\n",
       "      <td>...</td>\n",
       "      <td>...</td>\n",
       "      <td>...</td>\n",
       "      <td>...</td>\n",
       "      <td>...</td>\n",
       "      <td>...</td>\n",
       "      <td>...</td>\n",
       "      <td>...</td>\n",
       "      <td>...</td>\n",
       "      <td>...</td>\n",
       "      <td>...</td>\n",
       "      <td>...</td>\n",
       "      <td>...</td>\n",
       "      <td>...</td>\n",
       "      <td>...</td>\n",
       "    </tr>\n",
       "    <tr>\n",
       "      <th>3669-WHAFY</th>\n",
       "      <td>Two year</td>\n",
       "      <td>Yes</td>\n",
       "      <td>Credit card (automatic)</td>\n",
       "      <td>115.15</td>\n",
       "      <td>8175.65</td>\n",
       "      <td>Female</td>\n",
       "      <td>0</td>\n",
       "      <td>Yes</td>\n",
       "      <td>No</td>\n",
       "      <td>Fiber optic</td>\n",
       "      <td>Yes</td>\n",
       "      <td>Yes</td>\n",
       "      <td>Yes</td>\n",
       "      <td>Yes</td>\n",
       "      <td>Yes</td>\n",
       "      <td>Yes</td>\n",
       "      <td>Yes</td>\n",
       "      <td>2163</td>\n",
       "    </tr>\n",
       "    <tr>\n",
       "      <th>0661-KQHNK</th>\n",
       "      <td>One year</td>\n",
       "      <td>No</td>\n",
       "      <td>Credit card (automatic)</td>\n",
       "      <td>19.00</td>\n",
       "      <td>120.84</td>\n",
       "      <td>Female</td>\n",
       "      <td>0</td>\n",
       "      <td>Yes</td>\n",
       "      <td>Yes</td>\n",
       "      <td>No</td>\n",
       "      <td>No</td>\n",
       "      <td>No</td>\n",
       "      <td>No</td>\n",
       "      <td>No</td>\n",
       "      <td>No</td>\n",
       "      <td>No</td>\n",
       "      <td>No</td>\n",
       "      <td>184</td>\n",
       "    </tr>\n",
       "    <tr>\n",
       "      <th>2833-SLKDQ</th>\n",
       "      <td>Month-to-month</td>\n",
       "      <td>No</td>\n",
       "      <td>Mailed check</td>\n",
       "      <td>45.05</td>\n",
       "      <td>180.20</td>\n",
       "      <td>Male</td>\n",
       "      <td>0</td>\n",
       "      <td>No</td>\n",
       "      <td>No</td>\n",
       "      <td>DSL</td>\n",
       "      <td>No</td>\n",
       "      <td>No</td>\n",
       "      <td>No</td>\n",
       "      <td>No</td>\n",
       "      <td>No</td>\n",
       "      <td>No</td>\n",
       "      <td>No</td>\n",
       "      <td>123</td>\n",
       "    </tr>\n",
       "    <tr>\n",
       "      <th>1839-UMACK</th>\n",
       "      <td>One year</td>\n",
       "      <td>No</td>\n",
       "      <td>Electronic check</td>\n",
       "      <td>25.05</td>\n",
       "      <td>1104.71</td>\n",
       "      <td>Male</td>\n",
       "      <td>0</td>\n",
       "      <td>No</td>\n",
       "      <td>No</td>\n",
       "      <td>No</td>\n",
       "      <td>No</td>\n",
       "      <td>No</td>\n",
       "      <td>No</td>\n",
       "      <td>No</td>\n",
       "      <td>No</td>\n",
       "      <td>No</td>\n",
       "      <td>Yes</td>\n",
       "      <td>1279</td>\n",
       "    </tr>\n",
       "    <tr>\n",
       "      <th>6954-OOYZZ</th>\n",
       "      <td>Month-to-month</td>\n",
       "      <td>Yes</td>\n",
       "      <td>Bank transfer (automatic)</td>\n",
       "      <td>44.35</td>\n",
       "      <td>838.22</td>\n",
       "      <td>Male</td>\n",
       "      <td>0</td>\n",
       "      <td>Yes</td>\n",
       "      <td>No</td>\n",
       "      <td>DSL</td>\n",
       "      <td>No</td>\n",
       "      <td>No</td>\n",
       "      <td>No</td>\n",
       "      <td>No</td>\n",
       "      <td>No</td>\n",
       "      <td>No</td>\n",
       "      <td>No</td>\n",
       "      <td>549</td>\n",
       "    </tr>\n",
       "  </tbody>\n",
       "</table>\n",
       "<p>5274 rows × 18 columns</p>\n",
       "</div>"
      ],
      "text/plain": [
       "                      Type PaperlessBilling              PaymentMethod  \\\n",
       "customerID                                                               \n",
       "4189-NAKJS        One year              Yes    Credit card (automatic)   \n",
       "6504-VBLFL        Two year               No           Electronic check   \n",
       "9040-KZVWO        One year               No  Bank transfer (automatic)   \n",
       "0771-CHWSK        Two year              Yes    Credit card (automatic)   \n",
       "3981-QSVQI  Month-to-month              Yes  Bank transfer (automatic)   \n",
       "...                    ...              ...                        ...   \n",
       "3669-WHAFY        Two year              Yes    Credit card (automatic)   \n",
       "0661-KQHNK        One year               No    Credit card (automatic)   \n",
       "2833-SLKDQ  Month-to-month               No               Mailed check   \n",
       "1839-UMACK        One year               No           Electronic check   \n",
       "6954-OOYZZ  Month-to-month              Yes  Bank transfer (automatic)   \n",
       "\n",
       "            MonthlyCharges  TotalCharges  gender SeniorCitizen Partner  \\\n",
       "customerID                                                               \n",
       "4189-NAKJS           51.55       1434.12    Male             0      No   \n",
       "6504-VBLFL           58.60       3351.92    Male             0     Yes   \n",
       "9040-KZVWO           75.50       2041.52    Male             0      No   \n",
       "0771-CHWSK           74.60       5071.31    Male             0      No   \n",
       "3981-QSVQI           19.70        159.18    Male             0      No   \n",
       "...                    ...           ...     ...           ...     ...   \n",
       "3669-WHAFY          115.15       8175.65  Female             0     Yes   \n",
       "0661-KQHNK           19.00        120.84  Female             0     Yes   \n",
       "2833-SLKDQ           45.05        180.20    Male             0      No   \n",
       "1839-UMACK           25.05       1104.71    Male             0      No   \n",
       "6954-OOYZZ           44.35        838.22    Male             0     Yes   \n",
       "\n",
       "           Dependents InternetService OnlineSecurity OnlineBackup  \\\n",
       "customerID                                                          \n",
       "4189-NAKJS         No             DSL             No           No   \n",
       "6504-VBLFL         No             DSL            Yes          Yes   \n",
       "9040-KZVWO         No     Fiber optic             No          Yes   \n",
       "0771-CHWSK         No             DSL            Yes          Yes   \n",
       "3981-QSVQI         No              No             No           No   \n",
       "...               ...             ...            ...          ...   \n",
       "3669-WHAFY         No     Fiber optic            Yes          Yes   \n",
       "0661-KQHNK        Yes              No             No           No   \n",
       "2833-SLKDQ         No             DSL             No           No   \n",
       "1839-UMACK         No              No             No           No   \n",
       "6954-OOYZZ         No             DSL             No           No   \n",
       "\n",
       "           DeviceProtection TechSupport StreamingTV StreamingMovies  \\\n",
       "customerID                                                            \n",
       "4189-NAKJS               No          No          No              No   \n",
       "6504-VBLFL              Yes          No          No              No   \n",
       "9040-KZVWO               No          No          No              No   \n",
       "0771-CHWSK              Yes          No          No             Yes   \n",
       "3981-QSVQI               No          No          No              No   \n",
       "...                     ...         ...         ...             ...   \n",
       "3669-WHAFY              Yes         Yes         Yes             Yes   \n",
       "0661-KQHNK               No          No          No              No   \n",
       "2833-SLKDQ               No          No          No              No   \n",
       "1839-UMACK               No          No          No              No   \n",
       "6954-OOYZZ               No          No          No              No   \n",
       "\n",
       "           MultipleLines   CLC  \n",
       "customerID                      \n",
       "4189-NAKJS           Yes   792  \n",
       "6504-VBLFL            No  1676  \n",
       "9040-KZVWO            No   792  \n",
       "0771-CHWSK           Yes  2010  \n",
       "3981-QSVQI            No   245  \n",
       "...                  ...   ...  \n",
       "3669-WHAFY           Yes  2163  \n",
       "0661-KQHNK            No   184  \n",
       "2833-SLKDQ            No   123  \n",
       "1839-UMACK           Yes  1279  \n",
       "6954-OOYZZ            No   549  \n",
       "\n",
       "[5274 rows x 18 columns]"
      ]
     },
     "execution_count": 52,
     "metadata": {},
     "output_type": "execute_result"
    }
   ],
   "source": [
    "X_train"
   ]
  },
  {
   "cell_type": "code",
   "execution_count": 53,
   "metadata": {},
   "outputs": [],
   "source": [
    "model = CatBoostClassifier(\n",
    "    iterations=300,\n",
    "    random_seed=RANDOM_STATE,\n",
    "    cat_features=oe_features,\n",
    "    verbose = False\n",
    ")"
   ]
  },
  {
   "cell_type": "code",
   "execution_count": 54,
   "metadata": {},
   "outputs": [],
   "source": [
    "grid = {'learning_rate': [0.03, 0.1],\n",
    "        'depth': [4, 6, 10],\n",
    "        'l2_leaf_reg': [1, 3, 5, 7, 9]}"
   ]
  },
  {
   "cell_type": "code",
   "execution_count": 55,
   "metadata": {},
   "outputs": [
    {
     "name": "stdout",
     "output_type": "stream",
     "text": [
      "tuned hpyerparameters :(best parameters)  {'depth': 6, 'l2_leaf_reg': 1, 'learning_rate': 0.1}\n",
      "roc_auc : 0.8953633778364711\n"
     ]
    }
   ],
   "source": [
    "Grid_CBC = GridSearchCV(estimator=model, param_grid = grid, scoring='roc_auc', cv = 5, n_jobs=-1)\n",
    "Grid_CBC.fit(X_train, y_train)\n",
    "print(\"tuned hpyerparameters :(best parameters) \",Grid_CBC.best_params_)\n",
    "print(\"roc_auc :\",Grid_CBC.best_score_)"
   ]
  },
  {
   "attachments": {},
   "cell_type": "markdown",
   "metadata": {},
   "source": [
    "### Случайный лес"
   ]
  },
  {
   "cell_type": "code",
   "execution_count": 56,
   "metadata": {},
   "outputs": [
    {
     "name": "stdout",
     "output_type": "stream",
     "text": [
      "tuned hpyerparameters :(best parameters)  {'max_depth': 10, 'min_samples_leaf': 2, 'min_samples_split': 2, 'n_estimators': 200}\n",
      "roc_auc : 0.8310654123748324\n"
     ]
    }
   ],
   "source": [
    "param_grid = {\n",
    "    'max_depth': [10, 20],\n",
    "    'min_samples_split': [2, 4, 6],\n",
    "    'min_samples_leaf': [2, 4, 6],\n",
    "    'n_estimators': [ 100, 200], \n",
    "}\n",
    "\n",
    "model = RandomForestClassifier(random_state=RANDOM_STATE)\n",
    "\n",
    "search = GridSearchCV(model, param_grid, cv=5, scoring='roc_auc')\n",
    "search.fit(X_train_rf, y_train)\n",
    "print(\"tuned hpyerparameters :(best parameters) \",search.best_params_)\n",
    "print(\"roc_auc :\",search.best_score_)"
   ]
  },
  {
   "attachments": {},
   "cell_type": "markdown",
   "metadata": {},
   "source": [
    "### Вывод\n",
    "\n",
    "Наиулчшим образом ожидаемо показал себя градиентный бустинг, на кросс валидации roc_auc составил 0.899."
   ]
  },
  {
   "attachments": {},
   "cell_type": "markdown",
   "metadata": {},
   "source": [
    "## Тестирование и анализ лучшей модели"
   ]
  },
  {
   "cell_type": "code",
   "execution_count": 57,
   "metadata": {},
   "outputs": [
    {
     "name": "stdout",
     "output_type": "stream",
     "text": [
      "ROC-AUC score 0.9158812705815385\n"
     ]
    },
    {
     "data": {
      "image/png": "[encoded data removed]",
      "text/plain": [
       "<Figure size 792x360 with 1 Axes>"
      ]
     },
     "metadata": {
      "needs_background": "light"
     },
     "output_type": "display_data"
    }
   ],
   "source": [
    "print('ROC-AUC score', roc_auc_score(y_test, Grid_CBC.predict_proba(X_test)[:, 1]))\n",
    "    \n",
    "fpr, tpr, thresholds = roc_curve(y_test, Grid_CBC.predict_proba(X_test)[:, 1])\n",
    "\n",
    "plt.figure(figsize=(11, 5))   \n",
    "plt.plot(fpr, tpr)\n",
    "plt.plot([0, 1], [0, 1], linestyle='--')\n",
    "plt.xlim([0.0, 1.0])\n",
    "plt.ylim([0.0, 1.0])\n",
    "plt.xlabel('False Positive Rate')\n",
    "plt.ylabel('True Positive Rate')\n",
    "plt.title('ROC-кривая')\n",
    "plt.show()"
   ]
  },
  {
   "cell_type": "code",
   "execution_count": 87,
   "metadata": {},
   "outputs": [
    {
     "data": {
      "image/png": "[encoded data removed]",
      "text/plain": [
       "<Figure size 936x576 with 1 Axes>"
      ]
     },
     "metadata": {
      "needs_background": "light"
     },
     "output_type": "display_data"
    }
   ],
   "source": [
    "importances_df = pd.DataFrame(Grid_CBC.best_estimator_.get_feature_importance(), \n",
    "                              index = X_test.columns, \n",
    "                              columns=['importances'])\n",
    "importances_df = importances_df.sort_values(by='importances', ascending=False)\n",
    "importances_df.plot(kind='bar', figsize=(13, 8), title='Важность признаков');"
   ]
  },
  {
   "attachments": {},
   "cell_type": "markdown",
   "metadata": {},
   "source": [
    "**Вывод**\n",
    "\n",
    "На тесте катбуст показал ROC-AUC равным 0.9158812705815385, а самыми важными признаками оказались CLC, месячные выплаты и тип контракта"
   ]
  },
  {
   "cell_type": "code",
   "execution_count": 59,
   "metadata": {},
   "outputs": [
    {
     "data": {
      "image/png": "[encoded data removed]",
      "text/plain": [
       "<Figure size 432x288 with 2 Axes>"
      ]
     },
     "metadata": {
      "needs_background": "light"
     },
     "output_type": "display_data"
    }
   ],
   "source": [
    "predictions = Grid_CBC.predict(X_test)\n",
    "cm = confusion_matrix(y_test, predictions, labels=Grid_CBC.classes_)\n",
    "disp = ConfusionMatrixDisplay(confusion_matrix=cm,\n",
    "                              display_labels=Grid_CBC.classes_)\n",
    "disp.plot();"
   ]
  },
  {
   "attachments": {},
   "cell_type": "markdown",
   "metadata": {},
   "source": [
    "## Проверка Адекватности модели "
   ]
  },
  {
   "cell_type": "code",
   "execution_count": 60,
   "metadata": {},
   "outputs": [
    {
     "data": {
      "text/plain": [
       "0.4935549669072579"
      ]
     },
     "execution_count": 60,
     "metadata": {},
     "output_type": "execute_result"
    }
   ],
   "source": [
    "dummy_clf = DummyClassifier(strategy=\"stratified\")\n",
    "dummy_clf.fit(X_train, y_train)\n",
    "roc_auc_score(y_test, dummy_clf.predict_proba(X_test)[:, 1])"
   ]
  },
  {
   "attachments": {},
   "cell_type": "markdown",
   "metadata": {},
   "source": [
    "**Вывод**\n",
    "\n",
    "Наша модель является адекватной, потому что показывает значительно лучшие результаты чем DummyClassifier"
   ]
  },
  {
   "attachments": {},
   "cell_type": "markdown",
   "metadata": {},
   "source": [
    "## Отчет "
   ]
  },
  {
   "attachments": {},
   "cell_type": "markdown",
   "metadata": {},
   "source": [
    "**1. Какие пункты плана были выполнены, а какие — нет (поясните почему)?**\n",
    "\n",
    "Был проведен EDA, в рамках которого я изучил все таблицы, распределения признаков и типы данных.\n",
    "\n",
    "Затем я предобрабатывал данный в следующем порядке:\n",
    "- Объединил все в один DataFrame.\n",
    "- Заполнил пропуски в видах услуг, появившиеся после соединения.\n",
    "- Добавил признак CLC(customer lifecycle) путем вычитания даты начала пользования услугами из даты окончания пользования услугами.\n",
    "- Удалил данные с пропусками в TotalCharges (11 строк).\n",
    "- Создал целевой признак Churn (0-клиент, 1-ушедший).\n",
    "- Проверил корреляция признаков, т. к. она мешает обучению линейных моделей.\n",
    "\n",
    "Далее я работал с выборками и создал:\n",
    "- Тренировочная и тестовая выборки (75/25)\n",
    "- Тренировочная и тестовая выборки с удаленными признаками с высокой корреляцией(TotalCharges, StreamingMovies, StreamingTV, InternetService) c типом кодировани OHE категориальных признаков и стандартизированными числовыми признаками(75/25)\n",
    "- Тренировочная и тестовая выборки c типом кодировани OE категориальных признаков(75/25)\n",
    "\n",
    "Потом я тестировал модели на кросс валидации:\n",
    "- Логистическаяя регрессия с изменением C и penalty\n",
    "- Catboost с изменением learning_rate, depth и l2_leaf_reg\n",
    "- Случайный лес max_depth, min_samples_split, min_samples_leaf и n_estimators\n",
    "\n",
    "Наилучшим образом себя показал Catboost, целевая метрика **ROC-AUG = 0.895**.\n",
    "Проверка на тестовой выборке показала значение **ROC-AUG = 0.916**. Была изучена важность признаков и матрица ошибок.\n",
    "\n",
    "Таким образом все пункты плана были выполнены"
   ]
  },
  {
   "cell_type": "code",
   "execution_count": 111,
   "metadata": {},
   "outputs": [
    {
     "data": {
      "image/png": "[encoded data removed]",
      "text/plain": [
       "<Figure size 936x576 with 1 Axes>"
      ]
     },
     "metadata": {
      "needs_background": "light"
     },
     "output_type": "display_data"
    }
   ],
   "source": [
    "importances_df.plot(kind='bar', figsize=(13, 8), title='Важность признаков');"
   ]
  },
  {
   "cell_type": "code",
   "execution_count": 112,
   "metadata": {},
   "outputs": [
    {
     "data": {
      "image/png": "[encoded data removed]",
      "text/plain": [
       "<Figure size 432x288 with 2 Axes>"
      ]
     },
     "metadata": {
      "needs_background": "light"
     },
     "output_type": "display_data"
    }
   ],
   "source": [
    "disp.plot();"
   ]
  },
  {
   "attachments": {},
   "cell_type": "markdown",
   "metadata": {},
   "source": [
    "**2. Какие трудности возникли и как вы их преодолели?**\n",
    "\n",
    "Трудностей не возникло, планомерная работа."
   ]
  },
  {
   "attachments": {},
   "cell_type": "markdown",
   "metadata": {},
   "source": [
    "**3. Какие ключевые шаги в решении задачи выделили?**\n",
    "1. EDA\n",
    "2. Предобработка и Фичеинжениринг\n",
    "3. Создание выборок с разным типом кодирования\n",
    "4. Перебор гиперпараметров на кросс-валидации, выбор лучшей модели\n",
    "5. Анализ лучшей модели(важность признаков, матрица ошибок)\n",
    "6. Проверка адекватности модели"
   ]
  },
  {
   "attachments": {},
   "cell_type": "markdown",
   "metadata": {},
   "source": [
    "**4. Какая итоговая модель, какие у нее гиперпараметры и какое качество**\n",
    "\n",
    "**CatBoostClassifier** со следующими параметрами:\n",
    "- iterations=300\n",
    "- random_seed=250423\n",
    "- cat_features=oe_features\n",
    "- depth = 6\n",
    "- l2_leaf_reg = 1\n",
    "- learning_rate= 0.1\n",
    "\n",
    "**ROC-AUC = 0.916**"
   ]
  },
  {
   "cell_type": "code",
   "execution_count": 113,
   "metadata": {},
   "outputs": [
    {
     "data": {
      "text/plain": [
       "{'depth': 6, 'l2_leaf_reg': 1, 'learning_rate': 0.1}"
      ]
     },
     "execution_count": 113,
     "metadata": {},
     "output_type": "execute_result"
    }
   ],
   "source": [
    "Grid_CBC.best_params_"
   ]
  },
  {
   "cell_type": "code",
   "execution_count": 114,
   "metadata": {},
   "outputs": [
    {
     "data": {
      "text/plain": [
       "['Type',\n",
       " 'PaperlessBilling',\n",
       " 'PaymentMethod',\n",
       " 'gender',\n",
       " 'Partner',\n",
       " 'Dependents',\n",
       " 'InternetService',\n",
       " 'OnlineSecurity',\n",
       " 'OnlineBackup',\n",
       " 'DeviceProtection',\n",
       " 'TechSupport',\n",
       " 'StreamingTV',\n",
       " 'StreamingMovies',\n",
       " 'MultipleLines']"
      ]
     },
     "execution_count": 114,
     "metadata": {},
     "output_type": "execute_result"
    }
   ],
   "source": [
    "oe_features"
   ]
  },
  {
   "cell_type": "code",
   "execution_count": 115,
   "metadata": {},
   "outputs": [
    {
     "name": "stdout",
     "output_type": "stream",
     "text": [
      "ROC-AUC score 0.9158812705815385\n"
     ]
    },
    {
     "data": {
      "image/png": "[encoded data removed]",
      "text/plain": [
       "<Figure size 792x360 with 1 Axes>"
      ]
     },
     "metadata": {
      "needs_background": "light"
     },
     "output_type": "display_data"
    }
   ],
   "source": [
    "print('ROC-AUC score', roc_auc_score(y_test, Grid_CBC.predict_proba(X_test)[:, 1]))\n",
    "    \n",
    "fpr, tpr, thresholds = roc_curve(y_test, Grid_CBC.predict_proba(X_test)[:, 1])\n",
    "\n",
    "plt.figure(figsize=(11, 5))   \n",
    "plt.plot(fpr, tpr)\n",
    "plt.plot([0, 1], [0, 1], linestyle='--')\n",
    "plt.xlim([0.0, 1.0])\n",
    "plt.ylim([0.0, 1.0])\n",
    "plt.xlabel('False Positive Rate')\n",
    "plt.ylabel('True Positive Rate')\n",
    "plt.title('ROC-кривая')\n",
    "plt.show()"
   ]
  },
  {
   "attachments": {},
   "cell_type": "markdown",
   "metadata": {},
   "source": [
    "**5. Список признаков, используемых для обучения лучшей модели, описание их предобработки**\n"
   ]
  },
  {
   "cell_type": "code",
   "execution_count": 116,
   "metadata": {},
   "outputs": [
    {
     "data": {
      "text/plain": [
       "['Type',\n",
       " 'PaperlessBilling',\n",
       " 'PaymentMethod',\n",
       " 'MonthlyCharges',\n",
       " 'TotalCharges',\n",
       " 'gender',\n",
       " 'SeniorCitizen',\n",
       " 'Partner',\n",
       " 'Dependents',\n",
       " 'InternetService',\n",
       " 'OnlineSecurity',\n",
       " 'OnlineBackup',\n",
       " 'DeviceProtection',\n",
       " 'TechSupport',\n",
       " 'StreamingTV',\n",
       " 'StreamingMovies',\n",
       " 'MultipleLines',\n",
       " 'CLC']"
      ]
     },
     "execution_count": 116,
     "metadata": {},
     "output_type": "execute_result"
    }
   ],
   "source": [
    "list(X_train.columns)"
   ]
  },
  {
   "attachments": {},
   "cell_type": "markdown",
   "metadata": {},
   "source": [
    "Почти все эти признаки не требуют предобработки, однако есть исключения:\n",
    "- CLC. Он образован путем вычитания даты начала пользования услугами из даты окончания пользования \n",
    "- Все категориальные признаки необходимо сообщить как аргумент cat_features при тренировке катбуста"
   ]
  },
  {
   "cell_type": "code",
   "execution_count": 117,
   "metadata": {},
   "outputs": [
    {
     "data": {
      "image/png": "[encoded data removed]",
      "text/plain": [
       "<Figure size 936x576 with 1 Axes>"
      ]
     },
     "metadata": {
      "needs_background": "light"
     },
     "output_type": "display_data"
    }
   ],
   "source": [
    "importances_df.plot(kind='bar', figsize=(13, 8), title='Важность признаков');"
   ]
  }
 ],
 "metadata": {
  "ExecuteTimeLog": [
   {
    "duration": 4224,
    "start_time": "2023-05-03T14:06:16.971Z"
   },
   {
    "duration": 17232,
    "start_time": "2023-05-03T14:06:21.197Z"
   },
   {
    "duration": 1713,
    "start_time": "2023-05-03T14:06:38.432Z"
   },
   {
    "duration": 461,
    "start_time": "2023-05-03T14:06:40.148Z"
   },
   {
    "duration": 2,
    "start_time": "2023-05-03T14:06:40.611Z"
   },
   {
    "duration": 47,
    "start_time": "2023-05-03T14:06:40.615Z"
   },
   {
    "duration": 24,
    "start_time": "2023-05-03T14:06:40.664Z"
   },
   {
    "duration": 16,
    "start_time": "2023-05-03T14:06:40.689Z"
   },
   {
    "duration": 169,
    "start_time": "2023-05-03T14:06:40.707Z"
   },
   {
    "duration": 6,
    "start_time": "2023-05-03T14:06:40.879Z"
   },
   {
    "duration": 326,
    "start_time": "2023-05-03T14:06:40.887Z"
   },
   {
    "duration": 12,
    "start_time": "2023-05-03T14:06:41.217Z"
   },
   {
    "duration": 33,
    "start_time": "2023-05-03T14:06:41.232Z"
   },
   {
    "duration": 11,
    "start_time": "2023-05-03T14:06:41.267Z"
   },
   {
    "duration": 8,
    "start_time": "2023-05-03T14:06:41.280Z"
   },
   {
    "duration": 16,
    "start_time": "2023-05-03T14:06:41.289Z"
   },
   {
    "duration": 30,
    "start_time": "2023-05-03T14:06:41.307Z"
   },
   {
    "duration": 40,
    "start_time": "2023-05-03T14:06:41.343Z"
   },
   {
    "duration": 30,
    "start_time": "2023-05-03T14:06:41.385Z"
   },
   {
    "duration": 64,
    "start_time": "2023-05-03T14:06:41.420Z"
   },
   {
    "duration": 29,
    "start_time": "2023-05-03T14:06:41.487Z"
   },
   {
    "duration": 39,
    "start_time": "2023-05-03T14:06:41.517Z"
   },
   {
    "duration": 43,
    "start_time": "2023-05-03T14:06:41.559Z"
   },
   {
    "duration": 37,
    "start_time": "2023-05-03T14:06:41.603Z"
   },
   {
    "duration": 36,
    "start_time": "2023-05-03T14:06:41.644Z"
   },
   {
    "duration": 16,
    "start_time": "2023-05-03T14:06:41.681Z"
   },
   {
    "duration": 5,
    "start_time": "2023-05-03T14:06:41.699Z"
   },
   {
    "duration": 40,
    "start_time": "2023-05-03T14:06:41.709Z"
   },
   {
    "duration": 7,
    "start_time": "2023-05-03T14:06:41.751Z"
   },
   {
    "duration": 30,
    "start_time": "2023-05-03T14:06:41.760Z"
   },
   {
    "duration": 54,
    "start_time": "2023-05-03T14:06:41.792Z"
   },
   {
    "duration": 21,
    "start_time": "2023-05-03T14:06:41.850Z"
   },
   {
    "duration": 9,
    "start_time": "2023-05-03T14:06:41.873Z"
   },
   {
    "duration": 10,
    "start_time": "2023-05-03T14:06:41.883Z"
   },
   {
    "duration": 201,
    "start_time": "2023-05-03T14:06:41.895Z"
   },
   {
    "duration": 6,
    "start_time": "2023-05-03T14:06:42.098Z"
   },
   {
    "duration": 45,
    "start_time": "2023-05-03T14:06:42.105Z"
   },
   {
    "duration": 1452,
    "start_time": "2023-05-03T14:06:42.152Z"
   },
   {
    "duration": 3927,
    "start_time": "2023-05-03T14:06:43.606Z"
   },
   {
    "duration": 16,
    "start_time": "2023-05-03T14:06:47.536Z"
   },
   {
    "duration": 20,
    "start_time": "2023-05-03T14:06:47.554Z"
   },
   {
    "duration": 13,
    "start_time": "2023-05-03T14:06:47.575Z"
   },
   {
    "duration": 25,
    "start_time": "2023-05-03T14:06:47.590Z"
   },
   {
    "duration": 63,
    "start_time": "2023-05-03T14:06:47.617Z"
   },
   {
    "duration": 18,
    "start_time": "2023-05-03T14:06:47.682Z"
   },
   {
    "duration": 94,
    "start_time": "2023-05-03T14:06:47.701Z"
   },
   {
    "duration": 54,
    "start_time": "2023-05-03T14:06:47.797Z"
   },
   {
    "duration": 5,
    "start_time": "2023-05-03T14:06:47.854Z"
   },
   {
    "duration": 18,
    "start_time": "2023-05-03T14:06:47.861Z"
   },
   {
    "duration": 80,
    "start_time": "2023-05-03T14:06:47.881Z"
   },
   {
    "duration": 10572,
    "start_time": "2023-05-03T14:06:47.962Z"
   },
   {
    "duration": 32,
    "start_time": "2023-05-03T14:06:58.551Z"
   },
   {
    "duration": 3,
    "start_time": "2023-05-03T14:06:58.585Z"
   },
   {
    "duration": 26,
    "start_time": "2023-05-03T14:06:58.590Z"
   },
   {
    "duration": 806772,
    "start_time": "2023-05-03T14:06:58.618Z"
   },
   {
    "duration": 136673,
    "start_time": "2023-05-03T14:20:25.393Z"
   },
   {
    "duration": 190,
    "start_time": "2023-05-03T14:22:42.068Z"
   },
   {
    "duration": 328,
    "start_time": "2023-05-03T14:22:42.260Z"
   },
   {
    "duration": 262,
    "start_time": "2023-05-03T14:22:42.590Z"
   },
   {
    "duration": 16,
    "start_time": "2023-05-03T14:22:42.854Z"
   },
   {
    "duration": 2801,
    "start_time": "2023-05-03T14:22:42.872Z"
   },
   {
    "duration": 2777,
    "start_time": "2023-05-03T14:22:45.676Z"
   },
   {
    "duration": 6,
    "start_time": "2023-05-03T14:22:48.455Z"
   },
   {
    "duration": 140,
    "start_time": "2023-05-03T14:22:48.464Z"
   },
   {
    "duration": 3,
    "start_time": "2023-05-03T14:22:48.606Z"
   },
   {
    "duration": 58,
    "start_time": "2023-05-03T14:22:48.612Z"
   },
   {
    "duration": 35,
    "start_time": "2023-05-03T14:22:48.672Z"
   },
   {
    "duration": 53,
    "start_time": "2023-05-03T14:22:48.709Z"
   },
   {
    "duration": 287,
    "start_time": "2023-05-03T14:22:48.764Z"
   },
   {
    "duration": 8,
    "start_time": "2023-05-03T14:22:49.052Z"
   },
   {
    "duration": 347,
    "start_time": "2023-05-03T14:22:49.061Z"
   },
   {
    "duration": 14,
    "start_time": "2023-05-03T14:22:49.410Z"
   },
   {
    "duration": 49,
    "start_time": "2023-05-03T14:22:49.426Z"
   },
   {
    "duration": 23,
    "start_time": "2023-05-03T14:22:49.478Z"
   },
   {
    "duration": 65,
    "start_time": "2023-05-03T14:22:49.503Z"
   },
   {
    "duration": 64,
    "start_time": "2023-05-03T14:22:49.570Z"
   },
   {
    "duration": 52,
    "start_time": "2023-05-03T14:22:49.636Z"
   },
   {
    "duration": 15,
    "start_time": "2023-05-03T14:22:49.689Z"
   },
   {
    "duration": 50,
    "start_time": "2023-05-03T14:22:49.705Z"
   },
   {
    "duration": 35,
    "start_time": "2023-05-03T14:22:49.757Z"
   },
   {
    "duration": 58,
    "start_time": "2023-05-03T14:22:49.794Z"
   },
   {
    "duration": 27,
    "start_time": "2023-05-03T14:22:49.858Z"
   },
   {
    "duration": 38,
    "start_time": "2023-05-03T14:22:49.886Z"
   },
   {
    "duration": 46,
    "start_time": "2023-05-03T14:22:49.925Z"
   },
   {
    "duration": 42,
    "start_time": "2023-05-03T14:22:49.973Z"
   },
   {
    "duration": 55,
    "start_time": "2023-05-03T14:22:50.018Z"
   },
   {
    "duration": 0,
    "start_time": "2023-05-03T14:22:50.075Z"
   },
   {
    "duration": 0,
    "start_time": "2023-05-03T14:22:50.077Z"
   },
   {
    "duration": 0,
    "start_time": "2023-05-03T14:22:50.078Z"
   },
   {
    "duration": 0,
    "start_time": "2023-05-03T14:22:50.079Z"
   },
   {
    "duration": 0,
    "start_time": "2023-05-03T14:22:50.081Z"
   },
   {
    "duration": 0,
    "start_time": "2023-05-03T14:22:50.082Z"
   },
   {
    "duration": 0,
    "start_time": "2023-05-03T14:22:50.084Z"
   },
   {
    "duration": 0,
    "start_time": "2023-05-03T14:22:50.086Z"
   },
   {
    "duration": 0,
    "start_time": "2023-05-03T14:22:50.087Z"
   },
   {
    "duration": 0,
    "start_time": "2023-05-03T14:22:50.088Z"
   },
   {
    "duration": 0,
    "start_time": "2023-05-03T14:22:50.090Z"
   },
   {
    "duration": 0,
    "start_time": "2023-05-03T14:22:50.091Z"
   },
   {
    "duration": 0,
    "start_time": "2023-05-03T14:22:50.092Z"
   },
   {
    "duration": 0,
    "start_time": "2023-05-03T14:22:50.093Z"
   },
   {
    "duration": 0,
    "start_time": "2023-05-03T14:22:50.094Z"
   },
   {
    "duration": 0,
    "start_time": "2023-05-03T14:22:50.095Z"
   },
   {
    "duration": 0,
    "start_time": "2023-05-03T14:22:50.096Z"
   },
   {
    "duration": 0,
    "start_time": "2023-05-03T14:22:50.097Z"
   },
   {
    "duration": 0,
    "start_time": "2023-05-03T14:22:50.099Z"
   },
   {
    "duration": 0,
    "start_time": "2023-05-03T14:22:50.100Z"
   },
   {
    "duration": 0,
    "start_time": "2023-05-03T14:22:50.101Z"
   },
   {
    "duration": 0,
    "start_time": "2023-05-03T14:22:50.103Z"
   },
   {
    "duration": 0,
    "start_time": "2023-05-03T14:22:50.104Z"
   },
   {
    "duration": 0,
    "start_time": "2023-05-03T14:22:50.105Z"
   },
   {
    "duration": 0,
    "start_time": "2023-05-03T14:22:50.106Z"
   },
   {
    "duration": 0,
    "start_time": "2023-05-03T14:22:50.118Z"
   },
   {
    "duration": 0,
    "start_time": "2023-05-03T14:22:50.119Z"
   },
   {
    "duration": 0,
    "start_time": "2023-05-03T14:22:50.120Z"
   },
   {
    "duration": 0,
    "start_time": "2023-05-03T14:22:50.125Z"
   },
   {
    "duration": 0,
    "start_time": "2023-05-03T14:22:50.126Z"
   },
   {
    "duration": 0,
    "start_time": "2023-05-03T14:22:50.126Z"
   },
   {
    "duration": 0,
    "start_time": "2023-05-03T14:22:50.127Z"
   },
   {
    "duration": 0,
    "start_time": "2023-05-03T14:22:50.128Z"
   },
   {
    "duration": 0,
    "start_time": "2023-05-03T14:22:50.133Z"
   },
   {
    "duration": 0,
    "start_time": "2023-05-03T14:22:50.134Z"
   },
   {
    "duration": 104,
    "start_time": "2023-05-03T14:46:45.760Z"
   },
   {
    "duration": 419,
    "start_time": "2023-05-03T15:00:51.619Z"
   },
   {
    "duration": 318,
    "start_time": "2023-05-03T15:04:46.499Z"
   },
   {
    "duration": 229,
    "start_time": "2023-05-03T15:05:15.347Z"
   },
   {
    "duration": 319,
    "start_time": "2023-05-03T15:15:27.751Z"
   },
   {
    "duration": 178,
    "start_time": "2023-05-03T15:15:28.146Z"
   },
   {
    "duration": 6,
    "start_time": "2023-05-03T15:16:51.889Z"
   },
   {
    "duration": 14,
    "start_time": "2023-05-03T15:19:12.943Z"
   },
   {
    "duration": 8,
    "start_time": "2023-05-03T15:21:22.456Z"
   },
   {
    "duration": 265,
    "start_time": "2023-05-03T15:21:36.298Z"
   },
   {
    "duration": 7,
    "start_time": "2023-05-03T15:22:03.250Z"
   },
   {
    "duration": 5,
    "start_time": "2023-05-03T15:22:03.896Z"
   },
   {
    "duration": 205,
    "start_time": "2023-05-03T15:22:04.743Z"
   },
   {
    "duration": 171,
    "start_time": "2023-05-03T15:27:23.701Z"
   },
   {
    "duration": 12,
    "start_time": "2023-05-03T15:27:48.408Z"
   },
   {
    "duration": 5,
    "start_time": "2023-05-03T15:27:57.702Z"
   },
   {
    "duration": 6,
    "start_time": "2023-05-03T15:29:10.335Z"
   },
   {
    "duration": 7,
    "start_time": "2023-05-03T15:29:15.108Z"
   },
   {
    "duration": 6,
    "start_time": "2023-05-03T15:30:17.441Z"
   },
   {
    "duration": 5,
    "start_time": "2023-05-03T15:30:30.343Z"
   },
   {
    "duration": 6,
    "start_time": "2023-05-03T15:30:36.590Z"
   },
   {
    "duration": 5,
    "start_time": "2023-05-03T15:32:14.083Z"
   },
   {
    "duration": 5,
    "start_time": "2023-05-03T15:32:27.169Z"
   },
   {
    "duration": 5,
    "start_time": "2023-05-03T15:33:23.801Z"
   },
   {
    "duration": 5,
    "start_time": "2023-05-03T15:33:28.657Z"
   },
   {
    "duration": 318,
    "start_time": "2023-05-03T15:34:23.340Z"
   },
   {
    "duration": 330,
    "start_time": "2023-05-03T15:34:23.661Z"
   },
   {
    "duration": 8,
    "start_time": "2023-05-03T15:34:24.665Z"
   },
   {
    "duration": 6,
    "start_time": "2023-05-03T15:34:25.037Z"
   },
   {
    "duration": 170,
    "start_time": "2023-05-03T15:34:25.353Z"
   },
   {
    "duration": 5,
    "start_time": "2023-05-03T15:34:26.153Z"
   },
   {
    "duration": 355,
    "start_time": "2023-05-03T15:34:28.983Z"
   }
  ],
  "kernelspec": {
   "display_name": "Python 3 (ipykernel)",
   "language": "python",
   "name": "python3"
  },
  "language_info": {
   "codemirror_mode": {
    "name": "ipython",
    "version": 3
   },
   "file_extension": ".py",
   "mimetype": "text/x-python",
   "name": "python",
   "nbconvert_exporter": "python",
   "pygments_lexer": "ipython3",
   "version": "3.9.5"
  },
  "toc": {
   "base_numbering": 1,
   "nav_menu": {},
   "number_sections": true,
   "sideBar": true,
   "skip_h1_title": true,
   "title_cell": "Table of Contents",
   "title_sidebar": "Contents",
   "toc_cell": false,
   "toc_position": {
    "height": "calc(100% - 180px)",
    "left": "10px",
    "top": "150px",
    "width": "371px"
   },
   "toc_section_display": true,
   "toc_window_display": false
  }
 },
 "nbformat": 4,
 "nbformat_minor": 2
}
