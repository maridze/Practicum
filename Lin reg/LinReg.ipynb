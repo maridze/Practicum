{
 "cells": [
  {
   "attachments": {},
   "cell_type": "markdown",
   "metadata": {
    "toc": true
   },
   "source": [
    "<h1>Содержание<span class=\"tocSkip\"></span></h1>\n",
    "<div class=\"toc\"><ul class=\"toc-item\"><li><span><a href=\"#Загрузка-данных\" data-toc-modified-id=\"Загрузка-данных-1\"><span class=\"toc-item-num\">1&nbsp;&nbsp;</span>Загрузка данных</a></span></li><li><span><a href=\"#Умножение-матриц\" data-toc-modified-id=\"Умножение-матриц-2\"><span class=\"toc-item-num\">2&nbsp;&nbsp;</span>Умножение матриц</a></span></li><li><span><a href=\"#Алгоритм-преобразования\" data-toc-modified-id=\"Алгоритм-преобразования-3\"><span class=\"toc-item-num\">3&nbsp;&nbsp;</span>Алгоритм преобразования</a></span></li><li><span><a href=\"#Проверка-алгоритма\" data-toc-modified-id=\"Проверка-алгоритма-4\"><span class=\"toc-item-num\">4&nbsp;&nbsp;</span>Проверка алгоритма</a></span></li><li><span><a href=\"#Чек-лист-проверки\" data-toc-modified-id=\"Чек-лист-проверки-5\"><span class=\"toc-item-num\">5&nbsp;&nbsp;</span>Чек-лист проверки</a></span></li><li><span><a href=\"#Итоговый-вывод\" data-toc-modified-id=\"Итоговый-вывод-6\"><span class=\"toc-item-num\">6&nbsp;&nbsp;</span>Итоговый вывод</a></span></li></ul></div>"
   ]
  },
  {
   "attachments": {},
   "cell_type": "markdown",
   "metadata": {},
   "source": [
    "# Защита персональных данных клиентов"
   ]
  },
  {
   "attachments": {},
   "cell_type": "markdown",
   "metadata": {},
   "source": [
    "Вам нужно защитить данные клиентов страховой компании «Хоть потоп». Разработайте такой метод преобразования данных, чтобы по ним было сложно восстановить персональную информацию. Обоснуйте корректность его работы.\n",
    "\n",
    "Нужно защитить данные, чтобы при преобразовании качество моделей машинного обучения не ухудшилось. Подбирать наилучшую модель не требуется."
   ]
  },
  {
   "attachments": {},
   "cell_type": "markdown",
   "metadata": {},
   "source": [
    "## Загрузка данных"
   ]
  },
  {
   "cell_type": "code",
   "execution_count": 1,
   "metadata": {},
   "outputs": [],
   "source": [
    "import pandas as pd\n",
    "import numpy as np\n",
    "from sklearn.linear_model import LinearRegression"
   ]
  },
  {
   "cell_type": "code",
   "execution_count": 2,
   "metadata": {},
   "outputs": [
    {
     "data": {
      "text/html": [
       "<div>\n",
       "<style scoped>\n",
       "    .dataframe tbody tr th:only-of-type {\n",
       "        vertical-align: middle;\n",
       "    }\n",
       "\n",
       "    .dataframe tbody tr th {\n",
       "        vertical-align: top;\n",
       "    }\n",
       "\n",
       "    .dataframe thead th {\n",
       "        text-align: right;\n",
       "    }\n",
       "</style>\n",
       "<table border=\"1\" class=\"dataframe\">\n",
       "  <thead>\n",
       "    <tr style=\"text-align: right;\">\n",
       "      <th></th>\n",
       "      <th>Пол</th>\n",
       "      <th>Возраст</th>\n",
       "      <th>Зарплата</th>\n",
       "      <th>Члены семьи</th>\n",
       "      <th>Страховые выплаты</th>\n",
       "    </tr>\n",
       "  </thead>\n",
       "  <tbody>\n",
       "    <tr>\n",
       "      <th>0</th>\n",
       "      <td>1</td>\n",
       "      <td>41.0</td>\n",
       "      <td>49600.0</td>\n",
       "      <td>1</td>\n",
       "      <td>0</td>\n",
       "    </tr>\n",
       "    <tr>\n",
       "      <th>1</th>\n",
       "      <td>0</td>\n",
       "      <td>46.0</td>\n",
       "      <td>38000.0</td>\n",
       "      <td>1</td>\n",
       "      <td>1</td>\n",
       "    </tr>\n",
       "    <tr>\n",
       "      <th>2</th>\n",
       "      <td>0</td>\n",
       "      <td>29.0</td>\n",
       "      <td>21000.0</td>\n",
       "      <td>0</td>\n",
       "      <td>0</td>\n",
       "    </tr>\n",
       "    <tr>\n",
       "      <th>3</th>\n",
       "      <td>0</td>\n",
       "      <td>21.0</td>\n",
       "      <td>41700.0</td>\n",
       "      <td>2</td>\n",
       "      <td>0</td>\n",
       "    </tr>\n",
       "    <tr>\n",
       "      <th>4</th>\n",
       "      <td>1</td>\n",
       "      <td>28.0</td>\n",
       "      <td>26100.0</td>\n",
       "      <td>0</td>\n",
       "      <td>0</td>\n",
       "    </tr>\n",
       "  </tbody>\n",
       "</table>\n",
       "</div>"
      ],
      "text/plain": [
       "   Пол  Возраст  Зарплата  Члены семьи  Страховые выплаты\n",
       "0    1     41.0   49600.0            1                  0\n",
       "1    0     46.0   38000.0            1                  1\n",
       "2    0     29.0   21000.0            0                  0\n",
       "3    0     21.0   41700.0            2                  0\n",
       "4    1     28.0   26100.0            0                  0"
      ]
     },
     "execution_count": 2,
     "metadata": {},
     "output_type": "execute_result"
    }
   ],
   "source": [
    "data = pd.read_csv('/datasets/insurance.csv')\n",
    "data.head()"
   ]
  },
  {
   "cell_type": "code",
   "execution_count": 3,
   "metadata": {},
   "outputs": [
    {
     "name": "stdout",
     "output_type": "stream",
     "text": [
      "<class 'pandas.core.frame.DataFrame'>\n",
      "RangeIndex: 5000 entries, 0 to 4999\n",
      "Data columns (total 5 columns):\n",
      " #   Column             Non-Null Count  Dtype  \n",
      "---  ------             --------------  -----  \n",
      " 0   Пол                5000 non-null   int64  \n",
      " 1   Возраст            5000 non-null   float64\n",
      " 2   Зарплата           5000 non-null   float64\n",
      " 3   Члены семьи        5000 non-null   int64  \n",
      " 4   Страховые выплаты  5000 non-null   int64  \n",
      "dtypes: float64(2), int64(3)\n",
      "memory usage: 195.4 KB\n"
     ]
    }
   ],
   "source": [
    "data.info()"
   ]
  },
  {
   "cell_type": "code",
   "execution_count": 4,
   "metadata": {},
   "outputs": [
    {
     "data": {
      "image/png": "[encoded data removed]",
      "text/plain": [
       "<Figure size 864x720 with 6 Axes>"
      ]
     },
     "metadata": {
      "needs_background": "light"
     },
     "output_type": "display_data"
    }
   ],
   "source": [
    "data.hist(figsize=(12,10));"
   ]
  },
  {
   "attachments": {},
   "cell_type": "markdown",
   "metadata": {},
   "source": [
    "Вывод: Данные были загружены и изучены, аномалий не обнаружено."
   ]
  },
  {
   "attachments": {},
   "cell_type": "markdown",
   "metadata": {},
   "source": [
    "## Умножение матриц"
   ]
  },
  {
   "cell_type": "code",
   "execution_count": 5,
   "metadata": {},
   "outputs": [],
   "source": [
    "features = data.drop('Страховые выплаты',axis=1)\n",
    "target = data['Страховые выплаты']"
   ]
  },
  {
   "cell_type": "code",
   "execution_count": 6,
   "metadata": {},
   "outputs": [
    {
     "data": {
      "text/plain": [
       "array([[-0.55585458,  1.33647574, -0.42477795,  0.75554256],\n",
       "       [-1.91065117,  0.20726697,  0.9263718 ,  2.17256279],\n",
       "       [ 0.55700057, -0.71303263, -0.04443859,  0.68445819],\n",
       "       [ 2.18529575, -0.45575487,  0.44239795, -2.89118271]])"
      ]
     },
     "execution_count": 6,
     "metadata": {},
     "output_type": "execute_result"
    }
   ],
   "source": [
    "np.random.seed(1000)\n",
    "MATRIX = np.random.rand(4,4)\n",
    "np.linalg.inv(MATRIX)"
   ]
  },
  {
   "attachments": {},
   "cell_type": "markdown",
   "metadata": {},
   "source": [
    "Создали матрицу и проверили, является ли она обратимой."
   ]
  },
  {
   "cell_type": "code",
   "execution_count": 7,
   "metadata": {},
   "outputs": [],
   "source": [
    "def LR_result(x, y):\n",
    "    model = LinearRegression()\n",
    "    model.fit(x, y)\n",
    "    result = {'score': model.score(x, y),\n",
    "              'w': model.coef_}\n",
    "    return result"
   ]
  },
  {
   "cell_type": "code",
   "execution_count": 8,
   "metadata": {},
   "outputs": [
    {
     "data": {
      "text/plain": [
       "{'score': 0.4249455028666801,\n",
       " 'w': array([ 7.92580543e-03,  3.57083050e-02, -1.70080492e-07, -1.35676623e-02])}"
      ]
     },
     "execution_count": 8,
     "metadata": {},
     "output_type": "execute_result"
    }
   ],
   "source": [
    "LR_result(features, target)"
   ]
  },
  {
   "cell_type": "code",
   "execution_count": 9,
   "metadata": {},
   "outputs": [
    {
     "data": {
      "text/plain": [
       "{'score': 0.424945502866679,\n",
       " 'w': array([ 0.03306681, -0.03721905, -0.030333  ,  0.04027251])}"
      ]
     },
     "execution_count": 9,
     "metadata": {},
     "output_type": "execute_result"
    }
   ],
   "source": [
    "LR_result(features@MATRIX, target)"
   ]
  },
  {
   "attachments": {},
   "cell_type": "markdown",
   "metadata": {},
   "source": [
    "В этом задании вы можете записывать формулы в *Jupyter Notebook.*\n",
    "\n",
    "Чтобы записать формулу внутри текста, окружите её символами доллара \\\\$; если снаружи —  двойными символами \\\\$\\\\$. Эти формулы записываются на языке вёрстки *LaTeX.* \n",
    "\n",
    "Для примера мы записали формулы линейной регрессии. Можете их скопировать и отредактировать, чтобы решить задачу.\n",
    "\n",
    "Работать в *LaTeX* необязательно."
   ]
  },
  {
   "attachments": {},
   "cell_type": "markdown",
   "metadata": {},
   "source": [
    "Обозначения:\n",
    "\n",
    "- $X$ — матрица признаков (нулевой столбец состоит из единиц)\n",
    "\n",
    "- $y$ — вектор целевого признака\n",
    "\n",
    "- $P$ — матрица, на которую умножаются признаки\n",
    "\n",
    "- $w$ — вектор весов линейной регрессии (нулевой элемент равен сдвигу)"
   ]
  },
  {
   "attachments": {},
   "cell_type": "markdown",
   "metadata": {},
   "source": [
    "Предсказания:\n",
    "\n",
    "$$\n",
    "a = Xw\n",
    "$$\n",
    "\n",
    "Задача обучения:\n",
    "\n",
    "$$\n",
    "w = \\arg\\min_w MSE(Xw, y)\n",
    "$$\n",
    "\n",
    "Формула обучения:\n",
    "\n",
    "$$\n",
    "w = (X^T X)^{-1} X^T y\n",
    "$$"
   ]
  },
  {
   "attachments": {},
   "cell_type": "markdown",
   "metadata": {},
   "source": [
    "$$\n",
    "a_1 = XA((XA)^{T}XA)^{-1}(XA)^{T}y\n",
    "$$\n",
    "зная что, \n",
    "$$\n",
    "(AB)^T=B^T A^T\n",
    "$$\n",
    "тогда, \n",
    "$$\n",
    "a_1 = XA((XA)^{T}XA)^{-1}(XA)^{T}y = XA(A^{T}X^{T}XA)^{-1}A^{T}X^{T}y =  XAA^{-1}(A^{T}X^{T}X)^{-1}A^{T}X^{T}y\n",
    "$$\n",
    "зная что, \n",
    "$$\n",
    "A A^{-1} = A^{-1} A = E\n",
    "$$\n",
    "и\n",
    "$$\n",
    "AE = EA = A\n",
    "$$\n",
    "тогда, \n",
    "$$\n",
    "a_1 =  X(A^{T}X^{T}X)^{-1}A^{T}X^{T}y = X(X^{T}X)^{-1}(A^{T})^{-1}A^{T}X^{T}y = X(X^{T}X)^{-1}X^{T}y = Xw = a\n",
    "$$"
   ]
  },
  {
   "attachments": {},
   "cell_type": "markdown",
   "metadata": {},
   "source": [
    "## Алгоритм преобразования"
   ]
  },
  {
   "attachments": {},
   "cell_type": "markdown",
   "metadata": {},
   "source": [
    "**Алгоритм**\n",
    "\n",
    "Зная что умножение признаков на обратимую матрицу не влияет на качество линейной регрессии, создам алгоритм основывающийся на домножении признаков на эту матрицу. Он будет следующим:\n",
    "1. Рандомное заполнение матрицы A \n",
    "2. Проверка матрицы на вырожденность\n",
    "3. Домножение матрицы признаков на матрицу A \n",
    "4. Использование модели"
   ]
  },
  {
   "attachments": {},
   "cell_type": "markdown",
   "metadata": {},
   "source": [
    "**Обоснование**\n",
    "\n",
    "В пунктее 2 я уже обосновал, почему умножение признаков на обратимую матрицу не влияет на качество линейной регрессии. разберу другие пункты алгоритма. Проверка матрицы на вырожденность будет осуществляться путем нахождения определителя, т. к. по свойству у вырожденных матриц определитель равен нулю. Также размер матрицы А будет NxN, где N - количество признаков регрессии. "
   ]
  },
  {
   "attachments": {},
   "cell_type": "markdown",
   "metadata": {},
   "source": [
    "## Проверка алгоритма"
   ]
  },
  {
   "attachments": {},
   "cell_type": "markdown",
   "metadata": {},
   "source": [
    "Напишем функцию, которая создает матрицу B."
   ]
  },
  {
   "cell_type": "code",
   "execution_count": 10,
   "metadata": {},
   "outputs": [],
   "source": [
    "def matrix_creator(x):\n",
    "    np.random.seed()\n",
    "    MATRIX = np.random.rand(x.shape[1], x.shape[1])\n",
    "    det = np.linalg.det(MATRIX)\n",
    "    if det !=0:\n",
    "        return x @ MATRIX"
   ]
  },
  {
   "cell_type": "code",
   "execution_count": 11,
   "metadata": {},
   "outputs": [],
   "source": [
    "features_transform = matrix_creator(features)"
   ]
  },
  {
   "cell_type": "code",
   "execution_count": 12,
   "metadata": {},
   "outputs": [
    {
     "data": {
      "text/plain": [
       "{'score': 0.4249455028666801,\n",
       " 'w': array([ 7.92580543e-03,  3.57083050e-02, -1.70080492e-07, -1.35676623e-02])}"
      ]
     },
     "execution_count": 12,
     "metadata": {},
     "output_type": "execute_result"
    }
   ],
   "source": [
    "LR_result(features, target)"
   ]
  },
  {
   "cell_type": "code",
   "execution_count": 13,
   "metadata": {},
   "outputs": [
    {
     "data": {
      "text/plain": [
       "{'score': 0.4249455028666774,\n",
       " 'w': array([-0.01138624, -0.01190952, -0.09584846,  0.11275963])}"
      ]
     },
     "execution_count": 13,
     "metadata": {},
     "output_type": "execute_result"
    }
   ],
   "source": [
    "LR_result(features_transform, target)"
   ]
  },
  {
   "attachments": {},
   "cell_type": "markdown",
   "metadata": {},
   "source": [
    "Вывод: Данные в целости и сохранности, а качество не изменилось, значит алгоритм работает."
   ]
  },
  {
   "attachments": {},
   "cell_type": "markdown",
   "metadata": {},
   "source": [
    "## Итоговый вывод\n",
    "\n",
    "В ходе проекта было сделано:\n",
    "\n",
    "1. Загружены и изучены данные.\n",
    "2. Был дан ответ на вопрос о том, влияет ли домножении матрицы признаков на обратимую матрицу на качество линейной регресси. Ответ был обоснован путем преобразования матричных выражений.\n",
    "3. Был предложен и обоснова алгоритм преобразования данных для решения задачи.\n",
    "4. Алгоритм был успешно протестирован."
   ]
  }
 ],
 "metadata": {
  "ExecuteTimeLog": [
   {
    "duration": 327,
    "start_time": "2023-01-22T09:34:06.583Z"
   },
   {
    "duration": 92,
    "start_time": "2023-01-22T09:34:31.133Z"
   },
   {
    "duration": 11,
    "start_time": "2023-01-22T09:35:49.200Z"
   },
   {
    "duration": 728,
    "start_time": "2023-01-22T09:36:19.742Z"
   },
   {
    "duration": 558,
    "start_time": "2023-01-22T09:36:44.248Z"
   },
   {
    "duration": 4,
    "start_time": "2023-01-22T09:42:14.967Z"
   },
   {
    "duration": 7,
    "start_time": "2023-01-22T09:44:11.193Z"
   },
   {
    "duration": 12,
    "start_time": "2023-01-22T09:44:37.714Z"
   },
   {
    "duration": 625,
    "start_time": "2023-01-22T09:53:44.884Z"
   },
   {
    "duration": 10,
    "start_time": "2023-01-22T09:54:24.798Z"
   },
   {
    "duration": 146,
    "start_time": "2023-01-22T09:54:31.737Z"
   },
   {
    "duration": 56,
    "start_time": "2023-01-22T09:54:40.089Z"
   },
   {
    "duration": 4,
    "start_time": "2023-01-22T09:54:43.127Z"
   },
   {
    "duration": 4,
    "start_time": "2023-01-22T09:57:13.477Z"
   },
   {
    "duration": 5,
    "start_time": "2023-01-22T09:57:15.407Z"
   },
   {
    "duration": 4,
    "start_time": "2023-01-22T09:57:16.981Z"
   },
   {
    "duration": 9,
    "start_time": "2023-01-22T09:59:54.398Z"
   },
   {
    "duration": 4,
    "start_time": "2023-01-22T10:00:47.090Z"
   },
   {
    "duration": 5,
    "start_time": "2023-01-22T10:00:49.360Z"
   },
   {
    "duration": 5,
    "start_time": "2023-01-22T10:00:50.737Z"
   },
   {
    "duration": 5,
    "start_time": "2023-01-22T10:01:55.835Z"
   },
   {
    "duration": 2,
    "start_time": "2023-01-22T10:07:38.188Z"
   },
   {
    "duration": 15,
    "start_time": "2023-01-22T10:07:53.656Z"
   },
   {
    "duration": 3,
    "start_time": "2023-01-22T10:08:21.803Z"
   },
   {
    "duration": 14,
    "start_time": "2023-01-22T10:08:23.588Z"
   },
   {
    "duration": 3,
    "start_time": "2023-01-22T10:08:42.428Z"
   },
   {
    "duration": 10,
    "start_time": "2023-01-22T10:08:42.939Z"
   },
   {
    "duration": 8,
    "start_time": "2023-01-22T10:09:52.059Z"
   },
   {
    "duration": 3,
    "start_time": "2023-01-22T10:09:54.438Z"
   },
   {
    "duration": 12,
    "start_time": "2023-01-22T10:09:54.585Z"
   },
   {
    "duration": 9,
    "start_time": "2023-01-22T10:10:05.504Z"
   },
   {
    "duration": 41,
    "start_time": "2023-01-22T11:28:26.384Z"
   },
   {
    "duration": 3,
    "start_time": "2023-01-22T11:29:52.782Z"
   },
   {
    "duration": 8,
    "start_time": "2023-01-22T11:30:03.302Z"
   },
   {
    "duration": 54,
    "start_time": "2023-01-22T11:30:10.105Z"
   },
   {
    "duration": 3,
    "start_time": "2023-01-22T11:30:19.091Z"
   },
   {
    "duration": 5,
    "start_time": "2023-01-22T11:30:19.263Z"
   },
   {
    "duration": 2,
    "start_time": "2023-01-22T11:33:07.584Z"
   },
   {
    "duration": 11,
    "start_time": "2023-01-22T11:33:17.822Z"
   },
   {
    "duration": 15,
    "start_time": "2023-01-22T11:33:40.420Z"
   },
   {
    "duration": 3,
    "start_time": "2023-01-22T11:34:18.385Z"
   },
   {
    "duration": 14,
    "start_time": "2023-01-22T11:34:27.288Z"
   },
   {
    "duration": 3,
    "start_time": "2023-01-22T11:36:20.881Z"
   },
   {
    "duration": 13,
    "start_time": "2023-01-22T11:36:21.262Z"
   },
   {
    "duration": 10,
    "start_time": "2023-01-22T11:36:21.631Z"
   },
   {
    "duration": 5,
    "start_time": "2023-01-22T11:36:26.386Z"
   },
   {
    "duration": 12,
    "start_time": "2023-01-22T11:36:26.984Z"
   },
   {
    "duration": 3,
    "start_time": "2023-01-22T11:36:41.935Z"
   },
   {
    "duration": 4,
    "start_time": "2023-01-22T11:36:42.181Z"
   },
   {
    "duration": 13,
    "start_time": "2023-01-22T11:36:42.913Z"
   },
   {
    "duration": 3,
    "start_time": "2023-01-22T11:36:46.367Z"
   },
   {
    "duration": 10,
    "start_time": "2023-01-22T11:36:46.556Z"
   },
   {
    "duration": 3,
    "start_time": "2023-01-22T11:36:50.036Z"
   },
   {
    "duration": 9,
    "start_time": "2023-01-22T11:36:50.280Z"
   },
   {
    "duration": 3,
    "start_time": "2023-01-22T11:36:52.123Z"
   },
   {
    "duration": 9,
    "start_time": "2023-01-22T11:36:52.287Z"
   },
   {
    "duration": 4,
    "start_time": "2023-01-22T11:36:54.678Z"
   },
   {
    "duration": 9,
    "start_time": "2023-01-22T11:36:54.883Z"
   },
   {
    "duration": 4,
    "start_time": "2023-01-22T11:36:56.695Z"
   },
   {
    "duration": 12,
    "start_time": "2023-01-22T11:36:56.884Z"
   },
   {
    "duration": 4,
    "start_time": "2023-01-22T11:36:59.135Z"
   },
   {
    "duration": 10,
    "start_time": "2023-01-22T11:36:59.343Z"
   },
   {
    "duration": 47,
    "start_time": "2023-01-22T11:37:15.540Z"
   },
   {
    "duration": 9,
    "start_time": "2023-01-22T11:37:15.682Z"
   },
   {
    "duration": 12,
    "start_time": "2023-01-22T11:37:21.583Z"
   },
   {
    "duration": 9,
    "start_time": "2023-01-22T11:37:21.742Z"
   },
   {
    "duration": 3,
    "start_time": "2023-01-22T11:41:03.482Z"
   },
   {
    "duration": 9,
    "start_time": "2023-01-22T11:41:03.682Z"
   },
   {
    "duration": 10,
    "start_time": "2023-01-22T11:41:04.716Z"
   },
   {
    "duration": 12,
    "start_time": "2023-01-22T11:41:07.241Z"
   },
   {
    "duration": 973,
    "start_time": "2023-01-22T11:44:33.972Z"
   },
   {
    "duration": 34,
    "start_time": "2023-01-22T11:44:34.947Z"
   },
   {
    "duration": 10,
    "start_time": "2023-01-22T11:44:34.983Z"
   },
   {
    "duration": 771,
    "start_time": "2023-01-22T11:44:34.994Z"
   },
   {
    "duration": 4,
    "start_time": "2023-01-22T11:44:35.767Z"
   },
   {
    "duration": 16,
    "start_time": "2023-01-22T11:44:35.772Z"
   },
   {
    "duration": 51,
    "start_time": "2023-01-22T11:44:35.789Z"
   },
   {
    "duration": 104,
    "start_time": "2023-01-22T11:44:35.842Z"
   },
   {
    "duration": 193,
    "start_time": "2023-01-22T11:44:35.948Z"
   },
   {
    "duration": 4,
    "start_time": "2023-01-22T11:44:36.142Z"
   },
   {
    "duration": 92,
    "start_time": "2023-01-22T11:44:36.148Z"
   },
   {
    "duration": 118,
    "start_time": "2023-01-22T11:44:36.241Z"
   },
   {
    "duration": 186,
    "start_time": "2023-01-22T11:44:36.362Z"
   },
   {
    "duration": 1015,
    "start_time": "2023-01-22T11:51:36.434Z"
   },
   {
    "duration": 34,
    "start_time": "2023-01-22T11:51:37.451Z"
   },
   {
    "duration": 11,
    "start_time": "2023-01-22T11:51:37.486Z"
   },
   {
    "duration": 759,
    "start_time": "2023-01-22T11:51:37.498Z"
   },
   {
    "duration": 4,
    "start_time": "2023-01-22T11:51:38.259Z"
   },
   {
    "duration": 8,
    "start_time": "2023-01-22T11:51:38.264Z"
   },
   {
    "duration": 7,
    "start_time": "2023-01-22T11:51:38.273Z"
   },
   {
    "duration": 16,
    "start_time": "2023-01-22T11:51:38.338Z"
   },
   {
    "duration": 106,
    "start_time": "2023-01-22T11:51:38.438Z"
   },
   {
    "duration": 93,
    "start_time": "2023-01-22T11:51:38.546Z"
   },
   {
    "duration": 99,
    "start_time": "2023-01-22T11:51:38.640Z"
   },
   {
    "duration": 11,
    "start_time": "2023-01-22T11:51:38.741Z"
   },
   {
    "duration": 188,
    "start_time": "2023-01-22T11:51:38.756Z"
   }
  ],
  "kernelspec": {
   "display_name": "Python 3 (ipykernel)",
   "language": "python",
   "name": "python3"
  },
  "language_info": {
   "codemirror_mode": {
    "name": "ipython",
    "version": 3
   },
   "file_extension": ".py",
   "mimetype": "text/x-python",
   "name": "python",
   "nbconvert_exporter": "python",
   "pygments_lexer": "ipython3",
   "version": "3.9.5"
  },
  "toc": {
   "base_numbering": 1,
   "nav_menu": {},
   "number_sections": true,
   "sideBar": true,
   "skip_h1_title": true,
   "title_cell": "Содержание",
   "title_sidebar": "Contents",
   "toc_cell": true,
   "toc_position": {},
   "toc_section_display": true,
   "toc_window_display": true
  }
 },
 "nbformat": 4,
 "nbformat_minor": 2
}
