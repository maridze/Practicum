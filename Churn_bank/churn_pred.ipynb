{
 "cells": [
  {
   "cell_type": "markdown",
   "metadata": {
    "toc": true
   },
   "source": [
    "<h1>Содержание<span class=\"tocSkip\"></span></h1>\n",
    "<div class=\"toc\"><ul class=\"toc-item\"><li><span><a href=\"#Подготовка-данных\" data-toc-modified-id=\"Подготовка-данных-1\"><span class=\"toc-item-num\">1&nbsp;&nbsp;</span>Подготовка данных</a></span></li><li><span><a href=\"#Исследование-задачи\" data-toc-modified-id=\"Исследование-задачи-2\"><span class=\"toc-item-num\">2&nbsp;&nbsp;</span>Исследование задачи</a></span><ul class=\"toc-item\"><li><span><a href=\"#Баланс-классов\" data-toc-modified-id=\"Баланс-классов-2.1\"><span class=\"toc-item-num\">2.1&nbsp;&nbsp;</span>Баланс классов</a></span></li><li><span><a href=\"#Деление-на-выборки\" data-toc-modified-id=\"Деление-на-выборки-2.2\"><span class=\"toc-item-num\">2.2&nbsp;&nbsp;</span>Деление на выборки</a></span></li><li><span><a href=\"#Кодирование-признаков\" data-toc-modified-id=\"Кодирование-признаков-2.3\"><span class=\"toc-item-num\">2.3&nbsp;&nbsp;</span>Кодирование признаков</a></span></li><li><span><a href=\"#Масштабирование-данных\" data-toc-modified-id=\"Масштабирование-данных-2.4\"><span class=\"toc-item-num\">2.4&nbsp;&nbsp;</span>Масштабирование данных</a></span></li><li><span><a href=\"#Проверка-моделей\" data-toc-modified-id=\"Проверка-моделей-2.5\"><span class=\"toc-item-num\">2.5&nbsp;&nbsp;</span>Проверка моделей</a></span></li><li><span><a href=\"#Проверка-адекватности-модели\" data-toc-modified-id=\"Проверка-адекватности-модели-2.6\"><span class=\"toc-item-num\">2.6&nbsp;&nbsp;</span>Проверка адекватности модели</a></span></li><li><span><a href=\"#Вывод\" data-toc-modified-id=\"Вывод-2.7\"><span class=\"toc-item-num\">2.7&nbsp;&nbsp;</span>Вывод</a></span></li></ul></li><li><span><a href=\"#Борьба-с-дисбалансом\" data-toc-modified-id=\"Борьба-с-дисбалансом-3\"><span class=\"toc-item-num\">3&nbsp;&nbsp;</span>Борьба с дисбалансом</a></span><ul class=\"toc-item\"><li><span><a href=\"#Upsample\" data-toc-modified-id=\"Upsample-3.1\"><span class=\"toc-item-num\">3.1&nbsp;&nbsp;</span>Upsample</a></span></li><li><span><a href=\"#Downsample\" data-toc-modified-id=\"Downsample-3.2\"><span class=\"toc-item-num\">3.2&nbsp;&nbsp;</span>Downsample</a></span></li><li><span><a href=\"#Предсказание-на-данных-с-измененным-балансом\" data-toc-modified-id=\"Предсказание-на-данных-с-измененным-балансом-3.3\"><span class=\"toc-item-num\">3.3&nbsp;&nbsp;</span>Предсказание на данных с измененным балансом</a></span><ul class=\"toc-item\"><li><span><a href=\"#RandomForestClassifier-+-upsampled-data\" data-toc-modified-id=\"RandomForestClassifier-+-upsampled-data-3.3.1\"><span class=\"toc-item-num\">3.3.1&nbsp;&nbsp;</span>RandomForestClassifier + upsampled data</a></span></li><li><span><a href=\"#RandomForestClassifier-+-downsampled-data\" data-toc-modified-id=\"RandomForestClassifier-+-downsampled-data-3.3.2\"><span class=\"toc-item-num\">3.3.2&nbsp;&nbsp;</span>RandomForestClassifier + downsampled data</a></span></li><li><span><a href=\"#LogisticRegression-+-upsampled-data\" data-toc-modified-id=\"LogisticRegression-+-upsampled-data-3.3.3\"><span class=\"toc-item-num\">3.3.3&nbsp;&nbsp;</span>LogisticRegression + upsampled data</a></span></li><li><span><a href=\"#LogisticRegression-+-downsampled-data\" data-toc-modified-id=\"LogisticRegression-+-downsampled-data-3.3.4\"><span class=\"toc-item-num\">3.3.4&nbsp;&nbsp;</span>LogisticRegression + downsampled data</a></span></li><li><span><a href=\"#LogisticRegression-balanced\" data-toc-modified-id=\"LogisticRegression-balanced-3.3.5\"><span class=\"toc-item-num\">3.3.5&nbsp;&nbsp;</span>LogisticRegression balanced</a></span></li><li><span><a href=\"#RandomForestClassifier-balanced\" data-toc-modified-id=\"RandomForestClassifier-balanced-3.3.6\"><span class=\"toc-item-num\">3.3.6&nbsp;&nbsp;</span>RandomForestClassifier balanced</a></span></li><li><span><a href=\"#Улучшение-RandomForestClassifier\" data-toc-modified-id=\"Улучшение-RandomForestClassifier-3.3.7\"><span class=\"toc-item-num\">3.3.7&nbsp;&nbsp;</span>Улучшение RandomForestClassifier</a></span><ul class=\"toc-item\"><li><span><a href=\"#RandomForestClassifier-+-Upsample\" data-toc-modified-id=\"RandomForestClassifier-+-Upsample-3.3.7.1\"><span class=\"toc-item-num\">3.3.7.1&nbsp;&nbsp;</span>RandomForestClassifier + Upsample</a></span></li><li><span><a href=\"#RandomForestClassifier-+-class_weight\" data-toc-modified-id=\"RandomForestClassifier-+-class_weight-3.3.7.2\"><span class=\"toc-item-num\">3.3.7.2&nbsp;&nbsp;</span>RandomForestClassifier + class_weight</a></span></li></ul></li></ul></li><li><span><a href=\"#Вывод\" data-toc-modified-id=\"Вывод-3.4\"><span class=\"toc-item-num\">3.4&nbsp;&nbsp;</span>Вывод</a></span></li></ul></li><li><span><a href=\"#Тестирование-модели\" data-toc-modified-id=\"Тестирование-модели-4\"><span class=\"toc-item-num\">4&nbsp;&nbsp;</span>Тестирование модели</a></span></li><li><span><a href=\"#Чек-лист-готовности-проекта\" data-toc-modified-id=\"Чек-лист-готовности-проекта-5\"><span class=\"toc-item-num\">5&nbsp;&nbsp;</span>Чек-лист готовности проекта</a></span></li></ul></div>"
   ]
  },
  {
   "cell_type": "markdown",
   "metadata": {},
   "source": [
    "# Отток клиентов"
   ]
  },
  {
   "cell_type": "markdown",
   "metadata": {},
   "source": [
    "Из «Бета-Банка» стали уходить клиенты. Каждый месяц. Немного, но заметно. Банковские маркетологи посчитали: сохранять текущих клиентов дешевле, чем привлекать новых.\n",
    "\n",
    "Нужно спрогнозировать, уйдёт клиент из банка в ближайшее время или нет. Вам предоставлены исторические данные о поведении клиентов и расторжении договоров с банком. \n",
    "\n",
    "Постройте модель с предельно большим значением *F1*-меры. Чтобы сдать проект успешно, нужно довести метрику до 0.59. Проверьте *F1*-меру на тестовой выборке самостоятельно.\n",
    "\n",
    "Дополнительно измеряйте *AUC-ROC*, сравнивайте её значение с *F1*-мерой.\n",
    "\n",
    "Источник данных: [https://www.kaggle.com/barelydedicated/bank-customer-churn-modeling](https://www.kaggle.com/barelydedicated/bank-customer-churn-modeling)"
   ]
  },
  {
   "cell_type": "markdown",
   "metadata": {},
   "source": [
    "## Подготовка данных"
   ]
  },
  {
   "cell_type": "code",
   "execution_count": 1,
   "metadata": {},
   "outputs": [],
   "source": [
    "import pandas as pd\n",
    "from sklearn.model_selection import train_test_split\n",
    "from sklearn.preprocessing import StandardScaler\n",
    "from sklearn.preprocessing import OrdinalEncoder\n",
    "from sklearn.preprocessing import OneHotEncoder\n",
    "from sklearn.ensemble import RandomForestClassifier\n",
    "from sklearn.model_selection import GridSearchCV\n",
    "from sklearn.linear_model import LogisticRegression\n",
    "from sklearn.dummy import DummyClassifier\n",
    "from sklearn.metrics import accuracy_score\n",
    "from sklearn.metrics import confusion_matrix\n",
    "from sklearn.metrics import recall_score\n",
    "from sklearn.utils import shuffle\n",
    "from sklearn.metrics import precision_score\n",
    "from sklearn.metrics import f1_score\n",
    "from sklearn.metrics import roc_auc_score\n",
    "from sklearn.metrics import roc_curve\n",
    "import matplotlib.pyplot as plt\n",
    "import warnings\n",
    "warnings.filterwarnings(\"ignore\")"
   ]
  },
  {
   "cell_type": "code",
   "execution_count": 2,
   "metadata": {},
   "outputs": [
    {
     "data": {
      "text/html": [
       "<div>\n",
       "<style scoped>\n",
       "    .dataframe tbody tr th:only-of-type {\n",
       "        vertical-align: middle;\n",
       "    }\n",
       "\n",
       "    .dataframe tbody tr th {\n",
       "        vertical-align: top;\n",
       "    }\n",
       "\n",
       "    .dataframe thead th {\n",
       "        text-align: right;\n",
       "    }\n",
       "</style>\n",
       "<table border=\"1\" class=\"dataframe\">\n",
       "  <thead>\n",
       "    <tr style=\"text-align: right;\">\n",
       "      <th></th>\n",
       "      <th>RowNumber</th>\n",
       "      <th>CustomerId</th>\n",
       "      <th>Surname</th>\n",
       "      <th>CreditScore</th>\n",
       "      <th>Geography</th>\n",
       "      <th>Gender</th>\n",
       "      <th>Age</th>\n",
       "      <th>Tenure</th>\n",
       "      <th>Balance</th>\n",
       "      <th>NumOfProducts</th>\n",
       "      <th>HasCrCard</th>\n",
       "      <th>IsActiveMember</th>\n",
       "      <th>EstimatedSalary</th>\n",
       "      <th>Exited</th>\n",
       "    </tr>\n",
       "  </thead>\n",
       "  <tbody>\n",
       "    <tr>\n",
       "      <th>0</th>\n",
       "      <td>1</td>\n",
       "      <td>15634602</td>\n",
       "      <td>Hargrave</td>\n",
       "      <td>619</td>\n",
       "      <td>France</td>\n",
       "      <td>Female</td>\n",
       "      <td>42</td>\n",
       "      <td>2.0</td>\n",
       "      <td>0.00</td>\n",
       "      <td>1</td>\n",
       "      <td>1</td>\n",
       "      <td>1</td>\n",
       "      <td>101348.88</td>\n",
       "      <td>1</td>\n",
       "    </tr>\n",
       "    <tr>\n",
       "      <th>1</th>\n",
       "      <td>2</td>\n",
       "      <td>15647311</td>\n",
       "      <td>Hill</td>\n",
       "      <td>608</td>\n",
       "      <td>Spain</td>\n",
       "      <td>Female</td>\n",
       "      <td>41</td>\n",
       "      <td>1.0</td>\n",
       "      <td>83807.86</td>\n",
       "      <td>1</td>\n",
       "      <td>0</td>\n",
       "      <td>1</td>\n",
       "      <td>112542.58</td>\n",
       "      <td>0</td>\n",
       "    </tr>\n",
       "    <tr>\n",
       "      <th>2</th>\n",
       "      <td>3</td>\n",
       "      <td>15619304</td>\n",
       "      <td>Onio</td>\n",
       "      <td>502</td>\n",
       "      <td>France</td>\n",
       "      <td>Female</td>\n",
       "      <td>42</td>\n",
       "      <td>8.0</td>\n",
       "      <td>159660.80</td>\n",
       "      <td>3</td>\n",
       "      <td>1</td>\n",
       "      <td>0</td>\n",
       "      <td>113931.57</td>\n",
       "      <td>1</td>\n",
       "    </tr>\n",
       "    <tr>\n",
       "      <th>3</th>\n",
       "      <td>4</td>\n",
       "      <td>15701354</td>\n",
       "      <td>Boni</td>\n",
       "      <td>699</td>\n",
       "      <td>France</td>\n",
       "      <td>Female</td>\n",
       "      <td>39</td>\n",
       "      <td>1.0</td>\n",
       "      <td>0.00</td>\n",
       "      <td>2</td>\n",
       "      <td>0</td>\n",
       "      <td>0</td>\n",
       "      <td>93826.63</td>\n",
       "      <td>0</td>\n",
       "    </tr>\n",
       "    <tr>\n",
       "      <th>4</th>\n",
       "      <td>5</td>\n",
       "      <td>15737888</td>\n",
       "      <td>Mitchell</td>\n",
       "      <td>850</td>\n",
       "      <td>Spain</td>\n",
       "      <td>Female</td>\n",
       "      <td>43</td>\n",
       "      <td>2.0</td>\n",
       "      <td>125510.82</td>\n",
       "      <td>1</td>\n",
       "      <td>1</td>\n",
       "      <td>1</td>\n",
       "      <td>79084.10</td>\n",
       "      <td>0</td>\n",
       "    </tr>\n",
       "  </tbody>\n",
       "</table>\n",
       "</div>"
      ],
      "text/plain": [
       "   RowNumber  CustomerId   Surname  CreditScore Geography  Gender  Age  \\\n",
       "0          1    15634602  Hargrave          619    France  Female   42   \n",
       "1          2    15647311      Hill          608     Spain  Female   41   \n",
       "2          3    15619304      Onio          502    France  Female   42   \n",
       "3          4    15701354      Boni          699    France  Female   39   \n",
       "4          5    15737888  Mitchell          850     Spain  Female   43   \n",
       "\n",
       "   Tenure    Balance  NumOfProducts  HasCrCard  IsActiveMember  \\\n",
       "0     2.0       0.00              1          1               1   \n",
       "1     1.0   83807.86              1          0               1   \n",
       "2     8.0  159660.80              3          1               0   \n",
       "3     1.0       0.00              2          0               0   \n",
       "4     2.0  125510.82              1          1               1   \n",
       "\n",
       "   EstimatedSalary  Exited  \n",
       "0        101348.88       1  \n",
       "1        112542.58       0  \n",
       "2        113931.57       1  \n",
       "3         93826.63       0  \n",
       "4         79084.10       0  "
      ]
     },
     "execution_count": 2,
     "metadata": {},
     "output_type": "execute_result"
    }
   ],
   "source": [
    "data = pd.read_csv('/datasets/Churn.csv')\n",
    "data.head()"
   ]
  },
  {
   "cell_type": "code",
   "execution_count": 3,
   "metadata": {},
   "outputs": [
    {
     "name": "stdout",
     "output_type": "stream",
     "text": [
      "<class 'pandas.core.frame.DataFrame'>\n",
      "RangeIndex: 10000 entries, 0 to 9999\n",
      "Data columns (total 14 columns):\n",
      " #   Column           Non-Null Count  Dtype  \n",
      "---  ------           --------------  -----  \n",
      " 0   RowNumber        10000 non-null  int64  \n",
      " 1   CustomerId       10000 non-null  int64  \n",
      " 2   Surname          10000 non-null  object \n",
      " 3   CreditScore      10000 non-null  int64  \n",
      " 4   Geography        10000 non-null  object \n",
      " 5   Gender           10000 non-null  object \n",
      " 6   Age              10000 non-null  int64  \n",
      " 7   Tenure           9091 non-null   float64\n",
      " 8   Balance          10000 non-null  float64\n",
      " 9   NumOfProducts    10000 non-null  int64  \n",
      " 10  HasCrCard        10000 non-null  int64  \n",
      " 11  IsActiveMember   10000 non-null  int64  \n",
      " 12  EstimatedSalary  10000 non-null  float64\n",
      " 13  Exited           10000 non-null  int64  \n",
      "dtypes: float64(3), int64(8), object(3)\n",
      "memory usage: 1.1+ MB\n"
     ]
    }
   ],
   "source": [
    "data.info()"
   ]
  },
  {
   "cell_type": "code",
   "execution_count": 4,
   "metadata": {},
   "outputs": [
    {
     "data": {
      "text/html": [
       "<div>\n",
       "<style scoped>\n",
       "    .dataframe tbody tr th:only-of-type {\n",
       "        vertical-align: middle;\n",
       "    }\n",
       "\n",
       "    .dataframe tbody tr th {\n",
       "        vertical-align: top;\n",
       "    }\n",
       "\n",
       "    .dataframe thead th {\n",
       "        text-align: right;\n",
       "    }\n",
       "</style>\n",
       "<table border=\"1\" class=\"dataframe\">\n",
       "  <thead>\n",
       "    <tr style=\"text-align: right;\">\n",
       "      <th></th>\n",
       "      <th>RowNumber</th>\n",
       "      <th>CustomerId</th>\n",
       "      <th>CreditScore</th>\n",
       "      <th>Age</th>\n",
       "      <th>Tenure</th>\n",
       "      <th>Balance</th>\n",
       "      <th>NumOfProducts</th>\n",
       "      <th>HasCrCard</th>\n",
       "      <th>IsActiveMember</th>\n",
       "      <th>EstimatedSalary</th>\n",
       "      <th>Exited</th>\n",
       "    </tr>\n",
       "  </thead>\n",
       "  <tbody>\n",
       "    <tr>\n",
       "      <th>count</th>\n",
       "      <td>10000.00000</td>\n",
       "      <td>1.000000e+04</td>\n",
       "      <td>10000.000000</td>\n",
       "      <td>10000.000000</td>\n",
       "      <td>9091.000000</td>\n",
       "      <td>10000.000000</td>\n",
       "      <td>10000.000000</td>\n",
       "      <td>10000.00000</td>\n",
       "      <td>10000.000000</td>\n",
       "      <td>10000.000000</td>\n",
       "      <td>10000.000000</td>\n",
       "    </tr>\n",
       "    <tr>\n",
       "      <th>mean</th>\n",
       "      <td>5000.50000</td>\n",
       "      <td>1.569094e+07</td>\n",
       "      <td>650.528800</td>\n",
       "      <td>38.921800</td>\n",
       "      <td>4.997690</td>\n",
       "      <td>76485.889288</td>\n",
       "      <td>1.530200</td>\n",
       "      <td>0.70550</td>\n",
       "      <td>0.515100</td>\n",
       "      <td>100090.239881</td>\n",
       "      <td>0.203700</td>\n",
       "    </tr>\n",
       "    <tr>\n",
       "      <th>std</th>\n",
       "      <td>2886.89568</td>\n",
       "      <td>7.193619e+04</td>\n",
       "      <td>96.653299</td>\n",
       "      <td>10.487806</td>\n",
       "      <td>2.894723</td>\n",
       "      <td>62397.405202</td>\n",
       "      <td>0.581654</td>\n",
       "      <td>0.45584</td>\n",
       "      <td>0.499797</td>\n",
       "      <td>57510.492818</td>\n",
       "      <td>0.402769</td>\n",
       "    </tr>\n",
       "    <tr>\n",
       "      <th>min</th>\n",
       "      <td>1.00000</td>\n",
       "      <td>1.556570e+07</td>\n",
       "      <td>350.000000</td>\n",
       "      <td>18.000000</td>\n",
       "      <td>0.000000</td>\n",
       "      <td>0.000000</td>\n",
       "      <td>1.000000</td>\n",
       "      <td>0.00000</td>\n",
       "      <td>0.000000</td>\n",
       "      <td>11.580000</td>\n",
       "      <td>0.000000</td>\n",
       "    </tr>\n",
       "    <tr>\n",
       "      <th>25%</th>\n",
       "      <td>2500.75000</td>\n",
       "      <td>1.562853e+07</td>\n",
       "      <td>584.000000</td>\n",
       "      <td>32.000000</td>\n",
       "      <td>2.000000</td>\n",
       "      <td>0.000000</td>\n",
       "      <td>1.000000</td>\n",
       "      <td>0.00000</td>\n",
       "      <td>0.000000</td>\n",
       "      <td>51002.110000</td>\n",
       "      <td>0.000000</td>\n",
       "    </tr>\n",
       "    <tr>\n",
       "      <th>50%</th>\n",
       "      <td>5000.50000</td>\n",
       "      <td>1.569074e+07</td>\n",
       "      <td>652.000000</td>\n",
       "      <td>37.000000</td>\n",
       "      <td>5.000000</td>\n",
       "      <td>97198.540000</td>\n",
       "      <td>1.000000</td>\n",
       "      <td>1.00000</td>\n",
       "      <td>1.000000</td>\n",
       "      <td>100193.915000</td>\n",
       "      <td>0.000000</td>\n",
       "    </tr>\n",
       "    <tr>\n",
       "      <th>75%</th>\n",
       "      <td>7500.25000</td>\n",
       "      <td>1.575323e+07</td>\n",
       "      <td>718.000000</td>\n",
       "      <td>44.000000</td>\n",
       "      <td>7.000000</td>\n",
       "      <td>127644.240000</td>\n",
       "      <td>2.000000</td>\n",
       "      <td>1.00000</td>\n",
       "      <td>1.000000</td>\n",
       "      <td>149388.247500</td>\n",
       "      <td>0.000000</td>\n",
       "    </tr>\n",
       "    <tr>\n",
       "      <th>max</th>\n",
       "      <td>10000.00000</td>\n",
       "      <td>1.581569e+07</td>\n",
       "      <td>850.000000</td>\n",
       "      <td>92.000000</td>\n",
       "      <td>10.000000</td>\n",
       "      <td>250898.090000</td>\n",
       "      <td>4.000000</td>\n",
       "      <td>1.00000</td>\n",
       "      <td>1.000000</td>\n",
       "      <td>199992.480000</td>\n",
       "      <td>1.000000</td>\n",
       "    </tr>\n",
       "  </tbody>\n",
       "</table>\n",
       "</div>"
      ],
      "text/plain": [
       "         RowNumber    CustomerId   CreditScore           Age       Tenure  \\\n",
       "count  10000.00000  1.000000e+04  10000.000000  10000.000000  9091.000000   \n",
       "mean    5000.50000  1.569094e+07    650.528800     38.921800     4.997690   \n",
       "std     2886.89568  7.193619e+04     96.653299     10.487806     2.894723   \n",
       "min        1.00000  1.556570e+07    350.000000     18.000000     0.000000   \n",
       "25%     2500.75000  1.562853e+07    584.000000     32.000000     2.000000   \n",
       "50%     5000.50000  1.569074e+07    652.000000     37.000000     5.000000   \n",
       "75%     7500.25000  1.575323e+07    718.000000     44.000000     7.000000   \n",
       "max    10000.00000  1.581569e+07    850.000000     92.000000    10.000000   \n",
       "\n",
       "             Balance  NumOfProducts    HasCrCard  IsActiveMember  \\\n",
       "count   10000.000000   10000.000000  10000.00000    10000.000000   \n",
       "mean    76485.889288       1.530200      0.70550        0.515100   \n",
       "std     62397.405202       0.581654      0.45584        0.499797   \n",
       "min         0.000000       1.000000      0.00000        0.000000   \n",
       "25%         0.000000       1.000000      0.00000        0.000000   \n",
       "50%     97198.540000       1.000000      1.00000        1.000000   \n",
       "75%    127644.240000       2.000000      1.00000        1.000000   \n",
       "max    250898.090000       4.000000      1.00000        1.000000   \n",
       "\n",
       "       EstimatedSalary        Exited  \n",
       "count     10000.000000  10000.000000  \n",
       "mean     100090.239881      0.203700  \n",
       "std       57510.492818      0.402769  \n",
       "min          11.580000      0.000000  \n",
       "25%       51002.110000      0.000000  \n",
       "50%      100193.915000      0.000000  \n",
       "75%      149388.247500      0.000000  \n",
       "max      199992.480000      1.000000  "
      ]
     },
     "execution_count": 4,
     "metadata": {},
     "output_type": "execute_result"
    }
   ],
   "source": [
    "data.describe()"
   ]
  },
  {
   "cell_type": "markdown",
   "metadata": {},
   "source": [
    "**Признаки:**\n",
    "* RowNumber — индекс строки в данных\n",
    "* CustomerId — уникальный идентификатор клиента\n",
    "* Surname — фамилия\n",
    "* CreditScore — кредитный рейтинг\n",
    "* Geography — страна проживания\n",
    "* Gender — пол\n",
    "* Age — возраст\n",
    "* Tenure — сколько лет человек является клиентом банка\n",
    "* Balance — баланс на счёте\n",
    "* NumOfProducts — количество продуктов банка, используемых клиентом\n",
    "* HasCrCard — наличие кредитной карты\n",
    "* IsActiveMember — активность клиента\n",
    "* EstimatedSalary — предполагаемая зарплата\n",
    "\n",
    "**Целевой признак:**\n",
    "* Exited — факт ухода клиента\n",
    "\n",
    "Для прогноза нам не нужны RowNumber, CustomerId, Surname, поэтому удалю их."
   ]
  },
  {
   "cell_type": "code",
   "execution_count": 5,
   "metadata": {},
   "outputs": [],
   "source": [
    "data.drop([\"RowNumber\", \"CustomerId\", \"Surname\"], axis=1, inplace=True)"
   ]
  },
  {
   "cell_type": "code",
   "execution_count": 6,
   "metadata": {},
   "outputs": [
    {
     "data": {
      "image/png": "[encoded data removed]",
      "text/plain": [
       "<Figure size 1080x864 with 9 Axes>"
      ]
     },
     "metadata": {
      "needs_background": "light"
     },
     "output_type": "display_data"
    }
   ],
   "source": [
    "data.hist(figsize=(15,12));"
   ]
  },
  {
   "cell_type": "code",
   "execution_count": 7,
   "metadata": {},
   "outputs": [
    {
     "data": {
      "text/plain": [
       "0"
      ]
     },
     "execution_count": 7,
     "metadata": {},
     "output_type": "execute_result"
    }
   ],
   "source": [
    "data.duplicated().sum()"
   ]
  },
  {
   "cell_type": "code",
   "execution_count": 8,
   "metadata": {},
   "outputs": [
    {
     "data": {
      "text/plain": [
       "array(['France', 'Spain', 'Germany'], dtype=object)"
      ]
     },
     "execution_count": 8,
     "metadata": {},
     "output_type": "execute_result"
    }
   ],
   "source": [
    "data['Geography'].unique()"
   ]
  },
  {
   "cell_type": "code",
   "execution_count": 9,
   "metadata": {},
   "outputs": [
    {
     "data": {
      "text/plain": [
       "array(['Female', 'Male'], dtype=object)"
      ]
     },
     "execution_count": 9,
     "metadata": {},
     "output_type": "execute_result"
    }
   ],
   "source": [
    "data['Gender'].unique()"
   ]
  },
  {
   "cell_type": "code",
   "execution_count": 10,
   "metadata": {},
   "outputs": [],
   "source": [
    "data = data.fillna(0) "
   ]
  },
  {
   "cell_type": "markdown",
   "metadata": {},
   "source": [
    "**Вывод:** \n",
    "* Нет явных дубликатов\n",
    "* Были удалены не нужные для предсказания столбцы\n",
    "* Пол и Страна являются категориальными признаками, их нужно будет закодировать\n",
    "* Возможно пропуски связаны с ошибкой выгрузки. Так как объем пропусков ~10%, заполним их минимальным значением."
   ]
  },
  {
   "cell_type": "markdown",
   "metadata": {},
   "source": [
    "## Исследование задачи"
   ]
  },
  {
   "cell_type": "markdown",
   "metadata": {},
   "source": [
    "### Баланс классов"
   ]
  },
  {
   "cell_type": "code",
   "execution_count": 11,
   "metadata": {},
   "outputs": [
    {
     "name": "stdout",
     "output_type": "stream",
     "text": [
      "Баланс классов: [0.7963, 0.2037]\n"
     ]
    }
   ],
   "source": [
    "print(\"Баланс классов:\", list(data['Exited'].value_counts(normalize=True)))"
   ]
  },
  {
   "cell_type": "markdown",
   "metadata": {},
   "source": [
    "### Деление на выборки"
   ]
  },
  {
   "cell_type": "code",
   "execution_count": 12,
   "metadata": {},
   "outputs": [],
   "source": [
    "def split_data(features, target):\n",
    "    X_train, X_rem, y_train, y_rem = train_test_split(features, target, train_size=0.6, random_state=2421)\n",
    "    X_valid, X_test, y_valid, y_test = train_test_split(X_rem,y_rem, test_size=0.5, random_state=2421)\n",
    "    return (X_train, X_valid, X_test,\n",
    "            y_train, y_valid, y_test)"
   ]
  },
  {
   "cell_type": "code",
   "execution_count": 13,
   "metadata": {},
   "outputs": [],
   "source": [
    "(features_OHE_train, features_OHE_valid, features_OHE_test,\n",
    " target_OHE_train, target_OHE_valid, target_OHE_test) = split_data(data.drop([\"Exited\"], axis = 1),\n",
    "                              data[\"Exited\"])"
   ]
  },
  {
   "cell_type": "code",
   "execution_count": 14,
   "metadata": {},
   "outputs": [],
   "source": [
    "(features_OE_train, features_OE_valid, features_OE_test,\n",
    " target_OE_train, target_OE_valid, target_OE_test) = split_data(data.drop([\"Exited\"], axis = 1),\n",
    "                              data[\"Exited\"])"
   ]
  },
  {
   "cell_type": "code",
   "execution_count": 15,
   "metadata": {},
   "outputs": [
    {
     "data": {
      "text/plain": [
       "((6000, 10), (2000, 10), (2000, 10))"
      ]
     },
     "execution_count": 15,
     "metadata": {},
     "output_type": "execute_result"
    }
   ],
   "source": [
    "features_OHE_train.shape, features_OHE_valid.shape, features_OHE_test.shape"
   ]
  },
  {
   "cell_type": "markdown",
   "metadata": {},
   "source": [
    "### Кодирование признаков"
   ]
  },
  {
   "cell_type": "markdown",
   "metadata": {},
   "source": [
    "OHE будем использовать для работы с регрессией, OE для работы с random forest."
   ]
  },
  {
   "cell_type": "code",
   "execution_count": 16,
   "metadata": {},
   "outputs": [],
   "source": [
    "encoder = OrdinalEncoder()\n",
    "encoder.fit(features_OE_train[[\"Gender\",'Geography']])\n",
    "\n",
    "features_OE_train[[\"Gender\",'Geography']] = encoder.transform(features_OE_train[[\"Gender\",'Geography']])\n",
    "features_OE_valid[[\"Gender\",'Geography']] = encoder.transform(features_OE_valid[[\"Gender\",'Geography']])\n",
    "features_OE_test[[\"Gender\",'Geography']] = encoder.transform(features_OE_test[[\"Gender\",'Geography']])\n"
   ]
  },
  {
   "cell_type": "code",
   "execution_count": 17,
   "metadata": {},
   "outputs": [
    {
     "data": {
      "text/html": [
       "<div>\n",
       "<style scoped>\n",
       "    .dataframe tbody tr th:only-of-type {\n",
       "        vertical-align: middle;\n",
       "    }\n",
       "\n",
       "    .dataframe tbody tr th {\n",
       "        vertical-align: top;\n",
       "    }\n",
       "\n",
       "    .dataframe thead th {\n",
       "        text-align: right;\n",
       "    }\n",
       "</style>\n",
       "<table border=\"1\" class=\"dataframe\">\n",
       "  <thead>\n",
       "    <tr style=\"text-align: right;\">\n",
       "      <th></th>\n",
       "      <th>CreditScore</th>\n",
       "      <th>Geography</th>\n",
       "      <th>Gender</th>\n",
       "      <th>Age</th>\n",
       "      <th>Tenure</th>\n",
       "      <th>Balance</th>\n",
       "      <th>NumOfProducts</th>\n",
       "      <th>HasCrCard</th>\n",
       "      <th>IsActiveMember</th>\n",
       "      <th>EstimatedSalary</th>\n",
       "    </tr>\n",
       "  </thead>\n",
       "  <tbody>\n",
       "    <tr>\n",
       "      <th>485</th>\n",
       "      <td>730</td>\n",
       "      <td>0.0</td>\n",
       "      <td>0.0</td>\n",
       "      <td>35</td>\n",
       "      <td>0.0</td>\n",
       "      <td>155470.55</td>\n",
       "      <td>1</td>\n",
       "      <td>1</td>\n",
       "      <td>1</td>\n",
       "      <td>53718.28</td>\n",
       "    </tr>\n",
       "    <tr>\n",
       "      <th>1891</th>\n",
       "      <td>584</td>\n",
       "      <td>0.0</td>\n",
       "      <td>0.0</td>\n",
       "      <td>37</td>\n",
       "      <td>1.0</td>\n",
       "      <td>0.00</td>\n",
       "      <td>2</td>\n",
       "      <td>1</td>\n",
       "      <td>1</td>\n",
       "      <td>180363.56</td>\n",
       "    </tr>\n",
       "    <tr>\n",
       "      <th>1151</th>\n",
       "      <td>826</td>\n",
       "      <td>2.0</td>\n",
       "      <td>0.0</td>\n",
       "      <td>29</td>\n",
       "      <td>0.0</td>\n",
       "      <td>129938.07</td>\n",
       "      <td>1</td>\n",
       "      <td>0</td>\n",
       "      <td>1</td>\n",
       "      <td>190200.53</td>\n",
       "    </tr>\n",
       "    <tr>\n",
       "      <th>290</th>\n",
       "      <td>703</td>\n",
       "      <td>1.0</td>\n",
       "      <td>1.0</td>\n",
       "      <td>42</td>\n",
       "      <td>0.0</td>\n",
       "      <td>63227.00</td>\n",
       "      <td>1</td>\n",
       "      <td>0</td>\n",
       "      <td>1</td>\n",
       "      <td>137316.32</td>\n",
       "    </tr>\n",
       "    <tr>\n",
       "      <th>3289</th>\n",
       "      <td>773</td>\n",
       "      <td>2.0</td>\n",
       "      <td>0.0</td>\n",
       "      <td>23</td>\n",
       "      <td>8.0</td>\n",
       "      <td>0.00</td>\n",
       "      <td>2</td>\n",
       "      <td>1</td>\n",
       "      <td>0</td>\n",
       "      <td>56759.79</td>\n",
       "    </tr>\n",
       "    <tr>\n",
       "      <th>...</th>\n",
       "      <td>...</td>\n",
       "      <td>...</td>\n",
       "      <td>...</td>\n",
       "      <td>...</td>\n",
       "      <td>...</td>\n",
       "      <td>...</td>\n",
       "      <td>...</td>\n",
       "      <td>...</td>\n",
       "      <td>...</td>\n",
       "      <td>...</td>\n",
       "    </tr>\n",
       "    <tr>\n",
       "      <th>255</th>\n",
       "      <td>766</td>\n",
       "      <td>2.0</td>\n",
       "      <td>1.0</td>\n",
       "      <td>41</td>\n",
       "      <td>0.0</td>\n",
       "      <td>0.00</td>\n",
       "      <td>2</td>\n",
       "      <td>0</td>\n",
       "      <td>1</td>\n",
       "      <td>34283.23</td>\n",
       "    </tr>\n",
       "    <tr>\n",
       "      <th>515</th>\n",
       "      <td>793</td>\n",
       "      <td>2.0</td>\n",
       "      <td>1.0</td>\n",
       "      <td>38</td>\n",
       "      <td>0.0</td>\n",
       "      <td>0.00</td>\n",
       "      <td>2</td>\n",
       "      <td>1</td>\n",
       "      <td>0</td>\n",
       "      <td>88225.02</td>\n",
       "    </tr>\n",
       "    <tr>\n",
       "      <th>8947</th>\n",
       "      <td>701</td>\n",
       "      <td>0.0</td>\n",
       "      <td>0.0</td>\n",
       "      <td>43</td>\n",
       "      <td>2.0</td>\n",
       "      <td>160416.56</td>\n",
       "      <td>1</td>\n",
       "      <td>0</td>\n",
       "      <td>1</td>\n",
       "      <td>37266.43</td>\n",
       "    </tr>\n",
       "    <tr>\n",
       "      <th>9185</th>\n",
       "      <td>584</td>\n",
       "      <td>0.0</td>\n",
       "      <td>1.0</td>\n",
       "      <td>35</td>\n",
       "      <td>6.0</td>\n",
       "      <td>161613.94</td>\n",
       "      <td>2</td>\n",
       "      <td>1</td>\n",
       "      <td>1</td>\n",
       "      <td>148238.16</td>\n",
       "    </tr>\n",
       "    <tr>\n",
       "      <th>2124</th>\n",
       "      <td>704</td>\n",
       "      <td>0.0</td>\n",
       "      <td>1.0</td>\n",
       "      <td>32</td>\n",
       "      <td>7.0</td>\n",
       "      <td>127785.17</td>\n",
       "      <td>4</td>\n",
       "      <td>0</td>\n",
       "      <td>0</td>\n",
       "      <td>184464.70</td>\n",
       "    </tr>\n",
       "  </tbody>\n",
       "</table>\n",
       "<p>2000 rows × 10 columns</p>\n",
       "</div>"
      ],
      "text/plain": [
       "      CreditScore  Geography  Gender  Age  Tenure    Balance  NumOfProducts  \\\n",
       "485           730        0.0     0.0   35     0.0  155470.55              1   \n",
       "1891          584        0.0     0.0   37     1.0       0.00              2   \n",
       "1151          826        2.0     0.0   29     0.0  129938.07              1   \n",
       "290           703        1.0     1.0   42     0.0   63227.00              1   \n",
       "3289          773        2.0     0.0   23     8.0       0.00              2   \n",
       "...           ...        ...     ...  ...     ...        ...            ...   \n",
       "255           766        2.0     1.0   41     0.0       0.00              2   \n",
       "515           793        2.0     1.0   38     0.0       0.00              2   \n",
       "8947          701        0.0     0.0   43     2.0  160416.56              1   \n",
       "9185          584        0.0     1.0   35     6.0  161613.94              2   \n",
       "2124          704        0.0     1.0   32     7.0  127785.17              4   \n",
       "\n",
       "      HasCrCard  IsActiveMember  EstimatedSalary  \n",
       "485           1               1         53718.28  \n",
       "1891          1               1        180363.56  \n",
       "1151          0               1        190200.53  \n",
       "290           0               1        137316.32  \n",
       "3289          1               0         56759.79  \n",
       "...         ...             ...              ...  \n",
       "255           0               1         34283.23  \n",
       "515           1               0         88225.02  \n",
       "8947          0               1         37266.43  \n",
       "9185          1               1        148238.16  \n",
       "2124          0               0        184464.70  \n",
       "\n",
       "[2000 rows x 10 columns]"
      ]
     },
     "execution_count": 17,
     "metadata": {},
     "output_type": "execute_result"
    }
   ],
   "source": [
    "features_OE_valid"
   ]
  },
  {
   "cell_type": "code",
   "execution_count": 18,
   "metadata": {},
   "outputs": [],
   "source": [
    "drop_enc = OneHotEncoder(drop='first')\n",
    "\n",
    "drop_enc.fit(features_OHE_train[[\"Gender\",'Geography']])\n",
    "\n",
    "temp = drop_enc.transform(features_OHE_train[[\"Gender\",'Geography']]).toarray()\n",
    "features_OHE_train[[\"gender\",\"geography_1\",'geography_2']] = temp\n",
    "features_OHE_train.drop([\"Gender\", \"Geography\"], axis=1, inplace=True)\n",
    "\n",
    "temp = drop_enc.transform(features_OHE_valid[[\"Gender\",'Geography']]).toarray()\n",
    "features_OHE_valid[[\"gender\",\"geography_1\",'geography_2']] = temp\n",
    "features_OHE_valid.drop([\"Gender\", \"Geography\"], axis=1, inplace=True)\n",
    "\n",
    "temp = drop_enc.transform(features_OHE_test[[\"Gender\",'Geography']]).toarray()\n",
    "features_OHE_test[[\"gender\",\"geography_1\",'geography_2']] = temp\n",
    "features_OHE_test.drop([\"Gender\", \"Geography\"], axis=1, inplace=True)"
   ]
  },
  {
   "cell_type": "markdown",
   "metadata": {},
   "source": [
    "### Масштабирование данных"
   ]
  },
  {
   "cell_type": "code",
   "execution_count": 21,
   "metadata": {},
   "outputs": [],
   "source": [
    "def data_scaler(data):\n",
    "    numeric = ['CreditScore', 'Age', 'Tenure', 'Balance', 'NumOfProducts', 'EstimatedSalary']\n",
    "    scaler = StandardScaler()\n",
    "    scaler.fit(data[numeric])\n",
    "    data[numeric] = scaler.transform(data[numeric])\n",
    "    return data"
   ]
  },
  {
   "cell_type": "code",
   "execution_count": 22,
   "metadata": {},
   "outputs": [],
   "source": [
    "numeric = ['CreditScore', 'Age', 'Tenure', 'Balance', 'NumOfProducts', 'EstimatedSalary']\n",
    "scaler = StandardScaler()\n",
    "scaler.fit(features_OHE_train[numeric])\n",
    "features_OHE_train[numeric] = scaler.transform(features_OHE_train[numeric])\n",
    "features_OHE_valid[numeric] = scaler.transform(features_OHE_valid[numeric])\n",
    "features_OHE_test[numeric] = scaler.transform(features_OHE_test[numeric])"
   ]
  },
  {
   "cell_type": "markdown",
   "metadata": {},
   "source": [
    "### Проверка моделей"
   ]
  },
  {
   "cell_type": "code",
   "execution_count": 25,
   "metadata": {},
   "outputs": [],
   "source": [
    "def f1_info(target_valid, prediction, proba):\n",
    "    print(\"Полнота\" , recall_score(target_valid, prediction))\n",
    "    print(\"Точность\", precision_score(target_valid, prediction))\n",
    "    print(\"F1-мера\", f1_score(target_valid, prediction))\n",
    "    print(\"roc-auc\", roc_auc_score(target_valid, proba))"
   ]
  },
  {
   "cell_type": "code",
   "execution_count": 26,
   "metadata": {},
   "outputs": [
    {
     "name": "stdout",
     "output_type": "stream",
     "text": [
      "Полнота 0.4693396226415094\n",
      "Точность 0.7683397683397684\n",
      "F1-мера 0.582723279648609\n",
      "roc-auc 0.8413383835360597\n"
     ]
    }
   ],
   "source": [
    "model_RFC = RandomForestClassifier(random_state=53421, n_estimators = 100)\n",
    "RFC_prediction = model_RFC.fit(features_OE_train, target_OE_train).predict(features_OE_valid)\n",
    "model_probabilities = model_RFC.predict_proba(features_OE_valid)[:, 1]\n",
    "f1_info(target_OE_valid, RFC_prediction, model_probabilities)"
   ]
  },
  {
   "cell_type": "code",
   "execution_count": 27,
   "metadata": {},
   "outputs": [
    {
     "name": "stdout",
     "output_type": "stream",
     "text": [
      "Полнота 0.20754716981132076\n",
      "Точность 0.5827814569536424\n",
      "F1-мера 0.3060869565217391\n",
      "roc-auc 0.7565112896274302\n"
     ]
    }
   ],
   "source": [
    "model_LR = LogisticRegression(random_state=53421)\n",
    "LR_prediction = model_LR.fit(features_OHE_train, target_OHE_train).predict(features_OHE_valid)\n",
    "model_probabilities = model_LR.predict_proba(features_OHE_valid)[:, 1]\n",
    "f1_info(target_OHE_valid, LR_prediction, model_probabilities)"
   ]
  },
  {
   "cell_type": "markdown",
   "metadata": {},
   "source": [
    "### Проверка адекватности модели"
   ]
  },
  {
   "cell_type": "code",
   "execution_count": 28,
   "metadata": {},
   "outputs": [
    {
     "name": "stdout",
     "output_type": "stream",
     "text": [
      "Accuracy DummyClassifier при стратегии most_frequent 0.788\n",
      "Полнота 0.0\n",
      "Точность 0.0\n",
      "F1-мера 0.0\n",
      "roc-auc 0.5\n"
     ]
    }
   ],
   "source": [
    "dummy_clf = DummyClassifier(strategy=\"most_frequent\")\n",
    "dummy_clf.fit(features_OHE_train, target_OHE_train)\n",
    "predictions_dummy = dummy_clf.predict(features_OHE_valid)\n",
    "model_probabilities = dummy_clf.predict_proba(features_OHE_valid)[:, 1]\n",
    "result = accuracy_score(target_OHE_valid, predictions_dummy)\n",
    "print('Accuracy DummyClassifier при стратегии most_frequent',result)\n",
    "f1_info(target_OHE_valid, predictions_dummy, model_probabilities)"
   ]
  },
  {
   "cell_type": "markdown",
   "metadata": {},
   "source": [
    "**Вывод:** Случайный лес, также как и регрессия показали плохие результаты по исследуемой метрике(f1=0.57 и 0.30), низкое значение связано с дизбалансом классов, необходимо поработать с ним"
   ]
  },
  {
   "cell_type": "markdown",
   "metadata": {},
   "source": [
    "### Вывод\n",
    "* В этом пункте я подготовил 2 датафрейма для работы: для обучения \"деревянных\" алгоритов и для обучения логистической регрессии. Они отличаются кодированием категориальных признаков(Ordinal Encoding для деревьев и One-Hot Encoding для регерссии)\n",
    "* Масштабировал при помощи StandardScaler\n",
    "* Баланс классов равняется 1:4\n",
    "* У моделей маленькая F1 мера, необходимо изменить баланс классов."
   ]
  },
  {
   "cell_type": "markdown",
   "metadata": {},
   "source": [
    "## Борьба с дисбалансом"
   ]
  },
  {
   "cell_type": "markdown",
   "metadata": {},
   "source": [
    "### Upsample"
   ]
  },
  {
   "cell_type": "code",
   "execution_count": 29,
   "metadata": {},
   "outputs": [],
   "source": [
    "def upsample(features, target, repeat):\n",
    "    features_zeros = features[target == 0]\n",
    "    features_ones = features[target == 1]\n",
    "    target_zeros = target[target == 0]\n",
    "    target_ones = target[target == 1]\n",
    "\n",
    "    features_upsampled = pd.concat([features_zeros] + [features_ones] * repeat)\n",
    "    target_upsampled = pd.concat([target_zeros] + [target_ones] * repeat)\n",
    "    \n",
    "    features_upsampled, target_upsampled = shuffle(\n",
    "        features_upsampled, target_upsampled, random_state=12345)\n",
    "    \n",
    "    return features_upsampled, target_upsampled"
   ]
  },
  {
   "cell_type": "code",
   "execution_count": 30,
   "metadata": {},
   "outputs": [],
   "source": [
    "features_OE_upsampled_train, target_OE_upsampled_train = upsample(features_OE_train, target_OE_train, repeat=4)\n",
    "features_OHE_upsampled_train, target_OHE_upsampled_train = upsample(features_OHE_train, target_OHE_train, repeat=4)"
   ]
  },
  {
   "cell_type": "code",
   "execution_count": 31,
   "metadata": {},
   "outputs": [
    {
     "name": "stdout",
     "output_type": "stream",
     "text": [
      "Баланс классов: [0.5049187118152635, 0.49508128818473646]\n",
      "Баланс классов: [0.5049187118152635, 0.49508128818473646]\n"
     ]
    }
   ],
   "source": [
    "print(\"Баланс классов:\", list(target_OE_upsampled_train.value_counts(normalize=True)))\n",
    "print(\"Баланс классов:\", list(target_OHE_upsampled_train.value_counts(normalize=True)))"
   ]
  },
  {
   "cell_type": "markdown",
   "metadata": {},
   "source": [
    "### Downsample"
   ]
  },
  {
   "cell_type": "code",
   "execution_count": 32,
   "metadata": {},
   "outputs": [],
   "source": [
    "def downsample(features, target, fraction):\n",
    "    features_zeros = features[target == 0]\n",
    "    features_ones = features[target == 1]\n",
    "    target_zeros = target[target == 0]\n",
    "    target_ones = target[target == 1]\n",
    "\n",
    "    features_downsampled = pd.concat(\n",
    "        [features_zeros.sample(frac=fraction, random_state=12345)] + [features_ones])\n",
    "    target_downsampled = pd.concat(\n",
    "        [target_zeros.sample(frac=fraction, random_state=12345)] + [target_ones])\n",
    "    \n",
    "    features_downsampled, target_downsampled = shuffle(\n",
    "        features_downsampled, target_downsampled, random_state=12345)\n",
    "    \n",
    "    return features_downsampled, target_downsampled"
   ]
  },
  {
   "cell_type": "code",
   "execution_count": 33,
   "metadata": {},
   "outputs": [],
   "source": [
    "features_OE_downsampled_train, target_OE_downsampled_train = downsample(features_OE_train, target_OE_train, 0.25)\n",
    "features_OHE_downsampled_train, target_OHE_downsampled_train = downsample(features_OHE_train, target_OHE_train, 0.25)"
   ]
  },
  {
   "cell_type": "code",
   "execution_count": 34,
   "metadata": {},
   "outputs": [
    {
     "name": "stdout",
     "output_type": "stream",
     "text": [
      "Баланс классов: [0.5049710024855012, 0.49502899751449875]\n",
      "Баланс классов: [0.5049710024855012, 0.49502899751449875]\n"
     ]
    }
   ],
   "source": [
    "print(\"Баланс классов:\", list(target_OE_downsampled_train.value_counts(normalize=True)))\n",
    "print(\"Баланс классов:\", list(target_OHE_downsampled_train.value_counts(normalize=True)))"
   ]
  },
  {
   "cell_type": "markdown",
   "metadata": {},
   "source": [
    "### Предсказание на данных с измененным балансом"
   ]
  },
  {
   "cell_type": "markdown",
   "metadata": {},
   "source": [
    "#### RandomForestClassifier + upsampled data"
   ]
  },
  {
   "cell_type": "code",
   "execution_count": 35,
   "metadata": {},
   "outputs": [
    {
     "name": "stdout",
     "output_type": "stream",
     "text": [
      "Полнота 0.5424528301886793\n",
      "Точность 0.672514619883041\n",
      "F1-мера 0.6005221932114884\n",
      "roc-auc 0.8368630878268365\n"
     ]
    },
    {
     "data": {
      "text/plain": [
       "array([[1464,  112],\n",
       "       [ 194,  230]])"
      ]
     },
     "execution_count": 35,
     "metadata": {},
     "output_type": "execute_result"
    }
   ],
   "source": [
    "model_RFC = RandomForestClassifier(random_state=54321, n_estimators = 100)\n",
    "model_RFC.fit(features_OE_upsampled_train, target_OE_upsampled_train)\n",
    "predictions_RFC = model_RFC.predict(features_OE_valid)\n",
    "model_probabilities = model_RFC.predict_proba(features_OE_valid)[:, 1]\n",
    "f1_info(target_OE_valid, predictions_RFC, model_probabilities)\n",
    "confusion_matrix(target_OE_valid, predictions_RFC)"
   ]
  },
  {
   "cell_type": "markdown",
   "metadata": {},
   "source": [
    "#### RandomForestClassifier + downsampled data"
   ]
  },
  {
   "cell_type": "code",
   "execution_count": 36,
   "metadata": {},
   "outputs": [
    {
     "name": "stdout",
     "output_type": "stream",
     "text": [
      "Полнота 0.7382075471698113\n",
      "Точность 0.4582723279648609\n",
      "F1-мера 0.5654923215898826\n",
      "roc-auc 0.8329242888612202\n"
     ]
    },
    {
     "data": {
      "text/plain": [
       "array([[1206,  370],\n",
       "       [ 111,  313]])"
      ]
     },
     "execution_count": 36,
     "metadata": {},
     "output_type": "execute_result"
    }
   ],
   "source": [
    "model_RFC = RandomForestClassifier(random_state=53421, n_estimators = 100)\n",
    "model_RFC.fit(features_OE_downsampled_train, target_OE_downsampled_train)\n",
    "predictions_RFC = model_RFC.predict(features_OE_valid)\n",
    "model_probabilities = model_RFC.predict_proba(features_OE_valid)[:, 1]\n",
    "f1_info(target_OE_valid, predictions_RFC, model_probabilities)\n",
    "confusion_matrix(target_OE_valid, predictions_RFC)"
   ]
  },
  {
   "cell_type": "markdown",
   "metadata": {},
   "source": [
    "#### LogisticRegression + upsampled data"
   ]
  },
  {
   "cell_type": "code",
   "execution_count": 37,
   "metadata": {},
   "outputs": [
    {
     "name": "stdout",
     "output_type": "stream",
     "text": [
      "Полнота 0.6816037735849056\n",
      "Точность 0.38430851063829785\n",
      "F1-мера 0.49149659863945566\n",
      "roc-auc 0.7584836821185711\n"
     ]
    },
    {
     "data": {
      "text/plain": [
       "array([[1113,  463],\n",
       "       [ 135,  289]])"
      ]
     },
     "execution_count": 37,
     "metadata": {},
     "output_type": "execute_result"
    }
   ],
   "source": [
    "model_LR = LogisticRegression(random_state=53421)\n",
    "model_LR.fit(features_OHE_upsampled_train, target_OHE_upsampled_train)\n",
    "predictions_LR = model_LR.predict(features_OHE_valid)\n",
    "model_probabilities = model_LR.predict_proba(features_OHE_valid)[:, 1]\n",
    "f1_info(target_OHE_valid, predictions_LR, model_probabilities)\n",
    "confusion_matrix(target_OHE_valid, predictions_LR)"
   ]
  },
  {
   "cell_type": "markdown",
   "metadata": {},
   "source": [
    "#### LogisticRegression + downsampled data"
   ]
  },
  {
   "cell_type": "code",
   "execution_count": 38,
   "metadata": {},
   "outputs": [
    {
     "name": "stdout",
     "output_type": "stream",
     "text": [
      "Полнота 0.6981132075471698\n",
      "Точность 0.39466666666666667\n",
      "F1-мера 0.5042589437819421\n",
      "roc-auc 0.7574301431855186\n"
     ]
    },
    {
     "data": {
      "text/plain": [
       "array([[1122,  454],\n",
       "       [ 128,  296]])"
      ]
     },
     "execution_count": 38,
     "metadata": {},
     "output_type": "execute_result"
    }
   ],
   "source": [
    "model_LR = LogisticRegression(random_state=53421)\n",
    "model_LR.fit(features_OHE_downsampled_train, target_OHE_downsampled_train)\n",
    "predictions_LR = model_LR.predict(features_OHE_valid)\n",
    "model_probabilities = model_LR.predict_proba(features_OHE_valid)[:, 1]\n",
    "f1_info(target_OHE_valid, predictions_LR, model_probabilities)\n",
    "confusion_matrix(target_OHE_valid, predictions_LR)"
   ]
  },
  {
   "cell_type": "markdown",
   "metadata": {},
   "source": [
    "#### LogisticRegression balanced"
   ]
  },
  {
   "cell_type": "code",
   "execution_count": 39,
   "metadata": {},
   "outputs": [
    {
     "name": "stdout",
     "output_type": "stream",
     "text": [
      "Accuracy LogisticRegression: 0.706\n",
      "Полнота 0.6768867924528302\n",
      "Точность 0.3888888888888889\n",
      "F1-мера 0.4939759036144578\n",
      "roc-auc 0.6953596398812374\n"
     ]
    },
    {
     "data": {
      "text/plain": [
       "array([[1125,  451],\n",
       "       [ 137,  287]])"
      ]
     },
     "execution_count": 39,
     "metadata": {},
     "output_type": "execute_result"
    }
   ],
   "source": [
    "model_LR = LogisticRegression(random_state=12345, solver='liblinear', class_weight='balanced')\n",
    "LR_score = model_LR.fit(features_OHE_train, target_OHE_train).score(features_OHE_valid, target_OHE_valid)\n",
    "print('Accuracy LogisticRegression:', LR_score)\n",
    "predictions_LR = model_LR.predict(features_OHE_valid)\n",
    "model_probabilities = model_LR.predict_proba(features_OHE_valid)[:, 1]\n",
    "f1_info(target_OHE_valid, predictions_LR,predictions_LR)\n",
    "confusion_matrix(target_OHE_valid, predictions_LR)"
   ]
  },
  {
   "cell_type": "markdown",
   "metadata": {},
   "source": [
    "#### RandomForestClassifier balanced"
   ]
  },
  {
   "cell_type": "code",
   "execution_count": 40,
   "metadata": {},
   "outputs": [
    {
     "name": "stdout",
     "output_type": "stream",
     "text": [
      "Полнота 0.4669811320754717\n",
      "Точность 0.75\n",
      "F1-мера 0.5755813953488371\n",
      "roc-auc 0.8462963018389045\n"
     ]
    },
    {
     "data": {
      "text/plain": [
       "array([[1510,   66],\n",
       "       [ 226,  198]])"
      ]
     },
     "execution_count": 40,
     "metadata": {},
     "output_type": "execute_result"
    }
   ],
   "source": [
    "model_RFC = RandomForestClassifier(random_state=54321, n_estimators = 100, class_weight='balanced')\n",
    "model_RFC.fit(features_OE_train, target_OE_train)\n",
    "predictions_RFC = model_RFC.predict(features_OE_valid)\n",
    "model_probabilities = model_RFC.predict_proba(features_OE_valid)[:, 1]\n",
    "f1_info(target_OE_valid, predictions_RFC, model_probabilities)\n",
    "confusion_matrix(target_OE_valid, predictions_RFC)"
   ]
  },
  {
   "cell_type": "markdown",
   "metadata": {},
   "source": [
    "**Вывод:** Наилучшим образом себя показала модель RandomForestClassifier с применением upsample(по F1-мере, поэтому используем ее для дальнейшего обучения, также исследуем class_weight при помощи GridSearchCV)"
   ]
  },
  {
   "cell_type": "markdown",
   "metadata": {},
   "source": [
    "#### Улучшение RandomForestClassifier"
   ]
  },
  {
   "cell_type": "markdown",
   "metadata": {},
   "source": [
    " ##### RandomForestClassifier + Upsample"
   ]
  },
  {
   "cell_type": "code",
   "execution_count": 41,
   "metadata": {},
   "outputs": [
    {
     "name": "stdout",
     "output_type": "stream",
     "text": [
      "F1 наилучшей модели на валидационной выборке: 0.5997865528281751\n",
      "Число признаков для выбора расщепления: sqrt\n",
      "Максимальная глубина: 10\n",
      "Количество деревьев: 80\n",
      "CPU times: user 15.1 s, sys: 104 ms, total: 15.2 s\n",
      "Wall time: 15.2 s\n"
     ]
    }
   ],
   "source": [
    "%%time\n",
    "\n",
    "best_result = 0\n",
    "best_depth = 0\n",
    "best_est = 0\n",
    "for max_features in ['log2', 'sqrt']:\n",
    "    for est in range(20, 81, 10):\n",
    "        for depth in range(1, 12, 3):\n",
    "            model = RandomForestClassifier(max_depth=depth, n_estimators=est, random_state=53452)\n",
    "            model.fit(features_OE_upsampled_train, target_OE_upsampled_train)\n",
    "            predictions_valid = model.predict(features_OE_valid)\n",
    "            result = f1_score(target_OE_valid, predictions_valid)\n",
    "            if result > best_result:\n",
    "                RFC_best_model = model\n",
    "                best_result = result\n",
    "                best_max_features = max_features\n",
    "                best_depth = depth\n",
    "                best_est = est\n",
    "print(\"F1 наилучшей модели на валидационной выборке:\", best_result)\n",
    "print(\"Число признаков для выбора расщепления:\", max_features) \n",
    "print(\"Максимальная глубина:\", best_depth)\n",
    "print(\"Количество деревьев:\", best_est)"
   ]
  },
  {
   "cell_type": "markdown",
   "metadata": {},
   "source": [
    " ##### RandomForestClassifier + class_weight"
   ]
  },
  {
   "cell_type": "code",
   "execution_count": 42,
   "metadata": {},
   "outputs": [],
   "source": [
    "rfc=RandomForestClassifier(random_state=53421, class_weight='balanced')"
   ]
  },
  {
   "cell_type": "code",
   "execution_count": 43,
   "metadata": {},
   "outputs": [
    {
     "name": "stdout",
     "output_type": "stream",
     "text": [
      "Полнота 0.6438679245283019\n",
      "Точность 0.5909090909090909\n",
      "F1-мера 0.6162528216704288\n",
      "roc-auc 0.8452450076621014\n"
     ]
    }
   ],
   "source": [
    "param_grid = { \n",
    "    'n_estimators': [20, 40, 50, 60, 80, 100],\n",
    "    'max_features': ['log2', 'sqrt'],\n",
    "    'max_depth' : [5, 7, 9, 11, 13, 15]\n",
    "}\n",
    "CV_rfc = GridSearchCV(estimator=rfc, param_grid=param_grid, cv= 5, scoring='f1')\n",
    "CV_rfc.fit(features_OE_train, target_OE_train)\n",
    "predictions = CV_rfc.best_estimator_.predict(features_OE_valid)\n",
    "model_probabilities = CV_rfc.best_estimator_.predict_proba(features_OE_valid)[:, 1]\n",
    "f1_info(target_OE_valid, predictions, model_probabilities)"
   ]
  },
  {
   "cell_type": "code",
   "execution_count": 44,
   "metadata": {},
   "outputs": [
    {
     "data": {
      "text/plain": [
       "{'max_depth': 9, 'max_features': 'log2', 'n_estimators': 50}"
      ]
     },
     "execution_count": 44,
     "metadata": {},
     "output_type": "execute_result"
    }
   ],
   "source": [
    "CV_rfc.best_params_"
   ]
  },
  {
   "attachments": {},
   "cell_type": "markdown",
   "metadata": {},
   "source": [
    "### Вывод\n",
    "\n",
    "1. Я выбрал 3 метода борьбы с дизбалансом: upsample, downsample и балансировку в моделях.\n",
    "2. Лучшие результаты показал RandomForestClassifier + upsampled c результатми: \n",
    " * Полнота 0.54\n",
    " * Точность 0.67\n",
    " * F1-мера 0.6\n",
    "3. Далее я улучшал эту модель при помощи GridSearchCV. При этом я изучал как RandomForestClassifier + upsampled, так и балансировку модели. Наилучшими параметрами оказались:\n",
    " * class_weight='balanced'\n",
    " * criterion: gini\n",
    " * max_depth: 9\n",
    " * max_features:log2\n",
    " * n_estimators: 50\n",
    "4. Лучшие результаты на valid выборке:\n",
    " * Полнота 0.64\n",
    " * Точность 0.59\n",
    " * F1-мера 0.616\n",
    " * AUC-ROC 0.85\n",
    "5. Модель доказала свою адекватность, так как AUC-ROC больше, чем у случайно модели(0.5)"
   ]
  },
  {
   "cell_type": "markdown",
   "metadata": {},
   "source": [
    "## Тестирование модели"
   ]
  },
  {
   "cell_type": "code",
   "execution_count": 45,
   "metadata": {},
   "outputs": [
    {
     "name": "stdout",
     "output_type": "stream",
     "text": [
      "Полнота 0.6700507614213198\n",
      "Точность 0.5751633986928104\n",
      "F1-мера 0.618991793669402\n",
      "roc-auc 0.8669630383523714\n"
     ]
    }
   ],
   "source": [
    "predictions = CV_rfc.best_estimator_.predict(features_OE_test)\n",
    "model_probabilities = CV_rfc.best_estimator_.predict_proba(features_OE_test)[:, 1]\n",
    "f1_info(target_OE_test, predictions, model_probabilities)"
   ]
  },
  {
   "cell_type": "code",
   "execution_count": 46,
   "metadata": {},
   "outputs": [
    {
     "data": {
      "image/png": "[encoded data removed]",
      "text/plain": [
       "<Figure size 1080x720 with 1 Axes>"
      ]
     },
     "metadata": {
      "needs_background": "light"
     },
     "output_type": "display_data"
    }
   ],
   "source": [
    "final_model_probabilities_one = CV_rfc.best_estimator_.predict_proba(features_OE_test)[:, 1]\n",
    "fpr, tpr, thresholds = roc_curve(target_OE_test, final_model_probabilities_one) \n",
    "\n",
    "plt.figure(figsize=(15,10))\n",
    "plt.plot(fpr, tpr)\n",
    "plt.plot([0, 1], [0, 1], linestyle='--')\n",
    "plt.xlim([0.0, 1.0])\n",
    "plt.ylim([0.0, 1.0])\n",
    "plt.xlabel('False Positive Rate')\n",
    "plt.ylabel('True Positive Rate')\n",
    "plt.title('ROC-кривая')\n",
    "plt.show()"
   ]
  },
  {
   "cell_type": "markdown",
   "metadata": {},
   "source": [
    "**Вывод:** В итоге я выбрал RandomForestClassifier. На тестовой выборке он показал F1-мера = 0.62, что первышает необходимый порог. AUC-ROC = 0.867, что значителньо больше чем 0.5 у случайной модели."
   ]
  },
  {
   "cell_type": "markdown",
   "metadata": {},
   "source": [
    "Поставьте 'x' в выполненных пунктах. Далее нажмите Shift+Enter."
   ]
  }
 ],
 "metadata": {
  "ExecuteTimeLog": [
   {
    "duration": 345,
    "start_time": "2022-12-04T09:22:07.066Z"
   },
   {
    "duration": 59,
    "start_time": "2022-12-04T09:22:32.842Z"
   },
   {
    "duration": 162,
    "start_time": "2022-12-04T09:22:41.604Z"
   },
   {
    "duration": 53,
    "start_time": "2022-12-04T09:22:50.963Z"
   },
   {
    "duration": 12,
    "start_time": "2022-12-04T09:24:06.818Z"
   },
   {
    "duration": 41,
    "start_time": "2022-12-04T09:24:18.573Z"
   },
   {
    "duration": 11,
    "start_time": "2022-12-04T09:27:49.819Z"
   },
   {
    "duration": 5,
    "start_time": "2022-12-04T09:46:05.322Z"
   },
   {
    "duration": 5,
    "start_time": "2022-12-04T09:46:17.641Z"
   },
   {
    "duration": 656,
    "start_time": "2022-12-04T09:48:12.567Z"
   },
   {
    "duration": 1270,
    "start_time": "2022-12-04T10:53:10.934Z"
   },
   {
    "duration": 880,
    "start_time": "2022-12-04T10:53:17.215Z"
   },
   {
    "duration": 64,
    "start_time": "2022-12-04T10:53:45.360Z"
   },
   {
    "duration": 73,
    "start_time": "2022-12-04T10:53:53.194Z"
   },
   {
    "duration": 1264,
    "start_time": "2022-12-04T10:54:04.612Z"
   },
   {
    "duration": 4,
    "start_time": "2022-12-04T10:57:24.984Z"
   },
   {
    "duration": 1186,
    "start_time": "2022-12-04T10:57:25.909Z"
   },
   {
    "duration": 5,
    "start_time": "2022-12-04T11:16:04.912Z"
   },
   {
    "duration": 1096,
    "start_time": "2022-12-04T11:16:07.170Z"
   },
   {
    "duration": 47,
    "start_time": "2022-12-04T11:16:26.007Z"
   },
   {
    "duration": 1070,
    "start_time": "2022-12-04T11:16:31.103Z"
   },
   {
    "duration": 57,
    "start_time": "2022-12-04T11:16:32.175Z"
   },
   {
    "duration": 13,
    "start_time": "2022-12-04T11:16:32.234Z"
   },
   {
    "duration": 46,
    "start_time": "2022-12-04T11:16:32.249Z"
   },
   {
    "duration": 4,
    "start_time": "2022-12-04T11:16:32.297Z"
   },
   {
    "duration": 1398,
    "start_time": "2022-12-04T11:16:32.303Z"
   },
   {
    "duration": 22,
    "start_time": "2022-12-04T11:16:33.703Z"
   },
   {
    "duration": 4,
    "start_time": "2022-12-04T11:16:33.727Z"
   },
   {
    "duration": 17,
    "start_time": "2022-12-04T11:16:33.732Z"
   },
   {
    "duration": 6,
    "start_time": "2022-12-04T11:18:02.746Z"
   },
   {
    "duration": 16,
    "start_time": "2022-12-04T11:18:09.433Z"
   },
   {
    "duration": 21,
    "start_time": "2022-12-04T11:18:22.811Z"
   },
   {
    "duration": 753,
    "start_time": "2022-12-04T11:18:52.591Z"
   },
   {
    "duration": 1095,
    "start_time": "2022-12-04T11:19:02.055Z"
   },
   {
    "duration": 1144,
    "start_time": "2022-12-04T11:19:06.713Z"
   },
   {
    "duration": 102,
    "start_time": "2022-12-04T11:28:57.326Z"
   },
   {
    "duration": 10,
    "start_time": "2022-12-04T11:29:02.695Z"
   },
   {
    "duration": 3,
    "start_time": "2022-12-04T11:33:45.556Z"
   },
   {
    "duration": 11,
    "start_time": "2022-12-04T11:34:31.292Z"
   },
   {
    "duration": 11,
    "start_time": "2022-12-04T11:35:10.050Z"
   },
   {
    "duration": 7,
    "start_time": "2022-12-04T11:36:12.692Z"
   },
   {
    "duration": 10,
    "start_time": "2022-12-04T11:44:11.650Z"
   },
   {
    "duration": 10,
    "start_time": "2022-12-04T11:44:22.123Z"
   },
   {
    "duration": 24,
    "start_time": "2022-12-04T11:44:27.660Z"
   },
   {
    "duration": 19,
    "start_time": "2022-12-04T11:44:57.731Z"
   },
   {
    "duration": 3,
    "start_time": "2022-12-04T11:46:09.921Z"
   },
   {
    "duration": 18,
    "start_time": "2022-12-04T11:46:21.306Z"
   },
   {
    "duration": 15,
    "start_time": "2022-12-04T11:46:43.330Z"
   },
   {
    "duration": 22,
    "start_time": "2022-12-04T11:52:05.142Z"
   },
   {
    "duration": 3,
    "start_time": "2022-12-04T11:52:12.147Z"
   },
   {
    "duration": 20,
    "start_time": "2022-12-04T11:52:18.458Z"
   },
   {
    "duration": 34,
    "start_time": "2022-12-04T11:52:45.199Z"
   },
   {
    "duration": 20,
    "start_time": "2022-12-04T11:53:16.106Z"
   },
   {
    "duration": 37,
    "start_time": "2022-12-04T11:53:19.719Z"
   },
   {
    "duration": 32,
    "start_time": "2022-12-04T11:53:40.564Z"
   },
   {
    "duration": 12,
    "start_time": "2022-12-04T11:55:06.051Z"
   },
   {
    "duration": 14,
    "start_time": "2022-12-04T11:55:20.583Z"
   },
   {
    "duration": 1109,
    "start_time": "2022-12-04T11:57:06.672Z"
   },
   {
    "duration": 1167,
    "start_time": "2022-12-04T11:57:29.122Z"
   },
   {
    "duration": 17,
    "start_time": "2022-12-04T11:57:50.435Z"
   },
   {
    "duration": 1300,
    "start_time": "2022-12-04T11:57:51.409Z"
   },
   {
    "duration": 20,
    "start_time": "2022-12-04T11:58:50.276Z"
   },
   {
    "duration": 43,
    "start_time": "2022-12-04T11:58:57.354Z"
   },
   {
    "duration": 10,
    "start_time": "2022-12-04T12:01:54.469Z"
   },
   {
    "duration": 19,
    "start_time": "2022-12-04T12:02:13.144Z"
   },
   {
    "duration": 23,
    "start_time": "2022-12-04T12:02:17.669Z"
   },
   {
    "duration": 20,
    "start_time": "2022-12-04T12:02:36.336Z"
   },
   {
    "duration": 30,
    "start_time": "2022-12-04T12:02:42.494Z"
   },
   {
    "duration": 21,
    "start_time": "2022-12-04T12:05:21.941Z"
   },
   {
    "duration": 39,
    "start_time": "2022-12-04T12:05:26.355Z"
   },
   {
    "duration": 32,
    "start_time": "2022-12-04T12:05:41.054Z"
   },
   {
    "duration": 1167,
    "start_time": "2022-12-04T12:05:48.899Z"
   },
   {
    "duration": 1185,
    "start_time": "2022-12-04T12:08:44.106Z"
   },
   {
    "duration": 11,
    "start_time": "2022-12-04T12:08:55.531Z"
   },
   {
    "duration": 17,
    "start_time": "2022-12-04T12:09:13.394Z"
   },
   {
    "duration": 80,
    "start_time": "2022-12-04T12:10:33.263Z"
   },
   {
    "duration": 73,
    "start_time": "2022-12-04T12:10:44.132Z"
   },
   {
    "duration": 17,
    "start_time": "2022-12-04T12:12:17.401Z"
   },
   {
    "duration": 17,
    "start_time": "2022-12-04T12:12:28.901Z"
   },
   {
    "duration": 17,
    "start_time": "2022-12-04T12:12:48.851Z"
   },
   {
    "duration": 19,
    "start_time": "2022-12-04T12:12:56.374Z"
   },
   {
    "duration": 9,
    "start_time": "2022-12-04T12:15:03.895Z"
   },
   {
    "duration": 8,
    "start_time": "2022-12-04T12:15:19.916Z"
   },
   {
    "duration": 22,
    "start_time": "2022-12-04T12:15:27.678Z"
   },
   {
    "duration": 11,
    "start_time": "2022-12-04T12:16:00.077Z"
   },
   {
    "duration": 3,
    "start_time": "2022-12-04T12:16:23.169Z"
   },
   {
    "duration": 11,
    "start_time": "2022-12-04T12:16:30.112Z"
   },
   {
    "duration": 12,
    "start_time": "2022-12-04T12:17:11.591Z"
   },
   {
    "duration": 34,
    "start_time": "2022-12-04T12:17:19.547Z"
   },
   {
    "duration": 13,
    "start_time": "2022-12-04T12:17:59.447Z"
   },
   {
    "duration": 18,
    "start_time": "2022-12-04T12:18:21.345Z"
   },
   {
    "duration": 10,
    "start_time": "2022-12-04T12:30:38.562Z"
   },
   {
    "duration": 3,
    "start_time": "2022-12-04T12:30:41.681Z"
   },
   {
    "duration": 30,
    "start_time": "2022-12-04T12:30:42.141Z"
   },
   {
    "duration": 1160,
    "start_time": "2022-12-04T12:31:43.157Z"
   },
   {
    "duration": 3,
    "start_time": "2022-12-04T12:34:52.696Z"
   },
   {
    "duration": 1225,
    "start_time": "2022-12-04T12:34:56.577Z"
   },
   {
    "duration": 1085,
    "start_time": "2022-12-04T12:41:58.029Z"
   },
   {
    "duration": 3,
    "start_time": "2022-12-04T12:42:45.816Z"
   },
   {
    "duration": 45,
    "start_time": "2022-12-04T12:42:46.116Z"
   },
   {
    "duration": 35,
    "start_time": "2022-12-04T12:46:42.096Z"
   },
   {
    "duration": 3,
    "start_time": "2022-12-04T12:48:09.885Z"
   },
   {
    "duration": 30,
    "start_time": "2022-12-04T12:48:10.400Z"
   },
   {
    "duration": 12,
    "start_time": "2022-12-04T12:48:13.263Z"
   },
   {
    "duration": 1106,
    "start_time": "2022-12-04T12:48:29.188Z"
   },
   {
    "duration": 59,
    "start_time": "2022-12-04T12:48:30.296Z"
   },
   {
    "duration": 13,
    "start_time": "2022-12-04T12:48:30.356Z"
   },
   {
    "duration": 58,
    "start_time": "2022-12-04T12:48:30.372Z"
   },
   {
    "duration": 4,
    "start_time": "2022-12-04T12:48:30.432Z"
   },
   {
    "duration": 2343,
    "start_time": "2022-12-04T12:48:30.438Z"
   },
   {
    "duration": 10,
    "start_time": "2022-12-04T12:48:32.783Z"
   },
   {
    "duration": 5,
    "start_time": "2022-12-04T12:48:32.794Z"
   },
   {
    "duration": 26,
    "start_time": "2022-12-04T12:48:32.801Z"
   },
   {
    "duration": 9,
    "start_time": "2022-12-04T12:48:32.829Z"
   },
   {
    "duration": 3,
    "start_time": "2022-12-04T12:48:32.840Z"
   },
   {
    "duration": 37,
    "start_time": "2022-12-04T12:48:32.844Z"
   },
   {
    "duration": 17,
    "start_time": "2022-12-04T12:48:32.882Z"
   },
   {
    "duration": 42,
    "start_time": "2022-12-04T12:48:32.901Z"
   },
   {
    "duration": 4,
    "start_time": "2022-12-04T12:48:32.944Z"
   },
   {
    "duration": 10,
    "start_time": "2022-12-04T12:48:32.950Z"
   },
   {
    "duration": 19,
    "start_time": "2022-12-04T12:48:49.498Z"
   },
   {
    "duration": 109,
    "start_time": "2022-12-04T12:49:12.590Z"
   },
   {
    "duration": 13,
    "start_time": "2022-12-04T12:49:22.510Z"
   },
   {
    "duration": 50,
    "start_time": "2022-12-04T12:50:30.388Z"
   },
   {
    "duration": 13,
    "start_time": "2022-12-04T12:50:36.363Z"
   },
   {
    "duration": 12,
    "start_time": "2022-12-04T12:50:49.655Z"
   },
   {
    "duration": 20,
    "start_time": "2022-12-04T12:51:09.421Z"
   },
   {
    "duration": 48,
    "start_time": "2022-12-04T12:51:26.427Z"
   },
   {
    "duration": 18,
    "start_time": "2022-12-04T12:51:37.602Z"
   },
   {
    "duration": 59,
    "start_time": "2022-12-04T12:51:54.812Z"
   },
   {
    "duration": 1084,
    "start_time": "2022-12-04T12:51:57.581Z"
   },
   {
    "duration": 62,
    "start_time": "2022-12-04T12:51:58.667Z"
   },
   {
    "duration": 16,
    "start_time": "2022-12-04T12:51:59.572Z"
   },
   {
    "duration": 46,
    "start_time": "2022-12-04T12:52:01.126Z"
   },
   {
    "duration": 5,
    "start_time": "2022-12-04T12:52:04.066Z"
   },
   {
    "duration": 1591,
    "start_time": "2022-12-04T12:52:04.679Z"
   },
   {
    "duration": 11,
    "start_time": "2022-12-04T12:52:08.746Z"
   },
   {
    "duration": 8,
    "start_time": "2022-12-04T12:52:09.034Z"
   },
   {
    "duration": 5,
    "start_time": "2022-12-04T12:52:09.377Z"
   },
   {
    "duration": 15,
    "start_time": "2022-12-04T12:52:09.841Z"
   },
   {
    "duration": 3,
    "start_time": "2022-12-04T12:52:12.783Z"
   },
   {
    "duration": 35,
    "start_time": "2022-12-04T12:52:13.220Z"
   },
   {
    "duration": 18,
    "start_time": "2022-12-04T12:52:20.006Z"
   },
   {
    "duration": 85,
    "start_time": "2022-12-04T12:52:24.892Z"
   },
   {
    "duration": 34,
    "start_time": "2022-12-04T12:52:33.713Z"
   },
   {
    "duration": 29,
    "start_time": "2022-12-04T12:53:09.506Z"
   },
   {
    "duration": 32,
    "start_time": "2022-12-04T12:53:13.221Z"
   },
   {
    "duration": 27,
    "start_time": "2022-12-04T12:53:19.844Z"
   },
   {
    "duration": 22,
    "start_time": "2022-12-04T12:53:55.497Z"
   },
   {
    "duration": 8,
    "start_time": "2022-12-04T12:53:59.175Z"
   },
   {
    "duration": 43,
    "start_time": "2022-12-04T12:54:04.309Z"
   },
   {
    "duration": 8,
    "start_time": "2022-12-04T12:54:42.778Z"
   },
   {
    "duration": 16,
    "start_time": "2022-12-04T12:55:01.671Z"
   },
   {
    "duration": 18,
    "start_time": "2022-12-04T12:55:10.378Z"
   },
   {
    "duration": 29,
    "start_time": "2022-12-04T12:56:07.848Z"
   },
   {
    "duration": 1148,
    "start_time": "2022-12-04T12:56:26.917Z"
   },
   {
    "duration": 54,
    "start_time": "2022-12-04T12:56:28.067Z"
   },
   {
    "duration": 14,
    "start_time": "2022-12-04T12:56:34.263Z"
   },
   {
    "duration": 37,
    "start_time": "2022-12-04T12:56:38.323Z"
   },
   {
    "duration": 41,
    "start_time": "2022-12-04T12:56:50.816Z"
   },
   {
    "duration": 20,
    "start_time": "2022-12-04T12:57:01.922Z"
   },
   {
    "duration": 30,
    "start_time": "2022-12-04T12:58:16.383Z"
   },
   {
    "duration": 31,
    "start_time": "2022-12-04T12:58:43.155Z"
   },
   {
    "duration": 24,
    "start_time": "2022-12-04T12:59:19.693Z"
   },
   {
    "duration": 41,
    "start_time": "2022-12-04T12:59:25.758Z"
   },
   {
    "duration": 1069,
    "start_time": "2022-12-04T12:59:35.615Z"
   },
   {
    "duration": 71,
    "start_time": "2022-12-04T12:59:36.686Z"
   },
   {
    "duration": 13,
    "start_time": "2022-12-04T12:59:36.758Z"
   },
   {
    "duration": 52,
    "start_time": "2022-12-04T12:59:36.773Z"
   },
   {
    "duration": 6,
    "start_time": "2022-12-04T12:59:36.829Z"
   },
   {
    "duration": 1463,
    "start_time": "2022-12-04T12:59:36.837Z"
   },
   {
    "duration": 20,
    "start_time": "2022-12-04T12:59:38.301Z"
   },
   {
    "duration": 7,
    "start_time": "2022-12-04T12:59:38.323Z"
   },
   {
    "duration": 15,
    "start_time": "2022-12-04T12:59:38.332Z"
   },
   {
    "duration": 9,
    "start_time": "2022-12-04T12:59:38.348Z"
   },
   {
    "duration": 5,
    "start_time": "2022-12-04T12:59:38.359Z"
   },
   {
    "duration": 38,
    "start_time": "2022-12-04T12:59:38.365Z"
   },
   {
    "duration": 42,
    "start_time": "2022-12-04T12:59:38.405Z"
   },
   {
    "duration": 18,
    "start_time": "2022-12-04T12:59:38.450Z"
   },
   {
    "duration": 71,
    "start_time": "2022-12-04T12:59:38.469Z"
   },
   {
    "duration": 5,
    "start_time": "2022-12-04T12:59:38.542Z"
   },
   {
    "duration": 11,
    "start_time": "2022-12-04T12:59:38.548Z"
   },
   {
    "duration": 1165,
    "start_time": "2022-12-04T13:00:33.782Z"
   },
   {
    "duration": 57,
    "start_time": "2022-12-04T13:00:34.949Z"
   },
   {
    "duration": 14,
    "start_time": "2022-12-04T13:00:35.010Z"
   },
   {
    "duration": 49,
    "start_time": "2022-12-04T13:00:35.026Z"
   },
   {
    "duration": 4,
    "start_time": "2022-12-04T13:00:35.076Z"
   },
   {
    "duration": 2452,
    "start_time": "2022-12-04T13:00:35.082Z"
   },
   {
    "duration": 14,
    "start_time": "2022-12-04T13:00:37.535Z"
   },
   {
    "duration": 4,
    "start_time": "2022-12-04T13:00:37.551Z"
   },
   {
    "duration": 12,
    "start_time": "2022-12-04T13:00:37.557Z"
   },
   {
    "duration": 68,
    "start_time": "2022-12-04T13:00:37.570Z"
   },
   {
    "duration": 3,
    "start_time": "2022-12-04T13:00:37.640Z"
   },
   {
    "duration": 100,
    "start_time": "2022-12-04T13:00:37.644Z"
   },
   {
    "duration": 107,
    "start_time": "2022-12-04T13:00:37.747Z"
   },
   {
    "duration": 75,
    "start_time": "2022-12-04T13:00:37.856Z"
   },
   {
    "duration": 28,
    "start_time": "2022-12-04T13:00:37.936Z"
   },
   {
    "duration": 158,
    "start_time": "2022-12-04T13:00:37.966Z"
   },
   {
    "duration": 6,
    "start_time": "2022-12-04T13:00:38.127Z"
   },
   {
    "duration": 15,
    "start_time": "2022-12-04T13:00:38.134Z"
   },
   {
    "duration": 35,
    "start_time": "2022-12-04T13:00:52.772Z"
   },
   {
    "duration": 22,
    "start_time": "2022-12-04T13:01:38.589Z"
   },
   {
    "duration": 47,
    "start_time": "2022-12-04T13:01:57.309Z"
   },
   {
    "duration": 34,
    "start_time": "2022-12-04T13:02:35.693Z"
   },
   {
    "duration": 16,
    "start_time": "2022-12-04T13:02:39.996Z"
   },
   {
    "duration": 30,
    "start_time": "2022-12-04T13:02:40.425Z"
   },
   {
    "duration": 3,
    "start_time": "2022-12-04T13:02:41.304Z"
   },
   {
    "duration": 7,
    "start_time": "2022-12-04T13:02:41.784Z"
   },
   {
    "duration": 36,
    "start_time": "2022-12-04T13:03:31.281Z"
   },
   {
    "duration": 18,
    "start_time": "2022-12-04T13:03:38.367Z"
   },
   {
    "duration": 10,
    "start_time": "2022-12-04T13:13:54.241Z"
   },
   {
    "duration": 18,
    "start_time": "2022-12-04T13:14:00.145Z"
   },
   {
    "duration": 9,
    "start_time": "2022-12-04T13:14:43.498Z"
   },
   {
    "duration": 8,
    "start_time": "2022-12-04T13:15:48.550Z"
   },
   {
    "duration": 12,
    "start_time": "2022-12-04T13:16:42.741Z"
   },
   {
    "duration": 9,
    "start_time": "2022-12-04T13:16:43.117Z"
   },
   {
    "duration": 22,
    "start_time": "2022-12-04T13:16:48.665Z"
   },
   {
    "duration": 114,
    "start_time": "2022-12-04T13:24:26.093Z"
   },
   {
    "duration": 44,
    "start_time": "2022-12-04T13:24:32.567Z"
   },
   {
    "duration": 1417,
    "start_time": "2022-12-04T13:24:35.646Z"
   },
   {
    "duration": 1553,
    "start_time": "2022-12-04T13:25:59.746Z"
   },
   {
    "duration": 1072,
    "start_time": "2022-12-04T13:27:51.362Z"
   },
   {
    "duration": 72,
    "start_time": "2022-12-04T13:33:59.063Z"
   },
   {
    "duration": 8,
    "start_time": "2022-12-04T13:34:03.317Z"
   },
   {
    "duration": 10,
    "start_time": "2022-12-04T13:34:17.130Z"
   },
   {
    "duration": 5,
    "start_time": "2022-12-04T13:38:34.148Z"
   },
   {
    "duration": 1522,
    "start_time": "2022-12-04T13:40:10.248Z"
   },
   {
    "duration": 1580,
    "start_time": "2022-12-04T13:40:47.646Z"
   },
   {
    "duration": 8,
    "start_time": "2022-12-04T13:45:44.402Z"
   },
   {
    "duration": 21,
    "start_time": "2022-12-04T13:50:32.383Z"
   },
   {
    "duration": 5,
    "start_time": "2022-12-04T13:50:55.725Z"
   },
   {
    "duration": 7,
    "start_time": "2022-12-04T13:51:04.645Z"
   },
   {
    "duration": 7,
    "start_time": "2022-12-04T13:51:49.721Z"
   },
   {
    "duration": 4,
    "start_time": "2022-12-04T13:55:35.548Z"
   },
   {
    "duration": 5,
    "start_time": "2022-12-04T13:59:12.174Z"
   },
   {
    "duration": 5,
    "start_time": "2022-12-04T14:06:22.786Z"
   },
   {
    "duration": 5,
    "start_time": "2022-12-04T14:07:15.359Z"
   },
   {
    "duration": 6,
    "start_time": "2022-12-04T14:07:29.106Z"
   },
   {
    "duration": 7,
    "start_time": "2022-12-04T14:07:50.324Z"
   },
   {
    "duration": 5,
    "start_time": "2022-12-04T14:07:59.438Z"
   },
   {
    "duration": 36,
    "start_time": "2022-12-04T14:08:30.887Z"
   },
   {
    "duration": 37,
    "start_time": "2022-12-04T14:08:39.132Z"
   },
   {
    "duration": 10,
    "start_time": "2022-12-04T14:08:57.585Z"
   },
   {
    "duration": 27,
    "start_time": "2022-12-04T14:09:18.761Z"
   },
   {
    "duration": 14,
    "start_time": "2022-12-04T14:09:29.051Z"
   },
   {
    "duration": 24,
    "start_time": "2022-12-04T14:09:44.256Z"
   },
   {
    "duration": 29,
    "start_time": "2022-12-04T14:09:44.525Z"
   },
   {
    "duration": 3,
    "start_time": "2022-12-04T14:11:11.421Z"
   },
   {
    "duration": 9,
    "start_time": "2022-12-04T14:11:11.695Z"
   },
   {
    "duration": 8,
    "start_time": "2022-12-04T14:11:12.061Z"
   },
   {
    "duration": 851,
    "start_time": "2022-12-04T14:11:34.074Z"
   },
   {
    "duration": 828,
    "start_time": "2022-12-04T14:11:50.065Z"
   },
   {
    "duration": 821,
    "start_time": "2022-12-04T14:11:55.435Z"
   },
   {
    "duration": 781,
    "start_time": "2022-12-04T14:12:35.343Z"
   },
   {
    "duration": 7,
    "start_time": "2022-12-04T14:13:16.521Z"
   },
   {
    "duration": 7,
    "start_time": "2022-12-04T14:13:18.802Z"
   },
   {
    "duration": 7,
    "start_time": "2022-12-04T14:13:21.186Z"
   },
   {
    "duration": 58,
    "start_time": "2022-12-04T14:14:07.758Z"
   },
   {
    "duration": 69,
    "start_time": "2022-12-04T14:14:26.605Z"
   },
   {
    "duration": 5,
    "start_time": "2022-12-04T14:14:35.381Z"
   },
   {
    "duration": 66,
    "start_time": "2022-12-04T14:14:39.039Z"
   },
   {
    "duration": 80,
    "start_time": "2022-12-04T14:14:50.485Z"
   },
   {
    "duration": 66,
    "start_time": "2022-12-04T14:14:59.408Z"
   },
   {
    "duration": 17,
    "start_time": "2022-12-04T14:15:52.167Z"
   },
   {
    "duration": 29,
    "start_time": "2022-12-04T14:16:05.110Z"
   },
   {
    "duration": 5,
    "start_time": "2022-12-04T14:37:03.387Z"
   },
   {
    "duration": 5,
    "start_time": "2022-12-04T14:37:07.254Z"
   },
   {
    "duration": 11,
    "start_time": "2022-12-04T14:39:53.444Z"
   },
   {
    "duration": 12,
    "start_time": "2022-12-04T14:40:06.465Z"
   },
   {
    "duration": 18,
    "start_time": "2022-12-04T14:40:21.231Z"
   },
   {
    "duration": 17,
    "start_time": "2022-12-04T14:40:25.433Z"
   },
   {
    "duration": 15,
    "start_time": "2022-12-04T14:40:49.524Z"
   },
   {
    "duration": 16,
    "start_time": "2022-12-04T14:41:24.372Z"
   },
   {
    "duration": 39,
    "start_time": "2022-12-04T14:41:29.401Z"
   },
   {
    "duration": 4,
    "start_time": "2022-12-04T14:42:48.243Z"
   },
   {
    "duration": 19,
    "start_time": "2022-12-04T14:43:42.081Z"
   },
   {
    "duration": 17,
    "start_time": "2022-12-04T14:44:08.980Z"
   },
   {
    "duration": 7,
    "start_time": "2022-12-04T14:44:44.235Z"
   },
   {
    "duration": 6,
    "start_time": "2022-12-04T14:45:04.535Z"
   },
   {
    "duration": 1098,
    "start_time": "2022-12-04T14:50:30.939Z"
   },
   {
    "duration": 3,
    "start_time": "2022-12-04T14:51:50.420Z"
   },
   {
    "duration": 420,
    "start_time": "2022-12-04T14:53:02.195Z"
   },
   {
    "duration": 3,
    "start_time": "2022-12-04T14:54:07.668Z"
   },
   {
    "duration": 238,
    "start_time": "2022-12-04T14:54:53.991Z"
   },
   {
    "duration": 285,
    "start_time": "2022-12-04T14:55:43.539Z"
   },
   {
    "duration": 233,
    "start_time": "2022-12-04T14:56:20.894Z"
   },
   {
    "duration": 298,
    "start_time": "2022-12-04T15:01:56.124Z"
   },
   {
    "duration": 51,
    "start_time": "2022-12-04T15:02:22.678Z"
   },
   {
    "duration": 39,
    "start_time": "2022-12-04T15:02:29.489Z"
   },
   {
    "duration": 1282,
    "start_time": "2022-12-04T15:08:40.923Z"
   },
   {
    "duration": 1063,
    "start_time": "2022-12-04T15:08:51.837Z"
   },
   {
    "duration": 274,
    "start_time": "2022-12-04T15:10:11.462Z"
   },
   {
    "duration": 49,
    "start_time": "2022-12-04T15:10:19.080Z"
   },
   {
    "duration": 775,
    "start_time": "2022-12-04T15:11:19.225Z"
   },
   {
    "duration": 468,
    "start_time": "2022-12-04T15:11:43.030Z"
   },
   {
    "duration": 642,
    "start_time": "2022-12-04T15:11:50.289Z"
   },
   {
    "duration": 778,
    "start_time": "2022-12-04T15:11:59.770Z"
   },
   {
    "duration": 3,
    "start_time": "2022-12-04T15:14:17.770Z"
   },
   {
    "duration": 3,
    "start_time": "2022-12-04T15:15:46.896Z"
   },
   {
    "duration": 8,
    "start_time": "2022-12-04T15:16:22.369Z"
   },
   {
    "duration": 5,
    "start_time": "2022-12-04T15:16:35.146Z"
   },
   {
    "duration": 110727,
    "start_time": "2022-12-04T15:16:41.364Z"
   },
   {
    "duration": 4,
    "start_time": "2022-12-04T15:18:49.140Z"
   },
   {
    "duration": 198659,
    "start_time": "2022-12-04T15:18:50.736Z"
   },
   {
    "duration": 10,
    "start_time": "2022-12-04T15:22:43.872Z"
   },
   {
    "duration": 5,
    "start_time": "2022-12-04T15:22:48.337Z"
   },
   {
    "duration": 728,
    "start_time": "2022-12-04T15:26:28.888Z"
   },
   {
    "duration": 48,
    "start_time": "2022-12-04T15:26:55.969Z"
   },
   {
    "duration": 54,
    "start_time": "2022-12-04T15:27:07.452Z"
   },
   {
    "duration": 8,
    "start_time": "2022-12-04T15:27:33.862Z"
   },
   {
    "duration": 50,
    "start_time": "2022-12-04T15:27:38.779Z"
   },
   {
    "duration": 48,
    "start_time": "2022-12-04T15:54:24.267Z"
   },
   {
    "duration": 48,
    "start_time": "2022-12-04T15:55:13.829Z"
   },
   {
    "duration": 47,
    "start_time": "2022-12-04T15:55:22.875Z"
   },
   {
    "duration": 50,
    "start_time": "2022-12-04T15:55:27.014Z"
   },
   {
    "duration": 46,
    "start_time": "2022-12-04T15:56:52.749Z"
   },
   {
    "duration": 6,
    "start_time": "2022-12-04T15:57:24.496Z"
   },
   {
    "duration": 161,
    "start_time": "2022-12-04T15:57:35.673Z"
   },
   {
    "duration": 235,
    "start_time": "2022-12-04T15:58:19.018Z"
   },
   {
    "duration": 200,
    "start_time": "2022-12-04T15:58:27.325Z"
   },
   {
    "duration": 61,
    "start_time": "2022-12-04T15:59:19.807Z"
   },
   {
    "duration": 1470,
    "start_time": "2022-12-04T16:26:27.243Z"
   },
   {
    "duration": 57,
    "start_time": "2022-12-04T16:26:28.715Z"
   },
   {
    "duration": 15,
    "start_time": "2022-12-04T16:26:28.773Z"
   },
   {
    "duration": 66,
    "start_time": "2022-12-04T16:26:28.791Z"
   },
   {
    "duration": 5,
    "start_time": "2022-12-04T16:26:28.859Z"
   },
   {
    "duration": 1172,
    "start_time": "2022-12-04T16:26:28.866Z"
   },
   {
    "duration": 17,
    "start_time": "2022-12-04T16:26:30.041Z"
   },
   {
    "duration": 27,
    "start_time": "2022-12-04T16:26:30.061Z"
   },
   {
    "duration": 23,
    "start_time": "2022-12-04T16:26:30.091Z"
   },
   {
    "duration": 48,
    "start_time": "2022-12-04T16:26:30.117Z"
   },
   {
    "duration": 32,
    "start_time": "2022-12-04T16:26:30.167Z"
   },
   {
    "duration": 39,
    "start_time": "2022-12-04T16:26:30.200Z"
   },
   {
    "duration": 174,
    "start_time": "2022-12-04T16:26:30.242Z"
   },
   {
    "duration": 26,
    "start_time": "2022-12-04T16:26:30.423Z"
   },
   {
    "duration": 40,
    "start_time": "2022-12-04T16:26:30.452Z"
   },
   {
    "duration": 4,
    "start_time": "2022-12-04T16:26:30.493Z"
   },
   {
    "duration": 40,
    "start_time": "2022-12-04T16:26:30.498Z"
   },
   {
    "duration": 16,
    "start_time": "2022-12-04T16:26:30.540Z"
   },
   {
    "duration": 761,
    "start_time": "2022-12-04T16:26:30.558Z"
   },
   {
    "duration": 207,
    "start_time": "2022-12-04T16:26:31.323Z"
   },
   {
    "duration": 92,
    "start_time": "2022-12-04T16:26:31.537Z"
   },
   {
    "duration": 31,
    "start_time": "2022-12-04T16:26:31.632Z"
   },
   {
    "duration": 111,
    "start_time": "2022-12-04T16:26:31.666Z"
   },
   {
    "duration": 146,
    "start_time": "2022-12-04T16:26:31.779Z"
   },
   {
    "duration": 8,
    "start_time": "2022-12-04T16:26:31.927Z"
   },
   {
    "duration": 28,
    "start_time": "2022-12-04T16:26:31.937Z"
   },
   {
    "duration": 7,
    "start_time": "2022-12-04T16:26:31.966Z"
   },
   {
    "duration": 49,
    "start_time": "2022-12-04T16:26:31.975Z"
   },
   {
    "duration": 28,
    "start_time": "2022-12-04T16:26:32.026Z"
   },
   {
    "duration": 6,
    "start_time": "2022-12-04T16:26:32.055Z"
   },
   {
    "duration": 1112,
    "start_time": "2022-12-04T16:26:32.062Z"
   },
   {
    "duration": 512,
    "start_time": "2022-12-04T16:26:33.175Z"
   },
   {
    "duration": 939,
    "start_time": "2022-12-04T16:26:33.688Z"
   },
   {
    "duration": 197,
    "start_time": "2022-12-04T16:26:34.630Z"
   },
   {
    "duration": 211,
    "start_time": "2022-12-04T16:26:34.829Z"
   },
   {
    "duration": 921,
    "start_time": "2022-12-04T16:26:35.046Z"
   },
   {
    "duration": 4,
    "start_time": "2022-12-04T16:26:35.968Z"
   },
   {
    "duration": 9,
    "start_time": "2022-12-04T16:26:35.974Z"
   },
   {
    "duration": 221243,
    "start_time": "2022-12-04T16:26:35.985Z"
   },
   {
    "duration": 11,
    "start_time": "2022-12-04T16:30:17.230Z"
   },
   {
    "duration": 853,
    "start_time": "2022-12-04T16:30:17.250Z"
   },
   {
    "duration": 92,
    "start_time": "2022-12-04T16:30:18.106Z"
   },
   {
    "duration": 314,
    "start_time": "2022-12-04T16:30:18.200Z"
   },
   {
    "duration": 1669,
    "start_time": "2022-12-05T06:29:44.135Z"
   },
   {
    "duration": 186,
    "start_time": "2022-12-05T06:29:45.807Z"
   },
   {
    "duration": 13,
    "start_time": "2022-12-05T06:29:45.994Z"
   },
   {
    "duration": 40,
    "start_time": "2022-12-05T06:29:58.729Z"
   },
   {
    "duration": 5,
    "start_time": "2022-12-05T06:30:01.191Z"
   },
   {
    "duration": 1161,
    "start_time": "2022-12-05T06:30:02.171Z"
   },
   {
    "duration": 10,
    "start_time": "2022-12-05T06:30:04.007Z"
   },
   {
    "duration": 5,
    "start_time": "2022-12-05T06:30:04.465Z"
   },
   {
    "duration": 5,
    "start_time": "2022-12-05T06:30:04.938Z"
   },
   {
    "duration": 4,
    "start_time": "2022-12-05T06:30:06.261Z"
   },
   {
    "duration": 7,
    "start_time": "2022-12-05T06:32:26.414Z"
   },
   {
    "duration": 3,
    "start_time": "2022-12-05T06:32:28.046Z"
   },
   {
    "duration": 112,
    "start_time": "2022-12-05T06:32:28.516Z"
   },
   {
    "duration": 8,
    "start_time": "2022-12-05T06:32:48.621Z"
   },
   {
    "duration": 8,
    "start_time": "2022-12-05T06:32:49.462Z"
   },
   {
    "duration": 4,
    "start_time": "2022-12-05T06:35:04.625Z"
   },
   {
    "duration": 22,
    "start_time": "2022-12-05T06:35:25.546Z"
   },
   {
    "duration": 3,
    "start_time": "2022-12-05T06:35:43.616Z"
   },
   {
    "duration": 3,
    "start_time": "2022-12-05T06:35:47.601Z"
   },
   {
    "duration": 92,
    "start_time": "2022-12-05T06:35:51.140Z"
   },
   {
    "duration": 4,
    "start_time": "2022-12-05T06:35:54.355Z"
   },
   {
    "duration": 11,
    "start_time": "2022-12-05T06:35:59.103Z"
   },
   {
    "duration": 11,
    "start_time": "2022-12-05T06:36:10.201Z"
   },
   {
    "duration": 4,
    "start_time": "2022-12-05T06:36:18.851Z"
   },
   {
    "duration": 22,
    "start_time": "2022-12-05T06:38:35.321Z"
   },
   {
    "duration": 24,
    "start_time": "2022-12-05T06:38:50.493Z"
   },
   {
    "duration": 47,
    "start_time": "2022-12-05T06:39:05.704Z"
   },
   {
    "duration": 5,
    "start_time": "2022-12-05T06:39:09.251Z"
   },
   {
    "duration": 11,
    "start_time": "2022-12-05T06:39:12.328Z"
   },
   {
    "duration": 5,
    "start_time": "2022-12-05T06:39:12.522Z"
   },
   {
    "duration": 4,
    "start_time": "2022-12-05T06:39:12.710Z"
   },
   {
    "duration": 4,
    "start_time": "2022-12-05T06:39:13.093Z"
   },
   {
    "duration": 3,
    "start_time": "2022-12-05T06:39:17.784Z"
   },
   {
    "duration": 8,
    "start_time": "2022-12-05T06:39:17.995Z"
   },
   {
    "duration": 7,
    "start_time": "2022-12-05T06:39:18.397Z"
   },
   {
    "duration": 4,
    "start_time": "2022-12-05T06:39:18.775Z"
   },
   {
    "duration": 22,
    "start_time": "2022-12-05T06:39:21.181Z"
   },
   {
    "duration": 22,
    "start_time": "2022-12-05T06:39:21.953Z"
   },
   {
    "duration": 21,
    "start_time": "2022-12-05T06:39:45.115Z"
   },
   {
    "duration": 19,
    "start_time": "2022-12-05T06:39:56.175Z"
   },
   {
    "duration": 13,
    "start_time": "2022-12-05T06:40:04.721Z"
   },
   {
    "duration": 16,
    "start_time": "2022-12-05T06:41:42.666Z"
   },
   {
    "duration": 18,
    "start_time": "2022-12-05T06:42:24.093Z"
   },
   {
    "duration": 18,
    "start_time": "2022-12-05T06:42:31.200Z"
   },
   {
    "duration": 13,
    "start_time": "2022-12-05T06:42:56.451Z"
   },
   {
    "duration": 6,
    "start_time": "2022-12-05T06:43:21.304Z"
   },
   {
    "duration": 11,
    "start_time": "2022-12-05T06:44:03.493Z"
   },
   {
    "duration": 16,
    "start_time": "2022-12-05T06:44:08.630Z"
   },
   {
    "duration": 14,
    "start_time": "2022-12-05T06:44:23.377Z"
   },
   {
    "duration": 17,
    "start_time": "2022-12-05T06:44:41.805Z"
   },
   {
    "duration": 18,
    "start_time": "2022-12-05T06:44:49.993Z"
   },
   {
    "duration": 4,
    "start_time": "2022-12-05T06:50:00.571Z"
   },
   {
    "duration": 14,
    "start_time": "2022-12-05T06:50:40.831Z"
   },
   {
    "duration": 33,
    "start_time": "2022-12-05T06:50:44.812Z"
   },
   {
    "duration": 28,
    "start_time": "2022-12-05T06:51:40.611Z"
   },
   {
    "duration": 8,
    "start_time": "2022-12-05T07:00:43.518Z"
   },
   {
    "duration": 79,
    "start_time": "2022-12-05T07:00:46.597Z"
   },
   {
    "duration": 4,
    "start_time": "2022-12-05T07:00:51.434Z"
   },
   {
    "duration": 31,
    "start_time": "2022-12-05T07:00:54.797Z"
   },
   {
    "duration": 42,
    "start_time": "2022-12-05T07:01:02.526Z"
   },
   {
    "duration": 46,
    "start_time": "2022-12-05T07:03:33.000Z"
   },
   {
    "duration": 12,
    "start_time": "2022-12-05T07:03:33.154Z"
   },
   {
    "duration": 37,
    "start_time": "2022-12-05T07:03:33.345Z"
   },
   {
    "duration": 4,
    "start_time": "2022-12-05T07:03:35.458Z"
   },
   {
    "duration": 12,
    "start_time": "2022-12-05T07:03:38.429Z"
   },
   {
    "duration": 4,
    "start_time": "2022-12-05T07:03:38.637Z"
   },
   {
    "duration": 5,
    "start_time": "2022-12-05T07:03:38.868Z"
   },
   {
    "duration": 5,
    "start_time": "2022-12-05T07:03:39.138Z"
   },
   {
    "duration": 6,
    "start_time": "2022-12-05T07:03:42.322Z"
   },
   {
    "duration": 4,
    "start_time": "2022-12-05T07:03:44.108Z"
   },
   {
    "duration": 8,
    "start_time": "2022-12-05T07:03:52.505Z"
   },
   {
    "duration": 7,
    "start_time": "2022-12-05T07:03:52.551Z"
   },
   {
    "duration": 4,
    "start_time": "2022-12-05T07:03:53.004Z"
   },
   {
    "duration": 3,
    "start_time": "2022-12-05T07:03:56.781Z"
   },
   {
    "duration": 31,
    "start_time": "2022-12-05T07:03:58.806Z"
   },
   {
    "duration": 3,
    "start_time": "2022-12-05T07:04:32.732Z"
   },
   {
    "duration": 17,
    "start_time": "2022-12-05T07:04:34.556Z"
   },
   {
    "duration": 27,
    "start_time": "2022-12-05T07:04:39.388Z"
   },
   {
    "duration": 22,
    "start_time": "2022-12-05T07:04:50.931Z"
   },
   {
    "duration": 4,
    "start_time": "2022-12-05T07:06:17.611Z"
   },
   {
    "duration": 14,
    "start_time": "2022-12-05T07:06:34.909Z"
   },
   {
    "duration": 4,
    "start_time": "2022-12-05T07:06:45.997Z"
   },
   {
    "duration": 29,
    "start_time": "2022-12-05T07:06:46.378Z"
   },
   {
    "duration": 17,
    "start_time": "2022-12-05T07:06:54.940Z"
   },
   {
    "duration": 15,
    "start_time": "2022-12-05T07:07:06.339Z"
   },
   {
    "duration": 20,
    "start_time": "2022-12-05T07:07:19.081Z"
   },
   {
    "duration": 22,
    "start_time": "2022-12-05T07:07:45.608Z"
   },
   {
    "duration": 18,
    "start_time": "2022-12-05T07:07:52.642Z"
   },
   {
    "duration": 78,
    "start_time": "2022-12-05T07:08:46.808Z"
   },
   {
    "duration": 5,
    "start_time": "2022-12-05T07:09:00.878Z"
   },
   {
    "duration": 5,
    "start_time": "2022-12-05T07:09:19.962Z"
   },
   {
    "duration": 50,
    "start_time": "2022-12-05T07:09:20.142Z"
   },
   {
    "duration": 12,
    "start_time": "2022-12-05T07:09:20.340Z"
   },
   {
    "duration": 38,
    "start_time": "2022-12-05T07:09:20.524Z"
   },
   {
    "duration": 4,
    "start_time": "2022-12-05T07:09:24.341Z"
   },
   {
    "duration": 1090,
    "start_time": "2022-12-05T07:09:25.260Z"
   },
   {
    "duration": 9,
    "start_time": "2022-12-05T07:09:29.131Z"
   },
   {
    "duration": 5,
    "start_time": "2022-12-05T07:09:29.451Z"
   },
   {
    "duration": 5,
    "start_time": "2022-12-05T07:09:29.784Z"
   },
   {
    "duration": 4,
    "start_time": "2022-12-05T07:09:30.259Z"
   },
   {
    "duration": 6,
    "start_time": "2022-12-05T07:09:32.466Z"
   },
   {
    "duration": 3,
    "start_time": "2022-12-05T07:09:33.613Z"
   },
   {
    "duration": 8,
    "start_time": "2022-12-05T07:09:34.077Z"
   },
   {
    "duration": 8,
    "start_time": "2022-12-05T07:09:34.624Z"
   },
   {
    "duration": 5,
    "start_time": "2022-12-05T07:09:35.025Z"
   },
   {
    "duration": 3,
    "start_time": "2022-12-05T07:09:36.721Z"
   },
   {
    "duration": 24,
    "start_time": "2022-12-05T07:09:37.469Z"
   },
   {
    "duration": 17,
    "start_time": "2022-12-05T07:09:39.037Z"
   },
   {
    "duration": 5,
    "start_time": "2022-12-05T07:09:48.942Z"
   },
   {
    "duration": 4,
    "start_time": "2022-12-05T07:10:05.029Z"
   },
   {
    "duration": 28,
    "start_time": "2022-12-05T07:10:05.222Z"
   },
   {
    "duration": 19,
    "start_time": "2022-12-05T07:10:10.820Z"
   },
   {
    "duration": 8,
    "start_time": "2022-12-05T07:11:16.597Z"
   },
   {
    "duration": 7,
    "start_time": "2022-12-05T07:11:16.843Z"
   },
   {
    "duration": 2,
    "start_time": "2022-12-05T07:11:21.423Z"
   },
   {
    "duration": 17,
    "start_time": "2022-12-05T07:11:21.644Z"
   },
   {
    "duration": 20,
    "start_time": "2022-12-05T07:11:22.132Z"
   },
   {
    "duration": 15,
    "start_time": "2022-12-05T07:11:26.060Z"
   },
   {
    "duration": 5,
    "start_time": "2022-12-05T07:13:07.333Z"
   },
   {
    "duration": 27,
    "start_time": "2022-12-05T07:13:07.777Z"
   },
   {
    "duration": 22,
    "start_time": "2022-12-05T07:13:08.178Z"
   },
   {
    "duration": 9,
    "start_time": "2022-12-05T07:13:42.165Z"
   },
   {
    "duration": 9,
    "start_time": "2022-12-05T07:13:42.365Z"
   },
   {
    "duration": 5,
    "start_time": "2022-12-05T07:13:44.154Z"
   },
   {
    "duration": 5,
    "start_time": "2022-12-05T07:13:52.443Z"
   },
   {
    "duration": 18,
    "start_time": "2022-12-05T07:13:52.681Z"
   },
   {
    "duration": 18,
    "start_time": "2022-12-05T07:13:53.150Z"
   },
   {
    "duration": 20,
    "start_time": "2022-12-05T07:14:17.408Z"
   },
   {
    "duration": 5,
    "start_time": "2022-12-05T07:17:17.376Z"
   },
   {
    "duration": 25,
    "start_time": "2022-12-05T07:17:17.948Z"
   },
   {
    "duration": 20,
    "start_time": "2022-12-05T07:17:18.170Z"
   },
   {
    "duration": 4,
    "start_time": "2022-12-05T07:17:39.768Z"
   },
   {
    "duration": 25,
    "start_time": "2022-12-05T07:17:41.810Z"
   },
   {
    "duration": 16,
    "start_time": "2022-12-05T07:18:04.481Z"
   },
   {
    "duration": 4,
    "start_time": "2022-12-05T07:18:55.252Z"
   },
   {
    "duration": 26,
    "start_time": "2022-12-05T07:18:55.724Z"
   },
   {
    "duration": 18,
    "start_time": "2022-12-05T07:18:59.102Z"
   },
   {
    "duration": 17,
    "start_time": "2022-12-05T07:19:08.391Z"
   },
   {
    "duration": 12,
    "start_time": "2022-12-05T07:19:46.446Z"
   },
   {
    "duration": 17,
    "start_time": "2022-12-05T07:20:01.357Z"
   },
   {
    "duration": 15,
    "start_time": "2022-12-05T07:20:18.046Z"
   },
   {
    "duration": 16,
    "start_time": "2022-12-05T07:20:23.423Z"
   },
   {
    "duration": 24,
    "start_time": "2022-12-05T07:20:36.425Z"
   },
   {
    "duration": 15,
    "start_time": "2022-12-05T07:20:49.927Z"
   },
   {
    "duration": 8,
    "start_time": "2022-12-05T07:20:58.889Z"
   },
   {
    "duration": 7,
    "start_time": "2022-12-05T07:20:59.087Z"
   },
   {
    "duration": 4,
    "start_time": "2022-12-05T07:20:59.325Z"
   },
   {
    "duration": 3,
    "start_time": "2022-12-05T07:21:01.424Z"
   },
   {
    "duration": 19,
    "start_time": "2022-12-05T07:21:01.615Z"
   },
   {
    "duration": 21,
    "start_time": "2022-12-05T07:21:01.786Z"
   },
   {
    "duration": 31,
    "start_time": "2022-12-05T07:21:09.217Z"
   },
   {
    "duration": 15,
    "start_time": "2022-12-05T07:23:25.607Z"
   },
   {
    "duration": 8,
    "start_time": "2022-12-05T07:23:28.485Z"
   },
   {
    "duration": 8,
    "start_time": "2022-12-05T07:23:28.635Z"
   },
   {
    "duration": 4,
    "start_time": "2022-12-05T07:23:28.830Z"
   },
   {
    "duration": 4,
    "start_time": "2022-12-05T07:23:29.802Z"
   },
   {
    "duration": 18,
    "start_time": "2022-12-05T07:23:29.984Z"
   },
   {
    "duration": 18,
    "start_time": "2022-12-05T07:23:30.171Z"
   },
   {
    "duration": 4,
    "start_time": "2022-12-05T07:23:30.361Z"
   },
   {
    "duration": 26,
    "start_time": "2022-12-05T07:23:30.556Z"
   },
   {
    "duration": 1199,
    "start_time": "2022-12-05T07:23:37.914Z"
   },
   {
    "duration": 4,
    "start_time": "2022-12-05T07:23:44.514Z"
   },
   {
    "duration": 9,
    "start_time": "2022-12-05T07:23:44.591Z"
   },
   {
    "duration": 14,
    "start_time": "2022-12-05T07:23:45.322Z"
   },
   {
    "duration": 13,
    "start_time": "2022-12-05T07:23:45.338Z"
   },
   {
    "duration": 4,
    "start_time": "2022-12-05T07:23:45.677Z"
   },
   {
    "duration": 19,
    "start_time": "2022-12-05T07:23:45.864Z"
   },
   {
    "duration": 19,
    "start_time": "2022-12-05T07:23:46.274Z"
   },
   {
    "duration": 4,
    "start_time": "2022-12-05T07:23:46.480Z"
   },
   {
    "duration": 1222,
    "start_time": "2022-12-05T07:23:48.284Z"
   },
   {
    "duration": 29,
    "start_time": "2022-12-05T07:24:04.086Z"
   },
   {
    "duration": 17,
    "start_time": "2022-12-05T07:24:28.235Z"
   },
   {
    "duration": 3,
    "start_time": "2022-12-05T07:25:36.867Z"
   },
   {
    "duration": 8,
    "start_time": "2022-12-05T07:25:37.055Z"
   },
   {
    "duration": 7,
    "start_time": "2022-12-05T07:25:37.262Z"
   },
   {
    "duration": 5,
    "start_time": "2022-12-05T07:25:37.480Z"
   },
   {
    "duration": 3,
    "start_time": "2022-12-05T07:25:38.697Z"
   },
   {
    "duration": 17,
    "start_time": "2022-12-05T07:25:38.965Z"
   },
   {
    "duration": 18,
    "start_time": "2022-12-05T07:25:39.211Z"
   },
   {
    "duration": 5,
    "start_time": "2022-12-05T07:25:41.378Z"
   },
   {
    "duration": 27,
    "start_time": "2022-12-05T07:25:41.572Z"
   },
   {
    "duration": 17,
    "start_time": "2022-12-05T07:25:59.217Z"
   },
   {
    "duration": 7,
    "start_time": "2022-12-05T07:26:44.061Z"
   },
   {
    "duration": 8,
    "start_time": "2022-12-05T07:26:44.266Z"
   },
   {
    "duration": 4,
    "start_time": "2022-12-05T07:26:44.463Z"
   },
   {
    "duration": 3,
    "start_time": "2022-12-05T07:26:45.394Z"
   },
   {
    "duration": 20,
    "start_time": "2022-12-05T07:26:45.716Z"
   },
   {
    "duration": 18,
    "start_time": "2022-12-05T07:26:45.919Z"
   },
   {
    "duration": 4,
    "start_time": "2022-12-05T07:26:48.952Z"
   },
   {
    "duration": 33,
    "start_time": "2022-12-05T07:26:50.169Z"
   },
   {
    "duration": 20,
    "start_time": "2022-12-05T07:27:03.115Z"
   },
   {
    "duration": 3,
    "start_time": "2022-12-05T07:27:42.745Z"
   },
   {
    "duration": 14,
    "start_time": "2022-12-05T07:27:43.116Z"
   },
   {
    "duration": 17,
    "start_time": "2022-12-05T07:27:43.627Z"
   },
   {
    "duration": 8,
    "start_time": "2022-12-05T07:27:46.638Z"
   },
   {
    "duration": 9,
    "start_time": "2022-12-05T07:27:46.817Z"
   },
   {
    "duration": 4,
    "start_time": "2022-12-05T07:27:46.996Z"
   },
   {
    "duration": 3,
    "start_time": "2022-12-05T07:27:47.853Z"
   },
   {
    "duration": 18,
    "start_time": "2022-12-05T07:27:48.033Z"
   },
   {
    "duration": 20,
    "start_time": "2022-12-05T07:27:48.316Z"
   },
   {
    "duration": 4,
    "start_time": "2022-12-05T07:27:48.623Z"
   },
   {
    "duration": 13,
    "start_time": "2022-12-05T07:27:49.406Z"
   },
   {
    "duration": 21,
    "start_time": "2022-12-05T07:27:53.618Z"
   },
   {
    "duration": 11,
    "start_time": "2022-12-05T07:29:08.153Z"
   },
   {
    "duration": 9,
    "start_time": "2022-12-05T07:29:08.435Z"
   },
   {
    "duration": 4,
    "start_time": "2022-12-05T07:29:08.676Z"
   },
   {
    "duration": 3,
    "start_time": "2022-12-05T07:29:09.792Z"
   },
   {
    "duration": 16,
    "start_time": "2022-12-05T07:29:10.046Z"
   },
   {
    "duration": 16,
    "start_time": "2022-12-05T07:29:10.360Z"
   },
   {
    "duration": 4,
    "start_time": "2022-12-05T07:29:10.617Z"
   },
   {
    "duration": 25,
    "start_time": "2022-12-05T07:29:10.994Z"
   },
   {
    "duration": 22,
    "start_time": "2022-12-05T07:29:11.286Z"
   },
   {
    "duration": 9,
    "start_time": "2022-12-05T07:30:04.878Z"
   },
   {
    "duration": 8,
    "start_time": "2022-12-05T07:30:05.057Z"
   },
   {
    "duration": 4,
    "start_time": "2022-12-05T07:30:05.259Z"
   },
   {
    "duration": 3,
    "start_time": "2022-12-05T07:30:06.085Z"
   },
   {
    "duration": 19,
    "start_time": "2022-12-05T07:30:06.304Z"
   },
   {
    "duration": 17,
    "start_time": "2022-12-05T07:30:06.562Z"
   },
   {
    "duration": 3,
    "start_time": "2022-12-05T07:30:08.907Z"
   },
   {
    "duration": 25,
    "start_time": "2022-12-05T07:30:09.114Z"
   },
   {
    "duration": 17,
    "start_time": "2022-12-05T07:30:09.668Z"
   },
   {
    "duration": 3,
    "start_time": "2022-12-05T07:30:26.602Z"
   },
   {
    "duration": 42,
    "start_time": "2022-12-05T07:30:27.080Z"
   },
   {
    "duration": 42,
    "start_time": "2022-12-05T07:30:46.061Z"
   },
   {
    "duration": 840,
    "start_time": "2022-12-05T07:31:05.790Z"
   },
   {
    "duration": 176,
    "start_time": "2022-12-05T07:31:06.836Z"
   },
   {
    "duration": 3,
    "start_time": "2022-12-05T07:31:37.985Z"
   },
   {
    "duration": 3,
    "start_time": "2022-12-05T07:32:50.583Z"
   },
   {
    "duration": 810,
    "start_time": "2022-12-05T07:32:50.757Z"
   },
   {
    "duration": 809,
    "start_time": "2022-12-05T07:33:03.086Z"
   },
   {
    "duration": 17,
    "start_time": "2022-12-05T07:33:14.897Z"
   },
   {
    "duration": 5,
    "start_time": "2022-12-05T07:33:24.198Z"
   },
   {
    "duration": 23,
    "start_time": "2022-12-05T07:33:34.913Z"
   },
   {
    "duration": 9,
    "start_time": "2022-12-05T07:34:46.305Z"
   },
   {
    "duration": 9,
    "start_time": "2022-12-05T07:34:46.583Z"
   },
   {
    "duration": 4,
    "start_time": "2022-12-05T07:34:47.051Z"
   },
   {
    "duration": 24,
    "start_time": "2022-12-05T07:34:52.813Z"
   },
   {
    "duration": 5,
    "start_time": "2022-12-05T07:35:00.893Z"
   },
   {
    "duration": 4,
    "start_time": "2022-12-05T07:35:14.136Z"
   },
   {
    "duration": 18,
    "start_time": "2022-12-05T07:35:14.378Z"
   },
   {
    "duration": 18,
    "start_time": "2022-12-05T07:35:14.798Z"
   },
   {
    "duration": 5,
    "start_time": "2022-12-05T07:35:25.892Z"
   },
   {
    "duration": 5,
    "start_time": "2022-12-05T07:36:19.431Z"
   },
   {
    "duration": 18,
    "start_time": "2022-12-05T07:36:20.774Z"
   },
   {
    "duration": 39,
    "start_time": "2022-12-05T07:36:34.621Z"
   },
   {
    "duration": 38,
    "start_time": "2022-12-05T07:36:40.764Z"
   },
   {
    "duration": 5,
    "start_time": "2022-12-05T07:37:19.714Z"
   },
   {
    "duration": 38,
    "start_time": "2022-12-05T07:38:19.449Z"
   },
   {
    "duration": 35,
    "start_time": "2022-12-05T07:38:23.437Z"
   },
   {
    "duration": 8,
    "start_time": "2022-12-05T07:38:39.109Z"
   },
   {
    "duration": 8,
    "start_time": "2022-12-05T07:38:39.545Z"
   },
   {
    "duration": 4,
    "start_time": "2022-12-05T07:38:40.038Z"
   },
   {
    "duration": 5,
    "start_time": "2022-12-05T07:38:42.143Z"
   },
   {
    "duration": 57,
    "start_time": "2022-12-05T07:38:47.266Z"
   },
   {
    "duration": 5,
    "start_time": "2022-12-05T07:39:05.206Z"
   },
   {
    "duration": 9,
    "start_time": "2022-12-05T07:39:38.577Z"
   },
   {
    "duration": 5,
    "start_time": "2022-12-05T07:39:43.816Z"
   },
   {
    "duration": 4,
    "start_time": "2022-12-05T07:45:16.314Z"
   },
   {
    "duration": 46,
    "start_time": "2022-12-05T07:45:16.763Z"
   },
   {
    "duration": 14,
    "start_time": "2022-12-05T07:45:17.343Z"
   },
   {
    "duration": 38,
    "start_time": "2022-12-05T07:45:19.974Z"
   },
   {
    "duration": 4,
    "start_time": "2022-12-05T07:45:22.752Z"
   },
   {
    "duration": 1076,
    "start_time": "2022-12-05T07:45:23.806Z"
   },
   {
    "duration": 10,
    "start_time": "2022-12-05T07:45:25.596Z"
   },
   {
    "duration": 6,
    "start_time": "2022-12-05T07:45:26.008Z"
   },
   {
    "duration": 4,
    "start_time": "2022-12-05T07:45:26.374Z"
   },
   {
    "duration": 5,
    "start_time": "2022-12-05T07:45:26.615Z"
   },
   {
    "duration": 6,
    "start_time": "2022-12-05T07:45:28.141Z"
   },
   {
    "duration": 4,
    "start_time": "2022-12-05T07:45:28.899Z"
   },
   {
    "duration": 8,
    "start_time": "2022-12-05T07:45:29.112Z"
   },
   {
    "duration": 9,
    "start_time": "2022-12-05T07:45:29.333Z"
   },
   {
    "duration": 4,
    "start_time": "2022-12-05T07:45:29.730Z"
   },
   {
    "duration": 19,
    "start_time": "2022-12-05T07:45:36.269Z"
   },
   {
    "duration": 6,
    "start_time": "2022-12-05T07:45:42.467Z"
   },
   {
    "duration": 3,
    "start_time": "2022-12-05T07:45:49.865Z"
   },
   {
    "duration": 25,
    "start_time": "2022-12-05T07:45:50.255Z"
   },
   {
    "duration": 18,
    "start_time": "2022-12-05T07:45:50.850Z"
   },
   {
    "duration": 6,
    "start_time": "2022-12-05T07:45:57.282Z"
   },
   {
    "duration": 3,
    "start_time": "2022-12-05T07:46:00.745Z"
   },
   {
    "duration": 27,
    "start_time": "2022-12-05T07:46:01.088Z"
   },
   {
    "duration": 27,
    "start_time": "2022-12-05T07:46:01.462Z"
   },
   {
    "duration": 6,
    "start_time": "2022-12-05T07:46:17.570Z"
   },
   {
    "duration": 3,
    "start_time": "2022-12-05T07:46:50.472Z"
   },
   {
    "duration": 157,
    "start_time": "2022-12-05T07:46:51.478Z"
   },
   {
    "duration": 43,
    "start_time": "2022-12-05T07:47:05.387Z"
   },
   {
    "duration": 17,
    "start_time": "2022-12-05T07:47:11.597Z"
   },
   {
    "duration": 26,
    "start_time": "2022-12-05T07:47:23.766Z"
   },
   {
    "duration": 20,
    "start_time": "2022-12-05T07:47:24.363Z"
   },
   {
    "duration": 48,
    "start_time": "2022-12-05T07:47:34.213Z"
   },
   {
    "duration": 11,
    "start_time": "2022-12-05T07:47:34.396Z"
   },
   {
    "duration": 36,
    "start_time": "2022-12-05T07:47:34.561Z"
   },
   {
    "duration": 4,
    "start_time": "2022-12-05T07:47:35.085Z"
   },
   {
    "duration": 1054,
    "start_time": "2022-12-05T07:47:35.428Z"
   },
   {
    "duration": 8,
    "start_time": "2022-12-05T07:47:36.484Z"
   },
   {
    "duration": 21,
    "start_time": "2022-12-05T07:47:36.493Z"
   },
   {
    "duration": 22,
    "start_time": "2022-12-05T07:47:36.515Z"
   },
   {
    "duration": 10,
    "start_time": "2022-12-05T07:47:36.539Z"
   },
   {
    "duration": 5,
    "start_time": "2022-12-05T07:47:37.392Z"
   },
   {
    "duration": 4,
    "start_time": "2022-12-05T07:47:37.993Z"
   },
   {
    "duration": 8,
    "start_time": "2022-12-05T07:47:38.197Z"
   },
   {
    "duration": 9,
    "start_time": "2022-12-05T07:47:38.456Z"
   },
   {
    "duration": 4,
    "start_time": "2022-12-05T07:47:38.666Z"
   },
   {
    "duration": 16,
    "start_time": "2022-12-05T07:47:39.699Z"
   },
   {
    "duration": 6,
    "start_time": "2022-12-05T07:47:42.056Z"
   },
   {
    "duration": 2,
    "start_time": "2022-12-05T07:47:43.083Z"
   },
   {
    "duration": 17,
    "start_time": "2022-12-05T07:47:43.389Z"
   },
   {
    "duration": 27,
    "start_time": "2022-12-05T07:47:43.868Z"
   },
   {
    "duration": 5,
    "start_time": "2022-12-05T07:47:47.481Z"
   },
   {
    "duration": 25,
    "start_time": "2022-12-05T07:47:47.684Z"
   },
   {
    "duration": 16,
    "start_time": "2022-12-05T07:47:48.215Z"
   },
   {
    "duration": 5,
    "start_time": "2022-12-05T07:47:52.762Z"
   },
   {
    "duration": 3,
    "start_time": "2022-12-05T07:47:53.588Z"
   },
   {
    "duration": 42,
    "start_time": "2022-12-05T07:47:53.881Z"
   },
   {
    "duration": 30,
    "start_time": "2022-12-05T07:47:54.781Z"
   },
   {
    "duration": 21,
    "start_time": "2022-12-05T07:47:56.575Z"
   },
   {
    "duration": 3,
    "start_time": "2022-12-05T07:48:01.604Z"
   },
   {
    "duration": 17,
    "start_time": "2022-12-05T07:48:02.079Z"
   },
   {
    "duration": 707,
    "start_time": "2022-12-05T07:48:06.462Z"
   },
   {
    "duration": 295,
    "start_time": "2022-12-05T07:48:56.510Z"
   },
   {
    "duration": 176,
    "start_time": "2022-12-05T07:49:09.135Z"
   },
   {
    "duration": 689,
    "start_time": "2022-12-05T07:49:13.023Z"
   },
   {
    "duration": 208,
    "start_time": "2022-12-05T07:49:13.998Z"
   },
   {
    "duration": 5,
    "start_time": "2022-12-05T07:49:21.679Z"
   },
   {
    "duration": 57,
    "start_time": "2022-12-05T07:49:22.611Z"
   },
   {
    "duration": 260,
    "start_time": "2022-12-05T07:52:54.827Z"
   },
   {
    "duration": 252,
    "start_time": "2022-12-05T07:53:02.795Z"
   },
   {
    "duration": 247,
    "start_time": "2022-12-05T07:53:15.149Z"
   },
   {
    "duration": 210,
    "start_time": "2022-12-05T07:53:23.598Z"
   },
   {
    "duration": 59,
    "start_time": "2022-12-05T07:53:32.777Z"
   },
   {
    "duration": 713,
    "start_time": "2022-12-05T07:57:32.983Z"
   },
   {
    "duration": 768,
    "start_time": "2022-12-05T07:57:42.569Z"
   },
   {
    "duration": 3,
    "start_time": "2022-12-05T07:57:51.287Z"
   },
   {
    "duration": 777,
    "start_time": "2022-12-05T07:57:51.516Z"
   },
   {
    "duration": 3,
    "start_time": "2022-12-05T07:58:38.848Z"
   },
   {
    "duration": 761,
    "start_time": "2022-12-05T07:58:39.148Z"
   },
   {
    "duration": 3,
    "start_time": "2022-12-05T07:58:58.537Z"
   },
   {
    "duration": 775,
    "start_time": "2022-12-05T07:58:59.632Z"
   },
   {
    "duration": 269,
    "start_time": "2022-12-05T08:24:19.937Z"
   },
   {
    "duration": 263,
    "start_time": "2022-12-05T08:24:29.548Z"
   },
   {
    "duration": 12,
    "start_time": "2022-12-05T08:26:18.840Z"
   },
   {
    "duration": 12,
    "start_time": "2022-12-05T08:26:31.188Z"
   },
   {
    "duration": 15,
    "start_time": "2022-12-05T08:27:28.535Z"
   },
   {
    "duration": 11,
    "start_time": "2022-12-05T08:27:34.586Z"
   },
   {
    "duration": 4,
    "start_time": "2022-12-05T08:28:26.589Z"
   },
   {
    "duration": 21,
    "start_time": "2022-12-05T08:28:27.019Z"
   },
   {
    "duration": 6,
    "start_time": "2022-12-05T08:28:28.217Z"
   },
   {
    "duration": 4,
    "start_time": "2022-12-05T08:28:31.008Z"
   },
   {
    "duration": 13,
    "start_time": "2022-12-05T08:28:31.374Z"
   },
   {
    "duration": 7,
    "start_time": "2022-12-05T08:28:31.691Z"
   },
   {
    "duration": 984,
    "start_time": "2022-12-05T08:28:36.335Z"
   },
   {
    "duration": 1141,
    "start_time": "2022-12-05T08:29:02.066Z"
   },
   {
    "duration": 618,
    "start_time": "2022-12-05T08:29:37.088Z"
   },
   {
    "duration": 1018,
    "start_time": "2022-12-05T08:30:24.542Z"
   },
   {
    "duration": 939,
    "start_time": "2022-12-05T08:33:03.587Z"
   },
   {
    "duration": 1022,
    "start_time": "2022-12-05T08:33:22.969Z"
   },
   {
    "duration": 435,
    "start_time": "2022-12-05T08:34:15.340Z"
   },
   {
    "duration": 300,
    "start_time": "2022-12-05T08:53:50.006Z"
   },
   {
    "duration": 473,
    "start_time": "2022-12-05T08:54:20.932Z"
   },
   {
    "duration": 114,
    "start_time": "2022-12-05T08:54:31.594Z"
   },
   {
    "duration": 145,
    "start_time": "2022-12-05T08:55:51.761Z"
   },
   {
    "duration": 199,
    "start_time": "2022-12-05T08:56:00.814Z"
   },
   {
    "duration": 288,
    "start_time": "2022-12-05T08:56:13.716Z"
   },
   {
    "duration": 36,
    "start_time": "2022-12-05T08:56:29.972Z"
   },
   {
    "duration": 130,
    "start_time": "2022-12-05T08:56:42.575Z"
   },
   {
    "duration": 139,
    "start_time": "2022-12-05T08:56:50.269Z"
   },
   {
    "duration": 719,
    "start_time": "2022-12-05T08:57:12.476Z"
   },
   {
    "duration": 763,
    "start_time": "2022-12-05T08:57:21.405Z"
   },
   {
    "duration": 323,
    "start_time": "2022-12-05T08:57:33.183Z"
   },
   {
    "duration": 3,
    "start_time": "2022-12-05T08:57:58.495Z"
   },
   {
    "duration": 3,
    "start_time": "2022-12-05T08:57:58.912Z"
   },
   {
    "duration": 188276,
    "start_time": "2022-12-05T08:58:00.088Z"
   },
   {
    "duration": 4,
    "start_time": "2022-12-05T09:01:28.791Z"
   },
   {
    "duration": 645,
    "start_time": "2022-12-05T09:01:57.248Z"
   },
   {
    "duration": 778,
    "start_time": "2022-12-05T09:02:33.962Z"
   },
   {
    "duration": 1594,
    "start_time": "2022-12-05T09:02:44.995Z"
   },
   {
    "duration": 583,
    "start_time": "2022-12-05T09:03:22.791Z"
   },
   {
    "duration": 590,
    "start_time": "2022-12-05T09:03:28.536Z"
   },
   {
    "duration": 575,
    "start_time": "2022-12-05T09:03:31.310Z"
   },
   {
    "duration": 591,
    "start_time": "2022-12-05T09:03:33.405Z"
   },
   {
    "duration": 574,
    "start_time": "2022-12-05T09:03:35.241Z"
   },
   {
    "duration": 14,
    "start_time": "2022-12-05T09:03:39.575Z"
   },
   {
    "duration": 1012,
    "start_time": "2022-12-05T09:04:51.962Z"
   },
   {
    "duration": 85,
    "start_time": "2022-12-05T09:07:48.622Z"
   },
   {
    "duration": 74,
    "start_time": "2022-12-05T09:08:08.997Z"
   },
   {
    "duration": 83235,
    "start_time": "2022-12-05T09:09:43.220Z"
   },
   {
    "duration": 3,
    "start_time": "2022-12-05T09:11:40.998Z"
   },
   {
    "duration": 15,
    "start_time": "2022-12-05T09:11:44.268Z"
   },
   {
    "duration": 6,
    "start_time": "2022-12-05T09:12:30.158Z"
   },
   {
    "duration": 55664,
    "start_time": "2022-12-05T09:12:30.622Z"
   },
   {
    "duration": 5,
    "start_time": "2022-12-05T09:14:38.677Z"
   },
   {
    "duration": 47,
    "start_time": "2022-12-05T09:14:41.973Z"
   },
   {
    "duration": 3,
    "start_time": "2022-12-05T09:15:52.364Z"
   },
   {
    "duration": 26681,
    "start_time": "2022-12-05T09:15:53.445Z"
   },
   {
    "duration": 5,
    "start_time": "2022-12-05T09:17:15.404Z"
   },
   {
    "duration": 67,
    "start_time": "2022-12-05T09:17:16.180Z"
   },
   {
    "duration": 3,
    "start_time": "2022-12-05T09:17:54.034Z"
   },
   {
    "duration": 58806,
    "start_time": "2022-12-05T09:17:55.153Z"
   },
   {
    "duration": 4,
    "start_time": "2022-12-05T09:19:51.292Z"
   },
   {
    "duration": 70,
    "start_time": "2022-12-05T09:19:53.321Z"
   },
   {
    "duration": 678,
    "start_time": "2022-12-05T09:20:03.976Z"
   },
   {
    "duration": 709,
    "start_time": "2022-12-05T09:20:20.947Z"
   },
   {
    "duration": 719,
    "start_time": "2022-12-05T09:20:25.445Z"
   },
   {
    "duration": 77,
    "start_time": "2022-12-05T09:20:28.524Z"
   },
   {
    "duration": 85,
    "start_time": "2022-12-05T09:20:31.873Z"
   },
   {
    "duration": 76,
    "start_time": "2022-12-05T09:20:33.565Z"
   },
   {
    "duration": 81,
    "start_time": "2022-12-05T09:20:34.964Z"
   },
   {
    "duration": 76,
    "start_time": "2022-12-05T09:20:36.805Z"
   },
   {
    "duration": 17,
    "start_time": "2022-12-05T09:21:52.315Z"
   },
   {
    "duration": 18,
    "start_time": "2022-12-05T09:23:15.117Z"
   },
   {
    "duration": 22,
    "start_time": "2022-12-05T09:24:32.343Z"
   },
   {
    "duration": 16,
    "start_time": "2022-12-05T09:24:44.254Z"
   },
   {
    "duration": 25,
    "start_time": "2022-12-05T09:25:30.218Z"
   },
   {
    "duration": 16,
    "start_time": "2022-12-05T09:25:30.420Z"
   },
   {
    "duration": 1494,
    "start_time": "2022-12-05T09:25:36.388Z"
   },
   {
    "duration": 52,
    "start_time": "2022-12-05T09:25:37.884Z"
   },
   {
    "duration": 11,
    "start_time": "2022-12-05T09:25:37.938Z"
   },
   {
    "duration": 39,
    "start_time": "2022-12-05T09:25:37.950Z"
   },
   {
    "duration": 15,
    "start_time": "2022-12-05T09:25:37.991Z"
   },
   {
    "duration": 1074,
    "start_time": "2022-12-05T09:25:38.007Z"
   },
   {
    "duration": 9,
    "start_time": "2022-12-05T09:25:39.083Z"
   },
   {
    "duration": 13,
    "start_time": "2022-12-05T09:25:39.093Z"
   },
   {
    "duration": 9,
    "start_time": "2022-12-05T09:25:39.108Z"
   },
   {
    "duration": 13,
    "start_time": "2022-12-05T09:25:39.119Z"
   },
   {
    "duration": 6,
    "start_time": "2022-12-05T09:25:39.133Z"
   },
   {
    "duration": 5,
    "start_time": "2022-12-05T09:25:39.141Z"
   },
   {
    "duration": 100,
    "start_time": "2022-12-05T09:25:39.147Z"
   },
   {
    "duration": 7,
    "start_time": "2022-12-05T09:25:39.250Z"
   },
   {
    "duration": 4,
    "start_time": "2022-12-05T09:25:39.259Z"
   },
   {
    "duration": 36,
    "start_time": "2022-12-05T09:25:39.265Z"
   },
   {
    "duration": 11,
    "start_time": "2022-12-05T09:25:39.302Z"
   },
   {
    "duration": 7,
    "start_time": "2022-12-05T09:25:39.314Z"
   },
   {
    "duration": 25,
    "start_time": "2022-12-05T09:25:39.322Z"
   },
   {
    "duration": 16,
    "start_time": "2022-12-05T09:25:39.349Z"
   },
   {
    "duration": 3,
    "start_time": "2022-12-05T09:25:39.367Z"
   },
   {
    "duration": 37,
    "start_time": "2022-12-05T09:25:39.372Z"
   },
   {
    "duration": 3,
    "start_time": "2022-12-05T09:25:39.411Z"
   },
   {
    "duration": 42,
    "start_time": "2022-12-05T09:25:39.415Z"
   },
   {
    "duration": 27,
    "start_time": "2022-12-05T09:25:39.458Z"
   },
   {
    "duration": 29,
    "start_time": "2022-12-05T09:25:39.486Z"
   },
   {
    "duration": 4,
    "start_time": "2022-12-05T09:25:39.517Z"
   },
   {
    "duration": 789,
    "start_time": "2022-12-05T09:25:39.523Z"
   },
   {
    "duration": 298,
    "start_time": "2022-12-05T09:25:40.314Z"
   },
   {
    "duration": 100,
    "start_time": "2022-12-05T09:25:40.614Z"
   },
   {
    "duration": 4,
    "start_time": "2022-12-05T09:25:40.715Z"
   },
   {
    "duration": 23,
    "start_time": "2022-12-05T09:25:40.721Z"
   },
   {
    "duration": 5,
    "start_time": "2022-12-05T09:25:40.746Z"
   },
   {
    "duration": 8,
    "start_time": "2022-12-05T09:25:40.752Z"
   },
   {
    "duration": 16,
    "start_time": "2022-12-05T09:25:40.761Z"
   },
   {
    "duration": 6,
    "start_time": "2022-12-05T09:25:40.804Z"
   },
   {
    "duration": 1301,
    "start_time": "2022-12-05T09:25:40.811Z"
   },
   {
    "duration": 890,
    "start_time": "2022-12-05T09:25:42.114Z"
   },
   {
    "duration": 706,
    "start_time": "2022-12-05T09:25:43.006Z"
   },
   {
    "duration": 297,
    "start_time": "2022-12-05T09:25:43.714Z"
   },
   {
    "duration": 289,
    "start_time": "2022-12-05T09:25:44.017Z"
   },
   {
    "duration": 838,
    "start_time": "2022-12-05T09:25:44.308Z"
   },
   {
    "duration": 3,
    "start_time": "2022-12-05T09:25:45.147Z"
   },
   {
    "duration": 42,
    "start_time": "2022-12-05T09:25:45.152Z"
   },
   {
    "duration": 57884,
    "start_time": "2022-12-05T09:25:45.195Z"
   },
   {
    "duration": 3,
    "start_time": "2022-12-05T09:26:43.081Z"
   },
   {
    "duration": 150,
    "start_time": "2022-12-05T09:26:43.085Z"
   },
   {
    "duration": 0,
    "start_time": "2022-12-05T09:26:43.236Z"
   },
   {
    "duration": 0,
    "start_time": "2022-12-05T09:26:43.237Z"
   },
   {
    "duration": 43,
    "start_time": "2022-12-05T09:26:51.282Z"
   },
   {
    "duration": 51,
    "start_time": "2022-12-05T09:26:57.769Z"
   },
   {
    "duration": 53,
    "start_time": "2022-12-05T09:27:36.315Z"
   },
   {
    "duration": 50,
    "start_time": "2022-12-05T09:27:40.668Z"
   },
   {
    "duration": 142435,
    "start_time": "2022-12-05T09:28:17.325Z"
   },
   {
    "duration": 3,
    "start_time": "2022-12-05T09:30:42.566Z"
   },
   {
    "duration": 108,
    "start_time": "2022-12-05T09:30:45.317Z"
   },
   {
    "duration": 4,
    "start_time": "2022-12-05T09:31:51.771Z"
   },
   {
    "duration": 694,
    "start_time": "2022-12-05T09:31:52.189Z"
   },
   {
    "duration": 724,
    "start_time": "2022-12-05T09:31:55.654Z"
   },
   {
    "duration": 765,
    "start_time": "2022-12-05T09:31:59.810Z"
   },
   {
    "duration": 728,
    "start_time": "2022-12-05T09:32:03.028Z"
   },
   {
    "duration": 732,
    "start_time": "2022-12-05T09:32:06.096Z"
   },
   {
    "duration": 142,
    "start_time": "2022-12-05T09:32:14.371Z"
   },
   {
    "duration": 17,
    "start_time": "2022-12-05T09:32:26.518Z"
   },
   {
    "duration": 385,
    "start_time": "2022-12-05T09:32:40.868Z"
   },
   {
    "duration": 764,
    "start_time": "2022-12-05T09:32:46.486Z"
   },
   {
    "duration": 621,
    "start_time": "2022-12-05T09:32:56.766Z"
   },
   {
    "duration": 718,
    "start_time": "2022-12-05T09:33:08.775Z"
   },
   {
    "duration": 707,
    "start_time": "2022-12-05T09:33:20.145Z"
   },
   {
    "duration": 829,
    "start_time": "2022-12-05T09:33:36.058Z"
   },
   {
    "duration": 755,
    "start_time": "2022-12-05T09:33:44.095Z"
   },
   {
    "duration": 6,
    "start_time": "2022-12-05T09:33:53.317Z"
   },
   {
    "duration": 15,
    "start_time": "2022-12-05T09:35:56.282Z"
   },
   {
    "duration": 6,
    "start_time": "2022-12-05T09:35:56.741Z"
   },
   {
    "duration": 15,
    "start_time": "2022-12-05T09:36:04.437Z"
   },
   {
    "duration": 6,
    "start_time": "2022-12-05T09:36:04.763Z"
   },
   {
    "duration": 1202,
    "start_time": "2022-12-05T09:36:07.751Z"
   },
   {
    "duration": 411,
    "start_time": "2022-12-05T09:36:12.401Z"
   },
   {
    "duration": 307,
    "start_time": "2022-12-05T09:36:16.003Z"
   },
   {
    "duration": 480,
    "start_time": "2022-12-05T09:36:18.831Z"
   },
   {
    "duration": 199,
    "start_time": "2022-12-05T09:36:22.007Z"
   },
   {
    "duration": 722,
    "start_time": "2022-12-05T09:36:24.649Z"
   },
   {
    "duration": 58026,
    "start_time": "2022-12-05T09:37:07.319Z"
   },
   {
    "duration": 4,
    "start_time": "2022-12-05T09:38:22.017Z"
   },
   {
    "duration": 54,
    "start_time": "2022-12-05T09:38:25.433Z"
   },
   {
    "duration": 47,
    "start_time": "2022-12-05T09:38:34.718Z"
   },
   {
    "duration": 105837,
    "start_time": "2022-12-05T09:42:14.240Z"
   },
   {
    "duration": 4,
    "start_time": "2022-12-05T09:44:12.645Z"
   },
   {
    "duration": 55,
    "start_time": "2022-12-05T09:44:14.724Z"
   },
   {
    "duration": 71,
    "start_time": "2022-12-05T09:44:24.438Z"
   },
   {
    "duration": 6284,
    "start_time": "2022-12-05T09:44:24.822Z"
   },
   {
    "duration": 3,
    "start_time": "2022-12-05T09:44:39.686Z"
   },
   {
    "duration": 674861,
    "start_time": "2022-12-05T09:44:40.966Z"
   },
   {
    "duration": 4,
    "start_time": "2022-12-05T09:56:03.661Z"
   },
   {
    "duration": 1400,
    "start_time": "2022-12-05T09:56:09.752Z"
   },
   {
    "duration": 55,
    "start_time": "2022-12-05T09:56:12.038Z"
   },
   {
    "duration": 12,
    "start_time": "2022-12-05T09:56:12.721Z"
   },
   {
    "duration": 40,
    "start_time": "2022-12-05T09:56:15.078Z"
   },
   {
    "duration": 4,
    "start_time": "2022-12-05T09:56:17.349Z"
   },
   {
    "duration": 1056,
    "start_time": "2022-12-05T09:56:21.248Z"
   },
   {
    "duration": 11,
    "start_time": "2022-12-05T09:56:22.308Z"
   },
   {
    "duration": 4,
    "start_time": "2022-12-05T09:56:24.876Z"
   },
   {
    "duration": 5,
    "start_time": "2022-12-05T09:56:25.348Z"
   },
   {
    "duration": 5,
    "start_time": "2022-12-05T09:56:26.119Z"
   },
   {
    "duration": 8,
    "start_time": "2022-12-05T09:56:30.034Z"
   },
   {
    "duration": 4,
    "start_time": "2022-12-05T09:56:38.788Z"
   },
   {
    "duration": 9,
    "start_time": "2022-12-05T09:56:39.142Z"
   },
   {
    "duration": 9,
    "start_time": "2022-12-05T09:56:39.514Z"
   },
   {
    "duration": 4,
    "start_time": "2022-12-05T09:56:39.826Z"
   },
   {
    "duration": 90,
    "start_time": "2022-12-05T09:56:45.680Z"
   },
   {
    "duration": 6,
    "start_time": "2022-12-05T09:56:49.303Z"
   },
   {
    "duration": 3,
    "start_time": "2022-12-05T09:56:59.769Z"
   },
   {
    "duration": 18,
    "start_time": "2022-12-05T09:57:00.251Z"
   },
   {
    "duration": 19,
    "start_time": "2022-12-05T09:57:00.850Z"
   },
   {
    "duration": 4,
    "start_time": "2022-12-05T09:57:08.997Z"
   },
   {
    "duration": 25,
    "start_time": "2022-12-05T09:57:09.774Z"
   },
   {
    "duration": 17,
    "start_time": "2022-12-05T09:57:19.543Z"
   },
   {
    "duration": 3,
    "start_time": "2022-12-05T09:57:28.351Z"
   },
   {
    "duration": 42,
    "start_time": "2022-12-05T09:57:29.033Z"
   },
   {
    "duration": 39,
    "start_time": "2022-12-05T09:57:36.778Z"
   },
   {
    "duration": 18,
    "start_time": "2022-12-05T09:57:37.315Z"
   },
   {
    "duration": 3,
    "start_time": "2022-12-05T09:57:50.760Z"
   },
   {
    "duration": 787,
    "start_time": "2022-12-05T09:57:51.321Z"
   },
   {
    "duration": 734,
    "start_time": "2022-12-05T09:57:59.277Z"
   },
   {
    "duration": 773,
    "start_time": "2022-12-05T09:58:01.531Z"
   },
   {
    "duration": 754,
    "start_time": "2022-12-05T09:58:03.806Z"
   },
   {
    "duration": 267,
    "start_time": "2022-12-05T09:58:06.143Z"
   },
   {
    "duration": 12,
    "start_time": "2022-12-05T09:58:09.511Z"
   },
   {
    "duration": 4,
    "start_time": "2022-12-05T09:58:17.899Z"
   },
   {
    "duration": 17,
    "start_time": "2022-12-05T09:58:18.282Z"
   },
   {
    "duration": 6,
    "start_time": "2022-12-05T09:58:18.833Z"
   },
   {
    "duration": 3,
    "start_time": "2022-12-05T09:58:22.347Z"
   },
   {
    "duration": 15,
    "start_time": "2022-12-05T09:58:23.029Z"
   },
   {
    "duration": 5,
    "start_time": "2022-12-05T09:58:23.534Z"
   },
   {
    "duration": 981,
    "start_time": "2022-12-05T09:58:25.824Z"
   },
   {
    "duration": 409,
    "start_time": "2022-12-05T09:58:29.885Z"
   },
   {
    "duration": 302,
    "start_time": "2022-12-05T09:58:32.811Z"
   },
   {
    "duration": 278,
    "start_time": "2022-12-05T09:58:36.628Z"
   },
   {
    "duration": 107,
    "start_time": "2022-12-05T09:58:39.507Z"
   },
   {
    "duration": 780,
    "start_time": "2022-12-05T09:58:44.960Z"
   },
   {
    "duration": 2,
    "start_time": "2022-12-05T09:58:51.512Z"
   },
   {
    "duration": 3,
    "start_time": "2022-12-05T09:59:14.524Z"
   },
   {
    "duration": 70415,
    "start_time": "2022-12-05T09:59:33.354Z"
   },
   {
    "duration": 4,
    "start_time": "2022-12-05T10:00:49.471Z"
   },
   {
    "duration": 104,
    "start_time": "2022-12-05T10:00:54.461Z"
   },
   {
    "duration": 108,
    "start_time": "2022-12-05T10:00:59.010Z"
   },
   {
    "duration": 2,
    "start_time": "2022-12-05T10:05:41.392Z"
   },
   {
    "duration": 4,
    "start_time": "2022-12-05T10:05:41.765Z"
   },
   {
    "duration": 160542,
    "start_time": "2022-12-05T10:05:41.966Z"
   },
   {
    "duration": 4,
    "start_time": "2022-12-05T10:08:54.314Z"
   },
   {
    "duration": 114,
    "start_time": "2022-12-05T10:08:58.628Z"
   },
   {
    "duration": 112,
    "start_time": "2022-12-05T10:09:06.208Z"
   },
   {
    "duration": 106,
    "start_time": "2022-12-05T10:09:07.831Z"
   },
   {
    "duration": 3,
    "start_time": "2022-12-05T10:09:21.396Z"
   },
   {
    "duration": 78663,
    "start_time": "2022-12-05T10:09:21.767Z"
   },
   {
    "duration": 3,
    "start_time": "2022-12-05T10:10:44.784Z"
   },
   {
    "duration": 117,
    "start_time": "2022-12-05T10:10:46.845Z"
   },
   {
    "duration": 119,
    "start_time": "2022-12-05T10:28:04.491Z"
   },
   {
    "duration": 113,
    "start_time": "2022-12-05T10:28:10.928Z"
   },
   {
    "duration": 112,
    "start_time": "2022-12-05T10:28:42.035Z"
   },
   {
    "duration": 3,
    "start_time": "2022-12-05T10:32:24.274Z"
   },
   {
    "duration": 3,
    "start_time": "2022-12-05T10:32:24.525Z"
   },
   {
    "duration": 38107,
    "start_time": "2022-12-05T10:32:24.972Z"
   },
   {
    "duration": 1116,
    "start_time": "2022-12-05T10:35:51.542Z"
   },
   {
    "duration": 1146,
    "start_time": "2022-12-05T10:36:02.926Z"
   },
   {
    "duration": 1115,
    "start_time": "2022-12-05T10:36:32.772Z"
   },
   {
    "duration": 3,
    "start_time": "2022-12-05T10:39:57.845Z"
   },
   {
    "duration": 3,
    "start_time": "2022-12-05T10:39:58.299Z"
   },
   {
    "duration": 76650,
    "start_time": "2022-12-05T10:39:58.995Z"
   },
   {
    "duration": 4,
    "start_time": "2022-12-05T10:41:39.186Z"
   },
   {
    "duration": 116,
    "start_time": "2022-12-05T10:41:40.518Z"
   },
   {
    "duration": 3,
    "start_time": "2022-12-05T10:42:25.122Z"
   },
   {
    "duration": 149467,
    "start_time": "2022-12-05T10:42:25.546Z"
   },
   {
    "duration": 4,
    "start_time": "2022-12-05T10:44:55.015Z"
   },
   {
    "duration": 123,
    "start_time": "2022-12-05T10:45:46.082Z"
   },
   {
    "duration": 3,
    "start_time": "2022-12-05T10:47:49.223Z"
   },
   {
    "duration": 145573,
    "start_time": "2022-12-05T10:47:49.585Z"
   },
   {
    "duration": 4,
    "start_time": "2022-12-05T10:50:30.268Z"
   },
   {
    "duration": 54,
    "start_time": "2022-12-05T10:51:41.360Z"
   },
   {
    "duration": 13,
    "start_time": "2022-12-05T10:52:04.984Z"
   },
   {
    "duration": 105568,
    "start_time": "2022-12-05T10:52:15.423Z"
   },
   {
    "duration": 12,
    "start_time": "2022-12-05T10:54:00.992Z"
   },
   {
    "duration": 58,
    "start_time": "2022-12-05T10:54:45.384Z"
   },
   {
    "duration": 7,
    "start_time": "2022-12-05T11:00:10.204Z"
   },
   {
    "duration": 3,
    "start_time": "2022-12-05T11:04:19.454Z"
   },
   {
    "duration": 104537,
    "start_time": "2022-12-05T11:04:19.778Z"
   },
   {
    "duration": 4,
    "start_time": "2022-12-05T11:06:53.799Z"
   },
   {
    "duration": 72,
    "start_time": "2022-12-05T11:06:57.928Z"
   },
   {
    "duration": 55,
    "start_time": "2022-12-05T11:11:11.452Z"
   },
   {
    "duration": 11,
    "start_time": "2022-12-05T11:21:48.689Z"
   },
   {
    "duration": 214,
    "start_time": "2022-12-05T11:22:03.658Z"
   },
   {
    "duration": 1399,
    "start_time": "2022-12-05T11:24:54.828Z"
   },
   {
    "duration": 54,
    "start_time": "2022-12-05T11:24:56.229Z"
   },
   {
    "duration": 12,
    "start_time": "2022-12-05T11:24:56.285Z"
   },
   {
    "duration": 74,
    "start_time": "2022-12-05T11:24:56.298Z"
   },
   {
    "duration": 7,
    "start_time": "2022-12-05T11:24:56.374Z"
   },
   {
    "duration": 1201,
    "start_time": "2022-12-05T11:24:56.383Z"
   },
   {
    "duration": 26,
    "start_time": "2022-12-05T11:24:57.585Z"
   },
   {
    "duration": 5,
    "start_time": "2022-12-05T11:24:57.613Z"
   },
   {
    "duration": 10,
    "start_time": "2022-12-05T11:24:57.620Z"
   },
   {
    "duration": 15,
    "start_time": "2022-12-05T11:24:57.632Z"
   },
   {
    "duration": 21,
    "start_time": "2022-12-05T11:24:57.650Z"
   },
   {
    "duration": 6,
    "start_time": "2022-12-05T11:24:57.675Z"
   },
   {
    "duration": 135,
    "start_time": "2022-12-05T11:24:57.684Z"
   },
   {
    "duration": 11,
    "start_time": "2022-12-05T11:24:57.823Z"
   },
   {
    "duration": 28,
    "start_time": "2022-12-05T11:24:57.835Z"
   },
   {
    "duration": 4,
    "start_time": "2022-12-05T11:24:57.865Z"
   },
   {
    "duration": 21,
    "start_time": "2022-12-05T11:24:57.871Z"
   },
   {
    "duration": 26,
    "start_time": "2022-12-05T11:24:57.894Z"
   },
   {
    "duration": 4,
    "start_time": "2022-12-05T11:24:57.921Z"
   },
   {
    "duration": 34,
    "start_time": "2022-12-05T11:24:57.926Z"
   },
   {
    "duration": 48,
    "start_time": "2022-12-05T11:24:57.962Z"
   },
   {
    "duration": 6,
    "start_time": "2022-12-05T11:24:58.012Z"
   },
   {
    "duration": 53,
    "start_time": "2022-12-05T11:24:58.020Z"
   },
   {
    "duration": 59,
    "start_time": "2022-12-05T11:24:58.075Z"
   },
   {
    "duration": 23,
    "start_time": "2022-12-05T11:24:58.136Z"
   },
   {
    "duration": 8,
    "start_time": "2022-12-05T11:24:58.161Z"
   },
   {
    "duration": 946,
    "start_time": "2022-12-05T11:24:58.171Z"
   },
   {
    "duration": 296,
    "start_time": "2022-12-05T11:24:59.118Z"
   },
   {
    "duration": 14,
    "start_time": "2022-12-05T11:24:59.505Z"
   },
   {
    "duration": 14,
    "start_time": "2022-12-05T11:24:59.521Z"
   },
   {
    "duration": 38,
    "start_time": "2022-12-05T11:24:59.537Z"
   },
   {
    "duration": 11,
    "start_time": "2022-12-05T11:24:59.577Z"
   },
   {
    "duration": 27,
    "start_time": "2022-12-05T11:24:59.590Z"
   },
   {
    "duration": 26,
    "start_time": "2022-12-05T11:24:59.619Z"
   },
   {
    "duration": 15,
    "start_time": "2022-12-05T11:24:59.646Z"
   },
   {
    "duration": 1135,
    "start_time": "2022-12-05T11:24:59.663Z"
   },
   {
    "duration": 464,
    "start_time": "2022-12-05T11:25:00.803Z"
   },
   {
    "duration": 436,
    "start_time": "2022-12-05T11:25:01.269Z"
   },
   {
    "duration": 204,
    "start_time": "2022-12-05T11:25:01.707Z"
   },
   {
    "duration": 205,
    "start_time": "2022-12-05T11:25:01.913Z"
   },
   {
    "duration": 820,
    "start_time": "2022-12-05T11:25:02.208Z"
   },
   {
    "duration": 3,
    "start_time": "2022-12-05T11:25:03.030Z"
   },
   {
    "duration": 30,
    "start_time": "2022-12-05T11:25:03.035Z"
   },
   {
    "duration": 145735,
    "start_time": "2022-12-05T11:25:03.066Z"
   },
   {
    "duration": 4,
    "start_time": "2022-12-05T11:27:28.805Z"
   },
   {
    "duration": 129,
    "start_time": "2022-12-05T11:27:28.811Z"
   },
   {
    "duration": 3,
    "start_time": "2022-12-05T11:27:28.942Z"
   },
   {
    "duration": 103921,
    "start_time": "2022-12-05T11:27:28.946Z"
   },
   {
    "duration": 4,
    "start_time": "2022-12-05T11:29:12.869Z"
   },
   {
    "duration": 96,
    "start_time": "2022-12-05T11:29:12.874Z"
   },
   {
    "duration": 181,
    "start_time": "2022-12-05T11:29:12.972Z"
   },
   {
    "duration": 1441,
    "start_time": "2022-12-06T06:44:32.076Z"
   },
   {
    "duration": 165,
    "start_time": "2022-12-06T06:44:33.535Z"
   },
   {
    "duration": 13,
    "start_time": "2022-12-06T06:44:34.350Z"
   },
   {
    "duration": 13,
    "start_time": "2022-12-06T06:44:51.932Z"
   },
   {
    "duration": 41,
    "start_time": "2022-12-06T06:44:52.314Z"
   },
   {
    "duration": 4,
    "start_time": "2022-12-06T06:44:56.294Z"
   },
   {
    "duration": 1231,
    "start_time": "2022-12-06T06:44:56.999Z"
   },
   {
    "duration": 10,
    "start_time": "2022-12-06T06:44:59.044Z"
   },
   {
    "duration": 5,
    "start_time": "2022-12-06T06:44:59.458Z"
   },
   {
    "duration": 5,
    "start_time": "2022-12-06T06:44:59.946Z"
   },
   {
    "duration": 7,
    "start_time": "2022-12-06T06:45:01.596Z"
   },
   {
    "duration": 6,
    "start_time": "2022-12-06T06:45:06.696Z"
   },
   {
    "duration": 5,
    "start_time": "2022-12-06T06:45:07.509Z"
   },
   {
    "duration": 10,
    "start_time": "2022-12-06T06:45:07.780Z"
   },
   {
    "duration": 8,
    "start_time": "2022-12-06T06:45:08.050Z"
   },
   {
    "duration": 5,
    "start_time": "2022-12-06T06:45:08.413Z"
   },
   {
    "duration": 3,
    "start_time": "2022-12-06T06:45:11.664Z"
   },
   {
    "duration": 25,
    "start_time": "2022-12-06T06:48:18.725Z"
   },
   {
    "duration": 20,
    "start_time": "2022-12-06T06:48:25.383Z"
   },
   {
    "duration": 21,
    "start_time": "2022-12-06T06:48:30.451Z"
   },
   {
    "duration": 26,
    "start_time": "2022-12-06T06:49:25.858Z"
   },
   {
    "duration": 18,
    "start_time": "2022-12-06T06:49:31.412Z"
   },
   {
    "duration": 125,
    "start_time": "2022-12-06T06:51:53.848Z"
   },
   {
    "duration": 4,
    "start_time": "2022-12-06T06:52:12.507Z"
   },
   {
    "duration": 46,
    "start_time": "2022-12-06T06:52:12.720Z"
   },
   {
    "duration": 12,
    "start_time": "2022-12-06T06:52:12.947Z"
   },
   {
    "duration": 39,
    "start_time": "2022-12-06T06:52:13.122Z"
   },
   {
    "duration": 4,
    "start_time": "2022-12-06T06:52:13.780Z"
   },
   {
    "duration": 1176,
    "start_time": "2022-12-06T06:52:14.213Z"
   },
   {
    "duration": 10,
    "start_time": "2022-12-06T06:52:15.391Z"
   },
   {
    "duration": 20,
    "start_time": "2022-12-06T06:52:15.403Z"
   },
   {
    "duration": 6,
    "start_time": "2022-12-06T06:52:15.426Z"
   },
   {
    "duration": 20,
    "start_time": "2022-12-06T06:52:15.434Z"
   },
   {
    "duration": 5,
    "start_time": "2022-12-06T06:52:19.753Z"
   },
   {
    "duration": 3,
    "start_time": "2022-12-06T06:52:23.121Z"
   },
   {
    "duration": 10,
    "start_time": "2022-12-06T06:52:23.211Z"
   },
   {
    "duration": 8,
    "start_time": "2022-12-06T06:52:23.472Z"
   },
   {
    "duration": 4,
    "start_time": "2022-12-06T06:52:23.806Z"
   },
   {
    "duration": 17,
    "start_time": "2022-12-06T06:52:25.027Z"
   },
   {
    "duration": 18,
    "start_time": "2022-12-06T06:52:25.374Z"
   },
   {
    "duration": 17,
    "start_time": "2022-12-06T06:52:28.874Z"
   },
   {
    "duration": 26,
    "start_time": "2022-12-06T06:52:43.907Z"
   },
   {
    "duration": 17,
    "start_time": "2022-12-06T06:52:54.634Z"
   },
   {
    "duration": 5,
    "start_time": "2022-12-06T06:53:15.456Z"
   },
   {
    "duration": 45,
    "start_time": "2022-12-06T06:53:15.577Z"
   },
   {
    "duration": 12,
    "start_time": "2022-12-06T06:53:15.773Z"
   },
   {
    "duration": 39,
    "start_time": "2022-12-06T06:53:16.029Z"
   },
   {
    "duration": 4,
    "start_time": "2022-12-06T06:53:16.666Z"
   },
   {
    "duration": 1068,
    "start_time": "2022-12-06T06:53:17.064Z"
   },
   {
    "duration": 10,
    "start_time": "2022-12-06T06:53:18.133Z"
   },
   {
    "duration": 5,
    "start_time": "2022-12-06T06:53:18.144Z"
   },
   {
    "duration": 6,
    "start_time": "2022-12-06T06:53:18.151Z"
   },
   {
    "duration": 5,
    "start_time": "2022-12-06T06:53:18.159Z"
   },
   {
    "duration": 7,
    "start_time": "2022-12-06T06:53:19.402Z"
   },
   {
    "duration": 4,
    "start_time": "2022-12-06T06:53:20.005Z"
   },
   {
    "duration": 8,
    "start_time": "2022-12-06T06:53:20.233Z"
   },
   {
    "duration": 8,
    "start_time": "2022-12-06T06:53:20.424Z"
   },
   {
    "duration": 4,
    "start_time": "2022-12-06T06:53:20.669Z"
   },
   {
    "duration": 19,
    "start_time": "2022-12-06T06:53:21.618Z"
   },
   {
    "duration": 23,
    "start_time": "2022-12-06T06:53:21.847Z"
   },
   {
    "duration": 143,
    "start_time": "2022-12-06T06:53:23.062Z"
   },
   {
    "duration": 18,
    "start_time": "2022-12-06T06:53:23.869Z"
   },
   {
    "duration": 19,
    "start_time": "2022-12-06T06:53:30.690Z"
   },
   {
    "duration": 3,
    "start_time": "2022-12-06T06:55:17.075Z"
   },
   {
    "duration": 42,
    "start_time": "2022-12-06T06:55:17.356Z"
   },
   {
    "duration": 24,
    "start_time": "2022-12-06T06:57:09.691Z"
   },
   {
    "duration": 18,
    "start_time": "2022-12-06T06:57:11.449Z"
   },
   {
    "duration": 16,
    "start_time": "2022-12-06T06:57:15.346Z"
   },
   {
    "duration": 20,
    "start_time": "2022-12-06T06:57:19.862Z"
   },
   {
    "duration": 3,
    "start_time": "2022-12-06T06:59:35.035Z"
   },
   {
    "duration": 785,
    "start_time": "2022-12-06T06:59:35.697Z"
   },
   {
    "duration": 234,
    "start_time": "2022-12-06T06:59:37.688Z"
   },
   {
    "duration": 14,
    "start_time": "2022-12-06T06:59:46.364Z"
   },
   {
    "duration": 5,
    "start_time": "2022-12-06T06:59:49.186Z"
   },
   {
    "duration": 18,
    "start_time": "2022-12-06T06:59:49.587Z"
   },
   {
    "duration": 6,
    "start_time": "2022-12-06T06:59:49.969Z"
   },
   {
    "duration": 6,
    "start_time": "2022-12-06T06:59:50.983Z"
   },
   {
    "duration": 16,
    "start_time": "2022-12-06T06:59:54.794Z"
   },
   {
    "duration": 6,
    "start_time": "2022-12-06T06:59:55.384Z"
   },
   {
    "duration": 1061,
    "start_time": "2022-12-06T06:59:57.028Z"
   },
   {
    "duration": 436,
    "start_time": "2022-12-06T07:00:01.335Z"
   },
   {
    "duration": 272,
    "start_time": "2022-12-06T07:00:03.849Z"
   },
   {
    "duration": 171,
    "start_time": "2022-12-06T07:00:07.151Z"
   },
   {
    "duration": 314,
    "start_time": "2022-12-06T07:00:13.010Z"
   },
   {
    "duration": 741,
    "start_time": "2022-12-06T07:00:18.172Z"
   },
   {
    "duration": 9,
    "start_time": "2022-12-06T07:02:21.887Z"
   },
   {
    "duration": 100,
    "start_time": "2022-12-06T07:13:45.580Z"
   },
   {
    "duration": 15397,
    "start_time": "2022-12-06T07:13:56.853Z"
   },
   {
    "duration": 3,
    "start_time": "2022-12-06T07:14:23.279Z"
   },
   {
    "duration": 101213,
    "start_time": "2022-12-06T07:14:23.646Z"
   },
   {
    "duration": 3,
    "start_time": "2022-12-06T07:16:04.861Z"
   },
   {
    "duration": 52,
    "start_time": "2022-12-06T07:16:22.619Z"
   },
   {
    "duration": 187,
    "start_time": "2022-12-06T07:16:30.106Z"
   },
   {
    "duration": 1346,
    "start_time": "2022-12-06T07:18:49.149Z"
   },
   {
    "duration": 51,
    "start_time": "2022-12-06T07:18:50.497Z"
   },
   {
    "duration": 12,
    "start_time": "2022-12-06T07:18:50.550Z"
   },
   {
    "duration": 41,
    "start_time": "2022-12-06T07:18:50.564Z"
   },
   {
    "duration": 5,
    "start_time": "2022-12-06T07:18:50.622Z"
   },
   {
    "duration": 1131,
    "start_time": "2022-12-06T07:18:50.629Z"
   },
   {
    "duration": 11,
    "start_time": "2022-12-06T07:18:51.762Z"
   },
   {
    "duration": 4,
    "start_time": "2022-12-06T07:18:51.775Z"
   },
   {
    "duration": 12,
    "start_time": "2022-12-06T07:18:51.781Z"
   },
   {
    "duration": 27,
    "start_time": "2022-12-06T07:18:51.795Z"
   },
   {
    "duration": 21,
    "start_time": "2022-12-06T07:18:51.824Z"
   },
   {
    "duration": 92,
    "start_time": "2022-12-06T07:18:51.847Z"
   },
   {
    "duration": 14,
    "start_time": "2022-12-06T07:18:51.941Z"
   },
   {
    "duration": 21,
    "start_time": "2022-12-06T07:18:51.957Z"
   },
   {
    "duration": 8,
    "start_time": "2022-12-06T07:18:51.979Z"
   },
   {
    "duration": 22,
    "start_time": "2022-12-06T07:18:51.988Z"
   },
   {
    "duration": 24,
    "start_time": "2022-12-06T07:18:52.012Z"
   },
   {
    "duration": 36,
    "start_time": "2022-12-06T07:18:52.037Z"
   },
   {
    "duration": 18,
    "start_time": "2022-12-06T07:18:52.075Z"
   },
   {
    "duration": 37,
    "start_time": "2022-12-06T07:18:52.094Z"
   },
   {
    "duration": 7,
    "start_time": "2022-12-06T07:18:52.133Z"
   },
   {
    "duration": 30,
    "start_time": "2022-12-06T07:18:52.142Z"
   },
   {
    "duration": 19,
    "start_time": "2022-12-06T07:18:52.174Z"
   },
   {
    "duration": 2,
    "start_time": "2022-12-06T07:18:52.195Z"
   },
   {
    "duration": 24,
    "start_time": "2022-12-06T07:18:52.199Z"
   },
   {
    "duration": 807,
    "start_time": "2022-12-06T07:18:52.225Z"
   },
   {
    "duration": 290,
    "start_time": "2022-12-06T07:18:53.033Z"
   },
   {
    "duration": 105,
    "start_time": "2022-12-06T07:18:53.327Z"
   },
   {
    "duration": 8,
    "start_time": "2022-12-06T07:18:53.434Z"
   },
   {
    "duration": 42,
    "start_time": "2022-12-06T07:18:53.443Z"
   },
   {
    "duration": 6,
    "start_time": "2022-12-06T07:18:53.487Z"
   },
   {
    "duration": 12,
    "start_time": "2022-12-06T07:18:53.495Z"
   },
   {
    "duration": 41,
    "start_time": "2022-12-06T07:18:53.508Z"
   },
   {
    "duration": 15,
    "start_time": "2022-12-06T07:18:53.551Z"
   },
   {
    "duration": 1089,
    "start_time": "2022-12-06T07:18:53.567Z"
   },
   {
    "duration": 430,
    "start_time": "2022-12-06T07:18:54.658Z"
   },
   {
    "duration": 334,
    "start_time": "2022-12-06T07:18:55.090Z"
   },
   {
    "duration": 301,
    "start_time": "2022-12-06T07:18:55.426Z"
   },
   {
    "duration": 109,
    "start_time": "2022-12-06T07:18:55.821Z"
   },
   {
    "duration": 849,
    "start_time": "2022-12-06T07:18:55.932Z"
   },
   {
    "duration": 15241,
    "start_time": "2022-12-06T07:18:56.783Z"
   },
   {
    "duration": 2,
    "start_time": "2022-12-06T07:19:12.026Z"
   },
   {
    "duration": 99035,
    "start_time": "2022-12-06T07:19:12.030Z"
   },
   {
    "duration": 4,
    "start_time": "2022-12-06T07:20:51.066Z"
   },
   {
    "duration": 62,
    "start_time": "2022-12-06T07:20:51.072Z"
   },
   {
    "duration": 188,
    "start_time": "2022-12-06T07:20:51.136Z"
   }
  ],
  "kernelspec": {
   "display_name": "Python 3 (ipykernel)",
   "language": "python",
   "name": "python3"
  },
  "language_info": {
   "codemirror_mode": {
    "name": "ipython",
    "version": 3
   },
   "file_extension": ".py",
   "mimetype": "text/x-python",
   "name": "python",
   "nbconvert_exporter": "python",
   "pygments_lexer": "ipython3",
   "version": "3.9.5"
  },
  "toc": {
   "base_numbering": 1,
   "nav_menu": {},
   "number_sections": true,
   "sideBar": true,
   "skip_h1_title": true,
   "title_cell": "Содержание",
   "title_sidebar": "Contents",
   "toc_cell": true,
   "toc_position": {
    "height": "calc(100% - 180px)",
    "left": "10px",
    "top": "150px",
    "width": "295.888px"
   },
   "toc_section_display": true,
   "toc_window_display": true
  }
 },
 "nbformat": 4,
 "nbformat_minor": 2
}
