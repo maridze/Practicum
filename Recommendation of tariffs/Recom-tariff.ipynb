{
 "cells": [
  {
   "attachments": {},
   "cell_type": "markdown",
   "metadata": {},
   "source": [
    "# Рекомендация тарифов"
   ]
  },
  {
   "attachments": {},
   "cell_type": "markdown",
   "metadata": {},
   "source": [
    "В вашем распоряжении данные о поведении клиентов, которые уже перешли на эти тарифы (из проекта курса «Статистический анализ данных»). Нужно построить модель для задачи классификации, которая выберет подходящий тариф. Предобработка данных не понадобится — вы её уже сделали.\n",
    "\n",
    "Постройте модель с максимально большим значением *accuracy*. Чтобы сдать проект успешно, нужно довести долю правильных ответов по крайней мере до 0.75. Проверьте *accuracy* на тестовой выборке самостоятельно."
   ]
  },
  {
   "attachments": {},
   "cell_type": "markdown",
   "metadata": {},
   "source": [
    "## Откройте и изучите файл"
   ]
  },
  {
   "cell_type": "code",
   "execution_count": 18,
   "metadata": {},
   "outputs": [],
   "source": [
    "import pandas as pd\n",
    "import numpy as np\n",
    "from sklearn.model_selection import train_test_split\n",
    "from sklearn.tree import DecisionTreeClassifier\n",
    "from sklearn.metrics import accuracy_score\n",
    "import seaborn as sns\n",
    "import matplotlib.pyplot as plt\n",
    "from sklearn.ensemble import RandomForestClassifier\n",
    "from sklearn.linear_model import LogisticRegression\n",
    "import warnings\n",
    "warnings.filterwarnings('ignore')\n",
    "from sklearn.dummy import DummyClassifier"
   ]
  },
  {
   "cell_type": "code",
   "execution_count": 2,
   "metadata": {},
   "outputs": [
    {
     "data": {
      "text/html": [
       "<div>\n",
       "<style scoped>\n",
       "    .dataframe tbody tr th:only-of-type {\n",
       "        vertical-align: middle;\n",
       "    }\n",
       "\n",
       "    .dataframe tbody tr th {\n",
       "        vertical-align: top;\n",
       "    }\n",
       "\n",
       "    .dataframe thead th {\n",
       "        text-align: right;\n",
       "    }\n",
       "</style>\n",
       "<table border=\"1\" class=\"dataframe\">\n",
       "  <thead>\n",
       "    <tr style=\"text-align: right;\">\n",
       "      <th></th>\n",
       "      <th>calls</th>\n",
       "      <th>minutes</th>\n",
       "      <th>messages</th>\n",
       "      <th>mb_used</th>\n",
       "      <th>is_ultra</th>\n",
       "    </tr>\n",
       "  </thead>\n",
       "  <tbody>\n",
       "    <tr>\n",
       "      <th>0</th>\n",
       "      <td>40.0</td>\n",
       "      <td>311.90</td>\n",
       "      <td>83.0</td>\n",
       "      <td>19915.42</td>\n",
       "      <td>0</td>\n",
       "    </tr>\n",
       "    <tr>\n",
       "      <th>1</th>\n",
       "      <td>85.0</td>\n",
       "      <td>516.75</td>\n",
       "      <td>56.0</td>\n",
       "      <td>22696.96</td>\n",
       "      <td>0</td>\n",
       "    </tr>\n",
       "    <tr>\n",
       "      <th>2</th>\n",
       "      <td>77.0</td>\n",
       "      <td>467.66</td>\n",
       "      <td>86.0</td>\n",
       "      <td>21060.45</td>\n",
       "      <td>0</td>\n",
       "    </tr>\n",
       "    <tr>\n",
       "      <th>3</th>\n",
       "      <td>106.0</td>\n",
       "      <td>745.53</td>\n",
       "      <td>81.0</td>\n",
       "      <td>8437.39</td>\n",
       "      <td>1</td>\n",
       "    </tr>\n",
       "    <tr>\n",
       "      <th>4</th>\n",
       "      <td>66.0</td>\n",
       "      <td>418.74</td>\n",
       "      <td>1.0</td>\n",
       "      <td>14502.75</td>\n",
       "      <td>0</td>\n",
       "    </tr>\n",
       "  </tbody>\n",
       "</table>\n",
       "</div>"
      ],
      "text/plain": [
       "   calls  minutes  messages   mb_used  is_ultra\n",
       "0   40.0   311.90      83.0  19915.42         0\n",
       "1   85.0   516.75      56.0  22696.96         0\n",
       "2   77.0   467.66      86.0  21060.45         0\n",
       "3  106.0   745.53      81.0   8437.39         1\n",
       "4   66.0   418.74       1.0  14502.75         0"
      ]
     },
     "execution_count": 2,
     "metadata": {},
     "output_type": "execute_result"
    }
   ],
   "source": [
    "data = pd.read_csv('/datasets/users_behavior.csv')\n",
    "data.head()"
   ]
  },
  {
   "cell_type": "code",
   "execution_count": 3,
   "metadata": {},
   "outputs": [
    {
     "data": {
      "text/plain": [
       "(3214, 5)"
      ]
     },
     "execution_count": 3,
     "metadata": {},
     "output_type": "execute_result"
    }
   ],
   "source": [
    "data.shape"
   ]
  },
  {
   "cell_type": "code",
   "execution_count": 4,
   "metadata": {},
   "outputs": [
    {
     "name": "stdout",
     "output_type": "stream",
     "text": [
      "<class 'pandas.core.frame.DataFrame'>\n",
      "RangeIndex: 3214 entries, 0 to 3213\n",
      "Data columns (total 5 columns):\n",
      " #   Column    Non-Null Count  Dtype  \n",
      "---  ------    --------------  -----  \n",
      " 0   calls     3214 non-null   float64\n",
      " 1   minutes   3214 non-null   float64\n",
      " 2   messages  3214 non-null   float64\n",
      " 3   mb_used   3214 non-null   float64\n",
      " 4   is_ultra  3214 non-null   int64  \n",
      "dtypes: float64(4), int64(1)\n",
      "memory usage: 125.7 KB\n"
     ]
    }
   ],
   "source": [
    "data.info()"
   ]
  },
  {
   "attachments": {},
   "cell_type": "markdown",
   "metadata": {},
   "source": [
    "### Вывод\n",
    "Каждый объект в наборе данных — это информация о поведении одного пользователя за месяц. Известно:\n",
    "* сalls — количество звонков,\n",
    "* minutes — суммарная длительность звонков в минутах,\n",
    "* messages — количество sms-сообщений,\n",
    "* mb_used — израсходованный интернет-трафик в Мб,\n",
    "* is_ultra — каким тарифом пользовался в течение месяца («Ультра» — 1, «Смарт» — 0). Целевой признак.\n",
    "\n",
    "По этим данным решается задача классификации, которая выберет подходящий тариф. Метрикой является accuracy."
   ]
  },
  {
   "attachments": {},
   "cell_type": "markdown",
   "metadata": {},
   "source": [
    "## Разбейте данные на выборки"
   ]
  },
  {
   "cell_type": "code",
   "execution_count": 5,
   "metadata": {
    "scrolled": true
   },
   "outputs": [
    {
     "name": "stdout",
     "output_type": "stream",
     "text": [
      "(1928, 4)\n",
      "(1928,)\n",
      "(643, 4)\n",
      "(643,)\n",
      "(643, 4)\n",
      "(643,)\n"
     ]
    }
   ],
   "source": [
    "X = data.drop(columns = ['is_ultra'])\n",
    "y = data['is_ultra']\n",
    "\n",
    "X_train, X_rem, y_train, y_rem = train_test_split(X,y, train_size=0.6)\n",
    "\n",
    "X_valid, X_test, y_valid, y_test = train_test_split(X_rem,y_rem, test_size=0.5)\n",
    "\n",
    "print(X_train.shape), print(y_train.shape)\n",
    "print(X_valid.shape), print(y_valid.shape)\n",
    "print(X_test.shape), print(y_test.shape);"
   ]
  },
  {
   "attachments": {},
   "cell_type": "markdown",
   "metadata": {},
   "source": [
    "Таким образом я поделил исходные данные на 3 выборки в отношении 3:1:1."
   ]
  },
  {
   "attachments": {},
   "cell_type": "markdown",
   "metadata": {},
   "source": [
    "## Исследуйте модели"
   ]
  },
  {
   "attachments": {},
   "cell_type": "markdown",
   "metadata": {},
   "source": [
    "### Решающее дерево"
   ]
  },
  {
   "cell_type": "code",
   "execution_count": 6,
   "metadata": {},
   "outputs": [
    {
     "name": "stdout",
     "output_type": "stream",
     "text": [
      "Accuracy наилучшей модели на валидационной выборке: 0.8133748055987559 Критерий: entropy Максимальная глубина: 5\n"
     ]
    },
    {
     "data": {
      "image/png": "[encoded data removed]",
      "text/plain": [
       "<Figure size 432x288 with 1 Axes>"
      ]
     },
     "metadata": {
      "needs_background": "light"
     },
     "output_type": "display_data"
    }
   ],
   "source": [
    "DTC_df = pd.DataFrame({'depth': range(1, 20),'gini':np.nan,'entropy':np.nan})\n",
    "best_result = 0\n",
    "best_criterion = 0\n",
    "best_depth = 0\n",
    "for criterion in ['gini', 'entropy']:\n",
    "    for depth in range(1, 20):\n",
    "        model = DecisionTreeClassifier(random_state=24145, criterion=criterion, max_depth=depth)\n",
    "        model.fit(X_train, y_train)\n",
    "        predictions_valid = model.predict(X_valid)\n",
    "        result = accuracy_score(y_valid, predictions_valid)\n",
    "        DTC_df.loc[depth-1, criterion] = result\n",
    "        if result > best_result:\n",
    "            DTC_best_model = model\n",
    "            best_result = result\n",
    "            best_criterion = criterion\n",
    "            best_depth = depth\n",
    "sns.lineplot(data=DTC_df, x=\"depth\", y=\"gini\", marker=\"o\")\n",
    "sns.lineplot(data=DTC_df, x=\"depth\", y=\"entropy\", marker=\"o\");\n",
    "plt.legend([\"gini\", 'entropy'])\n",
    "plt.ylabel('accuracy');\n",
    "print(\"Accuracy наилучшей модели на валидационной выборке:\", best_result, \n",
    "      \"Критерий:\", best_criterion, \n",
    "      \"Максимальная глубина:\", best_depth)"
   ]
  },
  {
   "attachments": {},
   "cell_type": "markdown",
   "metadata": {},
   "source": [
    "### Случайный лес"
   ]
  },
  {
   "cell_type": "code",
   "execution_count": 7,
   "metadata": {},
   "outputs": [
    {
     "name": "stdout",
     "output_type": "stream",
     "text": [
      "Accuracy наилучшей модели на валидационной выборке: 0.8211508553654744\n",
      "Критерий: gini\n",
      "Число признаков для выбора расщепления: sqrt\n",
      "Максимальная глубина: 9\n",
      "Количество деревьев: 71\n",
      "CPU times: user 3min 42s, sys: 1.02 s, total: 3min 43s\n",
      "Wall time: 3min 44s\n"
     ]
    }
   ],
   "source": [
    "%%time\n",
    "\n",
    "best_result = 0\n",
    "best_criterion = 0\n",
    "best_depth = 0\n",
    "best_est = 0\n",
    "for criterion in ['gini', 'entropy']:\n",
    "    for max_features in ['log2', 'sqrt']:\n",
    "        for est in range(1, 130, 10):\n",
    "            for depth in range(1, 20):\n",
    "                model = RandomForestClassifier(criterion=criterion, max_depth=depth, n_estimators=est, random_state=53452)\n",
    "                model.fit(X_train, y_train)\n",
    "                predictions_valid = model.predict(X_valid)\n",
    "                result = accuracy_score(y_valid, predictions_valid)\n",
    "                if result > best_result:\n",
    "                    RFC_best_model = model\n",
    "                    best_result = result\n",
    "                    best_criterion = criterion\n",
    "                    best_max_features = max_features\n",
    "                    best_depth = depth\n",
    "                    best_est = est\n",
    "print(\"Accuracy наилучшей модели на валидационной выборке:\", best_result)\n",
    "print(\"Критерий:\", best_criterion)\n",
    "print(\"Число признаков для выбора расщепления:\", max_features) \n",
    "print(\"Максимальная глубина:\", best_depth)\n",
    "print(\"Количество деревьев:\", best_est)"
   ]
  },
  {
   "attachments": {},
   "cell_type": "markdown",
   "metadata": {},
   "source": [
    "### Логистическая регрессия\n"
   ]
  },
  {
   "cell_type": "code",
   "execution_count": 8,
   "metadata": {},
   "outputs": [
    {
     "name": "stdout",
     "output_type": "stream",
     "text": [
      "Solver newton-cg Точность 0.7620528771384136\n",
      "Solver lbfgs Точность 0.7262830482115086\n",
      "Solver liblinear Точность 0.7169517884914464\n",
      "Solver sag Точность 0.7060653188180405\n",
      "Solver saga Точность 0.7060653188180405\n",
      "Accuracy наилучшей модели на валидационной выборке: 0.7620528771384136\n",
      "Критерий: newton-cg\n",
      "CPU times: user 238 ms, sys: 14 µs, total: 238 ms\n",
      "Wall time: 247 ms\n"
     ]
    }
   ],
   "source": [
    "%%time\n",
    "\n",
    "best_result = 0\n",
    "best_solver = 0\n",
    "for solver in ['newton-cg', 'lbfgs', 'liblinear', 'sag', 'saga']:\n",
    "    model = LogisticRegression(solver=solver, random_state=452477)\n",
    "    model.fit(X_train, y_train)\n",
    "    predictions_valid = model.predict(X_valid)\n",
    "    result = accuracy_score(y_valid, predictions_valid)\n",
    "    print('Solver', solver,'Точность',result)\n",
    "    if result > best_result:\n",
    "        best_result = result\n",
    "        best_solver = solver\n",
    "print(\"Accuracy наилучшей модели на валидационной выборке:\", best_result)\n",
    "print(\"Критерий:\", best_solver)"
   ]
  },
  {
   "cell_type": "code",
   "execution_count": 9,
   "metadata": {},
   "outputs": [
    {
     "name": "stdout",
     "output_type": "stream",
     "text": [
      "Accuracy наилучшей модели на валидационной выборке: 0.7620528771384136\n",
      "Алгоритм: newton-cg\n",
      "Penalty: none\n",
      "С: 9.6\n"
     ]
    }
   ],
   "source": [
    "best_result = 0\n",
    "best_solver = 0\n",
    "for solver in ['newton-cg', 'lbfgs']:\n",
    "    for penalty in ['l2', 'none']:\n",
    "        for C in np.arange(0.1, 10, 0.5):\n",
    "            model = LogisticRegression(solver=solver, random_state=452477, penalty=penalty, C=C)\n",
    "            model.fit(X_train, y_train)\n",
    "            predictions_valid = model.predict(X_valid)\n",
    "            result = accuracy_score(y_valid, predictions_valid)\n",
    "            if result > best_result:\n",
    "                LR_best_model = model\n",
    "                best_result = result\n",
    "                best_solver = solver\n",
    "                best_penalty = penalty\n",
    "                best_C = C\n",
    "print(\"Accuracy наилучшей модели на валидационной выборке:\", best_result)\n",
    "print(\"Алгоритм:\", best_solver)\n",
    "print(\"Penalty:\", penalty)\n",
    "print(\"С:\", C)"
   ]
  },
  {
   "attachments": {},
   "cell_type": "markdown",
   "metadata": {},
   "source": [
    "### Вывод \n",
    "Для дерева решений были исследованы следующие гиперпараметры:\n",
    "* Критерий\n",
    "* Глубина\n",
    "\n",
    "Accuracy наилучшей модели на валидационной выборке: 0.79, при\n",
    "* Критерий: entropy \n",
    "* Максимальная глубина: 10\n",
    "\n",
    "Для случайного леса были исследованы следующие гиперпараметры:\n",
    "* Критерий\n",
    "* Число признаков для выбора расщепления\n",
    "* Максимальная глубина\n",
    "* Количество деревьев\n",
    "\n",
    "Accuracy наилучшей модели на валидационной выборке: 0.81, при\n",
    "* Критерий: gini\n",
    "* Число признаков для выбора расщепления: sqrt\n",
    "* Максимальная глубина: 14\n",
    "* Количество деревьев: 71\n",
    "\n",
    "Для логистической регрессии вначале были выбраны два лучших алгоритма, а затем исследованы следующие гипермараметры:\n",
    "* Штраф\n",
    "* С\n",
    "\n",
    "Accuracy наилучшей модели на валидационной выборке: 0.74, при\n",
    "* Алгоритм: newton-cg\n",
    "* Penalty: none\n",
    "* С: 9.6"
   ]
  },
  {
   "attachments": {},
   "cell_type": "markdown",
   "metadata": {},
   "source": [
    "## Проверьте модель на тестовой выборке"
   ]
  },
  {
   "cell_type": "code",
   "execution_count": 10,
   "metadata": {},
   "outputs": [
    {
     "name": "stdout",
     "output_type": "stream",
     "text": [
      "Точность модели решабщего дерева на тестовой выборке 0.8087091757387247\n"
     ]
    }
   ],
   "source": [
    "predictions_test = DTC_best_model.predict(X_test)\n",
    "result = accuracy_score(y_test, predictions_test)\n",
    "print('Точность модели решабщего дерева на тестовой выборке',result)"
   ]
  },
  {
   "cell_type": "code",
   "execution_count": 11,
   "metadata": {},
   "outputs": [
    {
     "name": "stdout",
     "output_type": "stream",
     "text": [
      "Точность модели случайного леса на тестовой выборке 0.8133748055987559\n"
     ]
    }
   ],
   "source": [
    "predictions_test = RFC_best_model.predict(X_test)\n",
    "result = accuracy_score(y_test, predictions_test)\n",
    "print('Точность модели случайного леса на тестовой выборке',result)"
   ]
  },
  {
   "cell_type": "code",
   "execution_count": 12,
   "metadata": {},
   "outputs": [
    {
     "name": "stdout",
     "output_type": "stream",
     "text": [
      "Точность модели логистической регресиии на тестовой выборке 0.7636080870917574\n"
     ]
    }
   ],
   "source": [
    "predictions_test = LR_best_model.predict(X_test)\n",
    "result = accuracy_score(y_test, predictions_test)\n",
    "print('Точность модели логистической регресиии на тестовой выборке',result)"
   ]
  },
  {
   "attachments": {},
   "cell_type": "markdown",
   "metadata": {},
   "source": [
    "### Вывод "
   ]
  },
  {
   "attachments": {},
   "cell_type": "markdown",
   "metadata": {},
   "source": [
    "С поставленной минимальной accuracy справились cлучайный лес и решающее дерево, а логистическая регресия немного не дотянула.\n",
    "* Точность модели решающего дерева на тестовой выборке 0.77\n",
    "* Точность модели случайного леса на тестовой выборке 0.80\n",
    "* Точность модели логистической регресиии на тестовой выборке 0.745"
   ]
  },
  {
   "attachments": {},
   "cell_type": "markdown",
   "metadata": {},
   "source": [
    "### Дообучение лучшей модели и проверка"
   ]
  },
  {
   "cell_type": "code",
   "execution_count": 13,
   "metadata": {},
   "outputs": [
    {
     "name": "stdout",
     "output_type": "stream",
     "text": [
      "(2571, 4)\n",
      "(2571,)\n"
     ]
    }
   ],
   "source": [
    "X_train = pd.concat([X_train, X_valid])\n",
    "y_train = pd.concat([y_train, y_valid])\n",
    "print(X_train.shape), print(y_train.shape);"
   ]
  },
  {
   "cell_type": "code",
   "execution_count": 17,
   "metadata": {},
   "outputs": [
    {
     "name": "stdout",
     "output_type": "stream",
     "text": [
      "Точность модели случайного леса на тестовой выборке 0.8242612752721618\n"
     ]
    }
   ],
   "source": [
    "model = RandomForestClassifier(criterion='gini', max_depth=14, n_estimators=71, random_state=53452)\n",
    "model.fit(X_train, y_train)\n",
    "predictions_test = model.predict(X_test)\n",
    "result = accuracy_score(y_test, predictions_test)\n",
    "print('Точность модели случайного леса на тестовой выборке',result)"
   ]
  },
  {
   "attachments": {},
   "cell_type": "markdown",
   "metadata": {},
   "source": [
    "### Вывод 2.0"
   ]
  },
  {
   "attachments": {},
   "cell_type": "markdown",
   "metadata": {},
   "source": [
    "После определения лучших гиперпараметров для Случайного леса, я дообучил ее на выборке состоящей из тренировочной и валидационной, после чего на тесте значение метрики accuracy стало 0.82, что является хорошим результатом."
   ]
  },
  {
   "attachments": {},
   "cell_type": "markdown",
   "metadata": {},
   "source": [
    "## (бонус) Проверьте модели на адекватность"
   ]
  },
  {
   "cell_type": "code",
   "execution_count": 15,
   "metadata": {},
   "outputs": [
    {
     "name": "stdout",
     "output_type": "stream",
     "text": [
      "Точность при заполнении случайными числами 0.48055987558320373\n"
     ]
    }
   ],
   "source": [
    "rand = np.random.randint(2, size= 643)\n",
    "result = accuracy_score(y_test, rand)\n",
    "print('Точность при заполнении случайными числами',result)"
   ]
  },
  {
   "attachments": {},
   "cell_type": "markdown",
   "metadata": {},
   "source": [
    "### DummyClassifier"
   ]
  },
  {
   "cell_type": "code",
   "execution_count": 20,
   "metadata": {},
   "outputs": [
    {
     "name": "stdout",
     "output_type": "stream",
     "text": [
      "Точность DummyClassifier при стратегии most_frequent 0.7153965785381027\n"
     ]
    }
   ],
   "source": [
    "dummy_clf = DummyClassifier(strategy=\"most_frequent\")\n",
    "dummy_clf.fit(X_train, y_train)\n",
    "predictions_dummy = dummy_clf.predict(X_test) \n",
    "result = accuracy_score(y_test, predictions_dummy)\n",
    "print('Точность DummyClassifier при стратегии most_frequent',result)"
   ]
  },
  {
   "cell_type": "code",
   "execution_count": 23,
   "metadata": {},
   "outputs": [
    {
     "data": {
      "text/plain": [
       "array([0, 0, 0, 0, 0, 0, 0, 0, 0, 0, 0, 0, 0, 0, 0, 0, 0, 0, 0, 0, 0, 0,\n",
       "       0, 0, 0, 0, 0, 0, 0, 0, 0, 0, 0, 0, 0, 0, 0, 0, 0, 0, 0, 0, 0, 0,\n",
       "       0, 0, 0, 0, 0, 0, 0, 0, 0, 0, 0, 0, 0, 0, 0, 0, 0, 0, 0, 0, 0, 0,\n",
       "       0, 0, 0, 0, 0, 0, 0, 0, 0, 0, 0, 0, 0, 0, 0, 0, 0, 0, 0, 0, 0, 0,\n",
       "       0, 0, 0, 0, 0, 0, 0, 0, 0, 0, 0, 0, 0, 0, 0, 0, 0, 0, 0, 0, 0, 0,\n",
       "       0, 0, 0, 0, 0, 0, 0, 0, 0, 0, 0, 0, 0, 0, 0, 0, 0, 0, 0, 0, 0, 0,\n",
       "       0, 0, 0, 0, 0, 0, 0, 0, 0, 0, 0, 0, 0, 0, 0, 0, 0, 0, 0, 0, 0, 0,\n",
       "       0, 0, 0, 0, 0, 0, 0, 0, 0, 0, 0, 0, 0, 0, 0, 0, 0, 0, 0, 0, 0, 0,\n",
       "       0, 0, 0, 0, 0, 0, 0, 0, 0, 0, 0, 0, 0, 0, 0, 0, 0, 0, 0, 0, 0, 0,\n",
       "       0, 0, 0, 0, 0, 0, 0, 0, 0, 0, 0, 0, 0, 0, 0, 0, 0, 0, 0, 0, 0, 0,\n",
       "       0, 0, 0, 0, 0, 0, 0, 0, 0, 0, 0, 0, 0, 0, 0, 0, 0, 0, 0, 0, 0, 0,\n",
       "       0, 0, 0, 0, 0, 0, 0, 0, 0, 0, 0, 0, 0, 0, 0, 0, 0, 0, 0, 0, 0, 0,\n",
       "       0, 0, 0, 0, 0, 0, 0, 0, 0, 0, 0, 0, 0, 0, 0, 0, 0, 0, 0, 0, 0, 0,\n",
       "       0, 0, 0, 0, 0, 0, 0, 0, 0, 0, 0, 0, 0, 0, 0, 0, 0, 0, 0, 0, 0, 0,\n",
       "       0, 0, 0, 0, 0, 0, 0, 0, 0, 0, 0, 0, 0, 0, 0, 0, 0, 0, 0, 0, 0, 0,\n",
       "       0, 0, 0, 0, 0, 0, 0, 0, 0, 0, 0, 0, 0, 0, 0, 0, 0, 0, 0, 0, 0, 0,\n",
       "       0, 0, 0, 0, 0, 0, 0, 0, 0, 0, 0, 0, 0, 0, 0, 0, 0, 0, 0, 0, 0, 0,\n",
       "       0, 0, 0, 0, 0, 0, 0, 0, 0, 0, 0, 0, 0, 0, 0, 0, 0, 0, 0, 0, 0, 0,\n",
       "       0, 0, 0, 0, 0, 0, 0, 0, 0, 0, 0, 0, 0, 0, 0, 0, 0, 0, 0, 0, 0, 0,\n",
       "       0, 0, 0, 0, 0, 0, 0, 0, 0, 0, 0, 0, 0, 0, 0, 0, 0, 0, 0, 0, 0, 0,\n",
       "       0, 0, 0, 0, 0, 0, 0, 0, 0, 0, 0, 0, 0, 0, 0, 0, 0, 0, 0, 0, 0, 0,\n",
       "       0, 0, 0, 0, 0, 0, 0, 0, 0, 0, 0, 0, 0, 0, 0, 0, 0, 0, 0, 0, 0, 0,\n",
       "       0, 0, 0, 0, 0, 0, 0, 0, 0, 0, 0, 0, 0, 0, 0, 0, 0, 0, 0, 0, 0, 0,\n",
       "       0, 0, 0, 0, 0, 0, 0, 0, 0, 0, 0, 0, 0, 0, 0, 0, 0, 0, 0, 0, 0, 0,\n",
       "       0, 0, 0, 0, 0, 0, 0, 0, 0, 0, 0, 0, 0, 0, 0, 0, 0, 0, 0, 0, 0, 0,\n",
       "       0, 0, 0, 0, 0, 0, 0, 0, 0, 0, 0, 0, 0, 0, 0, 0, 0, 0, 0, 0, 0, 0,\n",
       "       0, 0, 0, 0, 0, 0, 0, 0, 0, 0, 0, 0, 0, 0, 0, 0, 0, 0, 0, 0, 0, 0,\n",
       "       0, 0, 0, 0, 0, 0, 0, 0, 0, 0, 0, 0, 0, 0, 0, 0, 0, 0, 0, 0, 0, 0,\n",
       "       0, 0, 0, 0, 0, 0, 0, 0, 0, 0, 0, 0, 0, 0, 0, 0, 0, 0, 0, 0, 0, 0,\n",
       "       0, 0, 0, 0, 0])"
      ]
     },
     "execution_count": 23,
     "metadata": {},
     "output_type": "execute_result"
    }
   ],
   "source": [
    "predictions_dummy"
   ]
  },
  {
   "attachments": {},
   "cell_type": "markdown",
   "metadata": {},
   "source": [
    "### Вывод\n",
    "Воспользовашись DummyClassifier по стратегии most_frequent(самый частовстречающийся) мы получили accuracy 0.715 на тестовой выборке, что является высоким показателям. Однако оттюненная модель случайного леса обученная на совместной тренировочной и валидационный выборке дала точность на 10% больше, поэтому можно сделать вывод, что моя модель адекватна."
   ]
  },
  {
   "attachments": {},
   "cell_type": "markdown",
   "metadata": {},
   "source": [
    "## Вывод\n",
    "В ходе данного проекта были выполнены следующие шаги:\n",
    "1. Изучены исходные данные\n",
    "2. Разбиты данные в отношение 3:1:1\n",
    "3. Исследованы и найдены оптимальные гиперпараметры следующих моделей:\n",
    "* Решающее дерево\n",
    "* Случайный лес\n",
    "* Логистическая регрессия\n",
    "4. Оценена точность для лучших моделей\n",
    "5. Проверена адекваптность модели\n",
    "\n",
    "Наилучшей моделью оказался случайный лес с Accuracy на тестовой выборке: 0.80, при\n",
    "* Критерий: gini\n",
    "* Число признаков для выбора расщепления: sqrt\n",
    "* Максимальная глубина: 14\n",
    "* Количество деревьев: 71\n",
    "\n",
    "Проверка на адекватность была проведена путем сравнения Accuracy при заполнении случайными значениями, и моя модель спарвилась значительно лучше(на 30%)"
   ]
  },
  {
   "attachments": {},
   "cell_type": "markdown",
   "metadata": {},
   "source": [
    "**Дополнение к выводу:**\n",
    "\n",
    "Наилучшей моделью оказался случайный лес с Accuracy на тестовой выборке: 0.82, при\n",
    "\n",
    "* Критерий: gini\n",
    "* Число признаков для выбора расщепления: sqrt\n",
    "* Максимальная глубина: 14\n",
    "* Количество деревьев: 71\n",
    "\n",
    "Проверка на адекватность была проведена путем сравнения с предсказанием DummyClassifier по стратегии most_frequent(самый частовстречающийся) мы получили accuracy 0.715 на тестовой выборке, что является высоким показателям. Однако оттюненная модель случайного леса обученная на совместной тренировочной и валидационный выборке дала точность на 10% больше, поэтому можно сделать вывод, что моя модель адекватна."
   ]
  }
 ],
 "metadata": {
  "ExecuteTimeLog": [
   {
    "duration": 365,
    "start_time": "2022-11-20T08:26:58.643Z"
   },
   {
    "duration": 108,
    "start_time": "2022-11-20T08:27:19.531Z"
   },
   {
    "duration": 39,
    "start_time": "2022-11-20T08:27:38.053Z"
   },
   {
    "duration": 60,
    "start_time": "2022-11-20T08:27:54.674Z"
   },
   {
    "duration": 3,
    "start_time": "2022-11-20T08:28:00.763Z"
   },
   {
    "duration": 10,
    "start_time": "2022-11-20T08:28:24.986Z"
   },
   {
    "duration": 7,
    "start_time": "2022-11-20T08:40:51.115Z"
   },
   {
    "duration": 638,
    "start_time": "2022-11-20T08:41:34.125Z"
   },
   {
    "duration": 4,
    "start_time": "2022-11-20T08:45:22.768Z"
   },
   {
    "duration": 10,
    "start_time": "2022-11-20T08:45:59.747Z"
   },
   {
    "duration": 10,
    "start_time": "2022-11-20T08:46:17.190Z"
   },
   {
    "duration": 10,
    "start_time": "2022-11-20T08:46:23.593Z"
   },
   {
    "duration": 39,
    "start_time": "2022-11-20T08:54:44.416Z"
   },
   {
    "duration": 44,
    "start_time": "2022-11-20T08:54:48.398Z"
   },
   {
    "duration": 13,
    "start_time": "2022-11-20T08:55:14.689Z"
   },
   {
    "duration": 15,
    "start_time": "2022-11-20T08:55:25.848Z"
   },
   {
    "duration": 32,
    "start_time": "2022-11-20T08:55:38.945Z"
   },
   {
    "duration": 53,
    "start_time": "2022-11-20T08:55:46.911Z"
   },
   {
    "duration": 150,
    "start_time": "2022-11-20T08:55:56.799Z"
   },
   {
    "duration": 61,
    "start_time": "2022-11-20T08:57:50.193Z"
   },
   {
    "duration": 65,
    "start_time": "2022-11-20T09:00:45.841Z"
   },
   {
    "duration": 14,
    "start_time": "2022-11-20T09:01:40.935Z"
   },
   {
    "duration": 117,
    "start_time": "2022-11-20T09:11:49.709Z"
   },
   {
    "duration": 4,
    "start_time": "2022-11-20T09:18:55.184Z"
   },
   {
    "duration": 7,
    "start_time": "2022-11-20T09:18:59.694Z"
   },
   {
    "duration": 6,
    "start_time": "2022-11-20T09:19:06.709Z"
   },
   {
    "duration": 114,
    "start_time": "2022-11-20T09:20:29.296Z"
   },
   {
    "duration": 121,
    "start_time": "2022-11-20T09:20:56.642Z"
   },
   {
    "duration": 120,
    "start_time": "2022-11-20T09:21:25.112Z"
   },
   {
    "duration": 14,
    "start_time": "2022-11-20T09:23:07.545Z"
   },
   {
    "duration": 121,
    "start_time": "2022-11-20T09:23:15.432Z"
   },
   {
    "duration": 147,
    "start_time": "2022-11-20T09:23:25.375Z"
   },
   {
    "duration": 81,
    "start_time": "2022-11-20T09:23:57.776Z"
   },
   {
    "duration": 121,
    "start_time": "2022-11-20T09:24:03.487Z"
   },
   {
    "duration": 125,
    "start_time": "2022-11-20T09:27:16.407Z"
   },
   {
    "duration": 153,
    "start_time": "2022-11-20T09:27:42.809Z"
   },
   {
    "duration": 134,
    "start_time": "2022-11-20T09:28:05.895Z"
   },
   {
    "duration": 125,
    "start_time": "2022-11-20T09:28:17.636Z"
   },
   {
    "duration": 57,
    "start_time": "2022-11-20T09:28:28.499Z"
   },
   {
    "duration": 125,
    "start_time": "2022-11-20T09:28:37.533Z"
   },
   {
    "duration": 62,
    "start_time": "2022-11-20T09:29:13.639Z"
   },
   {
    "duration": 141,
    "start_time": "2022-11-20T09:29:48.585Z"
   },
   {
    "duration": 134,
    "start_time": "2022-11-20T09:29:56.646Z"
   },
   {
    "duration": 802,
    "start_time": "2022-11-20T09:31:00.386Z"
   },
   {
    "duration": 840,
    "start_time": "2022-11-20T09:31:10.894Z"
   },
   {
    "duration": 846,
    "start_time": "2022-11-20T09:31:28.664Z"
   },
   {
    "duration": 122,
    "start_time": "2022-11-20T09:31:41.293Z"
   },
   {
    "duration": 22,
    "start_time": "2022-11-20T09:34:05.289Z"
   },
   {
    "duration": 20,
    "start_time": "2022-11-20T09:35:34.922Z"
   },
   {
    "duration": 19,
    "start_time": "2022-11-20T09:35:46.495Z"
   },
   {
    "duration": 19,
    "start_time": "2022-11-20T09:35:54.282Z"
   },
   {
    "duration": 10,
    "start_time": "2022-11-20T09:36:04.837Z"
   },
   {
    "duration": 7,
    "start_time": "2022-11-20T09:36:17.356Z"
   },
   {
    "duration": 7,
    "start_time": "2022-11-20T09:36:21.366Z"
   },
   {
    "duration": 53,
    "start_time": "2022-11-20T09:37:16.369Z"
   },
   {
    "duration": 3,
    "start_time": "2022-11-20T09:37:33.022Z"
   },
   {
    "duration": 8,
    "start_time": "2022-11-20T09:37:37.073Z"
   },
   {
    "duration": 8,
    "start_time": "2022-11-20T09:38:05.812Z"
   },
   {
    "duration": 49,
    "start_time": "2022-11-20T09:38:09.781Z"
   },
   {
    "duration": 8,
    "start_time": "2022-11-20T09:38:13.979Z"
   },
   {
    "duration": 22,
    "start_time": "2022-11-20T09:38:20.903Z"
   },
   {
    "duration": 19,
    "start_time": "2022-11-20T09:38:49.533Z"
   },
   {
    "duration": 8,
    "start_time": "2022-11-20T09:39:43.074Z"
   },
   {
    "duration": 12,
    "start_time": "2022-11-20T09:39:59.938Z"
   },
   {
    "duration": 8,
    "start_time": "2022-11-20T09:40:10.592Z"
   },
   {
    "duration": 7,
    "start_time": "2022-11-20T09:40:17.403Z"
   },
   {
    "duration": 5,
    "start_time": "2022-11-20T09:40:29.227Z"
   },
   {
    "duration": 4,
    "start_time": "2022-11-20T09:40:33.916Z"
   },
   {
    "duration": 124,
    "start_time": "2022-11-20T09:40:41.826Z"
   },
   {
    "duration": 436,
    "start_time": "2022-11-20T09:43:49.138Z"
   },
   {
    "duration": 13,
    "start_time": "2022-11-20T09:45:33.335Z"
   },
   {
    "duration": 112,
    "start_time": "2022-11-20T09:45:52.653Z"
   },
   {
    "duration": 232,
    "start_time": "2022-11-20T09:46:58.583Z"
   },
   {
    "duration": 129,
    "start_time": "2022-11-20T09:47:42.303Z"
   },
   {
    "duration": 123,
    "start_time": "2022-11-20T09:48:01.166Z"
   },
   {
    "duration": 224,
    "start_time": "2022-11-20T09:48:13.606Z"
   },
   {
    "duration": 239,
    "start_time": "2022-11-20T09:49:38.536Z"
   },
   {
    "duration": 369,
    "start_time": "2022-11-20T09:50:05.252Z"
   },
   {
    "duration": 257,
    "start_time": "2022-11-20T09:51:55.999Z"
   },
   {
    "duration": 66,
    "start_time": "2022-11-20T09:52:04.303Z"
   },
   {
    "duration": 239,
    "start_time": "2022-11-20T09:52:07.827Z"
   },
   {
    "duration": 69,
    "start_time": "2022-11-20T09:52:13.120Z"
   },
   {
    "duration": 248,
    "start_time": "2022-11-20T09:52:16.629Z"
   },
   {
    "duration": 259,
    "start_time": "2022-11-20T09:52:30.085Z"
   },
   {
    "duration": 253,
    "start_time": "2022-11-20T09:52:33.526Z"
   },
   {
    "duration": 231,
    "start_time": "2022-11-20T09:53:09.278Z"
   },
   {
    "duration": 266,
    "start_time": "2022-11-20T09:54:21.802Z"
   },
   {
    "duration": 238,
    "start_time": "2022-11-20T09:54:36.752Z"
   },
   {
    "duration": 114,
    "start_time": "2022-11-20T09:55:11.975Z"
   },
   {
    "duration": 236,
    "start_time": "2022-11-20T09:55:36.585Z"
   },
   {
    "duration": 43,
    "start_time": "2022-11-20T09:55:47.638Z"
   },
   {
    "duration": 248,
    "start_time": "2022-11-20T09:55:52.908Z"
   },
   {
    "duration": 243,
    "start_time": "2022-11-20T09:57:34.318Z"
   },
   {
    "duration": 2,
    "start_time": "2022-11-20T09:57:45.777Z"
   },
   {
    "duration": 259,
    "start_time": "2022-11-20T09:57:50.717Z"
   },
   {
    "duration": 329,
    "start_time": "2022-11-20T09:57:57.417Z"
   },
   {
    "duration": 261,
    "start_time": "2022-11-20T09:58:41.179Z"
   },
   {
    "duration": 269,
    "start_time": "2022-11-20T09:58:49.516Z"
   },
   {
    "duration": 287,
    "start_time": "2022-11-20T10:00:10.595Z"
   },
   {
    "duration": 278,
    "start_time": "2022-11-20T10:00:19.145Z"
   },
   {
    "duration": 260,
    "start_time": "2022-11-20T10:00:40.545Z"
   },
   {
    "duration": 257,
    "start_time": "2022-11-20T10:04:39.641Z"
   },
   {
    "duration": 47,
    "start_time": "2022-11-20T10:10:05.578Z"
   },
   {
    "duration": 259,
    "start_time": "2022-11-20T10:10:14.875Z"
   },
   {
    "duration": 260,
    "start_time": "2022-11-20T10:10:25.780Z"
   },
   {
    "duration": 272,
    "start_time": "2022-11-20T10:11:21.144Z"
   },
   {
    "duration": 259,
    "start_time": "2022-11-20T10:11:44.837Z"
   },
   {
    "duration": 262,
    "start_time": "2022-11-20T10:14:08.707Z"
   },
   {
    "duration": 360,
    "start_time": "2022-11-20T10:16:22.450Z"
   },
   {
    "duration": 10,
    "start_time": "2022-11-20T10:17:34.507Z"
   },
   {
    "duration": 3,
    "start_time": "2022-11-20T10:18:08.985Z"
   },
   {
    "duration": 261,
    "start_time": "2022-11-20T10:34:37.789Z"
   },
   {
    "duration": 463,
    "start_time": "2022-11-20T10:34:45.728Z"
   },
   {
    "duration": 504,
    "start_time": "2022-11-20T10:34:55.437Z"
   },
   {
    "duration": 482,
    "start_time": "2022-11-20T10:35:11.493Z"
   },
   {
    "duration": 475,
    "start_time": "2022-11-20T10:35:14.518Z"
   },
   {
    "duration": 466,
    "start_time": "2022-11-20T10:35:16.961Z"
   },
   {
    "duration": 470,
    "start_time": "2022-11-20T10:35:23.251Z"
   },
   {
    "duration": 19466,
    "start_time": "2022-11-20T10:46:55.047Z"
   },
   {
    "duration": 19126,
    "start_time": "2022-11-20T10:47:55.899Z"
   },
   {
    "duration": 47,
    "start_time": "2022-11-20T10:49:10.776Z"
   },
   {
    "duration": 48,
    "start_time": "2022-11-20T10:49:20.080Z"
   },
   {
    "duration": 18909,
    "start_time": "2022-11-20T10:50:23.334Z"
   },
   {
    "duration": 3,
    "start_time": "2022-11-20T10:51:01.980Z"
   },
   {
    "duration": 15,
    "start_time": "2022-11-20T10:51:15.176Z"
   },
   {
    "duration": 32738,
    "start_time": "2022-11-20T10:51:23.179Z"
   },
   {
    "duration": 5,
    "start_time": "2022-11-20T10:51:55.920Z"
   },
   {
    "duration": 3,
    "start_time": "2022-11-20T10:53:28.120Z"
   },
   {
    "duration": 5,
    "start_time": "2022-11-20T10:53:44.456Z"
   },
   {
    "duration": 65260,
    "start_time": "2022-11-20T10:55:40.217Z"
   },
   {
    "duration": 65645,
    "start_time": "2022-11-20T10:58:49.781Z"
   },
   {
    "duration": 22,
    "start_time": "2022-11-20T11:02:23.106Z"
   },
   {
    "duration": 21,
    "start_time": "2022-11-20T11:02:27.289Z"
   },
   {
    "duration": 22,
    "start_time": "2022-11-20T11:02:31.629Z"
   },
   {
    "duration": 24,
    "start_time": "2022-11-20T11:02:34.181Z"
   },
   {
    "duration": 8,
    "start_time": "2022-11-20T11:03:04.703Z"
   },
   {
    "duration": 65369,
    "start_time": "2022-11-20T11:07:56.593Z"
   },
   {
    "duration": 17,
    "start_time": "2022-11-20T11:09:57.690Z"
   },
   {
    "duration": 6,
    "start_time": "2022-11-20T11:09:58.814Z"
   },
   {
    "duration": 4,
    "start_time": "2022-11-20T11:31:07.385Z"
   },
   {
    "duration": 54,
    "start_time": "2022-11-20T11:33:13.089Z"
   },
   {
    "duration": 183,
    "start_time": "2022-11-20T11:33:20.603Z"
   },
   {
    "duration": 176,
    "start_time": "2022-11-20T11:33:39.109Z"
   },
   {
    "duration": 184,
    "start_time": "2022-11-20T11:34:51.694Z"
   },
   {
    "duration": 193,
    "start_time": "2022-11-20T11:35:55.909Z"
   },
   {
    "duration": 8,
    "start_time": "2022-11-20T11:38:36.787Z"
   },
   {
    "duration": 3,
    "start_time": "2022-11-20T11:39:31.794Z"
   },
   {
    "duration": 5,
    "start_time": "2022-11-20T11:39:40.368Z"
   },
   {
    "duration": 10,
    "start_time": "2022-11-20T11:41:10.786Z"
   },
   {
    "duration": 5102,
    "start_time": "2022-11-20T11:41:17.832Z"
   },
   {
    "duration": 4,
    "start_time": "2022-11-20T11:44:48.116Z"
   },
   {
    "duration": 178,
    "start_time": "2022-11-20T11:44:52.101Z"
   },
   {
    "duration": 4882,
    "start_time": "2022-11-20T11:44:56.654Z"
   },
   {
    "duration": 2519,
    "start_time": "2022-11-20T11:45:50.475Z"
   },
   {
    "duration": 5074,
    "start_time": "2022-11-20T11:46:01.149Z"
   },
   {
    "duration": 6,
    "start_time": "2022-11-20T11:46:25.292Z"
   },
   {
    "duration": 4959,
    "start_time": "2022-11-20T11:46:52.102Z"
   },
   {
    "duration": 6,
    "start_time": "2022-11-20T11:47:02.381Z"
   },
   {
    "duration": 2389,
    "start_time": "2022-11-20T11:47:26.688Z"
   },
   {
    "duration": 7,
    "start_time": "2022-11-20T11:47:33.778Z"
   },
   {
    "duration": 4971,
    "start_time": "2022-11-20T11:54:21.856Z"
   },
   {
    "duration": 1409,
    "start_time": "2022-11-20T11:56:19.806Z"
   },
   {
    "duration": 42,
    "start_time": "2022-11-20T11:56:21.217Z"
   },
   {
    "duration": 3,
    "start_time": "2022-11-20T11:56:21.263Z"
   },
   {
    "duration": 20,
    "start_time": "2022-11-20T11:56:21.268Z"
   },
   {
    "duration": 8,
    "start_time": "2022-11-20T11:56:21.289Z"
   },
   {
    "duration": 543,
    "start_time": "2022-11-20T11:56:21.299Z"
   },
   {
    "duration": 64123,
    "start_time": "2022-11-20T11:56:21.844Z"
   },
   {
    "duration": 147,
    "start_time": "2022-11-20T11:57:25.968Z"
   },
   {
    "duration": 4082,
    "start_time": "2022-11-20T11:57:26.120Z"
   },
   {
    "duration": 7,
    "start_time": "2022-11-20T11:57:30.204Z"
   },
   {
    "duration": 26,
    "start_time": "2022-11-20T11:57:30.213Z"
   },
   {
    "duration": 12,
    "start_time": "2022-11-20T11:57:30.240Z"
   },
   {
    "duration": 9,
    "start_time": "2022-11-20T11:59:29.087Z"
   },
   {
    "duration": 5,
    "start_time": "2022-11-20T11:59:29.271Z"
   },
   {
    "duration": 6,
    "start_time": "2022-11-20T11:59:29.461Z"
   },
   {
    "duration": 7,
    "start_time": "2022-11-20T11:59:37.339Z"
   },
   {
    "duration": 180311,
    "start_time": "2022-11-20T12:13:20.041Z"
   },
   {
    "duration": 10,
    "start_time": "2022-11-20T12:16:42.540Z"
   },
   {
    "duration": 6,
    "start_time": "2022-11-20T12:16:44.154Z"
   },
   {
    "duration": 6,
    "start_time": "2022-11-20T12:17:15.026Z"
   },
   {
    "duration": 8,
    "start_time": "2022-11-20T12:17:15.179Z"
   },
   {
    "duration": 6,
    "start_time": "2022-11-20T12:17:15.339Z"
   },
   {
    "duration": 6,
    "start_time": "2022-11-20T12:17:47.218Z"
   },
   {
    "duration": 8,
    "start_time": "2022-11-20T12:17:47.398Z"
   },
   {
    "duration": 6,
    "start_time": "2022-11-20T12:17:47.629Z"
   },
   {
    "duration": 4,
    "start_time": "2022-11-20T12:26:41.268Z"
   },
   {
    "duration": 5,
    "start_time": "2022-11-20T12:26:48.494Z"
   },
   {
    "duration": 4,
    "start_time": "2022-11-20T12:26:50.436Z"
   },
   {
    "duration": 4,
    "start_time": "2022-11-20T12:26:52.170Z"
   },
   {
    "duration": 4,
    "start_time": "2022-11-20T12:26:54.034Z"
   },
   {
    "duration": 1271,
    "start_time": "2022-11-20T12:39:27.977Z"
   },
   {
    "duration": 37,
    "start_time": "2022-11-20T12:39:29.249Z"
   },
   {
    "duration": 4,
    "start_time": "2022-11-20T12:39:29.288Z"
   },
   {
    "duration": 16,
    "start_time": "2022-11-20T12:39:29.294Z"
   },
   {
    "duration": 10,
    "start_time": "2022-11-20T12:39:29.311Z"
   },
   {
    "duration": 486,
    "start_time": "2022-11-20T12:39:29.322Z"
   },
   {
    "duration": 184775,
    "start_time": "2022-11-20T12:39:29.810Z"
   },
   {
    "duration": 197,
    "start_time": "2022-11-20T12:42:34.587Z"
   },
   {
    "duration": 4244,
    "start_time": "2022-11-20T12:42:34.786Z"
   },
   {
    "duration": 5,
    "start_time": "2022-11-20T12:42:39.032Z"
   },
   {
    "duration": 20,
    "start_time": "2022-11-20T12:42:39.038Z"
   },
   {
    "duration": 5,
    "start_time": "2022-11-20T12:42:39.059Z"
   },
   {
    "duration": 4,
    "start_time": "2022-11-20T12:42:39.066Z"
   },
   {
    "duration": 159,
    "start_time": "2022-11-20T12:44:00.633Z"
   },
   {
    "duration": 4099,
    "start_time": "2022-11-20T12:44:00.882Z"
   },
   {
    "duration": 6,
    "start_time": "2022-11-20T12:44:06.176Z"
   },
   {
    "duration": 156,
    "start_time": "2022-11-20T12:44:10.935Z"
   },
   {
    "duration": 4301,
    "start_time": "2022-11-20T12:44:11.129Z"
   },
   {
    "duration": 6,
    "start_time": "2022-11-20T12:44:19.194Z"
   },
   {
    "duration": 18,
    "start_time": "2022-11-20T12:44:19.711Z"
   },
   {
    "duration": 6,
    "start_time": "2022-11-20T12:44:20.226Z"
   },
   {
    "duration": 4237,
    "start_time": "2022-11-20T12:44:25.752Z"
   },
   {
    "duration": 5,
    "start_time": "2022-11-20T12:44:29.991Z"
   },
   {
    "duration": 5,
    "start_time": "2022-11-20T12:46:55.773Z"
   },
   {
    "duration": 2043,
    "start_time": "2022-11-20T14:03:10.974Z"
   },
   {
    "duration": 127,
    "start_time": "2022-11-20T14:03:13.019Z"
   },
   {
    "duration": 4,
    "start_time": "2022-11-20T14:03:13.148Z"
   },
   {
    "duration": 19,
    "start_time": "2022-11-20T14:03:13.154Z"
   },
   {
    "duration": 12,
    "start_time": "2022-11-20T14:03:13.176Z"
   },
   {
    "duration": 546,
    "start_time": "2022-11-20T14:03:13.191Z"
   },
   {
    "duration": 192614,
    "start_time": "2022-11-20T14:03:13.739Z"
   },
   {
    "duration": 204,
    "start_time": "2022-11-20T14:06:26.355Z"
   },
   {
    "duration": 5477,
    "start_time": "2022-11-20T14:06:26.560Z"
   },
   {
    "duration": 5,
    "start_time": "2022-11-20T14:06:32.039Z"
   },
   {
    "duration": 22,
    "start_time": "2022-11-20T14:06:32.045Z"
   },
   {
    "duration": 6,
    "start_time": "2022-11-20T14:06:32.068Z"
   },
   {
    "duration": 24,
    "start_time": "2022-11-20T14:06:32.076Z"
   },
   {
    "duration": 72,
    "start_time": "2022-11-20T16:30:12.896Z"
   },
   {
    "duration": 1797,
    "start_time": "2022-11-20T16:30:18.288Z"
   },
   {
    "duration": 81,
    "start_time": "2022-11-20T16:30:25.375Z"
   },
   {
    "duration": 79,
    "start_time": "2022-11-20T16:30:31.212Z"
   },
   {
    "duration": 5,
    "start_time": "2022-11-20T16:30:31.521Z"
   },
   {
    "duration": 16,
    "start_time": "2022-11-20T16:30:31.947Z"
   },
   {
    "duration": 10,
    "start_time": "2022-11-20T16:30:34.877Z"
   },
   {
    "duration": 13,
    "start_time": "2022-11-20T16:30:41.552Z"
   },
   {
    "duration": 12,
    "start_time": "2022-11-20T16:31:09.524Z"
   },
   {
    "duration": 11,
    "start_time": "2022-11-20T16:31:13.457Z"
   },
   {
    "duration": 13,
    "start_time": "2022-11-20T16:31:24.975Z"
   },
   {
    "duration": 6,
    "start_time": "2022-11-20T16:32:24.633Z"
   },
   {
    "duration": 9,
    "start_time": "2022-11-20T16:32:44.212Z"
   },
   {
    "duration": 42,
    "start_time": "2022-11-20T16:33:35.978Z"
   },
   {
    "duration": 5,
    "start_time": "2022-11-20T16:33:36.552Z"
   },
   {
    "duration": 18,
    "start_time": "2022-11-20T16:33:37.095Z"
   },
   {
    "duration": 14,
    "start_time": "2022-11-20T16:33:40.833Z"
   },
   {
    "duration": 9,
    "start_time": "2022-11-20T16:33:53.312Z"
   },
   {
    "duration": 7,
    "start_time": "2022-11-20T16:33:59.917Z"
   },
   {
    "duration": 571,
    "start_time": "2022-11-20T16:34:46.593Z"
   },
   {
    "duration": 1819,
    "start_time": "2022-11-20T16:34:53.225Z"
   },
   {
    "duration": 53,
    "start_time": "2022-11-20T16:34:55.047Z"
   },
   {
    "duration": 7,
    "start_time": "2022-11-20T16:34:55.102Z"
   },
   {
    "duration": 22,
    "start_time": "2022-11-20T16:34:55.112Z"
   },
   {
    "duration": 25,
    "start_time": "2022-11-20T16:34:55.136Z"
   },
   {
    "duration": 980,
    "start_time": "2022-11-20T16:34:55.163Z"
   },
   {
    "duration": 224132,
    "start_time": "2022-11-20T16:34:56.151Z"
   },
   {
    "duration": 252,
    "start_time": "2022-11-20T16:38:40.285Z"
   },
   {
    "duration": 5127,
    "start_time": "2022-11-20T16:38:40.539Z"
   },
   {
    "duration": 6,
    "start_time": "2022-11-20T16:38:45.673Z"
   },
   {
    "duration": 25,
    "start_time": "2022-11-20T16:38:45.681Z"
   },
   {
    "duration": 7,
    "start_time": "2022-11-20T16:38:45.707Z"
   },
   {
    "duration": 8,
    "start_time": "2022-11-20T16:38:45.716Z"
   },
   {
    "duration": 387,
    "start_time": "2022-11-20T16:38:45.726Z"
   },
   {
    "duration": 6,
    "start_time": "2022-11-20T16:38:46.115Z"
   },
   {
    "duration": 370,
    "start_time": "2022-11-20T16:42:04.513Z"
   },
   {
    "duration": 399,
    "start_time": "2022-11-20T16:42:21.388Z"
   },
   {
    "duration": 6,
    "start_time": "2022-11-20T16:47:06.453Z"
   },
   {
    "duration": 7,
    "start_time": "2022-11-20T16:49:43.248Z"
   },
   {
    "duration": 8,
    "start_time": "2022-11-20T16:50:17.608Z"
   },
   {
    "duration": 5,
    "start_time": "2022-11-20T16:51:34.985Z"
   },
   {
    "duration": 128,
    "start_time": "2022-11-20T16:58:29.388Z"
   },
   {
    "duration": 5,
    "start_time": "2022-11-20T16:58:32.880Z"
   }
  ],
  "kernelspec": {
   "display_name": "Python 3 (ipykernel)",
   "language": "python",
   "name": "python3"
  },
  "language_info": {
   "codemirror_mode": {
    "name": "ipython",
    "version": 3
   },
   "file_extension": ".py",
   "mimetype": "text/x-python",
   "name": "python",
   "nbconvert_exporter": "python",
   "pygments_lexer": "ipython3",
   "version": "3.9.5"
  },
  "toc": {
   "base_numbering": 1,
   "nav_menu": {},
   "number_sections": true,
   "sideBar": true,
   "skip_h1_title": true,
   "title_cell": "Table of Contents",
   "title_sidebar": "Contents",
   "toc_cell": false,
   "toc_position": {},
   "toc_section_display": true,
   "toc_window_display": false
  }
 },
 "nbformat": 4,
 "nbformat_minor": 2
}
