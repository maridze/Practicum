{
 "cells": [
  {
   "attachments": {},
   "cell_type": "markdown",
   "metadata": {},
   "source": [
    "# Исследование рынка игр\n",
    "Вы работаете в интернет-магазине «Стримчик», который продаёт по всему миру компьютерные игры. Из открытых источников доступны исторические данные о продажах игр, оценки пользователей и экспертов, жанры и платформы (например, Xbox или PlayStation). Вам нужно выявить определяющие успешность игры закономерности. Это позволит сделать ставку на потенциально популярный продукт и спланировать рекламные кампании.\n",
    "\n",
    "Перед вами данные до 2016 года. Представим, что сейчас декабрь 2016 г., и вы планируете кампанию на 2017-й. Нужно отработать принцип работы с данными. Неважно, прогнозируете ли вы продажи на 2017 год по данным 2016-го или же 2027-й — по данным 2026 года.\n",
    "\n",
    "В наборе данных попадается аббревиатура ESRB (Entertainment Software Rating Board) — это ассоциация, определяющая возрастной рейтинг компьютерных игр. ESRB оценивает игровой контент и присваивает ему подходящую возрастную категорию, например, «Для взрослых», «Для детей младшего возраста» или «Для подростков».\n",
    "\n",
    "План работы:\n",
    "1. Изучить данные \n",
    "2. Обработать данные\n",
    "3. Провести исследовательский анализ данных в том числе выбрать актуальный период для прогноза, сформировать некоторые выводы относительно влияния рейтинга и отзывов и тд.\n",
    "4. Сотавить портрет игрока каждого региона\n",
    "5. Проверить гипотезы относительно равенства средних пользовательских рейтингов\n",
    "6. Написать общий вывод"
   ]
  },
  {
   "attachments": {},
   "cell_type": "markdown",
   "metadata": {},
   "source": [
    "### Общая информация"
   ]
  },
  {
   "cell_type": "code",
   "execution_count": 1,
   "metadata": {},
   "outputs": [],
   "source": [
    "import pandas as pd\n",
    "import matplotlib.pyplot as plt\n",
    "import seaborn as sns\n",
    "import re\n",
    "import numpy as np\n",
    "from scipy import stats as st"
   ]
  },
  {
   "cell_type": "code",
   "execution_count": 2,
   "metadata": {},
   "outputs": [
    {
     "name": "stdout",
     "output_type": "stream",
     "text": [
      "<class 'pandas.core.frame.DataFrame'>\n",
      "RangeIndex: 16715 entries, 0 to 16714\n",
      "Data columns (total 11 columns):\n",
      " #   Column           Non-Null Count  Dtype  \n",
      "---  ------           --------------  -----  \n",
      " 0   Name             16713 non-null  object \n",
      " 1   Platform         16715 non-null  object \n",
      " 2   Year_of_Release  16446 non-null  float64\n",
      " 3   Genre            16713 non-null  object \n",
      " 4   NA_sales         16715 non-null  float64\n",
      " 5   EU_sales         16715 non-null  float64\n",
      " 6   JP_sales         16715 non-null  float64\n",
      " 7   Other_sales      16715 non-null  float64\n",
      " 8   Critic_Score     8137 non-null   float64\n",
      " 9   User_Score       10014 non-null  object \n",
      " 10  Rating           9949 non-null   object \n",
      "dtypes: float64(6), object(5)\n",
      "memory usage: 1.4+ MB\n"
     ]
    }
   ],
   "source": [
    "data = pd.read_csv('/datasets/games.csv')\n",
    "data.info()"
   ]
  },
  {
   "attachments": {},
   "cell_type": "markdown",
   "metadata": {},
   "source": [
    "* Name — название игры\n",
    "* Platform — платформа\n",
    "* Year_of_Release — год выпуска\n",
    "* Genre — жанр игры\n",
    "* NA_sales — продажи в Северной Америке (миллионы проданных копий)\n",
    "* EU_sales — продажи в Европе (миллионы проданных копий)\n",
    "* JP_sales — продажи в Японии (миллионы проданных копий)\n",
    "* Other_sales — продажи в других странах (миллионы проданных копий)\n",
    "* Critic_Score — оценка критиков (максимум 100)\n",
    "* User_Score — оценка пользователей (максимум 10)\n",
    "* Rating — рейтинг от организации ESRB (англ. Entertainment Software Rating Board). Эта ассоциация определяет рейтинг компьютерных игр и присваивает им подходящую возрастную категорию."
   ]
  },
  {
   "cell_type": "code",
   "execution_count": 3,
   "metadata": {},
   "outputs": [
    {
     "data": {
      "text/html": [
       "<div>\n",
       "<style scoped>\n",
       "    .dataframe tbody tr th:only-of-type {\n",
       "        vertical-align: middle;\n",
       "    }\n",
       "\n",
       "    .dataframe tbody tr th {\n",
       "        vertical-align: top;\n",
       "    }\n",
       "\n",
       "    .dataframe thead th {\n",
       "        text-align: right;\n",
       "    }\n",
       "</style>\n",
       "<table border=\"1\" class=\"dataframe\">\n",
       "  <thead>\n",
       "    <tr style=\"text-align: right;\">\n",
       "      <th></th>\n",
       "      <th>Name</th>\n",
       "      <th>Platform</th>\n",
       "      <th>Year_of_Release</th>\n",
       "      <th>Genre</th>\n",
       "      <th>NA_sales</th>\n",
       "      <th>EU_sales</th>\n",
       "      <th>JP_sales</th>\n",
       "      <th>Other_sales</th>\n",
       "      <th>Critic_Score</th>\n",
       "      <th>User_Score</th>\n",
       "      <th>Rating</th>\n",
       "    </tr>\n",
       "  </thead>\n",
       "  <tbody>\n",
       "    <tr>\n",
       "      <th>0</th>\n",
       "      <td>Wii Sports</td>\n",
       "      <td>Wii</td>\n",
       "      <td>2006.0</td>\n",
       "      <td>Sports</td>\n",
       "      <td>41.36</td>\n",
       "      <td>28.96</td>\n",
       "      <td>3.77</td>\n",
       "      <td>8.45</td>\n",
       "      <td>76.0</td>\n",
       "      <td>8</td>\n",
       "      <td>E</td>\n",
       "    </tr>\n",
       "    <tr>\n",
       "      <th>1</th>\n",
       "      <td>Super Mario Bros.</td>\n",
       "      <td>NES</td>\n",
       "      <td>1985.0</td>\n",
       "      <td>Platform</td>\n",
       "      <td>29.08</td>\n",
       "      <td>3.58</td>\n",
       "      <td>6.81</td>\n",
       "      <td>0.77</td>\n",
       "      <td>NaN</td>\n",
       "      <td>NaN</td>\n",
       "      <td>NaN</td>\n",
       "    </tr>\n",
       "    <tr>\n",
       "      <th>2</th>\n",
       "      <td>Mario Kart Wii</td>\n",
       "      <td>Wii</td>\n",
       "      <td>2008.0</td>\n",
       "      <td>Racing</td>\n",
       "      <td>15.68</td>\n",
       "      <td>12.76</td>\n",
       "      <td>3.79</td>\n",
       "      <td>3.29</td>\n",
       "      <td>82.0</td>\n",
       "      <td>8.3</td>\n",
       "      <td>E</td>\n",
       "    </tr>\n",
       "    <tr>\n",
       "      <th>3</th>\n",
       "      <td>Wii Sports Resort</td>\n",
       "      <td>Wii</td>\n",
       "      <td>2009.0</td>\n",
       "      <td>Sports</td>\n",
       "      <td>15.61</td>\n",
       "      <td>10.93</td>\n",
       "      <td>3.28</td>\n",
       "      <td>2.95</td>\n",
       "      <td>80.0</td>\n",
       "      <td>8</td>\n",
       "      <td>E</td>\n",
       "    </tr>\n",
       "    <tr>\n",
       "      <th>4</th>\n",
       "      <td>Pokemon Red/Pokemon Blue</td>\n",
       "      <td>GB</td>\n",
       "      <td>1996.0</td>\n",
       "      <td>Role-Playing</td>\n",
       "      <td>11.27</td>\n",
       "      <td>8.89</td>\n",
       "      <td>10.22</td>\n",
       "      <td>1.00</td>\n",
       "      <td>NaN</td>\n",
       "      <td>NaN</td>\n",
       "      <td>NaN</td>\n",
       "    </tr>\n",
       "    <tr>\n",
       "      <th>5</th>\n",
       "      <td>Tetris</td>\n",
       "      <td>GB</td>\n",
       "      <td>1989.0</td>\n",
       "      <td>Puzzle</td>\n",
       "      <td>23.20</td>\n",
       "      <td>2.26</td>\n",
       "      <td>4.22</td>\n",
       "      <td>0.58</td>\n",
       "      <td>NaN</td>\n",
       "      <td>NaN</td>\n",
       "      <td>NaN</td>\n",
       "    </tr>\n",
       "    <tr>\n",
       "      <th>6</th>\n",
       "      <td>New Super Mario Bros.</td>\n",
       "      <td>DS</td>\n",
       "      <td>2006.0</td>\n",
       "      <td>Platform</td>\n",
       "      <td>11.28</td>\n",
       "      <td>9.14</td>\n",
       "      <td>6.50</td>\n",
       "      <td>2.88</td>\n",
       "      <td>89.0</td>\n",
       "      <td>8.5</td>\n",
       "      <td>E</td>\n",
       "    </tr>\n",
       "    <tr>\n",
       "      <th>7</th>\n",
       "      <td>Wii Play</td>\n",
       "      <td>Wii</td>\n",
       "      <td>2006.0</td>\n",
       "      <td>Misc</td>\n",
       "      <td>13.96</td>\n",
       "      <td>9.18</td>\n",
       "      <td>2.93</td>\n",
       "      <td>2.84</td>\n",
       "      <td>58.0</td>\n",
       "      <td>6.6</td>\n",
       "      <td>E</td>\n",
       "    </tr>\n",
       "    <tr>\n",
       "      <th>8</th>\n",
       "      <td>New Super Mario Bros. Wii</td>\n",
       "      <td>Wii</td>\n",
       "      <td>2009.0</td>\n",
       "      <td>Platform</td>\n",
       "      <td>14.44</td>\n",
       "      <td>6.94</td>\n",
       "      <td>4.70</td>\n",
       "      <td>2.24</td>\n",
       "      <td>87.0</td>\n",
       "      <td>8.4</td>\n",
       "      <td>E</td>\n",
       "    </tr>\n",
       "    <tr>\n",
       "      <th>9</th>\n",
       "      <td>Duck Hunt</td>\n",
       "      <td>NES</td>\n",
       "      <td>1984.0</td>\n",
       "      <td>Shooter</td>\n",
       "      <td>26.93</td>\n",
       "      <td>0.63</td>\n",
       "      <td>0.28</td>\n",
       "      <td>0.47</td>\n",
       "      <td>NaN</td>\n",
       "      <td>NaN</td>\n",
       "      <td>NaN</td>\n",
       "    </tr>\n",
       "  </tbody>\n",
       "</table>\n",
       "</div>"
      ],
      "text/plain": [
       "                        Name Platform  Year_of_Release         Genre  \\\n",
       "0                 Wii Sports      Wii           2006.0        Sports   \n",
       "1          Super Mario Bros.      NES           1985.0      Platform   \n",
       "2             Mario Kart Wii      Wii           2008.0        Racing   \n",
       "3          Wii Sports Resort      Wii           2009.0        Sports   \n",
       "4   Pokemon Red/Pokemon Blue       GB           1996.0  Role-Playing   \n",
       "5                     Tetris       GB           1989.0        Puzzle   \n",
       "6      New Super Mario Bros.       DS           2006.0      Platform   \n",
       "7                   Wii Play      Wii           2006.0          Misc   \n",
       "8  New Super Mario Bros. Wii      Wii           2009.0      Platform   \n",
       "9                  Duck Hunt      NES           1984.0       Shooter   \n",
       "\n",
       "   NA_sales  EU_sales  JP_sales  Other_sales  Critic_Score User_Score Rating  \n",
       "0     41.36     28.96      3.77         8.45          76.0          8      E  \n",
       "1     29.08      3.58      6.81         0.77           NaN        NaN    NaN  \n",
       "2     15.68     12.76      3.79         3.29          82.0        8.3      E  \n",
       "3     15.61     10.93      3.28         2.95          80.0          8      E  \n",
       "4     11.27      8.89     10.22         1.00           NaN        NaN    NaN  \n",
       "5     23.20      2.26      4.22         0.58           NaN        NaN    NaN  \n",
       "6     11.28      9.14      6.50         2.88          89.0        8.5      E  \n",
       "7     13.96      9.18      2.93         2.84          58.0        6.6      E  \n",
       "8     14.44      6.94      4.70         2.24          87.0        8.4      E  \n",
       "9     26.93      0.63      0.28         0.47           NaN        NaN    NaN  "
      ]
     },
     "execution_count": 3,
     "metadata": {},
     "output_type": "execute_result"
    }
   ],
   "source": [
    "data.head(10)"
   ]
  },
  {
   "cell_type": "code",
   "execution_count": 4,
   "metadata": {},
   "outputs": [
    {
     "data": {
      "text/html": [
       "<div>\n",
       "<style scoped>\n",
       "    .dataframe tbody tr th:only-of-type {\n",
       "        vertical-align: middle;\n",
       "    }\n",
       "\n",
       "    .dataframe tbody tr th {\n",
       "        vertical-align: top;\n",
       "    }\n",
       "\n",
       "    .dataframe thead th {\n",
       "        text-align: right;\n",
       "    }\n",
       "</style>\n",
       "<table border=\"1\" class=\"dataframe\">\n",
       "  <thead>\n",
       "    <tr style=\"text-align: right;\">\n",
       "      <th></th>\n",
       "      <th>Year_of_Release</th>\n",
       "      <th>NA_sales</th>\n",
       "      <th>EU_sales</th>\n",
       "      <th>JP_sales</th>\n",
       "      <th>Other_sales</th>\n",
       "      <th>Critic_Score</th>\n",
       "    </tr>\n",
       "  </thead>\n",
       "  <tbody>\n",
       "    <tr>\n",
       "      <th>count</th>\n",
       "      <td>16446.000000</td>\n",
       "      <td>16715.000000</td>\n",
       "      <td>16715.000000</td>\n",
       "      <td>16715.000000</td>\n",
       "      <td>16715.000000</td>\n",
       "      <td>8137.000000</td>\n",
       "    </tr>\n",
       "    <tr>\n",
       "      <th>mean</th>\n",
       "      <td>2006.484616</td>\n",
       "      <td>0.263377</td>\n",
       "      <td>0.145060</td>\n",
       "      <td>0.077617</td>\n",
       "      <td>0.047342</td>\n",
       "      <td>68.967679</td>\n",
       "    </tr>\n",
       "    <tr>\n",
       "      <th>std</th>\n",
       "      <td>5.877050</td>\n",
       "      <td>0.813604</td>\n",
       "      <td>0.503339</td>\n",
       "      <td>0.308853</td>\n",
       "      <td>0.186731</td>\n",
       "      <td>13.938165</td>\n",
       "    </tr>\n",
       "    <tr>\n",
       "      <th>min</th>\n",
       "      <td>1980.000000</td>\n",
       "      <td>0.000000</td>\n",
       "      <td>0.000000</td>\n",
       "      <td>0.000000</td>\n",
       "      <td>0.000000</td>\n",
       "      <td>13.000000</td>\n",
       "    </tr>\n",
       "    <tr>\n",
       "      <th>25%</th>\n",
       "      <td>2003.000000</td>\n",
       "      <td>0.000000</td>\n",
       "      <td>0.000000</td>\n",
       "      <td>0.000000</td>\n",
       "      <td>0.000000</td>\n",
       "      <td>60.000000</td>\n",
       "    </tr>\n",
       "    <tr>\n",
       "      <th>50%</th>\n",
       "      <td>2007.000000</td>\n",
       "      <td>0.080000</td>\n",
       "      <td>0.020000</td>\n",
       "      <td>0.000000</td>\n",
       "      <td>0.010000</td>\n",
       "      <td>71.000000</td>\n",
       "    </tr>\n",
       "    <tr>\n",
       "      <th>75%</th>\n",
       "      <td>2010.000000</td>\n",
       "      <td>0.240000</td>\n",
       "      <td>0.110000</td>\n",
       "      <td>0.040000</td>\n",
       "      <td>0.030000</td>\n",
       "      <td>79.000000</td>\n",
       "    </tr>\n",
       "    <tr>\n",
       "      <th>max</th>\n",
       "      <td>2016.000000</td>\n",
       "      <td>41.360000</td>\n",
       "      <td>28.960000</td>\n",
       "      <td>10.220000</td>\n",
       "      <td>10.570000</td>\n",
       "      <td>98.000000</td>\n",
       "    </tr>\n",
       "  </tbody>\n",
       "</table>\n",
       "</div>"
      ],
      "text/plain": [
       "       Year_of_Release      NA_sales      EU_sales      JP_sales  \\\n",
       "count     16446.000000  16715.000000  16715.000000  16715.000000   \n",
       "mean       2006.484616      0.263377      0.145060      0.077617   \n",
       "std           5.877050      0.813604      0.503339      0.308853   \n",
       "min        1980.000000      0.000000      0.000000      0.000000   \n",
       "25%        2003.000000      0.000000      0.000000      0.000000   \n",
       "50%        2007.000000      0.080000      0.020000      0.000000   \n",
       "75%        2010.000000      0.240000      0.110000      0.040000   \n",
       "max        2016.000000     41.360000     28.960000     10.220000   \n",
       "\n",
       "        Other_sales  Critic_Score  \n",
       "count  16715.000000   8137.000000  \n",
       "mean       0.047342     68.967679  \n",
       "std        0.186731     13.938165  \n",
       "min        0.000000     13.000000  \n",
       "25%        0.000000     60.000000  \n",
       "50%        0.010000     71.000000  \n",
       "75%        0.030000     79.000000  \n",
       "max       10.570000     98.000000  "
      ]
     },
     "execution_count": 4,
     "metadata": {},
     "output_type": "execute_result"
    }
   ],
   "source": [
    "data.describe()"
   ]
  },
  {
   "cell_type": "code",
   "execution_count": 5,
   "metadata": {},
   "outputs": [
    {
     "data": {
      "image/png": "[encoded data removed]",
      "text/plain": [
       "<Figure size 1080x1440 with 6 Axes>"
      ]
     },
     "metadata": {
      "needs_background": "light"
     },
     "output_type": "display_data"
    }
   ],
   "source": [
    "data.hist(figsize=(15, 20));"
   ]
  },
  {
   "cell_type": "code",
   "execution_count": 6,
   "metadata": {},
   "outputs": [
    {
     "data": {
      "image/png": "[encoded data removed]",
      "text/plain": [
       "<Figure size 1080x720 with 1 Axes>"
      ]
     },
     "metadata": {
      "needs_background": "light"
     },
     "output_type": "display_data"
    }
   ],
   "source": [
    "(data\n",
    "    .isnull()\n",
    "    .sum()\n",
    "    .sort_values(ascending=False)\n",
    "    .plot(kind='bar',figsize=(15, 10))\n",
    ");"
   ]
  },
  {
   "cell_type": "code",
   "execution_count": 7,
   "metadata": {},
   "outputs": [
    {
     "data": {
      "text/plain": [
       "Name                  2\n",
       "Platform              0\n",
       "Year_of_Release     269\n",
       "Genre                 2\n",
       "NA_sales              0\n",
       "EU_sales              0\n",
       "JP_sales              0\n",
       "Other_sales           0\n",
       "Critic_Score       8578\n",
       "User_Score         6701\n",
       "Rating             6766\n",
       "dtype: int64"
      ]
     },
     "execution_count": 7,
     "metadata": {},
     "output_type": "execute_result"
    }
   ],
   "source": [
    "(data\n",
    "    .isnull()\n",
    "    .sum())"
   ]
  },
  {
   "cell_type": "code",
   "execution_count": 8,
   "metadata": {},
   "outputs": [
    {
     "data": {
      "text/plain": [
       "0"
      ]
     },
     "execution_count": 8,
     "metadata": {},
     "output_type": "execute_result"
    }
   ],
   "source": [
    "data.duplicated().sum()"
   ]
  },
  {
   "attachments": {},
   "cell_type": "markdown",
   "metadata": {},
   "source": [
    "#### Вывод\n",
    "Проблемы датасета:\n",
    "1. Плохой нейминг столбцов\n",
    "2. Ошибки типов данных(Year_of_Release   - дробное, User_Score - строка)\n",
    "3. Аномалия tbd в User_Score\n",
    "4. Много пропусков в столбцвх Year_of_Release, Critic_Score, User_Score и Rating."
   ]
  },
  {
   "attachments": {},
   "cell_type": "markdown",
   "metadata": {},
   "source": [
    "### Предобработка данных"
   ]
  },
  {
   "attachments": {},
   "cell_type": "markdown",
   "metadata": {},
   "source": [
    "#### Названия столбцов"
   ]
  },
  {
   "cell_type": "code",
   "execution_count": 9,
   "metadata": {},
   "outputs": [],
   "source": [
    "data = data.rename(columns=lambda x: x.lower())"
   ]
  },
  {
   "cell_type": "code",
   "execution_count": 10,
   "metadata": {},
   "outputs": [
    {
     "data": {
      "text/plain": [
       "Index(['name', 'platform', 'year_of_release', 'genre', 'na_sales', 'eu_sales',\n",
       "       'jp_sales', 'other_sales', 'critic_score', 'user_score', 'rating'],\n",
       "      dtype='object')"
      ]
     },
     "execution_count": 10,
     "metadata": {},
     "output_type": "execute_result"
    }
   ],
   "source": [
    "data.columns"
   ]
  },
  {
   "attachments": {},
   "cell_type": "markdown",
   "metadata": {},
   "source": [
    "#### Пропуски в названии"
   ]
  },
  {
   "cell_type": "code",
   "execution_count": 11,
   "metadata": {},
   "outputs": [
    {
     "data": {
      "text/html": [
       "<div>\n",
       "<style scoped>\n",
       "    .dataframe tbody tr th:only-of-type {\n",
       "        vertical-align: middle;\n",
       "    }\n",
       "\n",
       "    .dataframe tbody tr th {\n",
       "        vertical-align: top;\n",
       "    }\n",
       "\n",
       "    .dataframe thead th {\n",
       "        text-align: right;\n",
       "    }\n",
       "</style>\n",
       "<table border=\"1\" class=\"dataframe\">\n",
       "  <thead>\n",
       "    <tr style=\"text-align: right;\">\n",
       "      <th></th>\n",
       "      <th>name</th>\n",
       "      <th>platform</th>\n",
       "      <th>year_of_release</th>\n",
       "      <th>genre</th>\n",
       "      <th>na_sales</th>\n",
       "      <th>eu_sales</th>\n",
       "      <th>jp_sales</th>\n",
       "      <th>other_sales</th>\n",
       "      <th>critic_score</th>\n",
       "      <th>user_score</th>\n",
       "      <th>rating</th>\n",
       "    </tr>\n",
       "  </thead>\n",
       "  <tbody>\n",
       "    <tr>\n",
       "      <th>659</th>\n",
       "      <td>NaN</td>\n",
       "      <td>GEN</td>\n",
       "      <td>1993.0</td>\n",
       "      <td>NaN</td>\n",
       "      <td>1.78</td>\n",
       "      <td>0.53</td>\n",
       "      <td>0.00</td>\n",
       "      <td>0.08</td>\n",
       "      <td>NaN</td>\n",
       "      <td>NaN</td>\n",
       "      <td>NaN</td>\n",
       "    </tr>\n",
       "    <tr>\n",
       "      <th>14244</th>\n",
       "      <td>NaN</td>\n",
       "      <td>GEN</td>\n",
       "      <td>1993.0</td>\n",
       "      <td>NaN</td>\n",
       "      <td>0.00</td>\n",
       "      <td>0.00</td>\n",
       "      <td>0.03</td>\n",
       "      <td>0.00</td>\n",
       "      <td>NaN</td>\n",
       "      <td>NaN</td>\n",
       "      <td>NaN</td>\n",
       "    </tr>\n",
       "  </tbody>\n",
       "</table>\n",
       "</div>"
      ],
      "text/plain": [
       "      name platform  year_of_release genre  na_sales  eu_sales  jp_sales  \\\n",
       "659    NaN      GEN           1993.0   NaN      1.78      0.53      0.00   \n",
       "14244  NaN      GEN           1993.0   NaN      0.00      0.00      0.03   \n",
       "\n",
       "       other_sales  critic_score user_score rating  \n",
       "659           0.08           NaN        NaN    NaN  \n",
       "14244         0.00           NaN        NaN    NaN  "
      ]
     },
     "execution_count": 11,
     "metadata": {},
     "output_type": "execute_result"
    }
   ],
   "source": [
    "data[data['name'].isna()]"
   ]
  },
  {
   "cell_type": "code",
   "execution_count": 12,
   "metadata": {},
   "outputs": [],
   "source": [
    "data = data.dropna(subset=['name']).reset_index(drop=True)"
   ]
  },
  {
   "attachments": {},
   "cell_type": "markdown",
   "metadata": {},
   "source": [
    "#### Год выпуска (пропуски, тип данных)"
   ]
  },
  {
   "cell_type": "code",
   "execution_count": 13,
   "metadata": {},
   "outputs": [
    {
     "data": {
      "text/plain": [
       "269"
      ]
     },
     "execution_count": 13,
     "metadata": {},
     "output_type": "execute_result"
    }
   ],
   "source": [
    "data['year_of_release'].isna().sum()"
   ]
  },
  {
   "cell_type": "code",
   "execution_count": 14,
   "metadata": {},
   "outputs": [
    {
     "data": {
      "text/html": [
       "<div>\n",
       "<style scoped>\n",
       "    .dataframe tbody tr th:only-of-type {\n",
       "        vertical-align: middle;\n",
       "    }\n",
       "\n",
       "    .dataframe tbody tr th {\n",
       "        vertical-align: top;\n",
       "    }\n",
       "\n",
       "    .dataframe thead th {\n",
       "        text-align: right;\n",
       "    }\n",
       "</style>\n",
       "<table border=\"1\" class=\"dataframe\">\n",
       "  <thead>\n",
       "    <tr style=\"text-align: right;\">\n",
       "      <th></th>\n",
       "      <th>name</th>\n",
       "      <th>platform</th>\n",
       "      <th>year_of_release</th>\n",
       "      <th>genre</th>\n",
       "      <th>na_sales</th>\n",
       "      <th>eu_sales</th>\n",
       "      <th>jp_sales</th>\n",
       "      <th>other_sales</th>\n",
       "      <th>critic_score</th>\n",
       "      <th>user_score</th>\n",
       "      <th>rating</th>\n",
       "    </tr>\n",
       "  </thead>\n",
       "  <tbody>\n",
       "    <tr>\n",
       "      <th>5335</th>\n",
       "      <td>Tomb Raider (2013)</td>\n",
       "      <td>PC</td>\n",
       "      <td>NaN</td>\n",
       "      <td>Action</td>\n",
       "      <td>0.06</td>\n",
       "      <td>0.25</td>\n",
       "      <td>0.0</td>\n",
       "      <td>0.04</td>\n",
       "      <td>86.0</td>\n",
       "      <td>8.5</td>\n",
       "      <td>M</td>\n",
       "    </tr>\n",
       "  </tbody>\n",
       "</table>\n",
       "</div>"
      ],
      "text/plain": [
       "                    name platform  year_of_release   genre  na_sales  \\\n",
       "5335  Tomb Raider (2013)       PC              NaN  Action      0.06   \n",
       "\n",
       "      eu_sales  jp_sales  other_sales  critic_score user_score rating  \n",
       "5335      0.25       0.0         0.04          86.0        8.5      M  "
      ]
     },
     "execution_count": 14,
     "metadata": {},
     "output_type": "execute_result"
    }
   ],
   "source": [
    "data[(data['name']=='Tomb Raider (2013)') & (data['platform'] == 'PC')]"
   ]
  },
  {
   "cell_type": "code",
   "execution_count": 15,
   "metadata": {},
   "outputs": [],
   "source": [
    "data.loc[5335, 'year_of_release'] = 2013\n"
   ]
  },
  {
   "cell_type": "code",
   "execution_count": 16,
   "metadata": {},
   "outputs": [
    {
     "data": {
      "text/plain": [
       "name               Yu-Gi-Oh! 5D's Wheelie Breakers (JP sales)\n",
       "platform                                                  Wii\n",
       "year_of_release                                           NaN\n",
       "genre                                                  Racing\n",
       "na_sales                                                  0.0\n",
       "eu_sales                                                  0.0\n",
       "jp_sales                                                 0.02\n",
       "other_sales                                               0.0\n",
       "critic_score                                              NaN\n",
       "user_score                                                NaN\n",
       "rating                                                    NaN\n",
       "Name: 15555, dtype: object"
      ]
     },
     "execution_count": 16,
     "metadata": {},
     "output_type": "execute_result"
    }
   ],
   "source": [
    "data.loc[15555]"
   ]
  },
  {
   "attachments": {},
   "cell_type": "markdown",
   "metadata": {},
   "source": [
    "Можно заметить, что у некоторых игр можно восстановить год релиза по названию, так как спортивные симуляторы выпускают игры на следующий сезон. Например если FIFA Soccer 2004 значит она была выпущена в прошлом году. "
   ]
  },
  {
   "cell_type": "code",
   "execution_count": 17,
   "metadata": {},
   "outputs": [],
   "source": [
    "missing_year = data[data['year_of_release'].isna()]['name'].to_dict()\n",
    "for s in missing_year:\n",
    "    nums = re.findall(r'\\d+', missing_year[s])\n",
    "    missing_year[s] = nums\n",
    "missing_year = dict(filter(lambda x:x[1], missing_year.items()))"
   ]
  },
  {
   "cell_type": "code",
   "execution_count": 18,
   "metadata": {},
   "outputs": [],
   "source": [
    "for s in missing_year:\n",
    "    if len(missing_year[s][0])==4:\n",
    "        missing_year[s] = int(missing_year[s][0])-1\n",
    "    elif (len(missing_year[s])==2) & (missing_year[s][0]=='2'):\n",
    "         missing_year[s] = int(missing_year[s][0])*1000 + int(missing_year[s][1]) - 1\n",
    "    elif  (missing_year[s][0]=='06') | (missing_year[s][0]=='07') | (missing_year[s][0]=='11'):\n",
    "         missing_year[s] = int(\"20\"+missing_year[s][0]) - 1\n",
    "for key, value in missing_year.items():\n",
    "    if type(value) != list:\n",
    "        data.loc[key, 'year_of_release'] = value"
   ]
  },
  {
   "cell_type": "code",
   "execution_count": 19,
   "metadata": {},
   "outputs": [
    {
     "data": {
      "text/plain": [
       "245"
      ]
     },
     "execution_count": 19,
     "metadata": {},
     "output_type": "execute_result"
    }
   ],
   "source": [
    "data['year_of_release'].isna().sum()"
   ]
  },
  {
   "cell_type": "code",
   "execution_count": 20,
   "metadata": {},
   "outputs": [],
   "source": [
    "data = data.dropna(subset=['year_of_release']).reset_index(drop=True)"
   ]
  },
  {
   "attachments": {},
   "cell_type": "markdown",
   "metadata": {},
   "source": [
    "Мой код работает следующим образом:\n",
    "1. Образует словарь по типу индекс - список цифр встречающихся в названии\n",
    "2. Удаляет пустые списки вместе с ключами из словаря\n",
    "3. Преобразует необходимые оставшиеся цифры в года\n",
    "4. Заполняет пропуски в датафрейме\n",
    "\n",
    "Оставшиеся 245 значений можно было заполнить при помощи парсинга или вручную, но это трудоемко и является 1,4% датафрейма, поэтому их я просто удалил. "
   ]
  },
  {
   "cell_type": "code",
   "execution_count": 21,
   "metadata": {},
   "outputs": [],
   "source": [
    "data['year_of_release'] = data['year_of_release'].astype(int) "
   ]
  },
  {
   "attachments": {},
   "cell_type": "markdown",
   "metadata": {},
   "source": [
    "Тип необходимо заменить, так как год - целое число."
   ]
  },
  {
   "attachments": {},
   "cell_type": "markdown",
   "metadata": {},
   "source": [
    "#### Оценка пользователей"
   ]
  },
  {
   "cell_type": "code",
   "execution_count": 22,
   "metadata": {},
   "outputs": [
    {
     "data": {
      "text/plain": [
       "tbd    2380\n",
       "7.8     322\n",
       "8       285\n",
       "8.2     277\n",
       "8.3     252\n",
       "       ... \n",
       "0.3       2\n",
       "1         2\n",
       "0.9       2\n",
       "9.7       1\n",
       "0         1\n",
       "Name: user_score, Length: 96, dtype: int64"
      ]
     },
     "execution_count": 22,
     "metadata": {},
     "output_type": "execute_result"
    }
   ],
   "source": [
    "data['user_score'].value_counts()"
   ]
  },
  {
   "cell_type": "code",
   "execution_count": 23,
   "metadata": {},
   "outputs": [],
   "source": [
    "data = data.replace('tbd', np.nan)"
   ]
  },
  {
   "cell_type": "code",
   "execution_count": 24,
   "metadata": {},
   "outputs": [],
   "source": [
    "data['user_score'] = data['user_score'].astype(float) "
   ]
  },
  {
   "attachments": {},
   "cell_type": "markdown",
   "metadata": {},
   "source": [
    "DEFINITION: “TBA” and “TBD” mean “to be announced” and “to be determined,” respectively. Значит пользователи пока не дали оценку этой игре. Заменил их на NaN. Заменил тип данных на float, так как рейтинг - дробное число."
   ]
  },
  {
   "attachments": {},
   "cell_type": "markdown",
   "metadata": {},
   "source": [
    "#### Рейтинг"
   ]
  },
  {
   "cell_type": "code",
   "execution_count": 25,
   "metadata": {},
   "outputs": [],
   "source": [
    "data['rating'] = data['rating'].fillna('unknown')"
   ]
  },
  {
   "attachments": {},
   "cell_type": "markdown",
   "metadata": {},
   "source": [
    "Пропуски заменим на специальную категорию."
   ]
  },
  {
   "attachments": {},
   "cell_type": "markdown",
   "metadata": {},
   "source": [
    "#### Общие продажи"
   ]
  },
  {
   "cell_type": "code",
   "execution_count": 26,
   "metadata": {},
   "outputs": [
    {
     "data": {
      "text/html": [
       "<div>\n",
       "<style scoped>\n",
       "    .dataframe tbody tr th:only-of-type {\n",
       "        vertical-align: middle;\n",
       "    }\n",
       "\n",
       "    .dataframe tbody tr th {\n",
       "        vertical-align: top;\n",
       "    }\n",
       "\n",
       "    .dataframe thead th {\n",
       "        text-align: right;\n",
       "    }\n",
       "</style>\n",
       "<table border=\"1\" class=\"dataframe\">\n",
       "  <thead>\n",
       "    <tr style=\"text-align: right;\">\n",
       "      <th></th>\n",
       "      <th>name</th>\n",
       "      <th>platform</th>\n",
       "      <th>year_of_release</th>\n",
       "      <th>genre</th>\n",
       "      <th>na_sales</th>\n",
       "      <th>eu_sales</th>\n",
       "      <th>jp_sales</th>\n",
       "      <th>other_sales</th>\n",
       "      <th>critic_score</th>\n",
       "      <th>user_score</th>\n",
       "      <th>rating</th>\n",
       "      <th>global_sales</th>\n",
       "    </tr>\n",
       "  </thead>\n",
       "  <tbody>\n",
       "    <tr>\n",
       "      <th>0</th>\n",
       "      <td>Wii Sports</td>\n",
       "      <td>Wii</td>\n",
       "      <td>2006</td>\n",
       "      <td>Sports</td>\n",
       "      <td>41.36</td>\n",
       "      <td>28.96</td>\n",
       "      <td>3.77</td>\n",
       "      <td>8.45</td>\n",
       "      <td>76.0</td>\n",
       "      <td>8.0</td>\n",
       "      <td>E</td>\n",
       "      <td>82.54</td>\n",
       "    </tr>\n",
       "    <tr>\n",
       "      <th>1</th>\n",
       "      <td>Super Mario Bros.</td>\n",
       "      <td>NES</td>\n",
       "      <td>1985</td>\n",
       "      <td>Platform</td>\n",
       "      <td>29.08</td>\n",
       "      <td>3.58</td>\n",
       "      <td>6.81</td>\n",
       "      <td>0.77</td>\n",
       "      <td>NaN</td>\n",
       "      <td>NaN</td>\n",
       "      <td>unknown</td>\n",
       "      <td>40.24</td>\n",
       "    </tr>\n",
       "    <tr>\n",
       "      <th>2</th>\n",
       "      <td>Mario Kart Wii</td>\n",
       "      <td>Wii</td>\n",
       "      <td>2008</td>\n",
       "      <td>Racing</td>\n",
       "      <td>15.68</td>\n",
       "      <td>12.76</td>\n",
       "      <td>3.79</td>\n",
       "      <td>3.29</td>\n",
       "      <td>82.0</td>\n",
       "      <td>8.3</td>\n",
       "      <td>E</td>\n",
       "      <td>35.52</td>\n",
       "    </tr>\n",
       "    <tr>\n",
       "      <th>3</th>\n",
       "      <td>Wii Sports Resort</td>\n",
       "      <td>Wii</td>\n",
       "      <td>2009</td>\n",
       "      <td>Sports</td>\n",
       "      <td>15.61</td>\n",
       "      <td>10.93</td>\n",
       "      <td>3.28</td>\n",
       "      <td>2.95</td>\n",
       "      <td>80.0</td>\n",
       "      <td>8.0</td>\n",
       "      <td>E</td>\n",
       "      <td>32.77</td>\n",
       "    </tr>\n",
       "    <tr>\n",
       "      <th>4</th>\n",
       "      <td>Pokemon Red/Pokemon Blue</td>\n",
       "      <td>GB</td>\n",
       "      <td>1996</td>\n",
       "      <td>Role-Playing</td>\n",
       "      <td>11.27</td>\n",
       "      <td>8.89</td>\n",
       "      <td>10.22</td>\n",
       "      <td>1.00</td>\n",
       "      <td>NaN</td>\n",
       "      <td>NaN</td>\n",
       "      <td>unknown</td>\n",
       "      <td>31.38</td>\n",
       "    </tr>\n",
       "  </tbody>\n",
       "</table>\n",
       "</div>"
      ],
      "text/plain": [
       "                       name platform  year_of_release         genre  na_sales  \\\n",
       "0                Wii Sports      Wii             2006        Sports     41.36   \n",
       "1         Super Mario Bros.      NES             1985      Platform     29.08   \n",
       "2            Mario Kart Wii      Wii             2008        Racing     15.68   \n",
       "3         Wii Sports Resort      Wii             2009        Sports     15.61   \n",
       "4  Pokemon Red/Pokemon Blue       GB             1996  Role-Playing     11.27   \n",
       "\n",
       "   eu_sales  jp_sales  other_sales  critic_score  user_score   rating  \\\n",
       "0     28.96      3.77         8.45          76.0         8.0        E   \n",
       "1      3.58      6.81         0.77           NaN         NaN  unknown   \n",
       "2     12.76      3.79         3.29          82.0         8.3        E   \n",
       "3     10.93      3.28         2.95          80.0         8.0        E   \n",
       "4      8.89     10.22         1.00           NaN         NaN  unknown   \n",
       "\n",
       "   global_sales  \n",
       "0         82.54  \n",
       "1         40.24  \n",
       "2         35.52  \n",
       "3         32.77  \n",
       "4         31.38  "
      ]
     },
     "execution_count": 26,
     "metadata": {},
     "output_type": "execute_result"
    }
   ],
   "source": [
    "data['global_sales'] = (data['na_sales'] + \n",
    "                        data['eu_sales'] + \n",
    "                        data['jp_sales'] + \n",
    "                        data['other_sales'])\n",
    "data.head()"
   ]
  },
  {
   "attachments": {},
   "cell_type": "markdown",
   "metadata": {},
   "source": [
    "#### Вывод\n",
    "Пропуски в столбцах name и genre это вероятно одна и та же игра вышедшая на разных рынках. Вероятно ошибка при выгрузке.\n",
    "\n",
    "Пропуски в year_of_release случайны, возможно инфорации не было в источниках с которых брали данные \n",
    "\n",
    "Пропуски в Critic_Score, User_Score и Rating не случайны. Агенства могут не оценивать низкобюджетные и малоизвестные игры, то же самое со старыми играми. Из-за этого в большинстве случаев отсутсвуют оценки игроков или ESRB оценка.\n",
    "\n",
    "Была проделана работа по предобработке:\n",
    "1. Названия столбцов было приведено к нижнему регистру\n",
    "2. Восстановлены некоторые пропуски в строках.\n",
    "3. Добавлен столбец общих продаж."
   ]
  },
  {
   "attachments": {},
   "cell_type": "markdown",
   "metadata": {},
   "source": [
    "### Исследовательский анализ данных"
   ]
  },
  {
   "attachments": {},
   "cell_type": "markdown",
   "metadata": {},
   "source": [
    "#### Посмотрите, сколько игр выпускалось в разные годы. Важны ли данные за все периоды?"
   ]
  },
  {
   "cell_type": "code",
   "execution_count": 27,
   "metadata": {},
   "outputs": [
    {
     "data": {
      "image/png": "[encoded data removed]",
      "text/plain": [
       "<Figure size 864x576 with 1 Axes>"
      ]
     },
     "metadata": {
      "needs_background": "light"
     },
     "output_type": "display_data"
    }
   ],
   "source": [
    "plt.figure(figsize=(12, 8))\n",
    "games_per_year = (data\n",
    "    .pivot_table(index = 'year_of_release', \n",
    "                 values = 'name', \n",
    "                 aggfunc ='count')\n",
    ")\n",
    "sns.barplot(data=games_per_year, \n",
    "            y=games_per_year.index, \n",
    "            x=\"name\",\n",
    "            orient='h',)\n",
    "\n",
    "plt.ylabel('Год релиза')\n",
    "plt.xlabel('Число вышедших игр')\n",
    "plt.title('Распределение количества выпущенных игр по годам');"
   ]
  },
  {
   "attachments": {},
   "cell_type": "markdown",
   "metadata": {},
   "source": [
    "Очевидно, что нам не важны продажи за все время, так как индустрия пережила много изменений. Среди этих изменений смены поколейни консолей, выходы новых движков, создание игровых корпораций. Поэтому спад начиная с 2009 года можно объсянить тем, что корпорации стали тратить на игры намного больше ресурсов(как трудовых, так и денежных) на производство игровых продуктов, так как требования повышаются с каждым годом."
   ]
  },
  {
   "attachments": {},
   "cell_type": "markdown",
   "metadata": {},
   "source": [
    "#### Посмотрите, как менялись продажи по платформам. Выберите платформы с наибольшими суммарными продажами и постройте распределение по годам. За какой характерный срок появляются новые и исчезают старые платформы?"
   ]
  },
  {
   "cell_type": "code",
   "execution_count": 28,
   "metadata": {},
   "outputs": [
    {
     "data": {
      "image/png": "[encoded data removed]",
      "text/plain": [
       "<Figure size 1080x576 with 1 Axes>"
      ]
     },
     "metadata": {
      "needs_background": "light"
     },
     "output_type": "display_data"
    }
   ],
   "source": [
    "plt.figure(figsize=(15, 8))\n",
    "sales_per_platform = (data\n",
    "    .pivot_table(index = 'platform', \n",
    "                 values = 'global_sales', \n",
    "                 aggfunc ='sum')\n",
    "    .sort_values(by = 'global_sales', \n",
    "                 ascending = False)\n",
    ")\n",
    "sns.barplot(data=sales_per_platform, \n",
    "            x=sales_per_platform.index, \n",
    "            y=\"global_sales\",)\n",
    "\n",
    "plt.ylabel('Продажи')\n",
    "plt.xlabel('Платформы')\n",
    "plt.title('Распределение продаж по платформам');"
   ]
  },
  {
   "attachments": {},
   "cell_type": "markdown",
   "metadata": {},
   "source": [
    "На графике очевидны лидеры - первые 6 платформ, захватившие лидерство по продажам. Однако мы изучим продажи первых 10 платформ, потому что можно сделать интересные выводы о том, какое время существует одно поколение платформы."
   ]
  },
  {
   "cell_type": "code",
   "execution_count": 29,
   "metadata": {},
   "outputs": [],
   "source": [
    "top10_platform = (data\n",
    "    .pivot_table(index = 'platform', values = 'global_sales', aggfunc ='sum')\n",
    "    .sort_values(by = 'global_sales', ascending = False)\n",
    "    .head(10)\n",
    "    .index\n",
    ").to_list()"
   ]
  },
  {
   "cell_type": "code",
   "execution_count": 30,
   "metadata": {},
   "outputs": [
    {
     "data": {
      "image/png": "[encoded data removed]",
      "text/plain": [
       "<Figure size 1080x576 with 1 Axes>"
      ]
     },
     "metadata": {
      "needs_background": "light"
     },
     "output_type": "display_data"
    }
   ],
   "source": [
    "(data.query('platform in @top10_platform') \n",
    "    .pivot_table(index='year_of_release', columns='platform', values='global_sales', aggfunc='sum')\n",
    "    .plot(kind='bar', stacked= True, figsize=(15, 8))\n",
    ");\n"
   ]
  },
  {
   "attachments": {},
   "cell_type": "markdown",
   "metadata": {},
   "source": [
    "На данном графике видно, какую часть рынка занимали игры с определенной платформы в определенный год. по нему можно сделать следующие выводы:\n",
    "* В среднем популярные платформы платформы живут 8 - 12 лет\n",
    "* У компании Sony платформы выходят каждые 5-7 лет, а старые платформы поддерживаются еще примерно 3 года.\n",
    "* Актуальным моно считать период с 2014 года, так как игры с новой PS4 занимает уже больший объем рынка чем у PS3 и с каждым годом доля PS4 растет."
   ]
  },
  {
   "attachments": {},
   "cell_type": "markdown",
   "metadata": {},
   "source": [
    "#### Выделение данных за актуальный преиод"
   ]
  },
  {
   "cell_type": "code",
   "execution_count": 31,
   "metadata": {},
   "outputs": [
    {
     "data": {
      "text/html": [
       "<div>\n",
       "<style scoped>\n",
       "    .dataframe tbody tr th:only-of-type {\n",
       "        vertical-align: middle;\n",
       "    }\n",
       "\n",
       "    .dataframe tbody tr th {\n",
       "        vertical-align: top;\n",
       "    }\n",
       "\n",
       "    .dataframe thead th {\n",
       "        text-align: right;\n",
       "    }\n",
       "</style>\n",
       "<table border=\"1\" class=\"dataframe\">\n",
       "  <thead>\n",
       "    <tr style=\"text-align: right;\">\n",
       "      <th></th>\n",
       "      <th>name</th>\n",
       "      <th>platform</th>\n",
       "      <th>year_of_release</th>\n",
       "      <th>genre</th>\n",
       "      <th>na_sales</th>\n",
       "      <th>eu_sales</th>\n",
       "      <th>jp_sales</th>\n",
       "      <th>other_sales</th>\n",
       "      <th>critic_score</th>\n",
       "      <th>user_score</th>\n",
       "      <th>rating</th>\n",
       "      <th>global_sales</th>\n",
       "    </tr>\n",
       "  </thead>\n",
       "  <tbody>\n",
       "    <tr>\n",
       "      <th>31</th>\n",
       "      <td>Call of Duty: Black Ops 3</td>\n",
       "      <td>PS4</td>\n",
       "      <td>2015</td>\n",
       "      <td>Shooter</td>\n",
       "      <td>6.03</td>\n",
       "      <td>5.86</td>\n",
       "      <td>0.36</td>\n",
       "      <td>2.38</td>\n",
       "      <td>NaN</td>\n",
       "      <td>NaN</td>\n",
       "      <td>unknown</td>\n",
       "      <td>14.63</td>\n",
       "    </tr>\n",
       "    <tr>\n",
       "      <th>42</th>\n",
       "      <td>Grand Theft Auto V</td>\n",
       "      <td>PS4</td>\n",
       "      <td>2014</td>\n",
       "      <td>Action</td>\n",
       "      <td>3.96</td>\n",
       "      <td>6.31</td>\n",
       "      <td>0.38</td>\n",
       "      <td>1.97</td>\n",
       "      <td>97.0</td>\n",
       "      <td>8.3</td>\n",
       "      <td>M</td>\n",
       "      <td>12.62</td>\n",
       "    </tr>\n",
       "    <tr>\n",
       "      <th>47</th>\n",
       "      <td>Pokemon Omega Ruby/Pokemon Alpha Sapphire</td>\n",
       "      <td>3DS</td>\n",
       "      <td>2014</td>\n",
       "      <td>Role-Playing</td>\n",
       "      <td>4.35</td>\n",
       "      <td>3.49</td>\n",
       "      <td>3.10</td>\n",
       "      <td>0.74</td>\n",
       "      <td>NaN</td>\n",
       "      <td>NaN</td>\n",
       "      <td>unknown</td>\n",
       "      <td>11.68</td>\n",
       "    </tr>\n",
       "    <tr>\n",
       "      <th>77</th>\n",
       "      <td>FIFA 16</td>\n",
       "      <td>PS4</td>\n",
       "      <td>2015</td>\n",
       "      <td>Sports</td>\n",
       "      <td>1.12</td>\n",
       "      <td>6.12</td>\n",
       "      <td>0.06</td>\n",
       "      <td>1.28</td>\n",
       "      <td>82.0</td>\n",
       "      <td>4.3</td>\n",
       "      <td>E</td>\n",
       "      <td>8.58</td>\n",
       "    </tr>\n",
       "    <tr>\n",
       "      <th>87</th>\n",
       "      <td>Star Wars Battlefront (2015)</td>\n",
       "      <td>PS4</td>\n",
       "      <td>2015</td>\n",
       "      <td>Shooter</td>\n",
       "      <td>2.99</td>\n",
       "      <td>3.49</td>\n",
       "      <td>0.22</td>\n",
       "      <td>1.28</td>\n",
       "      <td>NaN</td>\n",
       "      <td>NaN</td>\n",
       "      <td>unknown</td>\n",
       "      <td>7.98</td>\n",
       "    </tr>\n",
       "    <tr>\n",
       "      <th>...</th>\n",
       "      <td>...</td>\n",
       "      <td>...</td>\n",
       "      <td>...</td>\n",
       "      <td>...</td>\n",
       "      <td>...</td>\n",
       "      <td>...</td>\n",
       "      <td>...</td>\n",
       "      <td>...</td>\n",
       "      <td>...</td>\n",
       "      <td>...</td>\n",
       "      <td>...</td>\n",
       "      <td>...</td>\n",
       "    </tr>\n",
       "    <tr>\n",
       "      <th>16456</th>\n",
       "      <td>Strawberry Nauts</td>\n",
       "      <td>PSV</td>\n",
       "      <td>2016</td>\n",
       "      <td>Adventure</td>\n",
       "      <td>0.00</td>\n",
       "      <td>0.00</td>\n",
       "      <td>0.01</td>\n",
       "      <td>0.00</td>\n",
       "      <td>NaN</td>\n",
       "      <td>NaN</td>\n",
       "      <td>unknown</td>\n",
       "      <td>0.01</td>\n",
       "    </tr>\n",
       "    <tr>\n",
       "      <th>16460</th>\n",
       "      <td>Aiyoku no Eustia</td>\n",
       "      <td>PSV</td>\n",
       "      <td>2014</td>\n",
       "      <td>Misc</td>\n",
       "      <td>0.00</td>\n",
       "      <td>0.00</td>\n",
       "      <td>0.01</td>\n",
       "      <td>0.00</td>\n",
       "      <td>NaN</td>\n",
       "      <td>NaN</td>\n",
       "      <td>unknown</td>\n",
       "      <td>0.01</td>\n",
       "    </tr>\n",
       "    <tr>\n",
       "      <th>16463</th>\n",
       "      <td>Samurai Warriors: Sanada Maru</td>\n",
       "      <td>PS3</td>\n",
       "      <td>2016</td>\n",
       "      <td>Action</td>\n",
       "      <td>0.00</td>\n",
       "      <td>0.00</td>\n",
       "      <td>0.01</td>\n",
       "      <td>0.00</td>\n",
       "      <td>NaN</td>\n",
       "      <td>NaN</td>\n",
       "      <td>unknown</td>\n",
       "      <td>0.01</td>\n",
       "    </tr>\n",
       "    <tr>\n",
       "      <th>16465</th>\n",
       "      <td>Haitaka no Psychedelica</td>\n",
       "      <td>PSV</td>\n",
       "      <td>2016</td>\n",
       "      <td>Adventure</td>\n",
       "      <td>0.00</td>\n",
       "      <td>0.00</td>\n",
       "      <td>0.01</td>\n",
       "      <td>0.00</td>\n",
       "      <td>NaN</td>\n",
       "      <td>NaN</td>\n",
       "      <td>unknown</td>\n",
       "      <td>0.01</td>\n",
       "    </tr>\n",
       "    <tr>\n",
       "      <th>16467</th>\n",
       "      <td>Winning Post 8 2016</td>\n",
       "      <td>PSV</td>\n",
       "      <td>2016</td>\n",
       "      <td>Simulation</td>\n",
       "      <td>0.00</td>\n",
       "      <td>0.00</td>\n",
       "      <td>0.01</td>\n",
       "      <td>0.00</td>\n",
       "      <td>NaN</td>\n",
       "      <td>NaN</td>\n",
       "      <td>unknown</td>\n",
       "      <td>0.01</td>\n",
       "    </tr>\n",
       "  </tbody>\n",
       "</table>\n",
       "<p>1689 rows × 12 columns</p>\n",
       "</div>"
      ],
      "text/plain": [
       "                                            name platform  year_of_release  \\\n",
       "31                     Call of Duty: Black Ops 3      PS4             2015   \n",
       "42                            Grand Theft Auto V      PS4             2014   \n",
       "47     Pokemon Omega Ruby/Pokemon Alpha Sapphire      3DS             2014   \n",
       "77                                       FIFA 16      PS4             2015   \n",
       "87                  Star Wars Battlefront (2015)      PS4             2015   \n",
       "...                                          ...      ...              ...   \n",
       "16456                           Strawberry Nauts      PSV             2016   \n",
       "16460                           Aiyoku no Eustia      PSV             2014   \n",
       "16463              Samurai Warriors: Sanada Maru      PS3             2016   \n",
       "16465                    Haitaka no Psychedelica      PSV             2016   \n",
       "16467                        Winning Post 8 2016      PSV             2016   \n",
       "\n",
       "              genre  na_sales  eu_sales  jp_sales  other_sales  critic_score  \\\n",
       "31          Shooter      6.03      5.86      0.36         2.38           NaN   \n",
       "42           Action      3.96      6.31      0.38         1.97          97.0   \n",
       "47     Role-Playing      4.35      3.49      3.10         0.74           NaN   \n",
       "77           Sports      1.12      6.12      0.06         1.28          82.0   \n",
       "87          Shooter      2.99      3.49      0.22         1.28           NaN   \n",
       "...             ...       ...       ...       ...          ...           ...   \n",
       "16456     Adventure      0.00      0.00      0.01         0.00           NaN   \n",
       "16460          Misc      0.00      0.00      0.01         0.00           NaN   \n",
       "16463        Action      0.00      0.00      0.01         0.00           NaN   \n",
       "16465     Adventure      0.00      0.00      0.01         0.00           NaN   \n",
       "16467    Simulation      0.00      0.00      0.01         0.00           NaN   \n",
       "\n",
       "       user_score   rating  global_sales  \n",
       "31            NaN  unknown         14.63  \n",
       "42            8.3        M         12.62  \n",
       "47            NaN  unknown         11.68  \n",
       "77            4.3        E          8.58  \n",
       "87            NaN  unknown          7.98  \n",
       "...           ...      ...           ...  \n",
       "16456         NaN  unknown          0.01  \n",
       "16460         NaN  unknown          0.01  \n",
       "16463         NaN  unknown          0.01  \n",
       "16465         NaN  unknown          0.01  \n",
       "16467         NaN  unknown          0.01  \n",
       "\n",
       "[1689 rows x 12 columns]"
      ]
     },
     "execution_count": 31,
     "metadata": {},
     "output_type": "execute_result"
    }
   ],
   "source": [
    "actual_data = data[data['year_of_release']>2013]\n",
    "actual_data"
   ]
  },
  {
   "attachments": {},
   "cell_type": "markdown",
   "metadata": {},
   "source": [
    "#### Какие платформы лидируют по продажам, растут или падают? Выберите несколько потенциально прибыльных платформ."
   ]
  },
  {
   "cell_type": "code",
   "execution_count": 32,
   "metadata": {},
   "outputs": [
    {
     "data": {
      "text/html": [
       "<div>\n",
       "<style scoped>\n",
       "    .dataframe tbody tr th:only-of-type {\n",
       "        vertical-align: middle;\n",
       "    }\n",
       "\n",
       "    .dataframe tbody tr th {\n",
       "        vertical-align: top;\n",
       "    }\n",
       "\n",
       "    .dataframe thead th {\n",
       "        text-align: right;\n",
       "    }\n",
       "</style>\n",
       "<table border=\"1\" class=\"dataframe\">\n",
       "  <thead>\n",
       "    <tr style=\"text-align: right;\">\n",
       "      <th>platform</th>\n",
       "      <th>3DS</th>\n",
       "      <th>PC</th>\n",
       "      <th>PS3</th>\n",
       "      <th>PS4</th>\n",
       "      <th>PSP</th>\n",
       "      <th>PSV</th>\n",
       "      <th>Wii</th>\n",
       "      <th>WiiU</th>\n",
       "      <th>X360</th>\n",
       "      <th>XOne</th>\n",
       "    </tr>\n",
       "    <tr>\n",
       "      <th>year_of_release</th>\n",
       "      <th></th>\n",
       "      <th></th>\n",
       "      <th></th>\n",
       "      <th></th>\n",
       "      <th></th>\n",
       "      <th></th>\n",
       "      <th></th>\n",
       "      <th></th>\n",
       "      <th></th>\n",
       "      <th></th>\n",
       "    </tr>\n",
       "  </thead>\n",
       "  <tbody>\n",
       "    <tr>\n",
       "      <th>2014</th>\n",
       "      <td>43.76</td>\n",
       "      <td>13.28</td>\n",
       "      <td>47.76</td>\n",
       "      <td>100.00</td>\n",
       "      <td>0.24</td>\n",
       "      <td>11.90</td>\n",
       "      <td>3.75</td>\n",
       "      <td>22.03</td>\n",
       "      <td>34.74</td>\n",
       "      <td>54.07</td>\n",
       "    </tr>\n",
       "    <tr>\n",
       "      <th>2015</th>\n",
       "      <td>27.78</td>\n",
       "      <td>8.52</td>\n",
       "      <td>16.82</td>\n",
       "      <td>118.90</td>\n",
       "      <td>0.12</td>\n",
       "      <td>6.25</td>\n",
       "      <td>1.14</td>\n",
       "      <td>16.35</td>\n",
       "      <td>11.96</td>\n",
       "      <td>60.14</td>\n",
       "    </tr>\n",
       "    <tr>\n",
       "      <th>2016</th>\n",
       "      <td>15.14</td>\n",
       "      <td>5.25</td>\n",
       "      <td>3.60</td>\n",
       "      <td>69.25</td>\n",
       "      <td>NaN</td>\n",
       "      <td>4.25</td>\n",
       "      <td>0.18</td>\n",
       "      <td>4.60</td>\n",
       "      <td>1.52</td>\n",
       "      <td>26.15</td>\n",
       "    </tr>\n",
       "  </tbody>\n",
       "</table>\n",
       "</div>"
      ],
      "text/plain": [
       "platform           3DS     PC    PS3     PS4   PSP    PSV   Wii   WiiU   X360  \\\n",
       "year_of_release                                                                 \n",
       "2014             43.76  13.28  47.76  100.00  0.24  11.90  3.75  22.03  34.74   \n",
       "2015             27.78   8.52  16.82  118.90  0.12   6.25  1.14  16.35  11.96   \n",
       "2016             15.14   5.25   3.60   69.25   NaN   4.25  0.18   4.60   1.52   \n",
       "\n",
       "platform          XOne  \n",
       "year_of_release         \n",
       "2014             54.07  \n",
       "2015             60.14  \n",
       "2016             26.15  "
      ]
     },
     "execution_count": 32,
     "metadata": {},
     "output_type": "execute_result"
    }
   ],
   "source": [
    "actual_data.pivot_table(index='year_of_release', \n",
    "                        columns='platform', \n",
    "                        values='global_sales', \n",
    "                        aggfunc='sum')"
   ]
  },
  {
   "cell_type": "code",
   "execution_count": 33,
   "metadata": {},
   "outputs": [
    {
     "data": {
      "text/plain": [
       "<AxesSubplot:xlabel='year_of_release'>"
      ]
     },
     "execution_count": 33,
     "metadata": {},
     "output_type": "execute_result"
    },
    {
     "data": {
      "image/png": "[encoded data removed]",
      "text/plain": [
       "<Figure size 1080x504 with 1 Axes>"
      ]
     },
     "metadata": {
      "needs_background": "light"
     },
     "output_type": "display_data"
    }
   ],
   "source": [
    "actual_data.pivot_table(index='year_of_release', \n",
    "                        columns='platform', \n",
    "                        values='global_sales', \n",
    "                        aggfunc='sum').plot(grid=True, figsize=(15, 7))"
   ]
  },
  {
   "attachments": {},
   "cell_type": "markdown",
   "metadata": {},
   "source": [
    "Выводы:\n",
    "* У платформ нового поколения(PS4, XOne, 3DS, WiiU, PSV) продаж больше чем у их предыщего поколения(PS3, X360, DS, Wii и PSP)\n",
    "* Продажи после 2015 года падают у всех платформ.\n",
    "\n",
    "Перспективынми платформами я считаю **PS4 и XOne** так как это платформы нового поколения, которые будут поддерживаться еще много лет. Также перспективной я считаю **PC**, так как PC не подвержен смене поколений."
   ]
  },
  {
   "attachments": {},
   "cell_type": "markdown",
   "metadata": {},
   "source": [
    "#### «Ящик с усами» по глобальным продажам игр в разбивке по платформам."
   ]
  },
  {
   "cell_type": "code",
   "execution_count": 34,
   "metadata": {},
   "outputs": [
    {
     "data": {
      "text/html": [
       "<div>\n",
       "<style scoped>\n",
       "    .dataframe tbody tr th:only-of-type {\n",
       "        vertical-align: middle;\n",
       "    }\n",
       "\n",
       "    .dataframe tbody tr th {\n",
       "        vertical-align: top;\n",
       "    }\n",
       "\n",
       "    .dataframe thead th {\n",
       "        text-align: right;\n",
       "    }\n",
       "</style>\n",
       "<table border=\"1\" class=\"dataframe\">\n",
       "  <thead>\n",
       "    <tr style=\"text-align: right;\">\n",
       "      <th></th>\n",
       "      <th>year_of_release</th>\n",
       "      <th>na_sales</th>\n",
       "      <th>eu_sales</th>\n",
       "      <th>jp_sales</th>\n",
       "      <th>other_sales</th>\n",
       "      <th>critic_score</th>\n",
       "      <th>user_score</th>\n",
       "      <th>global_sales</th>\n",
       "    </tr>\n",
       "  </thead>\n",
       "  <tbody>\n",
       "    <tr>\n",
       "      <th>count</th>\n",
       "      <td>1689.000000</td>\n",
       "      <td>1689.000000</td>\n",
       "      <td>1689.000000</td>\n",
       "      <td>1689.000000</td>\n",
       "      <td>1689.000000</td>\n",
       "      <td>718.000000</td>\n",
       "      <td>888.000000</td>\n",
       "      <td>1689.000000</td>\n",
       "    </tr>\n",
       "    <tr>\n",
       "      <th>mean</th>\n",
       "      <td>2014.953227</td>\n",
       "      <td>0.168182</td>\n",
       "      <td>0.160261</td>\n",
       "      <td>0.055115</td>\n",
       "      <td>0.048324</td>\n",
       "      <td>72.306407</td>\n",
       "      <td>6.623536</td>\n",
       "      <td>0.431883</td>\n",
       "    </tr>\n",
       "    <tr>\n",
       "      <th>std</th>\n",
       "      <td>0.799624</td>\n",
       "      <td>0.446134</td>\n",
       "      <td>0.466846</td>\n",
       "      <td>0.211513</td>\n",
       "      <td>0.141790</td>\n",
       "      <td>12.213500</td>\n",
       "      <td>1.589792</td>\n",
       "      <td>1.056109</td>\n",
       "    </tr>\n",
       "    <tr>\n",
       "      <th>min</th>\n",
       "      <td>2014.000000</td>\n",
       "      <td>0.000000</td>\n",
       "      <td>0.000000</td>\n",
       "      <td>0.000000</td>\n",
       "      <td>0.000000</td>\n",
       "      <td>19.000000</td>\n",
       "      <td>0.200000</td>\n",
       "      <td>0.010000</td>\n",
       "    </tr>\n",
       "    <tr>\n",
       "      <th>25%</th>\n",
       "      <td>2014.000000</td>\n",
       "      <td>0.000000</td>\n",
       "      <td>0.000000</td>\n",
       "      <td>0.000000</td>\n",
       "      <td>0.000000</td>\n",
       "      <td>66.000000</td>\n",
       "      <td>5.800000</td>\n",
       "      <td>0.030000</td>\n",
       "    </tr>\n",
       "    <tr>\n",
       "      <th>50%</th>\n",
       "      <td>2015.000000</td>\n",
       "      <td>0.020000</td>\n",
       "      <td>0.020000</td>\n",
       "      <td>0.010000</td>\n",
       "      <td>0.010000</td>\n",
       "      <td>74.000000</td>\n",
       "      <td>7.000000</td>\n",
       "      <td>0.100000</td>\n",
       "    </tr>\n",
       "    <tr>\n",
       "      <th>75%</th>\n",
       "      <td>2016.000000</td>\n",
       "      <td>0.120000</td>\n",
       "      <td>0.120000</td>\n",
       "      <td>0.040000</td>\n",
       "      <td>0.040000</td>\n",
       "      <td>81.000000</td>\n",
       "      <td>7.800000</td>\n",
       "      <td>0.350000</td>\n",
       "    </tr>\n",
       "    <tr>\n",
       "      <th>max</th>\n",
       "      <td>2016.000000</td>\n",
       "      <td>6.030000</td>\n",
       "      <td>6.310000</td>\n",
       "      <td>3.180000</td>\n",
       "      <td>2.380000</td>\n",
       "      <td>97.000000</td>\n",
       "      <td>9.300000</td>\n",
       "      <td>14.630000</td>\n",
       "    </tr>\n",
       "  </tbody>\n",
       "</table>\n",
       "</div>"
      ],
      "text/plain": [
       "       year_of_release     na_sales     eu_sales     jp_sales  other_sales  \\\n",
       "count      1689.000000  1689.000000  1689.000000  1689.000000  1689.000000   \n",
       "mean       2014.953227     0.168182     0.160261     0.055115     0.048324   \n",
       "std           0.799624     0.446134     0.466846     0.211513     0.141790   \n",
       "min        2014.000000     0.000000     0.000000     0.000000     0.000000   \n",
       "25%        2014.000000     0.000000     0.000000     0.000000     0.000000   \n",
       "50%        2015.000000     0.020000     0.020000     0.010000     0.010000   \n",
       "75%        2016.000000     0.120000     0.120000     0.040000     0.040000   \n",
       "max        2016.000000     6.030000     6.310000     3.180000     2.380000   \n",
       "\n",
       "       critic_score  user_score  global_sales  \n",
       "count    718.000000  888.000000   1689.000000  \n",
       "mean      72.306407    6.623536      0.431883  \n",
       "std       12.213500    1.589792      1.056109  \n",
       "min       19.000000    0.200000      0.010000  \n",
       "25%       66.000000    5.800000      0.030000  \n",
       "50%       74.000000    7.000000      0.100000  \n",
       "75%       81.000000    7.800000      0.350000  \n",
       "max       97.000000    9.300000     14.630000  "
      ]
     },
     "execution_count": 34,
     "metadata": {},
     "output_type": "execute_result"
    },
    {
     "data": {
      "image/png": "[encoded data removed]",
      "text/plain": [
       "<Figure size 1080x360 with 1 Axes>"
      ]
     },
     "metadata": {
      "needs_background": "light"
     },
     "output_type": "display_data"
    }
   ],
   "source": [
    "fig, ax = plt.subplots(figsize =(15,5))\n",
    "sns.boxplot(x = 'platform', \n",
    "            y = 'global_sales',\n",
    "            data = actual_data,).set(ylim=(0, 2))\n",
    "actual_data.describe()"
   ]
  },
  {
   "cell_type": "code",
   "execution_count": 141,
   "metadata": {},
   "outputs": [
    {
     "data": {
      "image/png": "[encoded data removed]",
      "text/plain": [
       "<Figure size 1440x720 with 1 Axes>"
      ]
     },
     "metadata": {
      "needs_background": "light"
     },
     "output_type": "display_data"
    }
   ],
   "source": [
    "fig, ax = plt.subplots(figsize =(20,10))\n",
    "sns.boxplot(x = 'platform', \n",
    "            y = 'global_sales',\n",
    "            data = actual_data,).set(ylim=(0, 0.85));"
   ]
  },
  {
   "attachments": {},
   "cell_type": "markdown",
   "metadata": {},
   "source": [
    "По графику видно, что продажи неоднородны, встречаются игры которые продаются невероятно успешно и дают много прибыли, однако большая часть не преодолевает оценку в 400 тысяч копий.\n",
    "\n",
    "* Среднее из-за выбросов равняется 431 тысяче копий.\n",
    "* Максимум 14.6 миллионов копий(PS4).\n",
    "* Медиана - 100 тысяч копий.\n",
    "\n",
    "Наиболее успешные платформы: PS4, XOne, WiiU, X360, Wii."
   ]
  },
  {
   "attachments": {},
   "cell_type": "markdown",
   "metadata": {},
   "source": [
    "#### Посмотрите, как влияют на продажи внутри одной популярной платформы отзывы пользователей и критиков. Постройте диаграмму рассеяния и посчитайте корреляцию между отзывами и продажами. Сформулируйте выводы."
   ]
  },
  {
   "cell_type": "code",
   "execution_count": 35,
   "metadata": {
    "scrolled": false
   },
   "outputs": [
    {
     "data": {
      "image/png": "[encoded data removed]",
      "text/plain": [
       "<Figure size 1440x720 with 2 Axes>"
      ]
     },
     "metadata": {
      "needs_background": "light"
     },
     "output_type": "display_data"
    }
   ],
   "source": [
    "fig_scatter, (scatter_ax,scatter_ax2) = plt.subplots(2,1, figsize = (20,10))\n",
    "scatter_ax.scatter(y= 'critic_score', x = 'global_sales',data =actual_data.query('platform == \"PS4\"').dropna());\n",
    "scatter_ax2.scatter(y= 'user_score', x = 'global_sales',data =actual_data.query('platform == \"PS4\"').dropna());"
   ]
  },
  {
   "cell_type": "code",
   "execution_count": 36,
   "metadata": {},
   "outputs": [
    {
     "data": {
      "text/html": [
       "<div>\n",
       "<style scoped>\n",
       "    .dataframe tbody tr th:only-of-type {\n",
       "        vertical-align: middle;\n",
       "    }\n",
       "\n",
       "    .dataframe tbody tr th {\n",
       "        vertical-align: top;\n",
       "    }\n",
       "\n",
       "    .dataframe thead th {\n",
       "        text-align: right;\n",
       "    }\n",
       "</style>\n",
       "<table border=\"1\" class=\"dataframe\">\n",
       "  <thead>\n",
       "    <tr style=\"text-align: right;\">\n",
       "      <th></th>\n",
       "      <th>global_sales</th>\n",
       "      <th>critic_score</th>\n",
       "      <th>user_score</th>\n",
       "    </tr>\n",
       "  </thead>\n",
       "  <tbody>\n",
       "    <tr>\n",
       "      <th>global_sales</th>\n",
       "      <td>1.000000</td>\n",
       "      <td>0.402661</td>\n",
       "      <td>-0.040132</td>\n",
       "    </tr>\n",
       "    <tr>\n",
       "      <th>critic_score</th>\n",
       "      <td>0.402661</td>\n",
       "      <td>1.000000</td>\n",
       "      <td>0.546434</td>\n",
       "    </tr>\n",
       "    <tr>\n",
       "      <th>user_score</th>\n",
       "      <td>-0.040132</td>\n",
       "      <td>0.546434</td>\n",
       "      <td>1.000000</td>\n",
       "    </tr>\n",
       "  </tbody>\n",
       "</table>\n",
       "</div>"
      ],
      "text/plain": [
       "              global_sales  critic_score  user_score\n",
       "global_sales      1.000000      0.402661   -0.040132\n",
       "critic_score      0.402661      1.000000    0.546434\n",
       "user_score       -0.040132      0.546434    1.000000"
      ]
     },
     "execution_count": 36,
     "metadata": {},
     "output_type": "execute_result"
    }
   ],
   "source": [
    "(actual_data.query('platform == \"PS4\"')\n",
    "    .loc[:,['global_sales', 'critic_score', 'user_score']]\n",
    "    .corr()\n",
    ")"
   ]
  },
  {
   "attachments": {},
   "cell_type": "markdown",
   "metadata": {},
   "source": [
    "Видно, что на PS4 мнение критиков влияет на продажи, что видно по прямой корреляции, хоть и небольшой. \n",
    "Обратная корреляция для оценки игроков обратная и очень маленькая, соотвественно можно сделать вывод что оценки игроков не виляют на продажу игры."
   ]
  },
  {
   "attachments": {},
   "cell_type": "markdown",
   "metadata": {},
   "source": [
    "Коэффициент корреляции между продажами и оценкой критикой свидетельствует о слабой прямой связи.\n",
    "Оценки пользователей корреляции с продажами не имеют."
   ]
  },
  {
   "attachments": {},
   "cell_type": "markdown",
   "metadata": {},
   "source": [
    "#### Соотнесите выводы с продажами игр на других платформах."
   ]
  },
  {
   "attachments": {},
   "cell_type": "markdown",
   "metadata": {},
   "source": [
    "##### 3DS"
   ]
  },
  {
   "cell_type": "code",
   "execution_count": 37,
   "metadata": {},
   "outputs": [
    {
     "data": {
      "image/png": "[encoded data removed]",
      "text/plain": [
       "<Figure size 1440x720 with 2 Axes>"
      ]
     },
     "metadata": {
      "needs_background": "light"
     },
     "output_type": "display_data"
    }
   ],
   "source": [
    "fig_scatter, (scatter_ax,scatter_ax2) = plt.subplots(2,1, figsize = (20,10))\n",
    "scatter_ax.scatter(y= 'critic_score', x = 'global_sales',data =actual_data.query('platform == \"3DS\"').dropna());\n",
    "scatter_ax2.scatter(y= 'user_score', x = 'global_sales',data =actual_data.query('platform == \"3DS\"').dropna());"
   ]
  },
  {
   "cell_type": "code",
   "execution_count": 38,
   "metadata": {
    "scrolled": true
   },
   "outputs": [
    {
     "data": {
      "text/html": [
       "<div>\n",
       "<style scoped>\n",
       "    .dataframe tbody tr th:only-of-type {\n",
       "        vertical-align: middle;\n",
       "    }\n",
       "\n",
       "    .dataframe tbody tr th {\n",
       "        vertical-align: top;\n",
       "    }\n",
       "\n",
       "    .dataframe thead th {\n",
       "        text-align: right;\n",
       "    }\n",
       "</style>\n",
       "<table border=\"1\" class=\"dataframe\">\n",
       "  <thead>\n",
       "    <tr style=\"text-align: right;\">\n",
       "      <th></th>\n",
       "      <th>global_sales</th>\n",
       "      <th>critic_score</th>\n",
       "      <th>user_score</th>\n",
       "    </tr>\n",
       "  </thead>\n",
       "  <tbody>\n",
       "    <tr>\n",
       "      <th>global_sales</th>\n",
       "      <td>1.000000</td>\n",
       "      <td>0.314117</td>\n",
       "      <td>0.215193</td>\n",
       "    </tr>\n",
       "    <tr>\n",
       "      <th>critic_score</th>\n",
       "      <td>0.314117</td>\n",
       "      <td>1.000000</td>\n",
       "      <td>0.862485</td>\n",
       "    </tr>\n",
       "    <tr>\n",
       "      <th>user_score</th>\n",
       "      <td>0.215193</td>\n",
       "      <td>0.862485</td>\n",
       "      <td>1.000000</td>\n",
       "    </tr>\n",
       "  </tbody>\n",
       "</table>\n",
       "</div>"
      ],
      "text/plain": [
       "              global_sales  critic_score  user_score\n",
       "global_sales      1.000000      0.314117    0.215193\n",
       "critic_score      0.314117      1.000000    0.862485\n",
       "user_score        0.215193      0.862485    1.000000"
      ]
     },
     "execution_count": 38,
     "metadata": {},
     "output_type": "execute_result"
    }
   ],
   "source": [
    "(actual_data.query('platform == \"3DS\"')\n",
    "    .loc[:,['global_sales', 'critic_score', 'user_score']]\n",
    "    .corr()\n",
    ")"
   ]
  },
  {
   "attachments": {},
   "cell_type": "markdown",
   "metadata": {},
   "source": [
    "Для 3DS подтвердился вывод об оценки критиков, но не подтвердился вывод об оценке игроков. На данной плтаформе присутсвтует слабая прямая корреляция медлу продажами и оценкой игроков"
   ]
  },
  {
   "attachments": {},
   "cell_type": "markdown",
   "metadata": {},
   "source": [
    "##### XOne"
   ]
  },
  {
   "cell_type": "code",
   "execution_count": 39,
   "metadata": {},
   "outputs": [
    {
     "data": {
      "image/png": "[encoded data removed]",
      "text/plain": [
       "<Figure size 1440x720 with 2 Axes>"
      ]
     },
     "metadata": {
      "needs_background": "light"
     },
     "output_type": "display_data"
    }
   ],
   "source": [
    "fig_scatter, (scatter_ax,scatter_ax2) = plt.subplots(2,1, figsize = (20,10))\n",
    "scatter_ax.scatter(y= 'critic_score', x = 'global_sales',data =actual_data.query('platform == \"XOne\"').dropna());\n",
    "scatter_ax2.scatter(y= 'user_score', x = 'global_sales',data =actual_data.query('platform == \"XOne\"').dropna());"
   ]
  },
  {
   "cell_type": "code",
   "execution_count": 40,
   "metadata": {},
   "outputs": [
    {
     "data": {
      "text/html": [
       "<div>\n",
       "<style scoped>\n",
       "    .dataframe tbody tr th:only-of-type {\n",
       "        vertical-align: middle;\n",
       "    }\n",
       "\n",
       "    .dataframe tbody tr th {\n",
       "        vertical-align: top;\n",
       "    }\n",
       "\n",
       "    .dataframe thead th {\n",
       "        text-align: right;\n",
       "    }\n",
       "</style>\n",
       "<table border=\"1\" class=\"dataframe\">\n",
       "  <thead>\n",
       "    <tr style=\"text-align: right;\">\n",
       "      <th></th>\n",
       "      <th>global_sales</th>\n",
       "      <th>critic_score</th>\n",
       "      <th>user_score</th>\n",
       "    </tr>\n",
       "  </thead>\n",
       "  <tbody>\n",
       "    <tr>\n",
       "      <th>global_sales</th>\n",
       "      <td>1.000000</td>\n",
       "      <td>0.428677</td>\n",
       "      <td>-0.070384</td>\n",
       "    </tr>\n",
       "    <tr>\n",
       "      <th>critic_score</th>\n",
       "      <td>0.428677</td>\n",
       "      <td>1.000000</td>\n",
       "      <td>0.440977</td>\n",
       "    </tr>\n",
       "    <tr>\n",
       "      <th>user_score</th>\n",
       "      <td>-0.070384</td>\n",
       "      <td>0.440977</td>\n",
       "      <td>1.000000</td>\n",
       "    </tr>\n",
       "  </tbody>\n",
       "</table>\n",
       "</div>"
      ],
      "text/plain": [
       "              global_sales  critic_score  user_score\n",
       "global_sales      1.000000      0.428677   -0.070384\n",
       "critic_score      0.428677      1.000000    0.440977\n",
       "user_score       -0.070384      0.440977    1.000000"
      ]
     },
     "execution_count": 40,
     "metadata": {},
     "output_type": "execute_result"
    }
   ],
   "source": [
    "(actual_data.query('platform == \"XOne\"')\n",
    "    .loc[:,['global_sales', 'critic_score', 'user_score']]\n",
    "    .corr()\n",
    ")"
   ]
  },
  {
   "attachments": {},
   "cell_type": "markdown",
   "metadata": {},
   "source": [
    "Для XOne подтвердились оба вывода."
   ]
  },
  {
   "attachments": {},
   "cell_type": "markdown",
   "metadata": {},
   "source": [
    "##### WiiU"
   ]
  },
  {
   "cell_type": "code",
   "execution_count": 41,
   "metadata": {},
   "outputs": [
    {
     "data": {
      "image/png": "[encoded data removed]",
      "text/plain": [
       "<Figure size 1440x720 with 2 Axes>"
      ]
     },
     "metadata": {
      "needs_background": "light"
     },
     "output_type": "display_data"
    }
   ],
   "source": [
    "fig_scatter, (scatter_ax,scatter_ax2) = plt.subplots(2,1, figsize = (20,10))\n",
    "scatter_ax.scatter(y= 'critic_score', x = 'global_sales',data =actual_data.query('platform == \"WiiU\"').dropna());\n",
    "scatter_ax2.scatter(y= 'user_score', x = 'global_sales',data =actual_data.query('platform == \"WiiU\"').dropna());"
   ]
  },
  {
   "cell_type": "code",
   "execution_count": 42,
   "metadata": {},
   "outputs": [
    {
     "data": {
      "text/html": [
       "<div>\n",
       "<style scoped>\n",
       "    .dataframe tbody tr th:only-of-type {\n",
       "        vertical-align: middle;\n",
       "    }\n",
       "\n",
       "    .dataframe tbody tr th {\n",
       "        vertical-align: top;\n",
       "    }\n",
       "\n",
       "    .dataframe thead th {\n",
       "        text-align: right;\n",
       "    }\n",
       "</style>\n",
       "<table border=\"1\" class=\"dataframe\">\n",
       "  <thead>\n",
       "    <tr style=\"text-align: right;\">\n",
       "      <th></th>\n",
       "      <th>global_sales</th>\n",
       "      <th>critic_score</th>\n",
       "      <th>user_score</th>\n",
       "    </tr>\n",
       "  </thead>\n",
       "  <tbody>\n",
       "    <tr>\n",
       "      <th>global_sales</th>\n",
       "      <td>1.000000</td>\n",
       "      <td>0.370201</td>\n",
       "      <td>0.407926</td>\n",
       "    </tr>\n",
       "    <tr>\n",
       "      <th>critic_score</th>\n",
       "      <td>0.370201</td>\n",
       "      <td>1.000000</td>\n",
       "      <td>0.763536</td>\n",
       "    </tr>\n",
       "    <tr>\n",
       "      <th>user_score</th>\n",
       "      <td>0.407926</td>\n",
       "      <td>0.763536</td>\n",
       "      <td>1.000000</td>\n",
       "    </tr>\n",
       "  </tbody>\n",
       "</table>\n",
       "</div>"
      ],
      "text/plain": [
       "              global_sales  critic_score  user_score\n",
       "global_sales      1.000000      0.370201    0.407926\n",
       "critic_score      0.370201      1.000000    0.763536\n",
       "user_score        0.407926      0.763536    1.000000"
      ]
     },
     "execution_count": 42,
     "metadata": {},
     "output_type": "execute_result"
    }
   ],
   "source": [
    "(actual_data.query('platform == \"WiiU\"')\n",
    "    .loc[:,['global_sales', 'critic_score', 'user_score']]\n",
    "    .corr()\n",
    ")"
   ]
  },
  {
   "attachments": {},
   "cell_type": "markdown",
   "metadata": {},
   "source": [
    "Для WiiU подтвердился вывод об оценке критиков, но не подтвердился об оценке игроков, так тут присутсвует  прямая корреляция с коэффицентом 0.4"
   ]
  },
  {
   "attachments": {},
   "cell_type": "markdown",
   "metadata": {},
   "source": [
    "##### PS3"
   ]
  },
  {
   "cell_type": "code",
   "execution_count": 43,
   "metadata": {},
   "outputs": [
    {
     "data": {
      "image/png": "[encoded data removed]",
      "text/plain": [
       "<Figure size 1440x720 with 2 Axes>"
      ]
     },
     "metadata": {
      "needs_background": "light"
     },
     "output_type": "display_data"
    }
   ],
   "source": [
    "fig_scatter, (scatter_ax,scatter_ax2) = plt.subplots(2,1, figsize = (20,10))\n",
    "scatter_ax.scatter(y= 'critic_score', x = 'global_sales',data =actual_data.query('platform == \"PS3\"').dropna());\n",
    "scatter_ax2.scatter(y= 'user_score', x = 'global_sales',data =actual_data.query('platform == \"PS3\"').dropna());"
   ]
  },
  {
   "cell_type": "code",
   "execution_count": 44,
   "metadata": {},
   "outputs": [
    {
     "data": {
      "text/html": [
       "<div>\n",
       "<style scoped>\n",
       "    .dataframe tbody tr th:only-of-type {\n",
       "        vertical-align: middle;\n",
       "    }\n",
       "\n",
       "    .dataframe tbody tr th {\n",
       "        vertical-align: top;\n",
       "    }\n",
       "\n",
       "    .dataframe thead th {\n",
       "        text-align: right;\n",
       "    }\n",
       "</style>\n",
       "<table border=\"1\" class=\"dataframe\">\n",
       "  <thead>\n",
       "    <tr style=\"text-align: right;\">\n",
       "      <th></th>\n",
       "      <th>global_sales</th>\n",
       "      <th>critic_score</th>\n",
       "      <th>user_score</th>\n",
       "    </tr>\n",
       "  </thead>\n",
       "  <tbody>\n",
       "    <tr>\n",
       "      <th>global_sales</th>\n",
       "      <td>1.000000</td>\n",
       "      <td>0.446575</td>\n",
       "      <td>-0.166761</td>\n",
       "    </tr>\n",
       "    <tr>\n",
       "      <th>critic_score</th>\n",
       "      <td>0.446575</td>\n",
       "      <td>1.000000</td>\n",
       "      <td>0.693445</td>\n",
       "    </tr>\n",
       "    <tr>\n",
       "      <th>user_score</th>\n",
       "      <td>-0.166761</td>\n",
       "      <td>0.693445</td>\n",
       "      <td>1.000000</td>\n",
       "    </tr>\n",
       "  </tbody>\n",
       "</table>\n",
       "</div>"
      ],
      "text/plain": [
       "              global_sales  critic_score  user_score\n",
       "global_sales      1.000000      0.446575   -0.166761\n",
       "critic_score      0.446575      1.000000    0.693445\n",
       "user_score       -0.166761      0.693445    1.000000"
      ]
     },
     "execution_count": 44,
     "metadata": {},
     "output_type": "execute_result"
    }
   ],
   "source": [
    "(actual_data.query('platform == \"PS3\"')\n",
    "    .loc[:,['global_sales', 'critic_score', 'user_score']]\n",
    "    .corr()\n",
    ")"
   ]
  },
  {
   "attachments": {},
   "cell_type": "markdown",
   "metadata": {},
   "source": [
    "Для PS3 подтвердились оба вывода."
   ]
  },
  {
   "attachments": {},
   "cell_type": "markdown",
   "metadata": {},
   "source": [
    "##### X360"
   ]
  },
  {
   "cell_type": "code",
   "execution_count": 45,
   "metadata": {},
   "outputs": [
    {
     "data": {
      "image/png": "[encoded data removed]",
      "text/plain": [
       "<Figure size 1440x720 with 2 Axes>"
      ]
     },
     "metadata": {
      "needs_background": "light"
     },
     "output_type": "display_data"
    }
   ],
   "source": [
    "fig_scatter, (scatter_ax,scatter_ax2) = plt.subplots(2,1, figsize = (20,10))\n",
    "scatter_ax.scatter(y= 'critic_score', x = 'global_sales',data =actual_data.query('platform == \"X360\"').dropna());\n",
    "scatter_ax2.scatter(y= 'user_score', x = 'global_sales',data =actual_data.query('platform == \"X360\"').dropna());"
   ]
  },
  {
   "cell_type": "code",
   "execution_count": 46,
   "metadata": {},
   "outputs": [
    {
     "data": {
      "text/html": [
       "<div>\n",
       "<style scoped>\n",
       "    .dataframe tbody tr th:only-of-type {\n",
       "        vertical-align: middle;\n",
       "    }\n",
       "\n",
       "    .dataframe tbody tr th {\n",
       "        vertical-align: top;\n",
       "    }\n",
       "\n",
       "    .dataframe thead th {\n",
       "        text-align: right;\n",
       "    }\n",
       "</style>\n",
       "<table border=\"1\" class=\"dataframe\">\n",
       "  <thead>\n",
       "    <tr style=\"text-align: right;\">\n",
       "      <th></th>\n",
       "      <th>global_sales</th>\n",
       "      <th>critic_score</th>\n",
       "      <th>user_score</th>\n",
       "    </tr>\n",
       "  </thead>\n",
       "  <tbody>\n",
       "    <tr>\n",
       "      <th>global_sales</th>\n",
       "      <td>1.000000</td>\n",
       "      <td>0.525723</td>\n",
       "      <td>-0.138445</td>\n",
       "    </tr>\n",
       "    <tr>\n",
       "      <th>critic_score</th>\n",
       "      <td>0.525723</td>\n",
       "      <td>1.000000</td>\n",
       "      <td>0.625309</td>\n",
       "    </tr>\n",
       "    <tr>\n",
       "      <th>user_score</th>\n",
       "      <td>-0.138445</td>\n",
       "      <td>0.625309</td>\n",
       "      <td>1.000000</td>\n",
       "    </tr>\n",
       "  </tbody>\n",
       "</table>\n",
       "</div>"
      ],
      "text/plain": [
       "              global_sales  critic_score  user_score\n",
       "global_sales      1.000000      0.525723   -0.138445\n",
       "critic_score      0.525723      1.000000    0.625309\n",
       "user_score       -0.138445      0.625309    1.000000"
      ]
     },
     "execution_count": 46,
     "metadata": {},
     "output_type": "execute_result"
    }
   ],
   "source": [
    "(actual_data.query('platform == \"X360\"')\n",
    "    .loc[:,['global_sales', 'critic_score', 'user_score']]\n",
    "    .corr()\n",
    ")"
   ]
  },
  {
   "attachments": {},
   "cell_type": "markdown",
   "metadata": {},
   "source": [
    "Для X360 подтвердились оба вывода."
   ]
  },
  {
   "attachments": {},
   "cell_type": "markdown",
   "metadata": {},
   "source": [
    "##### PC"
   ]
  },
  {
   "cell_type": "code",
   "execution_count": 47,
   "metadata": {},
   "outputs": [
    {
     "data": {
      "image/png": "[encoded data removed]",
      "text/plain": [
       "<Figure size 1440x720 with 2 Axes>"
      ]
     },
     "metadata": {
      "needs_background": "light"
     },
     "output_type": "display_data"
    }
   ],
   "source": [
    "fig_scatter, (scatter_ax,scatter_ax2) = plt.subplots(2,1, figsize = (20,10))\n",
    "scatter_ax.scatter(y= 'critic_score', x = 'global_sales',data =actual_data.query('platform == \"PC\"').dropna());\n",
    "scatter_ax2.scatter(y= 'user_score', x = 'global_sales',data =actual_data.query('platform == \"PC\"').dropna());"
   ]
  },
  {
   "cell_type": "code",
   "execution_count": 48,
   "metadata": {},
   "outputs": [
    {
     "data": {
      "text/html": [
       "<div>\n",
       "<style scoped>\n",
       "    .dataframe tbody tr th:only-of-type {\n",
       "        vertical-align: middle;\n",
       "    }\n",
       "\n",
       "    .dataframe tbody tr th {\n",
       "        vertical-align: top;\n",
       "    }\n",
       "\n",
       "    .dataframe thead th {\n",
       "        text-align: right;\n",
       "    }\n",
       "</style>\n",
       "<table border=\"1\" class=\"dataframe\">\n",
       "  <thead>\n",
       "    <tr style=\"text-align: right;\">\n",
       "      <th></th>\n",
       "      <th>global_sales</th>\n",
       "      <th>critic_score</th>\n",
       "      <th>user_score</th>\n",
       "    </tr>\n",
       "  </thead>\n",
       "  <tbody>\n",
       "    <tr>\n",
       "      <th>global_sales</th>\n",
       "      <td>1.000000</td>\n",
       "      <td>0.174634</td>\n",
       "      <td>-0.071597</td>\n",
       "    </tr>\n",
       "    <tr>\n",
       "      <th>critic_score</th>\n",
       "      <td>0.174634</td>\n",
       "      <td>1.000000</td>\n",
       "      <td>0.466099</td>\n",
       "    </tr>\n",
       "    <tr>\n",
       "      <th>user_score</th>\n",
       "      <td>-0.071597</td>\n",
       "      <td>0.466099</td>\n",
       "      <td>1.000000</td>\n",
       "    </tr>\n",
       "  </tbody>\n",
       "</table>\n",
       "</div>"
      ],
      "text/plain": [
       "              global_sales  critic_score  user_score\n",
       "global_sales      1.000000      0.174634   -0.071597\n",
       "critic_score      0.174634      1.000000    0.466099\n",
       "user_score       -0.071597      0.466099    1.000000"
      ]
     },
     "execution_count": 48,
     "metadata": {},
     "output_type": "execute_result"
    }
   ],
   "source": [
    "(actual_data.query('platform == \"PC\"')\n",
    "    .loc[:,['global_sales', 'critic_score', 'user_score']]\n",
    "    .corr()\n",
    ")"
   ]
  },
  {
   "attachments": {},
   "cell_type": "markdown",
   "metadata": {},
   "source": [
    "Для PC подтвердились оба вывода."
   ]
  },
  {
   "attachments": {},
   "cell_type": "markdown",
   "metadata": {},
   "source": [
    "* PC, X360, PS3, XОne похожи на PS4\n",
    "* У WiiU и 3DS оценки игроков влияют на продажи, у WiiU даже сильнее чем оценки критиков"
   ]
  },
  {
   "attachments": {},
   "cell_type": "markdown",
   "metadata": {},
   "source": [
    "У WiiU и 3DS коэффицент корреляции свидетельствует о том, что есть слабая прямая связь между оценками игроков и продажами, при чем у WiiU коэффицент больше чем между оценками критиков и продажами."
   ]
  },
  {
   "attachments": {},
   "cell_type": "markdown",
   "metadata": {},
   "source": [
    "#### Посмотрите на общее распределение игр по жанрам. Что можно сказать о самых прибыльных жанрах? Выделяются ли жанры с высокими и низкими продажами?"
   ]
  },
  {
   "cell_type": "code",
   "execution_count": 49,
   "metadata": {},
   "outputs": [
    {
     "data": {
      "image/png": "[encoded data removed]",
      "text/plain": [
       "<Figure size 1080x576 with 1 Axes>"
      ]
     },
     "metadata": {
      "needs_background": "light"
     },
     "output_type": "display_data"
    }
   ],
   "source": [
    "plt.figure(figsize=(15, 8))\n",
    "genres = (actual_data\n",
    "    .pivot_table(index = 'genre', \n",
    "                 values = 'global_sales', \n",
    "                 aggfunc ='count')\n",
    "    .sort_values(by = 'global_sales', \n",
    "                 ascending = False)\n",
    ")\n",
    "sns.barplot(data=genres, \n",
    "            x=genres.index, \n",
    "            y=\"global_sales\",)\n",
    "\n",
    "plt.ylabel('Колчество игр')\n",
    "plt.xlabel('Жанры')\n",
    "plt.title('Распределение игр по жанрам');"
   ]
  },
  {
   "cell_type": "code",
   "execution_count": 50,
   "metadata": {},
   "outputs": [
    {
     "data": {
      "image/png": "[encoded data removed]",
      "text/plain": [
       "<Figure size 1080x576 with 1 Axes>"
      ]
     },
     "metadata": {
      "needs_background": "light"
     },
     "output_type": "display_data"
    }
   ],
   "source": [
    "plt.figure(figsize=(15, 8))\n",
    "genres = (actual_data\n",
    "    .pivot_table(index = 'genre', \n",
    "                 values = 'global_sales', \n",
    "                 aggfunc ='sum')\n",
    "    .sort_values(by = 'global_sales', \n",
    "                 ascending = False)\n",
    ")\n",
    "sns.barplot(data=genres, \n",
    "            x=genres.index, \n",
    "            y=\"global_sales\",)\n",
    "\n",
    "plt.ylabel('Продажи копий')\n",
    "plt.xlabel('Жанры')\n",
    "plt.title('Распределение продаж по жанрам');"
   ]
  },
  {
   "attachments": {},
   "cell_type": "markdown",
   "metadata": {},
   "source": [
    "Самые прибыльные жанры это экшны, шутеры и спортивные симуляторы. Экшены популярны потому что большинство громких релизов выходит именно в этом жанре. популярность шутеров и спорртивных симуляторов обусловлена мультиплеером или кооперативом, когда нескольо люедй играют одновременно. Также влияет соревновательный момент. Самыми неприбыльными и малопродаваемыми являются стратегии и пазлы, растерявшие свою актулаьность с 90х годов. Сегодняшних игроков тяжело завлечь загадками и интеллектуальными испытаниями."
   ]
  },
  {
   "cell_type": "code",
   "execution_count": 128,
   "metadata": {},
   "outputs": [
    {
     "data": {
      "image/png": "[encoded data removed]",
      "text/plain": [
       "<Figure size 1080x576 with 1 Axes>"
      ]
     },
     "metadata": {
      "needs_background": "light"
     },
     "output_type": "display_data"
    }
   ],
   "source": [
    "plt.figure(figsize=(15, 8))\n",
    "genres = (actual_data\n",
    "    .pivot_table(index = 'genre', \n",
    "                 values = 'global_sales', \n",
    "                 aggfunc ='mean')\n",
    "    .sort_values(by = 'global_sales', \n",
    "                 ascending = False)\n",
    ")\n",
    "sns.barplot(data=genres, \n",
    "            x=genres.index, \n",
    "            y=\"global_sales\",)\n",
    "\n",
    "plt.ylabel('Продажи копий')\n",
    "plt.xlabel('Жанры')\n",
    "plt.title('Распределение продаж по жанрам');"
   ]
  },
  {
   "cell_type": "code",
   "execution_count": 139,
   "metadata": {},
   "outputs": [
    {
     "data": {
      "text/html": [
       "<div>\n",
       "<style scoped>\n",
       "    .dataframe tbody tr th:only-of-type {\n",
       "        vertical-align: middle;\n",
       "    }\n",
       "\n",
       "    .dataframe tbody tr th {\n",
       "        vertical-align: top;\n",
       "    }\n",
       "\n",
       "    .dataframe thead th {\n",
       "        text-align: right;\n",
       "    }\n",
       "</style>\n",
       "<table border=\"1\" class=\"dataframe\">\n",
       "  <thead>\n",
       "    <tr style=\"text-align: right;\">\n",
       "      <th></th>\n",
       "      <th>count</th>\n",
       "      <th>mean</th>\n",
       "      <th>sum</th>\n",
       "    </tr>\n",
       "    <tr>\n",
       "      <th>genre</th>\n",
       "      <th></th>\n",
       "      <th></th>\n",
       "      <th></th>\n",
       "    </tr>\n",
       "  </thead>\n",
       "  <tbody>\n",
       "    <tr>\n",
       "      <th>Action</th>\n",
       "      <td>619</td>\n",
       "      <td>0.322068</td>\n",
       "      <td>199.36</td>\n",
       "    </tr>\n",
       "    <tr>\n",
       "      <th>Adventure</th>\n",
       "      <td>185</td>\n",
       "      <td>0.094865</td>\n",
       "      <td>17.55</td>\n",
       "    </tr>\n",
       "    <tr>\n",
       "      <th>Fighting</th>\n",
       "      <td>60</td>\n",
       "      <td>0.470333</td>\n",
       "      <td>28.22</td>\n",
       "    </tr>\n",
       "    <tr>\n",
       "      <th>Misc</th>\n",
       "      <td>113</td>\n",
       "      <td>0.332301</td>\n",
       "      <td>37.55</td>\n",
       "    </tr>\n",
       "    <tr>\n",
       "      <th>Platform</th>\n",
       "      <td>38</td>\n",
       "      <td>0.476053</td>\n",
       "      <td>18.09</td>\n",
       "    </tr>\n",
       "    <tr>\n",
       "      <th>Puzzle</th>\n",
       "      <td>14</td>\n",
       "      <td>0.157857</td>\n",
       "      <td>2.21</td>\n",
       "    </tr>\n",
       "    <tr>\n",
       "      <th>Racing</th>\n",
       "      <td>69</td>\n",
       "      <td>0.398841</td>\n",
       "      <td>27.52</td>\n",
       "    </tr>\n",
       "    <tr>\n",
       "      <th>Role-Playing</th>\n",
       "      <td>221</td>\n",
       "      <td>0.459005</td>\n",
       "      <td>101.44</td>\n",
       "    </tr>\n",
       "    <tr>\n",
       "      <th>Shooter</th>\n",
       "      <td>128</td>\n",
       "      <td>1.335469</td>\n",
       "      <td>170.94</td>\n",
       "    </tr>\n",
       "    <tr>\n",
       "      <th>Simulation</th>\n",
       "      <td>44</td>\n",
       "      <td>0.298409</td>\n",
       "      <td>13.13</td>\n",
       "    </tr>\n",
       "    <tr>\n",
       "      <th>Sports</th>\n",
       "      <td>161</td>\n",
       "      <td>0.680000</td>\n",
       "      <td>109.48</td>\n",
       "    </tr>\n",
       "    <tr>\n",
       "      <th>Strategy</th>\n",
       "      <td>37</td>\n",
       "      <td>0.107027</td>\n",
       "      <td>3.96</td>\n",
       "    </tr>\n",
       "  </tbody>\n",
       "</table>\n",
       "</div>"
      ],
      "text/plain": [
       "              count      mean     sum\n",
       "genre                                \n",
       "Action          619  0.322068  199.36\n",
       "Adventure       185  0.094865   17.55\n",
       "Fighting         60  0.470333   28.22\n",
       "Misc            113  0.332301   37.55\n",
       "Platform         38  0.476053   18.09\n",
       "Puzzle           14  0.157857    2.21\n",
       "Racing           69  0.398841   27.52\n",
       "Role-Playing    221  0.459005  101.44\n",
       "Shooter         128  1.335469  170.94\n",
       "Simulation       44  0.298409   13.13\n",
       "Sports          161  0.680000  109.48\n",
       "Strategy         37  0.107027    3.96"
      ]
     },
     "execution_count": 139,
     "metadata": {},
     "output_type": "execute_result"
    }
   ],
   "source": [
    "genres = (actual_data\n",
    "    .pivot_table(index = 'genre', \n",
    "                 values = 'global_sales', \n",
    "                 aggfunc ={'global_sales': ['count', 'sum', 'mean']}))\n",
    "genres"
   ]
  },
  {
   "attachments": {},
   "cell_type": "markdown",
   "metadata": {},
   "source": [
    "После проведения исследования по медиане стало ясно, что игры в жанре шутер в среднем становятся более успешными и продаются лучше, чем другие жанры. Поэтому можно сказать что по нашим данным самым прибыльным жанром является шутер."
   ]
  },
  {
   "attachments": {},
   "cell_type": "markdown",
   "metadata": {},
   "source": [
    "#### Вывод\n",
    "Был проведен исследовательский анализ данных, приведены выводы подтвежденные фактами \n",
    "\n",
    "На 2017 год ожидается подъем продаж по PS4 и XOne, так как это последнее поколение самых популярных игровых платформ."
   ]
  },
  {
   "attachments": {},
   "cell_type": "markdown",
   "metadata": {},
   "source": [
    " ### Портрет пользователя каждого региона"
   ]
  },
  {
   "attachments": {},
   "cell_type": "markdown",
   "metadata": {},
   "source": [
    " #### Самые популярные платформы (топ-5). Опишите различия в долях продаж."
   ]
  },
  {
   "cell_type": "code",
   "execution_count": 51,
   "metadata": {},
   "outputs": [
    {
     "data": {
      "text/html": [
       "<div>\n",
       "<style scoped>\n",
       "    .dataframe tbody tr th:only-of-type {\n",
       "        vertical-align: middle;\n",
       "    }\n",
       "\n",
       "    .dataframe tbody tr th {\n",
       "        vertical-align: top;\n",
       "    }\n",
       "\n",
       "    .dataframe thead th {\n",
       "        text-align: right;\n",
       "    }\n",
       "</style>\n",
       "<table border=\"1\" class=\"dataframe\">\n",
       "  <thead>\n",
       "    <tr style=\"text-align: right;\">\n",
       "      <th></th>\n",
       "      <th>na_sales</th>\n",
       "      <th>jp_sales</th>\n",
       "      <th>eu_sales</th>\n",
       "    </tr>\n",
       "    <tr>\n",
       "      <th>platform</th>\n",
       "      <th></th>\n",
       "      <th></th>\n",
       "      <th></th>\n",
       "    </tr>\n",
       "  </thead>\n",
       "  <tbody>\n",
       "    <tr>\n",
       "      <th>3DS</th>\n",
       "      <td>16.12</td>\n",
       "      <td>44.24</td>\n",
       "      <td>22.64</td>\n",
       "    </tr>\n",
       "    <tr>\n",
       "      <th>PC</th>\n",
       "      <td>17.97</td>\n",
       "      <td>0.00</td>\n",
       "      <td>7.23</td>\n",
       "    </tr>\n",
       "    <tr>\n",
       "      <th>PS3</th>\n",
       "      <td>25.54</td>\n",
       "      <td>11.22</td>\n",
       "      <td>22.05</td>\n",
       "    </tr>\n",
       "    <tr>\n",
       "      <th>PS4</th>\n",
       "      <td>130.04</td>\n",
       "      <td>15.02</td>\n",
       "      <td>98.61</td>\n",
       "    </tr>\n",
       "    <tr>\n",
       "      <th>PSP</th>\n",
       "      <td>0.00</td>\n",
       "      <td>0.36</td>\n",
       "      <td>0.00</td>\n",
       "    </tr>\n",
       "    <tr>\n",
       "      <th>PSV</th>\n",
       "      <td>3.53</td>\n",
       "      <td>14.54</td>\n",
       "      <td>2.52</td>\n",
       "    </tr>\n",
       "    <tr>\n",
       "      <th>Wii</th>\n",
       "      <td>2.59</td>\n",
       "      <td>0.00</td>\n",
       "      <td>2.08</td>\n",
       "    </tr>\n",
       "    <tr>\n",
       "      <th>WiiU</th>\n",
       "      <td>13.15</td>\n",
       "      <td>7.31</td>\n",
       "      <td>19.36</td>\n",
       "    </tr>\n",
       "    <tr>\n",
       "      <th>X360</th>\n",
       "      <td>15.49</td>\n",
       "      <td>0.08</td>\n",
       "      <td>28.30</td>\n",
       "    </tr>\n",
       "    <tr>\n",
       "      <th>XOne</th>\n",
       "      <td>46.25</td>\n",
       "      <td>0.32</td>\n",
       "      <td>81.27</td>\n",
       "    </tr>\n",
       "  </tbody>\n",
       "</table>\n",
       "</div>"
      ],
      "text/plain": [
       "          na_sales  jp_sales  eu_sales\n",
       "platform                              \n",
       "3DS          16.12     44.24     22.64\n",
       "PC           17.97      0.00      7.23\n",
       "PS3          25.54     11.22     22.05\n",
       "PS4         130.04     15.02     98.61\n",
       "PSP           0.00      0.36      0.00\n",
       "PSV           3.53     14.54      2.52\n",
       "Wii           2.59      0.00      2.08\n",
       "WiiU         13.15      7.31     19.36\n",
       "X360         15.49      0.08     28.30\n",
       "XOne         46.25      0.32     81.27"
      ]
     },
     "execution_count": 51,
     "metadata": {},
     "output_type": "execute_result"
    }
   ],
   "source": [
    "platform_pivot_table = actual_data.pivot_table(index = 'platform', \n",
    "                                              values = ['na_sales','jp_sales','eu_sales'], \n",
    "                                              aggfunc = ['sum'])\n",
    "platform_pivot_table.columns = ['na_sales','jp_sales','eu_sales']\n",
    "platform_pivot_table"
   ]
  },
  {
   "cell_type": "code",
   "execution_count": 52,
   "metadata": {},
   "outputs": [
    {
     "data": {
      "text/plain": [
       "platform\n",
       "PS4     98.61\n",
       "XOne    81.27\n",
       "X360    28.30\n",
       "3DS     22.64\n",
       "PS3     22.05\n",
       "Name: eu_sales, dtype: float64"
      ]
     },
     "execution_count": 52,
     "metadata": {},
     "output_type": "execute_result"
    }
   ],
   "source": [
    "top5_eu = (platform_pivot_table['eu_sales'].sort_values(ascending = False)\n",
    "           .head())\n",
    "top5_jp = (platform_pivot_table['jp_sales'].sort_values(ascending = False)\n",
    "           .head())\n",
    "top5_na = (platform_pivot_table['na_sales'].sort_values(ascending = False)\n",
    "           .head())\n",
    "top5_eu"
   ]
  },
  {
   "cell_type": "code",
   "execution_count": 53,
   "metadata": {},
   "outputs": [
    {
     "data": {
      "image/png": "[encoded data removed]",
      "text/plain": [
       "<Figure size 1440x1440 with 3 Axes>"
      ]
     },
     "metadata": {},
     "output_type": "display_data"
    }
   ],
   "source": [
    "fig_pie, (plt1,plt2,plt3) = plt.subplots(3,1, figsize = (20,20))\n",
    "colors = sns.color_palette('pastel')[0:5]\n",
    "\n",
    "plt1.pie(top5_eu, labels = top5_eu.index, colors = colors, autopct='%.2f%%',);\n",
    "plt2.pie(top5_jp, labels = top5_jp.index, colors = colors, autopct='%.2f%%',);\n",
    "plt3.pie(top5_na, labels = top5_na.index, colors = colors, autopct='%.2f%%',);\n",
    "plt1.set_title('Европа');\n",
    "plt2.set_title('Япония');\n",
    "plt3.set_title('Северная Америка');"
   ]
  },
  {
   "attachments": {},
   "cell_type": "markdown",
   "metadata": {},
   "source": [
    "Рейтинг платформ:\n",
    "\n",
    "* Топ 5 по Европе: PS4, XOne, X360, 3DS и PS3\n",
    "* Топ 5 по Японии: 3DS, PS4, PSV, PS3 и WiiU\n",
    "* Топ 5 по Северной Америке: PS4, XOne, PS3, PC и 3DS\n",
    "\n"
   ]
  },
  {
   "attachments": {},
   "cell_type": "markdown",
   "metadata": {},
   "source": [
    " #### Самые популярные жанры (топ-5). Поясните разницу."
   ]
  },
  {
   "cell_type": "code",
   "execution_count": 54,
   "metadata": {},
   "outputs": [
    {
     "data": {
      "text/html": [
       "<div>\n",
       "<style scoped>\n",
       "    .dataframe tbody tr th:only-of-type {\n",
       "        vertical-align: middle;\n",
       "    }\n",
       "\n",
       "    .dataframe tbody tr th {\n",
       "        vertical-align: top;\n",
       "    }\n",
       "\n",
       "    .dataframe thead th {\n",
       "        text-align: right;\n",
       "    }\n",
       "</style>\n",
       "<table border=\"1\" class=\"dataframe\">\n",
       "  <thead>\n",
       "    <tr style=\"text-align: right;\">\n",
       "      <th></th>\n",
       "      <th>na_sales</th>\n",
       "      <th>jp_sales</th>\n",
       "      <th>eu_sales</th>\n",
       "    </tr>\n",
       "    <tr>\n",
       "      <th>platform</th>\n",
       "      <th></th>\n",
       "      <th></th>\n",
       "      <th></th>\n",
       "    </tr>\n",
       "  </thead>\n",
       "  <tbody>\n",
       "    <tr>\n",
       "      <th>3DS</th>\n",
       "      <td>16.12</td>\n",
       "      <td>44.24</td>\n",
       "      <td>22.64</td>\n",
       "    </tr>\n",
       "    <tr>\n",
       "      <th>PC</th>\n",
       "      <td>17.97</td>\n",
       "      <td>0.00</td>\n",
       "      <td>7.23</td>\n",
       "    </tr>\n",
       "    <tr>\n",
       "      <th>PS3</th>\n",
       "      <td>25.54</td>\n",
       "      <td>11.22</td>\n",
       "      <td>22.05</td>\n",
       "    </tr>\n",
       "    <tr>\n",
       "      <th>PS4</th>\n",
       "      <td>130.04</td>\n",
       "      <td>15.02</td>\n",
       "      <td>98.61</td>\n",
       "    </tr>\n",
       "    <tr>\n",
       "      <th>PSP</th>\n",
       "      <td>0.00</td>\n",
       "      <td>0.36</td>\n",
       "      <td>0.00</td>\n",
       "    </tr>\n",
       "    <tr>\n",
       "      <th>PSV</th>\n",
       "      <td>3.53</td>\n",
       "      <td>14.54</td>\n",
       "      <td>2.52</td>\n",
       "    </tr>\n",
       "    <tr>\n",
       "      <th>Wii</th>\n",
       "      <td>2.59</td>\n",
       "      <td>0.00</td>\n",
       "      <td>2.08</td>\n",
       "    </tr>\n",
       "    <tr>\n",
       "      <th>WiiU</th>\n",
       "      <td>13.15</td>\n",
       "      <td>7.31</td>\n",
       "      <td>19.36</td>\n",
       "    </tr>\n",
       "    <tr>\n",
       "      <th>X360</th>\n",
       "      <td>15.49</td>\n",
       "      <td>0.08</td>\n",
       "      <td>28.30</td>\n",
       "    </tr>\n",
       "    <tr>\n",
       "      <th>XOne</th>\n",
       "      <td>46.25</td>\n",
       "      <td>0.32</td>\n",
       "      <td>81.27</td>\n",
       "    </tr>\n",
       "  </tbody>\n",
       "</table>\n",
       "</div>"
      ],
      "text/plain": [
       "          na_sales  jp_sales  eu_sales\n",
       "platform                              \n",
       "3DS          16.12     44.24     22.64\n",
       "PC           17.97      0.00      7.23\n",
       "PS3          25.54     11.22     22.05\n",
       "PS4         130.04     15.02     98.61\n",
       "PSP           0.00      0.36      0.00\n",
       "PSV           3.53     14.54      2.52\n",
       "Wii           2.59      0.00      2.08\n",
       "WiiU         13.15      7.31     19.36\n",
       "X360         15.49      0.08     28.30\n",
       "XOne         46.25      0.32     81.27"
      ]
     },
     "execution_count": 54,
     "metadata": {},
     "output_type": "execute_result"
    }
   ],
   "source": [
    "genre_pivot_table = actual_data.pivot_table(index = 'genre', \n",
    "                                              values = ['na_sales','jp_sales','eu_sales'], \n",
    "                                              aggfunc = ['sum'])\n",
    "genre_pivot_table.columns = ['na_sales','jp_sales','eu_sales']\n",
    "platform_pivot_table"
   ]
  },
  {
   "cell_type": "code",
   "execution_count": 55,
   "metadata": {},
   "outputs": [
    {
     "data": {
      "text/plain": [
       "Index(['Shooter', 'Action', 'Sports', 'Role-Playing', 'Misc'], dtype='object', name='genre')"
      ]
     },
     "execution_count": 55,
     "metadata": {},
     "output_type": "execute_result"
    }
   ],
   "source": [
    "top5_eu = (genre_pivot_table['eu_sales'].sort_values(ascending = False)\n",
    "           .head())\n",
    "top5_jp = (genre_pivot_table['jp_sales'].sort_values(ascending = False)\n",
    "           .head())\n",
    "top5_na = (genre_pivot_table['na_sales'].sort_values(ascending = False)\n",
    "           .head())\n",
    "top5_eu.index"
   ]
  },
  {
   "cell_type": "code",
   "execution_count": 56,
   "metadata": {},
   "outputs": [
    {
     "name": "stdout",
     "output_type": "stream",
     "text": [
      "Самые популярные жанры в Европе: Shooter, Action, Sports, Role-Playing, Misc\n",
      "Самые популярные жанры в Японии: Role-Playing, Action, Fighting, Misc, Shooter\n",
      "Самые популярные жанры в Северной Америке: Action, Shooter, Sports, Role-Playing, Racing\n"
     ]
    }
   ],
   "source": [
    "print('Самые популярные жанры в Европе:', ', '.join(top5_eu.index))\n",
    "print('Самые популярные жанры в Японии:', ', '.join(top5_jp.index))\n",
    "print('Самые популярные жанры в Северной Америке:', ', '.join(top5_na.index))"
   ]
  },
  {
   "attachments": {},
   "cell_type": "markdown",
   "metadata": {},
   "source": [
    "Европейские игроки и Американцы очень похожи по любимым жанрам, но сильно отличаются от Японцев. В Японии на популярность файтингов и рпг сильно повлияли локальные разработчики(японские рпг обычно выделяют в отдельный жанр JRPG). Также на популярность файтингов повлияли старые аркадные автоматы. Однако любовь к экшену объединяет игроков со всех стран."
   ]
  },
  {
   "attachments": {},
   "cell_type": "markdown",
   "metadata": {},
   "source": [
    "#### Влияет ли рейтинг ESRB на продажи в отдельном регионе?"
   ]
  },
  {
   "cell_type": "code",
   "execution_count": 57,
   "metadata": {},
   "outputs": [
    {
     "data": {
      "text/html": [
       "<div>\n",
       "<style scoped>\n",
       "    .dataframe tbody tr th:only-of-type {\n",
       "        vertical-align: middle;\n",
       "    }\n",
       "\n",
       "    .dataframe tbody tr th {\n",
       "        vertical-align: top;\n",
       "    }\n",
       "\n",
       "    .dataframe thead tr th {\n",
       "        text-align: left;\n",
       "    }\n",
       "\n",
       "    .dataframe thead tr:last-of-type th {\n",
       "        text-align: right;\n",
       "    }\n",
       "</style>\n",
       "<table border=\"1\" class=\"dataframe\">\n",
       "  <thead>\n",
       "    <tr>\n",
       "      <th></th>\n",
       "      <th colspan=\"3\" halign=\"left\">sum</th>\n",
       "    </tr>\n",
       "    <tr>\n",
       "      <th></th>\n",
       "      <th>eu_sales</th>\n",
       "      <th>jp_sales</th>\n",
       "      <th>na_sales</th>\n",
       "    </tr>\n",
       "    <tr>\n",
       "      <th>rating</th>\n",
       "      <th></th>\n",
       "      <th></th>\n",
       "      <th></th>\n",
       "    </tr>\n",
       "  </thead>\n",
       "  <tbody>\n",
       "    <tr>\n",
       "      <th>E</th>\n",
       "      <td>58.06</td>\n",
       "      <td>8.94</td>\n",
       "      <td>50.74</td>\n",
       "    </tr>\n",
       "    <tr>\n",
       "      <th>E10+</th>\n",
       "      <td>26.16</td>\n",
       "      <td>4.46</td>\n",
       "      <td>33.23</td>\n",
       "    </tr>\n",
       "    <tr>\n",
       "      <th>M</th>\n",
       "      <td>93.44</td>\n",
       "      <td>8.01</td>\n",
       "      <td>96.42</td>\n",
       "    </tr>\n",
       "    <tr>\n",
       "      <th>T</th>\n",
       "      <td>34.07</td>\n",
       "      <td>14.78</td>\n",
       "      <td>38.95</td>\n",
       "    </tr>\n",
       "    <tr>\n",
       "      <th>unknown</th>\n",
       "      <td>58.95</td>\n",
       "      <td>56.90</td>\n",
       "      <td>64.72</td>\n",
       "    </tr>\n",
       "  </tbody>\n",
       "</table>\n",
       "</div>"
      ],
      "text/plain": [
       "             sum                  \n",
       "        eu_sales jp_sales na_sales\n",
       "rating                            \n",
       "E          58.06     8.94    50.74\n",
       "E10+       26.16     4.46    33.23\n",
       "M          93.44     8.01    96.42\n",
       "T          34.07    14.78    38.95\n",
       "unknown    58.95    56.90    64.72"
      ]
     },
     "execution_count": 57,
     "metadata": {},
     "output_type": "execute_result"
    }
   ],
   "source": [
    "(actual_data.pivot_table(index = ['rating'], \n",
    "                         values = ['na_sales','jp_sales','eu_sales'], \n",
    "                        aggfunc = ['sum']))"
   ]
  },
  {
   "attachments": {},
   "cell_type": "markdown",
   "metadata": {},
   "source": [
    "На рынке Европы и Северной Америке лидируют игры с рейтингом М(17+), а в Японии Т(13+). Значит Рынок Европы и Америки ориентирован на сзрослую аудиторию, а Японии на подростков."
   ]
  },
  {
   "attachments": {},
   "cell_type": "markdown",
   "metadata": {},
   "source": [
    "#### Вывод\n",
    "* Американский игрок и Европейский игрок - от 17 лет, любит играть или на PS4, или на XOne, любит экшены и шутеры. \n",
    "* Японский игрок - от 13 лет, любит играть на 3DS или PS4, любит играть в RPG и экшены."
   ]
  },
  {
   "attachments": {},
   "cell_type": "markdown",
   "metadata": {},
   "source": [
    " ### Проверка гипотез"
   ]
  },
  {
   "attachments": {},
   "cell_type": "markdown",
   "metadata": {},
   "source": [
    " ####  Гипотеза 1\n",
    " Средние пользовательские рейтинги платформ Xbox One и PC одинаковые\n",
    " \n",
    "Н0: Средние пользовательские рейтинги платформ Xbox One и PC одинаковые\n",
    "\n",
    "H1 : Средние пользовательские рейтинги платформ Xbox One и PC отличаются"
   ]
  },
  {
   "cell_type": "code",
   "execution_count": 58,
   "metadata": {},
   "outputs": [
    {
     "name": "stdout",
     "output_type": "stream",
     "text": [
      "165 122\n"
     ]
    }
   ],
   "source": [
    "xone = actual_data.query('platform == \"XOne\"')['user_score'].dropna()\n",
    "pc = actual_data.query('platform == \"PC\"')['user_score'].dropna()\n",
    "print(len(xone),len(pc))"
   ]
  },
  {
   "attachments": {},
   "cell_type": "markdown",
   "metadata": {},
   "source": [
    "Объем отличается достаточно сильно. Нет оснований полагать, что дисперсии одинаковы."
   ]
  },
  {
   "cell_type": "code",
   "execution_count": 59,
   "metadata": {},
   "outputs": [
    {
     "name": "stdout",
     "output_type": "stream",
     "text": [
      "p-значение: 0.11601398086668832\n",
      "Не получилось отвергнуть нулевую гипотезу\n"
     ]
    }
   ],
   "source": [
    "alpha = 0.05\n",
    "\n",
    "results = st.ttest_ind(\n",
    "    xone, \n",
    "    pc,\n",
    "    equal_var = False )\n",
    "\n",
    "print('p-значение:', results.pvalue)\n",
    "if results.pvalue < alpha:\n",
    "    print(\"Отвергаем нулевую гипотезу\")\n",
    "else:\n",
    "    print(\"Не получилось отвергнуть нулевую гипотезу\") "
   ]
  },
  {
   "attachments": {},
   "cell_type": "markdown",
   "metadata": {},
   "source": [
    "**Вывод:** У нас нет оснований утверждать, что средние пользовательские рейтинги платформ Xbox One и PC значимо различаются"
   ]
  },
  {
   "attachments": {},
   "cell_type": "markdown",
   "metadata": {},
   "source": [
    " ####  Гипотеза 2\n",
    "Средние пользовательские рейтинги жанров Action (англ. «действие», экшен-игры) и Sports (англ. «спортивные соревнования») разные.\n",
    "\n",
    "Н0: Средние пользовательские рейтинги жанров Action и Sports одинаковые\n",
    "\n",
    "H1 : Средние пользовательские рейтинги жанров Action и Sports отличаются"
   ]
  },
  {
   "cell_type": "code",
   "execution_count": 60,
   "metadata": {},
   "outputs": [
    {
     "name": "stdout",
     "output_type": "stream",
     "text": [
      "297 127\n"
     ]
    }
   ],
   "source": [
    "action = actual_data.query('genre == \"Action\"')['user_score'].dropna()\n",
    "sport = actual_data.query('genre == \"Sports\"')['user_score'].dropna()\n",
    "print(len(action),len(sport))"
   ]
  },
  {
   "attachments": {},
   "cell_type": "markdown",
   "metadata": {},
   "source": [
    "Объемы отличаются достаточно сильно. Нет оснований полагать, что дисперсии одинаковы."
   ]
  },
  {
   "cell_type": "code",
   "execution_count": 61,
   "metadata": {},
   "outputs": [
    {
     "name": "stdout",
     "output_type": "stream",
     "text": [
      "p-значение: 1.1825550382644557e-14\n",
      "Отвергаем нулевую гипотезу\n"
     ]
    }
   ],
   "source": [
    "alpha = 0.05\n",
    "\n",
    "results = st.ttest_ind(\n",
    "    action, \n",
    "    sport,  \n",
    "    equal_var = False )\n",
    "\n",
    "print('p-значение:', results.pvalue)\n",
    "if results.pvalue < alpha:\n",
    "    print(\"Отвергаем нулевую гипотезу\")\n",
    "else:\n",
    "    print(\"Не получилось отвергнуть нулевую гипотезу\") "
   ]
  },
  {
   "attachments": {},
   "cell_type": "markdown",
   "metadata": {},
   "source": [
    "**Вывод:** У нас есть основания утверждать, что средние пользовательские рейтинги жанров Action и Sports отличаются."
   ]
  },
  {
   "attachments": {},
   "cell_type": "markdown",
   "metadata": {},
   "source": [
    " ####  Вывод\n",
    "* Гипотеза о том, что средние пользовательские рейтинги платформ Xbox One и PC одинаковые не отвергается \n",
    "* Гипотеза о том, что средние пользовательские рейтинги жанров Action и Sports одинаковые отвергается \n",
    "\n",
    "В обоих случаях проверялась гипотеза о равенстве средних двух генеральных совокупностей, поэтому в обоих случаях применялся t-тест"
   ]
  },
  {
   "attachments": {},
   "cell_type": "markdown",
   "metadata": {},
   "source": [
    " ### Общий вывод"
   ]
  },
  {
   "attachments": {},
   "cell_type": "markdown",
   "metadata": {},
   "source": [
    "В ходе проделанной работы было выполнено:\n",
    "\n",
    "1. Изучен датасет, выявлены аномалии и пропущенные значения.\n",
    "2. Проведена предобработка датасета: замена названий столбцов, заполнение пропускови т.д.\n",
    "3. Проведен анализ по данным и подготовлены актуальные данные.\n",
    "4. Составлены портреты пользователей для 3 регионов.\n",
    "5. Выполнены проверки гипотез.\n",
    "\n",
    "Сводный анализ для кампании на 2017 год.\n",
    "\n",
    "1. Продавать игры на новые поколения популярных платформ PS4, XOne.\n",
    "2. Продавать популярные жанры - экшен, шутеры, спортивные и ролевые игры.\n",
    "3. Изучить свою аудиторию, т.к. большинство игр рассчитано на игроков, которым 17 лет и старше.\n",
    "4. Помимо популярных платформ всегда будут продаваться игры на PC, т.к. он мало подвержен изменениям ны рынке консолей.\n",
    "5. Продавать то что нужно аудитории в вашем регионе."
   ]
  },
  {
   "attachments": {},
   "cell_type": "markdown",
   "metadata": {},
   "source": [
    "Для проведения реколамной кампании в 2017 году я рекомендую обртаить внимание на следующие моменты:\n",
    "* Выбор платформы. В следующем году самыми популярными платформами будут консоли нового поколения PS4 и Xbox One. В Японии также необходимо продвигать игры для 3DS, т. к. в этом регионе она вне конкуренции.\n",
    "\n",
    "\n",
    "* Среди жанров стоит обратить на следующие: Action, Shooter, Sports. Однако стоит заметить, что самым прибыльным среди них является шутер. Также стоит обртаить внимание на региональную специфику рынка Японии, там популярны Role-Playing, Action, Fighting.\n",
    "\n",
    "\n",
    "* Для PS4 и Xbox One стоит обращать внимания на отзывы критики, т. к. есть прямая зависимость между этим параметром и объемом продаж. Для WiiU и 3DS также стоит обратить внимание на отзывы критиков.\n",
    "\n",
    "\n",
    "* Возрастные рейтинги самых популярных игр - M(17+), E(6+), E10(10+) и T(13+). На японском рынке, бóльшая часть всех игр (56%) продается без указания возрастного рейтинга ESRB. Это связано с тем, что у них есть свое агенство, присваивающее рейтинги играм CERO.\n"
   ]
  }
 ],
 "metadata": {
  "ExecuteTimeLog": [
   {
    "duration": 1328,
    "start_time": "2022-11-02T08:28:09.821Z"
   },
   {
    "duration": 104,
    "start_time": "2022-11-02T08:28:31.291Z"
   },
   {
    "duration": 21,
    "start_time": "2022-11-02T08:29:48.034Z"
   },
   {
    "duration": 30,
    "start_time": "2022-11-02T08:29:55.503Z"
   },
   {
    "duration": 780,
    "start_time": "2022-11-02T08:30:25.075Z"
   },
   {
    "duration": 199,
    "start_time": "2022-11-02T08:30:49.489Z"
   },
   {
    "duration": 227,
    "start_time": "2022-11-02T08:30:59.107Z"
   },
   {
    "duration": 13,
    "start_time": "2022-11-02T08:31:17.046Z"
   },
   {
    "duration": 101,
    "start_time": "2022-11-02T08:38:54.964Z"
   },
   {
    "duration": 22,
    "start_time": "2022-11-02T08:39:00.408Z"
   },
   {
    "duration": 9,
    "start_time": "2022-11-02T08:40:15.531Z"
   },
   {
    "duration": 4,
    "start_time": "2022-11-02T08:40:20.891Z"
   },
   {
    "duration": 5,
    "start_time": "2022-11-02T08:40:30.232Z"
   },
   {
    "duration": 22,
    "start_time": "2022-11-02T08:46:37.131Z"
   },
   {
    "duration": 9,
    "start_time": "2022-11-02T08:46:55.994Z"
   },
   {
    "duration": 21,
    "start_time": "2022-11-02T08:48:22.852Z"
   },
   {
    "duration": 4,
    "start_time": "2022-11-02T08:55:38.430Z"
   },
   {
    "duration": 22,
    "start_time": "2022-11-02T08:56:31.496Z"
   },
   {
    "duration": 21,
    "start_time": "2022-11-02T08:56:41.181Z"
   },
   {
    "duration": 9,
    "start_time": "2022-11-02T08:57:19.539Z"
   },
   {
    "duration": 6,
    "start_time": "2022-11-02T08:57:28.875Z"
   },
   {
    "duration": 22,
    "start_time": "2022-11-02T08:59:33.119Z"
   },
   {
    "duration": 7,
    "start_time": "2022-11-02T09:08:58.977Z"
   },
   {
    "duration": 23,
    "start_time": "2022-11-02T09:09:30.735Z"
   },
   {
    "duration": 7,
    "start_time": "2022-11-02T09:20:17.897Z"
   },
   {
    "duration": 2,
    "start_time": "2022-11-02T09:23:30.953Z"
   },
   {
    "duration": 0,
    "start_time": "2022-11-02T09:24:14.599Z"
   },
   {
    "duration": 3,
    "start_time": "2022-11-02T09:24:34.826Z"
   },
   {
    "duration": 5,
    "start_time": "2022-11-02T09:25:48.041Z"
   },
   {
    "duration": 7,
    "start_time": "2022-11-02T09:26:53.252Z"
   },
   {
    "duration": 15,
    "start_time": "2022-11-02T09:30:21.340Z"
   },
   {
    "duration": 213,
    "start_time": "2022-11-02T09:31:48.637Z"
   },
   {
    "duration": 218,
    "start_time": "2022-11-02T09:31:54.017Z"
   },
   {
    "duration": 199,
    "start_time": "2022-11-02T09:32:18.375Z"
   },
   {
    "duration": 228,
    "start_time": "2022-11-02T09:32:27.714Z"
   },
   {
    "duration": 23,
    "start_time": "2022-11-02T09:32:42.436Z"
   },
   {
    "duration": 400,
    "start_time": "2022-11-02T09:32:49.785Z"
   },
   {
    "duration": 15,
    "start_time": "2022-11-02T09:33:06.364Z"
   },
   {
    "duration": 15,
    "start_time": "2022-11-02T09:33:45.356Z"
   },
   {
    "duration": 758,
    "start_time": "2022-11-02T09:33:56.344Z"
   },
   {
    "duration": 8,
    "start_time": "2022-11-02T09:34:02.702Z"
   },
   {
    "duration": 7,
    "start_time": "2022-11-02T09:34:20.657Z"
   },
   {
    "duration": 15,
    "start_time": "2022-11-02T09:34:46.024Z"
   },
   {
    "duration": 1012,
    "start_time": "2022-11-02T09:35:18.324Z"
   },
   {
    "duration": 8,
    "start_time": "2022-11-02T09:35:34.917Z"
   },
   {
    "duration": 5,
    "start_time": "2022-11-02T09:35:37.918Z"
   },
   {
    "duration": 4,
    "start_time": "2022-11-02T09:35:50.795Z"
   },
   {
    "duration": 16,
    "start_time": "2022-11-02T09:35:54.703Z"
   },
   {
    "duration": 3,
    "start_time": "2022-11-02T09:38:04.908Z"
   },
   {
    "duration": 7,
    "start_time": "2022-11-02T09:38:10.700Z"
   },
   {
    "duration": 8,
    "start_time": "2022-11-02T09:49:34.101Z"
   },
   {
    "duration": 7,
    "start_time": "2022-11-02T09:49:48.491Z"
   },
   {
    "duration": 5,
    "start_time": "2022-11-02T09:51:31.186Z"
   },
   {
    "duration": 8,
    "start_time": "2022-11-02T09:51:37.090Z"
   },
   {
    "duration": 15,
    "start_time": "2022-11-02T09:52:08.527Z"
   },
   {
    "duration": 13,
    "start_time": "2022-11-02T09:52:19.961Z"
   },
   {
    "duration": 5,
    "start_time": "2022-11-02T09:52:44.534Z"
   },
   {
    "duration": 5,
    "start_time": "2022-11-02T09:53:04.207Z"
   },
   {
    "duration": 10,
    "start_time": "2022-11-02T09:53:14.142Z"
   },
   {
    "duration": 12,
    "start_time": "2022-11-02T09:54:26.712Z"
   },
   {
    "duration": 11,
    "start_time": "2022-11-02T09:55:49.772Z"
   },
   {
    "duration": 32,
    "start_time": "2022-11-02T09:56:10.556Z"
   },
   {
    "duration": 13,
    "start_time": "2022-11-02T09:56:52.458Z"
   },
   {
    "duration": 12,
    "start_time": "2022-11-02T09:57:15.465Z"
   },
   {
    "duration": 14,
    "start_time": "2022-11-02T09:57:37.084Z"
   },
   {
    "duration": 4,
    "start_time": "2022-11-02T09:57:44.151Z"
   },
   {
    "duration": 15,
    "start_time": "2022-11-02T09:57:47.048Z"
   },
   {
    "duration": 3,
    "start_time": "2022-11-02T09:59:43.783Z"
   },
   {
    "duration": 7,
    "start_time": "2022-11-02T09:59:47.467Z"
   },
   {
    "duration": 15,
    "start_time": "2022-11-02T10:00:44.464Z"
   },
   {
    "duration": 14,
    "start_time": "2022-11-02T10:01:01.505Z"
   },
   {
    "duration": 17,
    "start_time": "2022-11-02T10:01:16.661Z"
   },
   {
    "duration": 4,
    "start_time": "2022-11-02T10:02:00.409Z"
   },
   {
    "duration": 7,
    "start_time": "2022-11-02T10:02:01.744Z"
   },
   {
    "duration": 19,
    "start_time": "2022-11-02T10:02:02.239Z"
   },
   {
    "duration": 4,
    "start_time": "2022-11-02T10:02:03.957Z"
   },
   {
    "duration": 8,
    "start_time": "2022-11-02T10:02:04.930Z"
   },
   {
    "duration": 9,
    "start_time": "2022-11-02T10:02:08.189Z"
   },
   {
    "duration": 3,
    "start_time": "2022-11-02T10:02:11.503Z"
   },
   {
    "duration": 6,
    "start_time": "2022-11-02T10:02:14.569Z"
   },
   {
    "duration": 13,
    "start_time": "2022-11-02T10:12:41.450Z"
   },
   {
    "duration": 12,
    "start_time": "2022-11-02T10:12:56.255Z"
   },
   {
    "duration": 11,
    "start_time": "2022-11-02T10:13:24.985Z"
   },
   {
    "duration": 10,
    "start_time": "2022-11-02T10:13:40.699Z"
   },
   {
    "duration": 9,
    "start_time": "2022-11-02T10:15:04.440Z"
   },
   {
    "duration": 11,
    "start_time": "2022-11-02T10:15:28.974Z"
   },
   {
    "duration": 7,
    "start_time": "2022-11-02T10:15:37.627Z"
   },
   {
    "duration": 11,
    "start_time": "2022-11-02T10:16:53.758Z"
   },
   {
    "duration": 6,
    "start_time": "2022-11-02T10:17:16.332Z"
   },
   {
    "duration": 6,
    "start_time": "2022-11-02T10:17:16.644Z"
   },
   {
    "duration": 21,
    "start_time": "2022-11-02T10:17:17.074Z"
   },
   {
    "duration": 4,
    "start_time": "2022-11-02T10:17:18.812Z"
   },
   {
    "duration": 12,
    "start_time": "2022-11-02T10:17:19.762Z"
   },
   {
    "duration": 11,
    "start_time": "2022-11-02T10:17:23.205Z"
   },
   {
    "duration": 3,
    "start_time": "2022-11-02T10:17:24.296Z"
   },
   {
    "duration": 7,
    "start_time": "2022-11-02T10:17:27.082Z"
   },
   {
    "duration": 14,
    "start_time": "2022-11-02T10:17:29.962Z"
   },
   {
    "duration": 9,
    "start_time": "2022-11-02T10:17:38.392Z"
   },
   {
    "duration": 13,
    "start_time": "2022-11-02T10:18:01.209Z"
   },
   {
    "duration": 5,
    "start_time": "2022-11-02T10:18:05.546Z"
   },
   {
    "duration": 6,
    "start_time": "2022-11-02T10:18:05.742Z"
   },
   {
    "duration": 17,
    "start_time": "2022-11-02T10:18:05.917Z"
   },
   {
    "duration": 4,
    "start_time": "2022-11-02T10:18:06.118Z"
   },
   {
    "duration": 8,
    "start_time": "2022-11-02T10:18:06.925Z"
   },
   {
    "duration": 8,
    "start_time": "2022-11-02T10:18:07.677Z"
   },
   {
    "duration": 3,
    "start_time": "2022-11-02T10:18:08.357Z"
   },
   {
    "duration": 18,
    "start_time": "2022-11-02T10:18:08.991Z"
   },
   {
    "duration": 12,
    "start_time": "2022-11-02T10:19:30.861Z"
   },
   {
    "duration": 5,
    "start_time": "2022-11-02T10:19:36.799Z"
   },
   {
    "duration": 8,
    "start_time": "2022-11-02T10:19:37.030Z"
   },
   {
    "duration": 19,
    "start_time": "2022-11-02T10:19:37.239Z"
   },
   {
    "duration": 4,
    "start_time": "2022-11-02T10:19:37.421Z"
   },
   {
    "duration": 12,
    "start_time": "2022-11-02T10:19:37.837Z"
   },
   {
    "duration": 13,
    "start_time": "2022-11-02T10:19:38.040Z"
   },
   {
    "duration": 3,
    "start_time": "2022-11-02T10:19:38.353Z"
   },
   {
    "duration": 26,
    "start_time": "2022-11-02T10:19:38.764Z"
   },
   {
    "duration": 4,
    "start_time": "2022-11-02T10:20:36.200Z"
   },
   {
    "duration": 3,
    "start_time": "2022-11-02T10:20:48.436Z"
   },
   {
    "duration": 3,
    "start_time": "2022-11-02T10:20:59.486Z"
   },
   {
    "duration": 5,
    "start_time": "2022-11-02T10:21:32.447Z"
   },
   {
    "duration": 6,
    "start_time": "2022-11-02T10:21:32.578Z"
   },
   {
    "duration": 15,
    "start_time": "2022-11-02T10:21:32.774Z"
   },
   {
    "duration": 4,
    "start_time": "2022-11-02T10:21:32.962Z"
   },
   {
    "duration": 11,
    "start_time": "2022-11-02T10:21:33.358Z"
   },
   {
    "duration": 12,
    "start_time": "2022-11-02T10:21:33.544Z"
   },
   {
    "duration": 3,
    "start_time": "2022-11-02T10:21:33.763Z"
   },
   {
    "duration": 14,
    "start_time": "2022-11-02T10:21:34.136Z"
   },
   {
    "duration": 4,
    "start_time": "2022-11-02T10:21:34.437Z"
   },
   {
    "duration": 3,
    "start_time": "2022-11-02T10:21:35.587Z"
   },
   {
    "duration": 6,
    "start_time": "2022-11-02T10:21:48.258Z"
   },
   {
    "duration": 4,
    "start_time": "2022-11-02T10:22:12.546Z"
   },
   {
    "duration": 7,
    "start_time": "2022-11-02T10:22:12.739Z"
   },
   {
    "duration": 15,
    "start_time": "2022-11-02T10:22:12.913Z"
   },
   {
    "duration": 3,
    "start_time": "2022-11-02T10:22:13.110Z"
   },
   {
    "duration": 8,
    "start_time": "2022-11-02T10:22:13.513Z"
   },
   {
    "duration": 9,
    "start_time": "2022-11-02T10:22:13.708Z"
   },
   {
    "duration": 3,
    "start_time": "2022-11-02T10:22:13.970Z"
   },
   {
    "duration": 22,
    "start_time": "2022-11-02T10:22:15.271Z"
   },
   {
    "duration": 11,
    "start_time": "2022-11-02T10:26:35.236Z"
   },
   {
    "duration": 5,
    "start_time": "2022-11-02T10:26:39.525Z"
   },
   {
    "duration": 7,
    "start_time": "2022-11-02T10:26:39.733Z"
   },
   {
    "duration": 15,
    "start_time": "2022-11-02T10:26:39.928Z"
   },
   {
    "duration": 4,
    "start_time": "2022-11-02T10:26:40.134Z"
   },
   {
    "duration": 6,
    "start_time": "2022-11-02T10:26:40.463Z"
   },
   {
    "duration": 11,
    "start_time": "2022-11-02T10:26:41.382Z"
   },
   {
    "duration": 13,
    "start_time": "2022-11-02T10:26:41.873Z"
   },
   {
    "duration": 3,
    "start_time": "2022-11-02T10:26:43.958Z"
   },
   {
    "duration": 22,
    "start_time": "2022-11-02T10:26:44.365Z"
   },
   {
    "duration": 6,
    "start_time": "2022-11-02T10:27:31.729Z"
   },
   {
    "duration": 6,
    "start_time": "2022-11-02T10:28:55.894Z"
   },
   {
    "duration": 12,
    "start_time": "2022-11-02T10:31:53.453Z"
   },
   {
    "duration": 5,
    "start_time": "2022-11-02T10:32:21.353Z"
   },
   {
    "duration": 7,
    "start_time": "2022-11-02T10:32:21.762Z"
   },
   {
    "duration": 14,
    "start_time": "2022-11-02T10:32:22.243Z"
   },
   {
    "duration": 4,
    "start_time": "2022-11-02T10:32:22.721Z"
   },
   {
    "duration": 6,
    "start_time": "2022-11-02T10:32:23.233Z"
   },
   {
    "duration": 8,
    "start_time": "2022-11-02T10:32:24.174Z"
   },
   {
    "duration": 9,
    "start_time": "2022-11-02T10:32:24.657Z"
   },
   {
    "duration": 3,
    "start_time": "2022-11-02T10:32:25.146Z"
   },
   {
    "duration": 25,
    "start_time": "2022-11-02T10:32:25.986Z"
   },
   {
    "duration": 16,
    "start_time": "2022-11-02T10:33:30.592Z"
   },
   {
    "duration": 4,
    "start_time": "2022-11-02T10:33:30.894Z"
   },
   {
    "duration": 5,
    "start_time": "2022-11-02T10:33:31.294Z"
   },
   {
    "duration": 13,
    "start_time": "2022-11-02T10:33:33.384Z"
   },
   {
    "duration": 5,
    "start_time": "2022-11-02T10:33:44.259Z"
   },
   {
    "duration": 6,
    "start_time": "2022-11-02T10:33:47.458Z"
   },
   {
    "duration": 20,
    "start_time": "2022-11-02T10:33:50.552Z"
   },
   {
    "duration": 14,
    "start_time": "2022-11-02T10:34:11.239Z"
   },
   {
    "duration": 6,
    "start_time": "2022-11-02T10:34:18.992Z"
   },
   {
    "duration": 4,
    "start_time": "2022-11-02T10:34:59.293Z"
   },
   {
    "duration": 10,
    "start_time": "2022-11-02T10:35:15.939Z"
   },
   {
    "duration": 19,
    "start_time": "2022-11-02T10:35:32.317Z"
   },
   {
    "duration": 24,
    "start_time": "2022-11-02T10:36:03.995Z"
   },
   {
    "duration": 4,
    "start_time": "2022-11-02T10:36:04.273Z"
   },
   {
    "duration": 6,
    "start_time": "2022-11-02T10:36:04.711Z"
   },
   {
    "duration": 5,
    "start_time": "2022-11-02T10:36:07.025Z"
   },
   {
    "duration": 6,
    "start_time": "2022-11-02T10:36:07.422Z"
   },
   {
    "duration": 8,
    "start_time": "2022-11-02T10:36:32.023Z"
   },
   {
    "duration": 5,
    "start_time": "2022-11-02T10:38:09.703Z"
   },
   {
    "duration": 1154,
    "start_time": "2022-11-02T10:38:22.476Z"
   },
   {
    "duration": 63,
    "start_time": "2022-11-02T10:38:23.632Z"
   },
   {
    "duration": 19,
    "start_time": "2022-11-02T10:38:23.697Z"
   },
   {
    "duration": 29,
    "start_time": "2022-11-02T10:38:23.717Z"
   },
   {
    "duration": 785,
    "start_time": "2022-11-02T10:38:23.749Z"
   },
   {
    "duration": 202,
    "start_time": "2022-11-02T10:38:24.536Z"
   },
   {
    "duration": 11,
    "start_time": "2022-11-02T10:38:24.740Z"
   },
   {
    "duration": 15,
    "start_time": "2022-11-02T10:38:24.753Z"
   },
   {
    "duration": 4,
    "start_time": "2022-11-02T10:38:24.769Z"
   },
   {
    "duration": 8,
    "start_time": "2022-11-02T10:38:24.775Z"
   },
   {
    "duration": 1406,
    "start_time": "2022-11-02T10:38:24.785Z"
   },
   {
    "duration": 0,
    "start_time": "2022-11-02T10:38:26.193Z"
   },
   {
    "duration": 0,
    "start_time": "2022-11-02T10:38:26.194Z"
   },
   {
    "duration": 0,
    "start_time": "2022-11-02T10:38:26.196Z"
   },
   {
    "duration": 0,
    "start_time": "2022-11-02T10:38:26.197Z"
   },
   {
    "duration": 0,
    "start_time": "2022-11-02T10:38:26.199Z"
   },
   {
    "duration": 0,
    "start_time": "2022-11-02T10:38:26.200Z"
   },
   {
    "duration": 0,
    "start_time": "2022-11-02T10:38:26.202Z"
   },
   {
    "duration": 15,
    "start_time": "2022-11-02T10:38:45.169Z"
   },
   {
    "duration": 17,
    "start_time": "2022-11-02T10:38:45.769Z"
   },
   {
    "duration": 6,
    "start_time": "2022-11-02T10:38:48.406Z"
   },
   {
    "duration": 16,
    "start_time": "2022-11-02T10:38:48.925Z"
   },
   {
    "duration": 3,
    "start_time": "2022-11-02T10:38:49.313Z"
   },
   {
    "duration": 6,
    "start_time": "2022-11-02T10:38:49.668Z"
   },
   {
    "duration": 7,
    "start_time": "2022-11-02T10:38:50.739Z"
   },
   {
    "duration": 16,
    "start_time": "2022-11-02T10:38:54.180Z"
   },
   {
    "duration": 5,
    "start_time": "2022-11-02T10:38:59.685Z"
   },
   {
    "duration": 9,
    "start_time": "2022-11-02T10:39:51.867Z"
   },
   {
    "duration": 10,
    "start_time": "2022-11-02T10:39:56.811Z"
   },
   {
    "duration": 9,
    "start_time": "2022-11-02T10:40:02.194Z"
   },
   {
    "duration": 62,
    "start_time": "2022-11-02T10:43:35.656Z"
   },
   {
    "duration": 1156,
    "start_time": "2022-11-02T10:43:43.722Z"
   },
   {
    "duration": 66,
    "start_time": "2022-11-02T10:43:44.882Z"
   },
   {
    "duration": 29,
    "start_time": "2022-11-02T10:43:44.950Z"
   },
   {
    "duration": 53,
    "start_time": "2022-11-02T10:43:44.981Z"
   },
   {
    "duration": 792,
    "start_time": "2022-11-02T10:43:45.036Z"
   },
   {
    "duration": 196,
    "start_time": "2022-11-02T10:43:45.833Z"
   },
   {
    "duration": 11,
    "start_time": "2022-11-02T10:43:46.033Z"
   },
   {
    "duration": 15,
    "start_time": "2022-11-02T10:43:46.045Z"
   },
   {
    "duration": 6,
    "start_time": "2022-11-02T10:43:46.062Z"
   },
   {
    "duration": 8,
    "start_time": "2022-11-02T10:43:46.070Z"
   },
   {
    "duration": 20,
    "start_time": "2022-11-02T10:43:46.079Z"
   },
   {
    "duration": 36,
    "start_time": "2022-11-02T10:43:46.101Z"
   },
   {
    "duration": 5,
    "start_time": "2022-11-02T10:43:46.139Z"
   },
   {
    "duration": 17,
    "start_time": "2022-11-02T10:43:46.147Z"
   },
   {
    "duration": 4,
    "start_time": "2022-11-02T10:43:46.166Z"
   },
   {
    "duration": 13,
    "start_time": "2022-11-02T10:43:46.172Z"
   },
   {
    "duration": 29,
    "start_time": "2022-11-02T10:43:46.187Z"
   },
   {
    "duration": 22,
    "start_time": "2022-11-02T10:43:46.218Z"
   },
   {
    "duration": 27,
    "start_time": "2022-11-02T10:43:46.242Z"
   },
   {
    "duration": 14,
    "start_time": "2022-11-02T10:43:46.271Z"
   },
   {
    "duration": 4,
    "start_time": "2022-11-02T10:44:56.766Z"
   },
   {
    "duration": 196,
    "start_time": "2022-11-02T10:47:12.842Z"
   },
   {
    "duration": 7,
    "start_time": "2022-11-02T10:51:09.234Z"
   },
   {
    "duration": 5,
    "start_time": "2022-11-02T10:53:22.697Z"
   },
   {
    "duration": 100,
    "start_time": "2022-11-02T10:53:53.114Z"
   },
   {
    "duration": 3,
    "start_time": "2022-11-02T10:54:12.889Z"
   },
   {
    "duration": 7,
    "start_time": "2022-11-02T10:54:16.775Z"
   },
   {
    "duration": 7,
    "start_time": "2022-11-02T10:54:18.714Z"
   },
   {
    "duration": 4,
    "start_time": "2022-11-02T10:54:34.493Z"
   },
   {
    "duration": 16,
    "start_time": "2022-11-02T12:50:53.581Z"
   },
   {
    "duration": 9,
    "start_time": "2022-11-02T12:53:24.411Z"
   },
   {
    "duration": 5,
    "start_time": "2022-11-02T12:55:34.814Z"
   },
   {
    "duration": 20,
    "start_time": "2022-11-02T13:01:41.940Z"
   },
   {
    "duration": 175,
    "start_time": "2022-11-02T13:03:11.490Z"
   },
   {
    "duration": 12,
    "start_time": "2022-11-02T13:03:39.325Z"
   },
   {
    "duration": 15,
    "start_time": "2022-11-02T13:03:49.957Z"
   },
   {
    "duration": 25,
    "start_time": "2022-11-02T13:04:32.905Z"
   },
   {
    "duration": 14,
    "start_time": "2022-11-02T13:04:46.130Z"
   },
   {
    "duration": 7,
    "start_time": "2022-11-02T13:05:13.973Z"
   },
   {
    "duration": 19,
    "start_time": "2022-11-02T13:05:50.800Z"
   },
   {
    "duration": 17,
    "start_time": "2022-11-02T13:06:07.252Z"
   },
   {
    "duration": 869,
    "start_time": "2022-11-02T13:06:50.102Z"
   },
   {
    "duration": 18,
    "start_time": "2022-11-02T13:07:29.413Z"
   },
   {
    "duration": 17,
    "start_time": "2022-11-02T13:08:02.191Z"
   },
   {
    "duration": 20,
    "start_time": "2022-11-02T13:08:12.673Z"
   },
   {
    "duration": 15,
    "start_time": "2022-11-02T13:08:19.412Z"
   },
   {
    "duration": 17,
    "start_time": "2022-11-02T13:08:39.447Z"
   },
   {
    "duration": 445,
    "start_time": "2022-11-02T13:09:07.143Z"
   },
   {
    "duration": 432,
    "start_time": "2022-11-02T13:09:53.450Z"
   },
   {
    "duration": 382,
    "start_time": "2022-11-02T13:10:23.277Z"
   },
   {
    "duration": 467,
    "start_time": "2022-11-02T13:10:41.284Z"
   },
   {
    "duration": 483,
    "start_time": "2022-11-02T13:10:55.075Z"
   },
   {
    "duration": 400,
    "start_time": "2022-11-02T13:14:06.884Z"
   },
   {
    "duration": 9,
    "start_time": "2022-11-02T13:41:59.587Z"
   },
   {
    "duration": 13,
    "start_time": "2022-11-02T13:42:02.683Z"
   },
   {
    "duration": 10,
    "start_time": "2022-11-02T13:43:24.904Z"
   },
   {
    "duration": 19,
    "start_time": "2022-11-02T13:43:41.212Z"
   },
   {
    "duration": 11,
    "start_time": "2022-11-02T13:47:22.353Z"
   },
   {
    "duration": 26,
    "start_time": "2022-11-02T13:47:26.340Z"
   },
   {
    "duration": 446,
    "start_time": "2022-11-02T13:48:39.614Z"
   },
   {
    "duration": 29,
    "start_time": "2022-11-02T13:48:59.318Z"
   },
   {
    "duration": 333,
    "start_time": "2022-11-02T13:49:08.366Z"
   },
   {
    "duration": 331,
    "start_time": "2022-11-02T13:49:17.646Z"
   },
   {
    "duration": 221,
    "start_time": "2022-11-02T13:49:33.008Z"
   },
   {
    "duration": 206,
    "start_time": "2022-11-02T13:49:48.349Z"
   },
   {
    "duration": 204,
    "start_time": "2022-11-02T13:50:15.408Z"
   },
   {
    "duration": 466,
    "start_time": "2022-11-02T13:51:58.718Z"
   },
   {
    "duration": 338,
    "start_time": "2022-11-02T13:52:35.825Z"
   },
   {
    "duration": 344,
    "start_time": "2022-11-02T13:54:09.750Z"
   },
   {
    "duration": 45,
    "start_time": "2022-11-02T13:57:10.285Z"
   },
   {
    "duration": 14,
    "start_time": "2022-11-02T13:57:16.557Z"
   },
   {
    "duration": 3,
    "start_time": "2022-11-02T13:57:26.055Z"
   },
   {
    "duration": 4,
    "start_time": "2022-11-02T13:57:31.886Z"
   },
   {
    "duration": 18,
    "start_time": "2022-11-02T13:58:00.778Z"
   },
   {
    "duration": 3245,
    "start_time": "2022-11-02T13:59:21.810Z"
   },
   {
    "duration": 3181,
    "start_time": "2022-11-02T13:59:39.409Z"
   },
   {
    "duration": 15,
    "start_time": "2022-11-02T13:59:56.637Z"
   },
   {
    "duration": 14,
    "start_time": "2022-11-02T14:01:32.814Z"
   },
   {
    "duration": 11,
    "start_time": "2022-11-02T14:02:31.472Z"
   },
   {
    "duration": 16,
    "start_time": "2022-11-02T14:08:44.571Z"
   },
   {
    "duration": 13,
    "start_time": "2022-11-02T15:39:14.175Z"
   },
   {
    "duration": 20,
    "start_time": "2022-11-02T15:39:17.849Z"
   },
   {
    "duration": 18,
    "start_time": "2022-11-02T15:39:29.319Z"
   },
   {
    "duration": 17,
    "start_time": "2022-11-02T15:39:34.876Z"
   },
   {
    "duration": 19,
    "start_time": "2022-11-02T15:40:04.674Z"
   },
   {
    "duration": 14,
    "start_time": "2022-11-02T15:40:39.441Z"
   },
   {
    "duration": 13,
    "start_time": "2022-11-02T15:40:49.762Z"
   },
   {
    "duration": 25,
    "start_time": "2022-11-02T15:42:01.597Z"
   },
   {
    "duration": 7,
    "start_time": "2022-11-02T15:42:17.896Z"
   },
   {
    "duration": 10,
    "start_time": "2022-11-02T15:42:23.442Z"
   },
   {
    "duration": 7,
    "start_time": "2022-11-02T15:42:27.554Z"
   },
   {
    "duration": 11,
    "start_time": "2022-11-02T15:42:31.139Z"
   },
   {
    "duration": 8,
    "start_time": "2022-11-02T15:42:37.420Z"
   },
   {
    "duration": 11,
    "start_time": "2022-11-02T15:46:55.580Z"
   },
   {
    "duration": 64,
    "start_time": "2022-11-02T15:47:03.495Z"
   },
   {
    "duration": 20,
    "start_time": "2022-11-02T15:48:04.662Z"
   },
   {
    "duration": 2912,
    "start_time": "2022-11-02T15:48:18.200Z"
   },
   {
    "duration": 109,
    "start_time": "2022-11-02T15:50:27.769Z"
   },
   {
    "duration": 14,
    "start_time": "2022-11-02T15:50:31.533Z"
   },
   {
    "duration": 13,
    "start_time": "2022-11-02T15:50:38.549Z"
   },
   {
    "duration": 14,
    "start_time": "2022-11-02T15:50:47.029Z"
   },
   {
    "duration": 25,
    "start_time": "2022-11-02T15:51:48.062Z"
   },
   {
    "duration": 492,
    "start_time": "2022-11-02T15:51:57.363Z"
   },
   {
    "duration": 515,
    "start_time": "2022-11-02T15:52:07.700Z"
   },
   {
    "duration": 524,
    "start_time": "2022-11-02T15:52:27.292Z"
   },
   {
    "duration": 538,
    "start_time": "2022-11-02T15:52:31.843Z"
   },
   {
    "duration": 13,
    "start_time": "2022-11-02T15:55:11.733Z"
   },
   {
    "duration": 704,
    "start_time": "2022-11-02T15:55:12.338Z"
   },
   {
    "duration": 15,
    "start_time": "2022-11-02T15:58:48.748Z"
   },
   {
    "duration": 817,
    "start_time": "2022-11-02T15:58:48.953Z"
   },
   {
    "duration": 754,
    "start_time": "2022-11-02T16:13:49.502Z"
   },
   {
    "duration": 22,
    "start_time": "2022-11-02T16:14:08.450Z"
   },
   {
    "duration": 535,
    "start_time": "2022-11-02T16:14:09.524Z"
   },
   {
    "duration": 402,
    "start_time": "2022-11-02T16:14:10.101Z"
   },
   {
    "duration": 15,
    "start_time": "2022-11-02T16:14:10.506Z"
   },
   {
    "duration": 723,
    "start_time": "2022-11-02T16:14:10.675Z"
   },
   {
    "duration": 5,
    "start_time": "2022-11-02T16:19:51.750Z"
   },
   {
    "duration": 25,
    "start_time": "2022-11-02T16:19:58.762Z"
   },
   {
    "duration": 24,
    "start_time": "2022-11-02T16:21:45.255Z"
   },
   {
    "duration": 1656,
    "start_time": "2022-11-02T16:23:30.305Z"
   },
   {
    "duration": 33,
    "start_time": "2022-11-02T16:24:01.775Z"
   },
   {
    "duration": 368,
    "start_time": "2022-11-02T16:24:05.620Z"
   },
   {
    "duration": 47,
    "start_time": "2022-11-04T08:31:27.440Z"
   },
   {
    "duration": 1265,
    "start_time": "2022-11-04T08:31:36.095Z"
   },
   {
    "duration": 116,
    "start_time": "2022-11-04T08:31:37.362Z"
   },
   {
    "duration": 19,
    "start_time": "2022-11-04T08:31:37.480Z"
   },
   {
    "duration": 29,
    "start_time": "2022-11-04T08:31:37.500Z"
   },
   {
    "duration": 739,
    "start_time": "2022-11-04T08:31:37.532Z"
   },
   {
    "duration": 193,
    "start_time": "2022-11-04T08:31:38.273Z"
   },
   {
    "duration": 10,
    "start_time": "2022-11-04T08:31:38.469Z"
   },
   {
    "duration": 31,
    "start_time": "2022-11-04T08:31:38.481Z"
   },
   {
    "duration": 4,
    "start_time": "2022-11-04T08:31:38.514Z"
   },
   {
    "duration": 7,
    "start_time": "2022-11-04T08:31:38.520Z"
   },
   {
    "duration": 29,
    "start_time": "2022-11-04T08:31:38.529Z"
   },
   {
    "duration": 10,
    "start_time": "2022-11-04T08:31:38.561Z"
   },
   {
    "duration": 8,
    "start_time": "2022-11-04T08:31:38.572Z"
   },
   {
    "duration": 13,
    "start_time": "2022-11-04T08:31:38.584Z"
   },
   {
    "duration": 7,
    "start_time": "2022-11-04T08:31:38.599Z"
   },
   {
    "duration": 8,
    "start_time": "2022-11-04T08:31:38.607Z"
   },
   {
    "duration": 7,
    "start_time": "2022-11-04T08:31:38.617Z"
   },
   {
    "duration": 12,
    "start_time": "2022-11-04T08:31:38.653Z"
   },
   {
    "duration": 6,
    "start_time": "2022-11-04T08:31:38.667Z"
   },
   {
    "duration": 9,
    "start_time": "2022-11-04T08:31:38.674Z"
   },
   {
    "duration": 5,
    "start_time": "2022-11-04T08:31:38.684Z"
   },
   {
    "duration": 8,
    "start_time": "2022-11-04T08:31:38.690Z"
   },
   {
    "duration": 9,
    "start_time": "2022-11-04T08:31:38.700Z"
   },
   {
    "duration": 6,
    "start_time": "2022-11-04T08:31:38.711Z"
   },
   {
    "duration": 36,
    "start_time": "2022-11-04T08:31:38.719Z"
   },
   {
    "duration": 16,
    "start_time": "2022-11-04T08:31:38.757Z"
   },
   {
    "duration": 387,
    "start_time": "2022-11-04T08:31:38.775Z"
   },
   {
    "duration": 412,
    "start_time": "2022-11-04T08:31:39.163Z"
   },
   {
    "duration": 13,
    "start_time": "2022-11-04T08:31:39.577Z"
   },
   {
    "duration": 661,
    "start_time": "2022-11-04T08:31:39.592Z"
   },
   {
    "duration": 22,
    "start_time": "2022-11-04T08:31:40.255Z"
   },
   {
    "duration": 29,
    "start_time": "2022-11-04T08:31:40.279Z"
   },
   {
    "duration": 323,
    "start_time": "2022-11-04T08:31:40.310Z"
   },
   {
    "duration": 122,
    "start_time": "2022-11-04T08:31:40.636Z"
   },
   {
    "duration": 221,
    "start_time": "2022-11-04T08:31:49.381Z"
   },
   {
    "duration": 9,
    "start_time": "2022-11-04T08:33:26.305Z"
   },
   {
    "duration": 10,
    "start_time": "2022-11-04T08:33:33.758Z"
   },
   {
    "duration": 223,
    "start_time": "2022-11-04T08:33:40.108Z"
   },
   {
    "duration": 342,
    "start_time": "2022-11-04T08:34:22.226Z"
   },
   {
    "duration": 277,
    "start_time": "2022-11-04T08:37:51.618Z"
   },
   {
    "duration": 238,
    "start_time": "2022-11-04T08:38:20.856Z"
   },
   {
    "duration": 245,
    "start_time": "2022-11-04T08:38:29.094Z"
   },
   {
    "duration": 117,
    "start_time": "2022-11-04T08:38:52.889Z"
   },
   {
    "duration": 260,
    "start_time": "2022-11-04T08:39:13.999Z"
   },
   {
    "duration": 15,
    "start_time": "2022-11-04T08:40:12.532Z"
   },
   {
    "duration": 389,
    "start_time": "2022-11-04T08:40:19.121Z"
   },
   {
    "duration": 285,
    "start_time": "2022-11-04T08:42:05.303Z"
   },
   {
    "duration": 271,
    "start_time": "2022-11-04T08:42:24.913Z"
   },
   {
    "duration": 286,
    "start_time": "2022-11-04T08:43:07.053Z"
   },
   {
    "duration": 282,
    "start_time": "2022-11-04T08:43:30.906Z"
   },
   {
    "duration": 279,
    "start_time": "2022-11-04T08:49:56.782Z"
   },
   {
    "duration": 210,
    "start_time": "2022-11-04T08:52:30.018Z"
   },
   {
    "duration": 48,
    "start_time": "2022-11-04T08:53:14.772Z"
   },
   {
    "duration": 278,
    "start_time": "2022-11-04T08:53:18.022Z"
   },
   {
    "duration": 276,
    "start_time": "2022-11-04T08:54:52.478Z"
   },
   {
    "duration": 332,
    "start_time": "2022-11-04T08:55:01.524Z"
   },
   {
    "duration": 313,
    "start_time": "2022-11-04T08:55:11.219Z"
   },
   {
    "duration": 120,
    "start_time": "2022-11-04T08:55:58.123Z"
   },
   {
    "duration": 437,
    "start_time": "2022-11-04T08:56:21.221Z"
   },
   {
    "duration": 287,
    "start_time": "2022-11-04T08:56:28.285Z"
   },
   {
    "duration": 24,
    "start_time": "2022-11-04T08:59:14.569Z"
   },
   {
    "duration": 24,
    "start_time": "2022-11-04T08:59:17.522Z"
   },
   {
    "duration": 324,
    "start_time": "2022-11-04T08:59:20.117Z"
   },
   {
    "duration": 300,
    "start_time": "2022-11-04T08:59:25.611Z"
   },
   {
    "duration": 283,
    "start_time": "2022-11-04T08:59:27.741Z"
   },
   {
    "duration": 115,
    "start_time": "2022-11-04T08:59:50.162Z"
   },
   {
    "duration": 23,
    "start_time": "2022-11-04T09:00:41.848Z"
   },
   {
    "duration": 21,
    "start_time": "2022-11-04T09:00:42.257Z"
   },
   {
    "duration": 318,
    "start_time": "2022-11-04T09:00:42.448Z"
   },
   {
    "duration": 286,
    "start_time": "2022-11-04T09:00:43.248Z"
   },
   {
    "duration": 215,
    "start_time": "2022-11-04T09:00:47.768Z"
   },
   {
    "duration": 166,
    "start_time": "2022-11-04T09:01:26.258Z"
   },
   {
    "duration": 155,
    "start_time": "2022-11-04T09:01:56.968Z"
   },
   {
    "duration": 144,
    "start_time": "2022-11-04T09:02:09.692Z"
   },
   {
    "duration": 153,
    "start_time": "2022-11-04T09:02:51.995Z"
   },
   {
    "duration": 155,
    "start_time": "2022-11-04T09:03:12.863Z"
   },
   {
    "duration": 158,
    "start_time": "2022-11-04T09:04:29.192Z"
   },
   {
    "duration": 271,
    "start_time": "2022-11-04T09:05:00.111Z"
   },
   {
    "duration": 265,
    "start_time": "2022-11-04T09:05:21.823Z"
   },
   {
    "duration": 382,
    "start_time": "2022-11-04T09:05:37.195Z"
   },
   {
    "duration": 265,
    "start_time": "2022-11-04T09:05:57.783Z"
   },
   {
    "duration": 279,
    "start_time": "2022-11-04T09:06:54.577Z"
   },
   {
    "duration": 268,
    "start_time": "2022-11-04T09:07:25.039Z"
   },
   {
    "duration": 275,
    "start_time": "2022-11-04T09:07:35.980Z"
   },
   {
    "duration": 373,
    "start_time": "2022-11-04T09:07:41.538Z"
   },
   {
    "duration": 370,
    "start_time": "2022-11-04T09:07:47.817Z"
   },
   {
    "duration": 304,
    "start_time": "2022-11-04T09:07:55.640Z"
   },
   {
    "duration": 275,
    "start_time": "2022-11-04T09:08:23.473Z"
   },
   {
    "duration": 293,
    "start_time": "2022-11-04T09:09:05.375Z"
   },
   {
    "duration": 206,
    "start_time": "2022-11-04T09:22:54.012Z"
   },
   {
    "duration": 227,
    "start_time": "2022-11-04T09:23:11.795Z"
   },
   {
    "duration": 219,
    "start_time": "2022-11-04T09:24:05.841Z"
   },
   {
    "duration": 342,
    "start_time": "2022-11-04T09:24:11.737Z"
   },
   {
    "duration": 22,
    "start_time": "2022-11-04T09:24:25.234Z"
   },
   {
    "duration": 9,
    "start_time": "2022-11-04T09:24:33.188Z"
   },
   {
    "duration": 239,
    "start_time": "2022-11-04T09:24:55.646Z"
   },
   {
    "duration": 242,
    "start_time": "2022-11-04T09:25:04.085Z"
   },
   {
    "duration": 290,
    "start_time": "2022-11-04T09:25:30.789Z"
   },
   {
    "duration": 16,
    "start_time": "2022-11-04T09:27:15.318Z"
   },
   {
    "duration": 26,
    "start_time": "2022-11-04T09:27:38.755Z"
   },
   {
    "duration": 18,
    "start_time": "2022-11-04T09:27:58.397Z"
   },
   {
    "duration": 15,
    "start_time": "2022-11-04T09:28:39.478Z"
   },
   {
    "duration": 317,
    "start_time": "2022-11-04T09:29:54.127Z"
   },
   {
    "duration": 282,
    "start_time": "2022-11-04T09:30:25.083Z"
   },
   {
    "duration": 280,
    "start_time": "2022-11-04T09:30:32.834Z"
   },
   {
    "duration": 15,
    "start_time": "2022-11-04T09:30:38.751Z"
   },
   {
    "duration": 18,
    "start_time": "2022-11-04T09:30:43.861Z"
   },
   {
    "duration": 13,
    "start_time": "2022-11-04T09:31:04.210Z"
   },
   {
    "duration": 13,
    "start_time": "2022-11-04T09:31:26.229Z"
   },
   {
    "duration": 304,
    "start_time": "2022-11-04T09:39:44.044Z"
   },
   {
    "duration": 13,
    "start_time": "2022-11-04T09:39:44.350Z"
   },
   {
    "duration": 12,
    "start_time": "2022-11-04T09:42:36.076Z"
   },
   {
    "duration": 278,
    "start_time": "2022-11-04T09:42:37.563Z"
   },
   {
    "duration": 13,
    "start_time": "2022-11-04T09:42:49.629Z"
   },
   {
    "duration": 293,
    "start_time": "2022-11-04T09:44:04.484Z"
   },
   {
    "duration": 15,
    "start_time": "2022-11-04T09:44:05.489Z"
   },
   {
    "duration": 269,
    "start_time": "2022-11-04T09:44:06.705Z"
   },
   {
    "duration": 12,
    "start_time": "2022-11-04T09:44:07.308Z"
   },
   {
    "duration": 384,
    "start_time": "2022-11-04T09:44:08.900Z"
   },
   {
    "duration": 11,
    "start_time": "2022-11-04T09:44:09.286Z"
   },
   {
    "duration": 257,
    "start_time": "2022-11-04T09:44:10.169Z"
   },
   {
    "duration": 10,
    "start_time": "2022-11-04T09:44:10.428Z"
   },
   {
    "duration": 226,
    "start_time": "2022-11-04T09:44:10.851Z"
   },
   {
    "duration": 12,
    "start_time": "2022-11-04T09:44:11.079Z"
   },
   {
    "duration": 22,
    "start_time": "2022-11-04T09:44:56.011Z"
   },
   {
    "duration": 47,
    "start_time": "2022-11-04T09:49:40.042Z"
   },
   {
    "duration": 396,
    "start_time": "2022-11-04T09:52:17.058Z"
   },
   {
    "duration": 340,
    "start_time": "2022-11-04T09:52:27.988Z"
   },
   {
    "duration": 234,
    "start_time": "2022-11-04T09:53:35.421Z"
   },
   {
    "duration": 215,
    "start_time": "2022-11-04T09:54:17.312Z"
   },
   {
    "duration": 224,
    "start_time": "2022-11-04T09:55:26.733Z"
   },
   {
    "duration": 248,
    "start_time": "2022-11-04T09:56:12.021Z"
   },
   {
    "duration": 27,
    "start_time": "2022-11-04T10:03:29.665Z"
   },
   {
    "duration": 10,
    "start_time": "2022-11-04T10:03:44.456Z"
   },
   {
    "duration": 10,
    "start_time": "2022-11-04T10:12:09.233Z"
   },
   {
    "duration": 12,
    "start_time": "2022-11-04T10:12:18.677Z"
   },
   {
    "duration": 19,
    "start_time": "2022-11-04T10:12:23.366Z"
   },
   {
    "duration": 11,
    "start_time": "2022-11-04T10:12:52.492Z"
   },
   {
    "duration": 18,
    "start_time": "2022-11-04T10:12:59.084Z"
   },
   {
    "duration": 18,
    "start_time": "2022-11-04T10:13:24.114Z"
   },
   {
    "duration": 6,
    "start_time": "2022-11-04T10:14:40.091Z"
   },
   {
    "duration": 11,
    "start_time": "2022-11-04T10:14:44.478Z"
   },
   {
    "duration": 10,
    "start_time": "2022-11-04T10:16:05.232Z"
   },
   {
    "duration": 282,
    "start_time": "2022-11-04T10:16:30.811Z"
   },
   {
    "duration": 11,
    "start_time": "2022-11-04T10:17:10.910Z"
   },
   {
    "duration": 10,
    "start_time": "2022-11-04T10:17:23.954Z"
   },
   {
    "duration": 80,
    "start_time": "2022-11-04T10:17:28.652Z"
   },
   {
    "duration": 124,
    "start_time": "2022-11-04T10:17:53.202Z"
   },
   {
    "duration": 77,
    "start_time": "2022-11-04T10:17:57.713Z"
   },
   {
    "duration": 9,
    "start_time": "2022-11-04T10:19:33.010Z"
   },
   {
    "duration": 77,
    "start_time": "2022-11-04T10:20:00.008Z"
   },
   {
    "duration": 93,
    "start_time": "2022-11-04T10:20:15.097Z"
   },
   {
    "duration": 260,
    "start_time": "2022-11-04T10:20:55.875Z"
   },
   {
    "duration": 337,
    "start_time": "2022-11-04T10:21:01.440Z"
   },
   {
    "duration": 300,
    "start_time": "2022-11-04T10:21:07.993Z"
   },
   {
    "duration": 10,
    "start_time": "2022-11-04T10:21:49.925Z"
   },
   {
    "duration": 90,
    "start_time": "2022-11-04T10:21:59.580Z"
   },
   {
    "duration": 139,
    "start_time": "2022-11-04T10:22:03.844Z"
   },
   {
    "duration": 137,
    "start_time": "2022-11-04T10:22:07.298Z"
   },
   {
    "duration": 83,
    "start_time": "2022-11-04T10:22:14.066Z"
   },
   {
    "duration": 73,
    "start_time": "2022-11-04T10:22:21.070Z"
   },
   {
    "duration": 130,
    "start_time": "2022-11-04T10:22:29.885Z"
   },
   {
    "duration": 111,
    "start_time": "2022-11-04T10:22:48.583Z"
   },
   {
    "duration": 285,
    "start_time": "2022-11-04T10:23:17.888Z"
   },
   {
    "duration": 110,
    "start_time": "2022-11-04T10:23:26.336Z"
   },
   {
    "duration": 274,
    "start_time": "2022-11-04T10:25:22.987Z"
   },
   {
    "duration": 245,
    "start_time": "2022-11-04T10:25:29.735Z"
   },
   {
    "duration": 302,
    "start_time": "2022-11-04T10:25:39.749Z"
   },
   {
    "duration": 291,
    "start_time": "2022-11-04T10:25:46.734Z"
   },
   {
    "duration": 282,
    "start_time": "2022-11-04T10:25:53.367Z"
   },
   {
    "duration": 66,
    "start_time": "2022-11-04T10:27:05.508Z"
   },
   {
    "duration": 287,
    "start_time": "2022-11-04T10:27:10.499Z"
   },
   {
    "duration": 434,
    "start_time": "2022-11-04T10:29:22.457Z"
   },
   {
    "duration": 312,
    "start_time": "2022-11-04T10:29:30.608Z"
   },
   {
    "duration": 284,
    "start_time": "2022-11-04T10:30:15.516Z"
   },
   {
    "duration": 275,
    "start_time": "2022-11-04T10:31:46.614Z"
   },
   {
    "duration": 299,
    "start_time": "2022-11-04T10:31:54.324Z"
   },
   {
    "duration": 278,
    "start_time": "2022-11-04T10:32:15.167Z"
   },
   {
    "duration": 8,
    "start_time": "2022-11-04T10:33:25.097Z"
   },
   {
    "duration": 10,
    "start_time": "2022-11-04T10:33:32.571Z"
   },
   {
    "duration": 8,
    "start_time": "2022-11-04T10:33:41.368Z"
   },
   {
    "duration": 23,
    "start_time": "2022-11-04T10:35:49.690Z"
   },
   {
    "duration": 17,
    "start_time": "2022-11-04T10:35:53.396Z"
   },
   {
    "duration": 4,
    "start_time": "2022-11-04T10:35:53.957Z"
   },
   {
    "duration": 263,
    "start_time": "2022-11-04T10:35:54.719Z"
   },
   {
    "duration": 24,
    "start_time": "2022-11-04T10:36:16.824Z"
   },
   {
    "duration": 1072,
    "start_time": "2022-11-04T10:36:21.812Z"
   },
   {
    "duration": 70,
    "start_time": "2022-11-04T10:36:22.886Z"
   },
   {
    "duration": 22,
    "start_time": "2022-11-04T10:36:22.966Z"
   },
   {
    "duration": 29,
    "start_time": "2022-11-04T10:36:22.991Z"
   },
   {
    "duration": 804,
    "start_time": "2022-11-04T10:36:23.022Z"
   },
   {
    "duration": 206,
    "start_time": "2022-11-04T10:36:23.828Z"
   },
   {
    "duration": 21,
    "start_time": "2022-11-04T10:36:24.035Z"
   },
   {
    "duration": 19,
    "start_time": "2022-11-04T10:36:24.058Z"
   },
   {
    "duration": 4,
    "start_time": "2022-11-04T10:36:24.079Z"
   },
   {
    "duration": 11,
    "start_time": "2022-11-04T10:36:24.085Z"
   },
   {
    "duration": 23,
    "start_time": "2022-11-04T10:36:24.098Z"
   },
   {
    "duration": 40,
    "start_time": "2022-11-04T10:36:24.122Z"
   },
   {
    "duration": 4,
    "start_time": "2022-11-04T10:36:24.166Z"
   },
   {
    "duration": 20,
    "start_time": "2022-11-04T10:36:24.172Z"
   },
   {
    "duration": 11,
    "start_time": "2022-11-04T10:36:24.193Z"
   },
   {
    "duration": 10,
    "start_time": "2022-11-04T10:36:24.206Z"
   },
   {
    "duration": 8,
    "start_time": "2022-11-04T10:36:24.217Z"
   },
   {
    "duration": 27,
    "start_time": "2022-11-04T10:36:24.227Z"
   },
   {
    "duration": 5,
    "start_time": "2022-11-04T10:36:24.256Z"
   },
   {
    "duration": 10,
    "start_time": "2022-11-04T10:36:24.263Z"
   },
   {
    "duration": 7,
    "start_time": "2022-11-04T10:36:24.274Z"
   },
   {
    "duration": 11,
    "start_time": "2022-11-04T10:36:24.282Z"
   },
   {
    "duration": 8,
    "start_time": "2022-11-04T10:36:24.295Z"
   },
   {
    "duration": 8,
    "start_time": "2022-11-04T10:36:24.304Z"
   },
   {
    "duration": 9,
    "start_time": "2022-11-04T10:36:24.313Z"
   },
   {
    "duration": 38,
    "start_time": "2022-11-04T10:36:24.323Z"
   },
   {
    "duration": 394,
    "start_time": "2022-11-04T10:36:24.363Z"
   },
   {
    "duration": 432,
    "start_time": "2022-11-04T10:36:24.758Z"
   },
   {
    "duration": 10,
    "start_time": "2022-11-04T10:36:25.192Z"
   },
   {
    "duration": 708,
    "start_time": "2022-11-04T10:36:25.204Z"
   },
   {
    "duration": 24,
    "start_time": "2022-11-04T10:36:25.914Z"
   },
   {
    "duration": 24,
    "start_time": "2022-11-04T10:36:25.953Z"
   },
   {
    "duration": 318,
    "start_time": "2022-11-04T10:36:25.979Z"
   },
   {
    "duration": 287,
    "start_time": "2022-11-04T10:36:26.299Z"
   },
   {
    "duration": 308,
    "start_time": "2022-11-04T10:36:26.588Z"
   },
   {
    "duration": 13,
    "start_time": "2022-11-04T10:36:26.897Z"
   },
   {
    "duration": 310,
    "start_time": "2022-11-04T10:36:26.912Z"
   },
   {
    "duration": 13,
    "start_time": "2022-11-04T10:36:27.223Z"
   },
   {
    "duration": 327,
    "start_time": "2022-11-04T10:36:27.238Z"
   },
   {
    "duration": 13,
    "start_time": "2022-11-04T10:36:27.570Z"
   },
   {
    "duration": 420,
    "start_time": "2022-11-04T10:36:27.584Z"
   },
   {
    "duration": 12,
    "start_time": "2022-11-04T10:36:28.007Z"
   },
   {
    "duration": 304,
    "start_time": "2022-11-04T10:36:28.021Z"
   },
   {
    "duration": 12,
    "start_time": "2022-11-04T10:36:28.327Z"
   },
   {
    "duration": 294,
    "start_time": "2022-11-04T10:36:28.341Z"
   },
   {
    "duration": 18,
    "start_time": "2022-11-04T10:36:28.637Z"
   },
   {
    "duration": 293,
    "start_time": "2022-11-04T10:36:28.657Z"
   },
   {
    "duration": 12,
    "start_time": "2022-11-04T10:36:28.954Z"
   },
   {
    "duration": 236,
    "start_time": "2022-11-04T10:36:28.968Z"
   },
   {
    "duration": 245,
    "start_time": "2022-11-04T10:36:29.205Z"
   },
   {
    "duration": 23,
    "start_time": "2022-11-04T10:36:29.453Z"
   },
   {
    "duration": 135,
    "start_time": "2022-11-04T10:36:29.478Z"
   },
   {
    "duration": 0,
    "start_time": "2022-11-04T10:36:29.615Z"
   },
   {
    "duration": 5,
    "start_time": "2022-11-04T10:37:06.558Z"
   },
   {
    "duration": 312,
    "start_time": "2022-11-04T10:37:08.917Z"
   },
   {
    "duration": 8,
    "start_time": "2022-11-04T10:40:25.468Z"
   },
   {
    "duration": 392,
    "start_time": "2022-11-04T10:44:52.085Z"
   },
   {
    "duration": 278,
    "start_time": "2022-11-04T10:45:11.060Z"
   },
   {
    "duration": 23,
    "start_time": "2022-11-04T10:49:47.045Z"
   },
   {
    "duration": 19,
    "start_time": "2022-11-04T10:49:51.401Z"
   },
   {
    "duration": 8,
    "start_time": "2022-11-04T10:49:52.128Z"
   },
   {
    "duration": 388,
    "start_time": "2022-11-04T10:49:52.415Z"
   },
   {
    "duration": 22,
    "start_time": "2022-11-04T10:50:44.488Z"
   },
   {
    "duration": 17,
    "start_time": "2022-11-04T10:50:51.132Z"
   },
   {
    "duration": 10,
    "start_time": "2022-11-04T10:50:51.404Z"
   },
   {
    "duration": 304,
    "start_time": "2022-11-04T10:50:51.662Z"
   },
   {
    "duration": 19,
    "start_time": "2022-11-04T10:56:44.841Z"
   },
   {
    "duration": 18,
    "start_time": "2022-11-04T10:57:24.088Z"
   },
   {
    "duration": 19,
    "start_time": "2022-11-04T10:57:59.763Z"
   },
   {
    "duration": 9,
    "start_time": "2022-11-04T10:58:00.297Z"
   },
   {
    "duration": 331,
    "start_time": "2022-11-04T10:58:00.818Z"
   },
   {
    "duration": 4,
    "start_time": "2022-11-04T10:59:58.110Z"
   },
   {
    "duration": 4,
    "start_time": "2022-11-04T11:00:33.386Z"
   },
   {
    "duration": 3,
    "start_time": "2022-11-04T11:00:40.745Z"
   },
   {
    "duration": 3,
    "start_time": "2022-11-04T11:00:44.939Z"
   },
   {
    "duration": 7,
    "start_time": "2022-11-04T11:01:15.503Z"
   },
   {
    "duration": 15,
    "start_time": "2022-11-04T11:11:57.327Z"
   },
   {
    "duration": 10,
    "start_time": "2022-11-04T11:12:37.031Z"
   },
   {
    "duration": 12,
    "start_time": "2022-11-04T11:12:46.767Z"
   },
   {
    "duration": 19,
    "start_time": "2022-11-04T11:13:16.069Z"
   },
   {
    "duration": 3,
    "start_time": "2022-11-04T11:37:13.110Z"
   },
   {
    "duration": 10,
    "start_time": "2022-11-04T11:39:17.677Z"
   },
   {
    "duration": 10,
    "start_time": "2022-11-04T11:40:03.101Z"
   },
   {
    "duration": 106,
    "start_time": "2022-11-04T11:45:03.284Z"
   },
   {
    "duration": 15,
    "start_time": "2022-11-04T11:45:07.696Z"
   },
   {
    "duration": 14,
    "start_time": "2022-11-04T11:45:23.889Z"
   },
   {
    "duration": 10,
    "start_time": "2022-11-04T11:46:18.984Z"
   },
   {
    "duration": 18,
    "start_time": "2022-11-04T11:47:03.030Z"
   },
   {
    "duration": 10,
    "start_time": "2022-11-04T11:47:08.903Z"
   },
   {
    "duration": 5,
    "start_time": "2022-11-04T11:49:45.636Z"
   },
   {
    "duration": 6,
    "start_time": "2022-11-04T11:49:52.090Z"
   },
   {
    "duration": 8,
    "start_time": "2022-11-04T11:50:01.925Z"
   },
   {
    "duration": 9,
    "start_time": "2022-11-04T11:50:11.525Z"
   },
   {
    "duration": 9,
    "start_time": "2022-11-04T11:50:34.997Z"
   },
   {
    "duration": 10,
    "start_time": "2022-11-04T11:50:38.785Z"
   },
   {
    "duration": 11,
    "start_time": "2022-11-04T11:50:54.775Z"
   },
   {
    "duration": 4,
    "start_time": "2022-11-04T11:52:56.226Z"
   },
   {
    "duration": 11,
    "start_time": "2022-11-04T11:52:59.402Z"
   },
   {
    "duration": 4,
    "start_time": "2022-11-04T11:53:22.318Z"
   },
   {
    "duration": 10,
    "start_time": "2022-11-04T11:53:25.191Z"
   },
   {
    "duration": 5,
    "start_time": "2022-11-04T11:53:49.414Z"
   },
   {
    "duration": 24,
    "start_time": "2022-11-04T11:53:53.061Z"
   },
   {
    "duration": 15,
    "start_time": "2022-11-04T11:54:16.071Z"
   },
   {
    "duration": 17,
    "start_time": "2022-11-04T11:54:36.762Z"
   },
   {
    "duration": 21,
    "start_time": "2022-11-04T11:56:53.733Z"
   },
   {
    "duration": 10,
    "start_time": "2022-11-04T11:57:12.062Z"
   },
   {
    "duration": 7,
    "start_time": "2022-11-04T11:57:20.903Z"
   },
   {
    "duration": 9,
    "start_time": "2022-11-04T11:57:47.506Z"
   },
   {
    "duration": 7,
    "start_time": "2022-11-04T11:57:52.673Z"
   },
   {
    "duration": 5,
    "start_time": "2022-11-04T11:58:59.825Z"
   },
   {
    "duration": 6,
    "start_time": "2022-11-04T11:59:07.200Z"
   },
   {
    "duration": 11,
    "start_time": "2022-11-04T12:00:37.585Z"
   },
   {
    "duration": 14,
    "start_time": "2022-11-04T12:00:44.703Z"
   },
   {
    "duration": 43,
    "start_time": "2022-11-04T12:01:23.610Z"
   },
   {
    "duration": 17,
    "start_time": "2022-11-04T12:01:30.928Z"
   },
   {
    "duration": 11,
    "start_time": "2022-11-04T12:01:45.654Z"
   },
   {
    "duration": 10,
    "start_time": "2022-11-04T12:04:34.497Z"
   },
   {
    "duration": 12,
    "start_time": "2022-11-04T12:05:43.361Z"
   },
   {
    "duration": 6,
    "start_time": "2022-11-04T12:05:43.623Z"
   },
   {
    "duration": 5,
    "start_time": "2022-11-04T12:06:07.837Z"
   },
   {
    "duration": 61,
    "start_time": "2022-11-04T12:07:37.285Z"
   },
   {
    "duration": 9,
    "start_time": "2022-11-04T12:10:07.837Z"
   },
   {
    "duration": 5,
    "start_time": "2022-11-04T12:10:38.707Z"
   },
   {
    "duration": 11,
    "start_time": "2022-11-04T12:10:56.140Z"
   },
   {
    "duration": 5,
    "start_time": "2022-11-04T12:11:19.135Z"
   },
   {
    "duration": 1234,
    "start_time": "2022-11-04T13:39:18.407Z"
   },
   {
    "duration": 63,
    "start_time": "2022-11-04T13:39:19.644Z"
   },
   {
    "duration": 20,
    "start_time": "2022-11-04T13:39:19.709Z"
   },
   {
    "duration": 26,
    "start_time": "2022-11-04T13:39:19.730Z"
   },
   {
    "duration": 715,
    "start_time": "2022-11-04T13:39:19.758Z"
   },
   {
    "duration": 187,
    "start_time": "2022-11-04T13:39:20.475Z"
   },
   {
    "duration": 22,
    "start_time": "2022-11-04T13:39:20.664Z"
   },
   {
    "duration": 22,
    "start_time": "2022-11-04T13:39:20.688Z"
   },
   {
    "duration": 13,
    "start_time": "2022-11-04T13:39:20.711Z"
   },
   {
    "duration": 16,
    "start_time": "2022-11-04T13:39:20.726Z"
   },
   {
    "duration": 29,
    "start_time": "2022-11-04T13:39:20.744Z"
   },
   {
    "duration": 17,
    "start_time": "2022-11-04T13:39:20.775Z"
   },
   {
    "duration": 13,
    "start_time": "2022-11-04T13:39:20.793Z"
   },
   {
    "duration": 36,
    "start_time": "2022-11-04T13:39:20.809Z"
   },
   {
    "duration": 20,
    "start_time": "2022-11-04T13:39:20.847Z"
   },
   {
    "duration": 23,
    "start_time": "2022-11-04T13:39:20.869Z"
   },
   {
    "duration": 20,
    "start_time": "2022-11-04T13:39:20.893Z"
   },
   {
    "duration": 22,
    "start_time": "2022-11-04T13:39:20.915Z"
   },
   {
    "duration": 21,
    "start_time": "2022-11-04T13:39:20.939Z"
   },
   {
    "duration": 17,
    "start_time": "2022-11-04T13:39:20.962Z"
   },
   {
    "duration": 17,
    "start_time": "2022-11-04T13:39:20.981Z"
   },
   {
    "duration": 25,
    "start_time": "2022-11-04T13:39:21.000Z"
   },
   {
    "duration": 13,
    "start_time": "2022-11-04T13:39:21.027Z"
   },
   {
    "duration": 21,
    "start_time": "2022-11-04T13:39:21.041Z"
   },
   {
    "duration": 21,
    "start_time": "2022-11-04T13:39:21.064Z"
   },
   {
    "duration": 29,
    "start_time": "2022-11-04T13:39:21.087Z"
   },
   {
    "duration": 358,
    "start_time": "2022-11-04T13:39:21.117Z"
   },
   {
    "duration": 375,
    "start_time": "2022-11-04T13:39:21.476Z"
   },
   {
    "duration": 9,
    "start_time": "2022-11-04T13:39:21.853Z"
   },
   {
    "duration": 598,
    "start_time": "2022-11-04T13:39:21.864Z"
   },
   {
    "duration": 19,
    "start_time": "2022-11-04T13:39:22.464Z"
   },
   {
    "duration": 30,
    "start_time": "2022-11-04T13:39:22.485Z"
   },
   {
    "duration": 349,
    "start_time": "2022-11-04T13:39:22.517Z"
   },
   {
    "duration": 270,
    "start_time": "2022-11-04T13:39:22.868Z"
   },
   {
    "duration": 288,
    "start_time": "2022-11-04T13:39:23.140Z"
   },
   {
    "duration": 11,
    "start_time": "2022-11-04T13:39:23.429Z"
   },
   {
    "duration": 288,
    "start_time": "2022-11-04T13:39:23.441Z"
   },
   {
    "duration": 11,
    "start_time": "2022-11-04T13:39:23.731Z"
   },
   {
    "duration": 299,
    "start_time": "2022-11-04T13:39:23.743Z"
   },
   {
    "duration": 10,
    "start_time": "2022-11-04T13:39:24.044Z"
   },
   {
    "duration": 374,
    "start_time": "2022-11-04T13:39:24.058Z"
   },
   {
    "duration": 11,
    "start_time": "2022-11-04T13:39:24.433Z"
   },
   {
    "duration": 266,
    "start_time": "2022-11-04T13:39:24.446Z"
   },
   {
    "duration": 10,
    "start_time": "2022-11-04T13:39:24.714Z"
   },
   {
    "duration": 286,
    "start_time": "2022-11-04T13:39:24.726Z"
   },
   {
    "duration": 10,
    "start_time": "2022-11-04T13:39:25.013Z"
   },
   {
    "duration": 271,
    "start_time": "2022-11-04T13:39:25.025Z"
   },
   {
    "duration": 16,
    "start_time": "2022-11-04T13:39:25.297Z"
   },
   {
    "duration": 231,
    "start_time": "2022-11-04T13:39:25.314Z"
   },
   {
    "duration": 222,
    "start_time": "2022-11-04T13:39:25.546Z"
   },
   {
    "duration": 14,
    "start_time": "2022-11-04T13:39:25.770Z"
   },
   {
    "duration": 8,
    "start_time": "2022-11-04T13:39:25.786Z"
   },
   {
    "duration": 268,
    "start_time": "2022-11-04T13:39:25.795Z"
   },
   {
    "duration": 15,
    "start_time": "2022-11-04T13:39:26.065Z"
   },
   {
    "duration": 5,
    "start_time": "2022-11-04T13:39:26.082Z"
   },
   {
    "duration": 22,
    "start_time": "2022-11-04T13:39:26.088Z"
   },
   {
    "duration": 16,
    "start_time": "2022-11-04T13:39:26.111Z"
   },
   {
    "duration": 8,
    "start_time": "2022-11-04T13:39:26.128Z"
   },
   {
    "duration": 14,
    "start_time": "2022-11-04T13:39:26.137Z"
   },
   {
    "duration": 11,
    "start_time": "2022-11-04T13:39:26.152Z"
   },
   {
    "duration": 4,
    "start_time": "2022-11-04T13:39:26.165Z"
   },
   {
    "duration": 1196,
    "start_time": "2022-11-04T13:40:39.271Z"
   },
   {
    "duration": 80,
    "start_time": "2022-11-04T13:40:40.469Z"
   },
   {
    "duration": 18,
    "start_time": "2022-11-04T13:40:40.550Z"
   },
   {
    "duration": 25,
    "start_time": "2022-11-04T13:40:40.570Z"
   },
   {
    "duration": 715,
    "start_time": "2022-11-04T13:40:40.608Z"
   },
   {
    "duration": 189,
    "start_time": "2022-11-04T13:40:41.325Z"
   },
   {
    "duration": 9,
    "start_time": "2022-11-04T13:40:41.515Z"
   },
   {
    "duration": 18,
    "start_time": "2022-11-04T13:40:41.525Z"
   },
   {
    "duration": 3,
    "start_time": "2022-11-04T13:40:41.544Z"
   },
   {
    "duration": 6,
    "start_time": "2022-11-04T13:40:41.550Z"
   },
   {
    "duration": 15,
    "start_time": "2022-11-04T13:40:41.557Z"
   },
   {
    "duration": 35,
    "start_time": "2022-11-04T13:40:41.574Z"
   },
   {
    "duration": 5,
    "start_time": "2022-11-04T13:40:41.611Z"
   },
   {
    "duration": 27,
    "start_time": "2022-11-04T13:40:41.617Z"
   },
   {
    "duration": 7,
    "start_time": "2022-11-04T13:40:41.646Z"
   },
   {
    "duration": 12,
    "start_time": "2022-11-04T13:40:41.654Z"
   },
   {
    "duration": 6,
    "start_time": "2022-11-04T13:40:41.668Z"
   },
   {
    "duration": 11,
    "start_time": "2022-11-04T13:40:41.676Z"
   },
   {
    "duration": 23,
    "start_time": "2022-11-04T13:40:41.688Z"
   },
   {
    "duration": 8,
    "start_time": "2022-11-04T13:40:41.713Z"
   },
   {
    "duration": 4,
    "start_time": "2022-11-04T13:40:41.723Z"
   },
   {
    "duration": 28,
    "start_time": "2022-11-04T13:40:41.729Z"
   },
   {
    "duration": 15,
    "start_time": "2022-11-04T13:40:41.758Z"
   },
   {
    "duration": 5,
    "start_time": "2022-11-04T13:40:41.774Z"
   },
   {
    "duration": 7,
    "start_time": "2022-11-04T13:40:41.780Z"
   },
   {
    "duration": 25,
    "start_time": "2022-11-04T13:40:41.788Z"
   },
   {
    "duration": 359,
    "start_time": "2022-11-04T13:40:41.815Z"
   },
   {
    "duration": 388,
    "start_time": "2022-11-04T13:40:42.178Z"
   },
   {
    "duration": 12,
    "start_time": "2022-11-04T13:40:42.568Z"
   },
   {
    "duration": 645,
    "start_time": "2022-11-04T13:40:42.582Z"
   },
   {
    "duration": 20,
    "start_time": "2022-11-04T13:40:43.229Z"
   },
   {
    "duration": 19,
    "start_time": "2022-11-04T13:40:43.251Z"
   },
   {
    "duration": 302,
    "start_time": "2022-11-04T13:40:43.272Z"
   },
   {
    "duration": 263,
    "start_time": "2022-11-04T13:40:43.575Z"
   },
   {
    "duration": 294,
    "start_time": "2022-11-04T13:40:43.840Z"
   },
   {
    "duration": 11,
    "start_time": "2022-11-04T13:40:44.135Z"
   },
   {
    "duration": 290,
    "start_time": "2022-11-04T13:40:44.148Z"
   },
   {
    "duration": 11,
    "start_time": "2022-11-04T13:40:44.440Z"
   },
   {
    "duration": 291,
    "start_time": "2022-11-04T13:40:44.453Z"
   },
   {
    "duration": 10,
    "start_time": "2022-11-04T13:40:44.746Z"
   },
   {
    "duration": 347,
    "start_time": "2022-11-04T13:40:44.757Z"
   },
   {
    "duration": 12,
    "start_time": "2022-11-04T13:40:45.105Z"
   },
   {
    "duration": 262,
    "start_time": "2022-11-04T13:40:45.118Z"
   },
   {
    "duration": 12,
    "start_time": "2022-11-04T13:40:45.381Z"
   },
   {
    "duration": 263,
    "start_time": "2022-11-04T13:40:45.394Z"
   },
   {
    "duration": 10,
    "start_time": "2022-11-04T13:40:45.659Z"
   },
   {
    "duration": 269,
    "start_time": "2022-11-04T13:40:45.671Z"
   },
   {
    "duration": 10,
    "start_time": "2022-11-04T13:40:45.942Z"
   },
   {
    "duration": 218,
    "start_time": "2022-11-04T13:40:45.953Z"
   },
   {
    "duration": 220,
    "start_time": "2022-11-04T13:40:46.172Z"
   },
   {
    "duration": 20,
    "start_time": "2022-11-04T13:40:46.394Z"
   },
   {
    "duration": 7,
    "start_time": "2022-11-04T13:40:46.415Z"
   },
   {
    "duration": 280,
    "start_time": "2022-11-04T13:40:46.424Z"
   },
   {
    "duration": 16,
    "start_time": "2022-11-04T13:40:46.706Z"
   },
   {
    "duration": 8,
    "start_time": "2022-11-04T13:40:46.724Z"
   },
   {
    "duration": 6,
    "start_time": "2022-11-04T13:40:46.733Z"
   },
   {
    "duration": 17,
    "start_time": "2022-11-04T13:40:46.740Z"
   },
   {
    "duration": 8,
    "start_time": "2022-11-04T13:40:46.758Z"
   },
   {
    "duration": 7,
    "start_time": "2022-11-04T13:40:46.767Z"
   },
   {
    "duration": 37,
    "start_time": "2022-11-04T13:40:46.775Z"
   },
   {
    "duration": 13,
    "start_time": "2022-11-04T13:40:46.814Z"
   },
   {
    "duration": 53,
    "start_time": "2022-11-04T14:33:14.256Z"
   },
   {
    "duration": 303,
    "start_time": "2022-11-04T14:34:55.976Z"
   },
   {
    "duration": 318,
    "start_time": "2022-11-04T14:35:04.848Z"
   },
   {
    "duration": 243,
    "start_time": "2022-11-04T14:41:43.673Z"
   },
   {
    "duration": 26,
    "start_time": "2022-11-04T14:43:58.942Z"
   },
   {
    "duration": 11,
    "start_time": "2022-11-04T14:44:29.020Z"
   },
   {
    "duration": 16,
    "start_time": "2022-11-04T14:44:40.871Z"
   },
   {
    "duration": 15,
    "start_time": "2022-11-04T14:44:49.421Z"
   },
   {
    "duration": 4,
    "start_time": "2022-11-04T14:46:19.598Z"
   },
   {
    "duration": 4,
    "start_time": "2022-11-04T14:46:40.182Z"
   },
   {
    "duration": 50,
    "start_time": "2022-11-04T14:46:51.969Z"
   },
   {
    "duration": 54,
    "start_time": "2022-11-04T14:46:58.962Z"
   },
   {
    "duration": 56,
    "start_time": "2022-11-04T14:47:02.197Z"
   },
   {
    "duration": 15,
    "start_time": "2022-11-04T14:47:09.119Z"
   },
   {
    "duration": 21,
    "start_time": "2022-11-04T14:47:12.021Z"
   },
   {
    "duration": 88,
    "start_time": "2022-11-04T14:56:42.729Z"
   },
   {
    "duration": 508,
    "start_time": "2022-11-04T15:04:53.632Z"
   }
  ],
  "kernelspec": {
   "display_name": "Python 3 (ipykernel)",
   "language": "python",
   "name": "python3"
  },
  "language_info": {
   "codemirror_mode": {
    "name": "ipython",
    "version": 3
   },
   "file_extension": ".py",
   "mimetype": "text/x-python",
   "name": "python",
   "nbconvert_exporter": "python",
   "pygments_lexer": "ipython3",
   "version": "3.9.5"
  },
  "toc": {
   "base_numbering": 1,
   "nav_menu": {},
   "number_sections": true,
   "sideBar": true,
   "skip_h1_title": true,
   "title_cell": "Table of Contents",
   "title_sidebar": "Contents",
   "toc_cell": false,
   "toc_position": {
    "height": "calc(100% - 180px)",
    "left": "10px",
    "top": "150px",
    "width": "366.188px"
   },
   "toc_section_display": true,
   "toc_window_display": true
  }
 },
 "nbformat": 4,
 "nbformat_minor": 2
}
