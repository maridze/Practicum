{
 "cells": [
  {
   "attachments": {},
   "cell_type": "markdown",
   "metadata": {},
   "source": [
    "# Определение стоимости автомобилей"
   ]
  },
  {
   "attachments": {},
   "cell_type": "markdown",
   "metadata": {},
   "source": [
    "Сервис по продаже автомобилей с пробегом «Не бит, не крашен» разрабатывает приложение для привлечения новых клиентов. В нём можно быстро узнать рыночную стоимость своего автомобиля. В вашем распоряжении исторические данные: технические характеристики, комплектации и цены автомобилей. Вам нужно построить модель для определения стоимости. \n",
    "\n",
    "Заказчику важны:\n",
    "\n",
    "- качество предсказания;\n",
    "- скорость предсказания;\n",
    "- время обучения.\n",
    "\n",
    "**Признаки**\n",
    "\n",
    "\n",
    "- DateCrawled — дата скачивания анкеты из базы\n",
    "- VehicleType — тип автомобильного кузова\n",
    "- RegistrationYear — год регистрации автомобиля\n",
    "- Gearbox — тип коробки передач\n",
    "- Power — мощность (л. с.)\n",
    "- Model — модель автомобиля\n",
    "- Kilometer — пробег (км)\n",
    "- RegistrationMonth — месяц регистрации автомобиля\n",
    "- FuelType — тип топлива\n",
    "- Brand — марка автомобиля\n",
    "- Repaired — была машина в ремонте или нет\n",
    "- DateCreated — дата создания анкеты\n",
    "- NumberOfPictures — количество фотографий автомобиля\n",
    "- PostalCode — почтовый индекс владельца анкеты (пользователя)\n",
    "- LastSeen — дата последней активности пользователя\n",
    "\n",
    "\n",
    "**Целевой признаки**\n",
    "\n",
    "\n",
    "Price — цена (евро)"
   ]
  },
  {
   "attachments": {},
   "cell_type": "markdown",
   "metadata": {},
   "source": [
    "## Подготовка данных"
   ]
  },
  {
   "attachments": {},
   "cell_type": "markdown",
   "metadata": {},
   "source": [
    "### Изучение данных"
   ]
  },
  {
   "cell_type": "code",
   "execution_count": 1,
   "metadata": {},
   "outputs": [],
   "source": [
    "import pandas as pd\n",
    "import numpy as np\n",
    "import seaborn as sns\n",
    "from sklearn.preprocessing import OneHotEncoder\n",
    "from sklearn.preprocessing import OrdinalEncoder\n",
    "from sklearn.preprocessing import LabelEncoder\n",
    "from sklearn.model_selection import train_test_split\n",
    "from sklearn.linear_model import LinearRegression\n",
    "from sklearn.linear_model import Ridge\n",
    "from sklearn.tree import DecisionTreeRegressor\n",
    "from sklearn.ensemble import RandomForestRegressor\n",
    "from lightgbm import LGBMRegressor\n",
    "from sklearn.model_selection import cross_val_score\n",
    "from sklearn.model_selection import cross_validate\n",
    "from sklearn.model_selection import GridSearchCV\n",
    "from sklearn.model_selection import RandomizedSearchCV\n",
    "from sklearn.metrics import mean_squared_error\n",
    "import warnings\n",
    "warnings.filterwarnings('ignore')"
   ]
  },
  {
   "attachments": {},
   "cell_type": "markdown",
   "metadata": {},
   "source": [
    "\n",
    "<div class=\"alert alert-block alert-success\">\n",
    "<b>Успех:</b> Импорты собраны на месте\n",
    "</div>"
   ]
  },
  {
   "cell_type": "code",
   "execution_count": 2,
   "metadata": {},
   "outputs": [
    {
     "data": {
      "text/html": [
       "<div>\n",
       "<style scoped>\n",
       "    .dataframe tbody tr th:only-of-type {\n",
       "        vertical-align: middle;\n",
       "    }\n",
       "\n",
       "    .dataframe tbody tr th {\n",
       "        vertical-align: top;\n",
       "    }\n",
       "\n",
       "    .dataframe thead th {\n",
       "        text-align: right;\n",
       "    }\n",
       "</style>\n",
       "<table border=\"1\" class=\"dataframe\">\n",
       "  <thead>\n",
       "    <tr style=\"text-align: right;\">\n",
       "      <th></th>\n",
       "      <th>DateCrawled</th>\n",
       "      <th>Price</th>\n",
       "      <th>VehicleType</th>\n",
       "      <th>RegistrationYear</th>\n",
       "      <th>Gearbox</th>\n",
       "      <th>Power</th>\n",
       "      <th>Model</th>\n",
       "      <th>Kilometer</th>\n",
       "      <th>RegistrationMonth</th>\n",
       "      <th>FuelType</th>\n",
       "      <th>Brand</th>\n",
       "      <th>Repaired</th>\n",
       "      <th>DateCreated</th>\n",
       "      <th>NumberOfPictures</th>\n",
       "      <th>PostalCode</th>\n",
       "      <th>LastSeen</th>\n",
       "    </tr>\n",
       "  </thead>\n",
       "  <tbody>\n",
       "    <tr>\n",
       "      <th>0</th>\n",
       "      <td>2016-03-24 11:52:17</td>\n",
       "      <td>480</td>\n",
       "      <td>NaN</td>\n",
       "      <td>1993</td>\n",
       "      <td>manual</td>\n",
       "      <td>0</td>\n",
       "      <td>golf</td>\n",
       "      <td>150000</td>\n",
       "      <td>0</td>\n",
       "      <td>petrol</td>\n",
       "      <td>volkswagen</td>\n",
       "      <td>NaN</td>\n",
       "      <td>2016-03-24 00:00:00</td>\n",
       "      <td>0</td>\n",
       "      <td>70435</td>\n",
       "      <td>2016-04-07 03:16:57</td>\n",
       "    </tr>\n",
       "    <tr>\n",
       "      <th>1</th>\n",
       "      <td>2016-03-24 10:58:45</td>\n",
       "      <td>18300</td>\n",
       "      <td>coupe</td>\n",
       "      <td>2011</td>\n",
       "      <td>manual</td>\n",
       "      <td>190</td>\n",
       "      <td>NaN</td>\n",
       "      <td>125000</td>\n",
       "      <td>5</td>\n",
       "      <td>gasoline</td>\n",
       "      <td>audi</td>\n",
       "      <td>yes</td>\n",
       "      <td>2016-03-24 00:00:00</td>\n",
       "      <td>0</td>\n",
       "      <td>66954</td>\n",
       "      <td>2016-04-07 01:46:50</td>\n",
       "    </tr>\n",
       "    <tr>\n",
       "      <th>2</th>\n",
       "      <td>2016-03-14 12:52:21</td>\n",
       "      <td>9800</td>\n",
       "      <td>suv</td>\n",
       "      <td>2004</td>\n",
       "      <td>auto</td>\n",
       "      <td>163</td>\n",
       "      <td>grand</td>\n",
       "      <td>125000</td>\n",
       "      <td>8</td>\n",
       "      <td>gasoline</td>\n",
       "      <td>jeep</td>\n",
       "      <td>NaN</td>\n",
       "      <td>2016-03-14 00:00:00</td>\n",
       "      <td>0</td>\n",
       "      <td>90480</td>\n",
       "      <td>2016-04-05 12:47:46</td>\n",
       "    </tr>\n",
       "    <tr>\n",
       "      <th>3</th>\n",
       "      <td>2016-03-17 16:54:04</td>\n",
       "      <td>1500</td>\n",
       "      <td>small</td>\n",
       "      <td>2001</td>\n",
       "      <td>manual</td>\n",
       "      <td>75</td>\n",
       "      <td>golf</td>\n",
       "      <td>150000</td>\n",
       "      <td>6</td>\n",
       "      <td>petrol</td>\n",
       "      <td>volkswagen</td>\n",
       "      <td>no</td>\n",
       "      <td>2016-03-17 00:00:00</td>\n",
       "      <td>0</td>\n",
       "      <td>91074</td>\n",
       "      <td>2016-03-17 17:40:17</td>\n",
       "    </tr>\n",
       "    <tr>\n",
       "      <th>4</th>\n",
       "      <td>2016-03-31 17:25:20</td>\n",
       "      <td>3600</td>\n",
       "      <td>small</td>\n",
       "      <td>2008</td>\n",
       "      <td>manual</td>\n",
       "      <td>69</td>\n",
       "      <td>fabia</td>\n",
       "      <td>90000</td>\n",
       "      <td>7</td>\n",
       "      <td>gasoline</td>\n",
       "      <td>skoda</td>\n",
       "      <td>no</td>\n",
       "      <td>2016-03-31 00:00:00</td>\n",
       "      <td>0</td>\n",
       "      <td>60437</td>\n",
       "      <td>2016-04-06 10:17:21</td>\n",
       "    </tr>\n",
       "  </tbody>\n",
       "</table>\n",
       "</div>"
      ],
      "text/plain": [
       "           DateCrawled  Price VehicleType  RegistrationYear Gearbox  Power  \\\n",
       "0  2016-03-24 11:52:17    480         NaN              1993  manual      0   \n",
       "1  2016-03-24 10:58:45  18300       coupe              2011  manual    190   \n",
       "2  2016-03-14 12:52:21   9800         suv              2004    auto    163   \n",
       "3  2016-03-17 16:54:04   1500       small              2001  manual     75   \n",
       "4  2016-03-31 17:25:20   3600       small              2008  manual     69   \n",
       "\n",
       "   Model  Kilometer  RegistrationMonth  FuelType       Brand Repaired  \\\n",
       "0   golf     150000                  0    petrol  volkswagen      NaN   \n",
       "1    NaN     125000                  5  gasoline        audi      yes   \n",
       "2  grand     125000                  8  gasoline        jeep      NaN   \n",
       "3   golf     150000                  6    petrol  volkswagen       no   \n",
       "4  fabia      90000                  7  gasoline       skoda       no   \n",
       "\n",
       "           DateCreated  NumberOfPictures  PostalCode             LastSeen  \n",
       "0  2016-03-24 00:00:00                 0       70435  2016-04-07 03:16:57  \n",
       "1  2016-03-24 00:00:00                 0       66954  2016-04-07 01:46:50  \n",
       "2  2016-03-14 00:00:00                 0       90480  2016-04-05 12:47:46  \n",
       "3  2016-03-17 00:00:00                 0       91074  2016-03-17 17:40:17  \n",
       "4  2016-03-31 00:00:00                 0       60437  2016-04-06 10:17:21  "
      ]
     },
     "execution_count": 2,
     "metadata": {},
     "output_type": "execute_result"
    }
   ],
   "source": [
    "df = pd.read_csv('/datasets/autos.csv')\n",
    "df.head()"
   ]
  },
  {
   "cell_type": "code",
   "execution_count": 3,
   "metadata": {
    "scrolled": true
   },
   "outputs": [
    {
     "data": {
      "text/plain": [
       "array(['2016-03-24 00:00:00', '2016-03-14 00:00:00',\n",
       "       '2016-03-17 00:00:00', '2016-03-31 00:00:00',\n",
       "       '2016-04-04 00:00:00', '2016-04-01 00:00:00',\n",
       "       '2016-03-21 00:00:00', '2016-03-26 00:00:00',\n",
       "       '2016-04-07 00:00:00', '2016-03-15 00:00:00',\n",
       "       '2016-03-11 00:00:00', '2016-03-20 00:00:00',\n",
       "       '2016-03-23 00:00:00', '2016-03-27 00:00:00',\n",
       "       '2016-03-12 00:00:00', '2016-03-13 00:00:00',\n",
       "       '2016-03-18 00:00:00', '2016-03-10 00:00:00',\n",
       "       '2016-03-07 00:00:00', '2016-03-09 00:00:00',\n",
       "       '2016-03-08 00:00:00', '2016-04-03 00:00:00',\n",
       "       '2016-03-29 00:00:00', '2016-03-25 00:00:00',\n",
       "       '2016-03-28 00:00:00', '2016-03-30 00:00:00',\n",
       "       '2016-03-22 00:00:00', '2016-02-09 00:00:00',\n",
       "       '2016-03-05 00:00:00', '2016-04-02 00:00:00',\n",
       "       '2016-03-16 00:00:00', '2016-03-19 00:00:00',\n",
       "       '2016-04-05 00:00:00', '2016-03-06 00:00:00',\n",
       "       '2016-02-12 00:00:00', '2016-03-03 00:00:00',\n",
       "       '2016-03-01 00:00:00', '2016-03-04 00:00:00',\n",
       "       '2016-04-06 00:00:00', '2016-02-15 00:00:00',\n",
       "       '2016-02-24 00:00:00', '2016-02-27 00:00:00',\n",
       "       '2015-03-20 00:00:00', '2016-02-28 00:00:00',\n",
       "       '2016-02-17 00:00:00', '2016-01-27 00:00:00',\n",
       "       '2016-02-20 00:00:00', '2016-02-29 00:00:00',\n",
       "       '2016-02-10 00:00:00', '2016-02-23 00:00:00',\n",
       "       '2016-02-21 00:00:00', '2015-11-02 00:00:00',\n",
       "       '2016-02-19 00:00:00', '2016-02-26 00:00:00',\n",
       "       '2016-02-11 00:00:00', '2016-01-10 00:00:00',\n",
       "       '2016-02-06 00:00:00', '2016-02-18 00:00:00',\n",
       "       '2016-01-29 00:00:00', '2016-03-02 00:00:00',\n",
       "       '2015-12-06 00:00:00', '2016-01-24 00:00:00',\n",
       "       '2016-01-30 00:00:00', '2016-02-02 00:00:00',\n",
       "       '2016-02-16 00:00:00', '2016-02-13 00:00:00',\n",
       "       '2016-02-05 00:00:00', '2016-02-22 00:00:00',\n",
       "       '2015-11-17 00:00:00', '2014-03-10 00:00:00',\n",
       "       '2016-02-07 00:00:00', '2016-01-23 00:00:00',\n",
       "       '2016-02-25 00:00:00', '2016-02-14 00:00:00',\n",
       "       '2016-01-02 00:00:00', '2015-09-04 00:00:00',\n",
       "       '2015-11-12 00:00:00', '2015-12-27 00:00:00',\n",
       "       '2015-11-24 00:00:00', '2016-01-20 00:00:00',\n",
       "       '2016-02-03 00:00:00', '2015-12-05 00:00:00',\n",
       "       '2015-08-07 00:00:00', '2016-01-28 00:00:00',\n",
       "       '2016-01-31 00:00:00', '2016-02-08 00:00:00',\n",
       "       '2016-01-07 00:00:00', '2016-01-22 00:00:00',\n",
       "       '2016-01-18 00:00:00', '2016-01-08 00:00:00',\n",
       "       '2015-11-23 00:00:00', '2016-01-13 00:00:00',\n",
       "       '2016-01-17 00:00:00', '2016-01-15 00:00:00',\n",
       "       '2015-11-08 00:00:00', '2016-01-26 00:00:00',\n",
       "       '2016-02-04 00:00:00', '2016-01-25 00:00:00',\n",
       "       '2016-01-16 00:00:00', '2015-08-10 00:00:00',\n",
       "       '2016-01-03 00:00:00', '2016-01-19 00:00:00',\n",
       "       '2015-12-30 00:00:00', '2016-02-01 00:00:00',\n",
       "       '2015-12-17 00:00:00', '2015-11-10 00:00:00',\n",
       "       '2016-01-06 00:00:00', '2015-09-09 00:00:00',\n",
       "       '2015-06-18 00:00:00'], dtype=object)"
      ]
     },
     "execution_count": 3,
     "metadata": {},
     "output_type": "execute_result"
    }
   ],
   "source": [
    "df['DateCreated'].unique()"
   ]
  },
  {
   "cell_type": "code",
   "execution_count": 4,
   "metadata": {},
   "outputs": [
    {
     "data": {
      "text/plain": [
       "4"
      ]
     },
     "execution_count": 4,
     "metadata": {},
     "output_type": "execute_result"
    }
   ],
   "source": [
    "df.duplicated().sum()"
   ]
  },
  {
   "cell_type": "code",
   "execution_count": 5,
   "metadata": {},
   "outputs": [
    {
     "name": "stdout",
     "output_type": "stream",
     "text": [
      "<class 'pandas.core.frame.DataFrame'>\n",
      "RangeIndex: 354369 entries, 0 to 354368\n",
      "Data columns (total 16 columns):\n",
      " #   Column             Non-Null Count   Dtype \n",
      "---  ------             --------------   ----- \n",
      " 0   DateCrawled        354369 non-null  object\n",
      " 1   Price              354369 non-null  int64 \n",
      " 2   VehicleType        316879 non-null  object\n",
      " 3   RegistrationYear   354369 non-null  int64 \n",
      " 4   Gearbox            334536 non-null  object\n",
      " 5   Power              354369 non-null  int64 \n",
      " 6   Model              334664 non-null  object\n",
      " 7   Kilometer          354369 non-null  int64 \n",
      " 8   RegistrationMonth  354369 non-null  int64 \n",
      " 9   FuelType           321474 non-null  object\n",
      " 10  Brand              354369 non-null  object\n",
      " 11  Repaired           283215 non-null  object\n",
      " 12  DateCreated        354369 non-null  object\n",
      " 13  NumberOfPictures   354369 non-null  int64 \n",
      " 14  PostalCode         354369 non-null  int64 \n",
      " 15  LastSeen           354369 non-null  object\n",
      "dtypes: int64(7), object(9)\n",
      "memory usage: 43.3+ MB\n"
     ]
    }
   ],
   "source": [
    "df.info()"
   ]
  },
  {
   "cell_type": "code",
   "execution_count": 6,
   "metadata": {},
   "outputs": [
    {
     "data": {
      "text/plain": [
       "DateCrawled              0\n",
       "Price                    0\n",
       "VehicleType          37490\n",
       "RegistrationYear         0\n",
       "Gearbox              19833\n",
       "Power                    0\n",
       "Model                19705\n",
       "Kilometer                0\n",
       "RegistrationMonth        0\n",
       "FuelType             32895\n",
       "Brand                    0\n",
       "Repaired             71154\n",
       "DateCreated              0\n",
       "NumberOfPictures         0\n",
       "PostalCode               0\n",
       "LastSeen                 0\n",
       "dtype: int64"
      ]
     },
     "execution_count": 6,
     "metadata": {},
     "output_type": "execute_result"
    }
   ],
   "source": [
    "df.isna().sum()"
   ]
  },
  {
   "cell_type": "code",
   "execution_count": 7,
   "metadata": {},
   "outputs": [
    {
     "data": {
      "image/png": "[encoded data removed]",
      "text/plain": [
       "<Figure size 864x1080 with 9 Axes>"
      ]
     },
     "metadata": {
      "needs_background": "light"
     },
     "output_type": "display_data"
    }
   ],
   "source": [
    "df.hist(figsize=(12,15));"
   ]
  },
  {
   "attachments": {},
   "cell_type": "markdown",
   "metadata": {},
   "source": [
    "### Удаление ненужных столбцов и форматирование названий"
   ]
  },
  {
   "attachments": {},
   "cell_type": "markdown",
   "metadata": {},
   "source": [
    "Некоторые признаки не влияют на цену автомобиля, поэтому удаляю их."
   ]
  },
  {
   "cell_type": "code",
   "execution_count": 8,
   "metadata": {},
   "outputs": [],
   "source": [
    "df.drop([\"DateCrawled\",\"DateCreated\",\"LastSeen\",\"NumberOfPictures\",\"PostalCode\"],axis = 1, inplace = True)"
   ]
  },
  {
   "attachments": {},
   "cell_type": "markdown",
   "metadata": {},
   "source": [
    "\n",
    "<div class=\"alert alert-block alert-success\">\n",
    "<b>Успех:</b> Удалить неинформативные признаки - хорошее решение.\n",
    "</div>"
   ]
  },
  {
   "cell_type": "code",
   "execution_count": 9,
   "metadata": {},
   "outputs": [],
   "source": [
    "df.columns = df.columns.str.lower()"
   ]
  },
  {
   "cell_type": "code",
   "execution_count": 10,
   "metadata": {},
   "outputs": [],
   "source": [
    "df = df.rename(columns={'vehicletype':'vehicle_type', \n",
    "                        'registrationyear':'registration_year', \n",
    "                        'registrationmonth':'registration_month', \n",
    "                        'fueltype':'fuel_type', \n",
    "                        'notrepaired':'not_repaired'})"
   ]
  },
  {
   "cell_type": "code",
   "execution_count": 11,
   "metadata": {},
   "outputs": [
    {
     "data": {
      "text/html": [
       "<div>\n",
       "<style scoped>\n",
       "    .dataframe tbody tr th:only-of-type {\n",
       "        vertical-align: middle;\n",
       "    }\n",
       "\n",
       "    .dataframe tbody tr th {\n",
       "        vertical-align: top;\n",
       "    }\n",
       "\n",
       "    .dataframe thead th {\n",
       "        text-align: right;\n",
       "    }\n",
       "</style>\n",
       "<table border=\"1\" class=\"dataframe\">\n",
       "  <thead>\n",
       "    <tr style=\"text-align: right;\">\n",
       "      <th></th>\n",
       "      <th>price</th>\n",
       "      <th>vehicle_type</th>\n",
       "      <th>registration_year</th>\n",
       "      <th>gearbox</th>\n",
       "      <th>power</th>\n",
       "      <th>model</th>\n",
       "      <th>kilometer</th>\n",
       "      <th>registration_month</th>\n",
       "      <th>fuel_type</th>\n",
       "      <th>brand</th>\n",
       "      <th>repaired</th>\n",
       "    </tr>\n",
       "  </thead>\n",
       "  <tbody>\n",
       "    <tr>\n",
       "      <th>0</th>\n",
       "      <td>480</td>\n",
       "      <td>NaN</td>\n",
       "      <td>1993</td>\n",
       "      <td>manual</td>\n",
       "      <td>0</td>\n",
       "      <td>golf</td>\n",
       "      <td>150000</td>\n",
       "      <td>0</td>\n",
       "      <td>petrol</td>\n",
       "      <td>volkswagen</td>\n",
       "      <td>NaN</td>\n",
       "    </tr>\n",
       "    <tr>\n",
       "      <th>1</th>\n",
       "      <td>18300</td>\n",
       "      <td>coupe</td>\n",
       "      <td>2011</td>\n",
       "      <td>manual</td>\n",
       "      <td>190</td>\n",
       "      <td>NaN</td>\n",
       "      <td>125000</td>\n",
       "      <td>5</td>\n",
       "      <td>gasoline</td>\n",
       "      <td>audi</td>\n",
       "      <td>yes</td>\n",
       "    </tr>\n",
       "    <tr>\n",
       "      <th>2</th>\n",
       "      <td>9800</td>\n",
       "      <td>suv</td>\n",
       "      <td>2004</td>\n",
       "      <td>auto</td>\n",
       "      <td>163</td>\n",
       "      <td>grand</td>\n",
       "      <td>125000</td>\n",
       "      <td>8</td>\n",
       "      <td>gasoline</td>\n",
       "      <td>jeep</td>\n",
       "      <td>NaN</td>\n",
       "    </tr>\n",
       "    <tr>\n",
       "      <th>3</th>\n",
       "      <td>1500</td>\n",
       "      <td>small</td>\n",
       "      <td>2001</td>\n",
       "      <td>manual</td>\n",
       "      <td>75</td>\n",
       "      <td>golf</td>\n",
       "      <td>150000</td>\n",
       "      <td>6</td>\n",
       "      <td>petrol</td>\n",
       "      <td>volkswagen</td>\n",
       "      <td>no</td>\n",
       "    </tr>\n",
       "    <tr>\n",
       "      <th>4</th>\n",
       "      <td>3600</td>\n",
       "      <td>small</td>\n",
       "      <td>2008</td>\n",
       "      <td>manual</td>\n",
       "      <td>69</td>\n",
       "      <td>fabia</td>\n",
       "      <td>90000</td>\n",
       "      <td>7</td>\n",
       "      <td>gasoline</td>\n",
       "      <td>skoda</td>\n",
       "      <td>no</td>\n",
       "    </tr>\n",
       "    <tr>\n",
       "      <th>...</th>\n",
       "      <td>...</td>\n",
       "      <td>...</td>\n",
       "      <td>...</td>\n",
       "      <td>...</td>\n",
       "      <td>...</td>\n",
       "      <td>...</td>\n",
       "      <td>...</td>\n",
       "      <td>...</td>\n",
       "      <td>...</td>\n",
       "      <td>...</td>\n",
       "      <td>...</td>\n",
       "    </tr>\n",
       "    <tr>\n",
       "      <th>354364</th>\n",
       "      <td>0</td>\n",
       "      <td>NaN</td>\n",
       "      <td>2005</td>\n",
       "      <td>manual</td>\n",
       "      <td>0</td>\n",
       "      <td>colt</td>\n",
       "      <td>150000</td>\n",
       "      <td>7</td>\n",
       "      <td>petrol</td>\n",
       "      <td>mitsubishi</td>\n",
       "      <td>yes</td>\n",
       "    </tr>\n",
       "    <tr>\n",
       "      <th>354365</th>\n",
       "      <td>2200</td>\n",
       "      <td>NaN</td>\n",
       "      <td>2005</td>\n",
       "      <td>NaN</td>\n",
       "      <td>0</td>\n",
       "      <td>NaN</td>\n",
       "      <td>20000</td>\n",
       "      <td>1</td>\n",
       "      <td>NaN</td>\n",
       "      <td>sonstige_autos</td>\n",
       "      <td>NaN</td>\n",
       "    </tr>\n",
       "    <tr>\n",
       "      <th>354366</th>\n",
       "      <td>1199</td>\n",
       "      <td>convertible</td>\n",
       "      <td>2000</td>\n",
       "      <td>auto</td>\n",
       "      <td>101</td>\n",
       "      <td>fortwo</td>\n",
       "      <td>125000</td>\n",
       "      <td>3</td>\n",
       "      <td>petrol</td>\n",
       "      <td>smart</td>\n",
       "      <td>no</td>\n",
       "    </tr>\n",
       "    <tr>\n",
       "      <th>354367</th>\n",
       "      <td>9200</td>\n",
       "      <td>bus</td>\n",
       "      <td>1996</td>\n",
       "      <td>manual</td>\n",
       "      <td>102</td>\n",
       "      <td>transporter</td>\n",
       "      <td>150000</td>\n",
       "      <td>3</td>\n",
       "      <td>gasoline</td>\n",
       "      <td>volkswagen</td>\n",
       "      <td>no</td>\n",
       "    </tr>\n",
       "    <tr>\n",
       "      <th>354368</th>\n",
       "      <td>3400</td>\n",
       "      <td>wagon</td>\n",
       "      <td>2002</td>\n",
       "      <td>manual</td>\n",
       "      <td>100</td>\n",
       "      <td>golf</td>\n",
       "      <td>150000</td>\n",
       "      <td>6</td>\n",
       "      <td>gasoline</td>\n",
       "      <td>volkswagen</td>\n",
       "      <td>NaN</td>\n",
       "    </tr>\n",
       "  </tbody>\n",
       "</table>\n",
       "<p>354369 rows × 11 columns</p>\n",
       "</div>"
      ],
      "text/plain": [
       "        price vehicle_type  registration_year gearbox  power        model  \\\n",
       "0         480          NaN               1993  manual      0         golf   \n",
       "1       18300        coupe               2011  manual    190          NaN   \n",
       "2        9800          suv               2004    auto    163        grand   \n",
       "3        1500        small               2001  manual     75         golf   \n",
       "4        3600        small               2008  manual     69        fabia   \n",
       "...       ...          ...                ...     ...    ...          ...   \n",
       "354364      0          NaN               2005  manual      0         colt   \n",
       "354365   2200          NaN               2005     NaN      0          NaN   \n",
       "354366   1199  convertible               2000    auto    101       fortwo   \n",
       "354367   9200          bus               1996  manual    102  transporter   \n",
       "354368   3400        wagon               2002  manual    100         golf   \n",
       "\n",
       "        kilometer  registration_month fuel_type           brand repaired  \n",
       "0          150000                   0    petrol      volkswagen      NaN  \n",
       "1          125000                   5  gasoline            audi      yes  \n",
       "2          125000                   8  gasoline            jeep      NaN  \n",
       "3          150000                   6    petrol      volkswagen       no  \n",
       "4           90000                   7  gasoline           skoda       no  \n",
       "...           ...                 ...       ...             ...      ...  \n",
       "354364     150000                   7    petrol      mitsubishi      yes  \n",
       "354365      20000                   1       NaN  sonstige_autos      NaN  \n",
       "354366     125000                   3    petrol           smart       no  \n",
       "354367     150000                   3  gasoline      volkswagen       no  \n",
       "354368     150000                   6  gasoline      volkswagen      NaN  \n",
       "\n",
       "[354369 rows x 11 columns]"
      ]
     },
     "execution_count": 11,
     "metadata": {},
     "output_type": "execute_result"
    }
   ],
   "source": [
    "df"
   ]
  },
  {
   "attachments": {},
   "cell_type": "markdown",
   "metadata": {},
   "source": [
    "### Устранение аномалий и заполнение значений"
   ]
  },
  {
   "attachments": {},
   "cell_type": "markdown",
   "metadata": {},
   "source": [
    "#### Цена"
   ]
  },
  {
   "cell_type": "code",
   "execution_count": 12,
   "metadata": {},
   "outputs": [
    {
     "data": {
      "image/png": "[encoded data removed]",
      "text/plain": [
       "<Figure size 720x864 with 1 Axes>"
      ]
     },
     "metadata": {
      "needs_background": "light"
     },
     "output_type": "display_data"
    }
   ],
   "source": [
    "df['price'].hist(bins = 100, figsize=(10,12));"
   ]
  },
  {
   "cell_type": "code",
   "execution_count": 13,
   "metadata": {},
   "outputs": [
    {
     "data": {
      "text/plain": [
       "10772"
      ]
     },
     "execution_count": 13,
     "metadata": {},
     "output_type": "execute_result"
    }
   ],
   "source": [
    "df[df['price']==0].shape[0]"
   ]
  },
  {
   "cell_type": "code",
   "execution_count": 14,
   "metadata": {},
   "outputs": [
    {
     "data": {
      "text/plain": [
       "0.100      499.0\n",
       "0.975    16900.0\n",
       "Name: price, dtype: float64"
      ]
     },
     "execution_count": 14,
     "metadata": {},
     "output_type": "execute_result"
    }
   ],
   "source": [
    "df['price'].quantile([.10, .975])"
   ]
  },
  {
   "attachments": {},
   "cell_type": "markdown",
   "metadata": {},
   "source": [
    "В данных 10772 нулевых значений, а также много околонулевых. Это будет мешать обучению модели, поэтому удалим их используя 10 и 97,5 квартили "
   ]
  },
  {
   "cell_type": "code",
   "execution_count": 15,
   "metadata": {},
   "outputs": [],
   "source": [
    "df = df.query('499 <= price <= 16900')"
   ]
  },
  {
   "attachments": {},
   "cell_type": "markdown",
   "metadata": {},
   "source": [
    "#### Год и месяц регистрации автомобиля"
   ]
  },
  {
   "cell_type": "code",
   "execution_count": 16,
   "metadata": {},
   "outputs": [
    {
     "data": {
      "image/png": "[encoded data removed]",
      "text/plain": [
       "<Figure size 432x288 with 1 Axes>"
      ]
     },
     "metadata": {
      "needs_background": "light"
     },
     "output_type": "display_data"
    }
   ],
   "source": [
    "sns.boxplot(df['registration_year']);"
   ]
  },
  {
   "cell_type": "code",
   "execution_count": 17,
   "metadata": {},
   "outputs": [
    {
     "data": {
      "text/plain": [
       "count    310380.000000\n",
       "mean       2003.961769\n",
       "std          62.592744\n",
       "min        1000.000000\n",
       "25%        1999.000000\n",
       "50%        2003.000000\n",
       "75%        2008.000000\n",
       "max        9999.000000\n",
       "Name: registration_year, dtype: float64"
      ]
     },
     "execution_count": 17,
     "metadata": {},
     "output_type": "execute_result"
    }
   ],
   "source": [
    "df['registration_year'].describe()"
   ]
  },
  {
   "attachments": {},
   "cell_type": "markdown",
   "metadata": {},
   "source": [
    "Первая машина появилась в 1886 году, а данные позже 2016 некорректны. "
   ]
  },
  {
   "cell_type": "code",
   "execution_count": 18,
   "metadata": {},
   "outputs": [
    {
     "data": {
      "image/png": "[encoded data removed]",
      "text/plain": [
       "<Figure size 576x720 with 1 Axes>"
      ]
     },
     "metadata": {
      "needs_background": "light"
     },
     "output_type": "display_data"
    }
   ],
   "source": [
    "df = df.query('1886 < registration_year < 2017')\n",
    "df['registration_year'].hist(bins = 100, figsize=(8,10));"
   ]
  },
  {
   "attachments": {},
   "cell_type": "markdown",
   "metadata": {},
   "source": [
    "Машины 60х годов все еще могут быть на ходу, поэтому оставим левой границей 1960 год"
   ]
  },
  {
   "cell_type": "code",
   "execution_count": 19,
   "metadata": {},
   "outputs": [],
   "source": [
    "df = df.query('1960 < registration_year < 2017')"
   ]
  },
  {
   "cell_type": "code",
   "execution_count": 20,
   "metadata": {},
   "outputs": [
    {
     "data": {
      "text/plain": [
       "3     29911\n",
       "6     27351\n",
       "5     25230\n",
       "4     25187\n",
       "7     23682\n",
       "10    22950\n",
       "0     21614\n",
       "11    21188\n",
       "12    21180\n",
       "9     20919\n",
       "1     19805\n",
       "8     19746\n",
       "2     18342\n",
       "Name: registration_month, dtype: int64"
      ]
     },
     "execution_count": 20,
     "metadata": {},
     "output_type": "execute_result"
    }
   ],
   "source": [
    "df['registration_month'].value_counts()"
   ]
  },
  {
   "attachments": {},
   "cell_type": "markdown",
   "metadata": {},
   "source": [
    "0 - вероятно ошибка, заменим 0 на 1."
   ]
  },
  {
   "cell_type": "code",
   "execution_count": 21,
   "metadata": {},
   "outputs": [],
   "source": [
    "df.loc[df['registration_month'] == 0, 'registration_month'] = 1"
   ]
  },
  {
   "attachments": {},
   "cell_type": "markdown",
   "metadata": {},
   "source": [
    "#### Мощность "
   ]
  },
  {
   "cell_type": "code",
   "execution_count": 22,
   "metadata": {},
   "outputs": [
    {
     "data": {
      "image/png": "[encoded data removed]",
      "text/plain": [
       "<Figure size 720x720 with 1 Axes>"
      ]
     },
     "metadata": {
      "needs_background": "light"
     },
     "output_type": "display_data"
    }
   ],
   "source": [
    "df['power'].hist(bins = 100, figsize=(10,10));"
   ]
  },
  {
   "attachments": {},
   "cell_type": "markdown",
   "metadata": {},
   "source": [
    "Здесь видно не только много нулевых значений, но и огромный размах, посмотрим на данные при границе в 500."
   ]
  },
  {
   "cell_type": "code",
   "execution_count": 23,
   "metadata": {},
   "outputs": [
    {
     "data": {
      "image/png": "[encoded data removed]",
      "text/plain": [
       "<Figure size 720x720 with 1 Axes>"
      ]
     },
     "metadata": {
      "needs_background": "light"
     },
     "output_type": "display_data"
    }
   ],
   "source": [
    "df.query('0 < power < 501')['power'].hist(bins=100, figsize=(10,10));"
   ]
  },
  {
   "attachments": {},
   "cell_type": "markdown",
   "metadata": {},
   "source": [
    "По графику логично ограничить мощность 370. Минимум возьмем 25 л. с."
   ]
  },
  {
   "cell_type": "code",
   "execution_count": 24,
   "metadata": {},
   "outputs": [
    {
     "data": {
      "text/plain": [
       "array([[<AxesSubplot:title={'center':'price'}>,\n",
       "        <AxesSubplot:title={'center':'registration_year'}>],\n",
       "       [<AxesSubplot:title={'center':'power'}>,\n",
       "        <AxesSubplot:title={'center':'kilometer'}>],\n",
       "       [<AxesSubplot:title={'center':'registration_month'}>,\n",
       "        <AxesSubplot:>]], dtype=object)"
      ]
     },
     "execution_count": 24,
     "metadata": {},
     "output_type": "execute_result"
    },
    {
     "data": {
      "image/png": "[encoded data removed]",
      "text/plain": [
       "<Figure size 720x864 with 6 Axes>"
      ]
     },
     "metadata": {
      "needs_background": "light"
     },
     "output_type": "display_data"
    }
   ],
   "source": [
    "df[df['power']==0].hist(bins = 100, figsize=(10,12))"
   ]
  },
  {
   "cell_type": "code",
   "execution_count": 25,
   "metadata": {},
   "outputs": [],
   "source": [
    "df = df.query('24 < power < 371')"
   ]
  },
  {
   "attachments": {},
   "cell_type": "markdown",
   "metadata": {},
   "source": [
    "####  Модель, ремонт и коробка передач"
   ]
  },
  {
   "cell_type": "code",
   "execution_count": 26,
   "metadata": {},
   "outputs": [
    {
     "data": {
      "text/plain": [
       "0    manual\n",
       "dtype: object"
      ]
     },
     "execution_count": 26,
     "metadata": {},
     "output_type": "execute_result"
    }
   ],
   "source": [
    "df['gearbox'].mode()"
   ]
  },
  {
   "cell_type": "code",
   "execution_count": 27,
   "metadata": {},
   "outputs": [],
   "source": [
    "df.fillna({'gearbox':'manual', \n",
    "           'repaired':'no',\n",
    "           'model':'unknown'},\n",
    "          inplace=True)"
   ]
  },
  {
   "cell_type": "code",
   "execution_count": 28,
   "metadata": {},
   "outputs": [
    {
     "data": {
      "text/plain": [
       "array(['no', 'yes'], dtype=object)"
      ]
     },
     "execution_count": 28,
     "metadata": {},
     "output_type": "execute_result"
    }
   ],
   "source": [
    "df['repaired'].unique()"
   ]
  },
  {
   "cell_type": "code",
   "execution_count": 29,
   "metadata": {},
   "outputs": [
    {
     "data": {
      "text/plain": [
       "array(['auto', 'manual'], dtype=object)"
      ]
     },
     "execution_count": 29,
     "metadata": {},
     "output_type": "execute_result"
    }
   ],
   "source": [
    "df['gearbox'].unique()"
   ]
  },
  {
   "cell_type": "code",
   "execution_count": 30,
   "metadata": {},
   "outputs": [
    {
     "data": {
      "text/plain": [
       "no     247804\n",
       "yes     22986\n",
       "Name: repaired, dtype: int64"
      ]
     },
     "execution_count": 30,
     "metadata": {},
     "output_type": "execute_result"
    }
   ],
   "source": [
    "df['repaired'].value_counts()"
   ]
  },
  {
   "cell_type": "code",
   "execution_count": 31,
   "metadata": {},
   "outputs": [
    {
     "data": {
      "text/plain": [
       "manual    217285\n",
       "auto       53505\n",
       "Name: gearbox, dtype: int64"
      ]
     },
     "execution_count": 31,
     "metadata": {},
     "output_type": "execute_result"
    }
   ],
   "source": [
    "df['gearbox'].value_counts()"
   ]
  },
  {
   "cell_type": "code",
   "execution_count": 32,
   "metadata": {
    "scrolled": true
   },
   "outputs": [
    {
     "data": {
      "text/plain": [
       "price                     0\n",
       "vehicle_type           8409\n",
       "registration_year         0\n",
       "gearbox                   0\n",
       "power                     0\n",
       "model                     0\n",
       "kilometer                 0\n",
       "registration_month        0\n",
       "fuel_type             12607\n",
       "brand                     0\n",
       "repaired                  0\n",
       "dtype: int64"
      ]
     },
     "execution_count": 32,
     "metadata": {},
     "output_type": "execute_result"
    }
   ],
   "source": [
    "df.isna().sum()"
   ]
  },
  {
   "attachments": {},
   "cell_type": "markdown",
   "metadata": {},
   "source": [
    "#### Тип автомобильного кузова и топлива"
   ]
  },
  {
   "attachments": {},
   "cell_type": "markdown",
   "metadata": {},
   "source": [
    "создадим словарь, где будет храниться самый популярный кузов/тип толива для модели опредленного бренда на этой площадке. Пропуски будем заполнять по этому словарю. "
   ]
  },
  {
   "cell_type": "code",
   "execution_count": 33,
   "metadata": {},
   "outputs": [],
   "source": [
    "vehicle_brand = df.pivot_table(index=['vehicle_type'], \n",
    "                               columns=['brand', 'model'],\n",
    "                               values=['price'],\n",
    "                               aggfunc=['count'])\n",
    "fuel_brand = df.pivot_table(index=['fuel_type'], \n",
    "                            columns=['brand', 'model'],\n",
    "                            values=['price'],\n",
    "                            aggfunc=['count'])"
   ]
  },
  {
   "cell_type": "code",
   "execution_count": 34,
   "metadata": {},
   "outputs": [
    {
     "data": {
      "text/html": [
       "<div>\n",
       "<style scoped>\n",
       "    .dataframe tbody tr th:only-of-type {\n",
       "        vertical-align: middle;\n",
       "    }\n",
       "\n",
       "    .dataframe tbody tr th {\n",
       "        vertical-align: top;\n",
       "    }\n",
       "\n",
       "    .dataframe thead tr th {\n",
       "        text-align: left;\n",
       "    }\n",
       "\n",
       "    .dataframe thead tr:last-of-type th {\n",
       "        text-align: right;\n",
       "    }\n",
       "</style>\n",
       "<table border=\"1\" class=\"dataframe\">\n",
       "  <thead>\n",
       "    <tr>\n",
       "      <th></th>\n",
       "      <th colspan=\"21\" halign=\"left\">count</th>\n",
       "    </tr>\n",
       "    <tr>\n",
       "      <th></th>\n",
       "      <th colspan=\"21\" halign=\"left\">price</th>\n",
       "    </tr>\n",
       "    <tr>\n",
       "      <th>brand</th>\n",
       "      <th colspan=\"7\" halign=\"left\">alfa_romeo</th>\n",
       "      <th colspan=\"3\" halign=\"left\">audi</th>\n",
       "      <th>...</th>\n",
       "      <th colspan=\"10\" halign=\"left\">volvo</th>\n",
       "    </tr>\n",
       "    <tr>\n",
       "      <th>model</th>\n",
       "      <th>145</th>\n",
       "      <th>147</th>\n",
       "      <th>156</th>\n",
       "      <th>159</th>\n",
       "      <th>other</th>\n",
       "      <th>spider</th>\n",
       "      <th>unknown</th>\n",
       "      <th>100</th>\n",
       "      <th>200</th>\n",
       "      <th>80</th>\n",
       "      <th>...</th>\n",
       "      <th>850</th>\n",
       "      <th>c_reihe</th>\n",
       "      <th>other</th>\n",
       "      <th>s60</th>\n",
       "      <th>unknown</th>\n",
       "      <th>v40</th>\n",
       "      <th>v50</th>\n",
       "      <th>v60</th>\n",
       "      <th>v70</th>\n",
       "      <th>xc_reihe</th>\n",
       "    </tr>\n",
       "    <tr>\n",
       "      <th>vehicle_type</th>\n",
       "      <th></th>\n",
       "      <th></th>\n",
       "      <th></th>\n",
       "      <th></th>\n",
       "      <th></th>\n",
       "      <th></th>\n",
       "      <th></th>\n",
       "      <th></th>\n",
       "      <th></th>\n",
       "      <th></th>\n",
       "      <th></th>\n",
       "      <th></th>\n",
       "      <th></th>\n",
       "      <th></th>\n",
       "      <th></th>\n",
       "      <th></th>\n",
       "      <th></th>\n",
       "      <th></th>\n",
       "      <th></th>\n",
       "      <th></th>\n",
       "      <th></th>\n",
       "    </tr>\n",
       "  </thead>\n",
       "  <tbody>\n",
       "    <tr>\n",
       "      <th>bus</th>\n",
       "      <td>NaN</td>\n",
       "      <td>NaN</td>\n",
       "      <td>NaN</td>\n",
       "      <td>NaN</td>\n",
       "      <td>NaN</td>\n",
       "      <td>NaN</td>\n",
       "      <td>NaN</td>\n",
       "      <td>NaN</td>\n",
       "      <td>NaN</td>\n",
       "      <td>NaN</td>\n",
       "      <td>...</td>\n",
       "      <td>NaN</td>\n",
       "      <td>NaN</td>\n",
       "      <td>NaN</td>\n",
       "      <td>NaN</td>\n",
       "      <td>NaN</td>\n",
       "      <td>NaN</td>\n",
       "      <td>NaN</td>\n",
       "      <td>NaN</td>\n",
       "      <td>NaN</td>\n",
       "      <td>NaN</td>\n",
       "    </tr>\n",
       "    <tr>\n",
       "      <th>convertible</th>\n",
       "      <td>NaN</td>\n",
       "      <td>NaN</td>\n",
       "      <td>NaN</td>\n",
       "      <td>NaN</td>\n",
       "      <td>NaN</td>\n",
       "      <td>153.0</td>\n",
       "      <td>NaN</td>\n",
       "      <td>1.0</td>\n",
       "      <td>1.0</td>\n",
       "      <td>146.0</td>\n",
       "      <td>...</td>\n",
       "      <td>NaN</td>\n",
       "      <td>67.0</td>\n",
       "      <td>2.0</td>\n",
       "      <td>NaN</td>\n",
       "      <td>NaN</td>\n",
       "      <td>NaN</td>\n",
       "      <td>NaN</td>\n",
       "      <td>NaN</td>\n",
       "      <td>NaN</td>\n",
       "      <td>NaN</td>\n",
       "    </tr>\n",
       "    <tr>\n",
       "      <th>coupe</th>\n",
       "      <td>1.0</td>\n",
       "      <td>24.0</td>\n",
       "      <td>2.0</td>\n",
       "      <td>NaN</td>\n",
       "      <td>169.0</td>\n",
       "      <td>1.0</td>\n",
       "      <td>13.0</td>\n",
       "      <td>2.0</td>\n",
       "      <td>NaN</td>\n",
       "      <td>42.0</td>\n",
       "      <td>...</td>\n",
       "      <td>NaN</td>\n",
       "      <td>40.0</td>\n",
       "      <td>22.0</td>\n",
       "      <td>NaN</td>\n",
       "      <td>NaN</td>\n",
       "      <td>NaN</td>\n",
       "      <td>NaN</td>\n",
       "      <td>NaN</td>\n",
       "      <td>1.0</td>\n",
       "      <td>NaN</td>\n",
       "    </tr>\n",
       "    <tr>\n",
       "      <th>other</th>\n",
       "      <td>1.0</td>\n",
       "      <td>6.0</td>\n",
       "      <td>NaN</td>\n",
       "      <td>NaN</td>\n",
       "      <td>NaN</td>\n",
       "      <td>NaN</td>\n",
       "      <td>1.0</td>\n",
       "      <td>NaN</td>\n",
       "      <td>NaN</td>\n",
       "      <td>3.0</td>\n",
       "      <td>...</td>\n",
       "      <td>NaN</td>\n",
       "      <td>2.0</td>\n",
       "      <td>1.0</td>\n",
       "      <td>NaN</td>\n",
       "      <td>NaN</td>\n",
       "      <td>NaN</td>\n",
       "      <td>NaN</td>\n",
       "      <td>NaN</td>\n",
       "      <td>NaN</td>\n",
       "      <td>NaN</td>\n",
       "    </tr>\n",
       "    <tr>\n",
       "      <th>sedan</th>\n",
       "      <td>10.0</td>\n",
       "      <td>343.0</td>\n",
       "      <td>209.0</td>\n",
       "      <td>52.0</td>\n",
       "      <td>151.0</td>\n",
       "      <td>NaN</td>\n",
       "      <td>19.0</td>\n",
       "      <td>229.0</td>\n",
       "      <td>14.0</td>\n",
       "      <td>710.0</td>\n",
       "      <td>...</td>\n",
       "      <td>14.0</td>\n",
       "      <td>65.0</td>\n",
       "      <td>325.0</td>\n",
       "      <td>135.0</td>\n",
       "      <td>13.0</td>\n",
       "      <td>10.0</td>\n",
       "      <td>1.0</td>\n",
       "      <td>3.0</td>\n",
       "      <td>NaN</td>\n",
       "      <td>3.0</td>\n",
       "    </tr>\n",
       "    <tr>\n",
       "      <th>small</th>\n",
       "      <td>12.0</td>\n",
       "      <td>76.0</td>\n",
       "      <td>1.0</td>\n",
       "      <td>NaN</td>\n",
       "      <td>109.0</td>\n",
       "      <td>NaN</td>\n",
       "      <td>4.0</td>\n",
       "      <td>NaN</td>\n",
       "      <td>NaN</td>\n",
       "      <td>1.0</td>\n",
       "      <td>...</td>\n",
       "      <td>NaN</td>\n",
       "      <td>3.0</td>\n",
       "      <td>3.0</td>\n",
       "      <td>NaN</td>\n",
       "      <td>NaN</td>\n",
       "      <td>NaN</td>\n",
       "      <td>NaN</td>\n",
       "      <td>NaN</td>\n",
       "      <td>NaN</td>\n",
       "      <td>NaN</td>\n",
       "    </tr>\n",
       "    <tr>\n",
       "      <th>suv</th>\n",
       "      <td>NaN</td>\n",
       "      <td>NaN</td>\n",
       "      <td>NaN</td>\n",
       "      <td>NaN</td>\n",
       "      <td>NaN</td>\n",
       "      <td>NaN</td>\n",
       "      <td>NaN</td>\n",
       "      <td>NaN</td>\n",
       "      <td>NaN</td>\n",
       "      <td>NaN</td>\n",
       "      <td>...</td>\n",
       "      <td>NaN</td>\n",
       "      <td>NaN</td>\n",
       "      <td>2.0</td>\n",
       "      <td>NaN</td>\n",
       "      <td>NaN</td>\n",
       "      <td>NaN</td>\n",
       "      <td>NaN</td>\n",
       "      <td>NaN</td>\n",
       "      <td>NaN</td>\n",
       "      <td>176.0</td>\n",
       "    </tr>\n",
       "    <tr>\n",
       "      <th>wagon</th>\n",
       "      <td>NaN</td>\n",
       "      <td>2.0</td>\n",
       "      <td>253.0</td>\n",
       "      <td>139.0</td>\n",
       "      <td>6.0</td>\n",
       "      <td>NaN</td>\n",
       "      <td>12.0</td>\n",
       "      <td>86.0</td>\n",
       "      <td>1.0</td>\n",
       "      <td>155.0</td>\n",
       "      <td>...</td>\n",
       "      <td>142.0</td>\n",
       "      <td>NaN</td>\n",
       "      <td>118.0</td>\n",
       "      <td>NaN</td>\n",
       "      <td>34.0</td>\n",
       "      <td>519.0</td>\n",
       "      <td>237.0</td>\n",
       "      <td>22.0</td>\n",
       "      <td>548.0</td>\n",
       "      <td>36.0</td>\n",
       "    </tr>\n",
       "  </tbody>\n",
       "</table>\n",
       "<p>8 rows × 336 columns</p>\n",
       "</div>"
      ],
      "text/plain": [
       "                  count                                                    \\\n",
       "                  price                                                     \n",
       "brand        alfa_romeo                                              audi   \n",
       "model               145    147    156    159  other spider unknown    100   \n",
       "vehicle_type                                                                \n",
       "bus                 NaN    NaN    NaN    NaN    NaN    NaN     NaN    NaN   \n",
       "convertible         NaN    NaN    NaN    NaN    NaN  153.0     NaN    1.0   \n",
       "coupe               1.0   24.0    2.0    NaN  169.0    1.0    13.0    2.0   \n",
       "other               1.0    6.0    NaN    NaN    NaN    NaN     1.0    NaN   \n",
       "sedan              10.0  343.0  209.0   52.0  151.0    NaN    19.0  229.0   \n",
       "small              12.0   76.0    1.0    NaN  109.0    NaN     4.0    NaN   \n",
       "suv                 NaN    NaN    NaN    NaN    NaN    NaN     NaN    NaN   \n",
       "wagon               NaN    2.0  253.0  139.0    6.0    NaN    12.0   86.0   \n",
       "\n",
       "                           ...                                              \\\n",
       "                           ...                                               \n",
       "brand                      ...  volvo                                        \n",
       "model          200     80  ...    850 c_reihe  other    s60 unknown    v40   \n",
       "vehicle_type               ...                                               \n",
       "bus            NaN    NaN  ...    NaN     NaN    NaN    NaN     NaN    NaN   \n",
       "convertible    1.0  146.0  ...    NaN    67.0    2.0    NaN     NaN    NaN   \n",
       "coupe          NaN   42.0  ...    NaN    40.0   22.0    NaN     NaN    NaN   \n",
       "other          NaN    3.0  ...    NaN     2.0    1.0    NaN     NaN    NaN   \n",
       "sedan         14.0  710.0  ...   14.0    65.0  325.0  135.0    13.0   10.0   \n",
       "small          NaN    1.0  ...    NaN     3.0    3.0    NaN     NaN    NaN   \n",
       "suv            NaN    NaN  ...    NaN     NaN    2.0    NaN     NaN    NaN   \n",
       "wagon          1.0  155.0  ...  142.0     NaN  118.0    NaN    34.0  519.0   \n",
       "\n",
       "                                           \n",
       "                                           \n",
       "brand                                      \n",
       "model           v50   v60    v70 xc_reihe  \n",
       "vehicle_type                               \n",
       "bus             NaN   NaN    NaN      NaN  \n",
       "convertible     NaN   NaN    NaN      NaN  \n",
       "coupe           NaN   NaN    1.0      NaN  \n",
       "other           NaN   NaN    NaN      NaN  \n",
       "sedan           1.0   3.0    NaN      3.0  \n",
       "small           NaN   NaN    NaN      NaN  \n",
       "suv             NaN   NaN    NaN    176.0  \n",
       "wagon         237.0  22.0  548.0     36.0  \n",
       "\n",
       "[8 rows x 336 columns]"
      ]
     },
     "execution_count": 34,
     "metadata": {},
     "output_type": "execute_result"
    }
   ],
   "source": [
    "vehicle_brand"
   ]
  },
  {
   "cell_type": "code",
   "execution_count": 35,
   "metadata": {
    "scrolled": true
   },
   "outputs": [
    {
     "data": {
      "text/plain": [
       "{'alfa_romeo145': 'small',\n",
       " 'alfa_romeo147': 'sedan',\n",
       " 'alfa_romeo156': 'wagon',\n",
       " 'alfa_romeo159': 'wagon',\n",
       " 'alfa_romeoother': 'coupe',\n",
       " 'alfa_romeospider': 'convertible',\n",
       " 'alfa_romeounknown': 'sedan',\n",
       " 'audi100': 'sedan',\n",
       " 'audi200': 'sedan',\n",
       " 'audi80': 'sedan',\n",
       " 'audi90': 'sedan',\n",
       " 'audia1': 'small',\n",
       " 'audia2': 'small',\n",
       " 'audia3': 'sedan',\n",
       " 'audia4': 'wagon',\n",
       " 'audia5': 'coupe',\n",
       " 'audia6': 'wagon',\n",
       " 'audia8': 'sedan',\n",
       " 'audiother': 'convertible',\n",
       " 'audiq3': 'suv',\n",
       " 'audiq5': 'suv',\n",
       " 'audiq7': 'suv',\n",
       " 'auditt': 'coupe',\n",
       " 'audiunknown': 'wagon',\n",
       " 'bmw1er': 'sedan',\n",
       " 'bmw3er': 'sedan',\n",
       " 'bmw5er': 'sedan',\n",
       " 'bmw6er': 'coupe',\n",
       " 'bmw7er': 'sedan',\n",
       " 'bmwi3': 'sedan',\n",
       " 'bmwm_reihe': 'coupe',\n",
       " 'bmwother': 'sedan',\n",
       " 'bmwunknown': 'sedan',\n",
       " 'bmwx_reihe': 'suv',\n",
       " 'bmwz_reihe': 'convertible',\n",
       " 'chevroletaveo': 'small',\n",
       " 'chevroletcaptiva': 'suv',\n",
       " 'chevroletmatiz': 'small',\n",
       " 'chevroletother': 'suv',\n",
       " 'chevroletspark': 'small',\n",
       " 'chevroletunknown': 'sedan',\n",
       " 'chrysler300c': 'wagon',\n",
       " 'chryslercrossfire': 'coupe',\n",
       " 'chryslergrand': 'bus',\n",
       " 'chryslerother': 'convertible',\n",
       " 'chryslerptcruiser': 'wagon',\n",
       " 'chryslerunknown': 'bus',\n",
       " 'chryslervoyager': 'bus',\n",
       " 'citroenberlingo': 'bus',\n",
       " 'citroenc1': 'small',\n",
       " 'citroenc2': 'small',\n",
       " 'citroenc3': 'small',\n",
       " 'citroenc4': 'sedan',\n",
       " 'citroenc5': 'wagon',\n",
       " 'citroenother': 'bus',\n",
       " 'citroenunknown': 'small',\n",
       " 'daciaduster': 'suv',\n",
       " 'dacialodgy': 'bus',\n",
       " 'dacialogan': 'wagon',\n",
       " 'daciaother': 'bus',\n",
       " 'daciasandero': 'small',\n",
       " 'daciaunknown': 'wagon',\n",
       " 'daewookalos': 'small',\n",
       " 'daewoolanos': 'sedan',\n",
       " 'daewoomatiz': 'small',\n",
       " 'daewoonubira': 'wagon',\n",
       " 'daewooother': 'sedan',\n",
       " 'daewoounknown': 'small',\n",
       " 'daihatsucharade': 'small',\n",
       " 'daihatsucuore': 'small',\n",
       " 'daihatsumateria': 'wagon',\n",
       " 'daihatsumove': 'bus',\n",
       " 'daihatsuother': 'suv',\n",
       " 'daihatsusirion': 'small',\n",
       " 'daihatsuterios': 'sedan',\n",
       " 'daihatsuunknown': 'small',\n",
       " 'fiat500': 'small',\n",
       " 'fiatbravo': 'sedan',\n",
       " 'fiatcroma': 'wagon',\n",
       " 'fiatdoblo': 'bus',\n",
       " 'fiatducato': 'bus',\n",
       " 'fiatother': 'small',\n",
       " 'fiatpanda': 'small',\n",
       " 'fiatpunto': 'small',\n",
       " 'fiatseicento': 'small',\n",
       " 'fiatstilo': 'sedan',\n",
       " 'fiatunknown': 'small',\n",
       " 'fordb_max': 'bus',\n",
       " 'fordc_max': 'bus',\n",
       " 'fordescort': 'convertible',\n",
       " 'fordfiesta': 'small',\n",
       " 'fordfocus': 'wagon',\n",
       " 'fordfusion': 'small',\n",
       " 'fordgalaxy': 'bus',\n",
       " 'fordka': 'small',\n",
       " 'fordkuga': 'suv',\n",
       " 'fordmondeo': 'wagon',\n",
       " 'fordmustang': 'coupe',\n",
       " 'fordother': 'coupe',\n",
       " 'fords_max': 'bus',\n",
       " 'fordtransit': 'bus',\n",
       " 'fordunknown': 'small',\n",
       " 'hondaaccord': 'sedan',\n",
       " 'hondacivic': 'sedan',\n",
       " 'hondacr_reihe': 'suv',\n",
       " 'hondajazz': 'small',\n",
       " 'hondaother': 'coupe',\n",
       " 'hondaunknown': 'small',\n",
       " 'hyundaigetz': 'small',\n",
       " 'hyundaii_reihe': 'small',\n",
       " 'hyundaiother': 'small',\n",
       " 'hyundaisanta': 'suv',\n",
       " 'hyundaitucson': 'suv',\n",
       " 'hyundaiunknown': 'small',\n",
       " 'jaguarother': 'sedan',\n",
       " 'jaguars_type': 'sedan',\n",
       " 'jaguarunknown': 'sedan',\n",
       " 'jaguarx_type': 'sedan',\n",
       " 'jeepcherokee': 'suv',\n",
       " 'jeepgrand': 'suv',\n",
       " 'jeepother': 'suv',\n",
       " 'jeepunknown': 'suv',\n",
       " 'jeepwrangler': 'suv',\n",
       " 'kiacarnival': 'bus',\n",
       " 'kiaceed': 'sedan',\n",
       " 'kiaother': 'sedan',\n",
       " 'kiapicanto': 'small',\n",
       " 'kiario': 'small',\n",
       " 'kiasorento': 'suv',\n",
       " 'kiasportage': 'suv',\n",
       " 'kiaunknown': 'sedan',\n",
       " 'ladakalina': 'sedan',\n",
       " 'ladaniva': 'suv',\n",
       " 'ladaother': 'sedan',\n",
       " 'ladasamara': 'sedan',\n",
       " 'ladaunknown': 'suv',\n",
       " 'lanciadelta': 'sedan',\n",
       " 'lanciaelefantino': 'sedan',\n",
       " 'lanciakappa': 'sedan',\n",
       " 'lancialybra': 'wagon',\n",
       " 'lanciamusa': 'bus',\n",
       " 'lanciaother': 'bus',\n",
       " 'lanciaunknown': 'small',\n",
       " 'lanciaypsilon': 'small',\n",
       " 'land_roverdefender': 'suv',\n",
       " 'land_roverdiscovery': 'suv',\n",
       " 'land_roverfreelander': 'suv',\n",
       " 'land_roverother': 'suv',\n",
       " 'land_roverrange_rover': 'suv',\n",
       " 'land_roverrange_rover_evoque': 'suv',\n",
       " 'land_roverrange_rover_sport': 'suv',\n",
       " 'land_roverserie_2': 'other',\n",
       " 'land_roverserie_3': 'suv',\n",
       " 'land_roverunknown': 'suv',\n",
       " 'mazda1_reihe': 'small',\n",
       " 'mazda3_reihe': 'sedan',\n",
       " 'mazda5_reihe': 'bus',\n",
       " 'mazda6_reihe': 'wagon',\n",
       " 'mazdacx_reihe': 'suv',\n",
       " 'mazdamx_reihe': 'convertible',\n",
       " 'mazdaother': 'bus',\n",
       " 'mazdarx_reihe': 'coupe',\n",
       " 'mazdaunknown': 'sedan',\n",
       " 'mercedes_benza_klasse': 'sedan',\n",
       " 'mercedes_benzb_klasse': 'bus',\n",
       " 'mercedes_benzc_klasse': 'sedan',\n",
       " 'mercedes_benzcl': 'coupe',\n",
       " 'mercedes_benzclk': 'coupe',\n",
       " 'mercedes_benze_klasse': 'sedan',\n",
       " 'mercedes_benzg_klasse': 'suv',\n",
       " 'mercedes_benzgl': 'suv',\n",
       " 'mercedes_benzglk': 'suv',\n",
       " 'mercedes_benzm_klasse': 'suv',\n",
       " 'mercedes_benzother': 'sedan',\n",
       " 'mercedes_benzs_klasse': 'sedan',\n",
       " 'mercedes_benzsl': 'convertible',\n",
       " 'mercedes_benzslk': 'convertible',\n",
       " 'mercedes_benzsprinter': 'bus',\n",
       " 'mercedes_benzunknown': 'sedan',\n",
       " 'mercedes_benzv_klasse': 'bus',\n",
       " 'mercedes_benzviano': 'bus',\n",
       " 'mercedes_benzvito': 'bus',\n",
       " 'miniclubman': 'wagon',\n",
       " 'minicooper': 'small',\n",
       " 'minione': 'small',\n",
       " 'miniother': 'small',\n",
       " 'miniunknown': 'small',\n",
       " 'mitsubishicarisma': 'sedan',\n",
       " 'mitsubishicolt': 'sedan',\n",
       " 'mitsubishigalant': 'sedan',\n",
       " 'mitsubishilancer': 'sedan',\n",
       " 'mitsubishiother': 'bus',\n",
       " 'mitsubishioutlander': 'suv',\n",
       " 'mitsubishipajero': 'suv',\n",
       " 'mitsubishiunknown': 'sedan',\n",
       " 'nissanalmera': 'sedan',\n",
       " 'nissanjuke': 'small',\n",
       " 'nissanmicra': 'small',\n",
       " 'nissannavara': 'suv',\n",
       " 'nissannote': 'bus',\n",
       " 'nissanother': 'suv',\n",
       " 'nissanprimera': 'sedan',\n",
       " 'nissanqashqai': 'sedan',\n",
       " 'nissanunknown': 'small',\n",
       " 'nissanx_trail': 'suv',\n",
       " 'opelagila': 'small',\n",
       " 'opelantara': 'suv',\n",
       " 'opelastra': 'sedan',\n",
       " 'opelcalibra': 'coupe',\n",
       " 'opelcombo': 'bus',\n",
       " 'opelcorsa': 'small',\n",
       " 'opelinsignia': 'wagon',\n",
       " 'opelkadett': 'sedan',\n",
       " 'opelmeriva': 'bus',\n",
       " 'opelomega': 'wagon',\n",
       " 'opelother': 'suv',\n",
       " 'opelsignum': 'wagon',\n",
       " 'opeltigra': 'convertible',\n",
       " 'opelunknown': 'small',\n",
       " 'opelvectra': 'sedan',\n",
       " 'opelvivaro': 'bus',\n",
       " 'opelzafira': 'bus',\n",
       " 'peugeot1_reihe': 'small',\n",
       " 'peugeot2_reihe': 'small',\n",
       " 'peugeot3_reihe': 'wagon',\n",
       " 'peugeot4_reihe': 'wagon',\n",
       " 'peugeot5_reihe': 'bus',\n",
       " 'peugeotother': 'bus',\n",
       " 'peugeotunknown': 'small',\n",
       " 'porsche911': 'coupe',\n",
       " 'porscheboxster': 'convertible',\n",
       " 'porschecayenne': 'suv',\n",
       " 'porscheother': 'coupe',\n",
       " 'porscheunknown': 'coupe',\n",
       " 'renaultclio': 'small',\n",
       " 'renaultespace': 'bus',\n",
       " 'renaultkangoo': 'bus',\n",
       " 'renaultlaguna': 'wagon',\n",
       " 'renaultmegane': 'sedan',\n",
       " 'renaultmodus': 'bus',\n",
       " 'renaultother': 'bus',\n",
       " 'renaultr19': 'convertible',\n",
       " 'renaultscenic': 'bus',\n",
       " 'renaulttwingo': 'small',\n",
       " 'renaultunknown': 'small',\n",
       " 'roverdefender': 'small',\n",
       " 'roverdiscovery': 'convertible',\n",
       " 'roverfreelander': 'suv',\n",
       " 'roverother': 'sedan',\n",
       " 'roverrangerover': 'other',\n",
       " 'roverunknown': 'sedan',\n",
       " 'saab900': 'convertible',\n",
       " 'saab9000': 'sedan',\n",
       " 'saabother': 'sedan',\n",
       " 'saabunknown': 'sedan',\n",
       " 'seatalhambra': 'bus',\n",
       " 'seataltea': 'bus',\n",
       " 'seatarosa': 'small',\n",
       " 'seatcordoba': 'wagon',\n",
       " 'seatexeo': 'wagon',\n",
       " 'seatibiza': 'small',\n",
       " 'seatleon': 'sedan',\n",
       " 'seatmii': 'small',\n",
       " 'seatother': 'other',\n",
       " 'seattoledo': 'sedan',\n",
       " 'seatunknown': 'small',\n",
       " 'skodacitigo': 'small',\n",
       " 'skodafabia': 'small',\n",
       " 'skodaoctavia': 'wagon',\n",
       " 'skodaother': 'wagon',\n",
       " 'skodaroomster': 'bus',\n",
       " 'skodasuperb': 'sedan',\n",
       " 'skodaunknown': 'wagon',\n",
       " 'skodayeti': 'suv',\n",
       " 'smartforfour': 'small',\n",
       " 'smartfortwo': 'small',\n",
       " 'smartother': 'small',\n",
       " 'smartroadster': 'convertible',\n",
       " 'smartunknown': 'small',\n",
       " 'sonstige_autosunknown': 'suv',\n",
       " 'subaruforester': 'wagon',\n",
       " 'subaruimpreza': 'sedan',\n",
       " 'subarujusty': 'small',\n",
       " 'subarulegacy': 'wagon',\n",
       " 'subaruother': 'wagon',\n",
       " 'subaruunknown': 'wagon',\n",
       " 'suzukigrand': 'suv',\n",
       " 'suzukijimny': 'suv',\n",
       " 'suzukiother': 'suv',\n",
       " 'suzukiswift': 'small',\n",
       " 'suzukiunknown': 'small',\n",
       " 'toyotaauris': 'sedan',\n",
       " 'toyotaavensis': 'wagon',\n",
       " 'toyotaaygo': 'small',\n",
       " 'toyotacorolla': 'sedan',\n",
       " 'toyotaother': 'coupe',\n",
       " 'toyotarav': 'suv',\n",
       " 'toyotaunknown': 'small',\n",
       " 'toyotaverso': 'bus',\n",
       " 'toyotayaris': 'small',\n",
       " 'trabant601': 'sedan',\n",
       " 'trabantother': 'wagon',\n",
       " 'trabantunknown': 'sedan',\n",
       " 'volkswagenamarok': 'suv',\n",
       " 'volkswagenbeetle': 'sedan',\n",
       " 'volkswagenbora': 'sedan',\n",
       " 'volkswagencaddy': 'wagon',\n",
       " 'volkswagencc': 'coupe',\n",
       " 'volkswageneos': 'convertible',\n",
       " 'volkswagenfox': 'small',\n",
       " 'volkswagengolf': 'sedan',\n",
       " 'volkswagenjetta': 'sedan',\n",
       " 'volkswagenkaefer': 'sedan',\n",
       " 'volkswagenlupo': 'small',\n",
       " 'volkswagenother': 'bus',\n",
       " 'volkswagenpassat': 'wagon',\n",
       " 'volkswagenphaeton': 'sedan',\n",
       " 'volkswagenpolo': 'small',\n",
       " 'volkswagenscirocco': 'coupe',\n",
       " 'volkswagensharan': 'bus',\n",
       " 'volkswagentiguan': 'suv',\n",
       " 'volkswagentouareg': 'suv',\n",
       " 'volkswagentouran': 'bus',\n",
       " 'volkswagentransporter': 'bus',\n",
       " 'volkswagenunknown': 'small',\n",
       " 'volkswagenup': 'small',\n",
       " 'volvo850': 'wagon',\n",
       " 'volvoc_reihe': 'convertible',\n",
       " 'volvoother': 'sedan',\n",
       " 'volvos60': 'sedan',\n",
       " 'volvounknown': 'wagon',\n",
       " 'volvov40': 'wagon',\n",
       " 'volvov50': 'wagon',\n",
       " 'volvov60': 'wagon',\n",
       " 'volvov70': 'wagon',\n",
       " 'volvoxc_reihe': 'suv'}"
      ]
     },
     "execution_count": 35,
     "metadata": {},
     "output_type": "execute_result"
    }
   ],
   "source": [
    "#пример заполнения словаря\n",
    "vehicle_brand_dict={}\n",
    "for col in vehicle_brand.columns:\n",
    "    temp = col[2] + col[3]\n",
    "    vehicle_brand_dict[temp] = vehicle_brand[col].idxmax()\n",
    "vehicle_brand_dict"
   ]
  },
  {
   "attachments": {},
   "cell_type": "markdown",
   "metadata": {},
   "source": [
    "Для применения функции map к Series создадим столбец brand_model. После заполнения мы его удалим"
   ]
  },
  {
   "cell_type": "code",
   "execution_count": 36,
   "metadata": {},
   "outputs": [
    {
     "data": {
      "text/plain": [
       "2                     jeepgrand\n",
       "3                volkswagengolf\n",
       "4                    skodafabia\n",
       "5                        bmw3er\n",
       "6                peugeot2_reihe\n",
       "                  ...          \n",
       "354361            alfa_romeo159\n",
       "354362                 seatleon\n",
       "354366              smartfortwo\n",
       "354367    volkswagentransporter\n",
       "354368           volkswagengolf\n",
       "Name: brand_model, Length: 270790, dtype: object"
      ]
     },
     "execution_count": 36,
     "metadata": {},
     "output_type": "execute_result"
    }
   ],
   "source": [
    "df['brand_model'] = df['brand'] + df['model']\n",
    "df['brand_model']"
   ]
  },
  {
   "cell_type": "code",
   "execution_count": 37,
   "metadata": {},
   "outputs": [],
   "source": [
    "def model_filling(pivot_table, df, col1):\n",
    "    frequency = {}\n",
    "    for col in pivot_table.columns:\n",
    "        temp = col[2] + col[3]\n",
    "        frequency[temp] = pivot_table[col].idxmax()\n",
    "    df[col1] = df[col1].fillna(df['brand_model'].map(frequency))"
   ]
  },
  {
   "cell_type": "code",
   "execution_count": 38,
   "metadata": {},
   "outputs": [],
   "source": [
    "model_filling(vehicle_brand, df, 'vehicle_type')\n",
    "model_filling(fuel_brand, df, 'fuel_type')"
   ]
  },
  {
   "cell_type": "code",
   "execution_count": 39,
   "metadata": {},
   "outputs": [
    {
     "data": {
      "text/plain": [
       "price                 0\n",
       "vehicle_type          0\n",
       "registration_year     0\n",
       "gearbox               0\n",
       "power                 0\n",
       "model                 0\n",
       "kilometer             0\n",
       "registration_month    0\n",
       "fuel_type             0\n",
       "brand                 0\n",
       "repaired              0\n",
       "brand_model           0\n",
       "dtype: int64"
      ]
     },
     "execution_count": 39,
     "metadata": {},
     "output_type": "execute_result"
    }
   ],
   "source": [
    "df.isna().sum()"
   ]
  },
  {
   "cell_type": "code",
   "execution_count": 40,
   "metadata": {},
   "outputs": [
    {
     "name": "stdout",
     "output_type": "stream",
     "text": [
      "<class 'pandas.core.frame.DataFrame'>\n",
      "Int64Index: 270790 entries, 2 to 354368\n",
      "Data columns (total 12 columns):\n",
      " #   Column              Non-Null Count   Dtype \n",
      "---  ------              --------------   ----- \n",
      " 0   price               270790 non-null  int64 \n",
      " 1   vehicle_type        270790 non-null  object\n",
      " 2   registration_year   270790 non-null  int64 \n",
      " 3   gearbox             270790 non-null  object\n",
      " 4   power               270790 non-null  int64 \n",
      " 5   model               270790 non-null  object\n",
      " 6   kilometer           270790 non-null  int64 \n",
      " 7   registration_month  270790 non-null  int64 \n",
      " 8   fuel_type           270790 non-null  object\n",
      " 9   brand               270790 non-null  object\n",
      " 10  repaired            270790 non-null  object\n",
      " 11  brand_model         270790 non-null  object\n",
      "dtypes: int64(5), object(7)\n",
      "memory usage: 26.9+ MB\n"
     ]
    }
   ],
   "source": [
    "df.info()"
   ]
  },
  {
   "cell_type": "code",
   "execution_count": 41,
   "metadata": {},
   "outputs": [],
   "source": [
    "df.drop(['brand_model'], axis = 1, inplace = True)"
   ]
  },
  {
   "attachments": {},
   "cell_type": "markdown",
   "metadata": {},
   "source": [
    "### Оптимизация датафрейма"
   ]
  },
  {
   "cell_type": "code",
   "execution_count": 42,
   "metadata": {},
   "outputs": [
    {
     "data": {
      "text/plain": [
       "array(['auto', 'manual'], dtype=object)"
      ]
     },
     "execution_count": 42,
     "metadata": {},
     "output_type": "execute_result"
    }
   ],
   "source": [
    "df.gearbox.unique()"
   ]
  },
  {
   "cell_type": "code",
   "execution_count": 43,
   "metadata": {},
   "outputs": [
    {
     "data": {
      "text/plain": [
       "array(['no', 'yes'], dtype=object)"
      ]
     },
     "execution_count": 43,
     "metadata": {},
     "output_type": "execute_result"
    }
   ],
   "source": [
    "df.repaired.unique()        "
   ]
  },
  {
   "cell_type": "code",
   "execution_count": 44,
   "metadata": {},
   "outputs": [
    {
     "data": {
      "text/plain": [
       "2         False\n",
       "3         False\n",
       "4         False\n",
       "5          True\n",
       "6         False\n",
       "          ...  \n",
       "354361    False\n",
       "354362     True\n",
       "354366    False\n",
       "354367    False\n",
       "354368    False\n",
       "Name: repaired, Length: 270790, dtype: bool"
      ]
     },
     "execution_count": 44,
     "metadata": {},
     "output_type": "execute_result"
    }
   ],
   "source": [
    "df.replace({'gearbox': {'auto': True, 'manual': False}, \n",
    "            'repaired': {'yes': True, 'no': False}}, \n",
    "           inplace=True)\n",
    "df['gearbox'].astype('bool')\n",
    "df['repaired'].astype('bool')"
   ]
  },
  {
   "cell_type": "code",
   "execution_count": 45,
   "metadata": {},
   "outputs": [],
   "source": [
    "df['price'] = pd.to_numeric(df['price'], downcast='integer')\n",
    "df['registration_year'] = pd.to_numeric(df['registration_year'], downcast='integer')\n",
    "df['power'] = pd.to_numeric(df['power'], downcast='integer')\n",
    "df['kilometer'] = pd.to_numeric(df['kilometer'], downcast='integer')\n",
    "df['registration_month'] = pd.to_numeric(df['registration_month'], downcast='integer')\n",
    "df['kilometer'] = pd.to_numeric(df['kilometer'], downcast='integer')"
   ]
  },
  {
   "cell_type": "code",
   "execution_count": 46,
   "metadata": {},
   "outputs": [
    {
     "name": "stdout",
     "output_type": "stream",
     "text": [
      "<class 'pandas.core.frame.DataFrame'>\n",
      "Int64Index: 270790 entries, 2 to 354368\n",
      "Data columns (total 11 columns):\n",
      " #   Column              Non-Null Count   Dtype \n",
      "---  ------              --------------   ----- \n",
      " 0   price               270790 non-null  int16 \n",
      " 1   vehicle_type        270790 non-null  object\n",
      " 2   registration_year   270790 non-null  int16 \n",
      " 3   gearbox             270790 non-null  bool  \n",
      " 4   power               270790 non-null  int16 \n",
      " 5   model               270790 non-null  object\n",
      " 6   kilometer           270790 non-null  int32 \n",
      " 7   registration_month  270790 non-null  int8  \n",
      " 8   fuel_type           270790 non-null  object\n",
      " 9   brand               270790 non-null  object\n",
      " 10  repaired            270790 non-null  bool  \n",
      "dtypes: bool(2), int16(3), int32(1), int8(1), object(4)\n",
      "memory usage: 13.7+ MB\n"
     ]
    }
   ],
   "source": [
    "df.info()"
   ]
  },
  {
   "attachments": {},
   "cell_type": "markdown",
   "metadata": {},
   "source": [
    "### Бонус-фича по возрасту"
   ]
  },
  {
   "attachments": {},
   "cell_type": "markdown",
   "metadata": {},
   "source": [
    "FIVA (Fédération Internationale des Véhicules Anciens) выделяет следующие категории старинных автомобилей по годам выпуска:\n",
    "\n",
    "- Class A (Ancestor) — выпуска до 31 декабря 1904 года\n",
    "- Class B (Veteran) — с 1 января 1905 по 31 декабря 1918\n",
    "- Class C (Vintage) — с 1 января 1919 по 31 декабря 1930\n",
    "- Class D (Post Vintage) — с 1 января 1931 по 31 декабря 1945\n",
    "- Class E (Post War) — с 1 января 1946 по 31 декабря 1960\n",
    "- Class F — с 1 января 1961 по 31 декабря 1970\n",
    "- Class G — с 1 января 1971 и вплоть до минимального возраста, установленного FIVA — 30 лет.\n",
    "\n",
    "По данной классификации оставим классы \n",
    "- 1(F) с 1960 по  1970\n",
    "- 2(C) 1971 по 1986\n",
    "- 3 c 1986 по 2000 (т.к. этого уже нет в классификации а классы существовали по 9-15 лет интуитивно оставим этот класс таким)\n",
    "- 4 все оставшиеся "
   ]
  },
  {
   "cell_type": "code",
   "execution_count": 47,
   "metadata": {},
   "outputs": [
    {
     "data": {
      "text/html": [
       "<div>\n",
       "<style scoped>\n",
       "    .dataframe tbody tr th:only-of-type {\n",
       "        vertical-align: middle;\n",
       "    }\n",
       "\n",
       "    .dataframe tbody tr th {\n",
       "        vertical-align: top;\n",
       "    }\n",
       "\n",
       "    .dataframe thead th {\n",
       "        text-align: right;\n",
       "    }\n",
       "</style>\n",
       "<table border=\"1\" class=\"dataframe\">\n",
       "  <thead>\n",
       "    <tr style=\"text-align: right;\">\n",
       "      <th></th>\n",
       "      <th>price</th>\n",
       "      <th>vehicle_type</th>\n",
       "      <th>registration_year</th>\n",
       "      <th>gearbox</th>\n",
       "      <th>power</th>\n",
       "      <th>model</th>\n",
       "      <th>kilometer</th>\n",
       "      <th>registration_month</th>\n",
       "      <th>fuel_type</th>\n",
       "      <th>brand</th>\n",
       "      <th>repaired</th>\n",
       "      <th>age_class</th>\n",
       "    </tr>\n",
       "  </thead>\n",
       "  <tbody>\n",
       "    <tr>\n",
       "      <th>2</th>\n",
       "      <td>9800</td>\n",
       "      <td>suv</td>\n",
       "      <td>2004</td>\n",
       "      <td>True</td>\n",
       "      <td>163</td>\n",
       "      <td>grand</td>\n",
       "      <td>125000</td>\n",
       "      <td>8</td>\n",
       "      <td>gasoline</td>\n",
       "      <td>jeep</td>\n",
       "      <td>False</td>\n",
       "      <td>4</td>\n",
       "    </tr>\n",
       "    <tr>\n",
       "      <th>3</th>\n",
       "      <td>1500</td>\n",
       "      <td>small</td>\n",
       "      <td>2001</td>\n",
       "      <td>False</td>\n",
       "      <td>75</td>\n",
       "      <td>golf</td>\n",
       "      <td>150000</td>\n",
       "      <td>6</td>\n",
       "      <td>petrol</td>\n",
       "      <td>volkswagen</td>\n",
       "      <td>False</td>\n",
       "      <td>4</td>\n",
       "    </tr>\n",
       "    <tr>\n",
       "      <th>4</th>\n",
       "      <td>3600</td>\n",
       "      <td>small</td>\n",
       "      <td>2008</td>\n",
       "      <td>False</td>\n",
       "      <td>69</td>\n",
       "      <td>fabia</td>\n",
       "      <td>90000</td>\n",
       "      <td>7</td>\n",
       "      <td>gasoline</td>\n",
       "      <td>skoda</td>\n",
       "      <td>False</td>\n",
       "      <td>4</td>\n",
       "    </tr>\n",
       "    <tr>\n",
       "      <th>5</th>\n",
       "      <td>650</td>\n",
       "      <td>sedan</td>\n",
       "      <td>1995</td>\n",
       "      <td>False</td>\n",
       "      <td>102</td>\n",
       "      <td>3er</td>\n",
       "      <td>150000</td>\n",
       "      <td>10</td>\n",
       "      <td>petrol</td>\n",
       "      <td>bmw</td>\n",
       "      <td>True</td>\n",
       "      <td>3</td>\n",
       "    </tr>\n",
       "    <tr>\n",
       "      <th>6</th>\n",
       "      <td>2200</td>\n",
       "      <td>convertible</td>\n",
       "      <td>2004</td>\n",
       "      <td>False</td>\n",
       "      <td>109</td>\n",
       "      <td>2_reihe</td>\n",
       "      <td>150000</td>\n",
       "      <td>8</td>\n",
       "      <td>petrol</td>\n",
       "      <td>peugeot</td>\n",
       "      <td>False</td>\n",
       "      <td>4</td>\n",
       "    </tr>\n",
       "    <tr>\n",
       "      <th>8</th>\n",
       "      <td>14500</td>\n",
       "      <td>bus</td>\n",
       "      <td>2014</td>\n",
       "      <td>False</td>\n",
       "      <td>125</td>\n",
       "      <td>c_max</td>\n",
       "      <td>30000</td>\n",
       "      <td>8</td>\n",
       "      <td>petrol</td>\n",
       "      <td>ford</td>\n",
       "      <td>False</td>\n",
       "      <td>4</td>\n",
       "    </tr>\n",
       "    <tr>\n",
       "      <th>9</th>\n",
       "      <td>999</td>\n",
       "      <td>small</td>\n",
       "      <td>1998</td>\n",
       "      <td>False</td>\n",
       "      <td>101</td>\n",
       "      <td>golf</td>\n",
       "      <td>150000</td>\n",
       "      <td>1</td>\n",
       "      <td>petrol</td>\n",
       "      <td>volkswagen</td>\n",
       "      <td>False</td>\n",
       "      <td>3</td>\n",
       "    </tr>\n",
       "    <tr>\n",
       "      <th>10</th>\n",
       "      <td>2000</td>\n",
       "      <td>sedan</td>\n",
       "      <td>2004</td>\n",
       "      <td>False</td>\n",
       "      <td>105</td>\n",
       "      <td>3_reihe</td>\n",
       "      <td>150000</td>\n",
       "      <td>12</td>\n",
       "      <td>petrol</td>\n",
       "      <td>mazda</td>\n",
       "      <td>False</td>\n",
       "      <td>4</td>\n",
       "    </tr>\n",
       "    <tr>\n",
       "      <th>11</th>\n",
       "      <td>2799</td>\n",
       "      <td>wagon</td>\n",
       "      <td>2005</td>\n",
       "      <td>False</td>\n",
       "      <td>140</td>\n",
       "      <td>passat</td>\n",
       "      <td>150000</td>\n",
       "      <td>12</td>\n",
       "      <td>gasoline</td>\n",
       "      <td>volkswagen</td>\n",
       "      <td>True</td>\n",
       "      <td>4</td>\n",
       "    </tr>\n",
       "    <tr>\n",
       "      <th>12</th>\n",
       "      <td>999</td>\n",
       "      <td>wagon</td>\n",
       "      <td>1995</td>\n",
       "      <td>False</td>\n",
       "      <td>115</td>\n",
       "      <td>passat</td>\n",
       "      <td>150000</td>\n",
       "      <td>11</td>\n",
       "      <td>petrol</td>\n",
       "      <td>volkswagen</td>\n",
       "      <td>False</td>\n",
       "      <td>3</td>\n",
       "    </tr>\n",
       "  </tbody>\n",
       "</table>\n",
       "</div>"
      ],
      "text/plain": [
       "    price vehicle_type  registration_year  gearbox  power    model  kilometer  \\\n",
       "2    9800          suv               2004     True    163    grand     125000   \n",
       "3    1500        small               2001    False     75     golf     150000   \n",
       "4    3600        small               2008    False     69    fabia      90000   \n",
       "5     650        sedan               1995    False    102      3er     150000   \n",
       "6    2200  convertible               2004    False    109  2_reihe     150000   \n",
       "8   14500          bus               2014    False    125    c_max      30000   \n",
       "9     999        small               1998    False    101     golf     150000   \n",
       "10   2000        sedan               2004    False    105  3_reihe     150000   \n",
       "11   2799        wagon               2005    False    140   passat     150000   \n",
       "12    999        wagon               1995    False    115   passat     150000   \n",
       "\n",
       "    registration_month fuel_type       brand  repaired  age_class  \n",
       "2                    8  gasoline        jeep     False          4  \n",
       "3                    6    petrol  volkswagen     False          4  \n",
       "4                    7  gasoline       skoda     False          4  \n",
       "5                   10    petrol         bmw      True          3  \n",
       "6                    8    petrol     peugeot     False          4  \n",
       "8                    8    petrol        ford     False          4  \n",
       "9                    1    petrol  volkswagen     False          3  \n",
       "10                  12    petrol       mazda     False          4  \n",
       "11                  12  gasoline  volkswagen      True          4  \n",
       "12                  11    petrol  volkswagen     False          3  "
      ]
     },
     "execution_count": 47,
     "metadata": {},
     "output_type": "execute_result"
    }
   ],
   "source": [
    "def rule(x):\n",
    "    if x <=1970:\n",
    "         return 1\n",
    "    elif 1970< x <=1986:\n",
    "         return 2\n",
    "    elif 1986< x <=2000:\n",
    "         return 3\n",
    "    else:\n",
    "        return 4\n",
    "\n",
    "df['age_class'] = df.apply(lambda x: rule(x['registration_year']), axis =  1)\n",
    "df.head(10)"
   ]
  },
  {
   "cell_type": "code",
   "execution_count": 48,
   "metadata": {},
   "outputs": [
    {
     "data": {
      "image/png": "[encoded data removed]",
      "text/plain": [
       "<Figure size 432x288 with 1 Axes>"
      ]
     },
     "metadata": {
      "needs_background": "light"
     },
     "output_type": "display_data"
    }
   ],
   "source": [
    "df['age_class'].hist();"
   ]
  },
  {
   "attachments": {},
   "cell_type": "markdown",
   "metadata": {},
   "source": [
    "### Вывод\n",
    "На данном этапе были проделаны следующие действия:\n",
    "1. Удалены неинформативные столбцы\n",
    "2. В стоблце **Цена** были обнаружены и удалены аномалии, а также удалены пропущенные значения\n",
    "3. в столбце **Год регистрации** были обнаружены и удалены аномалии, а в столбце **Месяц регистрации** нулевые значения заменены на 1(предполагается, что это ошибка)\n",
    "5. В стоблце **Мощность** были обнаружены и удалены аномалии\n",
    "6. В столбцах **Тип автомобильного кузова** и **Тип топлива** пропущенные значения были восстановлены по самым популярным среди таких же моделей у определенных брендов.\n",
    "6. Оптимизирован датафрейм, он стал занимать меньше памяти на 75%"
   ]
  },
  {
   "attachments": {},
   "cell_type": "markdown",
   "metadata": {},
   "source": [
    "## Обучение моделей"
   ]
  },
  {
   "attachments": {},
   "cell_type": "markdown",
   "metadata": {},
   "source": [
    "### Деление на выборки"
   ]
  },
  {
   "cell_type": "code",
   "execution_count": 49,
   "metadata": {},
   "outputs": [],
   "source": [
    "features = df.drop('price', axis=1)\n",
    "target = df['price']\n",
    "(features_train, features_test, \n",
    " target_train, target_test) = train_test_split(features, target, train_size=0.75, random_state=2421)"
   ]
  },
  {
   "cell_type": "code",
   "execution_count": 50,
   "metadata": {},
   "outputs": [],
   "source": [
    "(ohe_features_train, ohe_features_test, \n",
    " ohe_target_train, ohe_target_test) = train_test_split(features, target, train_size=0.75, random_state=2421)"
   ]
  },
  {
   "cell_type": "code",
   "execution_count": 51,
   "metadata": {},
   "outputs": [],
   "source": [
    "(oe_features_train, oe_features_test, \n",
    " oe_target_train, oe_target_test) = train_test_split(features, target, train_size=0.75, random_state=2421)"
   ]
  },
  {
   "cell_type": "code",
   "execution_count": 52,
   "metadata": {},
   "outputs": [
    {
     "data": {
      "text/plain": [
       "((203092, 11), (203092,))"
      ]
     },
     "execution_count": 52,
     "metadata": {},
     "output_type": "execute_result"
    }
   ],
   "source": [
    "ohe_features_train.shape, ohe_target_train.shape"
   ]
  },
  {
   "cell_type": "code",
   "execution_count": 53,
   "metadata": {},
   "outputs": [
    {
     "data": {
      "text/plain": [
       "Index(['vehicle_type', 'model', 'fuel_type', 'brand'], dtype='object')"
      ]
     },
     "execution_count": 53,
     "metadata": {},
     "output_type": "execute_result"
    }
   ],
   "source": [
    "categorical_columns = df.columns[df.dtypes == 'object']\n",
    "categorical_columns"
   ]
  },
  {
   "cell_type": "code",
   "execution_count": 54,
   "metadata": {},
   "outputs": [],
   "source": [
    "encoder = OrdinalEncoder()\n",
    "encoder.fit(oe_features_train[categorical_columns])\n",
    "\n",
    "oe_features_train[categorical_columns] = encoder.transform(oe_features_train[categorical_columns])\n",
    "oe_features_test[categorical_columns] = encoder.transform(oe_features_test[categorical_columns])"
   ]
  },
  {
   "cell_type": "code",
   "execution_count": 55,
   "metadata": {},
   "outputs": [],
   "source": [
    "OH_encoder = OneHotEncoder(drop='first', sparse=False)\n",
    "OH_cols_train = pd.DataFrame(OH_encoder.fit_transform(ohe_features_train[categorical_columns]))\n",
    "OH_cols_valid = pd.DataFrame(OH_encoder.transform(ohe_features_test[categorical_columns]))\n",
    "OH_cols_train = OH_cols_train.apply(pd.to_numeric, downcast='integer')\n",
    "OH_cols_valid = OH_cols_valid.apply(pd.to_numeric, downcast='integer')\n",
    "\n",
    "OH_cols_train.index = ohe_features_train.index\n",
    "OH_cols_valid.index = ohe_features_test.index\n",
    "\n",
    "\n",
    "numeric_X_train = ohe_features_train.drop(categorical_columns, axis=1)\n",
    "numeric_X_valid = ohe_features_test.drop(categorical_columns, axis=1)\n",
    "\n",
    "\n",
    "ohe_features_train = pd.concat([numeric_X_train, OH_cols_train], axis=1)\n",
    "ohe_features_test = pd.concat([numeric_X_valid, OH_cols_valid], axis=1)"
   ]
  },
  {
   "attachments": {},
   "cell_type": "markdown",
   "metadata": {},
   "source": [
    "\n",
    "<div class=\"alert alert-block alert-success\">\n",
    "<b>Успех:</b> Отлично, чтоe encoders обучены только на трейне"
   ]
  },
  {
   "cell_type": "code",
   "execution_count": 56,
   "metadata": {},
   "outputs": [
    {
     "data": {
      "text/html": [
       "<div>\n",
       "<style scoped>\n",
       "    .dataframe tbody tr th:only-of-type {\n",
       "        vertical-align: middle;\n",
       "    }\n",
       "\n",
       "    .dataframe tbody tr th {\n",
       "        vertical-align: top;\n",
       "    }\n",
       "\n",
       "    .dataframe thead th {\n",
       "        text-align: right;\n",
       "    }\n",
       "</style>\n",
       "<table border=\"1\" class=\"dataframe\">\n",
       "  <thead>\n",
       "    <tr style=\"text-align: right;\">\n",
       "      <th></th>\n",
       "      <th>registration_year</th>\n",
       "      <th>gearbox</th>\n",
       "      <th>power</th>\n",
       "      <th>kilometer</th>\n",
       "      <th>registration_month</th>\n",
       "      <th>repaired</th>\n",
       "      <th>age_class</th>\n",
       "      <th>0</th>\n",
       "      <th>1</th>\n",
       "      <th>2</th>\n",
       "      <th>...</th>\n",
       "      <th>291</th>\n",
       "      <th>292</th>\n",
       "      <th>293</th>\n",
       "      <th>294</th>\n",
       "      <th>295</th>\n",
       "      <th>296</th>\n",
       "      <th>297</th>\n",
       "      <th>298</th>\n",
       "      <th>299</th>\n",
       "      <th>300</th>\n",
       "    </tr>\n",
       "  </thead>\n",
       "  <tbody>\n",
       "    <tr>\n",
       "      <th>184496</th>\n",
       "      <td>2007</td>\n",
       "      <td>False</td>\n",
       "      <td>110</td>\n",
       "      <td>150000</td>\n",
       "      <td>3</td>\n",
       "      <td>False</td>\n",
       "      <td>4</td>\n",
       "      <td>0</td>\n",
       "      <td>0</td>\n",
       "      <td>0</td>\n",
       "      <td>...</td>\n",
       "      <td>0</td>\n",
       "      <td>0</td>\n",
       "      <td>0</td>\n",
       "      <td>0</td>\n",
       "      <td>0</td>\n",
       "      <td>0</td>\n",
       "      <td>0</td>\n",
       "      <td>0</td>\n",
       "      <td>0</td>\n",
       "      <td>0</td>\n",
       "    </tr>\n",
       "    <tr>\n",
       "      <th>134981</th>\n",
       "      <td>2000</td>\n",
       "      <td>False</td>\n",
       "      <td>118</td>\n",
       "      <td>150000</td>\n",
       "      <td>6</td>\n",
       "      <td>False</td>\n",
       "      <td>3</td>\n",
       "      <td>0</td>\n",
       "      <td>0</td>\n",
       "      <td>0</td>\n",
       "      <td>...</td>\n",
       "      <td>0</td>\n",
       "      <td>0</td>\n",
       "      <td>0</td>\n",
       "      <td>0</td>\n",
       "      <td>0</td>\n",
       "      <td>0</td>\n",
       "      <td>0</td>\n",
       "      <td>0</td>\n",
       "      <td>0</td>\n",
       "      <td>0</td>\n",
       "    </tr>\n",
       "    <tr>\n",
       "      <th>94337</th>\n",
       "      <td>2009</td>\n",
       "      <td>False</td>\n",
       "      <td>67</td>\n",
       "      <td>90000</td>\n",
       "      <td>5</td>\n",
       "      <td>False</td>\n",
       "      <td>4</td>\n",
       "      <td>0</td>\n",
       "      <td>0</td>\n",
       "      <td>0</td>\n",
       "      <td>...</td>\n",
       "      <td>0</td>\n",
       "      <td>0</td>\n",
       "      <td>0</td>\n",
       "      <td>0</td>\n",
       "      <td>0</td>\n",
       "      <td>0</td>\n",
       "      <td>0</td>\n",
       "      <td>0</td>\n",
       "      <td>0</td>\n",
       "      <td>0</td>\n",
       "    </tr>\n",
       "    <tr>\n",
       "      <th>212915</th>\n",
       "      <td>2007</td>\n",
       "      <td>False</td>\n",
       "      <td>109</td>\n",
       "      <td>150000</td>\n",
       "      <td>9</td>\n",
       "      <td>False</td>\n",
       "      <td>4</td>\n",
       "      <td>0</td>\n",
       "      <td>0</td>\n",
       "      <td>0</td>\n",
       "      <td>...</td>\n",
       "      <td>0</td>\n",
       "      <td>0</td>\n",
       "      <td>0</td>\n",
       "      <td>0</td>\n",
       "      <td>0</td>\n",
       "      <td>0</td>\n",
       "      <td>0</td>\n",
       "      <td>0</td>\n",
       "      <td>0</td>\n",
       "      <td>0</td>\n",
       "    </tr>\n",
       "    <tr>\n",
       "      <th>348092</th>\n",
       "      <td>2001</td>\n",
       "      <td>False</td>\n",
       "      <td>131</td>\n",
       "      <td>90000</td>\n",
       "      <td>10</td>\n",
       "      <td>False</td>\n",
       "      <td>4</td>\n",
       "      <td>1</td>\n",
       "      <td>0</td>\n",
       "      <td>0</td>\n",
       "      <td>...</td>\n",
       "      <td>0</td>\n",
       "      <td>0</td>\n",
       "      <td>0</td>\n",
       "      <td>0</td>\n",
       "      <td>0</td>\n",
       "      <td>0</td>\n",
       "      <td>0</td>\n",
       "      <td>0</td>\n",
       "      <td>0</td>\n",
       "      <td>0</td>\n",
       "    </tr>\n",
       "    <tr>\n",
       "      <th>...</th>\n",
       "      <td>...</td>\n",
       "      <td>...</td>\n",
       "      <td>...</td>\n",
       "      <td>...</td>\n",
       "      <td>...</td>\n",
       "      <td>...</td>\n",
       "      <td>...</td>\n",
       "      <td>...</td>\n",
       "      <td>...</td>\n",
       "      <td>...</td>\n",
       "      <td>...</td>\n",
       "      <td>...</td>\n",
       "      <td>...</td>\n",
       "      <td>...</td>\n",
       "      <td>...</td>\n",
       "      <td>...</td>\n",
       "      <td>...</td>\n",
       "      <td>...</td>\n",
       "      <td>...</td>\n",
       "      <td>...</td>\n",
       "      <td>...</td>\n",
       "    </tr>\n",
       "    <tr>\n",
       "      <th>172684</th>\n",
       "      <td>1997</td>\n",
       "      <td>True</td>\n",
       "      <td>150</td>\n",
       "      <td>150000</td>\n",
       "      <td>5</td>\n",
       "      <td>False</td>\n",
       "      <td>3</td>\n",
       "      <td>0</td>\n",
       "      <td>0</td>\n",
       "      <td>0</td>\n",
       "      <td>...</td>\n",
       "      <td>0</td>\n",
       "      <td>0</td>\n",
       "      <td>0</td>\n",
       "      <td>0</td>\n",
       "      <td>1</td>\n",
       "      <td>0</td>\n",
       "      <td>0</td>\n",
       "      <td>0</td>\n",
       "      <td>0</td>\n",
       "      <td>0</td>\n",
       "    </tr>\n",
       "    <tr>\n",
       "      <th>36166</th>\n",
       "      <td>2006</td>\n",
       "      <td>False</td>\n",
       "      <td>200</td>\n",
       "      <td>30000</td>\n",
       "      <td>9</td>\n",
       "      <td>False</td>\n",
       "      <td>4</td>\n",
       "      <td>0</td>\n",
       "      <td>0</td>\n",
       "      <td>0</td>\n",
       "      <td>...</td>\n",
       "      <td>0</td>\n",
       "      <td>1</td>\n",
       "      <td>0</td>\n",
       "      <td>0</td>\n",
       "      <td>0</td>\n",
       "      <td>0</td>\n",
       "      <td>0</td>\n",
       "      <td>0</td>\n",
       "      <td>0</td>\n",
       "      <td>0</td>\n",
       "    </tr>\n",
       "    <tr>\n",
       "      <th>176888</th>\n",
       "      <td>1991</td>\n",
       "      <td>False</td>\n",
       "      <td>75</td>\n",
       "      <td>150000</td>\n",
       "      <td>10</td>\n",
       "      <td>False</td>\n",
       "      <td>3</td>\n",
       "      <td>0</td>\n",
       "      <td>0</td>\n",
       "      <td>0</td>\n",
       "      <td>...</td>\n",
       "      <td>0</td>\n",
       "      <td>0</td>\n",
       "      <td>0</td>\n",
       "      <td>0</td>\n",
       "      <td>1</td>\n",
       "      <td>0</td>\n",
       "      <td>0</td>\n",
       "      <td>0</td>\n",
       "      <td>0</td>\n",
       "      <td>0</td>\n",
       "    </tr>\n",
       "    <tr>\n",
       "      <th>116128</th>\n",
       "      <td>1999</td>\n",
       "      <td>False</td>\n",
       "      <td>75</td>\n",
       "      <td>150000</td>\n",
       "      <td>12</td>\n",
       "      <td>False</td>\n",
       "      <td>3</td>\n",
       "      <td>0</td>\n",
       "      <td>0</td>\n",
       "      <td>0</td>\n",
       "      <td>...</td>\n",
       "      <td>1</td>\n",
       "      <td>0</td>\n",
       "      <td>0</td>\n",
       "      <td>0</td>\n",
       "      <td>0</td>\n",
       "      <td>0</td>\n",
       "      <td>0</td>\n",
       "      <td>0</td>\n",
       "      <td>0</td>\n",
       "      <td>0</td>\n",
       "    </tr>\n",
       "    <tr>\n",
       "      <th>86121</th>\n",
       "      <td>2006</td>\n",
       "      <td>False</td>\n",
       "      <td>116</td>\n",
       "      <td>90000</td>\n",
       "      <td>5</td>\n",
       "      <td>False</td>\n",
       "      <td>4</td>\n",
       "      <td>0</td>\n",
       "      <td>0</td>\n",
       "      <td>0</td>\n",
       "      <td>...</td>\n",
       "      <td>0</td>\n",
       "      <td>0</td>\n",
       "      <td>0</td>\n",
       "      <td>0</td>\n",
       "      <td>0</td>\n",
       "      <td>0</td>\n",
       "      <td>0</td>\n",
       "      <td>0</td>\n",
       "      <td>0</td>\n",
       "      <td>0</td>\n",
       "    </tr>\n",
       "  </tbody>\n",
       "</table>\n",
       "<p>203092 rows × 308 columns</p>\n",
       "</div>"
      ],
      "text/plain": [
       "        registration_year  gearbox  power  kilometer  registration_month  \\\n",
       "184496               2007    False    110     150000                   3   \n",
       "134981               2000    False    118     150000                   6   \n",
       "94337                2009    False     67      90000                   5   \n",
       "212915               2007    False    109     150000                   9   \n",
       "348092               2001    False    131      90000                  10   \n",
       "...                   ...      ...    ...        ...                 ...   \n",
       "172684               1997     True    150     150000                   5   \n",
       "36166                2006    False    200      30000                   9   \n",
       "176888               1991    False     75     150000                  10   \n",
       "116128               1999    False     75     150000                  12   \n",
       "86121                2006    False    116      90000                   5   \n",
       "\n",
       "        repaired  age_class  0  1  2  ...  291  292  293  294  295  296  297  \\\n",
       "184496     False          4  0  0  0  ...    0    0    0    0    0    0    0   \n",
       "134981     False          3  0  0  0  ...    0    0    0    0    0    0    0   \n",
       "94337      False          4  0  0  0  ...    0    0    0    0    0    0    0   \n",
       "212915     False          4  0  0  0  ...    0    0    0    0    0    0    0   \n",
       "348092     False          4  1  0  0  ...    0    0    0    0    0    0    0   \n",
       "...          ...        ... .. .. ..  ...  ...  ...  ...  ...  ...  ...  ...   \n",
       "172684     False          3  0  0  0  ...    0    0    0    0    1    0    0   \n",
       "36166      False          4  0  0  0  ...    0    1    0    0    0    0    0   \n",
       "176888     False          3  0  0  0  ...    0    0    0    0    1    0    0   \n",
       "116128     False          3  0  0  0  ...    1    0    0    0    0    0    0   \n",
       "86121      False          4  0  0  0  ...    0    0    0    0    0    0    0   \n",
       "\n",
       "        298  299  300  \n",
       "184496    0    0    0  \n",
       "134981    0    0    0  \n",
       "94337     0    0    0  \n",
       "212915    0    0    0  \n",
       "348092    0    0    0  \n",
       "...     ...  ...  ...  \n",
       "172684    0    0    0  \n",
       "36166     0    0    0  \n",
       "176888    0    0    0  \n",
       "116128    0    0    0  \n",
       "86121     0    0    0  \n",
       "\n",
       "[203092 rows x 308 columns]"
      ]
     },
     "execution_count": 56,
     "metadata": {},
     "output_type": "execute_result"
    }
   ],
   "source": [
    "ohe_features_train"
   ]
  },
  {
   "cell_type": "code",
   "execution_count": 57,
   "metadata": {},
   "outputs": [],
   "source": [
    "del OH_cols_train \n",
    "del OH_cols_valid \n",
    "del numeric_X_train \n",
    "del numeric_X_valid "
   ]
  },
  {
   "attachments": {},
   "cell_type": "markdown",
   "metadata": {},
   "source": [
    "### Линейная регрессия"
   ]
  },
  {
   "cell_type": "code",
   "execution_count": 270,
   "metadata": {},
   "outputs": [
    {
     "name": "stdout",
     "output_type": "stream",
     "text": [
      "CPU times: user 1min 15s, sys: 33 s, total: 1min 48s\n",
      "Wall time: 1min 49s\n"
     ]
    }
   ],
   "source": [
    "%%time\n",
    "model = LinearRegression()\n",
    "LR_dict = (cross_validate(model, \n",
    "                          ohe_features_train, \n",
    "                          ohe_target_train, \n",
    "                          cv=5, \n",
    "                          scoring='neg_root_mean_squared_error'))"
   ]
  },
  {
   "cell_type": "code",
   "execution_count": 271,
   "metadata": {},
   "outputs": [
    {
     "data": {
      "text/plain": [
       "{'fit_time': array([20.65354991, 23.08478546, 19.19319773, 22.1973691 , 18.90155864]),\n",
       " 'score_time': array([1.7169826 , 1.00129557, 1.0000453 , 0.84149933, 0.84641886]),\n",
       " 'test_score': array([-2344.27388163, -2325.42546332, -2344.56404483, -2338.89676064,\n",
       "        -2311.92214188])}"
      ]
     },
     "execution_count": 271,
     "metadata": {},
     "output_type": "execute_result"
    }
   ],
   "source": [
    "LR_dict"
   ]
  },
  {
   "cell_type": "code",
   "execution_count": 272,
   "metadata": {},
   "outputs": [],
   "source": [
    "RMSE_LR = LR_dict['test_score'].mean()*-1\n",
    "fit_time_LR = LR_dict['fit_time'].mean()\n",
    "score_time_LR = LR_dict['score_time'].mean()"
   ]
  },
  {
   "attachments": {},
   "cell_type": "markdown",
   "metadata": {},
   "source": [
    "### Ridge"
   ]
  },
  {
   "cell_type": "code",
   "execution_count": 274,
   "metadata": {},
   "outputs": [],
   "source": [
    "model = Ridge()\n",
    "ridge_dict = (cross_validate(model, \n",
    "                          ohe_features_train, \n",
    "                          ohe_target_train, \n",
    "                          cv=5, \n",
    "                          scoring='neg_root_mean_squared_error'))"
   ]
  },
  {
   "cell_type": "code",
   "execution_count": 275,
   "metadata": {},
   "outputs": [
    {
     "data": {
      "text/plain": [
       "{'fit_time': array([4.7707026 , 5.26922035, 4.96884561, 4.68658185, 5.18354487]),\n",
       " 'score_time': array([1.02847028, 1.03348827, 1.01443887, 1.00528288, 1.01916265]),\n",
       " 'test_score': array([-2344.05131936, -2325.24303334, -2344.35648683, -2338.97596886,\n",
       "        -2311.71773962])}"
      ]
     },
     "execution_count": 275,
     "metadata": {},
     "output_type": "execute_result"
    }
   ],
   "source": [
    "ridge_dict"
   ]
  },
  {
   "cell_type": "code",
   "execution_count": 276,
   "metadata": {},
   "outputs": [],
   "source": [
    "RMSE_ridge = ridge_dict['test_score'].mean()*-1\n",
    "fit_time_ridge = ridge_dict['fit_time'].mean()\n",
    "score_time_ridge = ridge_dict['score_time'].mean()"
   ]
  },
  {
   "attachments": {},
   "cell_type": "markdown",
   "metadata": {},
   "source": [
    "### DecisionTreeRegressor"
   ]
  },
  {
   "cell_type": "code",
   "execution_count": 277,
   "metadata": {},
   "outputs": [
    {
     "name": "stdout",
     "output_type": "stream",
     "text": [
      "2698.33 for {'max_depth': 5, 'max_features': 'log2', 'min_samples_leaf': 1}\n",
      "2593.81 for {'max_depth': 5, 'max_features': 'log2', 'min_samples_leaf': 2}\n",
      "2624.13 for {'max_depth': 5, 'max_features': 'log2', 'min_samples_leaf': 3}\n",
      "2555.25 for {'max_depth': 5, 'max_features': 'sqrt', 'min_samples_leaf': 1}\n",
      "2781.57 for {'max_depth': 5, 'max_features': 'sqrt', 'min_samples_leaf': 2}\n",
      "2507.12 for {'max_depth': 5, 'max_features': 'sqrt', 'min_samples_leaf': 3}\n",
      "2301.27 for {'max_depth': 7, 'max_features': 'log2', 'min_samples_leaf': 1}\n",
      "2281.62 for {'max_depth': 7, 'max_features': 'log2', 'min_samples_leaf': 2}\n",
      "2301.60 for {'max_depth': 7, 'max_features': 'log2', 'min_samples_leaf': 3}\n",
      "2233.19 for {'max_depth': 7, 'max_features': 'sqrt', 'min_samples_leaf': 1}\n",
      "2254.53 for {'max_depth': 7, 'max_features': 'sqrt', 'min_samples_leaf': 2}\n",
      "2390.55 for {'max_depth': 7, 'max_features': 'sqrt', 'min_samples_leaf': 3}\n",
      "2171.34 for {'max_depth': 9, 'max_features': 'log2', 'min_samples_leaf': 1}\n",
      "2102.62 for {'max_depth': 9, 'max_features': 'log2', 'min_samples_leaf': 2}\n",
      "2137.74 for {'max_depth': 9, 'max_features': 'log2', 'min_samples_leaf': 3}\n",
      "2055.74 for {'max_depth': 9, 'max_features': 'sqrt', 'min_samples_leaf': 1}\n",
      "2083.82 for {'max_depth': 9, 'max_features': 'sqrt', 'min_samples_leaf': 2}\n",
      "2196.46 for {'max_depth': 9, 'max_features': 'sqrt', 'min_samples_leaf': 3}\n",
      "Лучшие параметры:\n",
      "{'max_depth': 9, 'max_features': 'sqrt', 'min_samples_leaf': 1}\n",
      "CPU times: user 20.7 s, sys: 1.23 s, total: 22 s\n",
      "Wall time: 22 s\n"
     ]
    }
   ],
   "source": [
    "%%time\n",
    "param_grid = { \n",
    "    'max_features': ['log2', 'sqrt'],\n",
    "    'max_depth' : [5, 7, 9], \n",
    "    \"min_samples_leaf\":[1,2,3],\n",
    "}\n",
    "model = DecisionTreeRegressor()\n",
    "CV_dtr = GridSearchCV(estimator=model, param_grid=param_grid, cv= 5, scoring='neg_root_mean_squared_error')\n",
    "CV_dtr.fit(oe_features_train, oe_target_train)\n",
    "means = CV_dtr.cv_results_['mean_test_score']\n",
    "for mean, params in zip(means, CV_dtr.cv_results_['params']):\n",
    "    print(\"%0.2f for %r\"% ((mean*-1), params))\n",
    "print(\"Лучшие параметры:\")\n",
    "print(CV_dtr.best_params_)"
   ]
  },
  {
   "cell_type": "code",
   "execution_count": 278,
   "metadata": {},
   "outputs": [
    {
     "data": {
      "text/html": [
       "<div>\n",
       "<style scoped>\n",
       "    .dataframe tbody tr th:only-of-type {\n",
       "        vertical-align: middle;\n",
       "    }\n",
       "\n",
       "    .dataframe tbody tr th {\n",
       "        vertical-align: top;\n",
       "    }\n",
       "\n",
       "    .dataframe thead th {\n",
       "        text-align: right;\n",
       "    }\n",
       "</style>\n",
       "<table border=\"1\" class=\"dataframe\">\n",
       "  <thead>\n",
       "    <tr style=\"text-align: right;\">\n",
       "      <th></th>\n",
       "      <th>mean_fit_time</th>\n",
       "      <th>std_fit_time</th>\n",
       "      <th>mean_score_time</th>\n",
       "      <th>std_score_time</th>\n",
       "      <th>param_max_depth</th>\n",
       "      <th>param_max_features</th>\n",
       "      <th>param_min_samples_leaf</th>\n",
       "      <th>params</th>\n",
       "      <th>split0_test_score</th>\n",
       "      <th>split1_test_score</th>\n",
       "      <th>split2_test_score</th>\n",
       "      <th>split3_test_score</th>\n",
       "      <th>split4_test_score</th>\n",
       "      <th>mean_test_score</th>\n",
       "      <th>std_test_score</th>\n",
       "      <th>rank_test_score</th>\n",
       "    </tr>\n",
       "  </thead>\n",
       "  <tbody>\n",
       "    <tr>\n",
       "      <th>15</th>\n",
       "      <td>0.220666</td>\n",
       "      <td>0.00391</td>\n",
       "      <td>0.030074</td>\n",
       "      <td>0.000379</td>\n",
       "      <td>9</td>\n",
       "      <td>sqrt</td>\n",
       "      <td>1</td>\n",
       "      <td>{'max_depth': 9, 'max_features': 'sqrt', 'min_...</td>\n",
       "      <td>-2026.077283</td>\n",
       "      <td>-2010.940805</td>\n",
       "      <td>-2192.190471</td>\n",
       "      <td>-1988.341044</td>\n",
       "      <td>-2061.15422</td>\n",
       "      <td>-2055.740765</td>\n",
       "      <td>72.218431</td>\n",
       "      <td>1</td>\n",
       "    </tr>\n",
       "  </tbody>\n",
       "</table>\n",
       "</div>"
      ],
      "text/plain": [
       "    mean_fit_time  std_fit_time  mean_score_time  std_score_time  \\\n",
       "15       0.220666       0.00391         0.030074        0.000379   \n",
       "\n",
       "   param_max_depth param_max_features param_min_samples_leaf  \\\n",
       "15               9               sqrt                      1   \n",
       "\n",
       "                                               params  split0_test_score  \\\n",
       "15  {'max_depth': 9, 'max_features': 'sqrt', 'min_...       -2026.077283   \n",
       "\n",
       "    split1_test_score  split2_test_score  split3_test_score  \\\n",
       "15       -2010.940805       -2192.190471       -1988.341044   \n",
       "\n",
       "    split4_test_score  mean_test_score  std_test_score  rank_test_score  \n",
       "15        -2061.15422     -2055.740765       72.218431                1  "
      ]
     },
     "execution_count": 278,
     "metadata": {},
     "output_type": "execute_result"
    }
   ],
   "source": [
    "results_dtr = pd.DataFrame(CV_dtr.cv_results_)\n",
    "results_dtr.sort_values(by='rank_test_score').head(1)"
   ]
  },
  {
   "attachments": {},
   "cell_type": "markdown",
   "metadata": {},
   "source": [
    "### RandomForestRegressor"
   ]
  },
  {
   "cell_type": "code",
   "execution_count": 279,
   "metadata": {},
   "outputs": [
    {
     "name": "stdout",
     "output_type": "stream",
     "text": [
      "2160.66 for {'max_depth': 5, 'n_estimators': 20}\n",
      "2158.95 for {'max_depth': 5, 'n_estimators': 40}\n",
      "1915.52 for {'max_depth': 7, 'n_estimators': 20}\n",
      "1915.81 for {'max_depth': 7, 'n_estimators': 40}\n",
      "1762.48 for {'max_depth': 9, 'n_estimators': 20}\n",
      "1758.99 for {'max_depth': 9, 'n_estimators': 40}\n",
      "Лучшие параметры:\n",
      "{'max_depth': 9, 'n_estimators': 40}\n",
      "CPU times: user 3min 4s, sys: 1.76 s, total: 3min 6s\n",
      "Wall time: 3min 6s\n"
     ]
    }
   ],
   "source": [
    "%%time\n",
    "param_grid = { \n",
    "    'n_estimators': [20, 40],\n",
    "    'max_depth' : [5, 7, 9], \n",
    "}\n",
    "model = RandomForestRegressor()\n",
    "CV_rfc = GridSearchCV(estimator=model, param_grid=param_grid, cv= 5, scoring='neg_root_mean_squared_error')\n",
    "CV_rfc.fit(oe_features_train, oe_target_train)\n",
    "means = CV_rfc.cv_results_['mean_test_score']\n",
    "for mean,params in zip(means, CV_rfc.cv_results_['params']):\n",
    "    print(\"%0.2f for %r\"% ((mean*-1), params))\n",
    "print(\"Лучшие параметры:\")\n",
    "print(CV_rfc.best_params_)"
   ]
  },
  {
   "cell_type": "code",
   "execution_count": 280,
   "metadata": {},
   "outputs": [
    {
     "data": {
      "text/html": [
       "<div>\n",
       "<style scoped>\n",
       "    .dataframe tbody tr th:only-of-type {\n",
       "        vertical-align: middle;\n",
       "    }\n",
       "\n",
       "    .dataframe tbody tr th {\n",
       "        vertical-align: top;\n",
       "    }\n",
       "\n",
       "    .dataframe thead th {\n",
       "        text-align: right;\n",
       "    }\n",
       "</style>\n",
       "<table border=\"1\" class=\"dataframe\">\n",
       "  <thead>\n",
       "    <tr style=\"text-align: right;\">\n",
       "      <th></th>\n",
       "      <th>mean_fit_time</th>\n",
       "      <th>std_fit_time</th>\n",
       "      <th>mean_score_time</th>\n",
       "      <th>std_score_time</th>\n",
       "      <th>param_max_depth</th>\n",
       "      <th>param_n_estimators</th>\n",
       "      <th>params</th>\n",
       "      <th>split0_test_score</th>\n",
       "      <th>split1_test_score</th>\n",
       "      <th>split2_test_score</th>\n",
       "      <th>split3_test_score</th>\n",
       "      <th>split4_test_score</th>\n",
       "      <th>mean_test_score</th>\n",
       "      <th>std_test_score</th>\n",
       "      <th>rank_test_score</th>\n",
       "    </tr>\n",
       "  </thead>\n",
       "  <tbody>\n",
       "    <tr>\n",
       "      <th>5</th>\n",
       "      <td>9.260593</td>\n",
       "      <td>0.114518</td>\n",
       "      <td>0.150554</td>\n",
       "      <td>0.002886</td>\n",
       "      <td>9</td>\n",
       "      <td>40</td>\n",
       "      <td>{'max_depth': 9, 'n_estimators': 40}</td>\n",
       "      <td>-1752.896247</td>\n",
       "      <td>-1767.047752</td>\n",
       "      <td>-1757.506938</td>\n",
       "      <td>-1766.034768</td>\n",
       "      <td>-1751.477712</td>\n",
       "      <td>-1758.992683</td>\n",
       "      <td>6.485736</td>\n",
       "      <td>1</td>\n",
       "    </tr>\n",
       "  </tbody>\n",
       "</table>\n",
       "</div>"
      ],
      "text/plain": [
       "   mean_fit_time  std_fit_time  mean_score_time  std_score_time  \\\n",
       "5       9.260593      0.114518         0.150554        0.002886   \n",
       "\n",
       "  param_max_depth param_n_estimators                                params  \\\n",
       "5               9                 40  {'max_depth': 9, 'n_estimators': 40}   \n",
       "\n",
       "   split0_test_score  split1_test_score  split2_test_score  split3_test_score  \\\n",
       "5       -1752.896247       -1767.047752       -1757.506938       -1766.034768   \n",
       "\n",
       "   split4_test_score  mean_test_score  std_test_score  rank_test_score  \n",
       "5       -1751.477712     -1758.992683        6.485736                1  "
      ]
     },
     "execution_count": 280,
     "metadata": {},
     "output_type": "execute_result"
    }
   ],
   "source": [
    "results_rfc = pd.DataFrame(CV_rfc.cv_results_)\n",
    "results_rfc.sort_values(by='rank_test_score').head(1)"
   ]
  },
  {
   "attachments": {},
   "cell_type": "markdown",
   "metadata": {},
   "source": [
    "### LGBMRegressor"
   ]
  },
  {
   "cell_type": "code",
   "execution_count": 281,
   "metadata": {},
   "outputs": [],
   "source": [
    "features_train[categorical_columns] = features_train[categorical_columns].astype('category')"
   ]
  },
  {
   "cell_type": "code",
   "execution_count": 282,
   "metadata": {},
   "outputs": [
    {
     "name": "stdout",
     "output_type": "stream",
     "text": [
      "<class 'pandas.core.frame.DataFrame'>\n",
      "Int64Index: 203092 entries, 184496 to 86121\n",
      "Data columns (total 11 columns):\n",
      " #   Column              Non-Null Count   Dtype   \n",
      "---  ------              --------------   -----   \n",
      " 0   vehicle_type        203092 non-null  category\n",
      " 1   registration_year   203092 non-null  int16   \n",
      " 2   gearbox             203092 non-null  bool    \n",
      " 3   power               203092 non-null  int16   \n",
      " 4   model               203092 non-null  category\n",
      " 5   kilometer           203092 non-null  int32   \n",
      " 6   registration_month  203092 non-null  int8    \n",
      " 7   fuel_type           203092 non-null  category\n",
      " 8   brand               203092 non-null  category\n",
      " 9   repaired            203092 non-null  bool    \n",
      " 10  age_class           203092 non-null  int64   \n",
      "dtypes: bool(2), category(4), int16(2), int32(1), int64(1), int8(1)\n",
      "memory usage: 6.2 MB\n"
     ]
    }
   ],
   "source": [
    "features_train.info()"
   ]
  },
  {
   "cell_type": "code",
   "execution_count": 283,
   "metadata": {},
   "outputs": [
    {
     "name": "stdout",
     "output_type": "stream",
     "text": [
      "1487.69 for {'learning_rate': 0.1, 'num_leaves': 21}\n",
      "1465.46 for {'learning_rate': 0.1, 'num_leaves': 31}\n",
      "1451.59 for {'learning_rate': 0.1, 'num_leaves': 41}\n",
      "1458.24 for {'learning_rate': 0.3, 'num_leaves': 21}\n",
      "1446.22 for {'learning_rate': 0.3, 'num_leaves': 31}\n",
      "1434.36 for {'learning_rate': 0.3, 'num_leaves': 41}\n",
      "1467.53 for {'learning_rate': 0.5, 'num_leaves': 21}\n",
      "1458.70 for {'learning_rate': 0.5, 'num_leaves': 31}\n",
      "1454.20 for {'learning_rate': 0.5, 'num_leaves': 41}\n",
      "Лучшие параметры:\n",
      "{'learning_rate': 0.3, 'num_leaves': 41}\n",
      "CPU times: user 5min 5s, sys: 0 ns, total: 5min 5s\n",
      "Wall time: 5min 10s\n"
     ]
    }
   ],
   "source": [
    "%%time\n",
    "\n",
    "regressor = LGBMRegressor() \n",
    "hyperparams = [{'learning_rate':[0.1, 0.3, 0.5],\n",
    "               'num_leaves': [21, 31, 41]}]\n",
    "clf = GridSearchCV(regressor, hyperparams, scoring='neg_root_mean_squared_error')\n",
    "clf.fit(features_train, target_train)\n",
    "means = clf.cv_results_['mean_test_score']\n",
    "for mean, params in zip(means, clf.cv_results_['params']):\n",
    "    print(\"%0.2f for %r\"% ((mean*-1), params))\n",
    "print(\"Лучшие параметры:\")\n",
    "print(clf.best_params_)"
   ]
  },
  {
   "cell_type": "code",
   "execution_count": 284,
   "metadata": {},
   "outputs": [
    {
     "data": {
      "text/html": [
       "<div>\n",
       "<style scoped>\n",
       "    .dataframe tbody tr th:only-of-type {\n",
       "        vertical-align: middle;\n",
       "    }\n",
       "\n",
       "    .dataframe tbody tr th {\n",
       "        vertical-align: top;\n",
       "    }\n",
       "\n",
       "    .dataframe thead th {\n",
       "        text-align: right;\n",
       "    }\n",
       "</style>\n",
       "<table border=\"1\" class=\"dataframe\">\n",
       "  <thead>\n",
       "    <tr style=\"text-align: right;\">\n",
       "      <th></th>\n",
       "      <th>mean_fit_time</th>\n",
       "      <th>std_fit_time</th>\n",
       "      <th>mean_score_time</th>\n",
       "      <th>std_score_time</th>\n",
       "      <th>param_learning_rate</th>\n",
       "      <th>param_num_leaves</th>\n",
       "      <th>params</th>\n",
       "      <th>split0_test_score</th>\n",
       "      <th>split1_test_score</th>\n",
       "      <th>split2_test_score</th>\n",
       "      <th>split3_test_score</th>\n",
       "      <th>split4_test_score</th>\n",
       "      <th>mean_test_score</th>\n",
       "      <th>std_test_score</th>\n",
       "      <th>rank_test_score</th>\n",
       "    </tr>\n",
       "  </thead>\n",
       "  <tbody>\n",
       "    <tr>\n",
       "      <th>5</th>\n",
       "      <td>5.43609</td>\n",
       "      <td>0.711799</td>\n",
       "      <td>0.365222</td>\n",
       "      <td>0.045253</td>\n",
       "      <td>0.3</td>\n",
       "      <td>41</td>\n",
       "      <td>{'learning_rate': 0.3, 'num_leaves': 41}</td>\n",
       "      <td>-1425.021392</td>\n",
       "      <td>-1444.623753</td>\n",
       "      <td>-1439.944235</td>\n",
       "      <td>-1441.369815</td>\n",
       "      <td>-1420.848421</td>\n",
       "      <td>-1434.361523</td>\n",
       "      <td>9.543984</td>\n",
       "      <td>1</td>\n",
       "    </tr>\n",
       "  </tbody>\n",
       "</table>\n",
       "</div>"
      ],
      "text/plain": [
       "   mean_fit_time  std_fit_time  mean_score_time  std_score_time  \\\n",
       "5        5.43609      0.711799         0.365222        0.045253   \n",
       "\n",
       "  param_learning_rate param_num_leaves  \\\n",
       "5                 0.3               41   \n",
       "\n",
       "                                     params  split0_test_score  \\\n",
       "5  {'learning_rate': 0.3, 'num_leaves': 41}       -1425.021392   \n",
       "\n",
       "   split1_test_score  split2_test_score  split3_test_score  split4_test_score  \\\n",
       "5       -1444.623753       -1439.944235       -1441.369815       -1420.848421   \n",
       "\n",
       "   mean_test_score  std_test_score  rank_test_score  \n",
       "5     -1434.361523        9.543984                1  "
      ]
     },
     "execution_count": 284,
     "metadata": {},
     "output_type": "execute_result"
    }
   ],
   "source": [
    "results_LGBM = pd.DataFrame(clf.cv_results_)\n",
    "results_LGBM.sort_values(by='rank_test_score').head(1)"
   ]
  },
  {
   "attachments": {},
   "cell_type": "markdown",
   "metadata": {},
   "source": [
    "### Вывод\n",
    "В данном пункте я обучи несколько моделей, а также потюнил их гиперпараметры. По метрике RMSE LGBMRegressor дал наилучшие реультаты среди всех моделей. Перейдем к анализу моделей."
   ]
  },
  {
   "attachments": {},
   "cell_type": "markdown",
   "metadata": {},
   "source": [
    "## Анализ моделей"
   ]
  },
  {
   "cell_type": "code",
   "execution_count": 291,
   "metadata": {},
   "outputs": [
    {
     "data": {
      "text/html": [
       "<div>\n",
       "<style scoped>\n",
       "    .dataframe tbody tr th:only-of-type {\n",
       "        vertical-align: middle;\n",
       "    }\n",
       "\n",
       "    .dataframe tbody tr th {\n",
       "        vertical-align: top;\n",
       "    }\n",
       "\n",
       "    .dataframe thead th {\n",
       "        text-align: right;\n",
       "    }\n",
       "</style>\n",
       "<table border=\"1\" class=\"dataframe\">\n",
       "  <thead>\n",
       "    <tr style=\"text-align: right;\">\n",
       "      <th></th>\n",
       "      <th>RMSE модели на кросс-валидации</th>\n",
       "      <th>Время обучения модели, сек</th>\n",
       "      <th>Время предсказания модели, сек</th>\n",
       "    </tr>\n",
       "  </thead>\n",
       "  <tbody>\n",
       "    <tr>\n",
       "      <th>LinearRegression</th>\n",
       "      <td>2333.016458</td>\n",
       "      <td>20.806092</td>\n",
       "      <td>1.081248</td>\n",
       "    </tr>\n",
       "    <tr>\n",
       "      <th>Ridge</th>\n",
       "      <td>2332.868910</td>\n",
       "      <td>4.975779</td>\n",
       "      <td>1.020169</td>\n",
       "    </tr>\n",
       "    <tr>\n",
       "      <th>DecisionTreeRegressor</th>\n",
       "      <td>2055.740765</td>\n",
       "      <td>0.220000</td>\n",
       "      <td>0.030000</td>\n",
       "    </tr>\n",
       "    <tr>\n",
       "      <th>RandomForestRegressor</th>\n",
       "      <td>1758.992683</td>\n",
       "      <td>9.260000</td>\n",
       "      <td>0.150000</td>\n",
       "    </tr>\n",
       "    <tr>\n",
       "      <th>LGBMRegressor</th>\n",
       "      <td>1434.361523</td>\n",
       "      <td>5.436000</td>\n",
       "      <td>0.365000</td>\n",
       "    </tr>\n",
       "  </tbody>\n",
       "</table>\n",
       "</div>"
      ],
      "text/plain": [
       "                       RMSE модели на кросс-валидации  \\\n",
       "LinearRegression                          2333.016458   \n",
       "Ridge                                     2332.868910   \n",
       "DecisionTreeRegressor                     2055.740765   \n",
       "RandomForestRegressor                     1758.992683   \n",
       "LGBMRegressor                             1434.361523   \n",
       "\n",
       "                       Время обучения модели, сек  \\\n",
       "LinearRegression                        20.806092   \n",
       "Ridge                                    4.975779   \n",
       "DecisionTreeRegressor                    0.220000   \n",
       "RandomForestRegressor                    9.260000   \n",
       "LGBMRegressor                            5.436000   \n",
       "\n",
       "                       Время предсказания модели, сек  \n",
       "LinearRegression                             1.081248  \n",
       "Ridge                                        1.020169  \n",
       "DecisionTreeRegressor                        0.030000  \n",
       "RandomForestRegressor                        0.150000  \n",
       "LGBMRegressor                                0.365000  "
      ]
     },
     "execution_count": 291,
     "metadata": {},
     "output_type": "execute_result"
    }
   ],
   "source": [
    "index = ['LinearRegression',\n",
    "        'Ridge',\n",
    "        'DecisionTreeRegressor',\n",
    "        'RandomForestRegressor',\n",
    "        'LGBMRegressor'    \n",
    "        ]\n",
    "data = { \n",
    "    'RMSE модели на кросс-валидации':[RMSE_LR,\n",
    "                                       RMSE_ridge,\n",
    "                                       CV_dtr.best_score_*-1,\n",
    "                                       CV_rfc.best_score_*-1,\n",
    "                                       clf.best_score_*-1,],\n",
    "    'Время обучения модели, сек':[fit_time_LR,\n",
    "                                  fit_time_ridge,\n",
    "                                  0.220,\n",
    "                                  9.26,\n",
    "                                  5.436],\n",
    "    'Время предсказания модели, сек':[score_time_LR,\n",
    "                                      score_time_ridge,\n",
    "                                      0.03,\n",
    "                                      0.15,\n",
    "                                      0.365]\n",
    "}\n",
    "result = pd.DataFrame(data=data, index=index)\n",
    "result"
   ]
  },
  {
   "attachments": {},
   "cell_type": "markdown",
   "metadata": {},
   "source": [
    "### Вывод\n",
    "Анализ показал следующие результаты:\n",
    "1. По метрике RMSE наилучшим образом себя показал **LGBMRegressor**. RMSE = 1434.362, ондако эта модель сильно отстает по времени обучения и времени предсказания от лидера в этих категориях.\n",
    "2. По времени обучения и времени предсказания лидирует **DecisionTreeRegressor**. Время ее обучение и предсказния занимает всего 0.237 секунды! RMSE при этом остается в заданных для задачи рамках.\n",
    "\n",
    "Так как в данном проекте нет метрики, объединяющие в себе RMSE и время, то я как аналитик предложил бы использовать эти модели в зависимости от того что нужно: точность или быстрота.\n",
    "\n",
    " Однако так как мне необходимо выбрать одну модель я выберу **LGBMRegressor**, т. к. необходимо минимизировать RMSE, и проверю на тестовой выборке."
   ]
  },
  {
   "attachments": {},
   "cell_type": "markdown",
   "metadata": {},
   "source": [
    "## Тест модели"
   ]
  },
  {
   "cell_type": "code",
   "execution_count": 287,
   "metadata": {},
   "outputs": [],
   "source": [
    "features_test[categorical_columns] = features_test[categorical_columns].astype('category')"
   ]
  },
  {
   "cell_type": "code",
   "execution_count": 288,
   "metadata": {},
   "outputs": [
    {
     "name": "stdout",
     "output_type": "stream",
     "text": [
      "RMSE LGBMRegressor на тесте: 1429.7827382808478\n"
     ]
    }
   ],
   "source": [
    "print(\"RMSE LGBMRegressor на тесте:\",mean_squared_error(\n",
    "    target_test,clf.best_estimator_.predict(features_test),\n",
    "    squared=False))"
   ]
  },
  {
   "attachments": {},
   "cell_type": "markdown",
   "metadata": {},
   "source": [
    "## Общий вывод\n",
    "\n",
    "В ходе данного проекта были:\n",
    "1. Изучены данные, устранены аномалии и заполнены пропуски. Также датафрейм был оптимизирован для вычислений.\n",
    "2. Датасет был разбит на выборки с разными видами кодирования.Были обучены различные модели:\n",
    "- линейные \n",
    "- деревья\n",
    "- градиентный бустинг\n",
    "\n",
    "Для них были были отобраны наилучшие параметры при помощи Gridsearch.\n",
    "\n",
    "\n",
    "3. Были проанализированы метрики лучших моделей, а также время обучения и предсказания. Лучшими моделями оказались **DecisionTreeRegressor и DecisionTreeRegressor**\n",
    "\n",
    "\n",
    "4. Для финального теста по результатам я выбрал LGBMRegressor и значение **RMSE** на тесте = **1429.782**"
   ]
  },
  {
   "cell_type": "code",
   "execution_count": 292,
   "metadata": {
    "scrolled": true
   },
   "outputs": [
    {
     "data": {
      "text/html": [
       "<div>\n",
       "<style scoped>\n",
       "    .dataframe tbody tr th:only-of-type {\n",
       "        vertical-align: middle;\n",
       "    }\n",
       "\n",
       "    .dataframe tbody tr th {\n",
       "        vertical-align: top;\n",
       "    }\n",
       "\n",
       "    .dataframe thead th {\n",
       "        text-align: right;\n",
       "    }\n",
       "</style>\n",
       "<table border=\"1\" class=\"dataframe\">\n",
       "  <thead>\n",
       "    <tr style=\"text-align: right;\">\n",
       "      <th></th>\n",
       "      <th>RMSE модели на кросс-валидации</th>\n",
       "      <th>Время обучения модели, сек</th>\n",
       "      <th>Время предсказания модели, сек</th>\n",
       "    </tr>\n",
       "  </thead>\n",
       "  <tbody>\n",
       "    <tr>\n",
       "      <th>LGBMRegressor</th>\n",
       "      <td>1434.361523</td>\n",
       "      <td>5.436</td>\n",
       "      <td>0.365</td>\n",
       "    </tr>\n",
       "    <tr>\n",
       "      <th>DecisionTreeRegressor</th>\n",
       "      <td>2055.740765</td>\n",
       "      <td>0.220</td>\n",
       "      <td>0.030</td>\n",
       "    </tr>\n",
       "  </tbody>\n",
       "</table>\n",
       "</div>"
      ],
      "text/plain": [
       "                       RMSE модели на кросс-валидации  \\\n",
       "LGBMRegressor                             1434.361523   \n",
       "DecisionTreeRegressor                     2055.740765   \n",
       "\n",
       "                       Время обучения модели, сек  \\\n",
       "LGBMRegressor                               5.436   \n",
       "DecisionTreeRegressor                       0.220   \n",
       "\n",
       "                       Время предсказания модели, сек  \n",
       "LGBMRegressor                                   0.365  \n",
       "DecisionTreeRegressor                           0.030  "
      ]
     },
     "execution_count": 292,
     "metadata": {},
     "output_type": "execute_result"
    }
   ],
   "source": [
    "result.loc[['LGBMRegressor', 'DecisionTreeRegressor']]"
   ]
  },
  {
   "cell_type": "code",
   "execution_count": 290,
   "metadata": {},
   "outputs": [
    {
     "data": {
      "text/html": [
       "<div>\n",
       "<style scoped>\n",
       "    .dataframe tbody tr th:only-of-type {\n",
       "        vertical-align: middle;\n",
       "    }\n",
       "\n",
       "    .dataframe tbody tr th {\n",
       "        vertical-align: top;\n",
       "    }\n",
       "\n",
       "    .dataframe thead th {\n",
       "        text-align: right;\n",
       "    }\n",
       "</style>\n",
       "<table border=\"1\" class=\"dataframe\">\n",
       "  <thead>\n",
       "    <tr style=\"text-align: right;\">\n",
       "      <th></th>\n",
       "      <th>col_name</th>\n",
       "    </tr>\n",
       "  </thead>\n",
       "  <tbody>\n",
       "    <tr>\n",
       "      <th>registration_year</th>\n",
       "      <td>987</td>\n",
       "    </tr>\n",
       "    <tr>\n",
       "      <th>power</th>\n",
       "      <td>939</td>\n",
       "    </tr>\n",
       "    <tr>\n",
       "      <th>model</th>\n",
       "      <td>735</td>\n",
       "    </tr>\n",
       "    <tr>\n",
       "      <th>kilometer</th>\n",
       "      <td>384</td>\n",
       "    </tr>\n",
       "    <tr>\n",
       "      <th>registration_month</th>\n",
       "      <td>359</td>\n",
       "    </tr>\n",
       "    <tr>\n",
       "      <th>brand</th>\n",
       "      <td>254</td>\n",
       "    </tr>\n",
       "    <tr>\n",
       "      <th>vehicle_type</th>\n",
       "      <td>154</td>\n",
       "    </tr>\n",
       "    <tr>\n",
       "      <th>gearbox</th>\n",
       "      <td>69</td>\n",
       "    </tr>\n",
       "    <tr>\n",
       "      <th>fuel_type</th>\n",
       "      <td>62</td>\n",
       "    </tr>\n",
       "    <tr>\n",
       "      <th>repaired</th>\n",
       "      <td>57</td>\n",
       "    </tr>\n",
       "    <tr>\n",
       "      <th>age_class</th>\n",
       "      <td>0</td>\n",
       "    </tr>\n",
       "  </tbody>\n",
       "</table>\n",
       "</div>"
      ],
      "text/plain": [
       "                    col_name\n",
       "registration_year        987\n",
       "power                    939\n",
       "model                    735\n",
       "kilometer                384\n",
       "registration_month       359\n",
       "brand                    254\n",
       "vehicle_type             154\n",
       "gearbox                   69\n",
       "fuel_type                 62\n",
       "repaired                  57\n",
       "age_class                  0"
      ]
     },
     "execution_count": 290,
     "metadata": {},
     "output_type": "execute_result"
    }
   ],
   "source": [
    "pd.DataFrame({'col_name': clf.best_estimator_.feature_importances_}, \n",
    "             index=features_train.columns).sort_values(by='col_name', \n",
    "                                                       ascending=False)\n"
   ]
  },
  {
   "attachments": {},
   "cell_type": "markdown",
   "metadata": {},
   "source": [
    "Как можно видеть, больше всего влияет год регистрации, мощность и модель."
   ]
  }
 ],
 "metadata": {
  "ExecuteTimeLog": [
   {
    "duration": 379,
    "start_time": "2023-02-02T10:01:16.303Z"
   },
   {
    "duration": 940,
    "start_time": "2023-02-02T10:01:38.380Z"
   },
   {
    "duration": 697,
    "start_time": "2023-02-02T10:01:49.140Z"
   },
   {
    "duration": 103,
    "start_time": "2023-02-02T10:02:14.335Z"
   },
   {
    "duration": 94,
    "start_time": "2023-02-02T10:03:03.301Z"
   },
   {
    "duration": 52,
    "start_time": "2023-02-03T08:36:37.601Z"
   },
   {
    "duration": 401,
    "start_time": "2023-02-03T08:36:41.270Z"
   },
   {
    "duration": 1208,
    "start_time": "2023-02-03T08:36:41.674Z"
   },
   {
    "duration": 131,
    "start_time": "2023-02-03T08:36:42.884Z"
   },
   {
    "duration": 137,
    "start_time": "2023-02-03T08:36:43.017Z"
   },
   {
    "duration": 521,
    "start_time": "2023-02-03T08:36:43.156Z"
   },
   {
    "duration": 48,
    "start_time": "2023-02-03T10:30:04.282Z"
   },
   {
    "duration": 252,
    "start_time": "2023-02-03T10:30:18.991Z"
   },
   {
    "duration": 33,
    "start_time": "2023-02-03T10:30:40.518Z"
   },
   {
    "duration": 34,
    "start_time": "2023-02-03T10:32:28.826Z"
   },
   {
    "duration": 1218,
    "start_time": "2023-02-03T10:37:15.390Z"
   },
   {
    "duration": 3,
    "start_time": "2023-02-03T10:37:19.941Z"
   },
   {
    "duration": 913,
    "start_time": "2023-02-03T10:37:20.173Z"
   },
   {
    "duration": 214,
    "start_time": "2023-02-03T10:37:21.088Z"
   },
   {
    "duration": 150,
    "start_time": "2023-02-03T10:37:21.304Z"
   },
   {
    "duration": 951,
    "start_time": "2023-02-03T10:37:21.642Z"
   },
   {
    "duration": 1037,
    "start_time": "2023-02-03T10:37:28.539Z"
   },
   {
    "duration": 28,
    "start_time": "2023-02-03T10:39:43.480Z"
   },
   {
    "duration": 22,
    "start_time": "2023-02-03T10:39:50.674Z"
   },
   {
    "duration": 18,
    "start_time": "2023-02-03T10:39:52.411Z"
   },
   {
    "duration": 184,
    "start_time": "2023-02-03T10:40:56.525Z"
   },
   {
    "duration": 408,
    "start_time": "2023-02-03T10:41:06.240Z"
   },
   {
    "duration": 322,
    "start_time": "2023-02-03T10:41:24.522Z"
   },
   {
    "duration": 349,
    "start_time": "2023-02-03T10:41:30.953Z"
   },
   {
    "duration": 24,
    "start_time": "2023-02-03T10:44:36.174Z"
   },
   {
    "duration": 38,
    "start_time": "2023-02-03T10:44:43.452Z"
   },
   {
    "duration": 21,
    "start_time": "2023-02-03T10:44:52.127Z"
   },
   {
    "duration": 53,
    "start_time": "2023-02-03T10:45:01.374Z"
   },
   {
    "duration": 11,
    "start_time": "2023-02-03T10:45:09.587Z"
   },
   {
    "duration": 11,
    "start_time": "2023-02-03T10:45:50.629Z"
   },
   {
    "duration": 21,
    "start_time": "2023-02-03T10:45:54.578Z"
   },
   {
    "duration": 9,
    "start_time": "2023-02-03T10:48:27.181Z"
   },
   {
    "duration": 30,
    "start_time": "2023-02-03T10:55:06.375Z"
   },
   {
    "duration": 738,
    "start_time": "2023-02-03T10:57:49.358Z"
   },
   {
    "duration": 18,
    "start_time": "2023-02-03T10:58:10.428Z"
   },
   {
    "duration": 4,
    "start_time": "2023-02-03T11:00:28.669Z"
   },
   {
    "duration": 19,
    "start_time": "2023-02-03T11:01:02.529Z"
   },
   {
    "duration": 25,
    "start_time": "2023-02-03T11:01:31.557Z"
   },
   {
    "duration": 19,
    "start_time": "2023-02-03T11:01:35.520Z"
   },
   {
    "duration": 17,
    "start_time": "2023-02-03T11:01:52.720Z"
   },
   {
    "duration": 274,
    "start_time": "2023-02-03T11:02:13.461Z"
   },
   {
    "duration": 151,
    "start_time": "2023-02-03T11:02:19.847Z"
   },
   {
    "duration": 619,
    "start_time": "2023-02-03T11:03:26.194Z"
   },
   {
    "duration": 133,
    "start_time": "2023-02-03T11:03:46.459Z"
   },
   {
    "duration": 130,
    "start_time": "2023-02-03T11:04:08.584Z"
   },
   {
    "duration": 3,
    "start_time": "2023-02-03T11:04:35.109Z"
   },
   {
    "duration": 128,
    "start_time": "2023-02-03T11:04:38.765Z"
   },
   {
    "duration": 15,
    "start_time": "2023-02-03T11:04:58.198Z"
   },
   {
    "duration": 8,
    "start_time": "2023-02-03T11:07:25.396Z"
   },
   {
    "duration": 9,
    "start_time": "2023-02-03T11:07:34.481Z"
   },
   {
    "duration": 12,
    "start_time": "2023-02-03T11:11:02.462Z"
   },
   {
    "duration": 14,
    "start_time": "2023-02-03T11:11:05.660Z"
   },
   {
    "duration": 100,
    "start_time": "2023-02-03T11:15:23.116Z"
   },
   {
    "duration": 43,
    "start_time": "2023-02-03T11:15:32.988Z"
   },
   {
    "duration": 64,
    "start_time": "2023-02-03T11:16:01.129Z"
   },
   {
    "duration": 1675,
    "start_time": "2023-02-03T11:16:15.024Z"
   },
   {
    "duration": 356,
    "start_time": "2023-02-03T11:16:34.570Z"
   },
   {
    "duration": 18,
    "start_time": "2023-02-03T11:17:16.215Z"
   },
   {
    "duration": 11,
    "start_time": "2023-02-03T11:17:22.070Z"
   },
   {
    "duration": 11,
    "start_time": "2023-02-03T11:17:26.016Z"
   },
   {
    "duration": 26,
    "start_time": "2023-02-03T11:19:53.479Z"
   },
   {
    "duration": 8,
    "start_time": "2023-02-03T11:20:42.571Z"
   },
   {
    "duration": 48,
    "start_time": "2023-02-03T11:21:30.082Z"
   },
   {
    "duration": 10,
    "start_time": "2023-02-03T11:22:07.914Z"
   },
   {
    "duration": 7,
    "start_time": "2023-02-03T11:22:12.928Z"
   },
   {
    "duration": 15,
    "start_time": "2023-02-03T11:28:07.212Z"
   },
   {
    "duration": 56,
    "start_time": "2023-02-03T11:29:03.836Z"
   },
   {
    "duration": 16,
    "start_time": "2023-02-03T11:29:28.009Z"
   },
   {
    "duration": 31,
    "start_time": "2023-02-03T11:29:31.211Z"
   },
   {
    "duration": 6,
    "start_time": "2023-02-03T11:32:22.852Z"
   },
   {
    "duration": 948,
    "start_time": "2023-02-03T11:32:23.041Z"
   },
   {
    "duration": 151,
    "start_time": "2023-02-03T11:32:23.991Z"
   },
   {
    "duration": 161,
    "start_time": "2023-02-03T11:32:24.145Z"
   },
   {
    "duration": 1046,
    "start_time": "2023-02-03T11:32:24.309Z"
   },
   {
    "duration": 16,
    "start_time": "2023-02-03T11:32:25.359Z"
   },
   {
    "duration": 3,
    "start_time": "2023-02-03T11:32:25.376Z"
   },
   {
    "duration": 32,
    "start_time": "2023-02-03T11:32:25.508Z"
   },
   {
    "duration": 25,
    "start_time": "2023-02-03T11:32:26.269Z"
   },
   {
    "duration": 493,
    "start_time": "2023-02-03T11:32:30.418Z"
   },
   {
    "duration": 10,
    "start_time": "2023-02-03T11:32:31.128Z"
   },
   {
    "duration": 14,
    "start_time": "2023-02-03T11:32:31.396Z"
   },
   {
    "duration": 23,
    "start_time": "2023-02-03T11:32:32.277Z"
   },
   {
    "duration": 148,
    "start_time": "2023-02-03T11:32:34.147Z"
   },
   {
    "duration": 338,
    "start_time": "2023-02-03T11:32:50.634Z"
   },
   {
    "duration": 23,
    "start_time": "2023-02-03T11:32:51.625Z"
   },
   {
    "duration": 7,
    "start_time": "2023-02-03T11:32:55.465Z"
   },
   {
    "duration": 6,
    "start_time": "2023-02-03T11:32:56.982Z"
   },
   {
    "duration": 24,
    "start_time": "2023-02-03T11:33:05.740Z"
   },
   {
    "duration": 11,
    "start_time": "2023-02-03T11:33:51.256Z"
   },
   {
    "duration": 3,
    "start_time": "2023-02-03T11:34:01.425Z"
   },
   {
    "duration": 942,
    "start_time": "2023-02-03T11:34:01.590Z"
   },
   {
    "duration": 169,
    "start_time": "2023-02-03T11:34:02.535Z"
   },
   {
    "duration": 183,
    "start_time": "2023-02-03T11:34:02.706Z"
   },
   {
    "duration": 1049,
    "start_time": "2023-02-03T11:34:02.891Z"
   },
   {
    "duration": 22,
    "start_time": "2023-02-03T11:34:03.945Z"
   },
   {
    "duration": 8,
    "start_time": "2023-02-03T11:34:03.968Z"
   },
   {
    "duration": 43,
    "start_time": "2023-02-03T11:34:05.725Z"
   },
   {
    "duration": 21,
    "start_time": "2023-02-03T11:34:07.669Z"
   },
   {
    "duration": 337,
    "start_time": "2023-02-03T11:34:12.566Z"
   },
   {
    "duration": 11,
    "start_time": "2023-02-03T11:34:17.024Z"
   },
   {
    "duration": 13,
    "start_time": "2023-02-03T11:34:31.703Z"
   },
   {
    "duration": 13,
    "start_time": "2023-02-03T11:34:39.555Z"
   },
   {
    "duration": 24,
    "start_time": "2023-02-03T11:35:07.529Z"
   },
   {
    "duration": 109,
    "start_time": "2023-02-03T11:35:10.024Z"
   },
   {
    "duration": 22,
    "start_time": "2023-02-03T11:35:12.233Z"
   },
   {
    "duration": 459,
    "start_time": "2023-02-03T11:35:16.815Z"
   },
   {
    "duration": 25,
    "start_time": "2023-02-03T11:35:19.546Z"
   },
   {
    "duration": 8,
    "start_time": "2023-02-03T11:35:20.159Z"
   },
   {
    "duration": 7,
    "start_time": "2023-02-03T11:35:22.703Z"
   },
   {
    "duration": 20,
    "start_time": "2023-02-03T11:35:23.770Z"
   },
   {
    "duration": 8,
    "start_time": "2023-02-03T11:39:59.911Z"
   },
   {
    "duration": 16,
    "start_time": "2023-02-03T11:40:16.523Z"
   },
   {
    "duration": 17,
    "start_time": "2023-02-03T11:44:22.488Z"
   },
   {
    "duration": 6,
    "start_time": "2023-02-03T11:44:54.047Z"
   },
   {
    "duration": 17,
    "start_time": "2023-02-03T11:44:59.653Z"
   },
   {
    "duration": 77,
    "start_time": "2023-02-03T11:45:14.019Z"
   },
   {
    "duration": 158,
    "start_time": "2023-02-03T11:55:45.091Z"
   },
   {
    "duration": 298,
    "start_time": "2023-02-03T11:57:26.006Z"
   },
   {
    "duration": 297,
    "start_time": "2023-02-03T11:57:30.692Z"
   },
   {
    "duration": 315,
    "start_time": "2023-02-03T11:57:38.149Z"
   },
   {
    "duration": 1295,
    "start_time": "2023-02-03T11:58:51.086Z"
   },
   {
    "duration": 931,
    "start_time": "2023-02-03T11:58:52.383Z"
   },
   {
    "duration": 174,
    "start_time": "2023-02-03T11:58:53.316Z"
   },
   {
    "duration": 153,
    "start_time": "2023-02-03T11:58:53.492Z"
   },
   {
    "duration": 1009,
    "start_time": "2023-02-03T11:58:53.649Z"
   },
   {
    "duration": 34,
    "start_time": "2023-02-03T11:58:54.660Z"
   },
   {
    "duration": 38,
    "start_time": "2023-02-03T11:58:54.696Z"
   },
   {
    "duration": 54,
    "start_time": "2023-02-03T11:58:54.736Z"
   },
   {
    "duration": 22,
    "start_time": "2023-02-03T11:58:54.792Z"
   },
   {
    "duration": 338,
    "start_time": "2023-02-03T11:58:54.816Z"
   },
   {
    "duration": 13,
    "start_time": "2023-02-03T11:58:55.156Z"
   },
   {
    "duration": 12,
    "start_time": "2023-02-03T11:58:55.171Z"
   },
   {
    "duration": 55,
    "start_time": "2023-02-03T11:58:55.186Z"
   },
   {
    "duration": 117,
    "start_time": "2023-02-03T11:58:55.244Z"
   },
   {
    "duration": 17,
    "start_time": "2023-02-03T11:58:55.363Z"
   },
   {
    "duration": 416,
    "start_time": "2023-02-03T11:58:55.382Z"
   },
   {
    "duration": 25,
    "start_time": "2023-02-03T11:58:55.800Z"
   },
   {
    "duration": 18,
    "start_time": "2023-02-03T11:58:55.827Z"
   },
   {
    "duration": 12,
    "start_time": "2023-02-03T11:58:55.847Z"
   },
   {
    "duration": 292,
    "start_time": "2023-02-03T11:58:55.862Z"
   },
   {
    "duration": 145,
    "start_time": "2023-02-03T12:00:36.073Z"
   },
   {
    "duration": 1307,
    "start_time": "2023-02-03T12:00:45.821Z"
   },
   {
    "duration": 16,
    "start_time": "2023-02-03T12:01:05.694Z"
   },
   {
    "duration": 426,
    "start_time": "2023-02-03T12:01:20.494Z"
   },
   {
    "duration": 323,
    "start_time": "2023-02-03T12:01:30.271Z"
   },
   {
    "duration": 33,
    "start_time": "2023-02-03T12:03:49.847Z"
   },
   {
    "duration": 21,
    "start_time": "2023-02-03T12:03:55.329Z"
   },
   {
    "duration": 12,
    "start_time": "2023-02-03T12:04:18.995Z"
   },
   {
    "duration": 78,
    "start_time": "2023-02-03T12:04:23.780Z"
   },
   {
    "duration": 78,
    "start_time": "2023-02-03T12:05:17.706Z"
   },
   {
    "duration": 70,
    "start_time": "2023-02-03T12:06:41.073Z"
   },
   {
    "duration": 20,
    "start_time": "2023-02-03T12:11:23.406Z"
   },
   {
    "duration": 67,
    "start_time": "2023-02-03T12:12:19.201Z"
   },
   {
    "duration": 21,
    "start_time": "2023-02-03T12:12:38.338Z"
   },
   {
    "duration": 19,
    "start_time": "2023-02-03T12:12:52.462Z"
   },
   {
    "duration": 43,
    "start_time": "2023-02-03T12:13:07.956Z"
   },
   {
    "duration": 12,
    "start_time": "2023-02-03T12:13:31.491Z"
   },
   {
    "duration": 29,
    "start_time": "2023-02-03T12:13:36.254Z"
   },
   {
    "duration": 66,
    "start_time": "2023-02-03T12:16:04.463Z"
   },
   {
    "duration": 14,
    "start_time": "2023-02-03T12:19:16.875Z"
   },
   {
    "duration": 60,
    "start_time": "2023-02-03T12:19:47.102Z"
   },
   {
    "duration": 39,
    "start_time": "2023-02-03T12:19:51.504Z"
   },
   {
    "duration": 6,
    "start_time": "2023-02-03T12:20:26.093Z"
   },
   {
    "duration": 5,
    "start_time": "2023-02-03T12:20:37.876Z"
   },
   {
    "duration": 5,
    "start_time": "2023-02-03T12:20:49.766Z"
   },
   {
    "duration": 51,
    "start_time": "2023-02-03T12:21:02.175Z"
   },
   {
    "duration": 8,
    "start_time": "2023-02-03T12:21:06.624Z"
   },
   {
    "duration": 60,
    "start_time": "2023-02-03T12:21:15.259Z"
   },
   {
    "duration": 47,
    "start_time": "2023-02-03T12:21:20.984Z"
   },
   {
    "duration": 5,
    "start_time": "2023-02-03T12:21:24.294Z"
   },
   {
    "duration": 5,
    "start_time": "2023-02-03T12:21:29.134Z"
   },
   {
    "duration": 5,
    "start_time": "2023-02-03T12:21:42.207Z"
   },
   {
    "duration": 4,
    "start_time": "2023-02-03T12:22:32.704Z"
   },
   {
    "duration": 10,
    "start_time": "2023-02-03T12:22:37.333Z"
   },
   {
    "duration": 4,
    "start_time": "2023-02-03T12:22:43.364Z"
   },
   {
    "duration": 4,
    "start_time": "2023-02-03T12:22:50.085Z"
   },
   {
    "duration": 5,
    "start_time": "2023-02-03T12:22:53.172Z"
   },
   {
    "duration": 4,
    "start_time": "2023-02-03T12:22:55.799Z"
   },
   {
    "duration": 50,
    "start_time": "2023-02-03T12:23:03.084Z"
   },
   {
    "duration": 5,
    "start_time": "2023-02-03T12:23:36.709Z"
   },
   {
    "duration": 48,
    "start_time": "2023-02-03T12:23:40.667Z"
   },
   {
    "duration": 8,
    "start_time": "2023-02-03T12:33:57.432Z"
   },
   {
    "duration": 90,
    "start_time": "2023-02-03T12:34:46.619Z"
   },
   {
    "duration": 48,
    "start_time": "2023-02-03T12:34:48.285Z"
   },
   {
    "duration": 55,
    "start_time": "2023-02-03T12:35:26.998Z"
   },
   {
    "duration": 38,
    "start_time": "2023-02-03T12:35:31.813Z"
   },
   {
    "duration": 7,
    "start_time": "2023-02-03T12:38:14.730Z"
   },
   {
    "duration": 5,
    "start_time": "2023-02-03T12:38:22.960Z"
   },
   {
    "duration": 11,
    "start_time": "2023-02-03T12:38:27.160Z"
   },
   {
    "duration": 5,
    "start_time": "2023-02-03T12:38:40.458Z"
   },
   {
    "duration": 10,
    "start_time": "2023-02-03T12:39:35.761Z"
   },
   {
    "duration": 10,
    "start_time": "2023-02-03T12:39:45.456Z"
   },
   {
    "duration": 13,
    "start_time": "2023-02-03T12:39:49.306Z"
   },
   {
    "duration": 5,
    "start_time": "2023-02-03T12:39:53.364Z"
   },
   {
    "duration": 47,
    "start_time": "2023-02-03T13:18:46.067Z"
   },
   {
    "duration": 1252,
    "start_time": "2023-02-03T13:18:50.754Z"
   },
   {
    "duration": 2826,
    "start_time": "2023-02-03T13:18:52.008Z"
   },
   {
    "duration": 134,
    "start_time": "2023-02-03T13:18:54.835Z"
   },
   {
    "duration": 125,
    "start_time": "2023-02-03T13:18:54.971Z"
   },
   {
    "duration": 826,
    "start_time": "2023-02-03T13:18:55.098Z"
   },
   {
    "duration": 26,
    "start_time": "2023-02-03T13:18:55.926Z"
   },
   {
    "duration": 15,
    "start_time": "2023-02-03T13:18:55.954Z"
   },
   {
    "duration": 46,
    "start_time": "2023-02-03T13:18:55.971Z"
   },
   {
    "duration": 20,
    "start_time": "2023-02-03T13:18:56.019Z"
   },
   {
    "duration": 328,
    "start_time": "2023-02-03T13:18:56.041Z"
   },
   {
    "duration": 25,
    "start_time": "2023-02-03T13:18:56.371Z"
   },
   {
    "duration": 17,
    "start_time": "2023-02-03T13:18:56.398Z"
   },
   {
    "duration": 33,
    "start_time": "2023-02-03T13:18:56.417Z"
   },
   {
    "duration": 151,
    "start_time": "2023-02-03T13:18:56.452Z"
   },
   {
    "duration": 15,
    "start_time": "2023-02-03T13:18:56.605Z"
   },
   {
    "duration": 366,
    "start_time": "2023-02-03T13:18:56.622Z"
   },
   {
    "duration": 28,
    "start_time": "2023-02-03T13:18:56.990Z"
   },
   {
    "duration": 7,
    "start_time": "2023-02-03T13:18:57.019Z"
   },
   {
    "duration": 6,
    "start_time": "2023-02-03T13:18:57.027Z"
   },
   {
    "duration": 282,
    "start_time": "2023-02-03T13:18:57.035Z"
   },
   {
    "duration": 271,
    "start_time": "2023-02-03T13:18:57.318Z"
   },
   {
    "duration": 20,
    "start_time": "2023-02-03T13:18:57.591Z"
   },
   {
    "duration": 17,
    "start_time": "2023-02-03T13:18:57.613Z"
   },
   {
    "duration": 41,
    "start_time": "2023-02-03T13:18:57.632Z"
   },
   {
    "duration": 26,
    "start_time": "2023-02-03T13:18:57.675Z"
   },
   {
    "duration": 24,
    "start_time": "2023-02-03T13:18:57.703Z"
   },
   {
    "duration": 27,
    "start_time": "2023-02-03T13:18:57.729Z"
   },
   {
    "duration": 45,
    "start_time": "2023-02-03T13:18:57.760Z"
   },
   {
    "duration": 63,
    "start_time": "2023-02-03T13:18:57.807Z"
   },
   {
    "duration": 64,
    "start_time": "2023-02-03T13:18:57.872Z"
   },
   {
    "duration": 41,
    "start_time": "2023-02-03T13:18:57.937Z"
   },
   {
    "duration": 105,
    "start_time": "2023-02-03T13:18:57.992Z"
   },
   {
    "duration": 0,
    "start_time": "2023-02-03T13:18:58.098Z"
   },
   {
    "duration": 0,
    "start_time": "2023-02-03T13:18:58.099Z"
   },
   {
    "duration": 0,
    "start_time": "2023-02-03T13:18:58.101Z"
   },
   {
    "duration": 5,
    "start_time": "2023-02-03T13:19:08.726Z"
   },
   {
    "duration": 9,
    "start_time": "2023-02-03T13:19:10.114Z"
   },
   {
    "duration": 4,
    "start_time": "2023-02-03T13:19:10.404Z"
   },
   {
    "duration": 11,
    "start_time": "2023-02-03T13:19:19.017Z"
   },
   {
    "duration": 5,
    "start_time": "2023-02-03T13:19:19.561Z"
   },
   {
    "duration": 45,
    "start_time": "2023-02-03T13:19:20.096Z"
   },
   {
    "duration": 103,
    "start_time": "2023-02-03T13:20:48.432Z"
   },
   {
    "duration": 35,
    "start_time": "2023-02-03T13:20:48.771Z"
   },
   {
    "duration": 75,
    "start_time": "2023-02-03T13:25:07.825Z"
   },
   {
    "duration": 48,
    "start_time": "2023-02-03T13:25:11.722Z"
   },
   {
    "duration": 4,
    "start_time": "2023-02-03T13:27:09.996Z"
   },
   {
    "duration": 10,
    "start_time": "2023-02-03T13:28:07.735Z"
   },
   {
    "duration": 14,
    "start_time": "2023-02-03T13:28:30.576Z"
   },
   {
    "duration": 8,
    "start_time": "2023-02-03T13:30:06.919Z"
   },
   {
    "duration": 3,
    "start_time": "2023-02-03T13:30:10.342Z"
   },
   {
    "duration": 1355,
    "start_time": "2023-02-03T13:30:10.523Z"
   },
   {
    "duration": 3,
    "start_time": "2023-02-03T13:30:38.011Z"
   },
   {
    "duration": 63,
    "start_time": "2023-02-03T13:30:38.211Z"
   },
   {
    "duration": 4,
    "start_time": "2023-02-03T13:30:49.220Z"
   },
   {
    "duration": 32,
    "start_time": "2023-02-03T13:31:34.172Z"
   },
   {
    "duration": 114,
    "start_time": "2023-02-03T13:31:35.575Z"
   },
   {
    "duration": 33,
    "start_time": "2023-02-03T13:31:35.776Z"
   },
   {
    "duration": 44,
    "start_time": "2023-02-03T13:32:47.952Z"
   },
   {
    "duration": 119,
    "start_time": "2023-02-03T13:32:49.936Z"
   },
   {
    "duration": 34,
    "start_time": "2023-02-03T13:32:50.100Z"
   },
   {
    "duration": 94,
    "start_time": "2023-02-03T13:33:02.724Z"
   },
   {
    "duration": 38,
    "start_time": "2023-02-03T13:33:02.896Z"
   },
   {
    "duration": 153,
    "start_time": "2023-02-03T13:34:07.386Z"
   },
   {
    "duration": 40,
    "start_time": "2023-02-03T13:34:11.215Z"
   },
   {
    "duration": 7,
    "start_time": "2023-02-03T13:34:14.739Z"
   },
   {
    "duration": 3,
    "start_time": "2023-02-03T13:34:36.152Z"
   },
   {
    "duration": 43,
    "start_time": "2023-02-03T13:35:21.083Z"
   },
   {
    "duration": 57,
    "start_time": "2023-02-03T13:36:39.197Z"
   },
   {
    "duration": 55,
    "start_time": "2023-02-03T13:36:43.962Z"
   },
   {
    "duration": 9,
    "start_time": "2023-02-03T13:37:06.057Z"
   },
   {
    "duration": 55,
    "start_time": "2023-02-03T13:37:14.499Z"
   },
   {
    "duration": 63,
    "start_time": "2023-02-03T13:37:17.314Z"
   },
   {
    "duration": 9,
    "start_time": "2023-02-03T13:37:46.578Z"
   },
   {
    "duration": 112,
    "start_time": "2023-02-03T13:38:06.320Z"
   },
   {
    "duration": 142,
    "start_time": "2023-02-03T13:38:25.364Z"
   },
   {
    "duration": 35,
    "start_time": "2023-02-03T13:38:25.725Z"
   },
   {
    "duration": 75,
    "start_time": "2023-02-03T13:38:27.735Z"
   },
   {
    "duration": 34,
    "start_time": "2023-02-03T13:38:43.847Z"
   },
   {
    "duration": 41,
    "start_time": "2023-02-03T13:38:51.506Z"
   },
   {
    "duration": 76,
    "start_time": "2023-02-03T13:39:02.520Z"
   },
   {
    "duration": 10,
    "start_time": "2023-02-03T13:40:02.670Z"
   },
   {
    "duration": 8,
    "start_time": "2023-02-03T13:41:05.357Z"
   },
   {
    "duration": 9,
    "start_time": "2023-02-03T13:45:27.613Z"
   },
   {
    "duration": 13,
    "start_time": "2023-02-03T13:48:50.556Z"
   },
   {
    "duration": 13,
    "start_time": "2023-02-03T13:48:57.854Z"
   },
   {
    "duration": 125,
    "start_time": "2023-02-03T13:49:05.131Z"
   },
   {
    "duration": 9,
    "start_time": "2023-02-03T13:52:18.681Z"
   },
   {
    "duration": 170,
    "start_time": "2023-02-03T13:52:24.663Z"
   },
   {
    "duration": 169,
    "start_time": "2023-02-03T13:52:37.565Z"
   },
   {
    "duration": 124,
    "start_time": "2023-02-03T13:52:55.132Z"
   },
   {
    "duration": 37,
    "start_time": "2023-02-03T13:55:09.721Z"
   },
   {
    "duration": 105,
    "start_time": "2023-02-03T13:56:20.618Z"
   },
   {
    "duration": 4,
    "start_time": "2023-02-03T13:59:35.814Z"
   },
   {
    "duration": 134,
    "start_time": "2023-02-03T13:59:36.497Z"
   },
   {
    "duration": 174,
    "start_time": "2023-02-03T14:00:42.024Z"
   },
   {
    "duration": 34,
    "start_time": "2023-02-03T14:00:42.608Z"
   },
   {
    "duration": 124,
    "start_time": "2023-02-03T14:00:45.825Z"
   },
   {
    "duration": 4,
    "start_time": "2023-02-03T14:00:50.831Z"
   },
   {
    "duration": 104,
    "start_time": "2023-02-03T14:00:51.165Z"
   },
   {
    "duration": 6,
    "start_time": "2023-02-03T14:03:06.637Z"
   },
   {
    "duration": 240,
    "start_time": "2023-02-03T14:03:07.772Z"
   },
   {
    "duration": 4,
    "start_time": "2023-02-03T14:03:18.128Z"
   },
   {
    "duration": 176,
    "start_time": "2023-02-03T14:03:18.735Z"
   },
   {
    "duration": 18,
    "start_time": "2023-02-03T14:03:24.859Z"
   },
   {
    "duration": 72,
    "start_time": "2023-02-03T14:03:45.304Z"
   },
   {
    "duration": 449,
    "start_time": "2023-02-03T14:05:20.906Z"
   },
   {
    "duration": 95,
    "start_time": "2023-02-03T14:05:26.650Z"
   },
   {
    "duration": 463,
    "start_time": "2023-02-03T14:05:53.517Z"
   },
   {
    "duration": 88,
    "start_time": "2023-02-03T14:05:53.982Z"
   },
   {
    "duration": 6,
    "start_time": "2023-02-03T14:06:43.457Z"
   },
   {
    "duration": 458,
    "start_time": "2023-02-03T14:06:43.804Z"
   },
   {
    "duration": 4,
    "start_time": "2023-02-03T14:07:30.136Z"
   },
   {
    "duration": 446,
    "start_time": "2023-02-03T14:07:33.468Z"
   },
   {
    "duration": 22,
    "start_time": "2023-02-03T14:08:15.538Z"
   },
   {
    "duration": 3,
    "start_time": "2023-02-03T14:09:29.182Z"
   },
   {
    "duration": 824,
    "start_time": "2023-02-03T14:09:29.418Z"
   },
   {
    "duration": 135,
    "start_time": "2023-02-03T14:09:30.244Z"
   },
   {
    "duration": 147,
    "start_time": "2023-02-03T14:09:30.381Z"
   },
   {
    "duration": 852,
    "start_time": "2023-02-03T14:09:30.530Z"
   },
   {
    "duration": 24,
    "start_time": "2023-02-03T14:09:31.385Z"
   },
   {
    "duration": 22,
    "start_time": "2023-02-03T14:09:31.411Z"
   },
   {
    "duration": 42,
    "start_time": "2023-02-03T14:09:31.435Z"
   },
   {
    "duration": 27,
    "start_time": "2023-02-03T14:09:31.478Z"
   },
   {
    "duration": 404,
    "start_time": "2023-02-03T14:09:31.507Z"
   },
   {
    "duration": 9,
    "start_time": "2023-02-03T14:09:31.913Z"
   },
   {
    "duration": 14,
    "start_time": "2023-02-03T14:09:31.923Z"
   },
   {
    "duration": 24,
    "start_time": "2023-02-03T14:09:32.198Z"
   },
   {
    "duration": 96,
    "start_time": "2023-02-03T14:09:32.574Z"
   },
   {
    "duration": 25,
    "start_time": "2023-02-03T14:09:32.780Z"
   },
   {
    "duration": 278,
    "start_time": "2023-02-03T14:09:33.554Z"
   },
   {
    "duration": 21,
    "start_time": "2023-02-03T14:09:33.965Z"
   },
   {
    "duration": 7,
    "start_time": "2023-02-03T14:09:34.139Z"
   },
   {
    "duration": 7,
    "start_time": "2023-02-03T14:09:34.492Z"
   },
   {
    "duration": 266,
    "start_time": "2023-02-03T14:09:34.848Z"
   },
   {
    "duration": 254,
    "start_time": "2023-02-03T14:09:35.210Z"
   },
   {
    "duration": 22,
    "start_time": "2023-02-03T14:09:35.610Z"
   },
   {
    "duration": 19,
    "start_time": "2023-02-03T14:09:36.373Z"
   },
   {
    "duration": 45,
    "start_time": "2023-02-03T14:09:36.695Z"
   },
   {
    "duration": 16,
    "start_time": "2023-02-03T14:09:37.024Z"
   },
   {
    "duration": 15,
    "start_time": "2023-02-03T14:09:37.377Z"
   },
   {
    "duration": 25,
    "start_time": "2023-02-03T14:09:37.642Z"
   },
   {
    "duration": 25,
    "start_time": "2023-02-03T14:09:37.851Z"
   },
   {
    "duration": 68,
    "start_time": "2023-02-03T14:09:38.587Z"
   },
   {
    "duration": 143,
    "start_time": "2023-02-03T14:09:42.305Z"
   },
   {
    "duration": 39,
    "start_time": "2023-02-03T14:09:42.685Z"
   },
   {
    "duration": 16,
    "start_time": "2023-02-03T14:09:51.222Z"
   },
   {
    "duration": 1269,
    "start_time": "2023-02-03T14:10:41.572Z"
   },
   {
    "duration": 50,
    "start_time": "2023-02-03T14:10:51.054Z"
   },
   {
    "duration": 126,
    "start_time": "2023-02-03T14:11:02.306Z"
   },
   {
    "duration": 103,
    "start_time": "2023-02-03T14:11:15.740Z"
   },
   {
    "duration": 77,
    "start_time": "2023-02-03T14:11:30.788Z"
   },
   {
    "duration": 4,
    "start_time": "2023-02-03T14:14:03.011Z"
   },
   {
    "duration": 135,
    "start_time": "2023-02-03T14:14:03.766Z"
   },
   {
    "duration": 3,
    "start_time": "2023-02-03T14:14:19.638Z"
   },
   {
    "duration": 230,
    "start_time": "2023-02-03T14:14:20.008Z"
   },
   {
    "duration": 71,
    "start_time": "2023-02-03T14:14:29.305Z"
   },
   {
    "duration": 3,
    "start_time": "2023-02-03T14:14:39.341Z"
   },
   {
    "duration": 192,
    "start_time": "2023-02-03T14:14:41.241Z"
   },
   {
    "duration": 67,
    "start_time": "2023-02-03T14:16:53.910Z"
   },
   {
    "duration": 59,
    "start_time": "2023-02-03T14:16:54.109Z"
   },
   {
    "duration": 69,
    "start_time": "2023-02-03T14:17:21.249Z"
   },
   {
    "duration": 74,
    "start_time": "2023-02-03T14:17:44.735Z"
   },
   {
    "duration": 29,
    "start_time": "2023-02-03T14:17:56.584Z"
   },
   {
    "duration": 81,
    "start_time": "2023-02-03T14:18:06.924Z"
   },
   {
    "duration": 84,
    "start_time": "2023-02-03T14:21:28.535Z"
   },
   {
    "duration": 9,
    "start_time": "2023-02-03T14:27:02.607Z"
   },
   {
    "duration": 317,
    "start_time": "2023-02-03T14:27:08.176Z"
   },
   {
    "duration": 20,
    "start_time": "2023-02-03T14:27:11.702Z"
   },
   {
    "duration": 8,
    "start_time": "2023-02-03T14:27:22.239Z"
   },
   {
    "duration": 3,
    "start_time": "2023-02-03T14:27:41.932Z"
   },
   {
    "duration": 3,
    "start_time": "2023-02-03T14:27:51.474Z"
   },
   {
    "duration": 3,
    "start_time": "2023-02-03T14:27:57.062Z"
   },
   {
    "duration": 886,
    "start_time": "2023-02-03T14:28:16.912Z"
   },
   {
    "duration": 3,
    "start_time": "2023-02-03T14:28:30.266Z"
   },
   {
    "duration": 22,
    "start_time": "2023-02-03T14:30:26.333Z"
   },
   {
    "duration": 15,
    "start_time": "2023-02-03T14:31:48.805Z"
   },
   {
    "duration": 98,
    "start_time": "2023-02-03T14:32:17.029Z"
   },
   {
    "duration": 10,
    "start_time": "2023-02-03T14:33:52.149Z"
   },
   {
    "duration": 66,
    "start_time": "2023-02-03T14:33:59.333Z"
   },
   {
    "duration": 29,
    "start_time": "2023-02-03T14:35:07.355Z"
   },
   {
    "duration": 40,
    "start_time": "2023-02-03T14:36:32.178Z"
   },
   {
    "duration": 9,
    "start_time": "2023-02-03T14:36:38.127Z"
   },
   {
    "duration": 13,
    "start_time": "2023-02-03T14:37:05.806Z"
   },
   {
    "duration": 18,
    "start_time": "2023-02-03T14:37:09.622Z"
   },
   {
    "duration": 39,
    "start_time": "2023-02-03T14:37:12.547Z"
   },
   {
    "duration": 22,
    "start_time": "2023-02-03T14:37:13.184Z"
   },
   {
    "duration": 57,
    "start_time": "2023-02-03T14:37:18.404Z"
   },
   {
    "duration": 101,
    "start_time": "2023-02-03T14:41:29.287Z"
   },
   {
    "duration": 74,
    "start_time": "2023-02-03T14:42:25.231Z"
   },
   {
    "duration": 97,
    "start_time": "2023-02-03T14:42:32.638Z"
   },
   {
    "duration": 22,
    "start_time": "2023-02-03T14:44:35.456Z"
   },
   {
    "duration": 58,
    "start_time": "2023-02-03T14:44:43.571Z"
   },
   {
    "duration": 8,
    "start_time": "2023-02-03T14:44:49.337Z"
   },
   {
    "duration": 23,
    "start_time": "2023-02-03T14:44:53.883Z"
   },
   {
    "duration": 58,
    "start_time": "2023-02-03T14:44:54.379Z"
   },
   {
    "duration": 3,
    "start_time": "2023-02-03T14:55:37.057Z"
   },
   {
    "duration": 499,
    "start_time": "2023-02-03T15:05:26.618Z"
   },
   {
    "duration": 1711,
    "start_time": "2023-02-03T15:05:33.948Z"
   },
   {
    "duration": 483,
    "start_time": "2023-02-03T15:05:41.527Z"
   },
   {
    "duration": 47,
    "start_time": "2023-02-03T15:06:51.856Z"
   },
   {
    "duration": 329,
    "start_time": "2023-02-03T15:07:27.914Z"
   },
   {
    "duration": 37,
    "start_time": "2023-02-03T15:08:56.821Z"
   },
   {
    "duration": 27,
    "start_time": "2023-02-03T15:10:07.248Z"
   },
   {
    "duration": 93,
    "start_time": "2023-02-03T15:10:47.147Z"
   },
   {
    "duration": 87,
    "start_time": "2023-02-03T15:11:09.874Z"
   },
   {
    "duration": 98,
    "start_time": "2023-02-03T15:11:24.151Z"
   },
   {
    "duration": 3,
    "start_time": "2023-02-03T15:13:47.387Z"
   },
   {
    "duration": 747,
    "start_time": "2023-02-03T15:13:47.708Z"
   },
   {
    "duration": 169,
    "start_time": "2023-02-03T15:13:48.457Z"
   },
   {
    "duration": 113,
    "start_time": "2023-02-03T15:13:48.705Z"
   },
   {
    "duration": 782,
    "start_time": "2023-02-03T15:13:49.273Z"
   },
   {
    "duration": 16,
    "start_time": "2023-02-03T15:13:50.454Z"
   },
   {
    "duration": 4,
    "start_time": "2023-02-03T15:13:51.005Z"
   },
   {
    "duration": 41,
    "start_time": "2023-02-03T15:13:51.428Z"
   },
   {
    "duration": 16,
    "start_time": "2023-02-03T15:13:51.932Z"
   },
   {
    "duration": 264,
    "start_time": "2023-02-03T15:13:57.659Z"
   },
   {
    "duration": 10,
    "start_time": "2023-02-03T15:13:57.925Z"
   },
   {
    "duration": 12,
    "start_time": "2023-02-03T15:13:58.271Z"
   },
   {
    "duration": 21,
    "start_time": "2023-02-03T15:13:59.465Z"
   },
   {
    "duration": 91,
    "start_time": "2023-02-03T15:14:00.416Z"
   },
   {
    "duration": 15,
    "start_time": "2023-02-03T15:14:00.845Z"
   },
   {
    "duration": 287,
    "start_time": "2023-02-03T15:14:01.611Z"
   },
   {
    "duration": 24,
    "start_time": "2023-02-03T15:14:02.631Z"
   },
   {
    "duration": 7,
    "start_time": "2023-02-03T15:14:02.843Z"
   },
   {
    "duration": 6,
    "start_time": "2023-02-03T15:14:09.013Z"
   },
   {
    "duration": 349,
    "start_time": "2023-02-03T15:14:10.426Z"
   },
   {
    "duration": 246,
    "start_time": "2023-02-03T15:14:15.084Z"
   },
   {
    "duration": 23,
    "start_time": "2023-02-03T15:14:20.704Z"
   },
   {
    "duration": 126,
    "start_time": "2023-02-03T15:14:37.615Z"
   },
   {
    "duration": 800,
    "start_time": "2023-02-03T15:14:56.064Z"
   },
   {
    "duration": 18,
    "start_time": "2023-02-03T15:15:09.111Z"
   },
   {
    "duration": 3,
    "start_time": "2023-02-03T15:15:09.348Z"
   },
   {
    "duration": 16,
    "start_time": "2023-02-03T15:15:09.469Z"
   },
   {
    "duration": 16,
    "start_time": "2023-02-03T15:15:09.653Z"
   },
   {
    "duration": 164,
    "start_time": "2023-02-03T15:15:27.755Z"
   },
   {
    "duration": 726,
    "start_time": "2023-02-03T15:15:38.029Z"
   },
   {
    "duration": 393,
    "start_time": "2023-02-03T15:15:43.508Z"
   },
   {
    "duration": 140,
    "start_time": "2023-02-03T15:15:46.663Z"
   },
   {
    "duration": 132,
    "start_time": "2023-02-03T15:15:46.949Z"
   },
   {
    "duration": 797,
    "start_time": "2023-02-03T15:15:47.847Z"
   },
   {
    "duration": 18,
    "start_time": "2023-02-03T15:15:54.386Z"
   },
   {
    "duration": 2,
    "start_time": "2023-02-03T15:15:57.349Z"
   },
   {
    "duration": 37,
    "start_time": "2023-02-03T15:15:58.105Z"
   },
   {
    "duration": 16,
    "start_time": "2023-02-03T15:15:58.946Z"
   },
   {
    "duration": 164,
    "start_time": "2023-02-03T15:16:00.828Z"
   },
   {
    "duration": 722,
    "start_time": "2023-02-03T15:17:06.524Z"
   },
   {
    "duration": 394,
    "start_time": "2023-02-03T15:17:07.247Z"
   },
   {
    "duration": 125,
    "start_time": "2023-02-03T15:17:07.643Z"
   },
   {
    "duration": 139,
    "start_time": "2023-02-03T15:17:07.769Z"
   },
   {
    "duration": 926,
    "start_time": "2023-02-03T15:17:07.909Z"
   },
   {
    "duration": 19,
    "start_time": "2023-02-03T15:17:11.409Z"
   },
   {
    "duration": 4,
    "start_time": "2023-02-03T15:17:11.819Z"
   },
   {
    "duration": 42,
    "start_time": "2023-02-03T15:17:12.262Z"
   },
   {
    "duration": 18,
    "start_time": "2023-02-03T15:17:12.735Z"
   },
   {
    "duration": 184,
    "start_time": "2023-02-03T15:17:13.341Z"
   },
   {
    "duration": 1403,
    "start_time": "2023-02-03T15:17:24.469Z"
   },
   {
    "duration": 883,
    "start_time": "2023-02-03T15:17:25.874Z"
   },
   {
    "duration": 486,
    "start_time": "2023-02-03T15:17:26.759Z"
   },
   {
    "duration": 135,
    "start_time": "2023-02-03T15:17:27.248Z"
   },
   {
    "duration": 119,
    "start_time": "2023-02-03T15:17:27.385Z"
   },
   {
    "duration": 846,
    "start_time": "2023-02-03T15:17:27.505Z"
   },
   {
    "duration": 40,
    "start_time": "2023-02-03T15:17:28.352Z"
   },
   {
    "duration": 3,
    "start_time": "2023-02-03T15:17:28.394Z"
   },
   {
    "duration": 39,
    "start_time": "2023-02-03T15:17:28.399Z"
   },
   {
    "duration": 19,
    "start_time": "2023-02-03T15:17:28.440Z"
   },
   {
    "duration": 203,
    "start_time": "2023-02-03T15:17:28.460Z"
   },
   {
    "duration": 370,
    "start_time": "2023-02-03T15:17:28.664Z"
   },
   {
    "duration": 11,
    "start_time": "2023-02-03T15:17:29.035Z"
   },
   {
    "duration": 12,
    "start_time": "2023-02-03T15:17:29.047Z"
   },
   {
    "duration": 42,
    "start_time": "2023-02-03T15:17:29.061Z"
   },
   {
    "duration": 107,
    "start_time": "2023-02-03T15:17:29.105Z"
   },
   {
    "duration": 15,
    "start_time": "2023-02-03T15:17:29.214Z"
   },
   {
    "duration": 271,
    "start_time": "2023-02-03T15:17:29.230Z"
   },
   {
    "duration": 24,
    "start_time": "2023-02-03T15:17:29.503Z"
   },
   {
    "duration": 8,
    "start_time": "2023-02-03T15:17:29.528Z"
   },
   {
    "duration": 5,
    "start_time": "2023-02-03T15:17:29.538Z"
   },
   {
    "duration": 295,
    "start_time": "2023-02-03T15:17:29.545Z"
   },
   {
    "duration": 264,
    "start_time": "2023-02-03T15:17:29.841Z"
   },
   {
    "duration": 23,
    "start_time": "2023-02-03T15:17:30.107Z"
   },
   {
    "duration": 148,
    "start_time": "2023-02-03T15:17:30.132Z"
   },
   {
    "duration": 16,
    "start_time": "2023-02-03T15:17:30.282Z"
   },
   {
    "duration": 60,
    "start_time": "2023-02-03T15:17:30.300Z"
   },
   {
    "duration": 14,
    "start_time": "2023-02-03T15:17:30.363Z"
   },
   {
    "duration": 33,
    "start_time": "2023-02-03T15:17:30.379Z"
   },
   {
    "duration": 36,
    "start_time": "2023-02-03T15:17:30.413Z"
   },
   {
    "duration": 46,
    "start_time": "2023-02-03T15:17:30.451Z"
   },
   {
    "duration": 81,
    "start_time": "2023-02-03T15:17:30.498Z"
   },
   {
    "duration": 155,
    "start_time": "2023-02-03T15:17:30.580Z"
   },
   {
    "duration": 56,
    "start_time": "2023-02-03T15:17:30.737Z"
   },
   {
    "duration": 100,
    "start_time": "2023-02-03T15:17:30.796Z"
   },
   {
    "duration": 37,
    "start_time": "2023-02-03T15:17:30.898Z"
   },
   {
    "duration": 23,
    "start_time": "2023-02-03T15:17:30.937Z"
   },
   {
    "duration": 209,
    "start_time": "2023-02-03T15:17:30.961Z"
   },
   {
    "duration": 75,
    "start_time": "2023-02-03T15:17:31.172Z"
   },
   {
    "duration": 99,
    "start_time": "2023-02-03T15:17:31.248Z"
   },
   {
    "duration": 46,
    "start_time": "2023-02-03T15:17:31.349Z"
   },
   {
    "duration": 19,
    "start_time": "2023-02-03T15:17:31.397Z"
   },
   {
    "duration": 33,
    "start_time": "2023-02-03T15:17:31.417Z"
   },
   {
    "duration": 93,
    "start_time": "2023-02-03T15:17:31.452Z"
   },
   {
    "duration": 51,
    "start_time": "2023-02-03T15:17:31.547Z"
   },
   {
    "duration": 51,
    "start_time": "2023-02-03T15:17:31.600Z"
   },
   {
    "duration": 121,
    "start_time": "2023-02-03T15:17:31.652Z"
   },
   {
    "duration": 503,
    "start_time": "2023-02-03T15:17:31.775Z"
   },
   {
    "duration": 348,
    "start_time": "2023-02-03T15:17:32.279Z"
   },
   {
    "duration": 5,
    "start_time": "2023-02-03T15:23:17.639Z"
   },
   {
    "duration": 121,
    "start_time": "2023-02-03T15:24:01.075Z"
   },
   {
    "duration": 4,
    "start_time": "2023-02-03T15:25:25.616Z"
   },
   {
    "duration": 11,
    "start_time": "2023-02-03T15:25:31.031Z"
   },
   {
    "duration": 58,
    "start_time": "2023-02-03T15:35:14.303Z"
   },
   {
    "duration": 48,
    "start_time": "2023-02-03T15:35:38.637Z"
   },
   {
    "duration": 56,
    "start_time": "2023-02-03T15:36:10.786Z"
   },
   {
    "duration": 51,
    "start_time": "2023-02-03T15:37:16.179Z"
   },
   {
    "duration": 59,
    "start_time": "2023-02-03T15:37:16.339Z"
   },
   {
    "duration": 6,
    "start_time": "2023-02-03T15:37:42.203Z"
   },
   {
    "duration": 4,
    "start_time": "2023-02-03T15:41:52.544Z"
   },
   {
    "duration": 5,
    "start_time": "2023-02-03T15:41:55.819Z"
   },
   {
    "duration": 62,
    "start_time": "2023-02-03T15:43:24.079Z"
   },
   {
    "duration": 51,
    "start_time": "2023-02-03T15:43:35.525Z"
   },
   {
    "duration": 16,
    "start_time": "2023-02-03T15:43:48.562Z"
   },
   {
    "duration": 1360,
    "start_time": "2023-02-03T15:45:02.249Z"
   },
   {
    "duration": 839,
    "start_time": "2023-02-03T15:45:03.611Z"
   },
   {
    "duration": 479,
    "start_time": "2023-02-03T15:45:04.452Z"
   },
   {
    "duration": 144,
    "start_time": "2023-02-03T15:45:04.933Z"
   },
   {
    "duration": 143,
    "start_time": "2023-02-03T15:45:05.078Z"
   },
   {
    "duration": 846,
    "start_time": "2023-02-03T15:45:05.223Z"
   },
   {
    "duration": 33,
    "start_time": "2023-02-03T15:45:06.070Z"
   },
   {
    "duration": 16,
    "start_time": "2023-02-03T15:45:06.105Z"
   },
   {
    "duration": 43,
    "start_time": "2023-02-03T15:45:06.122Z"
   },
   {
    "duration": 17,
    "start_time": "2023-02-03T15:45:06.168Z"
   },
   {
    "duration": 216,
    "start_time": "2023-02-03T15:45:06.187Z"
   },
   {
    "duration": 368,
    "start_time": "2023-02-03T15:45:06.404Z"
   },
   {
    "duration": 10,
    "start_time": "2023-02-03T15:45:06.774Z"
   },
   {
    "duration": 13,
    "start_time": "2023-02-03T15:45:06.791Z"
   },
   {
    "duration": 21,
    "start_time": "2023-02-03T15:45:06.806Z"
   },
   {
    "duration": 119,
    "start_time": "2023-02-03T15:45:06.829Z"
   },
   {
    "duration": 15,
    "start_time": "2023-02-03T15:45:06.950Z"
   },
   {
    "duration": 265,
    "start_time": "2023-02-03T15:45:06.966Z"
   },
   {
    "duration": 22,
    "start_time": "2023-02-03T15:45:07.233Z"
   },
   {
    "duration": 6,
    "start_time": "2023-02-03T15:45:07.257Z"
   },
   {
    "duration": 5,
    "start_time": "2023-02-03T15:45:07.264Z"
   },
   {
    "duration": 269,
    "start_time": "2023-02-03T15:45:07.271Z"
   },
   {
    "duration": 267,
    "start_time": "2023-02-03T15:45:07.542Z"
   },
   {
    "duration": 22,
    "start_time": "2023-02-03T15:45:07.811Z"
   },
   {
    "duration": 133,
    "start_time": "2023-02-03T15:45:07.835Z"
   },
   {
    "duration": 28,
    "start_time": "2023-02-03T15:45:07.970Z"
   },
   {
    "duration": 40,
    "start_time": "2023-02-03T15:45:08.004Z"
   },
   {
    "duration": 14,
    "start_time": "2023-02-03T15:45:08.047Z"
   },
   {
    "duration": 15,
    "start_time": "2023-02-03T15:45:08.063Z"
   },
   {
    "duration": 35,
    "start_time": "2023-02-03T15:45:08.079Z"
   },
   {
    "duration": 24,
    "start_time": "2023-02-03T15:45:08.116Z"
   },
   {
    "duration": 79,
    "start_time": "2023-02-03T15:45:08.142Z"
   },
   {
    "duration": 148,
    "start_time": "2023-02-03T15:45:08.222Z"
   },
   {
    "duration": 43,
    "start_time": "2023-02-03T15:45:08.372Z"
   },
   {
    "duration": 78,
    "start_time": "2023-02-03T15:45:08.416Z"
   },
   {
    "duration": 43,
    "start_time": "2023-02-03T15:45:08.495Z"
   },
   {
    "duration": 4,
    "start_time": "2023-02-03T15:45:08.539Z"
   },
   {
    "duration": 203,
    "start_time": "2023-02-03T15:45:08.544Z"
   },
   {
    "duration": 79,
    "start_time": "2023-02-03T15:45:08.748Z"
   },
   {
    "duration": 89,
    "start_time": "2023-02-03T15:45:08.828Z"
   },
   {
    "duration": 38,
    "start_time": "2023-02-03T15:45:08.918Z"
   },
   {
    "duration": 15,
    "start_time": "2023-02-03T15:45:08.957Z"
   },
   {
    "duration": 22,
    "start_time": "2023-02-03T15:45:08.991Z"
   },
   {
    "duration": 104,
    "start_time": "2023-02-03T15:45:09.015Z"
   },
   {
    "duration": 43,
    "start_time": "2023-02-03T15:45:09.120Z"
   },
   {
    "duration": 73,
    "start_time": "2023-02-03T15:45:09.164Z"
   },
   {
    "duration": 66,
    "start_time": "2023-02-03T15:45:09.239Z"
   },
   {
    "duration": 36,
    "start_time": "2023-02-03T15:45:09.307Z"
   },
   {
    "duration": 58,
    "start_time": "2023-02-03T15:45:09.345Z"
   },
   {
    "duration": 4,
    "start_time": "2023-02-03T15:45:09.405Z"
   },
   {
    "duration": 10,
    "start_time": "2023-02-03T15:45:09.410Z"
   },
   {
    "duration": 160,
    "start_time": "2023-02-03T15:45:09.421Z"
   },
   {
    "duration": 0,
    "start_time": "2023-02-03T15:45:09.582Z"
   },
   {
    "duration": 15,
    "start_time": "2023-02-03T15:45:31.757Z"
   },
   {
    "duration": 498,
    "start_time": "2023-02-03T15:46:10.970Z"
   },
   {
    "duration": 20,
    "start_time": "2023-02-03T15:46:11.644Z"
   },
   {
    "duration": 118,
    "start_time": "2023-02-03T15:50:24.432Z"
   },
   {
    "duration": 14,
    "start_time": "2023-02-03T15:55:47.774Z"
   },
   {
    "duration": 454,
    "start_time": "2023-02-03T15:56:49.849Z"
   },
   {
    "duration": 36,
    "start_time": "2023-02-03T15:56:55.694Z"
   },
   {
    "duration": 3,
    "start_time": "2023-02-03T15:57:09.359Z"
   },
   {
    "duration": 6,
    "start_time": "2023-02-03T15:57:24.602Z"
   },
   {
    "duration": 11,
    "start_time": "2023-02-03T15:58:35.723Z"
   },
   {
    "duration": 10,
    "start_time": "2023-02-03T16:03:09.198Z"
   },
   {
    "duration": 3,
    "start_time": "2023-02-03T16:03:15.751Z"
   },
   {
    "duration": 87066,
    "start_time": "2023-02-03T16:03:19.133Z"
   },
   {
    "duration": 28143,
    "start_time": "2023-02-03T16:15:10.752Z"
   },
   {
    "duration": 24,
    "start_time": "2023-02-03T16:21:21.298Z"
   },
   {
    "duration": 4,
    "start_time": "2023-02-03T16:22:16.878Z"
   },
   {
    "duration": 279508,
    "start_time": "2023-02-03T16:22:20.498Z"
   },
   {
    "duration": 1297,
    "start_time": "2023-02-03T16:29:33.145Z"
   },
   {
    "duration": 788,
    "start_time": "2023-02-03T16:29:34.444Z"
   },
   {
    "duration": 448,
    "start_time": "2023-02-03T16:29:35.234Z"
   },
   {
    "duration": 132,
    "start_time": "2023-02-03T16:29:35.684Z"
   },
   {
    "duration": 133,
    "start_time": "2023-02-03T16:29:35.822Z"
   },
   {
    "duration": 837,
    "start_time": "2023-02-03T16:29:35.957Z"
   },
   {
    "duration": 26,
    "start_time": "2023-02-03T16:29:36.795Z"
   },
   {
    "duration": 3,
    "start_time": "2023-02-03T16:29:36.823Z"
   },
   {
    "duration": 41,
    "start_time": "2023-02-03T16:29:36.828Z"
   },
   {
    "duration": 32,
    "start_time": "2023-02-03T16:29:36.872Z"
   },
   {
    "duration": 253,
    "start_time": "2023-02-03T16:29:36.905Z"
   },
   {
    "duration": 277,
    "start_time": "2023-02-03T16:29:37.159Z"
   },
   {
    "duration": 10,
    "start_time": "2023-02-03T16:29:37.438Z"
   },
   {
    "duration": 20,
    "start_time": "2023-02-03T16:29:37.449Z"
   },
   {
    "duration": 31,
    "start_time": "2023-02-03T16:29:37.471Z"
   },
   {
    "duration": 126,
    "start_time": "2023-02-03T16:29:37.504Z"
   },
   {
    "duration": 14,
    "start_time": "2023-02-03T16:29:37.631Z"
   },
   {
    "duration": 264,
    "start_time": "2023-02-03T16:29:37.647Z"
   },
   {
    "duration": 19,
    "start_time": "2023-02-03T16:29:37.913Z"
   },
   {
    "duration": 6,
    "start_time": "2023-02-03T16:29:37.934Z"
   },
   {
    "duration": 13,
    "start_time": "2023-02-03T16:29:37.941Z"
   },
   {
    "duration": 255,
    "start_time": "2023-02-03T16:29:37.956Z"
   },
   {
    "duration": 258,
    "start_time": "2023-02-03T16:29:38.213Z"
   },
   {
    "duration": 22,
    "start_time": "2023-02-03T16:29:38.472Z"
   },
   {
    "duration": 107,
    "start_time": "2023-02-03T16:29:38.496Z"
   },
   {
    "duration": 13,
    "start_time": "2023-02-03T16:29:38.605Z"
   },
   {
    "duration": 30,
    "start_time": "2023-02-03T16:29:38.619Z"
   },
   {
    "duration": 12,
    "start_time": "2023-02-03T16:29:38.652Z"
   },
   {
    "duration": 29,
    "start_time": "2023-02-03T16:29:38.665Z"
   },
   {
    "duration": 20,
    "start_time": "2023-02-03T16:29:38.695Z"
   },
   {
    "duration": 23,
    "start_time": "2023-02-03T16:29:38.716Z"
   },
   {
    "duration": 64,
    "start_time": "2023-02-03T16:29:38.740Z"
   },
   {
    "duration": 116,
    "start_time": "2023-02-03T16:29:38.806Z"
   },
   {
    "duration": 33,
    "start_time": "2023-02-03T16:29:38.924Z"
   },
   {
    "duration": 68,
    "start_time": "2023-02-03T16:29:38.959Z"
   },
   {
    "duration": 30,
    "start_time": "2023-02-03T16:29:39.029Z"
   },
   {
    "duration": 3,
    "start_time": "2023-02-03T16:29:39.061Z"
   },
   {
    "duration": 184,
    "start_time": "2023-02-03T16:29:39.065Z"
   },
   {
    "duration": 56,
    "start_time": "2023-02-03T16:29:39.251Z"
   },
   {
    "duration": 59,
    "start_time": "2023-02-03T16:29:39.308Z"
   },
   {
    "duration": 48,
    "start_time": "2023-02-03T16:29:39.368Z"
   },
   {
    "duration": 13,
    "start_time": "2023-02-03T16:29:39.418Z"
   },
   {
    "duration": 12,
    "start_time": "2023-02-03T16:29:39.432Z"
   },
   {
    "duration": 86,
    "start_time": "2023-02-03T16:29:39.445Z"
   },
   {
    "duration": 33,
    "start_time": "2023-02-03T16:29:39.533Z"
   },
   {
    "duration": 47,
    "start_time": "2023-02-03T16:29:39.568Z"
   },
   {
    "duration": 34,
    "start_time": "2023-02-03T16:29:39.617Z"
   },
   {
    "duration": 40,
    "start_time": "2023-02-03T16:29:39.653Z"
   },
   {
    "duration": 30,
    "start_time": "2023-02-03T16:29:39.695Z"
   },
   {
    "duration": 3,
    "start_time": "2023-02-03T16:29:39.727Z"
   },
   {
    "duration": 18,
    "start_time": "2023-02-03T16:29:39.732Z"
   },
   {
    "duration": 426,
    "start_time": "2023-02-03T16:29:39.751Z"
   },
   {
    "duration": 0,
    "start_time": "2023-02-03T16:29:40.178Z"
   },
   {
    "duration": 0,
    "start_time": "2023-02-03T16:29:40.179Z"
   },
   {
    "duration": 0,
    "start_time": "2023-02-03T16:29:40.180Z"
   },
   {
    "duration": 0,
    "start_time": "2023-02-03T16:29:40.181Z"
   },
   {
    "duration": 0,
    "start_time": "2023-02-03T16:29:40.191Z"
   },
   {
    "duration": 1343,
    "start_time": "2023-02-03T16:30:29.108Z"
   },
   {
    "duration": 792,
    "start_time": "2023-02-03T16:30:30.452Z"
   },
   {
    "duration": 460,
    "start_time": "2023-02-03T16:30:31.245Z"
   },
   {
    "duration": 134,
    "start_time": "2023-02-03T16:30:31.706Z"
   },
   {
    "duration": 127,
    "start_time": "2023-02-03T16:30:31.842Z"
   },
   {
    "duration": 819,
    "start_time": "2023-02-03T16:30:31.971Z"
   },
   {
    "duration": 26,
    "start_time": "2023-02-03T16:30:32.791Z"
   },
   {
    "duration": 9,
    "start_time": "2023-02-03T16:30:32.818Z"
   },
   {
    "duration": 40,
    "start_time": "2023-02-03T16:30:32.828Z"
   },
   {
    "duration": 29,
    "start_time": "2023-02-03T16:30:32.871Z"
   },
   {
    "duration": 250,
    "start_time": "2023-02-03T16:30:32.901Z"
   },
   {
    "duration": 270,
    "start_time": "2023-02-03T16:30:33.152Z"
   },
   {
    "duration": 12,
    "start_time": "2023-02-03T16:30:33.424Z"
   },
   {
    "duration": 11,
    "start_time": "2023-02-03T16:30:33.438Z"
   },
   {
    "duration": 41,
    "start_time": "2023-02-03T16:30:33.450Z"
   },
   {
    "duration": 111,
    "start_time": "2023-02-03T16:30:33.493Z"
   },
   {
    "duration": 13,
    "start_time": "2023-02-03T16:30:33.606Z"
   },
   {
    "duration": 262,
    "start_time": "2023-02-03T16:30:33.621Z"
   },
   {
    "duration": 25,
    "start_time": "2023-02-03T16:30:33.884Z"
   },
   {
    "duration": 6,
    "start_time": "2023-02-03T16:30:33.910Z"
   },
   {
    "duration": 7,
    "start_time": "2023-02-03T16:30:33.918Z"
   },
   {
    "duration": 257,
    "start_time": "2023-02-03T16:30:33.927Z"
   },
   {
    "duration": 251,
    "start_time": "2023-02-03T16:30:34.191Z"
   },
   {
    "duration": 18,
    "start_time": "2023-02-03T16:30:34.443Z"
   },
   {
    "duration": 110,
    "start_time": "2023-02-03T16:30:34.463Z"
   },
   {
    "duration": 22,
    "start_time": "2023-02-03T16:30:34.574Z"
   },
   {
    "duration": 29,
    "start_time": "2023-02-03T16:30:34.598Z"
   },
   {
    "duration": 13,
    "start_time": "2023-02-03T16:30:34.632Z"
   },
   {
    "duration": 14,
    "start_time": "2023-02-03T16:30:34.646Z"
   },
   {
    "duration": 41,
    "start_time": "2023-02-03T16:30:34.661Z"
   },
   {
    "duration": 22,
    "start_time": "2023-02-03T16:30:34.704Z"
   },
   {
    "duration": 69,
    "start_time": "2023-02-03T16:30:34.728Z"
   },
   {
    "duration": 123,
    "start_time": "2023-02-03T16:30:34.799Z"
   },
   {
    "duration": 35,
    "start_time": "2023-02-03T16:30:34.924Z"
   },
   {
    "duration": 80,
    "start_time": "2023-02-03T16:30:34.961Z"
   },
   {
    "duration": 32,
    "start_time": "2023-02-03T16:30:35.043Z"
   },
   {
    "duration": 16,
    "start_time": "2023-02-03T16:30:35.077Z"
   },
   {
    "duration": 179,
    "start_time": "2023-02-03T16:30:35.095Z"
   },
   {
    "duration": 59,
    "start_time": "2023-02-03T16:30:35.276Z"
   },
   {
    "duration": 72,
    "start_time": "2023-02-03T16:30:35.337Z"
   },
   {
    "duration": 34,
    "start_time": "2023-02-03T16:30:35.410Z"
   },
   {
    "duration": 15,
    "start_time": "2023-02-03T16:30:35.445Z"
   },
   {
    "duration": 38,
    "start_time": "2023-02-03T16:30:35.462Z"
   },
   {
    "duration": 71,
    "start_time": "2023-02-03T16:30:35.502Z"
   },
   {
    "duration": 39,
    "start_time": "2023-02-03T16:30:35.575Z"
   },
   {
    "duration": 48,
    "start_time": "2023-02-03T16:30:35.616Z"
   },
   {
    "duration": 47,
    "start_time": "2023-02-03T16:30:35.666Z"
   },
   {
    "duration": 36,
    "start_time": "2023-02-03T16:30:35.716Z"
   },
   {
    "duration": 43,
    "start_time": "2023-02-03T16:30:35.754Z"
   },
   {
    "duration": 4,
    "start_time": "2023-02-03T16:30:35.799Z"
   },
   {
    "duration": 8,
    "start_time": "2023-02-03T16:30:35.805Z"
   },
   {
    "duration": 589,
    "start_time": "2023-02-03T16:30:35.815Z"
   },
   {
    "duration": 0,
    "start_time": "2023-02-03T16:30:36.406Z"
   },
   {
    "duration": 0,
    "start_time": "2023-02-03T16:30:36.407Z"
   },
   {
    "duration": 0,
    "start_time": "2023-02-03T16:30:36.409Z"
   },
   {
    "duration": 0,
    "start_time": "2023-02-03T16:30:36.411Z"
   },
   {
    "duration": 0,
    "start_time": "2023-02-03T16:30:36.412Z"
   },
   {
    "duration": 1432,
    "start_time": "2023-02-03T16:30:55.302Z"
   },
   {
    "duration": 784,
    "start_time": "2023-02-03T16:30:56.736Z"
   },
   {
    "duration": 457,
    "start_time": "2023-02-03T16:30:57.522Z"
   },
   {
    "duration": 134,
    "start_time": "2023-02-03T16:30:57.980Z"
   },
   {
    "duration": 129,
    "start_time": "2023-02-03T16:30:58.115Z"
   },
   {
    "duration": 808,
    "start_time": "2023-02-03T16:30:58.245Z"
   },
   {
    "duration": 37,
    "start_time": "2023-02-03T16:30:59.055Z"
   },
   {
    "duration": 3,
    "start_time": "2023-02-03T16:30:59.093Z"
   },
   {
    "duration": 41,
    "start_time": "2023-02-03T16:30:59.098Z"
   },
   {
    "duration": 16,
    "start_time": "2023-02-03T16:30:59.141Z"
   },
   {
    "duration": 178,
    "start_time": "2023-02-03T16:30:59.159Z"
   },
   {
    "duration": 338,
    "start_time": "2023-02-03T16:30:59.338Z"
   },
   {
    "duration": 19,
    "start_time": "2023-02-03T16:30:59.678Z"
   },
   {
    "duration": 12,
    "start_time": "2023-02-03T16:30:59.700Z"
   },
   {
    "duration": 20,
    "start_time": "2023-02-03T16:30:59.713Z"
   },
   {
    "duration": 131,
    "start_time": "2023-02-03T16:30:59.734Z"
   },
   {
    "duration": 13,
    "start_time": "2023-02-03T16:30:59.867Z"
   },
   {
    "duration": 257,
    "start_time": "2023-02-03T16:30:59.890Z"
   },
   {
    "duration": 19,
    "start_time": "2023-02-03T16:31:00.149Z"
   },
   {
    "duration": 22,
    "start_time": "2023-02-03T16:31:00.170Z"
   },
   {
    "duration": 5,
    "start_time": "2023-02-03T16:31:00.194Z"
   },
   {
    "duration": 246,
    "start_time": "2023-02-03T16:31:00.201Z"
   },
   {
    "duration": 262,
    "start_time": "2023-02-03T16:31:00.449Z"
   },
   {
    "duration": 19,
    "start_time": "2023-02-03T16:31:00.712Z"
   },
   {
    "duration": 112,
    "start_time": "2023-02-03T16:31:00.732Z"
   },
   {
    "duration": 14,
    "start_time": "2023-02-03T16:31:00.845Z"
   },
   {
    "duration": 48,
    "start_time": "2023-02-03T16:31:00.860Z"
   },
   {
    "duration": 25,
    "start_time": "2023-02-03T16:31:00.909Z"
   },
   {
    "duration": 40,
    "start_time": "2023-02-03T16:31:00.935Z"
   },
   {
    "duration": 35,
    "start_time": "2023-02-03T16:31:00.976Z"
   },
   {
    "duration": 38,
    "start_time": "2023-02-03T16:31:01.012Z"
   },
   {
    "duration": 82,
    "start_time": "2023-02-03T16:31:01.051Z"
   },
   {
    "duration": 138,
    "start_time": "2023-02-03T16:31:01.135Z"
   },
   {
    "duration": 42,
    "start_time": "2023-02-03T16:31:01.275Z"
   },
   {
    "duration": 74,
    "start_time": "2023-02-03T16:31:01.319Z"
   },
   {
    "duration": 30,
    "start_time": "2023-02-03T16:31:01.395Z"
   },
   {
    "duration": 9,
    "start_time": "2023-02-03T16:31:01.427Z"
   },
   {
    "duration": 208,
    "start_time": "2023-02-03T16:31:01.438Z"
   },
   {
    "duration": 62,
    "start_time": "2023-02-03T16:31:01.647Z"
   },
   {
    "duration": 66,
    "start_time": "2023-02-03T16:31:01.710Z"
   },
   {
    "duration": 34,
    "start_time": "2023-02-03T16:31:01.791Z"
   },
   {
    "duration": 13,
    "start_time": "2023-02-03T16:31:01.827Z"
   },
   {
    "duration": 36,
    "start_time": "2023-02-03T16:31:01.842Z"
   },
   {
    "duration": 68,
    "start_time": "2023-02-03T16:31:01.879Z"
   },
   {
    "duration": 38,
    "start_time": "2023-02-03T16:31:01.949Z"
   },
   {
    "duration": 40,
    "start_time": "2023-02-03T16:31:01.989Z"
   },
   {
    "duration": 57,
    "start_time": "2023-02-03T16:31:02.031Z"
   },
   {
    "duration": 28,
    "start_time": "2023-02-03T16:31:02.090Z"
   },
   {
    "duration": 30,
    "start_time": "2023-02-03T16:31:02.120Z"
   },
   {
    "duration": 81,
    "start_time": "2023-02-03T16:31:02.152Z"
   },
   {
    "duration": 20,
    "start_time": "2023-02-03T16:31:02.234Z"
   },
   {
    "duration": 454,
    "start_time": "2023-02-03T16:31:02.256Z"
   },
   {
    "duration": 0,
    "start_time": "2023-02-03T16:31:02.712Z"
   },
   {
    "duration": 0,
    "start_time": "2023-02-03T16:31:02.713Z"
   },
   {
    "duration": 0,
    "start_time": "2023-02-03T16:31:02.714Z"
   },
   {
    "duration": 1,
    "start_time": "2023-02-03T16:31:02.715Z"
   },
   {
    "duration": 0,
    "start_time": "2023-02-03T16:31:02.717Z"
   },
   {
    "duration": 1324,
    "start_time": "2023-02-03T16:31:28.302Z"
   },
   {
    "duration": 774,
    "start_time": "2023-02-03T16:31:29.628Z"
   },
   {
    "duration": 449,
    "start_time": "2023-02-03T16:31:30.404Z"
   },
   {
    "duration": 123,
    "start_time": "2023-02-03T16:31:30.855Z"
   },
   {
    "duration": 122,
    "start_time": "2023-02-03T16:31:30.979Z"
   },
   {
    "duration": 788,
    "start_time": "2023-02-03T16:31:31.103Z"
   },
   {
    "duration": 26,
    "start_time": "2023-02-03T16:31:31.893Z"
   },
   {
    "duration": 3,
    "start_time": "2023-02-03T16:31:31.920Z"
   },
   {
    "duration": 54,
    "start_time": "2023-02-03T16:31:31.925Z"
   },
   {
    "duration": 15,
    "start_time": "2023-02-03T16:31:31.982Z"
   },
   {
    "duration": 264,
    "start_time": "2023-02-03T16:31:31.999Z"
   },
   {
    "duration": 255,
    "start_time": "2023-02-03T16:31:32.265Z"
   },
   {
    "duration": 11,
    "start_time": "2023-02-03T16:31:32.521Z"
   },
   {
    "duration": 12,
    "start_time": "2023-02-03T16:31:32.533Z"
   },
   {
    "duration": 45,
    "start_time": "2023-02-03T16:31:32.547Z"
   },
   {
    "duration": 114,
    "start_time": "2023-02-03T16:31:32.594Z"
   },
   {
    "duration": 13,
    "start_time": "2023-02-03T16:31:32.709Z"
   },
   {
    "duration": 309,
    "start_time": "2023-02-03T16:31:32.723Z"
   },
   {
    "duration": 19,
    "start_time": "2023-02-03T16:31:33.033Z"
   },
   {
    "duration": 6,
    "start_time": "2023-02-03T16:31:33.054Z"
   },
   {
    "duration": 12,
    "start_time": "2023-02-03T16:31:33.061Z"
   },
   {
    "duration": 249,
    "start_time": "2023-02-03T16:31:33.075Z"
   },
   {
    "duration": 237,
    "start_time": "2023-02-03T16:31:33.326Z"
   },
   {
    "duration": 18,
    "start_time": "2023-02-03T16:31:33.564Z"
   },
   {
    "duration": 93,
    "start_time": "2023-02-03T16:31:33.590Z"
   },
   {
    "duration": 14,
    "start_time": "2023-02-03T16:31:33.691Z"
   },
   {
    "duration": 30,
    "start_time": "2023-02-03T16:31:33.706Z"
   },
   {
    "duration": 11,
    "start_time": "2023-02-03T16:31:33.739Z"
   },
   {
    "duration": 13,
    "start_time": "2023-02-03T16:31:33.751Z"
   },
   {
    "duration": 40,
    "start_time": "2023-02-03T16:31:33.766Z"
   },
   {
    "duration": 28,
    "start_time": "2023-02-03T16:31:33.807Z"
   },
   {
    "duration": 58,
    "start_time": "2023-02-03T16:31:33.837Z"
   },
   {
    "duration": 114,
    "start_time": "2023-02-03T16:31:33.896Z"
   },
   {
    "duration": 30,
    "start_time": "2023-02-03T16:31:34.012Z"
   },
   {
    "duration": 72,
    "start_time": "2023-02-03T16:31:34.044Z"
   },
   {
    "duration": 28,
    "start_time": "2023-02-03T16:31:34.117Z"
   },
   {
    "duration": 3,
    "start_time": "2023-02-03T16:31:34.147Z"
   },
   {
    "duration": 179,
    "start_time": "2023-02-03T16:31:34.151Z"
   },
   {
    "duration": 61,
    "start_time": "2023-02-03T16:31:34.331Z"
   },
   {
    "duration": 59,
    "start_time": "2023-02-03T16:31:34.394Z"
   },
   {
    "duration": 48,
    "start_time": "2023-02-03T16:31:34.454Z"
   },
   {
    "duration": 13,
    "start_time": "2023-02-03T16:31:34.504Z"
   },
   {
    "duration": 12,
    "start_time": "2023-02-03T16:31:34.519Z"
   },
   {
    "duration": 83,
    "start_time": "2023-02-03T16:31:34.532Z"
   },
   {
    "duration": 40,
    "start_time": "2023-02-03T16:31:34.617Z"
   },
   {
    "duration": 48,
    "start_time": "2023-02-03T16:31:34.658Z"
   },
   {
    "duration": 39,
    "start_time": "2023-02-03T16:31:34.708Z"
   },
   {
    "duration": 51,
    "start_time": "2023-02-03T16:31:34.748Z"
   },
   {
    "duration": 33,
    "start_time": "2023-02-03T16:31:34.800Z"
   },
   {
    "duration": 3,
    "start_time": "2023-02-03T16:31:34.835Z"
   },
   {
    "duration": 7,
    "start_time": "2023-02-03T16:31:34.839Z"
   },
   {
    "duration": 419,
    "start_time": "2023-02-03T16:31:34.847Z"
   },
   {
    "duration": 0,
    "start_time": "2023-02-03T16:31:35.268Z"
   },
   {
    "duration": 0,
    "start_time": "2023-02-03T16:31:35.268Z"
   },
   {
    "duration": 0,
    "start_time": "2023-02-03T16:31:35.269Z"
   },
   {
    "duration": 0,
    "start_time": "2023-02-03T16:31:35.270Z"
   },
   {
    "duration": 0,
    "start_time": "2023-02-03T16:31:35.271Z"
   },
   {
    "duration": 30,
    "start_time": "2023-02-03T16:32:09.598Z"
   },
   {
    "duration": 315,
    "start_time": "2023-02-03T16:32:13.109Z"
   },
   {
    "duration": 29,
    "start_time": "2023-02-03T16:32:19.421Z"
   },
   {
    "duration": 4,
    "start_time": "2023-02-03T16:32:19.613Z"
   },
   {
    "duration": 4,
    "start_time": "2023-02-03T16:32:19.809Z"
   },
   {
    "duration": 32,
    "start_time": "2023-02-03T16:32:26.079Z"
   },
   {
    "duration": 4,
    "start_time": "2023-02-03T16:32:26.430Z"
   },
   {
    "duration": 5,
    "start_time": "2023-02-03T16:32:26.710Z"
   },
   {
    "duration": 298,
    "start_time": "2023-02-03T16:32:27.376Z"
   },
   {
    "duration": 30,
    "start_time": "2023-02-03T16:32:32.173Z"
   },
   {
    "duration": 4,
    "start_time": "2023-02-03T16:32:32.356Z"
   },
   {
    "duration": 4,
    "start_time": "2023-02-03T16:32:32.582Z"
   },
   {
    "duration": 303,
    "start_time": "2023-02-03T16:32:32.995Z"
   },
   {
    "duration": 1404,
    "start_time": "2023-02-03T16:32:55.506Z"
   },
   {
    "duration": 766,
    "start_time": "2023-02-03T16:32:56.912Z"
   },
   {
    "duration": 456,
    "start_time": "2023-02-03T16:32:57.679Z"
   },
   {
    "duration": 132,
    "start_time": "2023-02-03T16:32:58.136Z"
   },
   {
    "duration": 128,
    "start_time": "2023-02-03T16:32:58.270Z"
   },
   {
    "duration": 802,
    "start_time": "2023-02-03T16:32:58.400Z"
   },
   {
    "duration": 25,
    "start_time": "2023-02-03T16:32:59.204Z"
   },
   {
    "duration": 6,
    "start_time": "2023-02-03T16:32:59.230Z"
   },
   {
    "duration": 42,
    "start_time": "2023-02-03T16:32:59.237Z"
   },
   {
    "duration": 16,
    "start_time": "2023-02-03T16:32:59.291Z"
   },
   {
    "duration": 176,
    "start_time": "2023-02-03T16:32:59.308Z"
   },
   {
    "duration": 335,
    "start_time": "2023-02-03T16:32:59.486Z"
   },
   {
    "duration": 11,
    "start_time": "2023-02-03T16:32:59.823Z"
   },
   {
    "duration": 11,
    "start_time": "2023-02-03T16:32:59.837Z"
   },
   {
    "duration": 19,
    "start_time": "2023-02-03T16:32:59.849Z"
   },
   {
    "duration": 129,
    "start_time": "2023-02-03T16:32:59.870Z"
   },
   {
    "duration": 14,
    "start_time": "2023-02-03T16:33:00.000Z"
   },
   {
    "duration": 253,
    "start_time": "2023-02-03T16:33:00.015Z"
   },
   {
    "duration": 22,
    "start_time": "2023-02-03T16:33:00.270Z"
   },
   {
    "duration": 7,
    "start_time": "2023-02-03T16:33:00.294Z"
   },
   {
    "duration": 39,
    "start_time": "2023-02-03T16:33:00.302Z"
   },
   {
    "duration": 251,
    "start_time": "2023-02-03T16:33:00.342Z"
   },
   {
    "duration": 245,
    "start_time": "2023-02-03T16:33:00.594Z"
   },
   {
    "duration": 21,
    "start_time": "2023-02-03T16:33:00.840Z"
   },
   {
    "duration": 112,
    "start_time": "2023-02-03T16:33:00.863Z"
   },
   {
    "duration": 18,
    "start_time": "2023-02-03T16:33:00.976Z"
   },
   {
    "duration": 54,
    "start_time": "2023-02-03T16:33:00.995Z"
   },
   {
    "duration": 45,
    "start_time": "2023-02-03T16:33:01.050Z"
   },
   {
    "duration": 30,
    "start_time": "2023-02-03T16:33:01.096Z"
   },
   {
    "duration": 34,
    "start_time": "2023-02-03T16:33:01.128Z"
   },
   {
    "duration": 40,
    "start_time": "2023-02-03T16:33:01.164Z"
   },
   {
    "duration": 66,
    "start_time": "2023-02-03T16:33:01.206Z"
   },
   {
    "duration": 122,
    "start_time": "2023-02-03T16:33:01.273Z"
   },
   {
    "duration": 31,
    "start_time": "2023-02-03T16:33:01.397Z"
   },
   {
    "duration": 71,
    "start_time": "2023-02-03T16:33:01.430Z"
   },
   {
    "duration": 30,
    "start_time": "2023-02-03T16:33:01.502Z"
   },
   {
    "duration": 26,
    "start_time": "2023-02-03T16:33:01.534Z"
   },
   {
    "duration": 199,
    "start_time": "2023-02-03T16:33:01.561Z"
   },
   {
    "duration": 62,
    "start_time": "2023-02-03T16:33:01.761Z"
   },
   {
    "duration": 105,
    "start_time": "2023-02-03T16:33:01.824Z"
   },
   {
    "duration": 35,
    "start_time": "2023-02-03T16:33:01.933Z"
   },
   {
    "duration": 24,
    "start_time": "2023-02-03T16:33:01.970Z"
   },
   {
    "duration": 24,
    "start_time": "2023-02-03T16:33:01.996Z"
   },
   {
    "duration": 107,
    "start_time": "2023-02-03T16:33:02.021Z"
   },
   {
    "duration": 34,
    "start_time": "2023-02-03T16:33:02.129Z"
   },
   {
    "duration": 46,
    "start_time": "2023-02-03T16:33:02.164Z"
   },
   {
    "duration": 74,
    "start_time": "2023-02-03T16:33:02.212Z"
   },
   {
    "duration": 30,
    "start_time": "2023-02-03T16:33:02.287Z"
   },
   {
    "duration": 31,
    "start_time": "2023-02-03T16:33:02.319Z"
   },
   {
    "duration": 3,
    "start_time": "2023-02-03T16:33:02.352Z"
   },
   {
    "duration": 10,
    "start_time": "2023-02-03T16:33:02.357Z"
   },
   {
    "duration": 424,
    "start_time": "2023-02-03T16:33:02.368Z"
   },
   {
    "duration": 0,
    "start_time": "2023-02-03T16:33:02.794Z"
   },
   {
    "duration": 0,
    "start_time": "2023-02-03T16:33:02.795Z"
   },
   {
    "duration": 0,
    "start_time": "2023-02-03T16:33:02.796Z"
   },
   {
    "duration": 0,
    "start_time": "2023-02-03T16:33:02.797Z"
   },
   {
    "duration": 0,
    "start_time": "2023-02-03T16:33:02.798Z"
   },
   {
    "duration": 329,
    "start_time": "2023-02-03T16:33:47.840Z"
   },
   {
    "duration": 68327,
    "start_time": "2023-02-03T16:33:48.171Z"
   },
   {
    "duration": 1295,
    "start_time": "2023-02-03T16:36:08.551Z"
   },
   {
    "duration": 767,
    "start_time": "2023-02-03T16:36:09.847Z"
   },
   {
    "duration": 452,
    "start_time": "2023-02-03T16:36:10.615Z"
   },
   {
    "duration": 152,
    "start_time": "2023-02-03T16:36:11.069Z"
   },
   {
    "duration": 141,
    "start_time": "2023-02-03T16:36:11.223Z"
   },
   {
    "duration": 847,
    "start_time": "2023-02-03T16:36:11.365Z"
   },
   {
    "duration": 27,
    "start_time": "2023-02-03T16:36:12.213Z"
   },
   {
    "duration": 6,
    "start_time": "2023-02-03T16:36:12.241Z"
   },
   {
    "duration": 50,
    "start_time": "2023-02-03T16:36:12.249Z"
   },
   {
    "duration": 16,
    "start_time": "2023-02-03T16:36:12.302Z"
   },
   {
    "duration": 186,
    "start_time": "2023-02-03T16:36:12.320Z"
   },
   {
    "duration": 338,
    "start_time": "2023-02-03T16:36:12.508Z"
   },
   {
    "duration": 10,
    "start_time": "2023-02-03T16:36:12.847Z"
   },
   {
    "duration": 12,
    "start_time": "2023-02-03T16:36:12.859Z"
   },
   {
    "duration": 42,
    "start_time": "2023-02-03T16:36:12.873Z"
   },
   {
    "duration": 106,
    "start_time": "2023-02-03T16:36:12.917Z"
   },
   {
    "duration": 15,
    "start_time": "2023-02-03T16:36:13.025Z"
   },
   {
    "duration": 272,
    "start_time": "2023-02-03T16:36:13.041Z"
   },
   {
    "duration": 23,
    "start_time": "2023-02-03T16:36:13.314Z"
   },
   {
    "duration": 6,
    "start_time": "2023-02-03T16:36:13.339Z"
   },
   {
    "duration": 7,
    "start_time": "2023-02-03T16:36:13.347Z"
   },
   {
    "duration": 282,
    "start_time": "2023-02-03T16:36:13.355Z"
   },
   {
    "duration": 253,
    "start_time": "2023-02-03T16:36:13.639Z"
   },
   {
    "duration": 21,
    "start_time": "2023-02-03T16:36:13.893Z"
   },
   {
    "duration": 134,
    "start_time": "2023-02-03T16:36:13.916Z"
   },
   {
    "duration": 15,
    "start_time": "2023-02-03T16:36:14.052Z"
   },
   {
    "duration": 41,
    "start_time": "2023-02-03T16:36:14.068Z"
   },
   {
    "duration": 14,
    "start_time": "2023-02-03T16:36:14.112Z"
   },
   {
    "duration": 15,
    "start_time": "2023-02-03T16:36:14.127Z"
   },
   {
    "duration": 34,
    "start_time": "2023-02-03T16:36:14.143Z"
   },
   {
    "duration": 33,
    "start_time": "2023-02-03T16:36:14.179Z"
   },
   {
    "duration": 61,
    "start_time": "2023-02-03T16:36:14.213Z"
   },
   {
    "duration": 147,
    "start_time": "2023-02-03T16:36:14.275Z"
   },
   {
    "duration": 31,
    "start_time": "2023-02-03T16:36:14.424Z"
   },
   {
    "duration": 78,
    "start_time": "2023-02-03T16:36:14.456Z"
   },
   {
    "duration": 35,
    "start_time": "2023-02-03T16:36:14.536Z"
   },
   {
    "duration": 3,
    "start_time": "2023-02-03T16:36:14.573Z"
   },
   {
    "duration": 216,
    "start_time": "2023-02-03T16:36:14.577Z"
   },
   {
    "duration": 69,
    "start_time": "2023-02-03T16:36:14.794Z"
   },
   {
    "duration": 86,
    "start_time": "2023-02-03T16:36:14.865Z"
   },
   {
    "duration": 51,
    "start_time": "2023-02-03T16:36:14.953Z"
   },
   {
    "duration": 15,
    "start_time": "2023-02-03T16:36:15.006Z"
   },
   {
    "duration": 30,
    "start_time": "2023-02-03T16:36:15.023Z"
   },
   {
    "duration": 82,
    "start_time": "2023-02-03T16:36:15.055Z"
   },
   {
    "duration": 53,
    "start_time": "2023-02-03T16:36:15.138Z"
   },
   {
    "duration": 46,
    "start_time": "2023-02-03T16:36:15.193Z"
   },
   {
    "duration": 53,
    "start_time": "2023-02-03T16:36:15.241Z"
   },
   {
    "duration": 34,
    "start_time": "2023-02-03T16:36:15.296Z"
   },
   {
    "duration": 38,
    "start_time": "2023-02-03T16:36:15.331Z"
   },
   {
    "duration": 21,
    "start_time": "2023-02-03T16:36:15.370Z"
   },
   {
    "duration": 4,
    "start_time": "2023-02-03T16:36:15.393Z"
   },
   {
    "duration": 438,
    "start_time": "2023-02-03T16:36:15.399Z"
   },
   {
    "duration": 16,
    "start_time": "2023-02-03T16:36:15.839Z"
   },
   {
    "duration": 445,
    "start_time": "2023-02-03T16:36:15.857Z"
   },
   {
    "duration": 0,
    "start_time": "2023-02-03T16:36:50.341Z"
   },
   {
    "duration": 0,
    "start_time": "2023-02-03T16:36:50.342Z"
   },
   {
    "duration": 0,
    "start_time": "2023-02-03T16:36:50.343Z"
   },
   {
    "duration": 0,
    "start_time": "2023-02-03T16:36:50.345Z"
   },
   {
    "duration": 0,
    "start_time": "2023-02-03T16:36:50.346Z"
   },
   {
    "duration": 0,
    "start_time": "2023-02-03T16:36:50.347Z"
   },
   {
    "duration": 0,
    "start_time": "2023-02-03T16:36:50.348Z"
   },
   {
    "duration": 0,
    "start_time": "2023-02-03T16:36:50.349Z"
   },
   {
    "duration": 0,
    "start_time": "2023-02-03T16:36:50.350Z"
   },
   {
    "duration": 0,
    "start_time": "2023-02-03T16:36:50.352Z"
   },
   {
    "duration": 0,
    "start_time": "2023-02-03T16:36:50.353Z"
   },
   {
    "duration": 48,
    "start_time": "2023-02-03T16:42:00.603Z"
   },
   {
    "duration": 41,
    "start_time": "2023-02-03T16:42:00.852Z"
   },
   {
    "duration": 40,
    "start_time": "2023-02-03T16:42:01.152Z"
   },
   {
    "duration": 3,
    "start_time": "2023-02-03T16:42:01.415Z"
   },
   {
    "duration": 4,
    "start_time": "2023-02-03T16:42:01.680Z"
   },
   {
    "duration": 429,
    "start_time": "2023-02-03T16:42:02.113Z"
   },
   {
    "duration": 18,
    "start_time": "2023-02-03T16:42:02.544Z"
   },
   {
    "duration": 425,
    "start_time": "2023-02-03T16:42:03.169Z"
   },
   {
    "duration": 89464,
    "start_time": "2023-02-03T16:42:03.933Z"
   },
   {
    "duration": 27594,
    "start_time": "2023-02-03T16:43:33.401Z"
   },
   {
    "duration": 267321,
    "start_time": "2023-02-03T16:44:01.090Z"
   },
   {
    "duration": 1374,
    "start_time": "2023-02-03T16:53:35.577Z"
   },
   {
    "duration": 770,
    "start_time": "2023-02-03T16:53:36.953Z"
   },
   {
    "duration": 452,
    "start_time": "2023-02-03T16:53:37.724Z"
   },
   {
    "duration": 142,
    "start_time": "2023-02-03T16:53:38.178Z"
   },
   {
    "duration": 130,
    "start_time": "2023-02-03T16:53:38.321Z"
   },
   {
    "duration": 1360,
    "start_time": "2023-02-03T16:53:38.452Z"
   },
   {
    "duration": 77,
    "start_time": "2023-02-03T16:53:39.814Z"
   },
   {
    "duration": 10,
    "start_time": "2023-02-03T16:53:39.893Z"
   },
   {
    "duration": 94,
    "start_time": "2023-02-03T16:53:39.905Z"
   },
   {
    "duration": 16,
    "start_time": "2023-02-03T16:53:40.001Z"
   },
   {
    "duration": 387,
    "start_time": "2023-02-03T16:53:40.019Z"
   },
   {
    "duration": 255,
    "start_time": "2023-02-03T16:53:40.408Z"
   },
   {
    "duration": 11,
    "start_time": "2023-02-03T16:53:40.665Z"
   },
   {
    "duration": 23,
    "start_time": "2023-02-03T16:53:40.677Z"
   },
   {
    "duration": 19,
    "start_time": "2023-02-03T16:53:40.701Z"
   },
   {
    "duration": 134,
    "start_time": "2023-02-03T16:53:40.721Z"
   },
   {
    "duration": 13,
    "start_time": "2023-02-03T16:53:40.857Z"
   },
   {
    "duration": 256,
    "start_time": "2023-02-03T16:53:40.871Z"
   },
   {
    "duration": 18,
    "start_time": "2023-02-03T16:53:41.129Z"
   },
   {
    "duration": 7,
    "start_time": "2023-02-03T16:53:41.148Z"
   },
   {
    "duration": 6,
    "start_time": "2023-02-03T16:53:41.156Z"
   },
   {
    "duration": 258,
    "start_time": "2023-02-03T16:53:41.163Z"
   },
   {
    "duration": 238,
    "start_time": "2023-02-03T16:53:41.422Z"
   },
   {
    "duration": 18,
    "start_time": "2023-02-03T16:53:41.661Z"
   },
   {
    "duration": 101,
    "start_time": "2023-02-03T16:53:41.691Z"
   },
   {
    "duration": 14,
    "start_time": "2023-02-03T16:53:41.794Z"
   },
   {
    "duration": 31,
    "start_time": "2023-02-03T16:53:41.810Z"
   },
   {
    "duration": 11,
    "start_time": "2023-02-03T16:53:41.844Z"
   },
   {
    "duration": 35,
    "start_time": "2023-02-03T16:53:41.857Z"
   },
   {
    "duration": 21,
    "start_time": "2023-02-03T16:53:41.894Z"
   },
   {
    "duration": 21,
    "start_time": "2023-02-03T16:53:41.917Z"
   },
   {
    "duration": 60,
    "start_time": "2023-02-03T16:53:41.939Z"
   },
   {
    "duration": 118,
    "start_time": "2023-02-03T16:53:42.000Z"
   },
   {
    "duration": 33,
    "start_time": "2023-02-03T16:53:42.120Z"
   },
   {
    "duration": 78,
    "start_time": "2023-02-03T16:53:42.154Z"
   },
   {
    "duration": 30,
    "start_time": "2023-02-03T16:53:42.234Z"
   },
   {
    "duration": 4,
    "start_time": "2023-02-03T16:53:42.265Z"
   },
   {
    "duration": 169,
    "start_time": "2023-02-03T16:53:42.291Z"
   },
   {
    "duration": 58,
    "start_time": "2023-02-03T16:53:42.462Z"
   },
   {
    "duration": 147,
    "start_time": "2023-02-03T16:53:42.522Z"
   },
   {
    "duration": 35,
    "start_time": "2023-02-03T16:53:42.671Z"
   },
   {
    "duration": 13,
    "start_time": "2023-02-03T16:53:42.708Z"
   },
   {
    "duration": 13,
    "start_time": "2023-02-03T16:53:42.723Z"
   },
   {
    "duration": 79,
    "start_time": "2023-02-03T16:53:42.737Z"
   },
   {
    "duration": 33,
    "start_time": "2023-02-03T16:53:42.817Z"
   },
   {
    "duration": 46,
    "start_time": "2023-02-03T16:53:42.852Z"
   },
   {
    "duration": 34,
    "start_time": "2023-02-03T16:53:42.899Z"
   },
   {
    "duration": 26,
    "start_time": "2023-02-03T16:53:42.935Z"
   },
   {
    "duration": 50,
    "start_time": "2023-02-03T16:53:42.963Z"
   },
   {
    "duration": 4,
    "start_time": "2023-02-03T16:53:43.015Z"
   },
   {
    "duration": 12,
    "start_time": "2023-02-03T16:53:43.020Z"
   },
   {
    "duration": 394,
    "start_time": "2023-02-03T16:53:43.034Z"
   },
   {
    "duration": 0,
    "start_time": "2023-02-03T16:53:43.430Z"
   },
   {
    "duration": 0,
    "start_time": "2023-02-03T16:53:43.431Z"
   },
   {
    "duration": 0,
    "start_time": "2023-02-03T16:53:43.433Z"
   },
   {
    "duration": 0,
    "start_time": "2023-02-03T16:53:43.434Z"
   },
   {
    "duration": 0,
    "start_time": "2023-02-03T16:53:43.435Z"
   },
   {
    "duration": 16,
    "start_time": "2023-02-03T16:57:03.649Z"
   },
   {
    "duration": 1286,
    "start_time": "2023-02-03T16:58:05.853Z"
   },
   {
    "duration": 778,
    "start_time": "2023-02-03T16:58:07.141Z"
   },
   {
    "duration": 454,
    "start_time": "2023-02-03T16:58:07.920Z"
   },
   {
    "duration": 141,
    "start_time": "2023-02-03T16:58:08.376Z"
   },
   {
    "duration": 139,
    "start_time": "2023-02-03T16:58:08.519Z"
   },
   {
    "duration": 805,
    "start_time": "2023-02-03T16:58:08.659Z"
   },
   {
    "duration": 29,
    "start_time": "2023-02-03T16:58:09.465Z"
   },
   {
    "duration": 3,
    "start_time": "2023-02-03T16:58:09.496Z"
   },
   {
    "duration": 46,
    "start_time": "2023-02-03T16:58:09.501Z"
   },
   {
    "duration": 16,
    "start_time": "2023-02-03T16:58:09.549Z"
   },
   {
    "duration": 262,
    "start_time": "2023-02-03T16:58:09.567Z"
   },
   {
    "duration": 263,
    "start_time": "2023-02-03T16:58:09.830Z"
   },
   {
    "duration": 11,
    "start_time": "2023-02-03T16:58:10.095Z"
   },
   {
    "duration": 14,
    "start_time": "2023-02-03T16:58:10.107Z"
   },
   {
    "duration": 23,
    "start_time": "2023-02-03T16:58:10.123Z"
   },
   {
    "duration": 112,
    "start_time": "2023-02-03T16:58:10.148Z"
   },
   {
    "duration": 15,
    "start_time": "2023-02-03T16:58:10.261Z"
   },
   {
    "duration": 274,
    "start_time": "2023-02-03T16:58:10.278Z"
   },
   {
    "duration": 22,
    "start_time": "2023-02-03T16:58:10.554Z"
   },
   {
    "duration": 19,
    "start_time": "2023-02-03T16:58:10.578Z"
   },
   {
    "duration": 5,
    "start_time": "2023-02-03T16:58:10.598Z"
   },
   {
    "duration": 255,
    "start_time": "2023-02-03T16:58:10.604Z"
   },
   {
    "duration": 261,
    "start_time": "2023-02-03T16:58:10.860Z"
   },
   {
    "duration": 22,
    "start_time": "2023-02-03T16:58:11.123Z"
   },
   {
    "duration": 141,
    "start_time": "2023-02-03T16:58:11.147Z"
   },
   {
    "duration": 17,
    "start_time": "2023-02-03T16:58:11.290Z"
   },
   {
    "duration": 44,
    "start_time": "2023-02-03T16:58:11.309Z"
   },
   {
    "duration": 15,
    "start_time": "2023-02-03T16:58:11.358Z"
   },
   {
    "duration": 28,
    "start_time": "2023-02-03T16:58:11.375Z"
   },
   {
    "duration": 26,
    "start_time": "2023-02-03T16:58:11.405Z"
   },
   {
    "duration": 30,
    "start_time": "2023-02-03T16:58:11.432Z"
   },
   {
    "duration": 84,
    "start_time": "2023-02-03T16:58:11.464Z"
   },
   {
    "duration": 151,
    "start_time": "2023-02-03T16:58:11.550Z"
   },
   {
    "duration": 34,
    "start_time": "2023-02-03T16:58:11.703Z"
   },
   {
    "duration": 86,
    "start_time": "2023-02-03T16:58:11.738Z"
   },
   {
    "duration": 40,
    "start_time": "2023-02-03T16:58:11.825Z"
   },
   {
    "duration": 11,
    "start_time": "2023-02-03T16:58:11.867Z"
   },
   {
    "duration": 201,
    "start_time": "2023-02-03T16:58:11.880Z"
   },
   {
    "duration": 71,
    "start_time": "2023-02-03T16:58:12.082Z"
   },
   {
    "duration": 79,
    "start_time": "2023-02-03T16:58:12.155Z"
   },
   {
    "duration": 41,
    "start_time": "2023-02-03T16:58:12.236Z"
   },
   {
    "duration": 15,
    "start_time": "2023-02-03T16:58:12.292Z"
   },
   {
    "duration": 14,
    "start_time": "2023-02-03T16:58:12.308Z"
   },
   {
    "duration": 92,
    "start_time": "2023-02-03T16:58:12.324Z"
   },
   {
    "duration": 40,
    "start_time": "2023-02-03T16:58:12.418Z"
   },
   {
    "duration": 54,
    "start_time": "2023-02-03T16:58:12.459Z"
   },
   {
    "duration": 42,
    "start_time": "2023-02-03T16:58:12.515Z"
   },
   {
    "duration": 51,
    "start_time": "2023-02-03T16:58:12.559Z"
   },
   {
    "duration": 38,
    "start_time": "2023-02-03T16:58:12.611Z"
   },
   {
    "duration": 4,
    "start_time": "2023-02-03T16:58:12.651Z"
   },
   {
    "duration": 8,
    "start_time": "2023-02-03T16:58:12.656Z"
   },
   {
    "duration": 457,
    "start_time": "2023-02-03T16:58:12.665Z"
   },
   {
    "duration": 17,
    "start_time": "2023-02-03T16:58:13.124Z"
   },
   {
    "duration": 447,
    "start_time": "2023-02-03T16:58:13.143Z"
   },
   {
    "duration": 86705,
    "start_time": "2023-02-03T16:58:13.592Z"
   },
   {
    "duration": 28192,
    "start_time": "2023-02-03T16:59:40.300Z"
   },
   {
    "duration": 270397,
    "start_time": "2023-02-03T17:00:08.494Z"
   },
   {
    "duration": 87505,
    "start_time": "2023-02-03T17:06:17.589Z"
   },
   {
    "duration": 28500,
    "start_time": "2023-02-03T17:08:56.792Z"
   },
   {
    "duration": 692,
    "start_time": "2023-02-03T17:18:04.116Z"
   },
   {
    "duration": 24,
    "start_time": "2023-02-03T17:18:39.228Z"
   },
   {
    "duration": 1353,
    "start_time": "2023-02-03T17:19:32.688Z"
   },
   {
    "duration": 780,
    "start_time": "2023-02-03T17:19:34.042Z"
   },
   {
    "duration": 25,
    "start_time": "2023-02-03T17:19:34.823Z"
   },
   {
    "duration": 442,
    "start_time": "2023-02-03T17:19:34.850Z"
   },
   {
    "duration": 127,
    "start_time": "2023-02-03T17:19:35.294Z"
   },
   {
    "duration": 130,
    "start_time": "2023-02-03T17:19:35.422Z"
   },
   {
    "duration": 823,
    "start_time": "2023-02-03T17:19:35.553Z"
   },
   {
    "duration": 30,
    "start_time": "2023-02-03T17:19:36.378Z"
   },
   {
    "duration": 6,
    "start_time": "2023-02-03T17:19:36.410Z"
   },
   {
    "duration": 39,
    "start_time": "2023-02-03T17:19:36.417Z"
   },
   {
    "duration": 16,
    "start_time": "2023-02-03T17:19:36.457Z"
   },
   {
    "duration": 191,
    "start_time": "2023-02-03T17:19:36.474Z"
   },
   {
    "duration": 330,
    "start_time": "2023-02-03T17:19:36.667Z"
   },
   {
    "duration": 10,
    "start_time": "2023-02-03T17:19:37.000Z"
   },
   {
    "duration": 11,
    "start_time": "2023-02-03T17:19:37.011Z"
   },
   {
    "duration": 21,
    "start_time": "2023-02-03T17:19:37.023Z"
   },
   {
    "duration": 111,
    "start_time": "2023-02-03T17:19:37.045Z"
   },
   {
    "duration": 15,
    "start_time": "2023-02-03T17:19:37.157Z"
   },
   {
    "duration": 268,
    "start_time": "2023-02-03T17:19:37.173Z"
   },
   {
    "duration": 23,
    "start_time": "2023-02-03T17:19:37.443Z"
   },
   {
    "duration": 27,
    "start_time": "2023-02-03T17:19:37.467Z"
   },
   {
    "duration": 5,
    "start_time": "2023-02-03T17:19:37.496Z"
   },
   {
    "duration": 268,
    "start_time": "2023-02-03T17:19:37.502Z"
   },
   {
    "duration": 250,
    "start_time": "2023-02-03T17:19:37.772Z"
   },
   {
    "duration": 20,
    "start_time": "2023-02-03T17:19:38.024Z"
   },
   {
    "duration": 191,
    "start_time": "2023-02-03T17:19:38.046Z"
   },
   {
    "duration": 15,
    "start_time": "2023-02-03T17:19:38.239Z"
   },
   {
    "duration": 46,
    "start_time": "2023-02-03T17:19:38.256Z"
   },
   {
    "duration": 13,
    "start_time": "2023-02-03T17:19:38.304Z"
   },
   {
    "duration": 17,
    "start_time": "2023-02-03T17:19:38.318Z"
   },
   {
    "duration": 25,
    "start_time": "2023-02-03T17:19:38.336Z"
   },
   {
    "duration": 41,
    "start_time": "2023-02-03T17:19:38.362Z"
   },
   {
    "duration": 77,
    "start_time": "2023-02-03T17:19:38.404Z"
   },
   {
    "duration": 142,
    "start_time": "2023-02-03T17:19:38.482Z"
   },
   {
    "duration": 33,
    "start_time": "2023-02-03T17:19:38.626Z"
   },
   {
    "duration": 71,
    "start_time": "2023-02-03T17:19:38.660Z"
   },
   {
    "duration": 35,
    "start_time": "2023-02-03T17:19:38.733Z"
   },
   {
    "duration": 6,
    "start_time": "2023-02-03T17:19:38.769Z"
   },
   {
    "duration": 190,
    "start_time": "2023-02-03T17:19:38.791Z"
   },
   {
    "duration": 72,
    "start_time": "2023-02-03T17:19:38.982Z"
   },
   {
    "duration": 79,
    "start_time": "2023-02-03T17:19:39.058Z"
   },
   {
    "duration": 45,
    "start_time": "2023-02-03T17:19:39.138Z"
   },
   {
    "duration": 19,
    "start_time": "2023-02-03T17:19:39.185Z"
   },
   {
    "duration": 14,
    "start_time": "2023-02-03T17:19:39.206Z"
   },
   {
    "duration": 95,
    "start_time": "2023-02-03T17:19:39.221Z"
   },
   {
    "duration": 36,
    "start_time": "2023-02-03T17:19:39.317Z"
   },
   {
    "duration": 54,
    "start_time": "2023-02-03T17:19:39.354Z"
   },
   {
    "duration": 46,
    "start_time": "2023-02-03T17:19:39.410Z"
   },
   {
    "duration": 55,
    "start_time": "2023-02-03T17:19:39.457Z"
   },
   {
    "duration": 40,
    "start_time": "2023-02-03T17:19:39.514Z"
   },
   {
    "duration": 4,
    "start_time": "2023-02-03T17:19:39.555Z"
   },
   {
    "duration": 8,
    "start_time": "2023-02-03T17:19:39.560Z"
   },
   {
    "duration": 456,
    "start_time": "2023-02-03T17:19:39.569Z"
   },
   {
    "duration": 17,
    "start_time": "2023-02-03T17:19:40.026Z"
   },
   {
    "duration": 433,
    "start_time": "2023-02-03T17:19:40.045Z"
   },
   {
    "duration": 176,
    "start_time": "2023-02-03T17:19:40.480Z"
   },
   {
    "duration": 27537,
    "start_time": "2023-02-03T17:19:40.657Z"
   },
   {
    "duration": 268709,
    "start_time": "2023-02-03T17:20:08.196Z"
   },
   {
    "duration": 87286,
    "start_time": "2023-02-03T17:24:36.908Z"
   },
   {
    "duration": 45,
    "start_time": "2023-02-03T17:43:06.411Z"
   },
   {
    "duration": 1392,
    "start_time": "2023-02-03T17:43:12.301Z"
   },
   {
    "duration": 2896,
    "start_time": "2023-02-03T17:43:13.696Z"
   },
   {
    "duration": 25,
    "start_time": "2023-02-03T17:43:16.593Z"
   },
   {
    "duration": 439,
    "start_time": "2023-02-03T17:43:16.620Z"
   },
   {
    "duration": 139,
    "start_time": "2023-02-03T17:43:17.060Z"
   },
   {
    "duration": 121,
    "start_time": "2023-02-03T17:43:17.200Z"
   },
   {
    "duration": 776,
    "start_time": "2023-02-03T17:43:17.323Z"
   },
   {
    "duration": 26,
    "start_time": "2023-02-03T17:43:18.100Z"
   },
   {
    "duration": 6,
    "start_time": "2023-02-03T17:43:18.128Z"
   },
   {
    "duration": 40,
    "start_time": "2023-02-03T17:43:18.136Z"
   },
   {
    "duration": 16,
    "start_time": "2023-02-03T17:43:18.192Z"
   },
   {
    "duration": 356,
    "start_time": "2023-02-03T17:43:18.210Z"
   },
   {
    "duration": 11,
    "start_time": "2023-02-03T17:43:18.568Z"
   },
   {
    "duration": 21,
    "start_time": "2023-02-03T17:43:18.580Z"
   },
   {
    "duration": 28,
    "start_time": "2023-02-03T17:43:18.602Z"
   },
   {
    "duration": 115,
    "start_time": "2023-02-03T17:43:18.631Z"
   },
   {
    "duration": 14,
    "start_time": "2023-02-03T17:43:18.747Z"
   },
   {
    "duration": 261,
    "start_time": "2023-02-03T17:43:18.763Z"
   },
   {
    "duration": 22,
    "start_time": "2023-02-03T17:43:19.026Z"
   },
   {
    "duration": 6,
    "start_time": "2023-02-03T17:43:19.050Z"
   },
   {
    "duration": 5,
    "start_time": "2023-02-03T17:43:19.058Z"
   },
   {
    "duration": 246,
    "start_time": "2023-02-03T17:43:19.064Z"
   },
   {
    "duration": 239,
    "start_time": "2023-02-03T17:43:19.311Z"
   },
   {
    "duration": 22,
    "start_time": "2023-02-03T17:43:19.552Z"
   },
   {
    "duration": 28,
    "start_time": "2023-02-03T17:43:19.576Z"
   },
   {
    "duration": 33,
    "start_time": "2023-02-03T17:43:19.606Z"
   },
   {
    "duration": 14,
    "start_time": "2023-02-03T17:43:19.641Z"
   },
   {
    "duration": 35,
    "start_time": "2023-02-03T17:43:19.658Z"
   },
   {
    "duration": 25,
    "start_time": "2023-02-03T17:43:19.695Z"
   },
   {
    "duration": 31,
    "start_time": "2023-02-03T17:43:19.721Z"
   },
   {
    "duration": 73,
    "start_time": "2023-02-03T17:43:19.754Z"
   },
   {
    "duration": 147,
    "start_time": "2023-02-03T17:43:19.829Z"
   },
   {
    "duration": 42,
    "start_time": "2023-02-03T17:43:19.977Z"
   },
   {
    "duration": 70,
    "start_time": "2023-02-03T17:43:20.021Z"
   },
   {
    "duration": 37,
    "start_time": "2023-02-03T17:43:20.093Z"
   },
   {
    "duration": 3,
    "start_time": "2023-02-03T17:43:20.131Z"
   },
   {
    "duration": 207,
    "start_time": "2023-02-03T17:43:20.136Z"
   },
   {
    "duration": 73,
    "start_time": "2023-02-03T17:43:20.345Z"
   },
   {
    "duration": 86,
    "start_time": "2023-02-03T17:43:20.419Z"
   },
   {
    "duration": 40,
    "start_time": "2023-02-03T17:43:20.506Z"
   },
   {
    "duration": 15,
    "start_time": "2023-02-03T17:43:20.547Z"
   },
   {
    "duration": 32,
    "start_time": "2023-02-03T17:43:20.564Z"
   },
   {
    "duration": 81,
    "start_time": "2023-02-03T17:43:20.597Z"
   },
   {
    "duration": 41,
    "start_time": "2023-02-03T17:43:20.679Z"
   },
   {
    "duration": 49,
    "start_time": "2023-02-03T17:43:20.722Z"
   },
   {
    "duration": 61,
    "start_time": "2023-02-03T17:43:20.772Z"
   },
   {
    "duration": 44,
    "start_time": "2023-02-03T17:43:20.835Z"
   },
   {
    "duration": 42,
    "start_time": "2023-02-03T17:43:20.892Z"
   },
   {
    "duration": 4,
    "start_time": "2023-02-03T17:43:20.936Z"
   },
   {
    "duration": 11,
    "start_time": "2023-02-03T17:43:20.941Z"
   },
   {
    "duration": 449,
    "start_time": "2023-02-03T17:43:20.953Z"
   },
   {
    "duration": 18,
    "start_time": "2023-02-03T17:43:21.404Z"
   },
   {
    "duration": 517,
    "start_time": "2023-02-03T17:43:21.423Z"
   },
   {
    "duration": 89497,
    "start_time": "2023-02-03T17:43:21.942Z"
   },
   {
    "duration": 28061,
    "start_time": "2023-02-03T17:44:51.440Z"
   },
   {
    "duration": 111,
    "start_time": "2023-02-03T17:49:41.519Z"
   },
   {
    "duration": 1381,
    "start_time": "2023-02-03T17:49:54.375Z"
   },
   {
    "duration": 2826,
    "start_time": "2023-02-03T17:49:55.758Z"
   },
   {
    "duration": 26,
    "start_time": "2023-02-03T17:49:58.585Z"
   },
   {
    "duration": 460,
    "start_time": "2023-02-03T17:49:58.613Z"
   },
   {
    "duration": 129,
    "start_time": "2023-02-03T17:49:59.076Z"
   },
   {
    "duration": 134,
    "start_time": "2023-02-03T17:49:59.207Z"
   },
   {
    "duration": 841,
    "start_time": "2023-02-03T17:49:59.343Z"
   },
   {
    "duration": 26,
    "start_time": "2023-02-03T17:50:00.185Z"
   },
   {
    "duration": 17,
    "start_time": "2023-02-03T17:50:00.213Z"
   },
   {
    "duration": 51,
    "start_time": "2023-02-03T17:50:00.232Z"
   },
   {
    "duration": 18,
    "start_time": "2023-02-03T17:50:00.285Z"
   },
   {
    "duration": 373,
    "start_time": "2023-02-03T17:50:00.305Z"
   },
   {
    "duration": 16,
    "start_time": "2023-02-03T17:50:00.680Z"
   },
   {
    "duration": 35,
    "start_time": "2023-02-03T17:50:00.699Z"
   },
   {
    "duration": 53,
    "start_time": "2023-02-03T17:50:00.736Z"
   },
   {
    "duration": 102,
    "start_time": "2023-02-03T17:50:00.791Z"
   },
   {
    "duration": 16,
    "start_time": "2023-02-03T17:50:00.895Z"
   },
   {
    "duration": 283,
    "start_time": "2023-02-03T17:50:00.913Z"
   },
   {
    "duration": 25,
    "start_time": "2023-02-03T17:50:01.197Z"
   },
   {
    "duration": 51,
    "start_time": "2023-02-03T17:50:01.224Z"
   },
   {
    "duration": 33,
    "start_time": "2023-02-03T17:50:01.277Z"
   },
   {
    "duration": 268,
    "start_time": "2023-02-03T17:50:01.311Z"
   },
   {
    "duration": 252,
    "start_time": "2023-02-03T17:50:01.580Z"
   },
   {
    "duration": 20,
    "start_time": "2023-02-03T17:50:01.834Z"
   },
   {
    "duration": 35,
    "start_time": "2023-02-03T17:50:01.856Z"
   },
   {
    "duration": 86,
    "start_time": "2023-02-03T17:50:01.893Z"
   },
   {
    "duration": 43,
    "start_time": "2023-02-03T17:50:01.980Z"
   },
   {
    "duration": 33,
    "start_time": "2023-02-03T17:50:02.024Z"
   },
   {
    "duration": 47,
    "start_time": "2023-02-03T17:50:02.059Z"
   },
   {
    "duration": 39,
    "start_time": "2023-02-03T17:50:02.108Z"
   },
   {
    "duration": 66,
    "start_time": "2023-02-03T17:50:02.149Z"
   },
   {
    "duration": 163,
    "start_time": "2023-02-03T17:50:02.217Z"
   },
   {
    "duration": 34,
    "start_time": "2023-02-03T17:50:02.381Z"
   },
   {
    "duration": 86,
    "start_time": "2023-02-03T17:50:02.417Z"
   },
   {
    "duration": 37,
    "start_time": "2023-02-03T17:50:02.505Z"
   },
   {
    "duration": 11,
    "start_time": "2023-02-03T17:50:02.544Z"
   },
   {
    "duration": 214,
    "start_time": "2023-02-03T17:50:02.557Z"
   },
   {
    "duration": 72,
    "start_time": "2023-02-03T17:50:02.773Z"
   },
   {
    "duration": 83,
    "start_time": "2023-02-03T17:50:02.846Z"
   },
   {
    "duration": 39,
    "start_time": "2023-02-03T17:50:02.931Z"
   },
   {
    "duration": 27,
    "start_time": "2023-02-03T17:50:02.974Z"
   },
   {
    "duration": 22,
    "start_time": "2023-02-03T17:50:03.002Z"
   },
   {
    "duration": 89,
    "start_time": "2023-02-03T17:50:03.025Z"
   },
   {
    "duration": 37,
    "start_time": "2023-02-03T17:50:03.116Z"
   },
   {
    "duration": 54,
    "start_time": "2023-02-03T17:50:03.155Z"
   },
   {
    "duration": 51,
    "start_time": "2023-02-03T17:50:03.210Z"
   },
   {
    "duration": 56,
    "start_time": "2023-02-03T17:50:03.263Z"
   },
   {
    "duration": 43,
    "start_time": "2023-02-03T17:50:03.321Z"
   },
   {
    "duration": 4,
    "start_time": "2023-02-03T17:50:03.366Z"
   },
   {
    "duration": 21,
    "start_time": "2023-02-03T17:50:03.371Z"
   },
   {
    "duration": 439,
    "start_time": "2023-02-03T17:50:03.393Z"
   },
   {
    "duration": 16,
    "start_time": "2023-02-03T17:50:03.834Z"
   },
   {
    "duration": 437,
    "start_time": "2023-02-03T17:50:03.852Z"
   },
   {
    "duration": 88202,
    "start_time": "2023-02-03T17:50:04.291Z"
   },
   {
    "duration": 27996,
    "start_time": "2023-02-03T17:51:32.496Z"
   },
   {
    "duration": 272908,
    "start_time": "2023-02-03T17:52:00.496Z"
   },
   {
    "duration": 121,
    "start_time": "2023-02-03T17:57:00.177Z"
   },
   {
    "duration": 25,
    "start_time": "2023-02-03T17:57:23.785Z"
   },
   {
    "duration": 87483,
    "start_time": "2023-02-03T17:58:18.809Z"
   },
   {
    "duration": 27894,
    "start_time": "2023-02-03T17:59:46.298Z"
   },
   {
    "duration": 115,
    "start_time": "2023-02-03T18:00:14.196Z"
   },
   {
    "duration": 13519,
    "start_time": "2023-02-03T18:01:40.341Z"
   },
   {
    "duration": 419949,
    "start_time": "2023-02-03T18:04:22.395Z"
   },
   {
    "duration": 0,
    "start_time": "2023-02-03T18:11:22.345Z"
   },
   {
    "duration": 4,
    "start_time": "2023-02-03T18:11:45.688Z"
   },
   {
    "duration": 12,
    "start_time": "2023-02-03T18:12:18.781Z"
   },
   {
    "duration": 24,
    "start_time": "2023-02-03T18:14:19.149Z"
   },
   {
    "duration": 13905,
    "start_time": "2023-02-03T18:14:24.943Z"
   },
   {
    "duration": 13907,
    "start_time": "2023-02-03T18:14:57.204Z"
   },
   {
    "duration": 14350,
    "start_time": "2023-02-03T18:15:43.943Z"
   },
   {
    "duration": 13812,
    "start_time": "2023-02-03T18:18:11.951Z"
   },
   {
    "duration": 40711,
    "start_time": "2023-02-03T18:20:35.592Z"
   },
   {
    "duration": 40642,
    "start_time": "2023-02-03T18:22:35.334Z"
   },
   {
    "duration": 11,
    "start_time": "2023-02-03T18:26:43.248Z"
   },
   {
    "duration": 5,
    "start_time": "2023-02-03T18:27:05.591Z"
   },
   {
    "duration": 40,
    "start_time": "2023-02-03T18:27:48.424Z"
   },
   {
    "duration": 5562,
    "start_time": "2023-02-03T18:34:42.697Z"
   },
   {
    "duration": 5719,
    "start_time": "2023-02-03T18:34:50.740Z"
   },
   {
    "duration": 126161,
    "start_time": "2023-02-03T18:35:04.358Z"
   },
   {
    "duration": 268289,
    "start_time": "2023-02-03T18:38:04.306Z"
   },
   {
    "duration": 18022,
    "start_time": "2023-02-03T18:42:32.597Z"
   },
   {
    "duration": 146443,
    "start_time": "2023-02-03T18:42:50.621Z"
   },
   {
    "duration": 1586,
    "start_time": "2023-02-04T08:49:19.282Z"
   },
   {
    "duration": 1050,
    "start_time": "2023-02-04T08:49:20.870Z"
   },
   {
    "duration": 31,
    "start_time": "2023-02-04T08:49:21.922Z"
   },
   {
    "duration": 474,
    "start_time": "2023-02-04T08:49:21.955Z"
   },
   {
    "duration": 116,
    "start_time": "2023-02-04T08:49:22.430Z"
   },
   {
    "duration": 125,
    "start_time": "2023-02-04T08:49:22.548Z"
   },
   {
    "duration": 922,
    "start_time": "2023-02-04T08:49:22.674Z"
   },
   {
    "duration": 28,
    "start_time": "2023-02-04T08:49:23.597Z"
   },
   {
    "duration": 4,
    "start_time": "2023-02-04T08:49:23.627Z"
   },
   {
    "duration": 39,
    "start_time": "2023-02-04T08:49:23.633Z"
   },
   {
    "duration": 38,
    "start_time": "2023-02-04T08:49:23.673Z"
   },
   {
    "duration": 398,
    "start_time": "2023-02-04T08:49:23.713Z"
   },
   {
    "duration": 14,
    "start_time": "2023-02-04T08:49:24.114Z"
   },
   {
    "duration": 17,
    "start_time": "2023-02-04T08:49:24.130Z"
   },
   {
    "duration": 55,
    "start_time": "2023-02-04T08:49:24.149Z"
   },
   {
    "duration": 137,
    "start_time": "2023-02-04T08:49:24.206Z"
   },
   {
    "duration": 18,
    "start_time": "2023-02-04T08:49:24.345Z"
   },
   {
    "duration": 312,
    "start_time": "2023-02-04T08:49:24.365Z"
   },
   {
    "duration": 29,
    "start_time": "2023-02-04T08:49:24.679Z"
   },
   {
    "duration": 7,
    "start_time": "2023-02-04T08:49:24.711Z"
   },
   {
    "duration": 6,
    "start_time": "2023-02-04T08:49:24.843Z"
   },
   {
    "duration": 276,
    "start_time": "2023-02-04T08:49:25.264Z"
   },
   {
    "duration": 279,
    "start_time": "2023-02-04T08:49:25.645Z"
   },
   {
    "duration": 22,
    "start_time": "2023-02-04T08:49:25.988Z"
   },
   {
    "duration": 15,
    "start_time": "2023-02-04T08:49:26.355Z"
   },
   {
    "duration": 31,
    "start_time": "2023-02-04T08:49:26.559Z"
   },
   {
    "duration": 15,
    "start_time": "2023-02-04T08:49:26.737Z"
   },
   {
    "duration": 16,
    "start_time": "2023-02-04T08:49:26.933Z"
   },
   {
    "duration": 25,
    "start_time": "2023-02-04T08:49:27.140Z"
   },
   {
    "duration": 23,
    "start_time": "2023-02-04T08:49:27.334Z"
   },
   {
    "duration": 52,
    "start_time": "2023-02-04T08:49:27.541Z"
   },
   {
    "duration": 136,
    "start_time": "2023-02-04T08:49:28.173Z"
   },
   {
    "duration": 35,
    "start_time": "2023-02-04T08:49:28.341Z"
   },
   {
    "duration": 73,
    "start_time": "2023-02-04T08:49:28.526Z"
   },
   {
    "duration": 33,
    "start_time": "2023-02-04T08:49:28.958Z"
   },
   {
    "duration": 4,
    "start_time": "2023-02-04T08:49:29.379Z"
   },
   {
    "duration": 201,
    "start_time": "2023-02-04T08:49:31.237Z"
   },
   {
    "duration": 62,
    "start_time": "2023-02-04T08:49:31.740Z"
   },
   {
    "duration": 62,
    "start_time": "2023-02-04T08:49:32.488Z"
   },
   {
    "duration": 42,
    "start_time": "2023-02-04T08:49:34.933Z"
   },
   {
    "duration": 20,
    "start_time": "2023-02-04T08:49:35.507Z"
   },
   {
    "duration": 17,
    "start_time": "2023-02-04T08:49:35.874Z"
   },
   {
    "duration": 84,
    "start_time": "2023-02-04T08:49:36.236Z"
   },
   {
    "duration": 38,
    "start_time": "2023-02-04T08:49:36.691Z"
   },
   {
    "duration": 43,
    "start_time": "2023-02-04T08:49:37.038Z"
   },
   {
    "duration": 50,
    "start_time": "2023-02-04T08:49:39.917Z"
   },
   {
    "duration": 42,
    "start_time": "2023-02-04T08:49:41.334Z"
   },
   {
    "duration": 44,
    "start_time": "2023-02-04T08:49:41.604Z"
   },
   {
    "duration": 5,
    "start_time": "2023-02-04T08:49:41.985Z"
   },
   {
    "duration": 5,
    "start_time": "2023-02-04T08:49:42.594Z"
   },
   {
    "duration": 515,
    "start_time": "2023-02-04T08:49:43.543Z"
   },
   {
    "duration": 27,
    "start_time": "2023-02-04T08:49:44.281Z"
   },
   {
    "duration": 117,
    "start_time": "2023-02-04T08:49:49.837Z"
   },
   {
    "duration": 16,
    "start_time": "2023-02-04T08:49:58.532Z"
   },
   {
    "duration": 57,
    "start_time": "2023-02-04T08:50:02.137Z"
   },
   {
    "duration": 349,
    "start_time": "2023-02-04T08:50:21.772Z"
   },
   {
    "duration": 520,
    "start_time": "2023-02-04T08:51:43.598Z"
   },
   {
    "duration": 50,
    "start_time": "2023-02-04T08:51:49.384Z"
   },
   {
    "duration": 47,
    "start_time": "2023-02-04T08:52:36.704Z"
   },
   {
    "duration": 242,
    "start_time": "2023-02-04T08:53:33.278Z"
   },
   {
    "duration": 255,
    "start_time": "2023-02-04T08:53:47.797Z"
   },
   {
    "duration": 4,
    "start_time": "2023-02-04T08:53:53.586Z"
   },
   {
    "duration": 14,
    "start_time": "2023-02-04T08:54:27.598Z"
   },
   {
    "duration": 5,
    "start_time": "2023-02-04T08:54:33.553Z"
   },
   {
    "duration": 5,
    "start_time": "2023-02-04T08:54:36.425Z"
   },
   {
    "duration": 13,
    "start_time": "2023-02-04T08:57:21.981Z"
   },
   {
    "duration": 14,
    "start_time": "2023-02-04T09:04:06.903Z"
   },
   {
    "duration": 71,
    "start_time": "2023-02-04T09:04:17.662Z"
   },
   {
    "duration": 45,
    "start_time": "2023-02-04T09:04:18.032Z"
   },
   {
    "duration": 45,
    "start_time": "2023-02-04T09:04:18.387Z"
   },
   {
    "duration": 38,
    "start_time": "2023-02-04T09:04:21.438Z"
   },
   {
    "duration": 4,
    "start_time": "2023-02-04T09:04:25.899Z"
   },
   {
    "duration": 8472,
    "start_time": "2023-02-04T09:37:42.933Z"
   },
   {
    "duration": 10,
    "start_time": "2023-02-04T09:38:39.298Z"
   },
   {
    "duration": 8873,
    "start_time": "2023-02-04T09:38:51.860Z"
   },
   {
    "duration": 238,
    "start_time": "2023-02-04T09:39:05.876Z"
   },
   {
    "duration": 5,
    "start_time": "2023-02-04T09:39:10.483Z"
   },
   {
    "duration": 5,
    "start_time": "2023-02-04T09:39:22.358Z"
   },
   {
    "duration": 8464,
    "start_time": "2023-02-04T09:39:40.601Z"
   },
   {
    "duration": 5,
    "start_time": "2023-02-04T09:39:55.899Z"
   },
   {
    "duration": 10,
    "start_time": "2023-02-04T09:40:23.857Z"
   },
   {
    "duration": 8626,
    "start_time": "2023-02-04T09:40:27.931Z"
   },
   {
    "duration": 12,
    "start_time": "2023-02-04T09:41:25.049Z"
   },
   {
    "duration": 17,
    "start_time": "2023-02-04T09:41:31.361Z"
   },
   {
    "duration": 10,
    "start_time": "2023-02-04T09:41:59.538Z"
   },
   {
    "duration": 7931,
    "start_time": "2023-02-04T09:42:13.823Z"
   },
   {
    "duration": 11387,
    "start_time": "2023-02-04T09:45:52.456Z"
   },
   {
    "duration": 18,
    "start_time": "2023-02-04T09:46:06.572Z"
   },
   {
    "duration": 11797,
    "start_time": "2023-02-04T09:46:34.907Z"
   },
   {
    "duration": 20,
    "start_time": "2023-02-04T09:47:02.880Z"
   },
   {
    "duration": 11457,
    "start_time": "2023-02-04T09:47:36.573Z"
   },
   {
    "duration": 17,
    "start_time": "2023-02-04T09:48:09.737Z"
   },
   {
    "duration": 14,
    "start_time": "2023-02-04T09:48:50.860Z"
   },
   {
    "duration": 12,
    "start_time": "2023-02-04T09:49:04.433Z"
   },
   {
    "duration": 6,
    "start_time": "2023-02-04T09:49:29.925Z"
   },
   {
    "duration": 21,
    "start_time": "2023-02-04T09:49:53.959Z"
   },
   {
    "duration": 46,
    "start_time": "2023-02-04T09:49:58.899Z"
   },
   {
    "duration": 22,
    "start_time": "2023-02-04T09:50:01.524Z"
   },
   {
    "duration": 22,
    "start_time": "2023-02-04T09:50:04.857Z"
   },
   {
    "duration": 10672,
    "start_time": "2023-02-04T09:50:15.449Z"
   },
   {
    "duration": 50,
    "start_time": "2023-02-04T09:50:50.674Z"
   },
   {
    "duration": 3175,
    "start_time": "2023-02-04T09:50:52.695Z"
   },
   {
    "duration": 1612,
    "start_time": "2023-02-04T09:52:12.272Z"
   },
   {
    "duration": 1314,
    "start_time": "2023-02-04T09:52:13.886Z"
   },
   {
    "duration": 34,
    "start_time": "2023-02-04T09:52:15.202Z"
   },
   {
    "duration": 519,
    "start_time": "2023-02-04T09:52:15.238Z"
   },
   {
    "duration": 125,
    "start_time": "2023-02-04T09:52:15.760Z"
   },
   {
    "duration": 127,
    "start_time": "2023-02-04T09:52:15.887Z"
   },
   {
    "duration": 947,
    "start_time": "2023-02-04T09:52:16.016Z"
   },
   {
    "duration": 26,
    "start_time": "2023-02-04T09:52:16.965Z"
   },
   {
    "duration": 4,
    "start_time": "2023-02-04T09:52:17.003Z"
   },
   {
    "duration": 47,
    "start_time": "2023-02-04T09:52:17.009Z"
   },
   {
    "duration": 23,
    "start_time": "2023-02-04T09:52:17.058Z"
   },
   {
    "duration": 468,
    "start_time": "2023-02-04T09:52:17.084Z"
   },
   {
    "duration": 12,
    "start_time": "2023-02-04T09:52:17.554Z"
   },
   {
    "duration": 34,
    "start_time": "2023-02-04T09:52:17.571Z"
   },
   {
    "duration": 33,
    "start_time": "2023-02-04T09:52:17.607Z"
   },
   {
    "duration": 132,
    "start_time": "2023-02-04T09:52:17.642Z"
   },
   {
    "duration": 30,
    "start_time": "2023-02-04T09:52:17.776Z"
   },
   {
    "duration": 326,
    "start_time": "2023-02-04T09:52:17.808Z"
   },
   {
    "duration": 25,
    "start_time": "2023-02-04T09:52:18.137Z"
   },
   {
    "duration": 9,
    "start_time": "2023-02-04T09:52:18.164Z"
   },
   {
    "duration": 31,
    "start_time": "2023-02-04T09:52:18.175Z"
   },
   {
    "duration": 295,
    "start_time": "2023-02-04T09:52:18.208Z"
   },
   {
    "duration": 300,
    "start_time": "2023-02-04T09:52:18.505Z"
   },
   {
    "duration": 26,
    "start_time": "2023-02-04T09:52:18.807Z"
   },
   {
    "duration": 18,
    "start_time": "2023-02-04T09:52:18.835Z"
   },
   {
    "duration": 58,
    "start_time": "2023-02-04T09:52:18.855Z"
   },
   {
    "duration": 17,
    "start_time": "2023-02-04T09:52:18.914Z"
   },
   {
    "duration": 20,
    "start_time": "2023-02-04T09:52:18.933Z"
   },
   {
    "duration": 48,
    "start_time": "2023-02-04T09:52:18.955Z"
   },
   {
    "duration": 24,
    "start_time": "2023-02-04T09:52:19.005Z"
   },
   {
    "duration": 114,
    "start_time": "2023-02-04T09:52:19.031Z"
   },
   {
    "duration": 161,
    "start_time": "2023-02-04T09:52:19.147Z"
   },
   {
    "duration": 39,
    "start_time": "2023-02-04T09:52:19.310Z"
   },
   {
    "duration": 89,
    "start_time": "2023-02-04T09:52:19.351Z"
   },
   {
    "duration": 38,
    "start_time": "2023-02-04T09:52:19.442Z"
   },
   {
    "duration": 21,
    "start_time": "2023-02-04T09:52:19.482Z"
   },
   {
    "duration": 217,
    "start_time": "2023-02-04T09:52:19.505Z"
   },
   {
    "duration": 80,
    "start_time": "2023-02-04T09:52:19.724Z"
   },
   {
    "duration": 67,
    "start_time": "2023-02-04T09:52:19.806Z"
   },
   {
    "duration": 74,
    "start_time": "2023-02-04T09:52:19.875Z"
   },
   {
    "duration": 17,
    "start_time": "2023-02-04T09:52:19.953Z"
   },
   {
    "duration": 32,
    "start_time": "2023-02-04T09:52:19.971Z"
   },
   {
    "duration": 107,
    "start_time": "2023-02-04T09:52:20.005Z"
   },
   {
    "duration": 51,
    "start_time": "2023-02-04T09:52:20.113Z"
   },
   {
    "duration": 59,
    "start_time": "2023-02-04T09:52:20.166Z"
   },
   {
    "duration": 84,
    "start_time": "2023-02-04T09:52:20.227Z"
   },
   {
    "duration": 63,
    "start_time": "2023-02-04T09:52:20.314Z"
   },
   {
    "duration": 72,
    "start_time": "2023-02-04T09:52:20.379Z"
   },
   {
    "duration": 5,
    "start_time": "2023-02-04T09:52:20.453Z"
   },
   {
    "duration": 9,
    "start_time": "2023-02-04T09:52:20.460Z"
   },
   {
    "duration": 523,
    "start_time": "2023-02-04T09:52:20.472Z"
   },
   {
    "duration": 3176,
    "start_time": "2023-02-04T09:52:20.997Z"
   },
   {
    "duration": 60,
    "start_time": "2023-02-04T09:52:44.323Z"
   },
   {
    "duration": 1550,
    "start_time": "2023-02-04T09:52:50.060Z"
   },
   {
    "duration": 1191,
    "start_time": "2023-02-04T09:52:51.612Z"
   },
   {
    "duration": 26,
    "start_time": "2023-02-04T09:52:52.805Z"
   },
   {
    "duration": 538,
    "start_time": "2023-02-04T09:52:52.834Z"
   },
   {
    "duration": 117,
    "start_time": "2023-02-04T09:52:53.374Z"
   },
   {
    "duration": 115,
    "start_time": "2023-02-04T09:52:53.493Z"
   },
   {
    "duration": 1115,
    "start_time": "2023-02-04T09:52:53.610Z"
   },
   {
    "duration": 33,
    "start_time": "2023-02-04T09:52:54.727Z"
   },
   {
    "duration": 11,
    "start_time": "2023-02-04T09:52:54.762Z"
   },
   {
    "duration": 58,
    "start_time": "2023-02-04T09:52:54.776Z"
   },
   {
    "duration": 28,
    "start_time": "2023-02-04T09:52:54.836Z"
   },
   {
    "duration": 433,
    "start_time": "2023-02-04T09:52:54.866Z"
   },
   {
    "duration": 14,
    "start_time": "2023-02-04T09:52:55.303Z"
   },
   {
    "duration": 17,
    "start_time": "2023-02-04T09:52:55.319Z"
   },
   {
    "duration": 32,
    "start_time": "2023-02-04T09:52:55.338Z"
   },
   {
    "duration": 137,
    "start_time": "2023-02-04T09:52:55.372Z"
   },
   {
    "duration": 18,
    "start_time": "2023-02-04T09:52:55.510Z"
   },
   {
    "duration": 321,
    "start_time": "2023-02-04T09:52:55.529Z"
   },
   {
    "duration": 24,
    "start_time": "2023-02-04T09:52:55.852Z"
   },
   {
    "duration": 23,
    "start_time": "2023-02-04T09:52:55.880Z"
   },
   {
    "duration": 6,
    "start_time": "2023-02-04T09:52:55.905Z"
   },
   {
    "duration": 301,
    "start_time": "2023-02-04T09:52:55.913Z"
   },
   {
    "duration": 302,
    "start_time": "2023-02-04T09:52:56.217Z"
   },
   {
    "duration": 23,
    "start_time": "2023-02-04T09:52:56.522Z"
   },
   {
    "duration": 17,
    "start_time": "2023-02-04T09:52:56.630Z"
   },
   {
    "duration": 35,
    "start_time": "2023-02-04T09:52:56.814Z"
   },
   {
    "duration": 16,
    "start_time": "2023-02-04T09:52:56.993Z"
   },
   {
    "duration": 27,
    "start_time": "2023-02-04T09:52:57.190Z"
   },
   {
    "duration": 38,
    "start_time": "2023-02-04T09:52:57.383Z"
   },
   {
    "duration": 42,
    "start_time": "2023-02-04T09:52:57.572Z"
   },
   {
    "duration": 74,
    "start_time": "2023-02-04T09:52:57.772Z"
   },
   {
    "duration": 151,
    "start_time": "2023-02-04T09:52:58.344Z"
   },
   {
    "duration": 40,
    "start_time": "2023-02-04T09:52:58.540Z"
   },
   {
    "duration": 80,
    "start_time": "2023-02-04T09:52:58.734Z"
   },
   {
    "duration": 38,
    "start_time": "2023-02-04T09:52:59.142Z"
   },
   {
    "duration": 4,
    "start_time": "2023-02-04T09:52:59.360Z"
   },
   {
    "duration": 215,
    "start_time": "2023-02-04T09:52:59.845Z"
   },
   {
    "duration": 63,
    "start_time": "2023-02-04T09:53:00.135Z"
   },
   {
    "duration": 74,
    "start_time": "2023-02-04T09:53:00.764Z"
   },
   {
    "duration": 60,
    "start_time": "2023-02-04T09:53:01.201Z"
   },
   {
    "duration": 21,
    "start_time": "2023-02-04T09:53:01.973Z"
   },
   {
    "duration": 23,
    "start_time": "2023-02-04T09:53:02.176Z"
   },
   {
    "duration": 141,
    "start_time": "2023-02-04T09:53:02.382Z"
   },
   {
    "duration": 52,
    "start_time": "2023-02-04T09:53:02.614Z"
   },
   {
    "duration": 48,
    "start_time": "2023-02-04T09:53:02.833Z"
   },
   {
    "duration": 70,
    "start_time": "2023-02-04T09:53:04.227Z"
   },
   {
    "duration": 60,
    "start_time": "2023-02-04T09:53:04.741Z"
   },
   {
    "duration": 52,
    "start_time": "2023-02-04T09:53:05.727Z"
   },
   {
    "duration": 5,
    "start_time": "2023-02-04T09:53:05.781Z"
   },
   {
    "duration": 16,
    "start_time": "2023-02-04T09:53:05.788Z"
   },
   {
    "duration": 455,
    "start_time": "2023-02-04T09:53:06.013Z"
   },
   {
    "duration": 3067,
    "start_time": "2023-02-04T09:53:11.816Z"
   },
   {
    "duration": 75,
    "start_time": "2023-02-04T09:53:19.030Z"
   },
   {
    "duration": 19,
    "start_time": "2023-02-04T09:53:29.576Z"
   },
   {
    "duration": 14,
    "start_time": "2023-02-04T09:54:54.452Z"
   },
   {
    "duration": 240,
    "start_time": "2023-02-04T09:55:13.019Z"
   },
   {
    "duration": 23,
    "start_time": "2023-02-04T09:55:19.733Z"
   },
   {
    "duration": 99,
    "start_time": "2023-02-04T09:55:55.804Z"
   },
   {
    "duration": 54,
    "start_time": "2023-02-04T09:56:22.596Z"
   },
   {
    "duration": 52,
    "start_time": "2023-02-04T09:56:22.763Z"
   },
   {
    "duration": 53,
    "start_time": "2023-02-04T09:56:22.968Z"
   },
   {
    "duration": 5,
    "start_time": "2023-02-04T09:56:23.173Z"
   },
   {
    "duration": 5,
    "start_time": "2023-02-04T09:56:23.418Z"
   },
   {
    "duration": 590,
    "start_time": "2023-02-04T09:56:24.025Z"
   },
   {
    "duration": 10117,
    "start_time": "2023-02-04T09:56:24.740Z"
   },
   {
    "duration": 25,
    "start_time": "2023-02-04T09:56:45.270Z"
   },
   {
    "duration": 11,
    "start_time": "2023-02-04T09:57:09.261Z"
   },
   {
    "duration": 4,
    "start_time": "2023-02-04T09:57:41.114Z"
   },
   {
    "duration": 123824,
    "start_time": "2023-02-04T09:57:44.632Z"
   },
   {
    "duration": 77,
    "start_time": "2023-02-04T09:59:58.282Z"
   },
   {
    "duration": 104,
    "start_time": "2023-02-04T10:00:01.668Z"
   },
   {
    "duration": 26,
    "start_time": "2023-02-04T10:00:10.837Z"
   },
   {
    "duration": 53,
    "start_time": "2023-02-04T10:00:25.169Z"
   },
   {
    "duration": 47,
    "start_time": "2023-02-04T10:00:25.565Z"
   },
   {
    "duration": 515,
    "start_time": "2023-02-04T10:00:28.132Z"
   },
   {
    "duration": 18,
    "start_time": "2023-02-04T10:00:28.649Z"
   },
   {
    "duration": 56,
    "start_time": "2023-02-04T10:00:33.592Z"
   },
   {
    "duration": 51,
    "start_time": "2023-02-04T10:00:33.902Z"
   },
   {
    "duration": 22,
    "start_time": "2023-02-04T10:00:40.296Z"
   },
   {
    "duration": 49,
    "start_time": "2023-02-04T10:00:47.969Z"
   },
   {
    "duration": 482,
    "start_time": "2023-02-04T10:00:57.922Z"
   },
   {
    "duration": 19,
    "start_time": "2023-02-04T10:00:59.576Z"
   },
   {
    "duration": 1488,
    "start_time": "2023-02-04T10:01:10.382Z"
   },
   {
    "duration": 861,
    "start_time": "2023-02-04T10:01:11.872Z"
   },
   {
    "duration": 39,
    "start_time": "2023-02-04T10:01:12.735Z"
   },
   {
    "duration": 512,
    "start_time": "2023-02-04T10:01:12.777Z"
   },
   {
    "duration": 143,
    "start_time": "2023-02-04T10:01:13.291Z"
   },
   {
    "duration": 203,
    "start_time": "2023-02-04T10:01:13.436Z"
   },
   {
    "duration": 345,
    "start_time": "2023-02-04T10:01:13.641Z"
   },
   {
    "duration": 34,
    "start_time": "2023-02-04T10:01:13.988Z"
   },
   {
    "duration": 10,
    "start_time": "2023-02-04T10:01:14.024Z"
   },
   {
    "duration": 39,
    "start_time": "2023-02-04T10:01:14.038Z"
   },
   {
    "duration": 34,
    "start_time": "2023-02-04T10:01:14.079Z"
   },
   {
    "duration": 503,
    "start_time": "2023-02-04T10:01:14.121Z"
   },
   {
    "duration": 13,
    "start_time": "2023-02-04T10:01:14.626Z"
   },
   {
    "duration": 15,
    "start_time": "2023-02-04T10:01:14.641Z"
   },
   {
    "duration": 49,
    "start_time": "2023-02-04T10:01:14.658Z"
   },
   {
    "duration": 124,
    "start_time": "2023-02-04T10:01:14.709Z"
   },
   {
    "duration": 22,
    "start_time": "2023-02-04T10:01:14.835Z"
   },
   {
    "duration": 337,
    "start_time": "2023-02-04T10:01:14.859Z"
   },
   {
    "duration": 25,
    "start_time": "2023-02-04T10:01:15.203Z"
   },
   {
    "duration": 11,
    "start_time": "2023-02-04T10:01:15.230Z"
   },
   {
    "duration": 6,
    "start_time": "2023-02-04T10:01:15.243Z"
   },
   {
    "duration": 321,
    "start_time": "2023-02-04T10:01:15.250Z"
   },
   {
    "duration": 311,
    "start_time": "2023-02-04T10:01:15.574Z"
   },
   {
    "duration": 30,
    "start_time": "2023-02-04T10:01:15.887Z"
   },
   {
    "duration": 28,
    "start_time": "2023-02-04T10:01:15.919Z"
   },
   {
    "duration": 53,
    "start_time": "2023-02-04T10:01:15.950Z"
   },
   {
    "duration": 16,
    "start_time": "2023-02-04T10:01:16.005Z"
   },
   {
    "duration": 17,
    "start_time": "2023-02-04T10:01:16.025Z"
   },
   {
    "duration": 25,
    "start_time": "2023-02-04T10:01:16.043Z"
   },
   {
    "duration": 57,
    "start_time": "2023-02-04T10:01:16.070Z"
   },
   {
    "duration": 58,
    "start_time": "2023-02-04T10:01:16.129Z"
   },
   {
    "duration": 163,
    "start_time": "2023-02-04T10:01:16.189Z"
   },
   {
    "duration": 53,
    "start_time": "2023-02-04T10:01:16.354Z"
   },
   {
    "duration": 98,
    "start_time": "2023-02-04T10:01:16.410Z"
   },
   {
    "duration": 49,
    "start_time": "2023-02-04T10:01:16.511Z"
   },
   {
    "duration": 5,
    "start_time": "2023-02-04T10:01:16.562Z"
   },
   {
    "duration": 231,
    "start_time": "2023-02-04T10:01:16.569Z"
   },
   {
    "duration": 63,
    "start_time": "2023-02-04T10:01:16.803Z"
   },
   {
    "duration": 84,
    "start_time": "2023-02-04T10:01:16.868Z"
   },
   {
    "duration": 60,
    "start_time": "2023-02-04T10:01:16.953Z"
   },
   {
    "duration": 17,
    "start_time": "2023-02-04T10:01:17.015Z"
   },
   {
    "duration": 25,
    "start_time": "2023-02-04T10:01:17.034Z"
   },
   {
    "duration": 127,
    "start_time": "2023-02-04T10:01:17.061Z"
   },
   {
    "duration": 61,
    "start_time": "2023-02-04T10:01:17.190Z"
   },
   {
    "duration": 66,
    "start_time": "2023-02-04T10:01:17.254Z"
   },
   {
    "duration": 56,
    "start_time": "2023-02-04T10:01:17.323Z"
   },
   {
    "duration": 60,
    "start_time": "2023-02-04T10:01:17.380Z"
   },
   {
    "duration": 45,
    "start_time": "2023-02-04T10:01:17.443Z"
   },
   {
    "duration": 16,
    "start_time": "2023-02-04T10:01:17.490Z"
   },
   {
    "duration": 10,
    "start_time": "2023-02-04T10:01:17.508Z"
   },
   {
    "duration": 480,
    "start_time": "2023-02-04T10:01:17.520Z"
   },
   {
    "duration": 8635,
    "start_time": "2023-02-04T10:01:18.003Z"
   },
   {
    "duration": 3,
    "start_time": "2023-02-04T10:01:26.640Z"
   },
   {
    "duration": 171,
    "start_time": "2023-02-04T10:01:26.645Z"
   },
   {
    "duration": 173804,
    "start_time": "2023-02-04T10:01:26.818Z"
   },
   {
    "duration": 35289,
    "start_time": "2023-02-04T10:04:20.624Z"
   },
   {
    "duration": 21649,
    "start_time": "2023-02-04T10:04:55.917Z"
   },
   {
    "duration": 174187,
    "start_time": "2023-02-04T10:05:17.568Z"
   },
   {
    "duration": 780330,
    "start_time": "2023-02-04T10:08:11.756Z"
   },
   {
    "duration": 24,
    "start_time": "2023-02-04T10:21:37.788Z"
   },
   {
    "duration": 475243,
    "start_time": "2023-02-04T10:21:45.437Z"
   },
   {
    "duration": 99378,
    "start_time": "2023-02-04T10:29:43.625Z"
   },
   {
    "duration": 20,
    "start_time": "2023-02-04T10:31:37.120Z"
   },
   {
    "duration": 65,
    "start_time": "2023-02-04T10:31:42.739Z"
   },
   {
    "duration": 118,
    "start_time": "2023-02-04T10:32:28.287Z"
   },
   {
    "duration": 40,
    "start_time": "2023-02-04T10:32:39.022Z"
   },
   {
    "duration": 114,
    "start_time": "2023-02-04T10:33:40.997Z"
   },
   {
    "duration": 25,
    "start_time": "2023-02-04T10:33:43.689Z"
   },
   {
    "duration": 256528,
    "start_time": "2023-02-04T10:33:50.540Z"
   },
   {
    "duration": 436641,
    "start_time": "2023-02-04T10:38:21.454Z"
   },
   {
    "duration": 50133,
    "start_time": "2023-02-04T10:45:56.989Z"
   },
   {
    "duration": 64574,
    "start_time": "2023-02-04T10:46:57.045Z"
   },
   {
    "duration": 1485,
    "start_time": "2023-02-04T10:48:17.271Z"
   },
   {
    "duration": 889,
    "start_time": "2023-02-04T10:48:18.758Z"
   },
   {
    "duration": 28,
    "start_time": "2023-02-04T10:48:19.648Z"
   },
   {
    "duration": 536,
    "start_time": "2023-02-04T10:48:19.678Z"
   },
   {
    "duration": 118,
    "start_time": "2023-02-04T10:48:20.221Z"
   },
   {
    "duration": 123,
    "start_time": "2023-02-04T10:48:20.341Z"
   },
   {
    "duration": 954,
    "start_time": "2023-02-04T10:48:20.465Z"
   },
   {
    "duration": 32,
    "start_time": "2023-02-04T10:48:21.421Z"
   },
   {
    "duration": 3,
    "start_time": "2023-02-04T10:48:21.455Z"
   },
   {
    "duration": 58,
    "start_time": "2023-02-04T10:48:21.461Z"
   },
   {
    "duration": 19,
    "start_time": "2023-02-04T10:48:21.520Z"
   },
   {
    "duration": 422,
    "start_time": "2023-02-04T10:48:21.540Z"
   },
   {
    "duration": 11,
    "start_time": "2023-02-04T10:48:21.963Z"
   },
   {
    "duration": 30,
    "start_time": "2023-02-04T10:48:21.976Z"
   },
   {
    "duration": 33,
    "start_time": "2023-02-04T10:48:22.008Z"
   },
   {
    "duration": 118,
    "start_time": "2023-02-04T10:48:22.043Z"
   },
   {
    "duration": 17,
    "start_time": "2023-02-04T10:48:22.164Z"
   },
   {
    "duration": 330,
    "start_time": "2023-02-04T10:48:22.183Z"
   },
   {
    "duration": 27,
    "start_time": "2023-02-04T10:48:22.515Z"
   },
   {
    "duration": 9,
    "start_time": "2023-02-04T10:48:22.653Z"
   },
   {
    "duration": 7,
    "start_time": "2023-02-04T10:48:23.097Z"
   },
   {
    "duration": 287,
    "start_time": "2023-02-04T10:48:23.527Z"
   },
   {
    "duration": 369,
    "start_time": "2023-02-04T10:48:23.966Z"
   },
   {
    "duration": 28,
    "start_time": "2023-02-04T10:48:24.338Z"
   },
   {
    "duration": 31,
    "start_time": "2023-02-04T10:48:24.689Z"
   },
   {
    "duration": 34,
    "start_time": "2023-02-04T10:48:24.839Z"
   },
   {
    "duration": 17,
    "start_time": "2023-02-04T10:48:25.169Z"
   },
   {
    "duration": 16,
    "start_time": "2023-02-04T10:48:25.322Z"
   },
   {
    "duration": 30,
    "start_time": "2023-02-04T10:48:25.475Z"
   },
   {
    "duration": 28,
    "start_time": "2023-02-04T10:48:25.639Z"
   },
   {
    "duration": 61,
    "start_time": "2023-02-04T10:48:25.783Z"
   },
   {
    "duration": 153,
    "start_time": "2023-02-04T10:48:26.321Z"
   },
   {
    "duration": 48,
    "start_time": "2023-02-04T10:48:26.497Z"
   },
   {
    "duration": 74,
    "start_time": "2023-02-04T10:48:26.718Z"
   },
   {
    "duration": 40,
    "start_time": "2023-02-04T10:48:27.092Z"
   },
   {
    "duration": 6,
    "start_time": "2023-02-04T10:48:27.260Z"
   },
   {
    "duration": 221,
    "start_time": "2023-02-04T10:48:27.447Z"
   },
   {
    "duration": 76,
    "start_time": "2023-02-04T10:48:27.670Z"
   },
   {
    "duration": 77,
    "start_time": "2023-02-04T10:48:27.853Z"
   },
   {
    "duration": 53,
    "start_time": "2023-02-04T10:48:28.065Z"
   },
   {
    "duration": 16,
    "start_time": "2023-02-04T10:48:28.457Z"
   },
   {
    "duration": 15,
    "start_time": "2023-02-04T10:48:28.669Z"
   },
   {
    "duration": 97,
    "start_time": "2023-02-04T10:48:28.846Z"
   },
   {
    "duration": 53,
    "start_time": "2023-02-04T10:48:29.067Z"
   },
   {
    "duration": 45,
    "start_time": "2023-02-04T10:48:29.520Z"
   },
   {
    "duration": 56,
    "start_time": "2023-02-04T10:48:30.519Z"
   },
   {
    "duration": 49,
    "start_time": "2023-02-04T10:48:30.696Z"
   },
   {
    "duration": 52,
    "start_time": "2023-02-04T10:48:31.278Z"
   },
   {
    "duration": 4,
    "start_time": "2023-02-04T10:48:31.821Z"
   },
   {
    "duration": 6,
    "start_time": "2023-02-04T10:48:34.488Z"
   },
   {
    "duration": 495,
    "start_time": "2023-02-04T10:48:35.040Z"
   },
   {
    "duration": 7851,
    "start_time": "2023-02-04T10:48:36.538Z"
   },
   {
    "duration": 4,
    "start_time": "2023-02-04T10:48:49.774Z"
   },
   {
    "duration": 155,
    "start_time": "2023-02-04T10:48:50.168Z"
   },
   {
    "duration": 105,
    "start_time": "2023-02-04T10:49:01.021Z"
   },
   {
    "duration": 26,
    "start_time": "2023-02-04T10:49:08.894Z"
   },
   {
    "duration": 233482,
    "start_time": "2023-02-04T10:49:17.628Z"
   },
   {
    "duration": 1444,
    "start_time": "2023-02-04T10:53:19.123Z"
   },
   {
    "duration": 878,
    "start_time": "2023-02-04T10:53:20.568Z"
   },
   {
    "duration": 31,
    "start_time": "2023-02-04T10:53:21.448Z"
   },
   {
    "duration": 523,
    "start_time": "2023-02-04T10:53:21.481Z"
   },
   {
    "duration": 128,
    "start_time": "2023-02-04T10:53:22.012Z"
   },
   {
    "duration": 124,
    "start_time": "2023-02-04T10:53:22.141Z"
   },
   {
    "duration": 975,
    "start_time": "2023-02-04T10:53:22.267Z"
   },
   {
    "duration": 29,
    "start_time": "2023-02-04T10:53:23.244Z"
   },
   {
    "duration": 4,
    "start_time": "2023-02-04T10:53:23.275Z"
   },
   {
    "duration": 63,
    "start_time": "2023-02-04T10:53:23.281Z"
   },
   {
    "duration": 18,
    "start_time": "2023-02-04T10:53:23.346Z"
   },
   {
    "duration": 430,
    "start_time": "2023-02-04T10:53:23.365Z"
   },
   {
    "duration": 23,
    "start_time": "2023-02-04T10:53:23.797Z"
   },
   {
    "duration": 13,
    "start_time": "2023-02-04T10:53:23.823Z"
   },
   {
    "duration": 29,
    "start_time": "2023-02-04T10:53:23.838Z"
   },
   {
    "duration": 127,
    "start_time": "2023-02-04T10:53:23.869Z"
   },
   {
    "duration": 20,
    "start_time": "2023-02-04T10:53:24.008Z"
   },
   {
    "duration": 341,
    "start_time": "2023-02-04T10:53:24.030Z"
   },
   {
    "duration": 50,
    "start_time": "2023-02-04T10:53:24.373Z"
   },
   {
    "duration": 11,
    "start_time": "2023-02-04T10:53:24.426Z"
   },
   {
    "duration": 10,
    "start_time": "2023-02-04T10:53:24.439Z"
   },
   {
    "duration": 330,
    "start_time": "2023-02-04T10:53:24.452Z"
   },
   {
    "duration": 317,
    "start_time": "2023-02-04T10:53:24.783Z"
   },
   {
    "duration": 27,
    "start_time": "2023-02-04T10:53:25.101Z"
   },
   {
    "duration": 21,
    "start_time": "2023-02-04T10:53:25.130Z"
   },
   {
    "duration": 36,
    "start_time": "2023-02-04T10:53:25.153Z"
   },
   {
    "duration": 27,
    "start_time": "2023-02-04T10:53:25.204Z"
   },
   {
    "duration": 26,
    "start_time": "2023-02-04T10:53:25.233Z"
   },
   {
    "duration": 26,
    "start_time": "2023-02-04T10:53:25.261Z"
   },
   {
    "duration": 31,
    "start_time": "2023-02-04T10:53:25.304Z"
   },
   {
    "duration": 75,
    "start_time": "2023-02-04T10:53:25.337Z"
   },
   {
    "duration": 154,
    "start_time": "2023-02-04T10:53:25.416Z"
   },
   {
    "duration": 49,
    "start_time": "2023-02-04T10:53:25.572Z"
   },
   {
    "duration": 97,
    "start_time": "2023-02-04T10:53:25.623Z"
   },
   {
    "duration": 37,
    "start_time": "2023-02-04T10:53:25.722Z"
   },
   {
    "duration": 4,
    "start_time": "2023-02-04T10:53:25.760Z"
   },
   {
    "duration": 238,
    "start_time": "2023-02-04T10:53:25.765Z"
   },
   {
    "duration": 68,
    "start_time": "2023-02-04T10:53:26.011Z"
   },
   {
    "duration": 82,
    "start_time": "2023-02-04T10:53:26.080Z"
   },
   {
    "duration": 58,
    "start_time": "2023-02-04T10:53:26.164Z"
   },
   {
    "duration": 17,
    "start_time": "2023-02-04T10:53:26.226Z"
   },
   {
    "duration": 21,
    "start_time": "2023-02-04T10:53:26.245Z"
   },
   {
    "duration": 115,
    "start_time": "2023-02-04T10:53:26.268Z"
   },
   {
    "duration": 46,
    "start_time": "2023-02-04T10:53:26.385Z"
   },
   {
    "duration": 46,
    "start_time": "2023-02-04T10:53:26.433Z"
   },
   {
    "duration": 70,
    "start_time": "2023-02-04T10:53:26.481Z"
   },
   {
    "duration": 40,
    "start_time": "2023-02-04T10:53:26.553Z"
   },
   {
    "duration": 62,
    "start_time": "2023-02-04T10:53:26.595Z"
   },
   {
    "duration": 4,
    "start_time": "2023-02-04T10:53:26.658Z"
   },
   {
    "duration": 11,
    "start_time": "2023-02-04T10:53:26.663Z"
   },
   {
    "duration": 491,
    "start_time": "2023-02-04T10:53:26.675Z"
   },
   {
    "duration": 9521,
    "start_time": "2023-02-04T10:53:27.168Z"
   },
   {
    "duration": 3,
    "start_time": "2023-02-04T10:53:36.691Z"
   },
   {
    "duration": 151,
    "start_time": "2023-02-04T10:53:36.703Z"
   },
   {
    "duration": 184552,
    "start_time": "2023-02-04T10:53:36.856Z"
   },
   {
    "duration": 38113,
    "start_time": "2023-02-04T10:56:41.410Z"
   },
   {
    "duration": 20151,
    "start_time": "2023-02-04T10:57:19.524Z"
   },
   {
    "duration": 178184,
    "start_time": "2023-02-04T10:57:39.677Z"
   },
   {
    "duration": 111,
    "start_time": "2023-02-04T11:00:37.863Z"
   },
   {
    "duration": 34,
    "start_time": "2023-02-04T11:00:37.976Z"
   },
   {
    "duration": 173809,
    "start_time": "2023-02-04T11:00:38.011Z"
   },
   {
    "duration": 0,
    "start_time": "2023-02-04T11:03:31.824Z"
   },
   {
    "duration": 0,
    "start_time": "2023-02-04T11:03:31.825Z"
   },
   {
    "duration": 35065,
    "start_time": "2023-02-04T11:03:37.152Z"
   },
   {
    "duration": 372457,
    "start_time": "2023-02-04T11:14:17.252Z"
   },
   {
    "duration": 6465804,
    "start_time": "2023-02-04T11:26:22.618Z"
   },
   {
    "duration": 1661,
    "start_time": "2023-02-05T14:53:19.864Z"
   },
   {
    "duration": 994,
    "start_time": "2023-02-05T14:53:21.527Z"
   },
   {
    "duration": 24,
    "start_time": "2023-02-05T14:53:22.523Z"
   },
   {
    "duration": 459,
    "start_time": "2023-02-05T14:53:22.549Z"
   },
   {
    "duration": 107,
    "start_time": "2023-02-05T14:53:23.010Z"
   },
   {
    "duration": 112,
    "start_time": "2023-02-05T14:53:23.118Z"
   },
   {
    "duration": 823,
    "start_time": "2023-02-05T14:53:23.231Z"
   },
   {
    "duration": 26,
    "start_time": "2023-02-05T14:53:24.056Z"
   },
   {
    "duration": 3,
    "start_time": "2023-02-05T14:53:24.099Z"
   },
   {
    "duration": 36,
    "start_time": "2023-02-05T14:53:24.105Z"
   },
   {
    "duration": 17,
    "start_time": "2023-02-05T14:53:24.143Z"
   },
   {
    "duration": 359,
    "start_time": "2023-02-05T14:53:24.161Z"
   },
   {
    "duration": 10,
    "start_time": "2023-02-05T14:53:24.521Z"
   },
   {
    "duration": 11,
    "start_time": "2023-02-05T14:53:24.533Z"
   },
   {
    "duration": 29,
    "start_time": "2023-02-05T14:53:24.546Z"
   },
   {
    "duration": 124,
    "start_time": "2023-02-05T14:53:24.577Z"
   },
   {
    "duration": 14,
    "start_time": "2023-02-05T14:53:24.703Z"
   },
   {
    "duration": 270,
    "start_time": "2023-02-05T14:53:24.719Z"
   },
   {
    "duration": 24,
    "start_time": "2023-02-05T14:53:24.991Z"
   },
   {
    "duration": 7,
    "start_time": "2023-02-05T14:53:25.017Z"
   },
   {
    "duration": 6,
    "start_time": "2023-02-05T14:53:25.210Z"
   },
   {
    "duration": 246,
    "start_time": "2023-02-05T14:53:25.598Z"
   },
   {
    "duration": 241,
    "start_time": "2023-02-05T14:53:25.990Z"
   },
   {
    "duration": 22,
    "start_time": "2023-02-05T14:53:26.376Z"
   },
   {
    "duration": 14,
    "start_time": "2023-02-05T14:53:26.714Z"
   },
   {
    "duration": 32,
    "start_time": "2023-02-05T14:53:26.944Z"
   },
   {
    "duration": 13,
    "start_time": "2023-02-05T14:53:27.118Z"
   },
   {
    "duration": 15,
    "start_time": "2023-02-05T14:53:27.276Z"
   },
   {
    "duration": 21,
    "start_time": "2023-02-05T14:53:27.456Z"
   },
   {
    "duration": 22,
    "start_time": "2023-02-05T14:53:27.656Z"
   },
   {
    "duration": 49,
    "start_time": "2023-02-05T14:53:27.855Z"
   },
   {
    "duration": 127,
    "start_time": "2023-02-05T14:53:28.438Z"
   },
   {
    "duration": 35,
    "start_time": "2023-02-05T14:53:28.626Z"
   },
   {
    "duration": 60,
    "start_time": "2023-02-05T14:53:29.094Z"
   },
   {
    "duration": 33,
    "start_time": "2023-02-05T14:53:29.232Z"
   },
   {
    "duration": 4,
    "start_time": "2023-02-05T14:53:29.590Z"
   },
   {
    "duration": 218,
    "start_time": "2023-02-05T14:53:29.600Z"
   },
   {
    "duration": 56,
    "start_time": "2023-02-05T14:53:29.821Z"
   },
   {
    "duration": 61,
    "start_time": "2023-02-05T14:53:29.984Z"
   },
   {
    "duration": 43,
    "start_time": "2023-02-05T14:53:30.169Z"
   },
   {
    "duration": 14,
    "start_time": "2023-02-05T14:53:30.561Z"
   },
   {
    "duration": 14,
    "start_time": "2023-02-05T14:53:30.760Z"
   },
   {
    "duration": 76,
    "start_time": "2023-02-05T14:53:30.936Z"
   },
   {
    "duration": 40,
    "start_time": "2023-02-05T14:53:31.117Z"
   },
   {
    "duration": 43,
    "start_time": "2023-02-05T14:53:31.335Z"
   },
   {
    "duration": 50,
    "start_time": "2023-02-05T14:53:32.134Z"
   },
   {
    "duration": 39,
    "start_time": "2023-02-05T14:53:32.307Z"
   },
   {
    "duration": 42,
    "start_time": "2023-02-05T14:53:32.501Z"
   },
   {
    "duration": 4,
    "start_time": "2023-02-05T14:53:32.684Z"
   },
   {
    "duration": 5,
    "start_time": "2023-02-05T14:53:32.894Z"
   },
   {
    "duration": 426,
    "start_time": "2023-02-05T14:53:33.093Z"
   },
   {
    "duration": 10498,
    "start_time": "2023-02-05T14:53:33.521Z"
   },
   {
    "duration": 5,
    "start_time": "2023-02-05T14:53:44.021Z"
   },
   {
    "duration": 171,
    "start_time": "2023-02-05T14:53:44.028Z"
   },
   {
    "duration": 91600,
    "start_time": "2023-02-05T14:53:44.200Z"
   },
   {
    "duration": 26904,
    "start_time": "2023-02-05T14:55:15.802Z"
   },
   {
    "duration": 18924,
    "start_time": "2023-02-05T14:55:42.708Z"
   },
   {
    "duration": 164560,
    "start_time": "2023-02-05T14:56:01.634Z"
   },
   {
    "duration": 36,
    "start_time": "2023-02-05T14:58:46.196Z"
   },
   {
    "duration": 134,
    "start_time": "2023-02-05T15:02:08.291Z"
   },
   {
    "duration": 80,
    "start_time": "2023-02-05T15:02:52.107Z"
   },
   {
    "duration": 85,
    "start_time": "2023-02-05T15:04:06.130Z"
   },
   {
    "duration": 33,
    "start_time": "2023-02-05T15:04:14.658Z"
   },
   {
    "duration": 73,
    "start_time": "2023-02-05T15:04:24.065Z"
   },
   {
    "duration": 15,
    "start_time": "2023-02-05T15:04:24.668Z"
   },
   {
    "duration": 48,
    "start_time": "2023-02-05T15:04:36.831Z"
   },
   {
    "duration": 40,
    "start_time": "2023-02-05T15:04:36.892Z"
   },
   {
    "duration": 43,
    "start_time": "2023-02-05T15:04:37.293Z"
   },
   {
    "duration": 5,
    "start_time": "2023-02-05T15:04:38.084Z"
   },
   {
    "duration": 5,
    "start_time": "2023-02-05T15:04:38.570Z"
   },
   {
    "duration": 426,
    "start_time": "2023-02-05T15:04:38.990Z"
   },
   {
    "duration": 11180,
    "start_time": "2023-02-05T15:04:39.468Z"
   },
   {
    "duration": 3,
    "start_time": "2023-02-05T15:04:50.650Z"
   },
   {
    "duration": 158,
    "start_time": "2023-02-05T15:04:50.655Z"
   },
   {
    "duration": 64,
    "start_time": "2023-02-05T15:05:00.408Z"
   },
   {
    "duration": 26,
    "start_time": "2023-02-05T15:05:00.618Z"
   },
   {
    "duration": 5655,
    "start_time": "2023-02-05T15:05:04.355Z"
   },
   {
    "duration": 76128,
    "start_time": "2023-02-05T15:07:41.073Z"
   },
   {
    "duration": 85146,
    "start_time": "2023-02-05T15:09:32.757Z"
   },
   {
    "duration": 222305,
    "start_time": "2023-02-05T15:13:11.199Z"
   },
   {
    "duration": 19821,
    "start_time": "2023-02-05T15:26:33.780Z"
   },
   {
    "duration": 18442,
    "start_time": "2023-02-05T15:29:06.124Z"
   },
   {
    "duration": 18774,
    "start_time": "2023-02-05T15:29:35.628Z"
   },
   {
    "duration": 22140,
    "start_time": "2023-02-05T15:30:40.763Z"
   },
   {
    "duration": 33610,
    "start_time": "2023-02-05T15:31:37.402Z"
   },
   {
    "duration": 1217,
    "start_time": "2023-02-05T15:32:53.600Z"
   },
   {
    "duration": 5251,
    "start_time": "2023-02-05T15:33:51.954Z"
   },
   {
    "duration": 1393,
    "start_time": "2023-02-05T15:33:57.207Z"
   },
   {
    "duration": 1172,
    "start_time": "2023-02-05T15:34:07.533Z"
   },
   {
    "duration": 4,
    "start_time": "2023-02-05T15:34:51.579Z"
   },
   {
    "duration": 8,
    "start_time": "2023-02-05T15:35:09.431Z"
   },
   {
    "duration": 9,
    "start_time": "2023-02-05T15:35:15.829Z"
   },
   {
    "duration": 10,
    "start_time": "2023-02-05T15:36:12.378Z"
   },
   {
    "duration": 5,
    "start_time": "2023-02-05T15:36:26.921Z"
   },
   {
    "duration": 9,
    "start_time": "2023-02-05T15:36:51.768Z"
   },
   {
    "duration": 3,
    "start_time": "2023-02-05T15:37:25.159Z"
   },
   {
    "duration": 3445,
    "start_time": "2023-02-05T15:37:47.923Z"
   },
   {
    "duration": 4,
    "start_time": "2023-02-05T15:38:08.066Z"
   },
   {
    "duration": 5,
    "start_time": "2023-02-05T15:38:11.558Z"
   },
   {
    "duration": 168,
    "start_time": "2023-02-05T15:38:31.057Z"
   },
   {
    "duration": 990,
    "start_time": "2023-02-05T15:38:51.696Z"
   },
   {
    "duration": 3,
    "start_time": "2023-02-05T15:39:00.856Z"
   },
   {
    "duration": 26,
    "start_time": "2023-02-05T15:39:15.095Z"
   },
   {
    "duration": 259,
    "start_time": "2023-02-05T15:39:47.553Z"
   },
   {
    "duration": 4,
    "start_time": "2023-02-05T15:40:02.106Z"
   },
   {
    "duration": 4,
    "start_time": "2023-02-05T15:40:25.581Z"
   },
   {
    "duration": 237,
    "start_time": "2023-02-05T15:40:25.855Z"
   },
   {
    "duration": 46,
    "start_time": "2023-02-05T15:40:26.374Z"
   },
   {
    "duration": 190,
    "start_time": "2023-02-05T15:40:38.320Z"
   },
   {
    "duration": 41,
    "start_time": "2023-02-05T15:40:40.532Z"
   },
   {
    "duration": 290,
    "start_time": "2023-02-05T15:40:44.212Z"
   },
   {
    "duration": 49,
    "start_time": "2023-02-05T15:40:44.544Z"
   },
   {
    "duration": 248,
    "start_time": "2023-02-05T15:40:47.943Z"
   },
   {
    "duration": 46,
    "start_time": "2023-02-05T15:40:48.289Z"
   },
   {
    "duration": 46,
    "start_time": "2023-02-05T15:40:50.141Z"
   },
   {
    "duration": 241,
    "start_time": "2023-02-05T15:40:52.501Z"
   },
   {
    "duration": 56,
    "start_time": "2023-02-05T15:40:52.744Z"
   },
   {
    "duration": 280,
    "start_time": "2023-02-05T15:41:53.809Z"
   },
   {
    "duration": 54,
    "start_time": "2023-02-05T15:41:54.091Z"
   },
   {
    "duration": 3,
    "start_time": "2023-02-05T15:41:59.572Z"
   },
   {
    "duration": 254,
    "start_time": "2023-02-05T15:42:00.016Z"
   },
   {
    "duration": 47,
    "start_time": "2023-02-05T15:42:00.825Z"
   },
   {
    "duration": 318,
    "start_time": "2023-02-05T15:42:03.802Z"
   },
   {
    "duration": 50,
    "start_time": "2023-02-05T15:42:04.123Z"
   },
   {
    "duration": 5,
    "start_time": "2023-02-05T15:42:31.046Z"
   },
   {
    "duration": 4,
    "start_time": "2023-02-05T15:43:22.225Z"
   },
   {
    "duration": 10378,
    "start_time": "2023-02-05T15:43:22.456Z"
   },
   {
    "duration": 231,
    "start_time": "2023-02-05T15:43:32.836Z"
   },
   {
    "duration": 5,
    "start_time": "2023-02-05T15:45:03.264Z"
   },
   {
    "duration": 27,
    "start_time": "2023-02-05T15:46:09.331Z"
   },
   {
    "duration": 4442,
    "start_time": "2023-02-05T15:46:41.868Z"
   },
   {
    "duration": 20777,
    "start_time": "2023-02-05T15:47:35.222Z"
   },
   {
    "duration": 1225,
    "start_time": "2023-02-05T15:47:56.001Z"
   },
   {
    "duration": 75,
    "start_time": "2023-02-05T15:47:57.228Z"
   },
   {
    "duration": 5400,
    "start_time": "2023-02-05T15:47:57.305Z"
   },
   {
    "duration": 1491,
    "start_time": "2023-02-05T15:48:02.707Z"
   },
   {
    "duration": 6,
    "start_time": "2023-02-05T15:48:04.201Z"
   },
   {
    "duration": 4,
    "start_time": "2023-02-05T15:48:32.613Z"
   },
   {
    "duration": 249,
    "start_time": "2023-02-05T15:48:33.002Z"
   },
   {
    "duration": 41,
    "start_time": "2023-02-05T15:48:33.575Z"
   },
   {
    "duration": 4,
    "start_time": "2023-02-05T15:48:34.457Z"
   },
   {
    "duration": 4,
    "start_time": "2023-02-05T15:48:39.708Z"
   },
   {
    "duration": 10584,
    "start_time": "2023-02-05T15:48:39.982Z"
   },
   {
    "duration": 220,
    "start_time": "2023-02-05T15:48:50.567Z"
   },
   {
    "duration": 12,
    "start_time": "2023-02-05T15:48:50.788Z"
   },
   {
    "duration": 76,
    "start_time": "2023-02-05T15:49:14.154Z"
   },
   {
    "duration": 22,
    "start_time": "2023-02-05T15:49:42.678Z"
   },
   {
    "duration": 18,
    "start_time": "2023-02-05T15:49:56.347Z"
   },
   {
    "duration": 71,
    "start_time": "2023-02-05T15:50:01.689Z"
   },
   {
    "duration": 21,
    "start_time": "2023-02-05T15:50:12.606Z"
   },
   {
    "duration": 4,
    "start_time": "2023-02-05T15:50:26.685Z"
   },
   {
    "duration": 9,
    "start_time": "2023-02-05T15:50:27.143Z"
   },
   {
    "duration": 4181,
    "start_time": "2023-02-05T15:50:27.524Z"
   },
   {
    "duration": 502,
    "start_time": "2023-02-05T15:50:31.707Z"
   },
   {
    "duration": 16,
    "start_time": "2023-02-05T15:50:32.211Z"
   },
   {
    "duration": 25,
    "start_time": "2023-02-05T15:51:05.732Z"
   },
   {
    "duration": 5,
    "start_time": "2023-02-05T15:51:26.849Z"
   },
   {
    "duration": 11,
    "start_time": "2023-02-05T16:00:07.829Z"
   },
   {
    "duration": 11,
    "start_time": "2023-02-05T16:00:18.582Z"
   },
   {
    "duration": 13,
    "start_time": "2023-02-05T16:00:34.592Z"
   },
   {
    "duration": 12,
    "start_time": "2023-02-05T16:02:21.060Z"
   },
   {
    "duration": 10,
    "start_time": "2023-02-05T16:02:55.685Z"
   },
   {
    "duration": 15,
    "start_time": "2023-02-05T16:17:09.417Z"
   },
   {
    "duration": 11,
    "start_time": "2023-02-05T16:17:12.125Z"
   },
   {
    "duration": 5,
    "start_time": "2023-02-05T16:17:35.848Z"
   },
   {
    "duration": 10,
    "start_time": "2023-02-05T16:17:53.005Z"
   },
   {
    "duration": 1413,
    "start_time": "2023-02-05T16:18:05.663Z"
   },
   {
    "duration": 871,
    "start_time": "2023-02-05T16:18:07.079Z"
   },
   {
    "duration": 27,
    "start_time": "2023-02-05T16:18:07.951Z"
   },
   {
    "duration": 511,
    "start_time": "2023-02-05T16:18:07.981Z"
   },
   {
    "duration": 112,
    "start_time": "2023-02-05T16:18:08.494Z"
   },
   {
    "duration": 116,
    "start_time": "2023-02-05T16:18:08.608Z"
   },
   {
    "duration": 956,
    "start_time": "2023-02-05T16:18:08.725Z"
   },
   {
    "duration": 35,
    "start_time": "2023-02-05T16:18:09.683Z"
   },
   {
    "duration": 12,
    "start_time": "2023-02-05T16:18:09.720Z"
   },
   {
    "duration": 44,
    "start_time": "2023-02-05T16:18:09.735Z"
   },
   {
    "duration": 28,
    "start_time": "2023-02-05T16:18:09.781Z"
   },
   {
    "duration": 431,
    "start_time": "2023-02-05T16:18:09.811Z"
   },
   {
    "duration": 12,
    "start_time": "2023-02-05T16:18:10.244Z"
   },
   {
    "duration": 18,
    "start_time": "2023-02-05T16:18:10.257Z"
   },
   {
    "duration": 45,
    "start_time": "2023-02-05T16:18:10.277Z"
   },
   {
    "duration": 124,
    "start_time": "2023-02-05T16:18:10.324Z"
   },
   {
    "duration": 18,
    "start_time": "2023-02-05T16:18:10.450Z"
   },
   {
    "duration": 348,
    "start_time": "2023-02-05T16:18:10.470Z"
   },
   {
    "duration": 24,
    "start_time": "2023-02-05T16:18:10.821Z"
   },
   {
    "duration": 8,
    "start_time": "2023-02-05T16:18:10.847Z"
   },
   {
    "duration": 13,
    "start_time": "2023-02-05T16:18:10.857Z"
   },
   {
    "duration": 314,
    "start_time": "2023-02-05T16:18:10.872Z"
   },
   {
    "duration": 304,
    "start_time": "2023-02-05T16:18:11.188Z"
   },
   {
    "duration": 27,
    "start_time": "2023-02-05T16:18:11.498Z"
   },
   {
    "duration": 25,
    "start_time": "2023-02-05T16:18:11.528Z"
   },
   {
    "duration": 45,
    "start_time": "2023-02-05T16:18:11.554Z"
   },
   {
    "duration": 14,
    "start_time": "2023-02-05T16:18:11.601Z"
   },
   {
    "duration": 19,
    "start_time": "2023-02-05T16:18:11.619Z"
   },
   {
    "duration": 25,
    "start_time": "2023-02-05T16:18:11.639Z"
   },
   {
    "duration": 48,
    "start_time": "2023-02-05T16:18:11.666Z"
   },
   {
    "duration": 56,
    "start_time": "2023-02-05T16:18:11.716Z"
   },
   {
    "duration": 164,
    "start_time": "2023-02-05T16:18:11.774Z"
   },
   {
    "duration": 42,
    "start_time": "2023-02-05T16:18:11.940Z"
   },
   {
    "duration": 75,
    "start_time": "2023-02-05T16:18:11.985Z"
   },
   {
    "duration": 47,
    "start_time": "2023-02-05T16:18:12.061Z"
   },
   {
    "duration": 9,
    "start_time": "2023-02-05T16:18:12.110Z"
   },
   {
    "duration": 220,
    "start_time": "2023-02-05T16:18:12.121Z"
   },
   {
    "duration": 73,
    "start_time": "2023-02-05T16:18:12.343Z"
   },
   {
    "duration": 64,
    "start_time": "2023-02-05T16:18:12.418Z"
   },
   {
    "duration": 43,
    "start_time": "2023-02-05T16:18:12.499Z"
   },
   {
    "duration": 15,
    "start_time": "2023-02-05T16:18:12.543Z"
   },
   {
    "duration": 42,
    "start_time": "2023-02-05T16:18:12.559Z"
   },
   {
    "duration": 75,
    "start_time": "2023-02-05T16:18:12.603Z"
   },
   {
    "duration": 58,
    "start_time": "2023-02-05T16:18:12.679Z"
   },
   {
    "duration": 44,
    "start_time": "2023-02-05T16:18:12.738Z"
   },
   {
    "duration": 70,
    "start_time": "2023-02-05T16:18:12.784Z"
   },
   {
    "duration": 67,
    "start_time": "2023-02-05T16:18:12.856Z"
   },
   {
    "duration": 52,
    "start_time": "2023-02-05T16:18:12.925Z"
   },
   {
    "duration": 3,
    "start_time": "2023-02-05T16:18:12.979Z"
   },
   {
    "duration": 5,
    "start_time": "2023-02-05T16:18:12.998Z"
   },
   {
    "duration": 495,
    "start_time": "2023-02-05T16:18:13.005Z"
   },
   {
    "duration": 13763,
    "start_time": "2023-02-05T16:18:13.503Z"
   },
   {
    "duration": 5,
    "start_time": "2023-02-05T16:18:27.268Z"
   },
   {
    "duration": 158,
    "start_time": "2023-02-05T16:18:27.274Z"
   },
   {
    "duration": 123271,
    "start_time": "2023-02-05T16:18:27.434Z"
   },
   {
    "duration": 30897,
    "start_time": "2023-02-05T16:20:30.707Z"
   },
   {
    "duration": 19112,
    "start_time": "2023-02-05T16:21:01.606Z"
   },
   {
    "duration": 169049,
    "start_time": "2023-02-05T16:21:20.719Z"
   },
   {
    "duration": 69,
    "start_time": "2023-02-05T16:24:09.769Z"
   },
   {
    "duration": 20,
    "start_time": "2023-02-05T16:24:09.839Z"
   },
   {
    "duration": 273684,
    "start_time": "2023-02-05T16:24:09.861Z"
   },
   {
    "duration": 0,
    "start_time": "2023-02-05T16:28:43.547Z"
   },
   {
    "duration": 0,
    "start_time": "2023-02-05T16:28:43.550Z"
   },
   {
    "duration": 0,
    "start_time": "2023-02-05T16:28:43.551Z"
   },
   {
    "duration": 0,
    "start_time": "2023-02-05T16:28:43.552Z"
   },
   {
    "duration": 0,
    "start_time": "2023-02-05T16:28:43.554Z"
   },
   {
    "duration": 0,
    "start_time": "2023-02-05T16:28:43.556Z"
   },
   {
    "duration": 0,
    "start_time": "2023-02-05T16:28:43.558Z"
   },
   {
    "duration": 0,
    "start_time": "2023-02-05T16:28:43.560Z"
   },
   {
    "duration": 0,
    "start_time": "2023-02-05T16:28:43.561Z"
   },
   {
    "duration": 0,
    "start_time": "2023-02-05T16:28:43.563Z"
   },
   {
    "duration": 0,
    "start_time": "2023-02-05T16:28:43.565Z"
   },
   {
    "duration": 0,
    "start_time": "2023-02-05T16:28:43.568Z"
   },
   {
    "duration": 0,
    "start_time": "2023-02-05T16:28:43.570Z"
   },
   {
    "duration": 0,
    "start_time": "2023-02-05T16:28:43.599Z"
   },
   {
    "duration": 0,
    "start_time": "2023-02-05T16:28:43.601Z"
   },
   {
    "duration": 0,
    "start_time": "2023-02-05T16:28:43.602Z"
   },
   {
    "duration": 0,
    "start_time": "2023-02-05T16:28:43.603Z"
   },
   {
    "duration": 0,
    "start_time": "2023-02-05T16:28:43.605Z"
   },
   {
    "duration": 0,
    "start_time": "2023-02-05T16:28:43.607Z"
   },
   {
    "duration": 0,
    "start_time": "2023-02-05T16:28:43.609Z"
   },
   {
    "duration": 0,
    "start_time": "2023-02-05T16:28:43.610Z"
   },
   {
    "duration": 0,
    "start_time": "2023-02-05T16:28:43.612Z"
   },
   {
    "duration": 1396,
    "start_time": "2023-02-05T16:32:05.331Z"
   },
   {
    "duration": 876,
    "start_time": "2023-02-05T16:32:06.730Z"
   },
   {
    "duration": 27,
    "start_time": "2023-02-05T16:32:07.609Z"
   },
   {
    "duration": 478,
    "start_time": "2023-02-05T16:32:07.638Z"
   },
   {
    "duration": 103,
    "start_time": "2023-02-05T16:32:08.117Z"
   },
   {
    "duration": 104,
    "start_time": "2023-02-05T16:32:08.222Z"
   },
   {
    "duration": 874,
    "start_time": "2023-02-05T16:32:08.328Z"
   },
   {
    "duration": 22,
    "start_time": "2023-02-05T16:32:09.204Z"
   },
   {
    "duration": 9,
    "start_time": "2023-02-05T16:32:09.228Z"
   },
   {
    "duration": 43,
    "start_time": "2023-02-05T16:32:09.241Z"
   },
   {
    "duration": 29,
    "start_time": "2023-02-05T16:32:09.285Z"
   },
   {
    "duration": 396,
    "start_time": "2023-02-05T16:32:09.316Z"
   },
   {
    "duration": 13,
    "start_time": "2023-02-05T16:32:09.714Z"
   },
   {
    "duration": 14,
    "start_time": "2023-02-05T16:32:09.729Z"
   },
   {
    "duration": 55,
    "start_time": "2023-02-05T16:32:09.744Z"
   },
   {
    "duration": 112,
    "start_time": "2023-02-05T16:32:09.801Z"
   },
   {
    "duration": 17,
    "start_time": "2023-02-05T16:32:09.914Z"
   },
   {
    "duration": 309,
    "start_time": "2023-02-05T16:32:09.932Z"
   },
   {
    "duration": 25,
    "start_time": "2023-02-05T16:32:10.243Z"
   },
   {
    "duration": 13,
    "start_time": "2023-02-05T16:32:10.270Z"
   },
   {
    "duration": 6,
    "start_time": "2023-02-05T16:32:10.299Z"
   },
   {
    "duration": 266,
    "start_time": "2023-02-05T16:32:10.307Z"
   },
   {
    "duration": 277,
    "start_time": "2023-02-05T16:32:10.574Z"
   },
   {
    "duration": 23,
    "start_time": "2023-02-05T16:32:10.852Z"
   },
   {
    "duration": 26,
    "start_time": "2023-02-05T16:32:10.877Z"
   },
   {
    "duration": 35,
    "start_time": "2023-02-05T16:32:10.905Z"
   },
   {
    "duration": 13,
    "start_time": "2023-02-05T16:32:10.942Z"
   },
   {
    "duration": 16,
    "start_time": "2023-02-05T16:32:10.959Z"
   },
   {
    "duration": 43,
    "start_time": "2023-02-05T16:32:10.977Z"
   },
   {
    "duration": 24,
    "start_time": "2023-02-05T16:32:11.022Z"
   },
   {
    "duration": 65,
    "start_time": "2023-02-05T16:32:11.048Z"
   },
   {
    "duration": 146,
    "start_time": "2023-02-05T16:32:11.115Z"
   },
   {
    "duration": 43,
    "start_time": "2023-02-05T16:32:11.262Z"
   },
   {
    "duration": 67,
    "start_time": "2023-02-05T16:32:11.306Z"
   },
   {
    "duration": 54,
    "start_time": "2023-02-05T16:32:11.375Z"
   },
   {
    "duration": 4,
    "start_time": "2023-02-05T16:32:11.431Z"
   },
   {
    "duration": 206,
    "start_time": "2023-02-05T16:32:11.437Z"
   },
   {
    "duration": 69,
    "start_time": "2023-02-05T16:32:11.645Z"
   },
   {
    "duration": 63,
    "start_time": "2023-02-05T16:32:11.716Z"
   },
   {
    "duration": 61,
    "start_time": "2023-02-05T16:32:11.782Z"
   },
   {
    "duration": 15,
    "start_time": "2023-02-05T16:32:11.845Z"
   },
   {
    "duration": 20,
    "start_time": "2023-02-05T16:32:11.862Z"
   },
   {
    "duration": 99,
    "start_time": "2023-02-05T16:32:11.884Z"
   },
   {
    "duration": 57,
    "start_time": "2023-02-05T16:32:11.985Z"
   },
   {
    "duration": 58,
    "start_time": "2023-02-05T16:32:12.043Z"
   },
   {
    "duration": 58,
    "start_time": "2023-02-05T16:32:12.102Z"
   },
   {
    "duration": 61,
    "start_time": "2023-02-05T16:32:12.162Z"
   },
   {
    "duration": 49,
    "start_time": "2023-02-05T16:32:12.225Z"
   },
   {
    "duration": 4,
    "start_time": "2023-02-05T16:32:12.275Z"
   },
   {
    "duration": 6,
    "start_time": "2023-02-05T16:32:12.299Z"
   },
   {
    "duration": 480,
    "start_time": "2023-02-05T16:32:12.307Z"
   },
   {
    "duration": 10852,
    "start_time": "2023-02-05T16:32:12.789Z"
   },
   {
    "duration": 3,
    "start_time": "2023-02-05T16:32:23.643Z"
   },
   {
    "duration": 160,
    "start_time": "2023-02-05T16:32:23.648Z"
   },
   {
    "duration": 112519,
    "start_time": "2023-02-05T16:32:23.810Z"
   },
   {
    "duration": 27007,
    "start_time": "2023-02-05T16:34:16.399Z"
   },
   {
    "duration": 18990,
    "start_time": "2023-02-05T16:34:43.408Z"
   },
   {
    "duration": 172917,
    "start_time": "2023-02-05T16:35:02.401Z"
   },
   {
    "duration": 64,
    "start_time": "2023-02-05T16:37:55.320Z"
   },
   {
    "duration": 38,
    "start_time": "2023-02-05T16:37:55.386Z"
   },
   {
    "duration": 465077,
    "start_time": "2023-02-05T16:37:55.425Z"
   },
   {
    "duration": 332297,
    "start_time": "2023-02-05T16:45:40.504Z"
   },
   {
    "duration": 20802,
    "start_time": "2023-02-05T16:51:12.803Z"
   },
   {
    "duration": 1208,
    "start_time": "2023-02-05T16:51:33.606Z"
   },
   {
    "duration": 84,
    "start_time": "2023-02-05T16:51:34.818Z"
   },
   {
    "duration": 5202,
    "start_time": "2023-02-05T16:51:34.904Z"
   },
   {
    "duration": 1214,
    "start_time": "2023-02-05T16:51:40.107Z"
   },
   {
    "duration": 6,
    "start_time": "2023-02-05T16:51:41.398Z"
   },
   {
    "duration": 96,
    "start_time": "2023-02-05T16:51:41.405Z"
   },
   {
    "duration": 245,
    "start_time": "2023-02-05T16:51:41.503Z"
   },
   {
    "duration": 55,
    "start_time": "2023-02-05T16:51:41.750Z"
   },
   {
    "duration": 6,
    "start_time": "2023-02-05T16:51:41.807Z"
   },
   {
    "duration": 5,
    "start_time": "2023-02-05T16:51:41.814Z"
   },
   {
    "duration": 10983,
    "start_time": "2023-02-05T16:51:41.821Z"
   },
   {
    "duration": 269,
    "start_time": "2023-02-05T16:51:52.806Z"
   },
   {
    "duration": 5,
    "start_time": "2023-02-05T16:51:53.077Z"
   },
   {
    "duration": 16,
    "start_time": "2023-02-05T16:51:53.084Z"
   },
   {
    "duration": 25,
    "start_time": "2023-02-05T16:51:53.101Z"
   },
   {
    "duration": 6291,
    "start_time": "2023-02-05T16:51:53.128Z"
   },
   {
    "duration": 508,
    "start_time": "2023-02-05T16:51:59.500Z"
   },
   {
    "duration": 5,
    "start_time": "2023-02-05T16:52:00.010Z"
   },
   {
    "duration": 38,
    "start_time": "2023-02-05T16:52:00.020Z"
   },
   {
    "duration": 29,
    "start_time": "2023-02-05T16:52:00.059Z"
   },
   {
    "duration": 227,
    "start_time": "2023-02-05T16:52:50.671Z"
   },
   {
    "duration": 45,
    "start_time": "2023-02-05T16:52:51.103Z"
   },
   {
    "duration": 5,
    "start_time": "2023-02-05T16:52:53.205Z"
   },
   {
    "duration": 10,
    "start_time": "2023-02-05T16:54:52.455Z"
   },
   {
    "duration": 12,
    "start_time": "2023-02-05T16:58:17.833Z"
   },
   {
    "duration": 9,
    "start_time": "2023-02-05T16:58:20.039Z"
   },
   {
    "duration": 6535,
    "start_time": "2023-02-06T13:32:19.440Z"
   },
   {
    "duration": 3419,
    "start_time": "2023-02-06T13:32:25.977Z"
   },
   {
    "duration": 26,
    "start_time": "2023-02-06T13:32:29.398Z"
   },
   {
    "duration": 440,
    "start_time": "2023-02-06T13:32:29.425Z"
   },
   {
    "duration": 128,
    "start_time": "2023-02-06T13:32:29.866Z"
   },
   {
    "duration": 132,
    "start_time": "2023-02-06T13:32:29.995Z"
   },
   {
    "duration": 830,
    "start_time": "2023-02-06T13:32:30.129Z"
   },
   {
    "duration": 26,
    "start_time": "2023-02-06T13:32:30.961Z"
   },
   {
    "duration": 20,
    "start_time": "2023-02-06T13:32:30.989Z"
   },
   {
    "duration": 54,
    "start_time": "2023-02-06T13:32:31.012Z"
   },
   {
    "duration": 16,
    "start_time": "2023-02-06T13:32:31.067Z"
   },
   {
    "duration": 351,
    "start_time": "2023-02-06T13:32:31.085Z"
   },
   {
    "duration": 15,
    "start_time": "2023-02-06T13:32:31.437Z"
   },
   {
    "duration": 55,
    "start_time": "2023-02-06T13:32:31.453Z"
   },
   {
    "duration": 27,
    "start_time": "2023-02-06T13:32:31.510Z"
   },
   {
    "duration": 92,
    "start_time": "2023-02-06T13:32:31.538Z"
   },
   {
    "duration": 22,
    "start_time": "2023-02-06T13:32:31.631Z"
   },
   {
    "duration": 273,
    "start_time": "2023-02-06T13:32:31.655Z"
   },
   {
    "duration": 31,
    "start_time": "2023-02-06T13:32:31.929Z"
   },
   {
    "duration": 8,
    "start_time": "2023-02-06T13:32:31.962Z"
   },
   {
    "duration": 25,
    "start_time": "2023-02-06T13:32:31.971Z"
   },
   {
    "duration": 251,
    "start_time": "2023-02-06T13:32:31.998Z"
   },
   {
    "duration": 250,
    "start_time": "2023-02-06T13:32:32.251Z"
   },
   {
    "duration": 21,
    "start_time": "2023-02-06T13:32:32.503Z"
   },
   {
    "duration": 24,
    "start_time": "2023-02-06T13:32:32.526Z"
   },
   {
    "duration": 39,
    "start_time": "2023-02-06T13:32:32.551Z"
   },
   {
    "duration": 14,
    "start_time": "2023-02-06T13:32:32.591Z"
   },
   {
    "duration": 36,
    "start_time": "2023-02-06T13:32:32.608Z"
   },
   {
    "duration": 24,
    "start_time": "2023-02-06T13:32:32.646Z"
   },
   {
    "duration": 37,
    "start_time": "2023-02-06T13:32:32.671Z"
   },
   {
    "duration": 59,
    "start_time": "2023-02-06T13:32:32.709Z"
   },
   {
    "duration": 135,
    "start_time": "2023-02-06T13:32:32.770Z"
   },
   {
    "duration": 42,
    "start_time": "2023-02-06T13:32:32.906Z"
   },
   {
    "duration": 61,
    "start_time": "2023-02-06T13:32:32.949Z"
   },
   {
    "duration": 54,
    "start_time": "2023-02-06T13:32:33.011Z"
   },
   {
    "duration": 7,
    "start_time": "2023-02-06T13:32:33.067Z"
   },
   {
    "duration": 202,
    "start_time": "2023-02-06T13:32:33.075Z"
   },
   {
    "duration": 72,
    "start_time": "2023-02-06T13:32:33.278Z"
   },
   {
    "duration": 75,
    "start_time": "2023-02-06T13:32:33.352Z"
   },
   {
    "duration": 67,
    "start_time": "2023-02-06T13:32:33.443Z"
   },
   {
    "duration": 15,
    "start_time": "2023-02-06T13:32:33.512Z"
   },
   {
    "duration": 31,
    "start_time": "2023-02-06T13:32:33.528Z"
   },
   {
    "duration": 100,
    "start_time": "2023-02-06T13:32:33.560Z"
   },
   {
    "duration": 36,
    "start_time": "2023-02-06T13:32:33.661Z"
   },
   {
    "duration": 55,
    "start_time": "2023-02-06T13:32:33.699Z"
   },
   {
    "duration": 44,
    "start_time": "2023-02-06T13:32:33.756Z"
   },
   {
    "duration": 56,
    "start_time": "2023-02-06T13:32:33.802Z"
   },
   {
    "duration": 44,
    "start_time": "2023-02-06T13:32:33.859Z"
   },
   {
    "duration": 3,
    "start_time": "2023-02-06T13:32:33.905Z"
   },
   {
    "duration": 11,
    "start_time": "2023-02-06T13:32:33.909Z"
   },
   {
    "duration": 438,
    "start_time": "2023-02-06T13:32:33.922Z"
   },
   {
    "duration": 10506,
    "start_time": "2023-02-06T13:32:34.362Z"
   },
   {
    "duration": 35,
    "start_time": "2023-02-06T13:32:50.665Z"
   },
   {
    "duration": 3,
    "start_time": "2023-02-06T13:32:54.427Z"
   },
   {
    "duration": 149,
    "start_time": "2023-02-06T13:32:55.029Z"
   },
   {
    "duration": 34,
    "start_time": "2023-02-06T13:32:56.824Z"
   },
   {
    "duration": 4,
    "start_time": "2023-02-06T14:40:02.331Z"
   },
   {
    "duration": 868,
    "start_time": "2023-02-06T14:40:02.897Z"
   },
   {
    "duration": 34,
    "start_time": "2023-02-06T14:40:03.766Z"
   },
   {
    "duration": 468,
    "start_time": "2023-02-06T14:40:03.801Z"
   },
   {
    "duration": 143,
    "start_time": "2023-02-06T14:40:04.271Z"
   },
   {
    "duration": 139,
    "start_time": "2023-02-06T14:40:04.415Z"
   },
   {
    "duration": 943,
    "start_time": "2023-02-06T14:40:04.555Z"
   },
   {
    "duration": 17,
    "start_time": "2023-02-06T14:40:05.500Z"
   },
   {
    "duration": 3,
    "start_time": "2023-02-06T14:40:06.280Z"
   },
   {
    "duration": 17,
    "start_time": "2023-02-06T14:40:06.744Z"
   },
   {
    "duration": 18,
    "start_time": "2023-02-06T14:40:08.066Z"
   },
   {
    "duration": 334,
    "start_time": "2023-02-06T14:40:08.087Z"
   },
   {
    "duration": 10,
    "start_time": "2023-02-06T14:40:08.423Z"
   },
   {
    "duration": 15,
    "start_time": "2023-02-06T14:40:08.478Z"
   },
   {
    "duration": 25,
    "start_time": "2023-02-06T14:40:09.088Z"
   },
   {
    "duration": 114,
    "start_time": "2023-02-06T14:40:10.204Z"
   },
   {
    "duration": 19,
    "start_time": "2023-02-06T14:40:10.479Z"
   },
   {
    "duration": 450,
    "start_time": "2023-02-06T14:40:11.014Z"
   },
   {
    "duration": 26,
    "start_time": "2023-02-06T14:40:11.667Z"
   },
   {
    "duration": 9,
    "start_time": "2023-02-06T14:40:12.447Z"
   },
   {
    "duration": 7,
    "start_time": "2023-02-06T14:40:13.000Z"
   },
   {
    "duration": 301,
    "start_time": "2023-02-06T14:40:13.868Z"
   },
   {
    "duration": 296,
    "start_time": "2023-02-06T14:40:14.538Z"
   },
   {
    "duration": 24,
    "start_time": "2023-02-06T14:40:15.501Z"
   },
   {
    "duration": 5,
    "start_time": "2023-02-06T14:41:56.241Z"
   },
   {
    "duration": 847,
    "start_time": "2023-02-06T14:41:56.570Z"
   },
   {
    "duration": 28,
    "start_time": "2023-02-06T14:41:57.419Z"
   },
   {
    "duration": 458,
    "start_time": "2023-02-06T14:41:57.449Z"
   },
   {
    "duration": 153,
    "start_time": "2023-02-06T14:41:57.909Z"
   },
   {
    "duration": 173,
    "start_time": "2023-02-06T14:41:58.063Z"
   },
   {
    "duration": 941,
    "start_time": "2023-02-06T14:41:58.238Z"
   },
   {
    "duration": 17,
    "start_time": "2023-02-06T14:41:59.183Z"
   },
   {
    "duration": 3,
    "start_time": "2023-02-06T14:41:59.202Z"
   },
   {
    "duration": 22,
    "start_time": "2023-02-06T14:41:59.207Z"
   },
   {
    "duration": 18,
    "start_time": "2023-02-06T14:41:59.231Z"
   },
   {
    "duration": 432,
    "start_time": "2023-02-06T14:42:00.155Z"
   },
   {
    "duration": 11,
    "start_time": "2023-02-06T14:42:00.589Z"
   },
   {
    "duration": 33,
    "start_time": "2023-02-06T14:42:00.604Z"
   },
   {
    "duration": 24,
    "start_time": "2023-02-06T14:42:01.165Z"
   },
   {
    "duration": 105,
    "start_time": "2023-02-06T14:42:04.825Z"
   },
   {
    "duration": 18,
    "start_time": "2023-02-06T14:42:05.014Z"
   },
   {
    "duration": 290,
    "start_time": "2023-02-06T14:42:07.318Z"
   },
   {
    "duration": 25,
    "start_time": "2023-02-06T14:42:07.610Z"
   },
   {
    "duration": 8,
    "start_time": "2023-02-06T14:42:10.135Z"
   },
   {
    "duration": 7,
    "start_time": "2023-02-06T14:42:11.878Z"
   },
   {
    "duration": 290,
    "start_time": "2023-02-06T14:42:12.694Z"
   },
   {
    "duration": 297,
    "start_time": "2023-02-06T14:46:07.189Z"
   },
   {
    "duration": 27,
    "start_time": "2023-02-06T14:46:39.677Z"
   },
   {
    "duration": 486,
    "start_time": "2023-02-06T14:47:11.653Z"
   },
   {
    "duration": 1553,
    "start_time": "2023-02-06T14:47:44.599Z"
   },
   {
    "duration": 26,
    "start_time": "2023-02-06T14:48:14.304Z"
   },
   {
    "duration": 19,
    "start_time": "2023-02-06T14:50:17.855Z"
   },
   {
    "duration": 40,
    "start_time": "2023-02-06T14:50:18.056Z"
   },
   {
    "duration": 17,
    "start_time": "2023-02-06T14:50:18.243Z"
   },
   {
    "duration": 17,
    "start_time": "2023-02-06T14:50:18.438Z"
   },
   {
    "duration": 28,
    "start_time": "2023-02-06T14:50:18.652Z"
   },
   {
    "duration": 28,
    "start_time": "2023-02-06T14:50:18.847Z"
   },
   {
    "duration": 71,
    "start_time": "2023-02-06T14:50:21.463Z"
   },
   {
    "duration": 162,
    "start_time": "2023-02-06T14:50:23.751Z"
   },
   {
    "duration": 41,
    "start_time": "2023-02-06T14:50:23.938Z"
   },
   {
    "duration": 78,
    "start_time": "2023-02-06T14:50:25.752Z"
   },
   {
    "duration": 41,
    "start_time": "2023-02-06T14:50:26.658Z"
   },
   {
    "duration": 4,
    "start_time": "2023-02-06T14:50:27.025Z"
   },
   {
    "duration": 225,
    "start_time": "2023-02-06T14:50:30.399Z"
   },
   {
    "duration": 92,
    "start_time": "2023-02-06T14:50:30.627Z"
   },
   {
    "duration": 84,
    "start_time": "2023-02-06T14:50:30.946Z"
   },
   {
    "duration": 40,
    "start_time": "2023-02-06T14:50:31.707Z"
   },
   {
    "duration": 18,
    "start_time": "2023-02-06T14:50:34.331Z"
   },
   {
    "duration": 17,
    "start_time": "2023-02-06T14:50:36.321Z"
   },
   {
    "duration": 93,
    "start_time": "2023-02-06T14:50:36.519Z"
   },
   {
    "duration": 43,
    "start_time": "2023-02-06T14:50:36.877Z"
   },
   {
    "duration": 57,
    "start_time": "2023-02-06T14:50:39.475Z"
   },
   {
    "duration": 5,
    "start_time": "2023-02-06T15:11:21.522Z"
   },
   {
    "duration": 853,
    "start_time": "2023-02-06T15:11:21.861Z"
   },
   {
    "duration": 27,
    "start_time": "2023-02-06T15:11:22.717Z"
   },
   {
    "duration": 479,
    "start_time": "2023-02-06T15:11:22.746Z"
   },
   {
    "duration": 161,
    "start_time": "2023-02-06T15:11:23.228Z"
   },
   {
    "duration": 133,
    "start_time": "2023-02-06T15:11:23.391Z"
   },
   {
    "duration": 1059,
    "start_time": "2023-02-06T15:11:23.527Z"
   },
   {
    "duration": 17,
    "start_time": "2023-02-06T15:11:24.588Z"
   },
   {
    "duration": 4,
    "start_time": "2023-02-06T15:11:24.607Z"
   },
   {
    "duration": 28,
    "start_time": "2023-02-06T15:11:24.612Z"
   },
   {
    "duration": 47,
    "start_time": "2023-02-06T15:11:24.642Z"
   },
   {
    "duration": 330,
    "start_time": "2023-02-06T15:11:24.690Z"
   },
   {
    "duration": 11,
    "start_time": "2023-02-06T15:11:25.022Z"
   },
   {
    "duration": 14,
    "start_time": "2023-02-06T15:11:25.034Z"
   },
   {
    "duration": 23,
    "start_time": "2023-02-06T15:11:25.182Z"
   },
   {
    "duration": 168,
    "start_time": "2023-02-06T15:11:25.923Z"
   },
   {
    "duration": 22,
    "start_time": "2023-02-06T15:11:26.118Z"
   },
   {
    "duration": 305,
    "start_time": "2023-02-06T15:11:26.514Z"
   },
   {
    "duration": 25,
    "start_time": "2023-02-06T15:11:26.894Z"
   },
   {
    "duration": 9,
    "start_time": "2023-02-06T15:11:27.268Z"
   },
   {
    "duration": 7,
    "start_time": "2023-02-06T15:11:27.604Z"
   },
   {
    "duration": 292,
    "start_time": "2023-02-06T15:11:27.992Z"
   },
   {
    "duration": 279,
    "start_time": "2023-02-06T15:11:28.343Z"
   },
   {
    "duration": 1561,
    "start_time": "2023-02-06T15:11:28.705Z"
   },
   {
    "duration": 30,
    "start_time": "2023-02-06T15:11:30.268Z"
   },
   {
    "duration": 19,
    "start_time": "2023-02-06T15:11:30.301Z"
   },
   {
    "duration": 64,
    "start_time": "2023-02-06T15:11:30.323Z"
   },
   {
    "duration": 20,
    "start_time": "2023-02-06T15:11:30.389Z"
   },
   {
    "duration": 34,
    "start_time": "2023-02-06T15:11:30.411Z"
   },
   {
    "duration": 29,
    "start_time": "2023-02-06T15:11:30.474Z"
   },
   {
    "duration": 29,
    "start_time": "2023-02-06T15:11:30.694Z"
   },
   {
    "duration": 69,
    "start_time": "2023-02-06T15:11:30.888Z"
   },
   {
    "duration": 153,
    "start_time": "2023-02-06T15:11:31.491Z"
   },
   {
    "duration": 40,
    "start_time": "2023-02-06T15:11:31.679Z"
   },
   {
    "duration": 80,
    "start_time": "2023-02-06T15:11:31.907Z"
   },
   {
    "duration": 39,
    "start_time": "2023-02-06T15:11:32.353Z"
   },
   {
    "duration": 4,
    "start_time": "2023-02-06T15:11:32.569Z"
   },
   {
    "duration": 221,
    "start_time": "2023-02-06T15:11:32.749Z"
   },
   {
    "duration": 79,
    "start_time": "2023-02-06T15:11:32.989Z"
   },
   {
    "duration": 99,
    "start_time": "2023-02-06T15:11:33.187Z"
   },
   {
    "duration": 69,
    "start_time": "2023-02-06T15:11:33.429Z"
   },
   {
    "duration": 18,
    "start_time": "2023-02-06T15:11:34.065Z"
   },
   {
    "duration": 21,
    "start_time": "2023-02-06T15:11:34.261Z"
   },
   {
    "duration": 101,
    "start_time": "2023-02-06T15:11:34.435Z"
   },
   {
    "duration": 42,
    "start_time": "2023-02-06T15:11:34.622Z"
   },
   {
    "duration": 54,
    "start_time": "2023-02-06T15:11:34.793Z"
   },
   {
    "duration": 51,
    "start_time": "2023-02-06T15:11:35.886Z"
   },
   {
    "duration": 50,
    "start_time": "2023-02-06T15:11:36.105Z"
   },
   {
    "duration": 56,
    "start_time": "2023-02-06T15:11:36.323Z"
   },
   {
    "duration": 4,
    "start_time": "2023-02-06T15:11:36.533Z"
   },
   {
    "duration": 6,
    "start_time": "2023-02-06T15:11:36.743Z"
   },
   {
    "duration": 511,
    "start_time": "2023-02-06T15:11:36.966Z"
   },
   {
    "duration": 9018,
    "start_time": "2023-02-06T15:11:37.479Z"
   },
   {
    "duration": 39,
    "start_time": "2023-02-06T15:11:46.499Z"
   },
   {
    "duration": 3,
    "start_time": "2023-02-06T15:11:46.540Z"
   },
   {
    "duration": 13,
    "start_time": "2023-02-06T15:11:46.545Z"
   },
   {
    "duration": 127929,
    "start_time": "2023-02-06T15:11:46.560Z"
   },
   {
    "duration": 33320,
    "start_time": "2023-02-06T15:13:54.491Z"
   },
   {
    "duration": 21880,
    "start_time": "2023-02-06T15:14:27.814Z"
   },
   {
    "duration": 184300,
    "start_time": "2023-02-06T15:14:49.696Z"
   },
   {
    "duration": 71,
    "start_time": "2023-02-06T15:17:53.998Z"
   },
   {
    "duration": 21,
    "start_time": "2023-02-06T15:17:54.086Z"
   },
   {
    "duration": 888485,
    "start_time": "2023-02-06T15:17:54.109Z"
   },
   {
    "duration": 8,
    "start_time": "2023-02-06T15:33:42.694Z"
   },
   {
    "duration": 6,
    "start_time": "2023-02-06T15:35:00.918Z"
   },
   {
    "duration": 133,
    "start_time": "2023-02-06T15:35:15.515Z"
   },
   {
    "duration": 4,
    "start_time": "2023-02-06T15:35:20.799Z"
   },
   {
    "duration": 8,
    "start_time": "2023-02-06T15:36:15.887Z"
   },
   {
    "duration": 11,
    "start_time": "2023-02-06T15:41:35.331Z"
   },
   {
    "duration": 12,
    "start_time": "2023-02-06T15:42:06.385Z"
   },
   {
    "duration": 46,
    "start_time": "2023-02-06T15:42:19.635Z"
   },
   {
    "duration": 11,
    "start_time": "2023-02-06T15:42:24.535Z"
   },
   {
    "duration": 4,
    "start_time": "2023-02-06T16:00:05.693Z"
   },
   {
    "duration": 107215,
    "start_time": "2023-02-06T16:00:53.172Z"
   },
   {
    "duration": 95914,
    "start_time": "2023-02-06T16:03:22.775Z"
   },
   {
    "duration": 5,
    "start_time": "2023-02-06T16:05:33.290Z"
   },
   {
    "duration": 99648,
    "start_time": "2023-02-06T16:07:33.736Z"
   },
   {
    "duration": 4,
    "start_time": "2023-02-06T16:10:20.089Z"
   },
   {
    "duration": 4,
    "start_time": "2023-02-06T16:10:23.924Z"
   },
   {
    "duration": 5,
    "start_time": "2023-02-06T16:10:35.721Z"
   },
   {
    "duration": 30906,
    "start_time": "2023-02-06T16:11:52.082Z"
   },
   {
    "duration": 97,
    "start_time": "2023-02-06T16:12:22.991Z"
   },
   {
    "duration": 4,
    "start_time": "2023-02-06T16:12:40.946Z"
   },
   {
    "duration": 4,
    "start_time": "2023-02-06T16:13:17.423Z"
   },
   {
    "duration": 4,
    "start_time": "2023-02-06T16:13:21.376Z"
   },
   {
    "duration": 5,
    "start_time": "2023-02-06T16:14:07.606Z"
   },
   {
    "duration": 11,
    "start_time": "2023-02-06T16:14:36.165Z"
   },
   {
    "duration": 13,
    "start_time": "2023-02-06T16:23:50.027Z"
   },
   {
    "duration": 20,
    "start_time": "2023-02-06T16:23:55.887Z"
   },
   {
    "duration": 17,
    "start_time": "2023-02-06T16:24:14.190Z"
   },
   {
    "duration": 19,
    "start_time": "2023-02-06T16:26:27.627Z"
   },
   {
    "duration": 19,
    "start_time": "2023-02-06T16:26:50.459Z"
   },
   {
    "duration": 18,
    "start_time": "2023-02-06T16:27:56.255Z"
   },
   {
    "duration": 12,
    "start_time": "2023-02-06T16:28:16.409Z"
   },
   {
    "duration": 17,
    "start_time": "2023-02-06T16:36:00.283Z"
   },
   {
    "duration": 47,
    "start_time": "2023-02-06T16:37:00.566Z"
   },
   {
    "duration": 5,
    "start_time": "2023-02-06T16:37:57.828Z"
   },
   {
    "duration": 50,
    "start_time": "2023-02-06T16:40:43.587Z"
   },
   {
    "duration": 10,
    "start_time": "2023-02-06T16:41:56.113Z"
   },
   {
    "duration": 11,
    "start_time": "2023-02-06T16:42:03.967Z"
   },
   {
    "duration": 601,
    "start_time": "2023-02-06T16:42:09.589Z"
   },
   {
    "duration": 9,
    "start_time": "2023-02-06T16:42:24.527Z"
   },
   {
    "duration": 5,
    "start_time": "2023-02-06T16:45:28.822Z"
   },
   {
    "duration": 5,
    "start_time": "2023-02-06T16:49:48.857Z"
   },
   {
    "duration": 3,
    "start_time": "2023-02-06T16:50:02.552Z"
   },
   {
    "duration": 5,
    "start_time": "2023-02-06T16:50:06.346Z"
   },
   {
    "duration": 10,
    "start_time": "2023-02-06T16:50:12.132Z"
   },
   {
    "duration": 10,
    "start_time": "2023-02-06T16:50:47.683Z"
   },
   {
    "duration": 10,
    "start_time": "2023-02-06T16:50:52.050Z"
   },
   {
    "duration": 11,
    "start_time": "2023-02-06T16:51:01.257Z"
   },
   {
    "duration": 12,
    "start_time": "2023-02-06T16:51:13.233Z"
   },
   {
    "duration": 8,
    "start_time": "2023-02-06T16:51:38.530Z"
   },
   {
    "duration": 5,
    "start_time": "2023-02-06T17:26:18.346Z"
   },
   {
    "duration": 819,
    "start_time": "2023-02-06T17:26:18.690Z"
   },
   {
    "duration": 27,
    "start_time": "2023-02-06T17:26:19.510Z"
   },
   {
    "duration": 515,
    "start_time": "2023-02-06T17:26:19.539Z"
   },
   {
    "duration": 138,
    "start_time": "2023-02-06T17:26:20.056Z"
   },
   {
    "duration": 131,
    "start_time": "2023-02-06T17:26:20.195Z"
   },
   {
    "duration": 1098,
    "start_time": "2023-02-06T17:26:20.328Z"
   },
   {
    "duration": 17,
    "start_time": "2023-02-06T17:26:21.428Z"
   },
   {
    "duration": 3,
    "start_time": "2023-02-06T17:26:21.447Z"
   },
   {
    "duration": 44,
    "start_time": "2023-02-06T17:26:21.452Z"
   },
   {
    "duration": 20,
    "start_time": "2023-02-06T17:26:21.498Z"
   },
   {
    "duration": 335,
    "start_time": "2023-02-06T17:26:21.520Z"
   },
   {
    "duration": 10,
    "start_time": "2023-02-06T17:26:21.857Z"
   },
   {
    "duration": 26,
    "start_time": "2023-02-06T17:26:21.869Z"
   },
   {
    "duration": 23,
    "start_time": "2023-02-06T17:26:22.197Z"
   },
   {
    "duration": 108,
    "start_time": "2023-02-06T17:26:22.954Z"
   },
   {
    "duration": 17,
    "start_time": "2023-02-06T17:26:23.145Z"
   },
   {
    "duration": 313,
    "start_time": "2023-02-06T17:26:23.635Z"
   },
   {
    "duration": 26,
    "start_time": "2023-02-06T17:26:24.024Z"
   },
   {
    "duration": 9,
    "start_time": "2023-02-06T17:26:24.388Z"
   },
   {
    "duration": 7,
    "start_time": "2023-02-06T17:26:24.791Z"
   },
   {
    "duration": 288,
    "start_time": "2023-02-06T17:26:25.187Z"
   },
   {
    "duration": 282,
    "start_time": "2023-02-06T17:26:25.610Z"
   },
   {
    "duration": 1468,
    "start_time": "2023-02-06T17:26:26.000Z"
   },
   {
    "duration": 30,
    "start_time": "2023-02-06T17:26:27.470Z"
   },
   {
    "duration": 19,
    "start_time": "2023-02-06T17:26:27.503Z"
   },
   {
    "duration": 43,
    "start_time": "2023-02-06T17:26:27.525Z"
   },
   {
    "duration": 17,
    "start_time": "2023-02-06T17:26:27.746Z"
   },
   {
    "duration": 18,
    "start_time": "2023-02-06T17:26:27.996Z"
   },
   {
    "duration": 31,
    "start_time": "2023-02-06T17:26:28.238Z"
   },
   {
    "duration": 30,
    "start_time": "2023-02-06T17:26:28.486Z"
   },
   {
    "duration": 84,
    "start_time": "2023-02-06T17:26:28.679Z"
   },
   {
    "duration": 155,
    "start_time": "2023-02-06T17:26:29.281Z"
   },
   {
    "duration": 41,
    "start_time": "2023-02-06T17:26:29.509Z"
   },
   {
    "duration": 79,
    "start_time": "2023-02-06T17:26:29.808Z"
   },
   {
    "duration": 38,
    "start_time": "2023-02-06T17:26:30.494Z"
   },
   {
    "duration": 4,
    "start_time": "2023-02-06T17:26:30.877Z"
   },
   {
    "duration": 229,
    "start_time": "2023-02-06T17:26:31.326Z"
   },
   {
    "duration": 79,
    "start_time": "2023-02-06T17:26:31.794Z"
   },
   {
    "duration": 86,
    "start_time": "2023-02-06T17:26:32.235Z"
   },
   {
    "duration": 38,
    "start_time": "2023-02-06T17:26:32.613Z"
   },
   {
    "duration": 18,
    "start_time": "2023-02-06T17:26:34.535Z"
   },
   {
    "duration": 16,
    "start_time": "2023-02-06T17:26:34.739Z"
   },
   {
    "duration": 92,
    "start_time": "2023-02-06T17:26:34.935Z"
   },
   {
    "duration": 45,
    "start_time": "2023-02-06T17:26:35.343Z"
   },
   {
    "duration": 55,
    "start_time": "2023-02-06T17:26:35.655Z"
   },
   {
    "duration": 83,
    "start_time": "2023-02-06T17:26:38.382Z"
   },
   {
    "duration": 20,
    "start_time": "2023-02-06T17:27:09.243Z"
   },
   {
    "duration": 1823,
    "start_time": "2023-02-06T17:27:39.527Z"
   },
   {
    "duration": 32,
    "start_time": "2023-02-06T17:27:41.353Z"
   },
   {
    "duration": 1779,
    "start_time": "2023-02-06T17:27:50.138Z"
   },
   {
    "duration": 155,
    "start_time": "2023-02-06T17:28:04.817Z"
   },
   {
    "duration": 152,
    "start_time": "2023-02-06T17:28:13.734Z"
   },
   {
    "duration": 59,
    "start_time": "2023-02-06T17:28:16.623Z"
   },
   {
    "duration": 51,
    "start_time": "2023-02-06T17:28:16.815Z"
   },
   {
    "duration": 53,
    "start_time": "2023-02-06T17:28:17.003Z"
   },
   {
    "duration": 3,
    "start_time": "2023-02-06T17:28:17.202Z"
   },
   {
    "duration": 5,
    "start_time": "2023-02-06T17:28:17.440Z"
   },
   {
    "duration": 518,
    "start_time": "2023-02-06T17:28:18.122Z"
   },
   {
    "duration": 12463,
    "start_time": "2023-02-06T17:28:18.642Z"
   },
   {
    "duration": 40,
    "start_time": "2023-02-06T17:28:31.107Z"
   },
   {
    "duration": 3,
    "start_time": "2023-02-06T17:28:31.149Z"
   },
   {
    "duration": 5,
    "start_time": "2023-02-06T17:28:50.116Z"
   },
   {
    "duration": 358,
    "start_time": "2023-02-06T17:28:51.819Z"
   },
   {
    "duration": 17,
    "start_time": "2023-02-06T17:28:52.179Z"
   },
   {
    "duration": 41,
    "start_time": "2023-02-06T17:28:52.783Z"
   },
   {
    "duration": 9,
    "start_time": "2023-02-06T17:28:53.257Z"
   },
   {
    "duration": 2,
    "start_time": "2023-02-06T17:28:53.881Z"
   },
   {
    "duration": 2,
    "start_time": "2023-02-06T17:28:55.579Z"
   },
   {
    "duration": 109562,
    "start_time": "2023-02-06T17:28:56.126Z"
   },
   {
    "duration": 92,
    "start_time": "2023-02-06T17:30:45.694Z"
   },
   {
    "duration": 9,
    "start_time": "2023-02-06T17:30:45.788Z"
   },
   {
    "duration": 6,
    "start_time": "2023-02-06T17:30:45.800Z"
   },
   {
    "duration": 30000,
    "start_time": "2023-02-06T17:30:45.808Z"
   },
   {
    "duration": 99,
    "start_time": "2023-02-06T17:31:15.885Z"
   },
   {
    "duration": 9,
    "start_time": "2023-02-06T17:31:15.986Z"
   },
   {
    "duration": 21968,
    "start_time": "2023-02-06T17:31:15.996Z"
   },
   {
    "duration": 24,
    "start_time": "2023-02-06T17:31:37.965Z"
   },
   {
    "duration": 186966,
    "start_time": "2023-02-06T17:31:37.992Z"
   },
   {
    "duration": 25,
    "start_time": "2023-02-06T17:34:44.959Z"
   },
   {
    "duration": 72,
    "start_time": "2023-02-06T17:34:44.986Z"
   },
   {
    "duration": 31,
    "start_time": "2023-02-06T17:34:45.059Z"
   },
   {
    "duration": 310494,
    "start_time": "2023-02-06T17:34:45.092Z"
   },
   {
    "duration": 18,
    "start_time": "2023-02-06T17:39:55.588Z"
   },
   {
    "duration": 17,
    "start_time": "2023-02-06T17:40:19.759Z"
   },
   {
    "duration": 13,
    "start_time": "2023-02-06T17:40:30.452Z"
   },
   {
    "duration": 29,
    "start_time": "2023-02-06T17:41:05.787Z"
   },
   {
    "duration": 578,
    "start_time": "2023-02-06T17:41:05.818Z"
   },
   {
    "duration": 26,
    "start_time": "2023-02-06T17:41:26.581Z"
   },
   {
    "duration": 11,
    "start_time": "2023-02-06T17:41:36.594Z"
   },
   {
    "duration": 12,
    "start_time": "2023-02-06T17:47:34.082Z"
   },
   {
    "duration": 10,
    "start_time": "2023-02-06T17:50:47.585Z"
   },
   {
    "duration": 3999,
    "start_time": "2023-02-06T18:44:45.281Z"
   },
   {
    "duration": 3469,
    "start_time": "2023-02-06T18:44:49.282Z"
   },
   {
    "duration": 35,
    "start_time": "2023-02-06T18:44:52.753Z"
   },
   {
    "duration": 663,
    "start_time": "2023-02-06T18:44:52.795Z"
   },
   {
    "duration": 181,
    "start_time": "2023-02-06T18:44:53.461Z"
   },
   {
    "duration": 137,
    "start_time": "2023-02-06T18:44:53.644Z"
   },
   {
    "duration": 997,
    "start_time": "2023-02-06T18:44:53.783Z"
   },
   {
    "duration": 36,
    "start_time": "2023-02-06T18:44:54.782Z"
   },
   {
    "duration": 5,
    "start_time": "2023-02-06T18:44:54.820Z"
   },
   {
    "duration": 38,
    "start_time": "2023-02-06T18:44:54.827Z"
   },
   {
    "duration": 45,
    "start_time": "2023-02-06T18:44:54.867Z"
   },
   {
    "duration": 443,
    "start_time": "2023-02-06T18:44:54.914Z"
   },
   {
    "duration": 12,
    "start_time": "2023-02-06T18:44:55.360Z"
   },
   {
    "duration": 30,
    "start_time": "2023-02-06T18:44:55.376Z"
   },
   {
    "duration": 43,
    "start_time": "2023-02-06T18:44:55.408Z"
   },
   {
    "duration": 111,
    "start_time": "2023-02-06T18:44:55.453Z"
   },
   {
    "duration": 17,
    "start_time": "2023-02-06T18:44:55.565Z"
   },
   {
    "duration": 339,
    "start_time": "2023-02-06T18:44:55.592Z"
   },
   {
    "duration": 27,
    "start_time": "2023-02-06T18:44:55.933Z"
   },
   {
    "duration": 9,
    "start_time": "2023-02-06T18:44:55.961Z"
   },
   {
    "duration": 67,
    "start_time": "2023-02-06T18:44:55.972Z"
   },
   {
    "duration": 408,
    "start_time": "2023-02-06T18:44:56.041Z"
   },
   {
    "duration": 379,
    "start_time": "2023-02-06T18:44:56.452Z"
   },
   {
    "duration": 1450,
    "start_time": "2023-02-06T18:44:56.834Z"
   },
   {
    "duration": 30,
    "start_time": "2023-02-06T18:44:58.287Z"
   },
   {
    "duration": 34,
    "start_time": "2023-02-06T18:44:58.318Z"
   },
   {
    "duration": 60,
    "start_time": "2023-02-06T18:44:58.354Z"
   },
   {
    "duration": 17,
    "start_time": "2023-02-06T18:44:58.415Z"
   },
   {
    "duration": 24,
    "start_time": "2023-02-06T18:44:58.434Z"
   },
   {
    "duration": 51,
    "start_time": "2023-02-06T18:44:58.460Z"
   },
   {
    "duration": 36,
    "start_time": "2023-02-06T18:44:58.514Z"
   },
   {
    "duration": 70,
    "start_time": "2023-02-06T18:44:58.554Z"
   },
   {
    "duration": 150,
    "start_time": "2023-02-06T18:44:58.626Z"
   },
   {
    "duration": 54,
    "start_time": "2023-02-06T18:44:58.778Z"
   },
   {
    "duration": 106,
    "start_time": "2023-02-06T18:44:58.835Z"
   },
   {
    "duration": 62,
    "start_time": "2023-02-06T18:44:58.943Z"
   },
   {
    "duration": 8,
    "start_time": "2023-02-06T18:44:59.007Z"
   },
   {
    "duration": 224,
    "start_time": "2023-02-06T18:44:59.017Z"
   },
   {
    "duration": 116,
    "start_time": "2023-02-06T18:44:59.244Z"
   },
   {
    "duration": 87,
    "start_time": "2023-02-06T18:44:59.362Z"
   },
   {
    "duration": 67,
    "start_time": "2023-02-06T18:44:59.453Z"
   },
   {
    "duration": 30,
    "start_time": "2023-02-06T18:44:59.521Z"
   },
   {
    "duration": 45,
    "start_time": "2023-02-06T18:44:59.553Z"
   },
   {
    "duration": 93,
    "start_time": "2023-02-06T18:44:59.605Z"
   },
   {
    "duration": 40,
    "start_time": "2023-02-06T18:44:59.699Z"
   },
   {
    "duration": 62,
    "start_time": "2023-02-06T18:44:59.741Z"
   },
   {
    "duration": 2005,
    "start_time": "2023-02-06T18:44:59.809Z"
   },
   {
    "duration": 161,
    "start_time": "2023-02-06T18:45:01.823Z"
   },
   {
    "duration": 86,
    "start_time": "2023-02-06T18:45:01.986Z"
   },
   {
    "duration": 66,
    "start_time": "2023-02-06T18:45:02.074Z"
   },
   {
    "duration": 70,
    "start_time": "2023-02-06T18:45:02.142Z"
   },
   {
    "duration": 15,
    "start_time": "2023-02-06T18:45:02.214Z"
   },
   {
    "duration": 90,
    "start_time": "2023-02-06T18:45:02.231Z"
   },
   {
    "duration": 522,
    "start_time": "2023-02-06T18:45:02.323Z"
   },
   {
    "duration": 10429,
    "start_time": "2023-02-06T18:45:02.847Z"
   },
   {
    "duration": 53,
    "start_time": "2023-02-06T18:45:13.278Z"
   },
   {
    "duration": 4,
    "start_time": "2023-02-06T18:45:13.333Z"
   },
   {
    "duration": 13,
    "start_time": "2023-02-06T18:45:13.339Z"
   }
  ],
  "kernelspec": {
   "display_name": "Python 3 (ipykernel)",
   "language": "python",
   "name": "python3"
  },
  "language_info": {
   "codemirror_mode": {
    "name": "ipython",
    "version": 3
   },
   "file_extension": ".py",
   "mimetype": "text/x-python",
   "name": "python",
   "nbconvert_exporter": "python",
   "pygments_lexer": "ipython3",
   "version": "3.9.5"
  },
  "toc": {
   "base_numbering": 1,
   "nav_menu": {},
   "number_sections": true,
   "sideBar": true,
   "skip_h1_title": true,
   "title_cell": "Table of Contents",
   "title_sidebar": "Contents",
   "toc_cell": false,
   "toc_position": {
    "height": "calc(100% - 180px)",
    "left": "10px",
    "top": "150px",
    "width": "366.188px"
   },
   "toc_section_display": true,
   "toc_window_display": true
  }
 },
 "nbformat": 4,
 "nbformat_minor": 2
}
